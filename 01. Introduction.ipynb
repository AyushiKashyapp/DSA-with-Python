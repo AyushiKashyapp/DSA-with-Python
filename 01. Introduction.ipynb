{
 "cells": [
  {
   "cell_type": "markdown",
   "metadata": {},
   "source": [
    "# Introduction"
   ]
  },
  {
   "cell_type": "markdown",
   "metadata": {},
   "source": [
    "## Data Structure\n",
    "\n",
    "Different ways of organizing data that can be used effectively.\n",
    "\n",
    "### Types\n",
    "\n",
    "### Primitive \n",
    "\n",
    "Basic data structures that cannot be broken down into smaller data types. \n",
    "Primitive data structures have a fixed size and they are usually smaller in size than the non primitive.\n",
    "Primitive data structures are simpler.\n",
    "Primitive data structures are used for simple operations.\n",
    "Primitive data types are represented in memory as a simple values.\n",
    "\n",
    "Primitive Data Structures are:\n",
    "Integers: Whole numbers without decimal points. \n",
    "Float: Numbers with the decimal points.\n",
    "Strings: Sequence of the characters or symbols enclosed in quotation marks and Booleans: Values that represent true or false.\n",
    "\n",
    "### Non Primitive\n",
    "\n",
    "Complex data structures that can be broken down into smaller data types.\n",
    "Non primitive data structures can be larger in size and can grow or shrink dynamically.\n",
    "On the other hand, non primitive data structures are more complex and can be composed of multiple primitive.\n",
    "Non primitive data structures are used for complex operations such as data manipulation, sorting or searching.\n",
    "Non primitive data types are usually represented in memory as pointers to other memory locations.\n",
    "\n",
    "Non Primitve Data Structures can be sub - divided into:\n",
    "\n",
    "Linear: Lists, tuple, arrays, linked lists, stacks, and queues.\n",
    "Non - Linear, which cannot be arraned in sequential order. These data structures are used to represent a hierarchical relationship between data elements where each element is connected to one or more other elements in a specific way: Sets, dictionaries, trees and graphs.\n",
    "User - Defined: We need external library or we can create by ourselves."
   ]
  },
  {
   "cell_type": "markdown",
   "metadata": {},
   "source": [
    "## Algorithm\n",
    "\n",
    "Set of instructions to perform a task.\n",
    "Set of rules for a computer program to accomplish a task.\n",
    "Compression Algorithm: Help in live streaming videos across multiple internet channels\n",
    "Graph Algorithm: Help in finding the shortest path on a map.\n",
    "\n",
    "Two criteria for good algorithm:\n",
    "Correctness\n",
    "Efficiency\n",
    "\n",
    "### Types\n",
    "\n",
    "### Sorting\n",
    "\n",
    "Sorting algorithms are used to store data in ascending or descending order.\n",
    "Bubble sort, selection sort, insertion sort and so on.\n",
    "\n",
    "### Searching\n",
    "\n",
    "Searching algorithms are used to find a specific value in a data set.\n",
    "Linear search, binary search and some other searching algorithms.\n",
    "\n",
    "### Graph\n",
    "\n",
    "Graph algorithms are used to work with data that can be represented as graph.\n",
    "Depth first search, breadth first search and Dijkstra's algorithms.\n",
    "\n",
    "### Dynamic Programming\n",
    "\n",
    "Dynamic programming algorithms are used to solve problems by breaking them down into the smaller subproblems.\n",
    "Knapsack problems.\n",
    "\n",
    "### Divide and conquer\n",
    "\n",
    "Divide and conquer algorithms are used to solve problems by breaking them down in a smaller subproblems, solving each sub problem independently and combining the results.\n",
    "Mergesort or quicksort.\n",
    "\n",
    "### Recursive\n",
    "\n",
    "Recursive algorithms are used to solve the problems by breaking them down in a smaller sub-problems that are in a similar nature.\n",
    "\n",
    "\n",
    "\n"
   ]
  }
 ],
 "metadata": {
  "kernelspec": {
   "display_name": "Python 3",
   "language": "python",
   "name": "python3"
  },
  "language_info": {
   "codemirror_mode": {
    "name": "ipython",
    "version": 3
   },
   "file_extension": ".py",
   "mimetype": "text/x-python",
   "name": "python",
   "nbconvert_exporter": "python",
   "pygments_lexer": "ipython3",
   "version": "3.12.6"
  }
 },
 "nbformat": 4,
 "nbformat_minor": 2
}
