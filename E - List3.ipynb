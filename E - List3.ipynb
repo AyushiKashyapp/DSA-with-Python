{
 "cells": [
  {
   "cell_type": "markdown",
   "id": "7c2995b1-4cb0-4837-8d47-6852b1b815e0",
   "metadata": {},
   "source": [
    "# List\n",
    "\n",
    "Found here:\n",
    "\n",
    "https://www.w3resource.com/python-exercises/list/"
   ]
  },
  {
   "cell_type": "markdown",
   "id": "c8abb622-3fc2-4d3a-a2e7-f009f38576b7",
   "metadata": {},
   "source": [
    "1. Sum Items in List\n",
    "\n",
    "Write a Python program to sum all the items in a list."
   ]
  },
  {
   "cell_type": "code",
   "execution_count": 1,
   "id": "eea0abd2-1684-4abb-a639-13337a832a49",
   "metadata": {},
   "outputs": [
    {
     "name": "stdout",
     "output_type": "stream",
     "text": [
      "Sum:  16\n"
     ]
    }
   ],
   "source": [
    "l = [1,3,5,7]\n",
    "s = 0\n",
    "for i in l:\n",
    "    s += i\n",
    "\n",
    "print('Sum: ',s)"
   ]
  },
  {
   "cell_type": "markdown",
   "id": "465d5e2e-086a-484c-a4d4-2e78546a9a0f",
   "metadata": {},
   "source": [
    "2. Multiply Items in List\n",
    "\n",
    "Write a Python program to multiply all the items in a list."
   ]
  },
  {
   "cell_type": "code",
   "execution_count": 3,
   "id": "80d09bec-ab10-4367-9a06-1d751e08edd8",
   "metadata": {},
   "outputs": [
    {
     "name": "stdout",
     "output_type": "stream",
     "text": [
      "Multiply:  105\n"
     ]
    }
   ],
   "source": [
    "m = 1\n",
    "for i in l:\n",
    "    m *= i\n",
    "print('Multiply: ',m)"
   ]
  },
  {
   "cell_type": "markdown",
   "id": "d6a72ef0-3f29-4387-9a25-4781e73e9771",
   "metadata": {},
   "source": [
    "3. Get Largest Number in List\n",
    "\n",
    "Write a Python program to get the largest number from a list."
   ]
  },
  {
   "cell_type": "code",
   "execution_count": 4,
   "id": "13fb54ec-1922-4adb-b15c-7e6ded47fa9f",
   "metadata": {},
   "outputs": [
    {
     "name": "stdout",
     "output_type": "stream",
     "text": [
      "Largest Number:  7\n"
     ]
    }
   ],
   "source": [
    "largest_n = l[0]\n",
    "for i in l:\n",
    "    if i > largest_n:\n",
    "        largest_n = i\n",
    "print('Largest Number: ',largest_n)"
   ]
  },
  {
   "cell_type": "markdown",
   "id": "e35db425-3a42-4f20-b4f9-12788de24cd1",
   "metadata": {},
   "source": [
    "4. Get Smallest Number in List\n",
    "\n",
    "Write a Python program to get the smallest number from a list."
   ]
  },
  {
   "cell_type": "code",
   "execution_count": 5,
   "id": "387fb340-8448-4452-ba76-5e4ff6533c62",
   "metadata": {},
   "outputs": [
    {
     "name": "stdout",
     "output_type": "stream",
     "text": [
      "Smallest Number:  1\n"
     ]
    }
   ],
   "source": [
    "smallest_n = l[0]\n",
    "for i in l:\n",
    "    if i < smallest_n:\n",
    "        smallest_n = i\n",
    "print('Smallest Number: ',smallest_n)"
   ]
  },
  {
   "cell_type": "markdown",
   "id": "d923e2c1-6976-4413-93ff-842a1d271cc1",
   "metadata": {},
   "source": [
    "5. Count Strings with Same Start and End\n",
    "\n",
    "Write a Python program to count the number of strings from a given list of strings. The string length is 2 or more and the first and last characters are the same.\n",
    "Sample List : ['abc', 'xyz', 'aba', '1221']\n",
    "Expected Result : 2"
   ]
  },
  {
   "cell_type": "code",
   "execution_count": 6,
   "id": "9f85f620-a188-44aa-b54c-e84d13cc8577",
   "metadata": {},
   "outputs": [
    {
     "name": "stdout",
     "output_type": "stream",
     "text": [
      "2\n"
     ]
    }
   ],
   "source": [
    "l =  ['abc', 'xyz', 'aba', '1221']\n",
    "count = 0\n",
    "for i in range(len(l)):\n",
    "    if len(l[i]) > 2:\n",
    "        if l[i][0] == l[i][-1]:\n",
    "            count += 1\n",
    "\n",
    "print(count)"
   ]
  },
  {
   "cell_type": "markdown",
   "id": "1b29978a-965b-4671-9987-9db97cd5dcf1",
   "metadata": {},
   "source": [
    "6. Sort Tuples by Last Element\n",
    "\n",
    "Write a Python program to get a list, sorted in increasing order by the last element in each tuple from a given list of non-empty tuples.\n",
    "Sample List : [(2, 5), (1, 2), (4, 4), (2, 3), (2, 1)]\n",
    "Expected Result : [(2, 1), (1, 2), (2, 3), (4, 4), (2, 5)]"
   ]
  },
  {
   "cell_type": "code",
   "execution_count": 8,
   "id": "676f9712-44c4-4149-9a46-8e99d7ee634d",
   "metadata": {},
   "outputs": [
    {
     "name": "stdout",
     "output_type": "stream",
     "text": [
      "[(2, 1), (1, 2), (2, 3), (4, 4), (2, 5)]\n"
     ]
    }
   ],
   "source": [
    "l = [(2, 5), (1, 2), (4, 4), (2, 3), (2, 1)]\n",
    "\n",
    "l = sorted(l, key = lambda x:x[1])\n",
    "print(l)"
   ]
  },
  {
   "cell_type": "markdown",
   "id": "e0cbb5fc-5729-4a4c-bba5-09f63ddd6b90",
   "metadata": {},
   "source": [
    "7. Remove Duplicates from List\n",
    "\n",
    "Write a Python program to remove duplicates from a list."
   ]
  },
  {
   "cell_type": "code",
   "execution_count": 10,
   "id": "f13ce6af-ae17-4ba9-b21d-5cce73afc199",
   "metadata": {},
   "outputs": [
    {
     "name": "stdout",
     "output_type": "stream",
     "text": [
      "[1, 2, 3, 4, 5]\n",
      "[1, 2, 4, 3, 5]\n"
     ]
    }
   ],
   "source": [
    "l = [1,2,4,3,4,5,1]\n",
    "\n",
    "l1 = list(set(l))\n",
    "print(l1)\n",
    "\n",
    "seen = set()\n",
    "l2 = [x for x in l if not (x in seen or seen.add(x))]\n",
    "print(l2)"
   ]
  },
  {
   "cell_type": "markdown",
   "id": "d321c6c5-b62c-44aa-af44-5c3b74ab31b0",
   "metadata": {},
   "source": [
    "8. Check if List is Empty\n",
    "\n",
    "Write a Python program to check if a list is empty or not."
   ]
  },
  {
   "cell_type": "code",
   "execution_count": 11,
   "id": "a5dccccf-d62f-4485-be9e-58f1c6ebcfb2",
   "metadata": {},
   "outputs": [
    {
     "name": "stdout",
     "output_type": "stream",
     "text": [
      "False\n",
      "True\n"
     ]
    }
   ],
   "source": [
    "def checkEmptyList(l):\n",
    "    return len(l) == 0\n",
    "\n",
    "lo = []\n",
    "print(checkEmptyList(l))\n",
    "print(checkEmptyList(lo))"
   ]
  },
  {
   "cell_type": "markdown",
   "id": "ccd7bffa-0ea3-4902-ac26-d861ac530926",
   "metadata": {},
   "source": [
    "9. Clone or Copy a List\n",
    "\n",
    "Write a Python program to clone or copy a list."
   ]
  },
  {
   "cell_type": "code",
   "execution_count": 13,
   "id": "de082d75-132a-4d88-a125-1e0cda80ba10",
   "metadata": {},
   "outputs": [
    {
     "name": "stdout",
     "output_type": "stream",
     "text": [
      "[1, 2, 4, 3, 4, 5, 1]\n",
      "[1, 2, 4, 3, 4, 5, 1]\n"
     ]
    }
   ],
   "source": [
    "lClone1 = [x for x in l]\n",
    "print(lClone1)\n",
    "\n",
    "lClone2 = list(l)\n",
    "print(lClone2)"
   ]
  },
  {
   "cell_type": "markdown",
   "id": "5bd61f3e-129c-4f5b-bed3-5312ee5b54b2",
   "metadata": {},
   "source": [
    "10. Find Words Longer Than n\n",
    "\n",
    "Write a Python program to find the list of words that are longer than n from a given list of words."
   ]
  },
  {
   "cell_type": "code",
   "execution_count": 14,
   "id": "1dd38281-eec8-42b0-8fcb-321d1aaa6199",
   "metadata": {},
   "outputs": [
    {
     "name": "stdout",
     "output_type": "stream",
     "text": [
      "['quick', 'brown', 'jumps', 'over', 'lazy']\n"
     ]
    }
   ],
   "source": [
    "def wordsLonger(n, l):\n",
    "    return [word for word in l.split(\" \") if len(word) > n]\n",
    "\n",
    "print(wordsLonger(3, \"The quick brown fox jumps over the lazy dog\"))"
   ]
  },
  {
   "cell_type": "markdown",
   "id": "b4bff139-b421-47b3-8551-9cc11dffbb8e",
   "metadata": {},
   "source": [
    "11. Check Common Member Between Two Lists\n",
    "\n",
    "Write a Python function that takes two lists and returns True if they have at least one common member."
   ]
  },
  {
   "cell_type": "code",
   "execution_count": 16,
   "id": "43429738-e4b5-4a4a-8737-d619ceb73f0a",
   "metadata": {},
   "outputs": [
    {
     "name": "stdout",
     "output_type": "stream",
     "text": [
      "True\n",
      "False\n"
     ]
    }
   ],
   "source": [
    "def commonList(l1, l2):\n",
    "    return any(x in l2 for x in l1)\n",
    "\n",
    "print(commonList([1, 2, 3, 4, 5], [5, 6, 7, 8, 9]))\n",
    "print(commonList([1, 2, 3, 4, 5], [6, 7, 8, 9])) "
   ]
  },
  {
   "cell_type": "markdown",
   "id": "17d48904-4218-414e-865e-ec4ab2511383",
   "metadata": {},
   "source": [
    "12. Remove Specific Elements from List\n",
    "\n",
    "Write a Python program to print a specified list after removing the 0th, 4th and 5th elements.\n",
    "Sample List : ['Red', 'Green', 'White', 'Black', 'Pink', 'Yellow']\n",
    "Expected Output : ['Green', 'White', 'Black']"
   ]
  },
  {
   "cell_type": "code",
   "execution_count": 17,
   "id": "0d57997b-d602-4d1d-b414-80407961feb8",
   "metadata": {},
   "outputs": [
    {
     "name": "stdout",
     "output_type": "stream",
     "text": [
      "['Green', 'White', 'Black']\n"
     ]
    }
   ],
   "source": [
    "l =  ['Red', 'Green', 'White', 'Black', 'Pink', 'Yellow']\n",
    "\n",
    "def specificElement(l):\n",
    "    return [l[i] for i in range(len(l)) if i not in (0,4,5)]\n",
    "\n",
    "print(specificElement(l))"
   ]
  },
  {
   "cell_type": "markdown",
   "id": "495953cc-3100-4f37-b1ba-f325b3c34039",
   "metadata": {},
   "source": [
    "13. Generate 3D Array\n",
    "\n",
    "Write a Python program to generate a 3*4*6 3D array whose each element is *."
   ]
  },
  {
   "cell_type": "code",
   "execution_count": 20,
   "id": "bbb13e5e-9274-4dc1-9f31-0fa8d3d74c15",
   "metadata": {},
   "outputs": [
    {
     "name": "stdout",
     "output_type": "stream",
     "text": [
      "[[['*', '*', '*', '*', '*', '*'], ['*', '*', '*', '*', '*', '*'], ['*', '*', '*', '*', '*', '*'], ['*', '*', '*', '*', '*', '*']], [['*', '*', '*', '*', '*', '*'], ['*', '*', '*', '*', '*', '*'], ['*', '*', '*', '*', '*', '*'], ['*', '*', '*', '*', '*', '*']], [['*', '*', '*', '*', '*', '*'], ['*', '*', '*', '*', '*', '*'], ['*', '*', '*', '*', '*', '*'], ['*', '*', '*', '*', '*', '*']]]\n"
     ]
    }
   ],
   "source": [
    "matrix = [[['*' for i in range(6)] for j in range(4)] for k in range(3)]\n",
    "print(matrix)"
   ]
  },
  {
   "cell_type": "markdown",
   "id": "db231db8-ba5a-40ff-9a3d-8655578fb72e",
   "metadata": {},
   "source": [
    "14. Remove Even Numbers from List\n",
    "\n",
    "Write a Python program to print the numbers of a specified list after removing even numbers from it."
   ]
  },
  {
   "cell_type": "code",
   "execution_count": 22,
   "id": "33895273-dc32-4429-b27e-421c9d92e214",
   "metadata": {},
   "outputs": [
    {
     "name": "stdout",
     "output_type": "stream",
     "text": [
      "[2, 4, 6, 8]\n"
     ]
    }
   ],
   "source": [
    "l = [1,2,3,4,5,6,7,8,9]\n",
    "def evenNumber(l):\n",
    "    return [x for x in l if x % 2 == 0]\n",
    "\n",
    "print(evenNumber(l))"
   ]
  },
  {
   "cell_type": "markdown",
   "id": "25795a27-4759-411a-9b37-4a160952d3ec",
   "metadata": {},
   "source": [
    "15. Shuffle List\n",
    "\n",
    "Write a Python program to shuffle and print a specified list."
   ]
  },
  {
   "cell_type": "code",
   "execution_count": 23,
   "id": "a8ac3894-eae1-4bd1-b46c-aeedb062433f",
   "metadata": {},
   "outputs": [
    {
     "name": "stdout",
     "output_type": "stream",
     "text": [
      "[7, 9, 8, 3, 4, 2, 6, 5, 1]\n"
     ]
    }
   ],
   "source": [
    "import random\n",
    "\n",
    "random.shuffle(l)\n",
    "print(l)"
   ]
  },
  {
   "cell_type": "markdown",
   "id": "51297ddc-8a42-4326-8627-623b143714ee",
   "metadata": {},
   "source": [
    "16. Generate Square Numbers in Range\n",
    "\n",
    "Write a Python program to generate and print a list of the first and last 5 elements where the values are square numbers between 1 and 30 (both included)."
   ]
  },
  {
   "cell_type": "code",
   "execution_count": 28,
   "id": "a423193b-a52f-40c9-bd96-faf50079a441",
   "metadata": {},
   "outputs": [
    {
     "name": "stdout",
     "output_type": "stream",
     "text": [
      "[1, 4, 9, 16, 25, 676, 729, 784, 841, 900]\n"
     ]
    }
   ],
   "source": [
    "ls = [x*x for x in range(1, 31)]\n",
    "selected_l = ls[:5] + ls[-5:]\n",
    "print(selected_l)   "
   ]
  },
  {
   "cell_type": "markdown",
   "id": "974729b0-ce36-410f-9cca-195493b9a391",
   "metadata": {},
   "source": [
    "17. Check If All Numbers Are Prime\n",
    "\n",
    "Write a Python program to check if each number is prime in a given list of numbers. Return True if all numbers are prime otherwise False.\n",
    "Sample Data:\n",
    "([0, 3, 4, 7, 9]) -> False\n",
    "([3, 5, 7, 13]) -> True\n",
    "([1, 5, 3]) -> False"
   ]
  },
  {
   "cell_type": "code",
   "execution_count": 31,
   "id": "7d593793-c06e-4082-9e30-fca5784d0999",
   "metadata": {},
   "outputs": [
    {
     "name": "stdout",
     "output_type": "stream",
     "text": [
      "False\n",
      "True\n",
      "False\n"
     ]
    }
   ],
   "source": [
    "l1 = [0, 3, 4, 7, 9]\n",
    "l2 = [3, 5, 7, 13]\n",
    "l3 = [1, 5, 3]\n",
    "\n",
    "import math\n",
    "\n",
    "def is_prime(n):\n",
    "    if n <= 1:\n",
    "        return False\n",
    "    for i in range(2, int(math.sqrt(n)) + 1):\n",
    "        if n % i == 0:\n",
    "            return False\n",
    "    return True\n",
    "\n",
    "def checkPrime(l):\n",
    "    return all(is_prime(x) for x in l)\n",
    "\n",
    "print(checkPrime(l1))\n",
    "print(checkPrime(l2))\n",
    "print(checkPrime(l3))"
   ]
  },
  {
   "cell_type": "markdown",
   "id": "eaf6e910-f748-4765-b00b-0c6540b15b1c",
   "metadata": {},
   "source": [
    "18. Generate All List Permutations\n",
    "\n",
    "Write a Python program to generate all permutations of a list in Python."
   ]
  },
  {
   "cell_type": "code",
   "execution_count": 32,
   "id": "2d8f2af0-a107-477d-b731-008d100fef55",
   "metadata": {},
   "outputs": [
    {
     "name": "stdout",
     "output_type": "stream",
     "text": [
      "[(1, 2, 3), (1, 3, 2), (2, 1, 3), (2, 3, 1), (3, 1, 2), (3, 2, 1)]\n"
     ]
    }
   ],
   "source": [
    "import itertools\n",
    "\n",
    "print(list(itertools.permutations([1,2,3])))"
   ]
  },
  {
   "cell_type": "markdown",
   "id": "6ce5b04c-9bb3-4c4b-92fb-ba6918791363",
   "metadata": {},
   "source": [
    "19. Calculate Difference Between Lists\n",
    "\n",
    "Write a Python program to calculate the difference between the two lists."
   ]
  },
  {
   "cell_type": "code",
   "execution_count": 33,
   "id": "4636b35c-ffe1-40b9-a0f7-80ff6dd700ba",
   "metadata": {},
   "outputs": [
    {
     "name": "stdout",
     "output_type": "stream",
     "text": [
      "[3, 5, 9, 2, 4, 6, 8]\n"
     ]
    }
   ],
   "source": [
    "def differenceList(l1, l2):\n",
    "    return [x for x in l1 if x not in l2] + [y for y in l2 if y not in l1]\n",
    "\n",
    "l1 = [1, 3, 5, 7, 9]\n",
    "l2 = [1, 2, 4, 6, 7, 8]\n",
    "print(differenceList(l1, l2))"
   ]
  },
  {
   "cell_type": "markdown",
   "id": "8b1973d3-88f5-457a-9498-22e5a80a317f",
   "metadata": {},
   "source": [
    "20. Access List Indices\n",
    "\n",
    "Write a Python program to access the index of a list."
   ]
  },
  {
   "cell_type": "code",
   "execution_count": 36,
   "id": "a115a5df-e3af-4454-8f32-32c3e06d18fb",
   "metadata": {},
   "outputs": [
    {
     "name": "stdout",
     "output_type": "stream",
     "text": [
      "9\n",
      "Invalid Index\n"
     ]
    }
   ],
   "source": [
    "def accessListIndex(l, ind):\n",
    "    if ind < len(l) and ind > 0:\n",
    "        return l[ind]\n",
    "    else:\n",
    "        return 'Invalid Index'\n",
    "\n",
    "print(accessListIndex(l1, 4))\n",
    "print(accessListIndex(l1, 5))"
   ]
  },
  {
   "cell_type": "markdown",
   "id": "81534fe8-bf2a-4db1-a95e-43a1c7aa0804",
   "metadata": {},
   "source": [
    "21. Convert List to String\n",
    "\n",
    "Write a Python program to convert a list of characters into a string."
   ]
  },
  {
   "cell_type": "code",
   "execution_count": 37,
   "id": "81f52187-2a45-428d-8f37-305bc85e6579",
   "metadata": {},
   "outputs": [
    {
     "name": "stdout",
     "output_type": "stream",
     "text": [
      "abcd\n"
     ]
    }
   ],
   "source": [
    "def listToString(l):\n",
    "    return ''.join(l)\n",
    "\n",
    "print(listToString(['a', 'b', 'c', 'd']))"
   ]
  },
  {
   "cell_type": "markdown",
   "id": "22722d92-864e-4664-b2ee-3688378aa699",
   "metadata": {},
   "source": [
    "22. Find Index of List Item\n",
    "\n",
    "Write a Python program to find the index of an item in a specified list."
   ]
  },
  {
   "cell_type": "code",
   "execution_count": 39,
   "id": "ecdfb734-6810-4c77-8e13-4486497b7f08",
   "metadata": {},
   "outputs": [
    {
     "name": "stdout",
     "output_type": "stream",
     "text": [
      "1\n"
     ]
    }
   ],
   "source": [
    "def findIndex(l, ele):\n",
    "    for i in range(len(l)):\n",
    "        if l[i] == ele:\n",
    "            return i\n",
    "\n",
    "print(findIndex([10, 30, 4, -6], 30))"
   ]
  },
  {
   "cell_type": "markdown",
   "id": "bb9e986d-c922-42eb-9d04-2219ba7bc102",
   "metadata": {},
   "source": [
    "23. Flatten Shallow List\n",
    "\n",
    "Write a Python program to flatten a shallow list."
   ]
  },
  {
   "cell_type": "code",
   "execution_count": 40,
   "id": "6d91b66b-0743-4f5f-899c-f76ce3a9623b",
   "metadata": {},
   "outputs": [
    {
     "name": "stdout",
     "output_type": "stream",
     "text": [
      "[2, 4, 3, 1, 5, 6, 9, 7, 9, 0]\n"
     ]
    }
   ],
   "source": [
    "l = [[2,4,3],[1,5,6],[9],[7,9,0]]\n",
    "\n",
    "flatten_list = [i for x in l for i in x]\n",
    "print(flatten_list)"
   ]
  },
  {
   "cell_type": "markdown",
   "id": "b32803b1-aa93-4ced-8227-715229ada670",
   "metadata": {},
   "source": [
    "24. Append One List to Another\n",
    "\n",
    "Write a Python program to append a list to the second list."
   ]
  },
  {
   "cell_type": "code",
   "execution_count": 42,
   "id": "b758ef1d-96cf-4d0c-89ba-591f0af0319c",
   "metadata": {},
   "outputs": [
    {
     "name": "stdout",
     "output_type": "stream",
     "text": [
      "l1: [1, 3, 5, 7, 9, 1, 2, 4, 6, 7, 8], l2: [1, 2, 4, 6, 7, 8]\n",
      "Appended List: [1, 3, 5, 7, 9, 1, 2, 4, 6, 7, 8, 1, 2, 4, 6, 7, 8]\n"
     ]
    }
   ],
   "source": [
    "print(f\"l1: {l1}, l2: {l2}\")\n",
    "print(f\"Appended List: {l1 + l2}\")"
   ]
  },
  {
   "cell_type": "markdown",
   "id": "df0d7cbb-8e95-4b4c-aec6-9979498b1218",
   "metadata": {},
   "source": [
    "25. Select Random Item from List\n",
    "\n",
    "Write a Python program to select an item randomly from a list."
   ]
  },
  {
   "cell_type": "code",
   "execution_count": 45,
   "id": "074e819c-a888-44da-b3aa-d783521b207f",
   "metadata": {},
   "outputs": [
    {
     "name": "stdout",
     "output_type": "stream",
     "text": [
      "4\n"
     ]
    }
   ],
   "source": [
    "import random\n",
    "\n",
    "randomEle = random.choice(flatten_list)\n",
    "print(randomEle)"
   ]
  },
  {
   "cell_type": "markdown",
   "id": "061172e7-fb0b-41c4-b708-e75c1254c1ea",
   "metadata": {},
   "source": [
    "26. Check Circularly Identical Lists\n",
    "\n",
    "Write a Python program to check whether two lists are circularly identical."
   ]
  },
  {
   "cell_type": "code",
   "execution_count": 54,
   "id": "680339a9-b6ae-4de0-a164-842912c0c1c6",
   "metadata": {},
   "outputs": [
    {
     "name": "stdout",
     "output_type": "stream",
     "text": [
      "[10, 10, 0, 0, 10, 10, 10, 0, 0, 10]\n",
      "False\n",
      "False\n"
     ]
    }
   ],
   "source": [
    "def circularList(l1, l2):\n",
    "    if len(l1) != len(l2):\n",
    "        return False\n",
    "    return l2 in (l1 + l1)\n",
    "\n",
    "l1 = [10, 10, 0, 0, 10]\n",
    "l2 = [10, 10, 10, 0, 0]\n",
    "l3 = [1, 10, 10, 0, 0]\n",
    "\n",
    "print(l1 + l1)\n",
    "print(circularList(l1, l2))\n",
    "print(circularList(l1, l3))"
   ]
  },
  {
   "cell_type": "markdown",
   "id": "cc820644-72f7-4625-99ea-50ebf50cd50f",
   "metadata": {},
   "source": [
    "27. Find Second Smallest Number in List\n",
    "\n",
    "Write a Python program to find the second smallest number in a list."
   ]
  },
  {
   "cell_type": "code",
   "execution_count": 60,
   "id": "a194332f-13c2-4dd4-8a08-da2fa1f85f88",
   "metadata": {},
   "outputs": [
    {
     "name": "stdout",
     "output_type": "stream",
     "text": [
      "1\n"
     ]
    }
   ],
   "source": [
    "def secondSmallest(l):\n",
    "    ls = list(set(l))\n",
    "    ls.sort(reverse = True)\n",
    "    return ls[-2]\n",
    "\n",
    "print(secondSmallest(flatten_list))"
   ]
  },
  {
   "cell_type": "markdown",
   "id": "3062ab03-bc90-4bc0-92c2-cc89ee54a33f",
   "metadata": {},
   "source": [
    "28. Find Second Largest Number in List\n",
    "\n",
    "Write a Python program to find the second largest number in a list."
   ]
  },
  {
   "cell_type": "code",
   "execution_count": 61,
   "id": "64490f78-62f4-452f-bca9-cf4cac885d3c",
   "metadata": {},
   "outputs": [
    {
     "name": "stdout",
     "output_type": "stream",
     "text": [
      "7\n"
     ]
    }
   ],
   "source": [
    "def secondLargest(l):\n",
    "    ls = list(set(l))\n",
    "    ls.sort()\n",
    "    return ls[-2]\n",
    "\n",
    "print(secondLargest(flatten_list))"
   ]
  },
  {
   "cell_type": "markdown",
   "id": "fc3a4404-9aac-4d87-bdfe-07c2b55de705",
   "metadata": {},
   "source": [
    "29. Get Unique Values from List\n",
    "\n",
    "Write a Python program to get unique values from a list."
   ]
  },
  {
   "cell_type": "code",
   "execution_count": 62,
   "id": "3039f8b4-e623-4192-be4d-79bb7ff0b6e6",
   "metadata": {},
   "outputs": [
    {
     "name": "stdout",
     "output_type": "stream",
     "text": [
      "[0, 1, 2, 3, 4, 5, 6, 7, 9]\n"
     ]
    }
   ],
   "source": [
    "def uniqueValues(l):\n",
    "    return list(set(l))\n",
    "\n",
    "print(uniqueValues(flatten_list))"
   ]
  },
  {
   "cell_type": "markdown",
   "id": "73f12e2a-e98a-4746-bf38-53393da687bd",
   "metadata": {},
   "source": [
    "30. Count Frequency of List Elements\n",
    "\n",
    "Write a Python program to get the frequency of elements in a list."
   ]
  },
  {
   "cell_type": "code",
   "execution_count": 63,
   "id": "cac6e707-6383-4c37-b27f-5cf332a3f011",
   "metadata": {},
   "outputs": [
    {
     "name": "stdout",
     "output_type": "stream",
     "text": [
      "{9: 2, 7: 1, 6: 1, 5: 1, 4: 1, 3: 1, 2: 1, 1: 1, 0: 1}\n"
     ]
    }
   ],
   "source": [
    "def countElement(l):\n",
    "    count = {}\n",
    "    for i in l:\n",
    "        if i in count:\n",
    "            count[i] += 1\n",
    "        else:\n",
    "            count[i] = 1\n",
    "    return count\n",
    "\n",
    "print(countElement(flatten_list))"
   ]
  },
  {
   "cell_type": "markdown",
   "id": "be8e8b8f-cab7-45d0-8692-b28979e8f1f5",
   "metadata": {},
   "source": [
    "31. Count Elements in List Within Range\n",
    "\n",
    "Write a Python program to count the number of elements in a list within a specified range."
   ]
  },
  {
   "cell_type": "code",
   "execution_count": 64,
   "id": "80f768ee-c898-425a-8585-97d54bffd349",
   "metadata": {},
   "outputs": [
    {
     "name": "stdout",
     "output_type": "stream",
     "text": [
      "{5: 1, 4: 1, 3: 1, 2: 1}\n"
     ]
    }
   ],
   "source": [
    "def countElementRange(l, maxVal, minVal):\n",
    "    count = {}\n",
    "    for i in l:\n",
    "        if i <= maxVal and i >= minVal:\n",
    "            if i in count:\n",
    "                count[i] += 1\n",
    "            else:\n",
    "                count[i] = 1\n",
    "    return count\n",
    "\n",
    "print(countElementRange(flatten_list, 5, 2))"
   ]
  },
  {
   "cell_type": "markdown",
   "id": "db522a83-471c-4238-bb44-72dd4553a6bd",
   "metadata": {},
   "source": [
    "32. Check if List Contains Sublist\n",
    "\n",
    "Write a Python program to check whether a list contains a sublist."
   ]
  },
  {
   "cell_type": "code",
   "execution_count": 68,
   "id": "e3c4a9ef-1055-4b1a-82e1-f36ade809d9d",
   "metadata": {},
   "outputs": [
    {
     "name": "stdout",
     "output_type": "stream",
     "text": [
      "True\n",
      "False\n"
     ]
    }
   ],
   "source": [
    "def sublistCheck(l, sl):\n",
    "    subsetFlag = False\n",
    "    if sl == []:\n",
    "        subsetFlag = True\n",
    "    elif sl == l:\n",
    "        subsetFlag = True\n",
    "    elif len(sl) > len(l):\n",
    "        subsetFlag = False\n",
    "    else:\n",
    "        for i in range(len(l)):\n",
    "            if l[i] == sl[0]:\n",
    "                n = 1\n",
    "                while(n < len(sl)) and (l[i+n] == sl[n]):\n",
    "                    n += 1\n",
    "                if n == len(sl):\n",
    "                    subsetFlag = True\n",
    "    return subsetFlag\n",
    "\n",
    "a = [2, 4, 3, 5, 7]\n",
    "b = [4, 3]\n",
    "c = [3, 7]\n",
    "\n",
    "print(sublistCheck(a,b))\n",
    "print(sublistCheck(a,c))"
   ]
  },
  {
   "cell_type": "markdown",
   "id": "bdd78170-74a4-4639-b369-7da1305995ea",
   "metadata": {},
   "source": [
    "33. Generate All Sublists\n",
    "\n",
    "Write a Python program to generate all sublists of a list."
   ]
  },
  {
   "cell_type": "code",
   "execution_count": 69,
   "id": "0fa9e9f5-c03f-4635-adb6-9454f1c423df",
   "metadata": {},
   "outputs": [
    {
     "name": "stdout",
     "output_type": "stream",
     "text": [
      "[[], [10], [20], [30], [40], [10, 20], [10, 30], [10, 40], [20, 30], [20, 40], [30, 40], [10, 20, 30], [10, 20, 40], [10, 30, 40], [20, 30, 40], [10, 20, 30, 40]]\n",
      "[[], ['X'], ['Y'], ['Z'], ['X', 'Y'], ['X', 'Z'], ['Y', 'Z'], ['X', 'Y', 'Z']]\n"
     ]
    }
   ],
   "source": [
    "from itertools import combinations\n",
    "\n",
    "def sub_lists(l):\n",
    "    subs = []\n",
    "    for i in range(0, len(l) + 1):\n",
    "        temp = [list(x) for x in combinations(l, i)]\n",
    "        if len(temp) > 0:\n",
    "            subs.extend(temp)\n",
    "    return subs\n",
    "\n",
    "l1 = [10, 20, 30, 40]\n",
    "l2 = ['X', 'Y', 'Z']\n",
    "\n",
    "print(sub_lists(l1))\n",
    "print(sub_lists(l2))"
   ]
  },
  {
   "cell_type": "markdown",
   "id": "08b7da11-4836-48ab-8fd9-41c90421462f",
   "metadata": {},
   "source": [
    "35. Create List with Range Concatenation\n",
    "\n",
    "Write a Python program to create a list by concatenating a given list with a range from 1 to n.\n",
    "Sample list : ['p', 'q']\n",
    "n =5\n",
    "Sample Output : ['p1', 'q1', 'p2', 'q2', 'p3', 'q3', 'p4', 'q4', 'p5', 'q5']"
   ]
  },
  {
   "cell_type": "code",
   "execution_count": 70,
   "id": "5a45e100-3345-4658-936e-0c7648b34e72",
   "metadata": {},
   "outputs": [
    {
     "name": "stdout",
     "output_type": "stream",
     "text": [
      "['p5', 'p5', 'p5', 'p5', 'p5', 'q5', 'q5', 'q5', 'q5', 'q5']\n"
     ]
    }
   ],
   "source": [
    "l = ['p','q']\n",
    "n = 5\n",
    "listConcat = []\n",
    "for i in l:\n",
    "    for j in range(n):\n",
    "        listConcat.append(i + str(n))\n",
    "\n",
    "print(listConcat)"
   ]
  },
  {
   "cell_type": "markdown",
   "id": "8fcb8983-2a50-45f2-9a12-963708282258",
   "metadata": {},
   "source": [
    "36. Get Variable ID or String\n",
    "\n",
    "Write a Python program to get a variable with an identification number or string."
   ]
  },
  {
   "cell_type": "code",
   "execution_count": 1,
   "id": "f206ea0e-4ce8-410a-9a0b-54fc7d03e59a",
   "metadata": {},
   "outputs": [
    {
     "name": "stdout",
     "output_type": "stream",
     "text": [
      "7ffccef01618\n",
      "257477bfb70\n"
     ]
    }
   ],
   "source": [
    "x = 100\n",
    "print(format(id(x), 'x'))\n",
    "\n",
    "s = 'w3resources'\n",
    "print(format(id(s), 'x'))"
   ]
  },
  {
   "cell_type": "markdown",
   "id": "9def0b83-16bc-4ecc-95f8-787710741ebd",
   "metadata": {},
   "source": [
    "37. Find Common Items in Lists\n",
    "\n",
    "Write a Python program to find common items in two lists."
   ]
  },
  {
   "cell_type": "code",
   "execution_count": 4,
   "id": "05114155-1c11-4f3e-b887-639cb598447e",
   "metadata": {},
   "outputs": [
    {
     "name": "stdout",
     "output_type": "stream",
     "text": [
      "[3, 4, 5]\n"
     ]
    }
   ],
   "source": [
    "l1 = [1,2,3,4,5]\n",
    "l2 = [3,4,5,6,7]\n",
    "\n",
    "ls1 = list(set(l1))\n",
    "ls2 = list(set(l2))\n",
    "\n",
    "common = [x for x in ls1 if x in ls2]\n",
    "print(common)"
   ]
  },
  {
   "cell_type": "markdown",
   "id": "53969fe5-f08d-48b4-a31a-7222afcf087e",
   "metadata": {},
   "source": [
    "38. Swap Every n-th and (n+1)th Values\n",
    "\n",
    "Write a Python program to change the position of every n-th value to the (n+1)th in a list.\n",
    "Sample list: [0,1,2,3,4,5]\n",
    "Expected Output: [1, 0, 3, 2, 5, 4]"
   ]
  },
  {
   "cell_type": "code",
   "execution_count": 6,
   "id": "d09a74f9-6d74-4884-b434-cbd6c0694523",
   "metadata": {},
   "outputs": [
    {
     "name": "stdout",
     "output_type": "stream",
     "text": [
      "[1, 0, 3, 2, 5, 4]\n"
     ]
    }
   ],
   "source": [
    "l = [0,1,2,3,4,5] \n",
    "\n",
    "for i in range(0, len(l), 2):\n",
    "    l[i], l[i+1] = l[i+1], l[i]\n",
    "\n",
    "print(l)"
   ]
  },
  {
   "cell_type": "markdown",
   "id": "47cd998f-919b-46bd-a259-3f5905e2d375",
   "metadata": {},
   "source": [
    "39. Convert Integers List to Single Integer\n",
    "\n",
    "Write a Python program to convert a list of multiple integers into a single integer.\n",
    "Sample list: [11, 33, 50]\n",
    "Expected Output: 113350"
   ]
  },
  {
   "cell_type": "code",
   "execution_count": 9,
   "id": "6b1efb9e-1d85-4142-8e3c-29cf2c415cca",
   "metadata": {},
   "outputs": [
    {
     "name": "stdout",
     "output_type": "stream",
     "text": [
      "113350\n"
     ]
    }
   ],
   "source": [
    "l = [11,33,50]\n",
    "s = ''\n",
    "for i in l:\n",
    "    s += str(i)\n",
    "singleInt = int(s)\n",
    "print(singleInt)"
   ]
  },
  {
   "cell_type": "markdown",
   "id": "054d2bb8-f38a-4f30-b9e6-896a9cbd97bf",
   "metadata": {},
   "source": [
    "40. Split List by First Character\n",
    "\n",
    "Write a Python program to split a list based on the first character of a word."
   ]
  },
  {
   "cell_type": "code",
   "execution_count": 10,
   "id": "85db1a3e-6e4f-48d4-9880-c19573f7a925",
   "metadata": {},
   "outputs": [
    {
     "name": "stdout",
     "output_type": "stream",
     "text": [
      "a\n",
      "ask\n",
      "b\n",
      "be\n",
      "c\n",
      "call\n",
      "come\n",
      "d\n",
      "do\n",
      "f\n",
      "feel\n",
      "find\n",
      "g\n",
      "get\n",
      "give\n",
      "go\n",
      "h\n",
      "have\n",
      "k\n",
      "know\n",
      "l\n",
      "leave\n",
      "look\n",
      "m\n",
      "make\n",
      "s\n",
      "say\n",
      "see\n",
      "seem\n",
      "t\n",
      "take\n",
      "tell\n",
      "think\n",
      "u\n",
      "use\n",
      "w\n",
      "want\n",
      "work\n"
     ]
    }
   ],
   "source": [
    "from itertools import groupby\n",
    "from operator import itemgetter\n",
    "\n",
    "word_list = ['be', 'have', 'do', 'say', 'get', 'make', 'go', 'know', 'take', 'see', 'come', 'think',\n",
    "             'look', 'want', 'give', 'use', 'find', 'tell', 'ask', 'work', 'seem', 'feel', 'leave', 'call']\n",
    "\n",
    "for letter, words in groupby(sorted(word_list), key = itemgetter(0)):\n",
    "    print(letter)\n",
    "    for word in words:\n",
    "        print(word)"
   ]
  },
  {
   "cell_type": "markdown",
   "id": "09acce8c-6cd6-407c-8a38-13d1110e82ae",
   "metadata": {},
   "source": [
    "41. Create Multiple Lists\n",
    "\n",
    "Write a Python program to create multiple lists."
   ]
  },
  {
   "cell_type": "code",
   "execution_count": 11,
   "id": "068dd7c1-d8c4-4a86-85e0-81fe6720e335",
   "metadata": {},
   "outputs": [
    {
     "name": "stdout",
     "output_type": "stream",
     "text": [
      "{'1': [], '2': [], '3': [], '4': [], '5': [], '6': [], '7': [], '8': [], '9': [], '10': [], '11': [], '12': [], '13': [], '14': [], '15': [], '16': [], '17': [], '18': [], '19': [], '20': []}\n"
     ]
    }
   ],
   "source": [
    "obj = {}\n",
    "for i in range(1,21):\n",
    "    obj[str(i)] = []\n",
    "\n",
    "print(obj)"
   ]
  },
  {
   "cell_type": "markdown",
   "id": "9e757399-919f-4151-9e45-080c0a6f7af6",
   "metadata": {},
   "source": [
    "42. Find Missing and Additional Values in Lists\n",
    "\n",
    "Write a Python program to find missing and additional values in two lists.\n",
    "Sample data : Missing values in second list: b,a,c\n",
    "Additional values in second list: g,h"
   ]
  },
  {
   "cell_type": "code",
   "execution_count": 13,
   "id": "a76d672e-8d07-43f1-a282-32d3deb9c0ff",
   "metadata": {},
   "outputs": [
    {
     "name": "stdout",
     "output_type": "stream",
     "text": [
      "{'a', 'c', 'b'}\n",
      "{'g', 'h'}\n"
     ]
    }
   ],
   "source": [
    "l1 = ['a', 'b', 'c', 'd', 'e', 'f']\n",
    "l2 = ['d', 'e', 'f', 'g', 'h']\n",
    "\n",
    "missing = set(l1) - set(l2)\n",
    "print(missing)\n",
    "additional = set(l2) - set(l1)\n",
    "print(additional)"
   ]
  },
  {
   "cell_type": "markdown",
   "id": "9f3acd27-a0c6-4904-a3ca-0c7d21b10fec",
   "metadata": {},
   "source": [
    "43. Split List into Variables\n",
    "\n",
    "Write a Python program to split a list into different variables."
   ]
  },
  {
   "cell_type": "code",
   "execution_count": 14,
   "id": "2ca5a6d9-cb73-405f-a319-2f6038e4fcee",
   "metadata": {},
   "outputs": [
    {
     "name": "stdout",
     "output_type": "stream",
     "text": [
      "('Black', '#000000', 'rgb(0, 0, 0)')\n",
      "('Red', '#FF0000', 'rgb(255, 0, 0)')\n",
      "('Yellow', '#FFFF00', 'rgb(255, 255, 0)')\n"
     ]
    }
   ],
   "source": [
    "color = [\n",
    "    (\"Black\", \"#000000\", \"rgb(0, 0, 0)\"),\n",
    "    (\"Red\", \"#FF0000\", \"rgb(255, 0, 0)\"),\n",
    "    (\"Yellow\", \"#FFFF00\", \"rgb(255, 255, 0)\")\n",
    "]\n",
    "\n",
    "v1, v2, v3 = color\n",
    "\n",
    "print(v1)\n",
    "print(v2)\n",
    "print(v3)"
   ]
  },
  {
   "cell_type": "markdown",
   "id": "6a845e27-a7f9-46c7-a61f-e21408fe5b47",
   "metadata": {},
   "source": [
    "44. Generate Groups of Consecutive Numbers\n",
    "\n",
    "Write a Python program to generate groups of five consecutive numbers in a list."
   ]
  },
  {
   "cell_type": "code",
   "execution_count": 15,
   "id": "67530ab8-5102-40c5-93d9-09a3324d55ea",
   "metadata": {},
   "outputs": [
    {
     "name": "stdout",
     "output_type": "stream",
     "text": [
      "[[1, 2, 3, 4, 5], [6, 7, 8, 9, 10], [11, 12, 13, 14, 15], [16, 17, 18, 19, 20], [21, 22, 23, 24, 25]]\n"
     ]
    }
   ],
   "source": [
    "l = [[5*i + j for j in range(1,6)] for i in range(5)]\n",
    "print(l)"
   ]
  },
  {
   "cell_type": "markdown",
   "id": "fc4244ff-367c-48e6-8ba4-ff423cf6acbb",
   "metadata": {},
   "source": [
    "45. Convert Pairs to Sorted Unique Array\n",
    "\n",
    "Write a Python program to convert a pair of values into a sorted unique array."
   ]
  },
  {
   "cell_type": "code",
   "execution_count": 16,
   "id": "77f99590-aed0-4338-b1d7-a1bb90338cef",
   "metadata": {},
   "outputs": [
    {
     "name": "stdout",
     "output_type": "stream",
     "text": [
      "Sorted Unique Array:  [1, 2, 3, 4, 5, 6, 7, 8, 9, 10]\n"
     ]
    }
   ],
   "source": [
    "L = [(1, 2), (3, 4), (1, 2), (5, 6), (7, 8), (1, 2), (3, 4), (3, 4), (7, 8), (9, 10)]\n",
    "\n",
    "print('Sorted Unique Array: ', sorted(set().union(*L)))"
   ]
  },
  {
   "cell_type": "markdown",
   "id": "e66d06a7-fa2a-44c9-ac0b-fc4eede30b41",
   "metadata": {},
   "source": [
    "46. Select Odd Items from List\n",
    "\n",
    "Write a Python program to select the odd items from a list."
   ]
  },
  {
   "cell_type": "code",
   "execution_count": 17,
   "id": "84c06cd5-65e2-4e07-9728-4a234a789f07",
   "metadata": {},
   "outputs": [
    {
     "name": "stdout",
     "output_type": "stream",
     "text": [
      "[1, 3, 5, 7, 9]\n"
     ]
    }
   ],
   "source": [
    "l = [1,2,3,4,5,6,7,8,9]\n",
    "o = [x for x in l if x % 2 != 0]\n",
    "print(o)"
   ]
  },
  {
   "cell_type": "markdown",
   "id": "f19a9bb4-39c7-4f4b-aa0f-e208c90e96ac",
   "metadata": {},
   "source": [
    "47. Insert Element Before Each List Item\n",
    "\n",
    "Write a Python program to insert an element before each element of a list."
   ]
  },
  {
   "cell_type": "code",
   "execution_count": 19,
   "id": "41933d92-4a04-40b5-9029-b12710b38d67",
   "metadata": {},
   "outputs": [
    {
     "name": "stdout",
     "output_type": "stream",
     "text": [
      "[0, 1, 0, 2, 0, 3, 0, 4, 0, 5, 0, 6, 0, 7, 0, 8, 0, 9]\n",
      "[0, 1, 0, 2, 0, 3, 0, 4, 0, 5, 0, 6, 0, 7, 0, 8, 0, 9]\n"
     ]
    }
   ],
   "source": [
    "def insertEachItem(l, ele):\n",
    "    newL = []\n",
    "    for i in l:\n",
    "        newL.append(ele)\n",
    "        newL.append(i)\n",
    "    return newL\n",
    "\n",
    "print(insertEachItem(l, 0))\n",
    "\n",
    "'''OR'''\n",
    "\n",
    "newL = [x for ele in l for x in (0, ele)]\n",
    "print(newL)"
   ]
  },
  {
   "cell_type": "markdown",
   "id": "7893ba0b-1a0e-451f-945c-581b98e35900",
   "metadata": {},
   "source": [
    "48. Print Nested Lists\n",
    "\n",
    "Write a Python program to print nested lists (each list on a new line) using the print() function."
   ]
  },
  {
   "cell_type": "code",
   "execution_count": 20,
   "id": "803e7dbe-2a9b-43d7-af57-c38445205112",
   "metadata": {},
   "outputs": [
    {
     "name": "stdout",
     "output_type": "stream",
     "text": [
      "[1, 2, 3, 4, 5]\n",
      "[6, 7, 8, 9, 10]\n",
      "[11, 12, 13, 14, 15]\n",
      "[16, 17, 18, 19, 20]\n",
      "[21, 22, 23, 24, 25]\n"
     ]
    }
   ],
   "source": [
    "l = [[1, 2, 3, 4, 5], [6, 7, 8, 9, 10], [11, 12, 13, 14, 15], [16, 17, 18, 19, 20], [21, 22, 23, 24, 25]]\n",
    "\n",
    "for sublist in l:\n",
    "    print(sublist)"
   ]
  },
  {
   "cell_type": "markdown",
   "id": "1c70afe4-f5f0-4908-a708-f6cc354214c0",
   "metadata": {},
   "source": [
    "49. Convert List to List of Dictionaries\n",
    "\n",
    "Write a Python program to convert a list to a list of dictionaries.\n",
    "Sample lists: [\"Black\", \"Red\", \"Maroon\", \"Yellow\"], [\"#000000\", \"#FF0000\", \"#800000\", \"#FFFF00\"]"
   ]
  },
  {
   "cell_type": "code",
   "execution_count": 23,
   "id": "05b53a67-a9c4-476f-9358-d7a578450c9e",
   "metadata": {},
   "outputs": [
    {
     "name": "stdout",
     "output_type": "stream",
     "text": [
      "[{'color_name': 'Black', 'color_code': '#000000'}, {'color_name': 'Red', 'color_code': '#FF0000'}, {'color_name': 'Maroon', 'color_code': '#800000'}, {'color_name': 'Yellow', 'color_code': '#FFFF00'}]\n"
     ]
    }
   ],
   "source": [
    "l1 = [\"Black\", \"Red\", \"Maroon\", \"Yellow\"]\n",
    "l2 = [\"#000000\", \"#FF0000\", \"#800000\", \"#FFFF00\"]\n",
    "\n",
    "result = []\n",
    "\n",
    "for i,j in zip(l1, l2):\n",
    "    r = {}\n",
    "    r['color_name'] = i\n",
    "    r['color_code'] = j\n",
    "    result.append(r)\n",
    "\n",
    "print(result)"
   ]
  },
  {
   "cell_type": "markdown",
   "id": "60832bb3-ff6e-4767-8b04-4464b52305aa",
   "metadata": {},
   "source": [
    "50. Sort Nested Dictionaries in List\n",
    "\n",
    "Write a Python program to sort a list of nested dictionaries."
   ]
  },
  {
   "cell_type": "code",
   "execution_count": 24,
   "id": "77b71f46-edbb-458b-b00a-01b57df5e1d7",
   "metadata": {},
   "outputs": [
    {
     "name": "stdout",
     "output_type": "stream",
     "text": [
      "[{'key': {'subkey': 10}}, {'key': {'subkey': 5}}, {'key': {'subkey': 1}}]\n"
     ]
    }
   ],
   "source": [
    "l = [{'key': {'subkey': 1}}, {'key': {'subkey': 10}}, {'key': {'subkey': 5}}]\n",
    "\n",
    "l.sort(key = lambda x:x['key']['subkey'], reverse = True)\n",
    "print(l)"
   ]
  },
  {
   "cell_type": "markdown",
   "id": "dde230d4-577f-41ae-9d49-241279362da7",
   "metadata": {},
   "source": [
    "51. Split List Every Nth Element\n",
    "\n",
    "Write a Python program to split a list every Nth element.\n",
    "Sample list: ['a', 'b', 'c', 'd', 'e', 'f', 'g', 'h', 'i', 'j', 'k', 'l', 'm', 'n']\n",
    "Expected Output: [['a', 'd', 'g', 'j', 'm'], ['b', 'e', 'h', 'k', 'n'], ['c', 'f', 'i', 'l']]"
   ]
  },
  {
   "cell_type": "code",
   "execution_count": 1,
   "id": "c363c3bf-22a9-408f-b174-ffac29ecdad7",
   "metadata": {},
   "outputs": [
    {
     "name": "stdout",
     "output_type": "stream",
     "text": [
      "[['a', 'f', 'k'], ['b', 'g', 'l'], ['c', 'h', 'm'], ['d', 'i', 'n'], ['e', 'j']]\n"
     ]
    }
   ],
   "source": [
    "l = ['a', 'b', 'c', 'd', 'e', 'f', 'g', 'h', 'i', 'j', 'k', 'l', 'm', 'n'] \n",
    "n = 5\n",
    "\n",
    "def listSlice(l, step):\n",
    "    return [l[i::step] for i in range(step)]\n",
    "\n",
    "print(listSlice(l, n))"
   ]
  },
  {
   "cell_type": "markdown",
   "id": "ac81480a-ccd4-4da2-8028-4539bad12913",
   "metadata": {},
   "source": [
    "52. Difference Between Two Lists\n",
    "\n",
    "Write a Python program to compute the difference between two lists.\n",
    "Sample data: [\"red\", \"orange\", \"green\", \"blue\", \"white\"], [\"black\", \"yellow\", \"green\", \"blue\"]\n",
    "Expected Output:\n",
    "Color1-Color2: ['white', 'orange', 'red']\n",
    "Color2-Color1: ['black', 'yellow']"
   ]
  },
  {
   "cell_type": "code",
   "execution_count": 5,
   "id": "aa793c92-a618-4819-be58-d974364e004e",
   "metadata": {},
   "outputs": [
    {
     "name": "stdout",
     "output_type": "stream",
     "text": [
      "Color 1 - Color 2:  ['red', 'white', 'orange']\n",
      "Color 2 - Color 1:  ['black', 'yellow']\n"
     ]
    }
   ],
   "source": [
    "l1 = [\"red\", \"orange\", \"green\", \"blue\", \"white\"]\n",
    "l2 = [\"black\", \"yellow\", \"green\", \"blue\"]\n",
    "\n",
    "print('Color 1 - Color 2: ', list(set(l1) - set(l2)))\n",
    "print('Color 2 - Color 1: ', list(set(l2) - set(l1)))"
   ]
  },
  {
   "cell_type": "markdown",
   "id": "05953abd-c5f8-4984-9b63-8b1f83efd8cc",
   "metadata": {},
   "source": [
    "53. Create List with Infinite Elements\n",
    "\n",
    "Write a Python program to create a list with infinite elements."
   ]
  },
  {
   "cell_type": "code",
   "execution_count": 6,
   "id": "de60b2ef-ef55-487f-a970-27bc7a04fd7e",
   "metadata": {},
   "outputs": [
    {
     "name": "stdout",
     "output_type": "stream",
     "text": [
      "0\n",
      "1\n"
     ]
    }
   ],
   "source": [
    "import itertools\n",
    "\n",
    "c = itertools.count()\n",
    "\n",
    "print(next(c))\n",
    "print(next(c))"
   ]
  },
  {
   "cell_type": "markdown",
   "id": "555fc408-5abf-411e-b038-c4949a463d65",
   "metadata": {},
   "source": [
    "54. Concatenate List Elements\n",
    "\n",
    "Write a Python program to concatenate elements of a list."
   ]
  },
  {
   "cell_type": "code",
   "execution_count": 8,
   "id": "a70428e6-096c-440e-a644-b6b7d48ed011",
   "metadata": {},
   "outputs": [
    {
     "name": "stdout",
     "output_type": "stream",
     "text": [
      "redgreenorange\n",
      "red-green-orange\n"
     ]
    }
   ],
   "source": [
    "l = [\"red\", \"green\", \"orange\"]\n",
    "\n",
    "print(''.join(l))\n",
    "print('-'.join(l))"
   ]
  },
  {
   "cell_type": "markdown",
   "id": "48105d1b-66b7-42bf-8fa2-534681282395",
   "metadata": {},
   "source": [
    "55. Remove Key-Value Pairs from Dictionaries in List\n",
    "\n",
    "Write a Python program to remove key-value pairs from a list of dictionaries."
   ]
  },
  {
   "cell_type": "code",
   "execution_count": 10,
   "id": "723a8e0c-efc4-464b-8e3c-6c53c00a1e79",
   "metadata": {},
   "outputs": [
    {
     "name": "stdout",
     "output_type": "stream",
     "text": [
      "[{'k2': 'v2'}, {'k2': 'v4'}]\n"
     ]
    }
   ],
   "source": [
    "l = [{'k1' : 'v1', 'k2' : 'v2'}, {'k1':'v3','k2':'v4'}]\n",
    "\n",
    "newList = [{k:v for k,v in d.items() if k != 'k1'} for d in l]\n",
    "print(newList)"
   ]
  },
  {
   "cell_type": "markdown",
   "id": "40c0099a-96dd-4587-a5c7-e415d1621b73",
   "metadata": {},
   "source": [
    "56. Convert String to List\n",
    "\n",
    "Write a Python program to convert a string to a list."
   ]
  },
  {
   "cell_type": "code",
   "execution_count": 14,
   "id": "d8f2473a-211c-4f57-93de-af961309ffdd",
   "metadata": {},
   "outputs": [
    {
     "name": "stdout",
     "output_type": "stream",
     "text": [
      "['Red', 'Green', 'White']\n"
     ]
    }
   ],
   "source": [
    "import ast\n",
    "s = \"['Red', 'Green', 'White']\"\n",
    "print(ast.literal_eval(s))"
   ]
  },
  {
   "cell_type": "markdown",
   "id": "9fbe7a0e-0594-4776-ab51-97f43fefd1bf",
   "metadata": {},
   "source": [
    "57. Check All Strings Match Given String\n",
    "\n",
    "Write a Python program to check if all items in a given list of strings are equal to a given string."
   ]
  },
  {
   "cell_type": "code",
   "execution_count": 16,
   "id": "51c4fb30-46db-4034-8d20-76c6e1f49c0b",
   "metadata": {},
   "outputs": [
    {
     "name": "stdout",
     "output_type": "stream",
     "text": [
      "False\n",
      "True\n"
     ]
    }
   ],
   "source": [
    "l1 = [\"green\", \"orange\", \"black\", \"white\"]\n",
    "l2 = [\"green\", \"green\", \"green\", \"green\"]\n",
    "s1 = 'blue'\n",
    "s2 = 'green'\n",
    "\n",
    "def stringMatch(l, s):\n",
    "    return (all(x == s for x in l))\n",
    "\n",
    "print(stringMatch(l1, s1))\n",
    "print(stringMatch(l2, s2))"
   ]
  },
  {
   "cell_type": "markdown",
   "id": "19a6b7ae-453c-4274-af7a-a4f877c0b34a",
   "metadata": {},
   "source": [
    "58. Replace Last Element with Another List\n",
    "\n",
    "Write a Python program to replace the last element in a list with another list.\n",
    "Sample data : [1, 3, 5, 7, 9, 10], [2, 4, 6, 8]\n",
    "Expected Output: [1, 3, 5, 7, 9, 2, 4, 6, 8]"
   ]
  },
  {
   "cell_type": "code",
   "execution_count": 17,
   "id": "dda7fc02-deb7-4dd3-b5b5-44949188bc4b",
   "metadata": {},
   "outputs": [
    {
     "name": "stdout",
     "output_type": "stream",
     "text": [
      "[1, 3, 5, 7, 2, 4, 6, 8]\n"
     ]
    }
   ],
   "source": [
    "l1 = [1, 3, 5, 7, 9, 10]\n",
    "l2 = [2, 4, 6, 8]\n",
    "\n",
    "print(l1[:-2] + l2)"
   ]
  },
  {
   "cell_type": "markdown",
   "id": "9a8a7d69-b7ab-43dc-bece-b118b80c491a",
   "metadata": {},
   "source": [
    "59. Check if N-th Element Exists in List\n",
    "\n",
    "Write a Python program to check whether the n-th element exists in a given list."
   ]
  },
  {
   "cell_type": "code",
   "execution_count": 20,
   "id": "c32a268c-4af0-44ed-98e2-796dba46d58e",
   "metadata": {},
   "outputs": [
    {
     "name": "stdout",
     "output_type": "stream",
     "text": [
      "6\n",
      "6\n"
     ]
    }
   ],
   "source": [
    "l = [1,2,3,4,5,6]\n",
    "\n",
    "xlen = len(l) - 1\n",
    "print(l[xlen])\n",
    "print(l[-1])"
   ]
  },
  {
   "cell_type": "markdown",
   "id": "e01a84b9-6263-41ba-9a8c-db5d7b427be4",
   "metadata": {},
   "source": [
    "60. Smallest Second Index Tuple\n",
    "\n",
    "Write a  Python program to find a tuple, the smallest second index value from a list of tuples."
   ]
  },
  {
   "cell_type": "code",
   "execution_count": 23,
   "id": "a258a32b-1644-4218-b015-e348078716a2",
   "metadata": {},
   "outputs": [
    {
     "name": "stdout",
     "output_type": "stream",
     "text": [
      "(6, 0)\n"
     ]
    }
   ],
   "source": [
    "l = [(4,1),(1,2),(6,0)]\n",
    "\n",
    "l.sort(key = lambda x: x[1])\n",
    "print(l[0])"
   ]
  },
  {
   "cell_type": "markdown",
   "id": "069e4e2a-1ff1-4f27-b9db-eb22cea05508",
   "metadata": {},
   "source": [
    "61. Create List of Empty Dictionaries\n",
    "\n",
    "Write a Python program to create a list of empty dictionaries."
   ]
  },
  {
   "cell_type": "code",
   "execution_count": 24,
   "id": "b23b34c0-9869-4d1c-875f-2ca83b31cbc2",
   "metadata": {},
   "outputs": [
    {
     "name": "stdout",
     "output_type": "stream",
     "text": [
      "[{}, {}, {}, {}, {}]\n"
     ]
    }
   ],
   "source": [
    "n = 5\n",
    "l = [{} for _ in range(n)]\n",
    "print(l)"
   ]
  },
  {
   "cell_type": "markdown",
   "id": "ef61160f-334a-47d9-a650-5736e00cdd91",
   "metadata": {},
   "source": [
    "62. Print Space-Separated List Elements\n",
    "\n",
    "Write a Python program to print a list of space-separated elements."
   ]
  },
  {
   "cell_type": "code",
   "execution_count": 27,
   "id": "b04781a1-171e-4b53-bc36-354f88f472fc",
   "metadata": {},
   "outputs": [
    {
     "name": "stdout",
     "output_type": "stream",
     "text": [
      "1 2 3 4 5\n",
      "1 2 3 4 5\n"
     ]
    }
   ],
   "source": [
    "l = [1,2,3,4,5]\n",
    "print(' '.join(map(str, l)))\n",
    "print(*l)"
   ]
  },
  {
   "cell_type": "markdown",
   "id": "b01c1044-e698-45b0-bbe5-e7431c22cbf8",
   "metadata": {},
   "source": [
    "63. Insert String Before List Items\n",
    "\n",
    "Write a Python program to insert a given string at the beginning of all items in a list.\n",
    "Sample list : [1,2,3,4], string : emp\n",
    "Expected output : ['emp1', 'emp2', 'emp3', 'emp4']"
   ]
  },
  {
   "cell_type": "code",
   "execution_count": 28,
   "id": "4b8696e8-9419-4323-850c-bac73f437bf9",
   "metadata": {},
   "outputs": [
    {
     "name": "stdout",
     "output_type": "stream",
     "text": [
      "['emp1', 'emp2', 'emp3', 'emp4', 'emp5']\n"
     ]
    }
   ],
   "source": [
    "l = [1,2,3,4,5]\n",
    "s = 'emp'\n",
    "\n",
    "print(['emp' + str(i) for i in l])"
   ]
  },
  {
   "cell_type": "markdown",
   "id": "68383699-1f15-439b-87f6-5c94d1895181",
   "metadata": {},
   "source": [
    "64. Iterate Over Two Lists Simultaneously\n",
    "\n",
    "Write a Python program to iterate over two lists simultaneously."
   ]
  },
  {
   "cell_type": "code",
   "execution_count": 29,
   "id": "ce726281-f826-4518-9f15-01437307405c",
   "metadata": {},
   "outputs": [
    {
     "name": "stdout",
     "output_type": "stream",
     "text": [
      "List1 1, List2 7\n",
      "List1 2, List2 8\n",
      "List1 3, List2 9\n",
      "List1 4, List2 0\n"
     ]
    }
   ],
   "source": [
    "l1 = [1,2,3,4]\n",
    "l2 = [7,8,9,0]\n",
    "\n",
    "for i1, i2 in zip(l1, l2):\n",
    "    print(f\"List1 {i1}, List2 {i2}\")"
   ]
  },
  {
   "cell_type": "markdown",
   "id": "c493cac9-a901-4c74-96fb-d30eddfc7b76",
   "metadata": {},
   "source": [
    "65. Move Zeros to End of List\n",
    "\n",
    "Write a Python program to move all zero digits to the end of a given list of numbers.\n",
    "Expected output:\n",
    "Original list:\n",
    "[3, 4, 0, 0, 0, 6, 2, 0, 6, 7, 6, 0, 0, 0, 9, 10, 7, 4, 4, 5, 3, 0, 0, 2, 9, 7, 1]\n",
    "Move all zero digits to end of the said list of numbers:\n",
    "[3, 4, 6, 2, 6, 7, 6, 9, 10, 7, 4, 4, 5, 3, 2, 9, 7, 1, 0, 0, 0, 0, 0, 0, 0, 0, 0]"
   ]
  },
  {
   "cell_type": "code",
   "execution_count": 31,
   "id": "da6c63c7-f9c1-4a95-a54d-7d64d1c69850",
   "metadata": {},
   "outputs": [
    {
     "name": "stdout",
     "output_type": "stream",
     "text": [
      "[3, 4, 6, 2, 6, 7, 6, 9, 10, 7, 4, 4, 5, 3, 2, 9, 7, 1, 0, 0, 0, 0, 0, 0, 0, 0, 0]\n",
      "[3, 4, 0, 0, 0, 6, 2, 0, 6, 7, 6, 0, 0, 0, 9, 10, 7, 4, 4, 5, 3, 0, 0, 2, 9, 7, 1]\n"
     ]
    }
   ],
   "source": [
    "l =  [3, 4, 0, 0, 0, 6, 2, 0, 6, 7, 6, 0, 0, 0, 9, 10, 7, 4, 4, 5, 3, 0, 0, 2, 9, 7, 1]\n",
    "\n",
    "nonZeroList = [x for x in l if x != 0]\n",
    "zeroesLength = len(l) - len(nonZeroList)\n",
    "\n",
    "print(nonZeroList + [0] * zeroesLength)\n",
    "print(l)"
   ]
  },
  {
   "cell_type": "markdown",
   "id": "1f37fdae-e747-4bfd-a786-86d7e078fae7",
   "metadata": {},
   "source": [
    "66. Find List with Highest Sum\n",
    "\n",
    "Write a Python program to find the list in a list of lists whose sum of elements is the highest.\n",
    "Sample lists: [1,2,3], [4,5,6], [10,11,12], [7,8,9]\n",
    "Expected Output: [10, 11, 12]"
   ]
  },
  {
   "cell_type": "code",
   "execution_count": 37,
   "id": "4c07a7cd-926c-434b-a0d0-adbcf1d6cbd8",
   "metadata": {},
   "outputs": [
    {
     "name": "stdout",
     "output_type": "stream",
     "text": [
      "[10, 11, 12]\n"
     ]
    }
   ],
   "source": [
    "l =  [1,2,3], [4,5,6], [10,11,12], [7,8,9]\n",
    "\n",
    "def maxSum(l):\n",
    "    maxSum = sum(l[0])\n",
    "    maxSumPair = l[0]\n",
    "    for i in l:\n",
    "        if sum(i) > maxSum:\n",
    "            maxSum = sum(i)\n",
    "            maxSumPair = i\n",
    "    return maxSumPair\n",
    "\n",
    "print(maxSum(l))"
   ]
  },
  {
   "cell_type": "markdown",
   "id": "0b36351d-d05d-432d-91da-461e720c36eb",
   "metadata": {},
   "source": [
    "67. Find Values Greater Than Specified Number\n",
    "\n",
    "Write a Python program to find all the values in a list that are greater than a specified number."
   ]
  },
  {
   "cell_type": "code",
   "execution_count": 39,
   "id": "9ad9ef61-cb21-4bcf-97d4-826913d86e6d",
   "metadata": {},
   "outputs": [
    {
     "name": "stdout",
     "output_type": "stream",
     "text": [
      "[5, 6, 7, 8, 9]\n"
     ]
    }
   ],
   "source": [
    "def findGreaterVal(l, n):\n",
    "    return [x for x in l if x > n]\n",
    "\n",
    "l = [1,2,3,4,5,6,7,8,9]\n",
    "print(findGreaterVal(l, 4))"
   ]
  },
  {
   "cell_type": "markdown",
   "id": "abc0e1ad-da3d-4731-bfa4-d437e4664013",
   "metadata": {},
   "source": [
    "68. Extend List Without Append\n",
    "\n",
    "Write a Python program to extend a list without appending.\n",
    "Sample data: [10, 20, 30]\n",
    "[40, 50, 60]\n",
    "Expected output : [40, 50, 60, 10, 20, 30]"
   ]
  },
  {
   "cell_type": "code",
   "execution_count": 44,
   "id": "04d0e5bb-e54f-48ad-9397-a34ae221f753",
   "metadata": {},
   "outputs": [
    {
     "name": "stdout",
     "output_type": "stream",
     "text": [
      "[10, 20, 30, 40, 50, 60]\n",
      "[10, 20, 30, 40, 50, 60, 40, 50, 60]\n"
     ]
    }
   ],
   "source": [
    "l1 = [10, 20, 30]\n",
    "l2 = [40, 50, 60]\n",
    "\n",
    "l1.extend(l2)\n",
    "print(l1)\n",
    "\n",
    "print(l1 + l2)"
   ]
  },
  {
   "cell_type": "markdown",
   "id": "8e22ba12-522b-4ee8-b1fe-20ace1421f51",
   "metadata": {},
   "source": [
    "Write a Python program to remove duplicates from a list of lists.\n",
    "Sample list : [[10, 20], [40], [30, 56, 25], [10, 20], [33], [40]]\n",
    "New List : [[10, 20], [30, 56, 25], [33], [40]]"
   ]
  },
  {
   "cell_type": "code",
   "execution_count": 49,
   "id": "dd1031f0-7e76-4e19-822b-2d033e8cf93e",
   "metadata": {},
   "outputs": [
    {
     "name": "stdout",
     "output_type": "stream",
     "text": [
      "[[10, 20], [40], [30, 56, 25], [33]]\n"
     ]
    }
   ],
   "source": [
    "l = [[10, 20], [40], [30, 56, 25], [10, 20], [33], [40]]\n",
    "\n",
    "def removeDup(l):\n",
    "    seen = set()\n",
    "    newList = []\n",
    "\n",
    "    for subList in l:\n",
    "        tuple_sublist = tuple(subList)\n",
    "        if tuple_sublist not in seen:\n",
    "            seen.add(tuple_sublist)\n",
    "            newList.append(subList)\n",
    "    return newList\n",
    "\n",
    "print(removeDup(l))"
   ]
  },
  {
   "cell_type": "markdown",
   "id": "4c4fce48-8738-44f3-a748-b9a3f4fae2c9",
   "metadata": {},
   "source": [
    "70. Find Items Starting with Specific Character\n",
    "\n",
    "Write a Python program to find items starting with a specific character from a list.\n",
    "Expected Output:\n",
    "Original list:\n",
    "['abcd', 'abc', 'bcd', 'bkie', 'cder', 'cdsw', 'sdfsd', 'dagfa', 'acjd']\n",
    "Items start with a from the said list:\n",
    "['abcd', 'abc', 'acjd']\n",
    "Items start with d from the said list:\n",
    "['dagfa']\n",
    "Items start with w from the said list:\n",
    "[]"
   ]
  },
  {
   "cell_type": "code",
   "execution_count": 51,
   "id": "55ec6cfd-a384-445b-b4d5-7358d157fbff",
   "metadata": {},
   "outputs": [
    {
     "name": "stdout",
     "output_type": "stream",
     "text": [
      "['abcd', 'abc', 'acjd']\n",
      "['dagfa']\n",
      "[]\n"
     ]
    }
   ],
   "source": [
    "l = ['abcd', 'abc', 'bcd', 'bkie', 'cder', 'cdsw', 'sdfsd', 'dagfa', 'acjd']\n",
    "\n",
    "def startingChar(l, c):\n",
    "    return [word for word in l if word.startswith(c)]\n",
    "\n",
    "print(startingChar(l, 'a'))\n",
    "print(startingChar(l, 'd'))\n",
    "print(startingChar(l, 'w'))"
   ]
  },
  {
   "cell_type": "markdown",
   "id": "6c00f0cf-aeb5-4e52-acf7-969f906963d2",
   "metadata": {},
   "source": [
    "71. Check If All Dictionaries Are Empty\n",
    "\n",
    "Write a Python program to check whether all dictionaries in a list are empty or not.\n",
    "Sample list : [{},{},{}]\n",
    "Return value : True\n",
    "Sample list : [{1,2},{},{}]\n",
    "Return value : False"
   ]
  },
  {
   "cell_type": "code",
   "execution_count": 52,
   "id": "1a783a92-3d04-4adb-addf-0c8c59aedf01",
   "metadata": {},
   "outputs": [
    {
     "name": "stdout",
     "output_type": "stream",
     "text": [
      "True\n",
      "False\n"
     ]
    }
   ],
   "source": [
    "l1 = [{},{},{}]\n",
    "l2 = [{1,2},{},{}]\n",
    "\n",
    "def emptyDict(l):\n",
    "    return all(len(x) == 0 for x in l)\n",
    "\n",
    "print(emptyDict(l1))\n",
    "print(emptyDict(l2))"
   ]
  },
  {
   "cell_type": "markdown",
   "id": "e8176a19-cbb6-47d5-95e8-c5d0226ef4a7",
   "metadata": {},
   "source": [
    "72. Flatten Nested List Structure\n",
    "\n",
    "Write a Python program to flatten a given nested list structure.\n",
    "Original list: [0, 10, [20, 30], 40, 50, [60, 70, 80], [90, 100, 110, 120]]\n",
    "Flatten list:\n",
    "[0, 10, 20, 30, 40, 50, 60, 70, 80, 90, 100, 110, 120]"
   ]
  },
  {
   "cell_type": "code",
   "execution_count": 53,
   "id": "ee3c79a1-384f-45fb-9881-8731f87b12dd",
   "metadata": {},
   "outputs": [
    {
     "name": "stdout",
     "output_type": "stream",
     "text": [
      "[0, 10, 20, 30, 40, 50, 60, 70, 80, 90, 100, 110, 120]\n"
     ]
    }
   ],
   "source": [
    "l = [0, 10, [20, 30], 40, 50, [60, 70, 80], [90, 100, 110, 120]]\n",
    "result = []\n",
    "for i in l:\n",
    "    if isinstance(i, list):\n",
    "        for x in i:\n",
    "            result.append(x)\n",
    "    else:\n",
    "        result.append(i)\n",
    "\n",
    "print(result)"
   ]
  },
  {
   "cell_type": "markdown",
   "id": "2d69eeac-3175-41e8-8d92-4656ff3527de",
   "metadata": {},
   "source": [
    "73. Remove Consecutive Duplicates\n",
    "\n",
    "Write a Python program to remove consecutive (following each other continuously) duplicates (elements) from a given list.\n",
    "Original list:\n",
    "[0, 0, 1, 2, 3, 4, 4, 5, 6, 6, 6, 7, 8, 9, 4, 4]\n",
    "After removing consecutive duplicates:\n",
    "[0, 1, 2, 3, 4, 5, 6, 7, 8, 9, 4]"
   ]
  },
  {
   "cell_type": "code",
   "execution_count": 57,
   "id": "baf61f34-782e-44ae-bde1-376370e2dfe2",
   "metadata": {},
   "outputs": [
    {
     "name": "stdout",
     "output_type": "stream",
     "text": [
      "[0, 1, 2, 3, 4, 5, 6, 7, 8, 9, 4]\n"
     ]
    }
   ],
   "source": [
    "l = [0, 0, 1, 2, 3, 4, 4, 5, 6, 6, 6, 7, 8, 9, 4, 4]\n",
    "\n",
    "def removeConsecDup(l):\n",
    "    result = []\n",
    "    result.append(l[0])\n",
    "    for i in range(1, len(l)):\n",
    "        if l[i] != l[i-1]:\n",
    "            result.append(l[i])\n",
    "    return result\n",
    "\n",
    "print(removeConsecDup(l))"
   ]
  },
  {
   "cell_type": "markdown",
   "id": "6da2d42b-8691-412c-8574-bb88c4fa7fc9",
   "metadata": {},
   "source": [
    "74. Pack Consecutive Duplicates into Sublists\n",
    "\n",
    "Write a  Python program to pack consecutive duplicates of a given list of elements into sublists.\n",
    "Original list:\n",
    "[0, 0, 1, 2, 3, 4, 4, 5, 6, 6, 6, 7, 8, 9, 4, 4]\n",
    "After packing consecutive duplicates of the said list elements into sublists:\n",
    "[[0, 0], [1], [2], [3], [4, 4], [5], [6, 6, 6], [7], [8], [9], [4, 4]]"
   ]
  },
  {
   "cell_type": "code",
   "execution_count": 61,
   "id": "6a4f1e48-1c32-45ea-b065-11a20c7e2c2f",
   "metadata": {},
   "outputs": [
    {
     "name": "stdout",
     "output_type": "stream",
     "text": [
      "[[0, 0], [1], [2], [3], [4, 4], [5], [6, 6, 6], [7], [8], [9], [4, 4]]\n"
     ]
    }
   ],
   "source": [
    "l = [0, 0, 1, 2, 3, 4, 4, 5, 6, 6, 6, 7, 8, 9, 4, 4]\n",
    "\n",
    "def packConsecDup(l):\n",
    "    if not l:\n",
    "        return []\n",
    "        \n",
    "    result = []\n",
    "    sublist = [l[0]]\n",
    "\n",
    "    for i in range(1, len(l)):\n",
    "        if l[i] == l[i-1]:\n",
    "            sublist.append(l[i])\n",
    "        else:\n",
    "            result.append(sublist)\n",
    "            sublist = [l[i]]\n",
    "\n",
    "    result.append(sublist)\n",
    "    return result\n",
    "\n",
    "print(packConsecDup(l))"
   ]
  },
  {
   "cell_type": "markdown",
   "id": "4465b9fd-7f28-4642-8b01-e15fb8459c05",
   "metadata": {},
   "source": [
    "75. Create Run-Length Encoded List\n",
    "\n",
    "Write a Python program to create a list reflecting the run-length encoding from a given list of integers or a given list of characters.\n",
    "Original list:\n",
    "[1, 1, 2, 3, 4, 4.3, 5, 1]\n",
    "List reflecting the run-length encoding from the said list:\n",
    "[[2, 1], [1, 2], [1, 3], [1, 4], [1, 4.3], [1, 5], [1, 1]]\n",
    "Original String:\n",
    "automatically\n",
    "List reflecting the run-length encoding from the said string:\n",
    "[[1, 'a'], [1, 'u'], [1, 't'], [1, 'o'], [1, 'm'], [1, 'a'], [1, 't'], [1, 'i'], [1, 'c'], [1, 'a'], [2, 'l'], [1, 'y']]"
   ]
  },
  {
   "cell_type": "code",
   "execution_count": 69,
   "id": "4cc38c55-35b3-4b6a-aebc-5f59fb68ca6d",
   "metadata": {},
   "outputs": [
    {
     "name": "stdout",
     "output_type": "stream",
     "text": [
      "[[2, 1], [2, 2], [2, 3], [2, 4], [2, 4.3], [2, 5], [2, 1]]\n",
      "[[1, 'a'], [1, 'u'], [1, 't'], [1, 'o'], [1, 'm'], [1, 'a'], [1, 't'], [1, 'i'], [1, 'c'], [1, 'a'], [2, 'l'], [2, 'y']]\n"
     ]
    }
   ],
   "source": [
    "l = [1, 1, 2, 3, 4, 4.3, 5, 1]\n",
    "s = 'automatically'\n",
    "\n",
    "def runlength(l):\n",
    "    if isinstance(l, str):\n",
    "        l = list(l)\n",
    "\n",
    "    result = []\n",
    "    count = 1\n",
    "\n",
    "    for i in range(1, len(l)):\n",
    "        if l[i] == l[i - 1]:\n",
    "            count += 1\n",
    "        else:\n",
    "            result.append([count, l[i - 1]])\n",
    "    result.append([count, l[-1]])\n",
    "    return result\n",
    "\n",
    "print(runlength(l))\n",
    "print(runlength(s))"
   ]
  },
  {
   "cell_type": "markdown",
   "id": "3a1fdcfe-b39a-409c-97c7-c46880664678",
   "metadata": {},
   "source": [
    "76. Create Modified Run-Length Encoded List\n",
    "\n",
    "Write a Python program to create a list reflecting the modified run-length encoding from a given list of integers or a given list of characters.\n",
    "Original list:\n",
    "[1, 1, 2, 3, 4, 4, 5, 1]\n",
    "List reflecting the modified run-length encoding from the said list:\n",
    "[[2, 1], 2, 3, [2, 4], 5, 1]\n",
    "Original String:\n",
    "aabcddddadnss\n",
    "List reflecting the modified run-length encoding from the said string:\n",
    "[[2, 'a'], 'b', 'c', [4, 'd'], 'a', 'd', 'n', [2, 's']]"
   ]
  },
  {
   "cell_type": "code",
   "execution_count": 74,
   "id": "e7439351-33eb-4021-a8dc-dca927c8b33f",
   "metadata": {},
   "outputs": [
    {
     "name": "stdout",
     "output_type": "stream",
     "text": [
      "[[2, 1], 2, 3, [2, 4], 5, 1]\n",
      "[[2, 'a'], 'b', 'c', [4, 'd'], 'a', 'd', 'n', [2, 's']]\n"
     ]
    }
   ],
   "source": [
    "l = [1, 1, 2, 3, 4, 4, 5, 1]\n",
    "s = 'aabcddddadnss'\n",
    "\n",
    "def modifiedrunlength(l):\n",
    "    if isinstance(l, str):\n",
    "        l = list(l)\n",
    "\n",
    "    result = []\n",
    "    count = 1\n",
    "    for i in range(1, len(l)):\n",
    "        if l[i] == l[i - 1]:\n",
    "            count += 1\n",
    "        else:\n",
    "            result.append([count, l[i - 1]] if count > 1 else l[i - 1])\n",
    "            count = 1\n",
    "    result.append([count, l[-1]] if count > 1 else l[-1])\n",
    "    return result\n",
    "\n",
    "print(modifiedrunlength(l))\n",
    "print(modifiedrunlength(s))"
   ]
  },
  {
   "cell_type": "markdown",
   "id": "d9578c4d-596e-4b6d-be59-7ebeaef94ff7",
   "metadata": {},
   "source": [
    "77. Decode Run-Length Encoded List\n",
    "\n",
    "Write a Python program to decode a run-length message.\n",
    "Original encoded list:\n",
    "[[2, 1], 2, 3, [2, 4], 5, 1]\n",
    "Decode a run-length encoded said list:\n",
    "[1, 1, 2, 3, 4, 4, 5, 1]"
   ]
  },
  {
   "cell_type": "code",
   "execution_count": 75,
   "id": "cb634499-1bc2-43b4-a5ef-67bf3bd096ab",
   "metadata": {},
   "outputs": [
    {
     "name": "stdout",
     "output_type": "stream",
     "text": [
      "[1, 1, 2, 3, 4, 4, 5, 1]\n"
     ]
    }
   ],
   "source": [
    "l = [[2, 1], 2, 3, [2, 4], 5, 1]\n",
    "\n",
    "def decoderunlength(l):\n",
    "    result = []\n",
    "    for i in l:\n",
    "        if isinstance(i, list):\n",
    "            for x in range(i[0]):\n",
    "                result.append(i[1])\n",
    "        else:\n",
    "            result.append(i)\n",
    "    return result\n",
    "\n",
    "print(decoderunlength(l))"
   ]
  },
  {
   "cell_type": "markdown",
   "id": "1bc6e98a-505c-4d0c-9eb9-d6ace5ccf8e6",
   "metadata": {},
   "source": [
    "78. Split List into Two Parts by Length\n",
    "\n",
    "Write a Python program to split a given list into two parts where the length of the first part of the list is given.\n",
    "Original list:\n",
    "[1, 1, 2, 3, 4, 4, 5, 1]\n",
    "Length of the first part of the list: 3\n",
    "Splited the said list into two parts:\n",
    "([1, 1, 2], [3, 4, 4, 5, 1])"
   ]
  },
  {
   "cell_type": "code",
   "execution_count": 77,
   "id": "cb26ab98-85d7-4a1f-a2da-8e96ddb7e1bf",
   "metadata": {},
   "outputs": [
    {
     "name": "stdout",
     "output_type": "stream",
     "text": [
      "[[1, 1, 2], [3, 4, 4, 5, 1]]\n"
     ]
    }
   ],
   "source": [
    "l = [1, 1, 2, 3, 4, 4, 5, 1]\n",
    "n = 3\n",
    "\n",
    "def splitintotwo(l, n):\n",
    "    return [l[:n], l[n:]]\n",
    "\n",
    "print(splitintotwo(l,n))"
   ]
  },
  {
   "cell_type": "markdown",
   "id": "b19a86a2-243c-445b-8f0c-d940f078cd0b",
   "metadata": {},
   "source": [
    "79. Remove K-th Element from List\n",
    "\n",
    "Write a Python program to remove the K'th element from a given list, and print the updated list.\n",
    "Original list:\n",
    "[1, 1, 2, 3, 4, 4, 5, 1]\n",
    "After removing an element at the kth position of the said list:\n",
    "[1, 1, 3, 4, 4, 5, 1]"
   ]
  },
  {
   "cell_type": "code",
   "execution_count": 79,
   "id": "c7d4332e-67ed-4d68-993b-a11122add5a8",
   "metadata": {},
   "outputs": [
    {
     "name": "stdout",
     "output_type": "stream",
     "text": [
      "[1, 1, 3, 4, 4, 5, 1]\n",
      "[1, 1, 3, 4, 4, 5, 1]\n"
     ]
    }
   ],
   "source": [
    "l = [1, 1, 2, 3, 4, 4, 5, 1]\n",
    "\n",
    "def removeEle(l, k):\n",
    "    return [l[i] for i in range(len(l)) if i != k]\n",
    "print(removeEle(l, 2))\n",
    "\n",
    "del l[2]\n",
    "print(l)"
   ]
  },
  {
   "cell_type": "markdown",
   "id": "be38e9ed-6bfc-44d1-841c-bbada574f408",
   "metadata": {},
   "source": [
    "80. Insert Element at Specified Position\n",
    "\n",
    "Write a Python program to insert an element at a specified position into a given list.\n",
    "Original list:\n",
    "[1, 1, 2, 3, 4, 4, 5, 1]\n",
    "After inserting an element at kth position in the said list:\n",
    "[1, 1, 12, 2, 3, 4, 4, 5, 1]"
   ]
  },
  {
   "cell_type": "code",
   "execution_count": 81,
   "id": "e042a866-abd6-4661-82b1-4a630eb188c4",
   "metadata": {},
   "outputs": [
    {
     "name": "stdout",
     "output_type": "stream",
     "text": [
      "[1, 1, 12, 2, 3, 4, 4, 5, 1]\n"
     ]
    }
   ],
   "source": [
    "l = [1, 1, 2, 3, 4, 4, 5, 1]\n",
    "\n",
    "l.insert(2, 12)\n",
    "print(l)"
   ]
  },
  {
   "cell_type": "markdown",
   "id": "7df4fa9a-df7f-4e03-adf7-91a7e93e1283",
   "metadata": {},
   "source": [
    "81. Extract Random Elements from List\n",
    "\n",
    "Write a Python program to extract a given number of randomly selected elements from a given list.\n",
    "Original list:\n",
    "[1, 1, 2, 3, 4, 4, 5, 1]\n",
    "Selected 3 random numbers of the above list:\n",
    "[4, 4, 1]"
   ]
  },
  {
   "cell_type": "code",
   "execution_count": 83,
   "id": "fdc9bbdf-2b95-4d8a-bc8d-e07b03761478",
   "metadata": {},
   "outputs": [
    {
     "name": "stdout",
     "output_type": "stream",
     "text": [
      "[1, 5, 3]\n"
     ]
    }
   ],
   "source": [
    "l = [1, 1, 2, 3, 4, 4, 5, 1]\n",
    "\n",
    "import random\n",
    "\n",
    "print(random.sample(l, 3))"
   ]
  },
  {
   "cell_type": "markdown",
   "id": "327db6f6-f9fe-4992-b40f-72e92e5a5255",
   "metadata": {},
   "source": [
    "82. Generate Combinations from List\n",
    "\n",
    "Write a  Python program to generate combinations of n distinct objects taken from the elements of a given list.\n",
    "Original list: [1, 2, 3, 4, 5, 6, 7, 8, 9] Combinations of 2 distinct objects: [1, 2] [1, 3] [1, 4] [1, 5] .... [7, 8] [7, 9] [8, 9]"
   ]
  },
  {
   "cell_type": "code",
   "execution_count": 86,
   "id": "011d3ba3-44ef-4f25-9628-b0deecbaa934",
   "metadata": {},
   "outputs": [
    {
     "name": "stdout",
     "output_type": "stream",
     "text": [
      "[(1, 2), (1, 3), (1, 4), (1, 5), (1, 6), (1, 7), (1, 8), (1, 9), (2, 3), (2, 4), (2, 5), (2, 6), (2, 7), (2, 8), (2, 9), (3, 4), (3, 5), (3, 6), (3, 7), (3, 8), (3, 9), (4, 5), (4, 6), (4, 7), (4, 8), (4, 9), (5, 6), (5, 7), (5, 8), (5, 9), (6, 7), (6, 8), (6, 9), (7, 8), (7, 9), (8, 9)]\n"
     ]
    }
   ],
   "source": [
    "l = [1, 2, 3, 4, 5, 6, 7, 8, 9] \n",
    "\n",
    "from itertools import combinations\n",
    "\n",
    "def generateComb(l, n):\n",
    "    return list(combinations(l, n))\n",
    "\n",
    "print(generateComb(l, 2))"
   ]
  },
  {
   "cell_type": "markdown",
   "id": "700a1aea-c6e7-443e-801b-109d86306edc",
   "metadata": {},
   "source": [
    "83. Round Numbers and Calculate Total Sum\n",
    "\n",
    "Write a Python program to round every number in a given list of numbers and print the total sum multiplied by the length of the list.\n",
    "Original list: [22.4, 4.0, -16.22, -9.1, 11.0, -12.22, 14.2, -5.2, 17.5]\n",
    "Result:\n",
    "243"
   ]
  },
  {
   "cell_type": "code",
   "execution_count": 91,
   "id": "7e6696f8-6c06-409e-aecf-fff62c79b0f2",
   "metadata": {},
   "outputs": [
    {
     "name": "stdout",
     "output_type": "stream",
     "text": [
      "243\n"
     ]
    }
   ],
   "source": [
    "l = [22.4, 4.0, -16.22, -9.1, 11.0, -12.22, 14.2, -5.2, 17.5]\n",
    "\n",
    "print(sum(list(map(round, l))) * len(l))"
   ]
  },
  {
   "cell_type": "markdown",
   "id": "4ff9025e-9425-4026-9ebf-4c9eadf22a65",
   "metadata": {},
   "source": [
    "84. Round Numbers, Find Min/Max, Multiply by 5\n",
    "\n",
    "Write a Python program to round the numbers in a given list, print the minimum and maximum numbers and multiply the numbers by 5. Print the unique numbers in ascending order separated by space.\n",
    "Original list: [22.4, 4.0, 16.22, 9.1, 11.0, 12.22, 14.2, 5.2, 17.5]\n",
    "Minimum value: 4\n",
    "Maximum value: 22\n",
    "Result:\n",
    "20 25 45 55 60 70 80 90 110"
   ]
  },
  {
   "cell_type": "code",
   "execution_count": 98,
   "id": "fef2b211-e1bf-4276-8e4c-6c2e107a467a",
   "metadata": {},
   "outputs": [
    {
     "name": "stdout",
     "output_type": "stream",
     "text": [
      "Minimum Value:  4\n",
      "Maximum Value:  22\n",
      "20.0 26.0 45.5 55.0 61.1 71.0 81.1 87.5 112.0 "
     ]
    }
   ],
   "source": [
    "l = [22.4, 4.0, 16.22, 9.1, 11.0, 12.22, 14.2, 5.2, 17.5]\n",
    "\n",
    "def listOper(l):\n",
    "    roundl = list(map(round, l))\n",
    "    print(\"Minimum Value: \", min(roundl))\n",
    "    print(\"Maximum Value: \", max(roundl))\n",
    "    l = sorted(map(lambda x:x * 5, set(l)))\n",
    "    for i in l:\n",
    "        print(i, end = ' ')\n",
    "\n",
    "listOper(l)"
   ]
  },
  {
   "cell_type": "markdown",
   "id": "27ff5bd6-c661-41b0-8934-1c001259b8ee",
   "metadata": {},
   "source": [
    "85. Create Multidimensional List with Zeros\n",
    "\n",
    "Write a Python program to create a multidimensional list (lists of lists) with zeros.\n",
    "Multidimensional list: [[0, 0], [0, 0], [0, 0]]"
   ]
  },
  {
   "cell_type": "code",
   "execution_count": 100,
   "id": "94fc8579-8ad6-4348-8bb1-ce6ac089f6dd",
   "metadata": {},
   "outputs": [
    {
     "name": "stdout",
     "output_type": "stream",
     "text": [
      "[[0, 0], [0, 0], [0, 0]]\n"
     ]
    }
   ],
   "source": [
    "matrix = [[0 for i in range(2)] for i in range(3)]\n",
    "print(matrix)"
   ]
  },
  {
   "cell_type": "markdown",
   "id": "e85e83ff-8e00-4bae-87b4-95b0f70b5230",
   "metadata": {},
   "source": [
    "86. Create 3x3 Grid with Numbers\n",
    "\n",
    "Write a Python program to create a 3X3 grid with numbers.\n",
    "3X3 grid with numbers:\n",
    "[[1, 2, 3], [1, 2, 3], [1, 2, 3]]"
   ]
  },
  {
   "cell_type": "code",
   "execution_count": 104,
   "id": "7b5b822e-fece-4529-acb8-0c4fdffffb5e",
   "metadata": {},
   "outputs": [
    {
     "name": "stdout",
     "output_type": "stream",
     "text": [
      "[[1, 2, 3], [1, 2, 3], [1, 2, 3]]\n"
     ]
    }
   ],
   "source": [
    "matrix = [[i for i in range(1, 4)] for j in range(1, 4)]\n",
    "print(matrix)"
   ]
  },
  {
   "cell_type": "markdown",
   "id": "d33234b9-a778-4cfb-b2fa-93ca4521218d",
   "metadata": {},
   "source": [
    "87. Sum Matrix Columns from Console Input\n",
    "\n",
    "Write a Python program to read a matrix from the console and print the sum for each column. As input from the user, accept matrix rows, columns, and elements separated by a space (each row).\n",
    "Input rows: 2\n",
    "Input columns: 2\n",
    "Input number of elements in a row (1, 2, 3):\n",
    "1 2\n",
    "3 4\n",
    "sum for each column:\n",
    "4 6"
   ]
  },
  {
   "cell_type": "code",
   "execution_count": 3,
   "id": "78f2d305-d280-4d1e-8027-2ac5ee723440",
   "metadata": {},
   "outputs": [
    {
     "name": "stdin",
     "output_type": "stream",
     "text": [
      "Input rows:  2\n",
      "Input cols:  2\n"
     ]
    },
    {
     "name": "stdout",
     "output_type": "stream",
     "text": [
      "Enter 2 rows of 2 numbers each\n"
     ]
    },
    {
     "name": "stdin",
     "output_type": "stream",
     "text": [
      " 1 2\n",
      " 3 4\n"
     ]
    },
    {
     "name": "stdout",
     "output_type": "stream",
     "text": [
      "Sum for each columns:  4 6\n"
     ]
    }
   ],
   "source": [
    "r = int(input('Input rows: '))\n",
    "c = int(input('Input cols: '))\n",
    "\n",
    "col_sums = [0] * c\n",
    "\n",
    "print(f\"Enter {r} rows of {c} numbers each\")\n",
    "\n",
    "for _ in range(r):\n",
    "    row = list(map(int, input().split()))\n",
    "    for j in range(c):\n",
    "        col_sums[j] += row[j]\n",
    "print(\"Sum for each columns: \", *col_sums)"
   ]
  },
  {
   "cell_type": "markdown",
   "id": "64d9b98f-c5fa-45f9-bc0c-b2479b6e3679",
   "metadata": {},
   "source": [
    "88. Sum Primary Diagonal of Square Matrix\n",
    "\n",
    "Write a Python program to read a square matrix from the console and print the sum of the matrix's primary diagonal. Accept the size of the square matrix and elements for each column separated with a space (for every row) as input from the user.\n",
    "Input the size of the matrix: 3\n",
    "2 3 4\n",
    "4 5 6\n",
    "3 4 7\n",
    "Sum of matrix primary diagonal:\n",
    "14"
   ]
  },
  {
   "cell_type": "code",
   "execution_count": 6,
   "id": "9f264071-7683-4d58-a885-e52b32602d34",
   "metadata": {},
   "outputs": [
    {
     "name": "stdout",
     "output_type": "stream",
     "text": [
      "Enter a matrix fo size 3\n"
     ]
    },
    {
     "name": "stdin",
     "output_type": "stream",
     "text": [
      " 1 2 3\n",
      " 1 2 3\n",
      " 1 2 3\n"
     ]
    },
    {
     "name": "stdout",
     "output_type": "stream",
     "text": [
      "Diagnol Sum:  6\n"
     ]
    }
   ],
   "source": [
    "matrix = []\n",
    "\n",
    "print(f\"Enter a matrix fo size 3\")\n",
    "\n",
    "for _ in range(3):\n",
    "    row = list(map(int, input().split()))\n",
    "    matrix.append(row)\n",
    "    \n",
    "sum_diag = 0\n",
    "\n",
    "for i in range(len(matrix)):\n",
    "    for j in range(len(matrix[i])):\n",
    "        if i == j:\n",
    "            sum_diag += matrix[i][j]\n",
    "\n",
    "print(\"Diagnol Sum: \", sum_diag)"
   ]
  },
  {
   "cell_type": "markdown",
   "id": "3001fc83-a152-437e-9b6c-8e60e5f41a64",
   "metadata": {},
   "source": [
    "89. Zip Two Lists of Lists\n",
    "\n",
    "Write a Python program to Zip two given lists of lists.\n",
    "Original lists:\n",
    "[[1, 3], [5, 7], [9, 11]]\n",
    "[[2, 4], [6, 8], [10, 12, 14]]\n",
    "Zipped list:\n",
    "[[1, 3, 2, 4], [5, 7, 6, 8], [9, 11, 10, 12, 14]]"
   ]
  },
  {
   "cell_type": "code",
   "execution_count": 11,
   "id": "1e9e8a90-f133-4287-bbbc-cf02804660c9",
   "metadata": {},
   "outputs": [
    {
     "name": "stdout",
     "output_type": "stream",
     "text": [
      "[[1, 3, 2, 4], [5, 7, 6, 8], [9, 11, 10, 12, 14]]\n"
     ]
    }
   ],
   "source": [
    "l1 = [[1, 3], [5, 7], [9, 11]]\n",
    "l2 = [[2, 4], [6, 8], [10, 12, 14]]\n",
    "\n",
    "l3 = [i + j for i,j in zip(l1, l2)]\n",
    "print(l3)"
   ]
  },
  {
   "cell_type": "markdown",
   "id": "064231a7-c654-4161-91cf-c2ee1172e643",
   "metadata": {},
   "source": [
    "90. Count Lists in Nested List\n",
    "\n",
    "Write a Python program to count the number of lists in a given list of lists.\n",
    "Original list:\n",
    "[[1, 3], [5, 7], [9, 11], [13, 15, 17]]\n",
    "Number of lists in said list of lists:\n",
    "4\n",
    "Original list:\n",
    "[[2, 4], [[6, 8], [4, 5, 8]], [10, 12, 14]]\n",
    "Number of lists in said list of lists:\n",
    "3"
   ]
  },
  {
   "cell_type": "code",
   "execution_count": 12,
   "id": "7534ebb7-be46-4f98-9714-aab9d06de654",
   "metadata": {},
   "outputs": [
    {
     "name": "stdout",
     "output_type": "stream",
     "text": [
      "4\n",
      "3\n"
     ]
    }
   ],
   "source": [
    "l1 = [[1, 3], [5, 7], [9, 11], [13, 15, 17]]\n",
    "l2 = [[2, 4], [[6, 8], [4, 5, 8]], [10, 12, 14]]\n",
    "\n",
    "def countSublist(l):\n",
    "    count = 0\n",
    "    for i in l:\n",
    "        if isinstance(i, list):\n",
    "            count += 1\n",
    "    return count\n",
    "\n",
    "print(countSublist(l1))\n",
    "print(countSublist(l2))"
   ]
  },
  {
   "cell_type": "markdown",
   "id": "0f73cd4e-77d4-4b9c-9e6b-fbdecb35ff92",
   "metadata": {},
   "source": [
    "91. Find List with Max and Min Lengths\n",
    "\n",
    "Write a Python program to find a list with maximum and minimum lengths.\n",
    "Original list:\n",
    "[[0], [1, 3], [5, 7], [9, 11], [13, 15, 17]]\n",
    "List with maximum length of lists:\n",
    "(3, [13, 15, 17])\n",
    "List with minimum length of lists:\n",
    "(1, [0])\n",
    "Original list:\n",
    "[[0], [1, 3], [5, 7], [9, 11], [3, 5, 7]]\n",
    "List with maximum length of lists:\n",
    "(3, [3, 5, 7])\n",
    "List with minimum length of lists:\n",
    "(1, [0])\n",
    "Original list:\n",
    "[[12], [1, 3], [1, 34, 5, 7], [9, 11], [3, 5, 7]]\n",
    "List with maximum length of lists:\n",
    "(4, [1, 34, 5, 7])\n",
    "List with minimum length of lists:\n",
    "(1, [12])"
   ]
  },
  {
   "cell_type": "code",
   "execution_count": 13,
   "id": "896010a3-73be-49af-a6e7-87617143f31d",
   "metadata": {},
   "outputs": [
    {
     "name": "stdout",
     "output_type": "stream",
     "text": [
      "Original List: [[0], [1, 3], [5, 7], [9, 11], [13, 15, 17]]\n",
      "List with maximum length of lists: (3, [13, 15, 17])\n",
      "List with minimum length of lists: (1, [0])\n",
      "Original List: [[0], [1, 3], [5, 7], [9, 11], [3, 5, 7]]\n",
      "List with maximum length of lists: (3, [3, 5, 7])\n",
      "List with minimum length of lists: (1, [0])\n",
      "Original List: [[12], [1, 3], [1, 34, 5, 7], [9, 11], [3, 5, 7]]\n",
      "List with maximum length of lists: (4, [1, 34, 5, 7])\n",
      "List with minimum length of lists: (1, [12])\n"
     ]
    }
   ],
   "source": [
    "l1 = [[0], [1, 3], [5, 7], [9, 11], [13, 15, 17]]\n",
    "l2 = [[0], [1, 3], [5, 7], [9, 11], [3, 5, 7]]\n",
    "l3 = [[12], [1, 3], [1, 34, 5, 7], [9, 11], [3, 5, 7]]\n",
    "\n",
    "def lengthList(l):\n",
    "    maxLen = len(l[0])\n",
    "    minLen = len(l[0])\n",
    "    maxLenList = l[0]\n",
    "    minLenList = l[0]\n",
    "\n",
    "    for i in l:\n",
    "        if len(i) > maxLen:\n",
    "            maxLen = len(i)\n",
    "            maxLenList = i\n",
    "        if len(i) < minLen:\n",
    "            minLen = len(i)\n",
    "            minLenList = i\n",
    "\n",
    "    print(f\"Original List: {l}\")\n",
    "    print(f\"List with maximum length of lists: ({maxLen}, {maxLenList})\")\n",
    "    print(f\"List with minimum length of lists: ({minLen}, {minLenList})\")\n",
    "\n",
    "lengthList(l1)\n",
    "lengthList(l2)\n",
    "lengthList(l3)"
   ]
  },
  {
   "cell_type": "markdown",
   "id": "403d0cf1-3f84-4165-aa51-5cf177af4846",
   "metadata": {},
   "source": [
    "92. Check if Nested List Is Subset\n",
    "\n",
    "Write a  Python program to check if a nested list is a subset of another nested list.\n",
    "Original list:\n",
    "[[1, 3], [5, 7], [9, 11], [13, 15, 17]]\n",
    "[[1, 3], [13, 15, 17]]\n",
    "If the one of the said list is a subset of another.:\n",
    "True\n",
    "Original list:\n",
    "[[[1, 2], [2, 3]], [[3, 4], [5, 6]]]\n",
    "[[[3, 4], [5, 6]]]\n",
    "If the one of the said list is a subset of another.:\n",
    "True\n",
    "Original list:\n",
    "[[[1, 2], [2, 3]], [[3, 4], [5, 7]]]\n",
    "[[[3, 4], [5, 6]]]\n",
    "If the one of the said list is a subset of another.:\n",
    "False"
   ]
  },
  {
   "cell_type": "code",
   "execution_count": 15,
   "id": "dec5576b-a14c-460f-9579-d1d5b86a4526",
   "metadata": {},
   "outputs": [
    {
     "name": "stdout",
     "output_type": "stream",
     "text": [
      "True\n",
      "True\n",
      "False\n"
     ]
    }
   ],
   "source": [
    "l1 = [[1, 3], [5, 7], [9, 11], [13, 15, 17]]\n",
    "sl1 = [[1, 3], [13, 15, 17]]\n",
    "l2 = [[[1, 2], [2, 3]], [[3, 4], [5, 6]]]\n",
    "sl2 = [[[3, 4], [5, 6]]]\n",
    "l3 = [[[1, 2], [2, 3]], [[3, 4], [5, 7]]]\n",
    "sl3 = [[[3, 4], [5, 6]]]\n",
    "\n",
    "def nestedListSubset(l, sl):\n",
    "    return all(x in l for x in sl)\n",
    "\n",
    "print(nestedListSubset(l1, sl1))\n",
    "print(nestedListSubset(l2, sl2))\n",
    "print(nestedListSubset(l3, sl3))"
   ]
  },
  {
   "cell_type": "markdown",
   "id": "fa323cf5-636b-43ee-8285-679026a0329f",
   "metadata": {},
   "source": [
    "93. Count Sublists Containing Element\n",
    "\n",
    "Write a Python program to count the number of sublists that contain a particular element.\n",
    "Original list:\n",
    "[[1, 3], [5, 7], [1, 11], [1, 15, 7]]\n",
    "Count 1 in the said list:\n",
    "3\n",
    "Count 7 in the said list:\n",
    "2\n",
    "Original list:\n",
    "[['A', 'B'], ['A', 'C'], ['A', 'D', 'E'], ['B', 'C', 'D']]\n",
    "Count 'A' in the said list:\n",
    "3\n",
    "Count 'E' in the said list:\n",
    "1"
   ]
  },
  {
   "cell_type": "code",
   "execution_count": 19,
   "id": "bce44c9c-56d3-4504-a6b4-bae6617f120f",
   "metadata": {},
   "outputs": [
    {
     "name": "stdout",
     "output_type": "stream",
     "text": [
      "Count 1 is said list:  3\n",
      "Count 7 is said list:  2\n",
      "Count 'A' is said list:  3\n",
      "Count 'E' is said list:  1\n"
     ]
    }
   ],
   "source": [
    "l1 = [[1, 3], [5, 7], [1, 11], [1, 15, 7]]\n",
    "l2 = [['A', 'B'], ['A', 'C'], ['A', 'D', 'E'], ['B', 'C', 'D']]\n",
    "\n",
    "def sublistEle(l, ele):\n",
    "    count = 0\n",
    "    for i in l:\n",
    "        if ele in i:\n",
    "            count += 1\n",
    "    return count\n",
    "\n",
    "print(f\"Count 1 is said list: \", sublistEle(l1, 1))\n",
    "print(f\"Count 7 is said list: \", sublistEle(l1, 7))\n",
    "print(f\"Count 'A' is said list: \", sublistEle(l2, 'A'))\n",
    "print(f\"Count 'E' is said list: \", sublistEle(l2, 'E'))"
   ]
  },
  {
   "cell_type": "markdown",
   "id": "fbf14154-894b-41e6-8153-84896d73423c",
   "metadata": {},
   "source": [
    "94. Count Unique Sublists in List\n",
    "\n",
    "Write a Python program to count the number of unique sublists within a given list.\n",
    "Original list:\n",
    "[[1, 3], [5, 7], [1, 3], [13, 15, 17], [5, 7], [9, 11]]\n",
    "Number of unique lists of the said list:\n",
    "{(1, 3): 2, (5, 7): 2, (13, 15, 17): 1, (9, 11): 1}\n",
    "Original list:\n",
    "[['green', 'orange'], ['black'], ['green', 'orange'], ['white']]\n",
    "Number of unique lists of the said list:\n",
    "{('green', 'orange'): 2, ('black',): 1, ('white',): 1}"
   ]
  },
  {
   "cell_type": "code",
   "execution_count": 20,
   "id": "66caaa17-3dcf-4ed4-b0d5-2f98ffdce281",
   "metadata": {},
   "outputs": [
    {
     "name": "stdout",
     "output_type": "stream",
     "text": [
      "{(1, 3): 2, (5, 7): 2, (13, 15, 17): 1, (9, 11): 1}\n",
      "{('green', 'orange'): 2, ('black',): 1, ('white',): 1}\n"
     ]
    }
   ],
   "source": [
    "l1 = [[1, 3], [5, 7], [1, 3], [13, 15, 17], [5, 7], [9, 11]]\n",
    "l2 = [['green', 'orange'], ['black'], ['green', 'orange'], ['white']]\n",
    "\n",
    "def uniqueSublist(l):\n",
    "    count = {}\n",
    "    for i in l:\n",
    "        sublistTuple = tuple(i)\n",
    "        if sublistTuple in count:\n",
    "            count[sublistTuple] += 1\n",
    "        else:\n",
    "            count[sublistTuple] = 1\n",
    "    return count\n",
    "\n",
    "print(uniqueSublist(l1))\n",
    "print(uniqueSublist(l2))"
   ]
  },
  {
   "cell_type": "markdown",
   "id": "dd1f0ac9-af2b-403a-a76e-41ebed1fc73f",
   "metadata": {},
   "source": [
    "95. Sort Strings in Sublists\n",
    "\n",
    "Write a Python program to sort each sublist of strings in a given list of lists.\n",
    "Original list:\n",
    "[[2], [0], [1, 3], [0, 7], [9, 11], [13, 15, 17]]\n",
    "Sort the list of lists by length and value:\n",
    "[[0], [2], [0, 7], [1, 3], [9, 11], [13, 15, 17]]"
   ]
  },
  {
   "cell_type": "code",
   "execution_count": 21,
   "id": "27eb3af7-f058-4372-b52a-34db666772c6",
   "metadata": {},
   "outputs": [
    {
     "name": "stdout",
     "output_type": "stream",
     "text": [
      "[[2], [0], [1, 3], [0, 7], [9, 11], [13, 15, 17]]\n"
     ]
    }
   ],
   "source": [
    "l = [[2], [0], [1, 3], [0, 7], [9, 11], [13, 15, 17]]\n",
    "\n",
    "def sortSublist(l):\n",
    "    result = list(map(sorted, l))\n",
    "    return result\n",
    "\n",
    "print(sortSublist(l))"
   ]
  },
  {
   "cell_type": "markdown",
   "id": "e84ee50c-77e3-4609-9672-83eea8543f11",
   "metadata": {},
   "source": [
    "97. Remove Sublists Outside Range\n",
    "\n",
    "Write a Python program to remove sublists from a given list of lists that contain an element outside a given range.\n",
    "Original list:\n",
    "[[2], [0], [1, 2, 3], [0, 1, 2, 3, 6, 7], [9, 11], [13, 14, 15, 17]]\n",
    "After removing sublists from a given list of lists, which contains an element outside the given range:\n",
    "[[13, 14, 15, 17]]"
   ]
  },
  {
   "cell_type": "code",
   "execution_count": 22,
   "id": "c6afd53c-5586-4c1a-8c31-c3ff68c29854",
   "metadata": {},
   "outputs": [
    {
     "name": "stdout",
     "output_type": "stream",
     "text": [
      "[[13, 14, 15, 17]]\n"
     ]
    }
   ],
   "source": [
    "l = [[2], [0], [1, 2, 3], [0, 1, 2, 3, 6, 7], [9, 11], [13, 14, 15, 17]]\n",
    "\n",
    "def remove_list_range(l, minVal, maxVal):\n",
    "    result = [i for i in l if (min(i) >= minVal and max(i) <= maxVal)]\n",
    "    return result\n",
    "\n",
    "print(remove_list_range(l, 13, 17))"
   ]
  },
  {
   "cell_type": "markdown",
   "id": "a4fefc8a-b3bd-4413-ba08-f892d8d94763",
   "metadata": {},
   "source": [
    "98. Scramble Letters in List Strings\n",
    "\n",
    "Write a Python program to scramble the letters of a string in a given list.\n",
    "Original list:\n",
    "['Python', 'list', 'exercises', 'practice', 'solution']\n",
    "After scrambling the letters of the strings of the said list:\n",
    "['tnPhyo', 'tlis', 'ecrsseiex', 'ccpitear', 'noiltuos']"
   ]
  },
  {
   "cell_type": "code",
   "execution_count": 25,
   "id": "119b4341-77f1-4d35-9492-a8e7280e6f61",
   "metadata": {},
   "outputs": [
    {
     "name": "stdout",
     "output_type": "stream",
     "text": [
      "['othPny', 'ltis', 'eeseisxcr', 'tpcrieac', 'otisnulo']\n"
     ]
    }
   ],
   "source": [
    "l = ['Python', 'list', 'exercises', 'practice', 'solution']\n",
    "\n",
    "from random import shuffle\n",
    "\n",
    "def scrambleLetters(word):\n",
    "    word = list(word)\n",
    "    shuffle(word)\n",
    "    return ''.join(word)\n",
    "\n",
    "result = [scrambleLetters(w) for w in l]\n",
    "print(result)"
   ]
  },
  {
   "cell_type": "markdown",
   "id": "a6e3f397-affd-4683-a641-bea81cbdd468",
   "metadata": {},
   "source": [
    "99. Find Max and Min in Heterogeneous List\n",
    "\n",
    "Write a Python program to find the maximum and minimum values in a given heterogeneous list.\n",
    "Original list:\n",
    "['Python', 3, 2, 4, 5, 'version']\n",
    "Maximum and Minimum values in the said list:\n",
    "(5, 2)"
   ]
  },
  {
   "cell_type": "code",
   "execution_count": 26,
   "id": "cb52fa36-39f8-4017-8796-759afca431a9",
   "metadata": {},
   "outputs": [
    {
     "name": "stdout",
     "output_type": "stream",
     "text": [
      "Max Value: 5, Min Value: 2\n"
     ]
    }
   ],
   "source": [
    "l = ['Python', 3, 2, 4, 5, 'version']\n",
    "\n",
    "def maxmin(l):\n",
    "    numList = [x for x in l if isinstance(x, int)]\n",
    "    return max(numList), min(numList)\n",
    "\n",
    "maxVal, minVal = maxmin(l)\n",
    "print(f\"Max Value: {maxVal}, Min Value: {minVal}\")"
   ]
  },
  {
   "cell_type": "markdown",
   "id": "9877c303-fd28-4f9a-924b-480a79b01e0c",
   "metadata": {},
   "source": [
    "100. Extract Common Index Elements from Lists\n",
    "\n",
    "Write a  Python program to extract common index elements from more than one given list.\n",
    "Original lists:\n",
    "[1, 1, 3, 4, 5, 6, 7]\n",
    "[0, 1, 2, 3, 4, 5, 7]\n",
    "[0, 1, 2, 3, 4, 5, 7]\n",
    "Common index elements of the said lists:\n",
    "[1, 7]"
   ]
  },
  {
   "cell_type": "code",
   "execution_count": 30,
   "id": "d8cb034f-158f-47c2-8cbb-57bc0094d997",
   "metadata": {},
   "outputs": [
    {
     "name": "stdout",
     "output_type": "stream",
     "text": [
      "[1, 7]\n"
     ]
    }
   ],
   "source": [
    "l1 = [1, 1, 3, 4, 5, 6, 7]\n",
    "l2 = [0, 1, 2, 3, 4, 5, 7]\n",
    "l3 = [0, 1, 2, 3, 4, 5, 7]\n",
    "\n",
    "def commonIndexEle(l1, l2, l3):\n",
    "    length = min(len(l1), len(l2), len(l3))\n",
    "    common = []\n",
    "    for i in range(length):\n",
    "        if l1[i] == l2[i] == l3[i]:\n",
    "            common.append(l1[i])\n",
    "    return common\n",
    "\n",
    "print(commonIndexEle(l1, l2, l3))"
   ]
  },
  {
   "cell_type": "code",
   "execution_count": null,
   "id": "9934fef4-2c8f-4ba1-9f81-0ffbadc61f1e",
   "metadata": {},
   "outputs": [],
   "source": []
  }
 ],
 "metadata": {
  "kernelspec": {
   "display_name": "Python 3 (ipykernel)",
   "language": "python",
   "name": "python3"
  },
  "language_info": {
   "codemirror_mode": {
    "name": "ipython",
    "version": 3
   },
   "file_extension": ".py",
   "mimetype": "text/x-python",
   "name": "python",
   "nbconvert_exporter": "python",
   "pygments_lexer": "ipython3",
   "version": "3.12.6"
  }
 },
 "nbformat": 4,
 "nbformat_minor": 5
}
