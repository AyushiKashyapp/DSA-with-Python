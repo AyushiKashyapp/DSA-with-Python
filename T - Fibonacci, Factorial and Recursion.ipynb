{
 "cells": [
  {
   "cell_type": "markdown",
   "id": "3704bdc8-91d9-4c61-bca5-7a0d9f237016",
   "metadata": {},
   "source": [
    "## Fibonacci Series - Each number is an addition of last two numbers."
   ]
  },
  {
   "cell_type": "code",
   "execution_count": 7,
   "id": "80da9361-67c8-4417-a9aa-ae40b45f5062",
   "metadata": {},
   "outputs": [
    {
     "name": "stdin",
     "output_type": "stream",
     "text": [
      "How many numbers :  23\n"
     ]
    },
    {
     "name": "stdout",
     "output_type": "stream",
     "text": [
      "0\n",
      "1\n",
      "1\n",
      "2\n",
      "3\n",
      "5\n",
      "8\n",
      "13\n",
      "21\n",
      "34\n",
      "55\n",
      "89\n",
      "144\n",
      "233\n",
      "377\n",
      "610\n",
      "987\n",
      "1597\n",
      "2584\n",
      "4181\n",
      "6765\n",
      "10946\n",
      "17711\n"
     ]
    }
   ],
   "source": [
    "def fib(n):\n",
    "    a = 0\n",
    "    b = 1\n",
    "\n",
    "    if n == 1:\n",
    "        print(a)\n",
    "    else:\n",
    "        print(a)\n",
    "        print(b)\n",
    "        for i in range(2, n):\n",
    "            c = a + b\n",
    "            a = b\n",
    "            b = c\n",
    "            print(c)\n",
    "\n",
    "n = int(input('How many numbers : '))\n",
    "fib(n)"
   ]
  },
  {
   "cell_type": "code",
   "execution_count": 12,
   "id": "05729233-b570-4780-81ca-586ad1716caa",
   "metadata": {},
   "outputs": [
    {
     "name": "stdout",
     "output_type": "stream",
     "text": [
      "0 1 1 2 3 5 8 13 21 34 55 89 \n"
     ]
    }
   ],
   "source": [
    "def fib_limit(n):\n",
    "    if n < 0:\n",
    "        print('Invalid number')\n",
    "    else:\n",
    "        a = 0\n",
    "        b = 1\n",
    "        while a <= n:\n",
    "            print(a, end = ' ')\n",
    "            c = a + b\n",
    "            a = b\n",
    "            b = c\n",
    "        print()\n",
    "\n",
    "fib_limit(100)"
   ]
  },
  {
   "cell_type": "code",
   "execution_count": 5,
   "id": "6a207332-6812-4b76-bf14-210b510385f8",
   "metadata": {},
   "outputs": [
    {
     "name": "stdout",
     "output_type": "stream",
     "text": [
      "0 1 1 2 3 5 8 13 21 34 55 89 \n"
     ]
    }
   ],
   "source": [
    "def fib_limit_2(n):\n",
    "    if n < 0:\n",
    "        print('Invalid Number')\n",
    "    else:\n",
    "        a = 0\n",
    "        b = 1\n",
    "        for i in range(n):\n",
    "            if a > n:\n",
    "                break\n",
    "            else:\n",
    "                print(a, end = ' ')\n",
    "                c = a + b\n",
    "                a = b\n",
    "                b = c\n",
    "        print()\n",
    "\n",
    "fib_limit_2(100)"
   ]
  },
  {
   "cell_type": "markdown",
   "id": "58cb8dbe-8565-4d11-b6eb-7fa59d2fc258",
   "metadata": {},
   "source": [
    "Write a function to return the nth Fibonacci number using:\n",
    "\n",
    "Iterative approach ;\n",
    "Recursive approach"
   ]
  },
  {
   "cell_type": "code",
   "execution_count": 30,
   "id": "71424b86-d4ec-4229-8d33-e234b7b21cee",
   "metadata": {},
   "outputs": [
    {
     "data": {
      "text/plain": [
       "89"
      ]
     },
     "execution_count": 30,
     "metadata": {},
     "output_type": "execute_result"
    }
   ],
   "source": [
    "# Iterative Approach\n",
    "\n",
    "def return_fib_num(n):\n",
    "    if n < 0:\n",
    "        return 0\n",
    "    elif n == 1:\n",
    "        return 1\n",
    "    else:\n",
    "        a = 0\n",
    "        b = 1\n",
    "        for _ in range(n):\n",
    "            c = a + b\n",
    "            a = b\n",
    "            b = c\n",
    "        return b\n",
    "\n",
    "return_fib_num(10)"
   ]
  },
  {
   "cell_type": "code",
   "execution_count": 9,
   "id": "052afbbc-1679-4367-a6fe-0a2429598af2",
   "metadata": {},
   "outputs": [
    {
     "name": "stdout",
     "output_type": "stream",
     "text": [
      "55\n"
     ]
    }
   ],
   "source": [
    "# Reccursive Approach\n",
    "\n",
    "def fibonacci_recursive(n):\n",
    "    if n <= 0:\n",
    "        return 0\n",
    "    elif n == 1:\n",
    "        return 1\n",
    "    return fibonacci_recursive(n - 1) + fibonacci_recursive(n - 2)\n",
    "\n",
    "print(fibonacci_recursive(10)) "
   ]
  },
  {
   "cell_type": "markdown",
   "id": "35b94a2c-18bf-4ebc-8f74-0ecfa9b87386",
   "metadata": {},
   "source": [
    "2. Print First n Fibonacci Numbers"
   ]
  },
  {
   "cell_type": "code",
   "execution_count": 31,
   "id": "a67ac981-4fe7-4e95-92ec-de1bfefda6ce",
   "metadata": {},
   "outputs": [
    {
     "name": "stdout",
     "output_type": "stream",
     "text": [
      "0 1 1 2 3 5 8 13 21 34 \n"
     ]
    }
   ],
   "source": [
    "def first_n_fib(n):\n",
    "    if n <= 0:\n",
    "        return 0\n",
    "    elif n == 1:\n",
    "        return 1\n",
    "    else:\n",
    "        a, b = 0, 1\n",
    "        for _ in range(n):\n",
    "            print(a, end = ' ')\n",
    "            c = a + b\n",
    "            a = b\n",
    "            b = c\n",
    "        print()\n",
    "\n",
    "first_n_fib(10)"
   ]
  },
  {
   "cell_type": "markdown",
   "id": "0b71172b-8db3-4bc2-8e15-2724ca9d4edc",
   "metadata": {},
   "source": [
    "3. Check if a Number is in the Fibonacci Series"
   ]
  },
  {
   "cell_type": "code",
   "execution_count": 33,
   "id": "98679383-ec56-49f7-bb20-4e5222df1ed1",
   "metadata": {},
   "outputs": [
    {
     "name": "stdout",
     "output_type": "stream",
     "text": [
      "False\n",
      "False\n"
     ]
    }
   ],
   "source": [
    "def num_in_fib(num):\n",
    "    if num <= 0:\n",
    "        return 0\n",
    "    else:\n",
    "        a, b = 0, 1\n",
    "        while a < num:\n",
    "            a, b = b, a + b\n",
    "        return a == num\n",
    "\n",
    "print(num_in_fib(32))\n",
    "print(num_in_fib(320))              "
   ]
  },
  {
   "cell_type": "markdown",
   "id": "d4ed36aa-b4c8-48f4-8b89-6fa896460b50",
   "metadata": {},
   "source": [
    "4. Sum of First n Fibonacci Numbers"
   ]
  },
  {
   "cell_type": "code",
   "execution_count": 24,
   "id": "4e098508-77cb-4db1-9289-2c34b2660805",
   "metadata": {},
   "outputs": [
    {
     "name": "stdout",
     "output_type": "stream",
     "text": [
      "511\n"
     ]
    }
   ],
   "source": [
    "def sum_fib(n):\n",
    "    if n <= 0:\n",
    "        return 0\n",
    "    elif n == 1:\n",
    "        return 1\n",
    "    else:\n",
    "        a, b = 0, 1\n",
    "        total = 0\n",
    "        for _ in range(n):\n",
    "            total += a\n",
    "            a = b\n",
    "            b = a + b\n",
    "        return total\n",
    "\n",
    "print(sum_fib(10))"
   ]
  },
  {
   "cell_type": "markdown",
   "id": "2de94f67-9840-4b6f-80eb-ef3884e9d572",
   "metadata": {},
   "source": [
    "5. Fibonacci Numbers Between Two Given Numbers"
   ]
  },
  {
   "cell_type": "code",
   "execution_count": 28,
   "id": "fdfb1910-37c2-4832-93cd-ed342a824704",
   "metadata": {},
   "outputs": [
    {
     "name": "stdout",
     "output_type": "stream",
     "text": [
      "13 21 34 55 89 \n",
      "None\n"
     ]
    }
   ],
   "source": [
    "def high_low(l, h):\n",
    "    a, b = 0, 1\n",
    "    while a <= h:\n",
    "        if a >= l:\n",
    "            print(a, end = ' ')\n",
    "        c = a + b\n",
    "        a = b\n",
    "        b = c\n",
    "    print()\n",
    "\n",
    "print(high_low(10, 100))"
   ]
  },
  {
   "cell_type": "code",
   "execution_count": 26,
   "id": "aa9c1a05-374c-4604-afb8-0ff941be261d",
   "metadata": {},
   "outputs": [
    {
     "name": "stdout",
     "output_type": "stream",
     "text": [
      "13 21 34 55 89 \n"
     ]
    }
   ],
   "source": [
    "def fibonacci_in_range(low, high):\n",
    "    a, b = 0, 1\n",
    "    while a <= high:\n",
    "        if a >= low:\n",
    "            print(a, end=\" \")\n",
    "        a, b = b, a + b\n",
    "    print()\n",
    "\n",
    "fibonacci_in_range(10, 100)"
   ]
  },
  {
   "cell_type": "markdown",
   "id": "48e3051a-6942-42c4-a7f8-dc56cefc5680",
   "metadata": {},
   "source": [
    "6. Generate Fibonacci Series and Extract Even/Odd Numbers"
   ]
  },
  {
   "cell_type": "code",
   "execution_count": 35,
   "id": "7b7c346d-1d7c-4021-9e6b-7c9003304f4a",
   "metadata": {},
   "outputs": [
    {
     "name": "stdout",
     "output_type": "stream",
     "text": [
      "Even : [0, 2, 8, 34, 144, 610, 2584, 10946, 46368, 196418, 832040, 3524578, 14930352, 63245986, 267914296, 1134903170, 4807526976]\n",
      "Odds : [1, 1, 3, 5, 13, 21, 55, 89, 233, 377, 987, 1597, 4181, 6765, 17711, 28657, 75025, 121393, 317811, 514229, 1346269, 2178309, 5702887, 9227465, 24157817, 39088169, 102334155, 165580141, 433494437, 701408733, 1836311903, 2971215073, 7778742049]\n"
     ]
    }
   ],
   "source": [
    "def fib_even_odd(n):\n",
    "    fibs = []\n",
    "    a, b = 0, 1\n",
    "    for _ in range(n):\n",
    "        fibs.append(a)\n",
    "        a, b = b, a + b\n",
    "    return fibs\n",
    "\n",
    "def check_even_odd(fibs):\n",
    "    evens = [n for n in fibs if n % 2 == 0]\n",
    "    odds = [n for n in fibs if n % 2 != 0]\n",
    "    return evens, odds\n",
    "\n",
    "fibs = fib_even_odd(50)\n",
    "evens, odds = check_even_odd(fibs)\n",
    "print('Even :', evens)\n",
    "print('Odds :', odds)"
   ]
  },
  {
   "cell_type": "markdown",
   "id": "0616f097-dc57-4784-9cfe-ffc2a827df48",
   "metadata": {},
   "source": [
    "9. Sum of Even Fibonacci Numbers up to a Limit"
   ]
  },
  {
   "cell_type": "code",
   "execution_count": 37,
   "id": "e7787b6f-022f-45b8-9fbf-ff1d11ef6846",
   "metadata": {},
   "outputs": [
    {
     "name": "stdout",
     "output_type": "stream",
     "text": [
      "44\n"
     ]
    }
   ],
   "source": [
    "def even_sum(n):\n",
    "    a, b = 0, 1\n",
    "    total = 0\n",
    "    while a <= n:\n",
    "        if a % 2 == 0:\n",
    "            total += a\n",
    "        a, b = b, a + b\n",
    "    return total\n",
    "\n",
    "print(even_sum(50))"
   ]
  },
  {
   "cell_type": "markdown",
   "id": "f2b01708-db7e-4dd5-b81c-211901c8674f",
   "metadata": {},
   "source": [
    "# Factorial"
   ]
  },
  {
   "cell_type": "code",
   "execution_count": 42,
   "id": "a16c7ca8-7060-4f6a-b1a2-aa7d97268942",
   "metadata": {},
   "outputs": [
    {
     "data": {
      "text/plain": [
       "265252859812191058636308480000000"
      ]
     },
     "execution_count": 42,
     "metadata": {},
     "output_type": "execute_result"
    }
   ],
   "source": [
    "def fact(n):\n",
    "    prod = 1\n",
    "    for i in range(1, n + 1):\n",
    "        prod = prod * i\n",
    "    return prod\n",
    "\n",
    "fact(30)"
   ]
  },
  {
   "cell_type": "markdown",
   "id": "6c4000da-28a6-4274-8b5d-ac6b97ddd3e5",
   "metadata": {},
   "source": [
    "# Recursion"
   ]
  },
  {
   "cell_type": "code",
   "execution_count": 46,
   "id": "79d00190-8042-4ea0-a4c3-cd158193c286",
   "metadata": {},
   "outputs": [
    {
     "name": "stdout",
     "output_type": "stream",
     "text": [
      "System Recursion Limit : 3000\n",
      "New Recursion Limit:  3500\n"
     ]
    }
   ],
   "source": [
    "import sys\n",
    "print('System Recursion Limit :',sys.getrecursionlimit())\n",
    "sys.setrecursionlimit(3500)\n",
    "print('New Recursion Limit: ', sys.getrecursionlimit())"
   ]
  },
  {
   "cell_type": "code",
   "execution_count": 47,
   "id": "89650d10-4e8e-4898-bb26-ed9c33e4960c",
   "metadata": {},
   "outputs": [
    {
     "name": "stdout",
     "output_type": "stream",
     "text": [
      "479001600\n"
     ]
    }
   ],
   "source": [
    "def fact_recursion(n):\n",
    "    if n == 1:\n",
    "        return 1\n",
    "    return n * fact_recursion(n - 1)\n",
    "\n",
    "print(fact_recursion(12))"
   ]
  },
  {
   "cell_type": "markdown",
   "id": "ae100cb0-29a3-4f99-92b8-d0d643cb3b37",
   "metadata": {},
   "source": [
    "## Factorial Practice"
   ]
  },
  {
   "cell_type": "markdown",
   "id": "cf15ddf6-5e5b-4b9c-bd2d-d065d776c6df",
   "metadata": {},
   "source": [
    "Write a function to calculate the factorial of a number using:\n",
    "\n",
    "Iterative approach\n",
    "Recursive approach"
   ]
  },
  {
   "cell_type": "code",
   "execution_count": 48,
   "id": "f724dbea-2710-492c-987f-1dc007c3f730",
   "metadata": {},
   "outputs": [
    {
     "name": "stdout",
     "output_type": "stream",
     "text": [
      "3628800\n"
     ]
    }
   ],
   "source": [
    "# Iterative Approach\n",
    "\n",
    "def f1(n):\n",
    "    prod = 1\n",
    "    for i in range(1, n + 1):\n",
    "        prod = prod * i\n",
    "    return prod\n",
    "\n",
    "print(f1(10))"
   ]
  },
  {
   "cell_type": "code",
   "execution_count": 49,
   "id": "7cd40431-cf1d-42fe-a727-ceea280136cc",
   "metadata": {},
   "outputs": [
    {
     "name": "stdout",
     "output_type": "stream",
     "text": [
      "3628800\n"
     ]
    }
   ],
   "source": [
    "# Recursive Approach\n",
    "\n",
    "def f2(n):\n",
    "    if n == 1:\n",
    "        return 1\n",
    "    return n * f2(n - 1)\n",
    "\n",
    "print(f2(10))"
   ]
  },
  {
   "cell_type": "markdown",
   "id": "0314e9c9-3440-4399-a5c3-19aed7cbc9fd",
   "metadata": {},
   "source": [
    "Calculate the factorial of a given number n and print the result."
   ]
  },
  {
   "cell_type": "code",
   "execution_count": 50,
   "id": "c751f0a6-e5d3-4f72-95d1-d2f8be175b22",
   "metadata": {},
   "outputs": [
    {
     "name": "stdout",
     "output_type": "stream",
     "text": [
      "3628800\n"
     ]
    }
   ],
   "source": [
    "def f3(n):\n",
    "    if n == 1:\n",
    "        return n\n",
    "    return n * f3(n - 1)\n",
    "\n",
    "print(f3(10))"
   ]
  },
  {
   "cell_type": "markdown",
   "id": "a24c6d11-37f1-4073-9fa6-3a7d88a605e3",
   "metadata": {},
   "source": [
    "Print all factorials from 1! to n! for a given n."
   ]
  },
  {
   "cell_type": "code",
   "execution_count": 59,
   "id": "57f3b8b3-8f8e-4226-a243-d52c582b8f42",
   "metadata": {},
   "outputs": [
    {
     "name": "stdout",
     "output_type": "stream",
     "text": [
      "1! : 1\n",
      "2! : 2\n",
      "3! : 6\n",
      "4! : 24\n",
      "5! : 120\n",
      "6! : 720\n",
      "7! : 5040\n",
      "8! : 40320\n",
      "9! : 362880\n",
      "10! : 3628800\n"
     ]
    }
   ],
   "source": [
    "def f4(n):\n",
    "    prod = 1\n",
    "    for i in range(1, n + 1):\n",
    "        prod = prod * i\n",
    "        print(f'{i}! : {prod}')\n",
    "\n",
    "f4(10)"
   ]
  },
  {
   "cell_type": "code",
   "execution_count": 64,
   "id": "13b08800-a5a4-4222-988c-5c9b7f34c54e",
   "metadata": {},
   "outputs": [
    {
     "name": "stdout",
     "output_type": "stream",
     "text": [
      "1! : 1\n",
      "2! : 2\n",
      "3! : 6\n",
      "4! : 24\n",
      "5! : 120\n",
      "6! : 720\n",
      "7! : 5040\n",
      "8! : 40320\n",
      "9! : 362880\n",
      "10! : 3628800\n"
     ]
    }
   ],
   "source": [
    "def f5(n, current = 1, prod = 1):\n",
    "    if current > n:\n",
    "        return\n",
    "    prod = prod * current\n",
    "    print(f'{current}! : {prod}')\n",
    "    return f5(n, current + 1, prod)\n",
    "\n",
    "f5(10)"
   ]
  },
  {
   "cell_type": "markdown",
   "id": "b2f21391-0e20-4337-8341-7fb6e2689c4f",
   "metadata": {},
   "source": [
    "Check if a given number is a factorial of any integer. For example, 120 is 5!."
   ]
  },
  {
   "cell_type": "code",
   "execution_count": 77,
   "id": "c8f256ba-55d9-4b29-9e02-5bf5a9bb49e3",
   "metadata": {},
   "outputs": [
    {
     "name": "stdout",
     "output_type": "stream",
     "text": [
      "24 found as fatorial of 4\n",
      "100 is not a factorial.\n",
      "120 found as fatorial of 5\n"
     ]
    }
   ],
   "source": [
    "def f6(n):\n",
    "    prod = 1\n",
    "    for i in range(1, n):\n",
    "        prod = prod * i\n",
    "        if prod == n:\n",
    "            print(f'{n} found as fatorial of {i}')\n",
    "            return\n",
    "    print(f'{n} is not a factorial.')\n",
    "    \n",
    "f6(24)\n",
    "f6(100)\n",
    "f6(120)"
   ]
  },
  {
   "cell_type": "code",
   "execution_count": 78,
   "id": "ecb1ad10-240d-439a-90e2-5db622672ba8",
   "metadata": {},
   "outputs": [
    {
     "name": "stdout",
     "output_type": "stream",
     "text": [
      "24 found as factorial of 5\n",
      "100 is not a factorial.\n",
      "120 found as factorial of 6\n"
     ]
    }
   ],
   "source": [
    "def f7(n, i = 1, prod = 1):\n",
    "    if prod == n:\n",
    "        print(f'{n} found as factorial of {i}')\n",
    "        return\n",
    "    elif prod > n:\n",
    "        print(f'{n} is not a factorial.')\n",
    "        return\n",
    "    f7(n, i + 1, prod * i)\n",
    "\n",
    "f7(24)\n",
    "f7(100)\n",
    "f7(120)"
   ]
  },
  {
   "cell_type": "markdown",
   "id": "28576b6f-0e5b-4387-b453-ab64d34621a7",
   "metadata": {},
   "source": [
    "Calculate the number of trailing zeros in the factorial of a given number."
   ]
  },
  {
   "cell_type": "code",
   "execution_count": 82,
   "id": "08892b7f-701d-488f-805c-63c37d91fafe",
   "metadata": {},
   "outputs": [
    {
     "name": "stdout",
     "output_type": "stream",
     "text": [
      "5 :  1\n",
      "10 :  2\n",
      "100 : 24\n"
     ]
    }
   ],
   "source": [
    "# Count factors of 5\n",
    "\n",
    "def f8(n):\n",
    "    if n < 5:\n",
    "        return 0\n",
    "    return n // 5 + f8(n // 5)\n",
    "\n",
    "print('5 : ',f8(5))\n",
    "print('10 : ',f8(10))\n",
    "print('100 :',f8(100))"
   ]
  },
  {
   "cell_type": "markdown",
   "id": "167c0ca5-e312-4ba2-8ad9-b7a186b4ef36",
   "metadata": {},
   "source": [
    "Find the sum of all digits in the factorial of a given number."
   ]
  },
  {
   "cell_type": "code",
   "execution_count": 86,
   "id": "b4e163d6-a3ab-425f-a966-06bbbefdc114",
   "metadata": {},
   "outputs": [
    {
     "name": "stdout",
     "output_type": "stream",
     "text": [
      "10 : 27\n",
      "4 : 6\n"
     ]
    }
   ],
   "source": [
    "def f9(n):\n",
    "    prod = 1\n",
    "    for i in range(1, n + 1):\n",
    "        prod = prod * i\n",
    "    sum_digit = 0\n",
    "    for i in str(prod):\n",
    "        sum_digit += int(i)\n",
    "    return sum_digit\n",
    "\n",
    "print('10 :',f9(10))\n",
    "print('4 :',f9(4))"
   ]
  },
  {
   "cell_type": "code",
   "execution_count": 87,
   "id": "4a461a9f-c6d3-4af6-8380-49c711f37a5d",
   "metadata": {},
   "outputs": [
    {
     "name": "stdout",
     "output_type": "stream",
     "text": [
      "10 : 27\n",
      "4 : 6\n"
     ]
    }
   ],
   "source": [
    "def f10(n, prod = 1, total = 0, i = 1):\n",
    "    if i > n:\n",
    "        return total\n",
    "    prod = prod * i\n",
    "    total = sum(int(i) for i in str(prod))\n",
    "    return f10(n, prod, total, i + 1)\n",
    "\n",
    "print('10 :',f10(10))\n",
    "print('4 :',f10(4))"
   ]
  },
  {
   "cell_type": "markdown",
   "id": "8d261946-e952-4a70-97b2-f7e4c4166875",
   "metadata": {},
   "source": [
    "Compute the factorial of a very large number (e.g., 100!100!100!) using Python's `math` or `decimal` modules."
   ]
  },
  {
   "cell_type": "code",
   "execution_count": 88,
   "id": "02bb4a9f-82af-47cd-bafe-70be91fc5ae2",
   "metadata": {},
   "outputs": [
    {
     "name": "stdout",
     "output_type": "stream",
     "text": [
      "402387260077093773543702433923003985719374864210714632543799910429938512398629020592044208486969404800479988610197196058631666872994808558901323829669944590997424504087073759918823627727188732519779505950995276120874975462497043601418278094646496291056393887437886487337119181045825783647849977012476632889835955735432513185323958463075557409114262417474349347553428646576611667797396668820291207379143853719588249808126867838374559731746136085379534524221586593201928090878297308431392844403281231558611036976801357304216168747609675871348312025478589320767169132448426236131412508780208000261683151027341827977704784635868170164365024153691398281264810213092761244896359928705114964975419909342221566832572080821333186116811553615836546984046708975602900950537616475847728421889679646244945160765353408198901385442487984959953319101723355556602139450399736280750137837615307127761926849034352625200015888535147331611702103968175921510907788019393178114194545257223865541461062892187960223838971476088506276862967146674697562911234082439208160153780889893964518263243671616762179168909779911903754031274622289988005195444414282012187361745992642956581746628302955570299024324153181617210465832036786906117260158783520751516284225540265170483304226143974286933061690897968482590125458327168226458066526769958652682272807075781391858178889652208164348344825993266043367660176999612831860788386150279465955131156552036093988180612138558600301435694527224206344631797460594682573103790084024432438465657245014402821885252470935190620929023136493273497565513958720559654228749774011413346962715422845862377387538230483865688976461927383814900140767310446640259899490222221765904339901886018566526485061799702356193897017860040811889729918311021171229845901641921068884387121855646124960798722908519296819372388642614839657382291123125024186649353143970137428531926649875337218940694281434118520158014123344828015051399694290153483077644569099073152433278288269864602789864321139083506217095002597389863554277196742822248757586765752344220207573630569498825087968928162753848863396909959826280956121450994871701244516461260379029309120889086942028510640182154399457156805941872748998094254742173582401063677404595741785160829230135358081840096996372524230560855903700624271243416909004153690105933983835777939410970027753472000000000000000000000000000000000000000000000000000000000000000000000000000000000000000000000000000000000000000000000000000000000000000000000000000000000000000000000000000000000000000000000000000000000000000000000000000000000000000000000000000000000\n"
     ]
    }
   ],
   "source": [
    "import math\n",
    "\n",
    "fact = math.factorial(1000)\n",
    "print(fact)"
   ]
  },
  {
   "cell_type": "code",
   "execution_count": 90,
   "id": "a38ef217-179a-4d39-b11b-bd19ed00be04",
   "metadata": {},
   "outputs": [
    {
     "name": "stdout",
     "output_type": "stream",
     "text": [
      "93326215443944152681699238856266700490715968264381621468592963895217599993229915608941463976156518286253697920827223758251185210916864000000000000000000000000\n"
     ]
    }
   ],
   "source": [
    "import decimal\n",
    "\n",
    "decimal.getcontext().prec = 1100 #Set precision to handle large values\n",
    "\n",
    "def f11(n):\n",
    "    if n == 0 or n == 1:\n",
    "        return decimal.Decimal(1)\n",
    "    else:\n",
    "        return decimal.Decimal(n) * f11(n - 1)\n",
    "\n",
    "fact = f11(100)\n",
    "print(fact)"
   ]
  },
  {
   "cell_type": "markdown",
   "id": "b8595855-5a99-4b15-bfef-55fa145ee3a6",
   "metadata": {},
   "source": [
    "Write a generator function that yields factorial values one by one."
   ]
  },
  {
   "cell_type": "code",
   "execution_count": 95,
   "id": "4ef34253-6140-4b33-b91c-f55c2750d92a",
   "metadata": {},
   "outputs": [
    {
     "name": "stdout",
     "output_type": "stream",
     "text": [
      "1\n",
      "2\n",
      "6\n",
      "24\n",
      "120\n",
      "720\n",
      "5040\n",
      "40320\n",
      "362880\n",
      "3628800\n"
     ]
    }
   ],
   "source": [
    "def f12():\n",
    "    prod = 1\n",
    "    i = 1\n",
    "    while True:\n",
    "        yield prod\n",
    "        i += 1\n",
    "        prod = prod * i\n",
    "\n",
    "gen = f12()\n",
    "\n",
    "for _ in range(10):\n",
    "    print(next(gen))"
   ]
  },
  {
   "cell_type": "markdown",
   "id": "f661166d-ff6b-4045-a97b-b456e57e0d04",
   "metadata": {},
   "source": [
    "Write a function to calculate the double factorial of a number:\n",
    "\n",
    "Double factorial (n!!) is the product of all integers from 1 to n that have the same parity as n.\n",
    "\n",
    "Example:\n",
    "Even Double Factorial: 8!!=8×6×4×2\n",
    "Odd Double Factorial: 7!!=7×5×3×1"
   ]
  },
  {
   "cell_type": "code",
   "execution_count": 99,
   "id": "537170d7-ad4b-4f5d-bf31-9a9e44e70897",
   "metadata": {},
   "outputs": [
    {
     "name": "stdout",
     "output_type": "stream",
     "text": [
      "10 : 3840\n",
      "12 : 46080\n",
      "15 : 2027025\n",
      "17 : 34459425\n"
     ]
    }
   ],
   "source": [
    "# Recursive Approach\n",
    "\n",
    "def f13(n):\n",
    "    if n <= 0:\n",
    "        return 1\n",
    "    return n * f13(n - 2)\n",
    "\n",
    "print('10 :',f13(10))\n",
    "print('12 :',f13(12))\n",
    "print('15 :',f13(15))\n",
    "print('17 :',f13(17))"
   ]
  },
  {
   "cell_type": "code",
   "execution_count": 101,
   "id": "22b989a9-40a0-4c98-b2fa-2449ac0d6b78",
   "metadata": {},
   "outputs": [
    {
     "name": "stdout",
     "output_type": "stream",
     "text": [
      "10 : 3840\n",
      "12 : 46080\n",
      "15 : 2027025\n",
      "17 : 34459425\n"
     ]
    }
   ],
   "source": [
    "# Iterative Approach\n",
    "\n",
    "def f14(n):\n",
    "    prod = 1\n",
    "    for i in range(n, 0, -2):\n",
    "        prod = prod * i\n",
    "    return prod\n",
    "\n",
    "print('10 :',f14(10))\n",
    "print('12 :',f14(12))\n",
    "print('15 :',f14(15))\n",
    "print('17 :',f14(17))"
   ]
  },
  {
   "cell_type": "markdown",
   "id": "4ebf178f-1162-4e99-92be-6bdc3914799d",
   "metadata": {},
   "source": [
    "Write a program to calculate the factorial of a number without using multiplication or recursion (e.g., using addition or loops)."
   ]
  },
  {
   "cell_type": "code",
   "execution_count": 105,
   "id": "83abc1e9-a7af-42eb-93a0-48b8448c6d5c",
   "metadata": {},
   "outputs": [
    {
     "name": "stdout",
     "output_type": "stream",
     "text": [
      "10 : 3628800\n",
      "12 : 479001600\n"
     ]
    }
   ],
   "source": [
    "def add_multiply(x, y):\n",
    "    result = 0\n",
    "    for _ in range(x):\n",
    "        result += y\n",
    "    return result\n",
    "\n",
    "def f15(n):\n",
    "    prod = 1\n",
    "    for i in range(1, n + 1):\n",
    "        prod = add_multiply(prod, i)\n",
    "    return prod\n",
    "\n",
    "print('10 :',f15(10))\n",
    "print('12 :',f15(12))"
   ]
  },
  {
   "cell_type": "code",
   "execution_count": null,
   "id": "7b83cba3-0e4a-40d2-adf0-0b4f9d54430e",
   "metadata": {},
   "outputs": [],
   "source": []
  }
 ],
 "metadata": {
  "kernelspec": {
   "display_name": "Python 3 (ipykernel)",
   "language": "python",
   "name": "python3"
  },
  "language_info": {
   "codemirror_mode": {
    "name": "ipython",
    "version": 3
   },
   "file_extension": ".py",
   "mimetype": "text/x-python",
   "name": "python",
   "nbconvert_exporter": "python",
   "pygments_lexer": "ipython3",
   "version": "3.12.6"
  }
 },
 "nbformat": 4,
 "nbformat_minor": 5
}
