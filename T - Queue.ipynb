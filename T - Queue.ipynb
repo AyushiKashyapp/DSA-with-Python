{
 "cells": [
  {
   "cell_type": "markdown",
   "id": "18a4e9a5-903b-45b9-af74-9814ea1843dc",
   "metadata": {},
   "source": [
    "# Queue with Python Lists with no capacity"
   ]
  },
  {
   "cell_type": "code",
   "execution_count": 7,
   "id": "a34043cf-dce1-40c4-bc1c-fe9ffd50d2fd",
   "metadata": {},
   "outputs": [],
   "source": [
    "class Queuenocapacity:\n",
    "\n",
    "    def __init__(self):\n",
    "        self.items = []\n",
    "\n",
    "    def __str__(self):\n",
    "        values = [str(x) for x in self.items]\n",
    "        return ' '.join(values)\n",
    "\n",
    "    def isempty(self):\n",
    "        if self.items == []:\n",
    "            return True\n",
    "        else:\n",
    "            return False\n",
    "\n",
    "    def enqueue(self, value):\n",
    "        self.items.append(value)\n",
    "        return \"Element Inserted\"\n",
    "\n",
    "    def dequeue(self):\n",
    "        if self.isempty():\n",
    "            return \"No element\"\n",
    "        else:\n",
    "            return self.items.pop(0)\n",
    "\n",
    "    def peek(self):\n",
    "        if self.isempty():\n",
    "            return \"No element\"\n",
    "        else:\n",
    "            return self.items[0]\n",
    "\n",
    "    def delete(self):\n",
    "        self.items = None"
   ]
  },
  {
   "cell_type": "code",
   "execution_count": 8,
   "id": "7d047802-87d3-48bd-97a1-5378a8cdf1c5",
   "metadata": {},
   "outputs": [
    {
     "name": "stdout",
     "output_type": "stream",
     "text": [
      "Is Queue Empty?  True\n",
      "Enqueue to Queue \n",
      "1 2 3 4\n",
      "Dequeue from Queue \n",
      "2 3 4\n",
      "First element of Queue  2\n"
     ]
    }
   ],
   "source": [
    "q = Queuenocapacity()\n",
    "print(\"Is Queue Empty? \", q.isempty())\n",
    "q.enqueue(1)\n",
    "q.enqueue(2)\n",
    "q.enqueue(3)\n",
    "q.enqueue(4)\n",
    "print(\"Enqueue to Queue \")\n",
    "print(q)\n",
    "print(\"Dequeue from Queue \")\n",
    "q.dequeue()\n",
    "print(q)\n",
    "print(\"First element of Queue \", q.peek())"
   ]
  },
  {
   "cell_type": "markdown",
   "id": "9b3189e4-c591-498b-9c46-c94197082188",
   "metadata": {},
   "source": [
    "# Queue with Python Lists with capacity (Circular Queue)"
   ]
  },
  {
   "cell_type": "code",
   "execution_count": 28,
   "id": "1d789ef1-e43d-4f16-a015-412026971337",
   "metadata": {},
   "outputs": [],
   "source": [
    "class QueuewithCapacity:\n",
    "\n",
    "    def __init__(self, maxsize):\n",
    "        self.items = maxsize * [None]\n",
    "        self.maxsize = maxsize\n",
    "        self.start = -1\n",
    "        self.top = -1\n",
    "\n",
    "    def __str__(self):\n",
    "        values = [str(x) for x in self.items]\n",
    "        return ' '.join(values)\n",
    "\n",
    "    def isfull(self):\n",
    "        if self.top + 1 == self.start:\n",
    "            return True\n",
    "        elif self.start == 0 and self.top + 1 == self.maxsize:\n",
    "            return True\n",
    "        return False\n",
    "\n",
    "    def isempty(self):\n",
    "        if self.top == -1:\n",
    "            return True\n",
    "        return False\n",
    "\n",
    "    def enqueue(self, value):\n",
    "        if self.isfull():\n",
    "            return \"Queue is full\"\n",
    "        else:\n",
    "            if self.top + 1 == self.maxsize:\n",
    "                self.top = 0\n",
    "            else:\n",
    "                self.top += 1\n",
    "                if self.start == -1:\n",
    "                    self.start = 0\n",
    "            self.items[self.top] = value\n",
    "            return \"Element inserted at the end of the list.\"\n",
    "\n",
    "    def dequeue(self):\n",
    "        if self.isempty():\n",
    "            return \"List is empty\"\n",
    "        else:\n",
    "            firstelement = self.items[self.start]\n",
    "            start= self.start\n",
    "            if self.start == self.top:\n",
    "                self.start = -1\n",
    "                self.top = -1\n",
    "            elif self.start + 1 == self.maxsize:\n",
    "                self.start = 0\n",
    "            else:\n",
    "                self.start += 1\n",
    "        self.items[start] = None\n",
    "        return firstelement\n",
    "\n",
    "    def peek(self):\n",
    "        if self.isempty():\n",
    "            return \"List is empty\"\n",
    "        else:\n",
    "            return self.items[self.start]\n",
    "\n",
    "    def delete(self):\n",
    "        self.items = self.maxsize * [None]\n",
    "        self.top = -1\n",
    "        self.start = -1"
   ]
  },
  {
   "cell_type": "code",
   "execution_count": 29,
   "id": "db56692a-5a6e-4e06-8b67-c7dab2641f7e",
   "metadata": {},
   "outputs": [
    {
     "name": "stdout",
     "output_type": "stream",
     "text": [
      "Is Queue Full?  False\n",
      "Is Queue Empty?  True\n",
      "Enqueue to Queue \n",
      "1 2 3 4\n",
      "Dequeue from Queue \n",
      "None 2 3 4\n",
      "First element of Queue  2\n"
     ]
    }
   ],
   "source": [
    "qc = QueuewithCapacity(4)\n",
    "print(\"Is Queue Full? \", qc.isfull())\n",
    "print(\"Is Queue Empty? \", qc.isempty())\n",
    "qc.enqueue(1)\n",
    "qc.enqueue(2)\n",
    "qc.enqueue(3)\n",
    "qc.enqueue(4)\n",
    "print(\"Enqueue to Queue \")\n",
    "print(qc)\n",
    "print(\"Dequeue from Queue \")\n",
    "qc.dequeue()\n",
    "print(qc)\n",
    "print(\"First element of Queue \", qc.peek())\n",
    "qc.delete()"
   ]
  },
  {
   "cell_type": "markdown",
   "id": "614dc324-5410-4741-a9aa-e68b9c96459b",
   "metadata": {},
   "source": [
    "# Queue using the Linked List"
   ]
  },
  {
   "cell_type": "code",
   "execution_count": 30,
   "id": "f63b7847-77f7-484a-8aa3-d5c84eca51ff",
   "metadata": {},
   "outputs": [],
   "source": [
    "class Node:\n",
    "    \n",
    "    def __init__(self, value):\n",
    "        self.value = value\n",
    "        self.next = None\n",
    "\n",
    "    def __str__(self):\n",
    "        return str(self.value)\n",
    "\n",
    "class LinkedList:\n",
    "\n",
    "    def __init__(self):\n",
    "        self.head = None\n",
    "        self.tail = None\n",
    "\n",
    "    def __iter__(self):\n",
    "        current = self.head\n",
    "        while current:\n",
    "            yield current\n",
    "            current = current.next"
   ]
  },
  {
   "cell_type": "code",
   "execution_count": 40,
   "id": "55b3a14e-f99e-4057-ad90-642259d46dbb",
   "metadata": {},
   "outputs": [],
   "source": [
    "class QueueLinkedList:\n",
    "\n",
    "    def __init__(self):\n",
    "        self.linkedlist = LinkedList()\n",
    "\n",
    "    def __str__(self):\n",
    "        values = [str(x.value) for x in self.linkedlist]\n",
    "        return ' '.join(values)\n",
    "\n",
    "    def enqueue(self, value):\n",
    "        newnode = Node(value)\n",
    "        if self.linkedlist.head is None:\n",
    "            self.linkedlist.head = newnode\n",
    "            self.linkedlist.tail = newnode\n",
    "        else:\n",
    "            self.linkedlist.tail.next = newnode\n",
    "            self.linkedlist.tail = newnode\n",
    "\n",
    "    def isempty(self):\n",
    "        if self.linkedlist.head is None:\n",
    "            return True\n",
    "        return False\n",
    "\n",
    "    def dequeue(self):\n",
    "        if self.linkedlist.head is None:\n",
    "            return \"No Nodes\"\n",
    "        else:\n",
    "            deletenode = self.linkedlist.head\n",
    "            if self.linkedlist.head == self.linkedlist.tail:\n",
    "                self.linkedlist.head = None\n",
    "                self.linkedlist.tail = None\n",
    "            else:\n",
    "                self.linkedlist.head = self.linkedlist.head.next\n",
    "            return deletenode\n",
    "\n",
    "    def peek(self):\n",
    "        if self.isempty():\n",
    "            return \"No Nodes\"\n",
    "        else:\n",
    "            return self.linkedlist.head\n",
    "\n",
    "    def delete(self):\n",
    "        self.linkedlist.head = None\n",
    "        self.linkedlist.tail = None"
   ]
  },
  {
   "cell_type": "code",
   "execution_count": 41,
   "id": "75edb086-3ab3-44c5-8ed6-20c09a03d876",
   "metadata": {},
   "outputs": [
    {
     "name": "stdout",
     "output_type": "stream",
     "text": [
      "Enqueue to Queue \n",
      "1 2 3 4\n",
      "Is Queue Empty?  False\n",
      "Dequeue from Queue \n",
      "2 3 4\n",
      "First element of Queue  2\n"
     ]
    }
   ],
   "source": [
    "ql = QueueLinkedList()\n",
    "ql.enqueue(1)\n",
    "ql.enqueue(2)\n",
    "ql.enqueue(3)\n",
    "ql.enqueue(4)\n",
    "print(\"Enqueue to Queue \")\n",
    "print(ql)\n",
    "print(\"Is Queue Empty? \", ql.isempty())\n",
    "print(\"Dequeue from Queue \")\n",
    "ql.dequeue()\n",
    "print(ql)\n",
    "print(\"First element of Queue \", ql.peek())\n",
    "ql.delete()"
   ]
  },
  {
   "cell_type": "markdown",
   "id": "8ddb25d4-d653-4475-a92e-3c8427f8ca3f",
   "metadata": {},
   "source": [
    "# Python modules"
   ]
  },
  {
   "cell_type": "markdown",
   "id": "6726d299-4275-48e7-8feb-2d60e2f49d8c",
   "metadata": {},
   "source": [
    "## deque()"
   ]
  },
  {
   "cell_type": "code",
   "execution_count": 42,
   "id": "f57c5a5f-6ff5-4e80-b658-9e5f46bc40b8",
   "metadata": {},
   "outputs": [
    {
     "name": "stdout",
     "output_type": "stream",
     "text": [
      "deque([], maxlen=3)\n"
     ]
    }
   ],
   "source": [
    "from collections import deque\n",
    "\n",
    "dequeQueue = deque(maxlen = 3)\n",
    "print(dequeQueue)"
   ]
  },
  {
   "cell_type": "code",
   "execution_count": 43,
   "id": "667d1d37-851f-49f6-96fc-ca9ff798f6f4",
   "metadata": {},
   "outputs": [
    {
     "name": "stdout",
     "output_type": "stream",
     "text": [
      "deque([10, 20, 30], maxlen=3)\n"
     ]
    }
   ],
   "source": [
    "dequeQueue.append(10)\n",
    "dequeQueue.append(20)\n",
    "dequeQueue.append(30)\n",
    "print(dequeQueue)"
   ]
  },
  {
   "cell_type": "code",
   "execution_count": 44,
   "id": "7145bc14-6e2c-46b8-97c6-8019a54117e2",
   "metadata": {},
   "outputs": [
    {
     "name": "stdout",
     "output_type": "stream",
     "text": [
      "deque([20, 30, 40], maxlen=3)\n"
     ]
    }
   ],
   "source": [
    "dequeQueue.append(40)\n",
    "print(dequeQueue)"
   ]
  },
  {
   "cell_type": "code",
   "execution_count": 45,
   "id": "401724f9-69e7-49bb-b381-98ecc7dac18f",
   "metadata": {},
   "outputs": [
    {
     "name": "stdout",
     "output_type": "stream",
     "text": [
      "deque([30, 40], maxlen=3)\n"
     ]
    }
   ],
   "source": [
    "dequeQueue.popleft()\n",
    "print(dequeQueue)"
   ]
  },
  {
   "cell_type": "code",
   "execution_count": 46,
   "id": "29e00098-29b5-48f3-bf84-ac292ddc31d1",
   "metadata": {},
   "outputs": [
    {
     "name": "stdout",
     "output_type": "stream",
     "text": [
      "deque([], maxlen=3)\n"
     ]
    }
   ],
   "source": [
    "dequeQueue.clear()\n",
    "print(dequeQueue)"
   ]
  },
  {
   "cell_type": "markdown",
   "id": "0dfdb692-675d-4ddd-a9dd-133da869c0d2",
   "metadata": {},
   "source": [
    "## queue"
   ]
  },
  {
   "cell_type": "code",
   "execution_count": 50,
   "id": "a15a3ef3-3f39-45aa-b51f-e5a1b71839ad",
   "metadata": {},
   "outputs": [
    {
     "name": "stdout",
     "output_type": "stream",
     "text": [
      "Is Queue empty?  True\n",
      "Is Queue full?  True\n",
      "First element  1\n",
      "Queue size  2\n"
     ]
    }
   ],
   "source": [
    "import queue as q\n",
    "\n",
    "qQueue = q.Queue(maxsize = 3)\n",
    "print(\"Is Queue empty? \",qQueue.empty())\n",
    "qQueue.put(1)\n",
    "qQueue.put(2)\n",
    "qQueue.put(3)\n",
    "print(\"Is Queue full? \", qQueue.full())\n",
    "print(\"First element \", qQueue.get())\n",
    "print(\"Queue size \", qQueue.qsize())"
   ]
  },
  {
   "cell_type": "markdown",
   "id": "c93660cb-5a7e-436d-802c-6c2a4a4f1bea",
   "metadata": {},
   "source": [
    "## multiprocessing"
   ]
  },
  {
   "cell_type": "code",
   "execution_count": 51,
   "id": "c916f4c1-84a2-4f3e-ba2b-1936b1ae8d0d",
   "metadata": {},
   "outputs": [
    {
     "name": "stdout",
     "output_type": "stream",
     "text": [
      "Is Queue full?  False\n",
      "First element  1\n"
     ]
    }
   ],
   "source": [
    "from multiprocessing import Queue\n",
    "\n",
    "mQueue = Queue(maxsize = 3)\n",
    "mQueue.put(1)\n",
    "mQueue.put(2)\n",
    "mQueue.put(3)\n",
    "print(\"Is Queue full? \", qQueue.full())\n",
    "print(\"First element \", mQueue.get())"
   ]
  },
  {
   "cell_type": "code",
   "execution_count": null,
   "id": "1b675cd4-2be9-4f6c-b9ba-69acd4aafb74",
   "metadata": {},
   "outputs": [],
   "source": []
  }
 ],
 "metadata": {
  "kernelspec": {
   "display_name": "Python 3 (ipykernel)",
   "language": "python",
   "name": "python3"
  },
  "language_info": {
   "codemirror_mode": {
    "name": "ipython",
    "version": 3
   },
   "file_extension": ".py",
   "mimetype": "text/x-python",
   "name": "python",
   "nbconvert_exporter": "python",
   "pygments_lexer": "ipython3",
   "version": "3.12.6"
  }
 },
 "nbformat": 4,
 "nbformat_minor": 5
}
