{
 "cells": [
  {
   "cell_type": "code",
   "execution_count": 3,
   "id": "e5544dc4-8900-4722-a043-4b99aa51468c",
   "metadata": {},
   "outputs": [],
   "source": [
    "n = 5"
   ]
  },
  {
   "cell_type": "markdown",
   "id": "438a64ff-413e-4433-9a20-23b9e5ab1c08",
   "metadata": {},
   "source": [
    "1. 1's Triangle"
   ]
  },
  {
   "cell_type": "code",
   "execution_count": 4,
   "id": "5e0fbc12-69c2-4bba-93b5-54ad32854f28",
   "metadata": {},
   "outputs": [
    {
     "name": "stdout",
     "output_type": "stream",
     "text": [
      "1 \n",
      "1 1 \n",
      "1 1 1 \n",
      "1 1 1 1 \n",
      "1 1 1 1 1 \n"
     ]
    }
   ],
   "source": [
    "for i in range(n):\n",
    "    for j in range(i + 1):\n",
    "        print('1', end = ' ')\n",
    "    print()"
   ]
  },
  {
   "cell_type": "markdown",
   "id": "f09e50b3-e213-406e-871c-c8f0d5a43328",
   "metadata": {},
   "source": [
    "## Changing Row\n",
    "### Initialize P --> Outside / Before outer loop\n",
    "### Increament/ Decrement P --> Inside Outer loop / Outside or after Inner loop"
   ]
  },
  {
   "cell_type": "markdown",
   "id": "d750fc09-1c48-4e9b-a117-05b547550eaf",
   "metadata": {},
   "source": [
    "2. Increasing Right Triangle - Increasing Number"
   ]
  },
  {
   "cell_type": "code",
   "execution_count": 5,
   "id": "9f1db996-eef0-43f8-81b4-b1211d1348dd",
   "metadata": {},
   "outputs": [
    {
     "name": "stdout",
     "output_type": "stream",
     "text": [
      "1 \n",
      "2 2 \n",
      "3 3 3 \n",
      "4 4 4 4 \n",
      "5 5 5 5 5 \n"
     ]
    }
   ],
   "source": [
    "p = 1\n",
    "for i in range(n):\n",
    "    for j in range(i + 1):\n",
    "        print(p, end = ' ')\n",
    "    p += 1\n",
    "    print()"
   ]
  },
  {
   "cell_type": "markdown",
   "id": "27579c71-6c64-4377-aa7f-91e9709750a1",
   "metadata": {},
   "source": [
    "3. Increasing Left Triangle - Increasing Number"
   ]
  },
  {
   "cell_type": "code",
   "execution_count": 7,
   "id": "72571c11-bbc2-458d-b5f0-a60ebd327c90",
   "metadata": {},
   "outputs": [
    {
     "name": "stdout",
     "output_type": "stream",
     "text": [
      "  1 1 1 1 1 \n",
      "    2 2 2 2 \n",
      "      3 3 3 \n",
      "        4 4 \n",
      "          5 \n"
     ]
    }
   ],
   "source": [
    "p = 1\n",
    "for i in range(n):\n",
    "    for j in range(i + 1):\n",
    "        print(' ', end = ' ')\n",
    "    for j in range(i, n):\n",
    "        print(p, end = ' ')\n",
    "    p += 1\n",
    "    print()"
   ]
  },
  {
   "cell_type": "markdown",
   "id": "d56f159e-1268-42aa-8479-a1475559a04f",
   "metadata": {},
   "source": [
    "4. Hill - Increasing Number"
   ]
  },
  {
   "cell_type": "code",
   "execution_count": 8,
   "id": "bab92f44-872d-425a-9eab-bbfe51e58fec",
   "metadata": {},
   "outputs": [
    {
     "name": "stdout",
     "output_type": "stream",
     "text": [
      "          1 \n",
      "        2 2 2 \n",
      "      3 3 3 3 3 \n",
      "    4 4 4 4 4 4 4 \n",
      "  5 5 5 5 5 5 5 5 5 \n"
     ]
    }
   ],
   "source": [
    "p = 1\n",
    "for i in range(n):\n",
    "    for j in range(i, n):\n",
    "        print(' ', end = ' ')\n",
    "    for j in range(i):\n",
    "        print(p, end = ' ')\n",
    "    for j in range(i + 1):\n",
    "        print(p, end = ' ')\n",
    "    p += 1\n",
    "    print()"
   ]
  },
  {
   "cell_type": "markdown",
   "id": "9770f847-667b-4d2c-9088-bb8e04640fd4",
   "metadata": {},
   "source": [
    "5. Reverse Hill - Increasing Number"
   ]
  },
  {
   "cell_type": "code",
   "execution_count": 10,
   "id": "7bdc7ea3-9072-4f79-8fb4-9471519acad5",
   "metadata": {},
   "outputs": [
    {
     "name": "stdout",
     "output_type": "stream",
     "text": [
      "  1 1 1 1 1 1 1 1 1 \n",
      "    2 2 2 2 2 2 2 \n",
      "      3 3 3 3 3 \n",
      "        4 4 4 \n",
      "          5 \n"
     ]
    }
   ],
   "source": [
    "p = 1\n",
    "for i in range(n):\n",
    "    for j in range(i + 1):\n",
    "        print(' ', end = ' ')\n",
    "    for j in range(i, n - 1):\n",
    "        print(p, end = ' ')\n",
    "    for j in range(i, n):\n",
    "        print(p, end = ' ')\n",
    "    p += 1\n",
    "    print()"
   ]
  },
  {
   "cell_type": "markdown",
   "id": "c07299ff-98e7-4785-ad7e-e4e3aceefb9d",
   "metadata": {},
   "source": [
    "6. Right Triangle - Decreasing Number"
   ]
  },
  {
   "cell_type": "code",
   "execution_count": 11,
   "id": "4b8c7081-f073-43b7-b86b-537d197a3895",
   "metadata": {},
   "outputs": [
    {
     "name": "stdout",
     "output_type": "stream",
     "text": [
      "5 \n",
      "4 4 \n",
      "3 3 3 \n",
      "2 2 2 2 \n",
      "1 1 1 1 1 \n"
     ]
    }
   ],
   "source": [
    "p = 5\n",
    "for i in range(n):\n",
    "    for j in range(i + 1):\n",
    "        print(p, end = ' ')\n",
    "    p -= 1\n",
    "    print()"
   ]
  },
  {
   "cell_type": "markdown",
   "id": "16d908dc-9795-46f9-8986-f43a259abc9b",
   "metadata": {},
   "source": [
    "6. Left Triangle - Decreasing Number"
   ]
  },
  {
   "cell_type": "code",
   "execution_count": 13,
   "id": "5fa0271e-15d1-4448-8ed0-2480db9c2279",
   "metadata": {},
   "outputs": [
    {
     "name": "stdout",
     "output_type": "stream",
     "text": [
      "  5 5 5 5 5 \n",
      "    4 4 4 4 \n",
      "      3 3 3 \n",
      "        2 2 \n",
      "          1 \n"
     ]
    }
   ],
   "source": [
    "p = 5\n",
    "for i in range(n):\n",
    "    for j in range(i + 1):\n",
    "        print(' ', end = ' ')\n",
    "    for j in range(i, n):\n",
    "        print(p, end = ' ')\n",
    "    p -= 1\n",
    "    print()"
   ]
  },
  {
   "cell_type": "markdown",
   "id": "c23de44a-2921-4d47-8ab0-221fb0c92578",
   "metadata": {},
   "source": [
    "7. Hill - Decreasing Number"
   ]
  },
  {
   "cell_type": "code",
   "execution_count": 16,
   "id": "c2a99e6c-2f43-4a9c-bcd1-69c9ae39613a",
   "metadata": {},
   "outputs": [
    {
     "name": "stdout",
     "output_type": "stream",
     "text": [
      "          5 \n",
      "        4 4 4 \n",
      "      3 3 3 3 3 \n",
      "    2 2 2 2 2 2 2 \n",
      "  1 1 1 1 1 1 1 1 1 \n"
     ]
    }
   ],
   "source": [
    "p =5\n",
    "for i in range(n):\n",
    "    for j in range(i, n):\n",
    "        print(' ', end = ' ')\n",
    "    for j in range(i):\n",
    "        print(p, end = ' ')\n",
    "    for j in range(i + 1):\n",
    "        print(p, end = ' ')\n",
    "    p -= 1\n",
    "    print()"
   ]
  },
  {
   "cell_type": "markdown",
   "id": "8bf37b4c-ce28-4a27-9e72-38febf2f746f",
   "metadata": {},
   "source": [
    "8. Reverse Hill - Decreasing Number"
   ]
  },
  {
   "cell_type": "code",
   "execution_count": 15,
   "id": "c09e7d60-d3a9-4411-b528-766672ab2244",
   "metadata": {},
   "outputs": [
    {
     "name": "stdout",
     "output_type": "stream",
     "text": [
      "  5 5 5 5 5 5 5 5 5 \n",
      "    4 4 4 4 4 4 4 \n",
      "      3 3 3 3 3 \n",
      "        2 2 2 \n",
      "          1 \n"
     ]
    }
   ],
   "source": [
    "p = 5\n",
    "for i in range(n):\n",
    "    for j in range(i + 1):\n",
    "        print(' ', end = ' ')\n",
    "    for j in range(i, n - 1):\n",
    "        print(p, end = ' ')\n",
    "    for j in range(i, n):\n",
    "        print(p, end = ' ')\n",
    "    p -= 1\n",
    "    print()"
   ]
  },
  {
   "cell_type": "markdown",
   "id": "3faca0bf-8267-45db-baf3-0ad8235cb259",
   "metadata": {},
   "source": [
    "9. Right Triangle - Increase number by 2"
   ]
  },
  {
   "cell_type": "code",
   "execution_count": 17,
   "id": "71aaf7d1-5884-4607-aa8b-15f1a1d99e4e",
   "metadata": {},
   "outputs": [
    {
     "name": "stdout",
     "output_type": "stream",
     "text": [
      "0 \n",
      "2 2 \n",
      "4 4 4 \n",
      "6 6 6 6 \n",
      "8 8 8 8 8 \n"
     ]
    }
   ],
   "source": [
    "p = 0\n",
    "for i in range(n):\n",
    "    for j in range(i + 1):\n",
    "        print(p, end = ' ')\n",
    "    p += 2\n",
    "    print()"
   ]
  },
  {
   "cell_type": "markdown",
   "id": "83d7b872-aedf-4860-a7e0-66dab7776eb3",
   "metadata": {},
   "source": [
    "10. Right Triangle - Alternate numbers"
   ]
  },
  {
   "cell_type": "code",
   "execution_count": 20,
   "id": "7ea39621-2c9d-452e-9063-2e3bf101446c",
   "metadata": {},
   "outputs": [
    {
     "name": "stdout",
     "output_type": "stream",
     "text": [
      "1 \n",
      "2 2 \n",
      "1 1 1 \n",
      "2 2 2 2 \n",
      "1 1 1 1 1 \n"
     ]
    }
   ],
   "source": [
    "for i in range(n):\n",
    "    for j in range(i + 1):\n",
    "        if i % 2 == 0:\n",
    "            print('1', end = ' ')\n",
    "        else:\n",
    "            print('2', end = ' ')\n",
    "    print()"
   ]
  },
  {
   "cell_type": "markdown",
   "id": "2739c91a-19b3-46b0-a2f8-1189d010175b",
   "metadata": {},
   "source": [
    "11. Left Triangle - Alternate characters"
   ]
  },
  {
   "cell_type": "code",
   "execution_count": 22,
   "id": "d5e1c892-397e-4294-a965-56be6b4d6cb5",
   "metadata": {},
   "outputs": [
    {
     "name": "stdout",
     "output_type": "stream",
     "text": [
      "  # # # # # \n",
      "    $ $ $ $ \n",
      "      # # # \n",
      "        $ $ \n",
      "          # \n"
     ]
    }
   ],
   "source": [
    "for i in range(n):\n",
    "    for j in range(i + 1):\n",
    "        print(' ', end = ' ')\n",
    "    for j in range(i, n):\n",
    "        if i % 2 == 0:\n",
    "            print('#', end = ' ')\n",
    "        else:\n",
    "            print('$', end = ' ')\n",
    "    print()"
   ]
  },
  {
   "cell_type": "markdown",
   "id": "90a18980-9a0f-4a02-94a3-a1f0f57c288f",
   "metadata": {},
   "source": [
    "12. Hill - Alternate characters"
   ]
  },
  {
   "cell_type": "code",
   "execution_count": 33,
   "id": "796eb94e-8a83-4274-9f39-cd6c8ab70d7e",
   "metadata": {},
   "outputs": [
    {
     "name": "stdout",
     "output_type": "stream",
     "text": [
      "          a \n",
      "        b b b \n",
      "      a a a a a \n",
      "    b b b b b b b \n",
      "  a a a a a a a a a \n"
     ]
    }
   ],
   "source": [
    "for i in range(n):\n",
    "    for j in range(i, n):\n",
    "        print(' ', end = ' ')\n",
    "    for j in range(i):\n",
    "        if i % 2 == 0:\n",
    "            print('a', end = ' ')\n",
    "        else:\n",
    "            print('b', end = ' ')\n",
    "    for j in range(i + 1):\n",
    "        if i % 2 == 0:\n",
    "            print('a', end = ' ')\n",
    "        else:\n",
    "            print('b', end = ' ')\n",
    "    print()"
   ]
  },
  {
   "cell_type": "markdown",
   "id": "8ca6f1ba-6175-46bb-9ab6-b7e55cb3dbac",
   "metadata": {},
   "source": [
    "13. Reverse Hill - Alternate Character"
   ]
  },
  {
   "cell_type": "code",
   "execution_count": 40,
   "id": "a2735d6b-cf75-4c20-840d-e8fcf4b8b591",
   "metadata": {},
   "outputs": [
    {
     "name": "stdout",
     "output_type": "stream",
     "text": [
      "  a a a a a a a a a \n",
      "    b b b b b b b \n",
      "      a a a a a \n",
      "        b b b \n",
      "          a \n"
     ]
    }
   ],
   "source": [
    "for i in range(n):\n",
    "    for j in range(i + 1):\n",
    "        print(' ', end = ' ')\n",
    "    for j in range(i, n - 1):\n",
    "        if i % 2 == 0:\n",
    "            print('a', end = ' ')\n",
    "        else:\n",
    "            print('b', end = ' ')\n",
    "    for j in range(i, n):\n",
    "        if i % 2 == 0:\n",
    "            print('a', end = ' ')\n",
    "        else:\n",
    "            print('b', end = ' ')\n",
    "    print()"
   ]
  },
  {
   "cell_type": "markdown",
   "id": "611dcebe-44f6-438e-b96d-95a0fc9d1d74",
   "metadata": {},
   "source": [
    "14. Diamond - Increasing Number"
   ]
  },
  {
   "cell_type": "code",
   "execution_count": 47,
   "id": "e8dc5396-afab-4c8b-b5a9-6846637f937d",
   "metadata": {},
   "outputs": [
    {
     "name": "stdout",
     "output_type": "stream",
     "text": [
      "          1 \n",
      "        2 2 2 \n",
      "      3 3 3 3 3 \n",
      "    4 4 4 4 4 4 4 \n",
      "  5 5 5 5 5 5 5 5 5 \n",
      "    6 6 6 6 6 6 6 \n",
      "      7 7 7 7 7 \n",
      "        8 8 8 \n",
      "          9 \n"
     ]
    }
   ],
   "source": [
    "p = 1\n",
    "for i in range(n - 1):\n",
    "    for j in range(i, n):\n",
    "        print(' ', end = ' ')\n",
    "    for j in range(i):\n",
    "        print(p, end = ' ')\n",
    "    for j in range(i + 1):\n",
    "        print(p, end = ' ')\n",
    "    p += 1\n",
    "    print()\n",
    "for i in range(n):\n",
    "    for j in range(i + 1):\n",
    "        print(' ', end = ' ')\n",
    "    for j in range(i, n - 1):\n",
    "        print(p, end = ' ')\n",
    "    for j in range(i, n):\n",
    "        print(p, end = ' ')\n",
    "    p += 1\n",
    "    print()"
   ]
  },
  {
   "cell_type": "markdown",
   "id": "0555406e-4e15-44b1-8e87-6d00cee76f7b",
   "metadata": {},
   "source": [
    "15. Diamond - Increasing and then Decreasing Number"
   ]
  },
  {
   "cell_type": "code",
   "execution_count": 5,
   "id": "1de224e8-fe31-490e-8292-2ce7df5c42dc",
   "metadata": {},
   "outputs": [
    {
     "name": "stdout",
     "output_type": "stream",
     "text": [
      "          1 \n",
      "        2 2 2 \n",
      "      3 3 3 3 3 \n",
      "    4 4 4 4 4 4 4 \n",
      "  5 5 5 5 5 5 5 5 5 \n",
      "    4 4 4 4 4 4 4 \n",
      "      3 3 3 3 3 \n",
      "        2 2 2 \n",
      "          1 \n"
     ]
    }
   ],
   "source": [
    "p = 1\n",
    "for i in range(n - 1):\n",
    "    for j in range(i,n):\n",
    "        print(' ', end = ' ')\n",
    "    for j in range(i):\n",
    "        print(p, end = ' ')\n",
    "    for j in range(i + 1):\n",
    "        print(p, end = ' ')\n",
    "    p += 1\n",
    "    print()\n",
    "for i in range(n):\n",
    "    for j in range(i + 1):\n",
    "        print(' ', end = ' ')\n",
    "    for j in range(i, n - 1):\n",
    "        print(p, end = ' ')\n",
    "    for j in range(i, n):\n",
    "        print(p, end = ' ')\n",
    "    p -= 1\n",
    "    print()"
   ]
  },
  {
   "cell_type": "markdown",
   "id": "01f14c24-cd51-4b49-b665-99585a00c12f",
   "metadata": {},
   "source": [
    "## Changing Column\n",
    "### Initialize P --> Inside outer loop\n",
    "### Increament/ Decrement P --> Inside Inner loop"
   ]
  },
  {
   "cell_type": "markdown",
   "id": "4d2682f3-17ca-4b7e-8d2e-b3b6af011d6e",
   "metadata": {},
   "source": [
    "16. Right Triangle - Increasing Number"
   ]
  },
  {
   "cell_type": "code",
   "execution_count": 7,
   "id": "e8a29205-ba77-4f7e-b6b6-3c453ad06470",
   "metadata": {},
   "outputs": [
    {
     "name": "stdout",
     "output_type": "stream",
     "text": [
      "1 \n",
      "1 2 \n",
      "1 2 3 \n",
      "1 2 3 4 \n",
      "1 2 3 4 5 \n"
     ]
    }
   ],
   "source": [
    "for i in range(n):\n",
    "    p = 1\n",
    "    for j in range(i + 1):\n",
    "        print(p, end = ' ')\n",
    "        p += 1\n",
    "    print()"
   ]
  },
  {
   "cell_type": "markdown",
   "id": "1aed299c-4e4b-4186-b56e-d7e9ee082366",
   "metadata": {},
   "source": [
    "17. Left Triangle - Increasing Number"
   ]
  },
  {
   "cell_type": "code",
   "execution_count": 10,
   "id": "cc432b05-cbf7-4efe-b250-06ea654db438",
   "metadata": {},
   "outputs": [
    {
     "name": "stdout",
     "output_type": "stream",
     "text": [
      "  1 2 3 4 5 \n",
      "    1 2 3 4 \n",
      "      1 2 3 \n",
      "        1 2 \n",
      "          1 \n"
     ]
    }
   ],
   "source": [
    "for i in range(n):\n",
    "    p = 1\n",
    "    for j in range(i + 1):\n",
    "        print(' ', end = ' ')\n",
    "    for j in range(i, n):\n",
    "        print(p, end = ' ')\n",
    "        p += 1\n",
    "    print()"
   ]
  },
  {
   "cell_type": "markdown",
   "id": "66f492d6-3892-4ad1-9bf6-ae832d92e425",
   "metadata": {},
   "source": [
    "18. Hill - Increasing Number"
   ]
  },
  {
   "cell_type": "code",
   "execution_count": 12,
   "id": "1449d057-b730-4385-ba73-078c417fef85",
   "metadata": {},
   "outputs": [
    {
     "name": "stdout",
     "output_type": "stream",
     "text": [
      "          1 \n",
      "        1 2 3 \n",
      "      1 2 3 4 5 \n",
      "    1 2 3 4 5 6 7 \n",
      "  1 2 3 4 5 6 7 8 9 \n"
     ]
    }
   ],
   "source": [
    "for i in range(n):\n",
    "    p = 1\n",
    "    for j in range(i, n):\n",
    "        print(' ', end = ' ')\n",
    "    for j in range(i):\n",
    "        print(p, end = ' ')\n",
    "        p += 1\n",
    "    for j in range(i + 1):\n",
    "        print(p, end = ' ')\n",
    "        p += 1\n",
    "    print()"
   ]
  },
  {
   "cell_type": "markdown",
   "id": "4463e8fa-8bfa-49b7-8129-b76dd0c32b65",
   "metadata": {},
   "source": [
    "19. Diamond - Increasing Number"
   ]
  },
  {
   "cell_type": "code",
   "execution_count": 14,
   "id": "9e253082-0fac-40a1-b487-e540cbaba061",
   "metadata": {},
   "outputs": [
    {
     "name": "stdout",
     "output_type": "stream",
     "text": [
      "          1 \n",
      "        1 2 3 \n",
      "      1 2 3 4 5 \n",
      "    1 2 3 4 5 6 7 \n",
      "  1 2 3 4 5 6 7 8 9 \n",
      "    1 2 3 4 5 6 7 \n",
      "      1 2 3 4 5 \n",
      "        1 2 3 \n",
      "          1 \n"
     ]
    }
   ],
   "source": [
    "for i in range(n - 1):\n",
    "    p = 1\n",
    "    for j in range(i, n):\n",
    "        print(' ', end = ' ')\n",
    "    for j in range(i):\n",
    "        print(p, end = ' ')\n",
    "        p += 1\n",
    "    for j in range(i + 1):\n",
    "        print(p, end = ' ')\n",
    "        p += 1\n",
    "    print()\n",
    "for i in range(n):\n",
    "    p = 1\n",
    "    for j in range(i + 1):\n",
    "        print(' ', end = ' ')\n",
    "    for j in range(i, n - 1):\n",
    "        print(p, end = ' ')\n",
    "        p += 1\n",
    "    for j in range(i, n):\n",
    "        print(p, end = ' ')\n",
    "        p += 1\n",
    "    print()"
   ]
  },
  {
   "cell_type": "markdown",
   "id": "3c6618a8-b8c3-4aca-94e1-5c83c1fb797c",
   "metadata": {},
   "source": [
    "20. Butterfly - Increasing Number"
   ]
  },
  {
   "cell_type": "code",
   "execution_count": 25,
   "id": "6bdfbf42-eaed-41fb-a2d9-0cf29c262271",
   "metadata": {},
   "outputs": [
    {
     "name": "stdout",
     "output_type": "stream",
     "text": [
      "                \n",
      "1             1 \n",
      "1 2         1 2 \n",
      "1 2 3     1 2 3 \n",
      "1 2 3 4 1 2 3 4 \n",
      "1 2 3 4 5 1 2 3 4 5 \n",
      "1 2 3 4     1 2 3 4 \n",
      "1 2 3         1 2 3 \n",
      "1 2             1 2 \n",
      "1                 1 \n"
     ]
    }
   ],
   "source": [
    "for i in range(n):\n",
    "    p = 1\n",
    "    for j in range(i):\n",
    "        print(p, end = ' ')\n",
    "        p += 1\n",
    "    for j in range(i, n - 1):\n",
    "        print(' ', end = ' ')\n",
    "    for j in range(i, n - 1):\n",
    "        print(' ', end = ' ')\n",
    "    p = 1\n",
    "    for j in range(i):\n",
    "        print(p, end = ' ')\n",
    "        p += 1\n",
    "    print()\n",
    "\n",
    "for i in range(n):\n",
    "    p = 1\n",
    "    for j in range(i, n):\n",
    "        print(p, end = ' ')\n",
    "        p += 1\n",
    "    for j in range(i):\n",
    "        print(' ', end = ' ')\n",
    "    for j in range(i):\n",
    "        print(' ', end = ' ')\n",
    "    p = 1\n",
    "    for j in range(i, n):\n",
    "        print(p, end = ' ')\n",
    "        p += 1\n",
    "    print()"
   ]
  },
  {
   "cell_type": "code",
   "execution_count": 26,
   "id": "2b540032-da8b-4c1a-ae5c-e382501ddb52",
   "metadata": {},
   "outputs": [
    {
     "name": "stdout",
     "output_type": "stream",
     "text": [
      "1                 1 \n",
      "1 2             1 2 \n",
      "1 2 3         1 2 3 \n",
      "1 2 3 4     1 2 3 4 \n",
      "1 2 3 4 5 1 2 3 4 5 \n",
      "1 2 3 4 5 1 2 3 4 5 \n",
      "1 2 3 4     1 2 3 4 \n",
      "1 2 3         1 2 3 \n",
      "1 2             1 2 \n",
      "1                 1 \n"
     ]
    }
   ],
   "source": [
    "n = 5  # You can change this value to adjust the size of the butterfly\n",
    "\n",
    "# Upper part of the butterfly\n",
    "for i in range(1, n + 1):\n",
    "    p = 1\n",
    "    for j in range(1, i + 1):\n",
    "        print(p, end=' ')\n",
    "        p += 1\n",
    "    for j in range(2 * (n - i)):\n",
    "        print(' ', end=' ')\n",
    "    p = 1\n",
    "    for j in range(1, i + 1):\n",
    "        print(p, end=' ')\n",
    "        p += 1\n",
    "    print()\n",
    "\n",
    "# Lower part of the butterfly\n",
    "for i in range(n, 0, -1):\n",
    "    p = 1\n",
    "    for j in range(1, i + 1):\n",
    "        print(p, end=' ')\n",
    "        p += 1\n",
    "    for j in range(2 * (n - i)):\n",
    "        print(' ', end=' ')\n",
    "    p = 1\n",
    "    for j in range(1, i + 1):\n",
    "        print(p, end=' ')\n",
    "        p += 1\n",
    "    print()\n"
   ]
  },
  {
   "cell_type": "markdown",
   "id": "b212cd2d-2071-49f1-b080-d9c002cefc08",
   "metadata": {},
   "source": [
    "21. Right Triangle - Decreasing Number"
   ]
  },
  {
   "cell_type": "code",
   "execution_count": 27,
   "id": "84ed86bd-c483-4e5d-a02b-6257aed8a3ea",
   "metadata": {},
   "outputs": [
    {
     "name": "stdout",
     "output_type": "stream",
     "text": [
      "5 \n",
      "5 4 \n",
      "5 4 3 \n",
      "5 4 3 2 \n",
      "5 4 3 2 1 \n"
     ]
    }
   ],
   "source": [
    "for i in range(n):\n",
    "    p = 5\n",
    "    for j in range(i + 1):\n",
    "        print(p, end = ' ')\n",
    "        p -= 1\n",
    "    print()"
   ]
  },
  {
   "cell_type": "markdown",
   "id": "839bbd19-c4fc-43c6-a361-bda02d47d96f",
   "metadata": {},
   "source": [
    "22. Left Triangle - Decreasing Number"
   ]
  },
  {
   "cell_type": "code",
   "execution_count": 28,
   "id": "4efb645e-3c58-465b-b183-15898bdb7f81",
   "metadata": {},
   "outputs": [
    {
     "name": "stdout",
     "output_type": "stream",
     "text": [
      "  5 4 3 2 1 \n",
      "    5 4 3 2 \n",
      "      5 4 3 \n",
      "        5 4 \n",
      "          5 \n"
     ]
    }
   ],
   "source": [
    "for i in range(n):\n",
    "    p = 5\n",
    "    for j in range(i + 1):\n",
    "        print(' ', end = ' ')\n",
    "    for j in range(i, n):\n",
    "        print(p, end = ' ')\n",
    "        p -= 1\n",
    "    print()"
   ]
  },
  {
   "cell_type": "markdown",
   "id": "9add5119-fcf4-4694-bcf3-7f8c70d82d57",
   "metadata": {},
   "source": [
    "23. Left Triangle - Decreasing column number"
   ]
  },
  {
   "cell_type": "code",
   "execution_count": 29,
   "id": "96390dc8-30bf-46ba-82f6-31df7b5fbbbe",
   "metadata": {},
   "outputs": [
    {
     "name": "stdout",
     "output_type": "stream",
     "text": [
      "5 4 3 2 1 \n",
      "  4 3 2 1 \n",
      "    3 2 1 \n",
      "      2 1 \n",
      "        1 \n"
     ]
    }
   ],
   "source": [
    "k = 5\n",
    "for i in range(n):\n",
    "    p = k\n",
    "    for j in range(i):\n",
    "        print(' ', end = ' ')\n",
    "    for j in range(i, n):\n",
    "        print(p, end = ' ')\n",
    "        p -= 1\n",
    "    k -= 1\n",
    "    print()"
   ]
  },
  {
   "cell_type": "markdown",
   "id": "1c7e5529-09a2-4fa2-b847-7ae406e13995",
   "metadata": {},
   "source": [
    "24. Hill - Increasing and Decreasing Numbers"
   ]
  },
  {
   "cell_type": "code",
   "execution_count": 33,
   "id": "47de3afb-fbeb-40a3-8af8-97948798fcbc",
   "metadata": {},
   "outputs": [
    {
     "name": "stdout",
     "output_type": "stream",
     "text": [
      "          1 \n",
      "        1 2 1 \n",
      "      1 2 3 2 1 \n",
      "    1 2 3 4 3 2 1 \n",
      "  1 2 3 4 5 4 3 2 1 \n"
     ]
    }
   ],
   "source": [
    "for i in range(n):\n",
    "    p = 1\n",
    "    for j in range(i, n):\n",
    "        print(' ', end = ' ')\n",
    "    for j in range(i):\n",
    "        print(p, end = ' ')\n",
    "        p += 1\n",
    "    for j in range(i + 1):\n",
    "        print(p, end = ' ')\n",
    "        p -= 1\n",
    "    print()"
   ]
  },
  {
   "cell_type": "markdown",
   "id": "02cf5166-de2d-407a-90f3-6e8c36924961",
   "metadata": {},
   "source": [
    "25. Floyd Triangle"
   ]
  },
  {
   "cell_type": "code",
   "execution_count": 34,
   "id": "2a2672bf-1407-43d3-b74c-0ef76bc2ed5b",
   "metadata": {},
   "outputs": [
    {
     "name": "stdout",
     "output_type": "stream",
     "text": [
      "1 \n",
      "2 3 \n",
      "4 5 6 \n",
      "7 8 9 10 \n",
      "11 12 13 14 15 \n"
     ]
    }
   ],
   "source": [
    "p = 1\n",
    "for i in range(n):\n",
    "    for j in range(i + 1):\n",
    "        print(p, end = ' ')\n",
    "        p += 1\n",
    "    print()"
   ]
  },
  {
   "cell_type": "code",
   "execution_count": null,
   "id": "11ff5b9a-2e9e-476f-a486-d038d993699e",
   "metadata": {},
   "outputs": [],
   "source": []
  }
 ],
 "metadata": {
  "kernelspec": {
   "display_name": "Python 3 (ipykernel)",
   "language": "python",
   "name": "python3"
  },
  "language_info": {
   "codemirror_mode": {
    "name": "ipython",
    "version": 3
   },
   "file_extension": ".py",
   "mimetype": "text/x-python",
   "name": "python",
   "nbconvert_exporter": "python",
   "pygments_lexer": "ipython3",
   "version": "3.12.6"
  }
 },
 "nbformat": 4,
 "nbformat_minor": 5
}
