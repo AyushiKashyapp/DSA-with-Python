{
 "cells": [
  {
   "cell_type": "markdown",
   "metadata": {},
   "source": [
    "#### Sum and Product\n",
    "Write a function that calculates the sum and product of all elements in a tuple of numbers.\n",
    "\n",
    "Time and Space Complexity\n",
    "\n",
    "sum_result = 0 - Constant time complexity O(1) because it's a single assignment operation. Constant space complexity O(1) because it stores a single integer.\n",
    "\n",
    "product_result = 1 - Constant time complexity O(1) because it's a single assignment operation. Constant space complexity O(1) because it stores a single integer.\n",
    "\n",
    "for num in t: - Linear time complexity O(n) for the loop, where n is the number of elements in the tuple. This is because the loop iterates through each element in the tuple once. No additional space is used in the loop.\n",
    "\n",
    "sum_result += num - Constant time complexity O(1) for each addition operation inside the loop.\n",
    "\n",
    "product_result *= num - Constant time complexity O(1) for each multiplication operation inside the loop.\n",
    "\n",
    "return sum_result, product_result - Constant time complexity O(1) because it returns a tuple with two integers. Constant space complexity O(1) because it creates a tuple with two integers.\n",
    "\n",
    "Overall time complexity of the function is O(n) because the loop iterates through each element in the tuple once. The rest of the operations have constant time complexity O(1). The overall space complexity is O(1) because the function uses a constant amount of additional memory to store the sum and product, regardless of the size of the input tuple."
   ]
  },
  {
   "cell_type": "code",
   "execution_count": 2,
   "metadata": {},
   "outputs": [
    {
     "name": "stdout",
     "output_type": "stream",
     "text": [
      "10 24\n"
     ]
    }
   ],
   "source": [
    "input_tuple = (1, 2, 3, 4)\n",
    "\n",
    "def sum_product(input_tuple):\n",
    "    prod, sumn = 1, 0 #o(n)\n",
    "    for i in input_tuple: #o(n)\n",
    "        prod *= i #o(1)\n",
    "        sumn += i #o(1)\n",
    "    return sumn, prod #o(1)\n",
    "\n",
    "sum_result, product_result = sum_product(input_tuple)\n",
    "print(sum_result, product_result)"
   ]
  },
  {
   "cell_type": "markdown",
   "metadata": {},
   "source": [
    "#### Elementwise Sum\n",
    "Create a function that takes two tuples and returns a tuple containing the element-wise sum of the input tuples.\n",
    "\n",
    "Time and Space Complexity\n",
    "\n",
    "if len(t1) != len(t2): - Constant time complexity O(1) for checking the lengths of the tuples. Constant space complexity O(1) as it does not use any additional memory.\n",
    "\n",
    "raise ValueError(\"Input tuples must have the same length.\") - Constant time complexity O(1) for raising an exception. Constant space complexity O(1) for creating the exception object.\n",
    "\n",
    "result = tuple(a + b for a, b in zip(t1, t2)) - Linear time complexity O(n), where n is the length of the input tuples, as it iterates through each pair of elements and computes the element-wise sum. Linear space complexity O(n) because it creates a new tuple with the same length as the input tuples to store the element-wise sums.\n",
    "\n",
    "return result - Constant time complexity O(1) for returning the result. No additional space complexity.\n",
    "\n",
    "Overall time complexity of the function is O(n) because it iterates through each pair of elements in the input tuples once. The overall space complexity is O(n) because the function creates a new tuple with the same length as the input tuples to store the element-wise sums.\n",
    "\n"
   ]
  },
  {
   "cell_type": "code",
   "execution_count": 3,
   "metadata": {},
   "outputs": [
    {
     "name": "stdout",
     "output_type": "stream",
     "text": [
      "(5, 7, 9)\n"
     ]
    }
   ],
   "source": [
    "tuple1 = (1, 2, 3)\n",
    "tuple2 = (4, 5, 6)\n",
    "\n",
    "def tuple_elementwise_sum(tuple1, tuple2):\n",
    "    if len(tuple1) != len(tuple2): #o(1)\n",
    "        raise ValueError(\"Input tuples must have the same length.\") #o(1)\n",
    "    \n",
    "    result = tuple(a + b for a,b in zip(tuple1, tuple2))  #o(n)\n",
    "    return result #o(1)\n",
    "\n",
    "output_tuple = tuple_elementwise_sum(tuple1, tuple2)\n",
    "print(output_tuple)"
   ]
  },
  {
   "cell_type": "markdown",
   "metadata": {},
   "source": [
    "#### Insert at the Beginning\n",
    "Write a function that takes a tuple and a value, and returns a new tuple with the value inserted at the beginning of the original tuple.\n",
    "\n",
    "Time and Space Complexity\n",
    "\n",
    "def insert_value_at_beginning(input_tuple, value_to_insert): - Define a function called \"insert_value_at_beginning\" that takes a tuple \"input_tuple\" and a value \"value_to_insert\" as arguments. No time or space complexity associated with this line as it is just a function definition.\n",
    "\n",
    "return (value_to_insert,) + input_tuple - This line creates a new tuple with the given value as the first element followed by the elements of the original tuple. The tuple concatenation operation has a linear time complexity O(n), where n is the length of the input tuple, as it creates a new tuple by copying the elements from the original tuple. The space complexity is also O(n) because it creates a new tuple with n+1 elements.\n",
    "\n",
    "The overall time complexity of the function is O(n) because it iterates through the elements of the input tuple once to create a new tuple. The overall space complexity is O(n) because it creates a new tuple with n+1 elements."
   ]
  },
  {
   "cell_type": "code",
   "execution_count": 12,
   "metadata": {},
   "outputs": [
    {
     "name": "stdout",
     "output_type": "stream",
     "text": [
      "(1, 2, 3, 4)\n"
     ]
    }
   ],
   "source": [
    "input_tuple = (2, 3, 4)\n",
    "value_to_insert = 1\n",
    "\n",
    "def insert_value_front(input_tuple, value_to_insert):\n",
    "    return (value_to_insert,) + input_tuple\n",
    "\n",
    "output_tuple = insert_value_front(input_tuple, value_to_insert)\n",
    "print(output_tuple) "
   ]
  },
  {
   "cell_type": "markdown",
   "metadata": {},
   "source": [
    "#### Concatenate\n",
    "Write a function that takes a tuple of strings and concatenates them, separating each string with a space.\n",
    "\n",
    "Time and Space Complexity\n",
    "\n",
    "def concatenate_strings(input_tuple): - Define a function called \"concatenate_strings\" that takes a tuple of strings \"input_tuple\" as an argument. No time or space complexity associated with this line as it is just a function definition.\n",
    "\n",
    "return ' '.join(input_tuple) - This line uses the join method on a space character ' ' to concatenate the strings in the input tuple \"input_tuple\" with a space as the separator. The join method has a linear time complexity O(n) because it iterates through each string in the input tuple. The space complexity is also O(n) because it creates a new concatenated string with the length equal to the sum of the lengths of the strings in the input tuple plus the spaces in between.\n",
    "\n",
    "The overall time complexity of the function is O(n) because it iterates through the strings in the input tuple once to create a new concatenated string. The overall space complexity is O(n) because it creates a new concatenated string with the length equal to the sum of the lengths of the strings in the input tuple plus the spaces in between."
   ]
  },
  {
   "cell_type": "code",
   "execution_count": 14,
   "metadata": {},
   "outputs": [
    {
     "name": "stdout",
     "output_type": "stream",
     "text": [
      "Hello World from Python\n"
     ]
    }
   ],
   "source": [
    "input_tuple = ('Hello', 'World', 'from', 'Python')\n",
    "\n",
    "def concatenate_strings(input_tuple):\n",
    "    return ' '.join(input_tuple)\n",
    "\n",
    "output_string = concatenate_strings(input_tuple)\n",
    "print(output_string)"
   ]
  },
  {
   "cell_type": "markdown",
   "metadata": {},
   "source": [
    "#### Diagonal\n",
    "Create a function that takes a tuple of tuples and returns a tuple containing the diagonal elements of the input.\n",
    "\n",
    "Time and Space Complexity\n",
    "\n",
    "def get_diagonal(input_tuple): - Define a function called \"get_diagonal\" that takes a tuple of tuples \"input_tuple\" as an argument. No time or space complexity associated with this line as it is just a function definition.\n",
    "\n",
    "return tuple(input_tuple[i][i] for i in range(len(input_tuple))) - This line uses a generator expression to iterate through the indices i from 0 to the length of the input tuple minus one, and select the diagonal elements by indexing the inner tuples with the same index i. The time complexity is O(n), where n is the length of the input tuple because it iterates through the indices once. The space complexity is O(n) because it creates a new tuple containing the diagonal elements, which has a length equal to the length of the input tuple.\n",
    "\n",
    "The overall time complexity of the function is O(n) because it iterates through the indices of the input tuple once to create a new tuple with the diagonal elements. The overall space complexity is O(n) because it creates a new tuple containing the diagonal elements, which has a length equal to the length of the input tuple."
   ]
  },
  {
   "cell_type": "code",
   "execution_count": 17,
   "metadata": {},
   "outputs": [
    {
     "name": "stdout",
     "output_type": "stream",
     "text": [
      "(1, 5, 9)\n"
     ]
    }
   ],
   "source": [
    "input_tuple = (\n",
    "    (1, 2, 3),\n",
    "    (4, 5, 6),\n",
    "    (7, 8, 9)\n",
    ")\n",
    "\n",
    "def get_diagonal(input_tuple):\n",
    "    return tuple(input_tuple[i][i] for i in range(len(input_tuple)))\n",
    "\n",
    "output_tuple = get_diagonal(input_tuple)\n",
    "print(output_tuple)"
   ]
  },
  {
   "cell_type": "markdown",
   "metadata": {},
   "source": [
    "#### Common Elements\n",
    "Write a function that takes two tuples and returns a tuple containing the common elements of the input tuples.\n",
    "\n",
    "Time and Space Complexity\n",
    "\n",
    "def common_elements(tuple1, tuple2): - Define a function called \"common_elements\" that takes two tuples \"tuple1\" and \"tuple2\" as arguments. No time or space complexity associated with this line as it is just a function definition.\n",
    "\n",
    "return tuple(set(tuple1) & set(tuple2)) - This line creates two sets from the input tuples using the set() constructor, and then computes the set intersection using the & operator. The time complexity of creating each set is O(n), where n is the length of the input tuple. The time complexity of computing the set intersection is O(min(n,m)), where m is the length of the second input tuple. Since the two input tuples are of equal length, the overall time complexity of the function is O(n). The space complexity is also O(n) because the size of the resulting set will be no larger than the size of the smaller of the two input tuples.\n",
    "\n",
    "Therefore, the overall time complexity of the function is O(n), and the overall space complexity is also O(n), where n is the length of the input tuples."
   ]
  },
  {
   "cell_type": "code",
   "execution_count": 18,
   "metadata": {},
   "outputs": [
    {
     "name": "stdout",
     "output_type": "stream",
     "text": [
      "(4, 5)\n"
     ]
    }
   ],
   "source": [
    "tuple1 = (1, 2, 3, 4, 5)\n",
    "tuple2 = (4, 5, 6, 7, 8)\n",
    "\n",
    "def common_elements(tuple1, tuple2):\n",
    "    return tuple(ele for ele in tuple1 if ele in tuple2) \n",
    "\n",
    "output_tuple = common_elements(tuple1, tuple2)\n",
    "print(output_tuple)  "
   ]
  },
  {
   "cell_type": "code",
   "execution_count": null,
   "metadata": {},
   "outputs": [],
   "source": []
  }
 ],
 "metadata": {
  "kernelspec": {
   "display_name": "Python 3",
   "language": "python",
   "name": "python3"
  },
  "language_info": {
   "codemirror_mode": {
    "name": "ipython",
    "version": 3
   },
   "file_extension": ".py",
   "mimetype": "text/x-python",
   "name": "python",
   "nbconvert_exporter": "python",
   "pygments_lexer": "ipython3",
   "version": "3.12.6"
  }
 },
 "nbformat": 4,
 "nbformat_minor": 2
}
