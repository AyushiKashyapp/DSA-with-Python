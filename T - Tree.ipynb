{
 "cells": [
  {
   "cell_type": "markdown",
   "id": "ea12f97a-9547-4f5e-89e9-6530a7aab360",
   "metadata": {},
   "source": [
    "# Basic Tree"
   ]
  },
  {
   "cell_type": "code",
   "execution_count": 87,
   "id": "2b0ed5cc-de90-444e-8f88-7bd1881cd5b4",
   "metadata": {},
   "outputs": [],
   "source": [
    "class TreeNode:\n",
    "    def __init__(self, data, children = []):\n",
    "        self.data = data\n",
    "        self.children = children\n",
    "\n",
    "    def __str__(self, level = 0):\n",
    "        ret = \" \" * level + str(self.data) + \"\\n\"\n",
    "        for child in self.children:\n",
    "            ret += child.__str__(level + 1)\n",
    "        return ret\n",
    "\n",
    "    def addChild(self, TreeNode):\n",
    "        self.children.append(TreeNode)"
   ]
  },
  {
   "cell_type": "code",
   "execution_count": 88,
   "id": "919c275c-623b-4cac-81b4-7e987eb2df19",
   "metadata": {},
   "outputs": [
    {
     "name": "stdout",
     "output_type": "stream",
     "text": [
      "drinks\n",
      " cold\n",
      "  coke\n",
      "  fanta\n",
      " hot\n",
      "  Tea\n",
      "  coffee\n",
      "\n"
     ]
    }
   ],
   "source": [
    "tree = TreeNode('drinks', [])\n",
    "cold = TreeNode('cold', [])\n",
    "hot = TreeNode('hot', [])\n",
    "\n",
    "tea = TreeNode('Tea', [])\n",
    "coffee = TreeNode('coffee', [])\n",
    "coke = TreeNode('coke', [])\n",
    "fanta = TreeNode('fanta', [])\n",
    "\n",
    "tree.addChild(cold)\n",
    "tree.addChild(hot)\n",
    "\n",
    "cold.addChild(coke)\n",
    "cold.addChild(fanta)\n",
    "hot.addChild(tea)\n",
    "hot.addChild(coffee)\n",
    "\n",
    "print(tree)"
   ]
  },
  {
   "cell_type": "markdown",
   "id": "da1df295-6527-46be-abd9-9c7278e93f9b",
   "metadata": {},
   "source": [
    "# Binary Tree - Linked List"
   ]
  },
  {
   "cell_type": "code",
   "execution_count": 89,
   "id": "82979826-e979-4fc9-9565-2ec4769bc3f6",
   "metadata": {},
   "outputs": [],
   "source": [
    "class BinaryLL_TreeNode:\n",
    "    def __init__(self, data):\n",
    "        self.data = data\n",
    "        self.leftchild = None\n",
    "        self.rightchild = None"
   ]
  },
  {
   "cell_type": "code",
   "execution_count": 90,
   "id": "1653f4db-ac4a-4cef-aeca-6140724f88d7",
   "metadata": {},
   "outputs": [],
   "source": [
    "newbt = BinaryLL_TreeNode(\"Drinks\")\n",
    "leftc = BinaryLL_TreeNode(\"Hot\")\n",
    "rightc = BinaryLL_TreeNode(\"Cold\")\n",
    "\n",
    "LLtea = BinaryLL_TreeNode('Tea')\n",
    "LLcoffee = BinaryLL_TreeNode('coffee')\n",
    "LLcoke = BinaryLL_TreeNode('coke')\n",
    "LLfanta = BinaryLL_TreeNode('fanta')\n",
    "\n",
    "newbt.leftchild = leftc\n",
    "newbt.rightchild = rightc\n",
    "rightc.leftchild = LLcoke\n",
    "rightc.rightchild = LLfanta\n",
    "leftc.leftchild = LLtea\n",
    "leftc.rightchild = LLcoffee"
   ]
  },
  {
   "cell_type": "markdown",
   "id": "3bebf659-9a03-420b-8ef6-4c469e933183",
   "metadata": {},
   "source": [
    "## Depth First Search\n",
    "\n",
    "## Pre-order Traversal"
   ]
  },
  {
   "cell_type": "code",
   "execution_count": 91,
   "id": "52bcea79-5541-435e-b0f0-6c724b6145df",
   "metadata": {},
   "outputs": [],
   "source": [
    "def preordertraversal(rootnode):\n",
    "    if not rootnode:\n",
    "        return\n",
    "    print(rootnode.data)\n",
    "    preordertraversal(rootnode.leftchild)\n",
    "    preordertraversal(rootnode.rightchild)"
   ]
  },
  {
   "cell_type": "code",
   "execution_count": 92,
   "id": "cbda09e9-03a7-4c6a-ab69-94b474ce70c4",
   "metadata": {},
   "outputs": [
    {
     "name": "stdout",
     "output_type": "stream",
     "text": [
      "Drinks\n",
      "Hot\n",
      "Tea\n",
      "coffee\n",
      "Cold\n",
      "coke\n",
      "fanta\n"
     ]
    }
   ],
   "source": [
    "preordertraversal(newbt)"
   ]
  },
  {
   "cell_type": "markdown",
   "id": "64a627dd-ac0c-4915-8363-30f1ba9feaa4",
   "metadata": {},
   "source": [
    "## In-order Traversal"
   ]
  },
  {
   "cell_type": "code",
   "execution_count": 93,
   "id": "b16db3c0-5a5a-4c1a-8542-213cabd6e2c1",
   "metadata": {},
   "outputs": [],
   "source": [
    "def inordertraversal(rootnode):\n",
    "    if not rootnode:\n",
    "        return\n",
    "    inordertraversal(rootnode.leftchild)\n",
    "    print(rootnode.data)\n",
    "    inordertraversal(rootnode.rightchild)"
   ]
  },
  {
   "cell_type": "code",
   "execution_count": 94,
   "id": "7830a891-98b4-46d1-981a-03316d700652",
   "metadata": {},
   "outputs": [
    {
     "name": "stdout",
     "output_type": "stream",
     "text": [
      "Tea\n",
      "Hot\n",
      "coffee\n",
      "Drinks\n",
      "coke\n",
      "Cold\n",
      "fanta\n"
     ]
    }
   ],
   "source": [
    "inordertraversal(newbt)"
   ]
  },
  {
   "cell_type": "markdown",
   "id": "61f18ded-fdd3-47da-bb14-d90fb311844a",
   "metadata": {},
   "source": [
    "## Post-order Traversal"
   ]
  },
  {
   "cell_type": "code",
   "execution_count": 95,
   "id": "860a0c3f-75a0-47e7-8d98-e864b47bfbba",
   "metadata": {},
   "outputs": [],
   "source": [
    "def postordertraversal(rootnode):\n",
    "    if not rootnode:\n",
    "        return\n",
    "    postordertraversal(rootnode.leftchild)\n",
    "    postordertraversal(rootnode.rightchild)\n",
    "    print(rootnode.data)"
   ]
  },
  {
   "cell_type": "code",
   "execution_count": 96,
   "id": "2bfa67a8-0567-4c64-80b1-53183a35884f",
   "metadata": {},
   "outputs": [
    {
     "name": "stdout",
     "output_type": "stream",
     "text": [
      "Tea\n",
      "coffee\n",
      "Hot\n",
      "coke\n",
      "fanta\n",
      "Cold\n",
      "Drinks\n"
     ]
    }
   ],
   "source": [
    "postordertraversal(newbt)"
   ]
  },
  {
   "cell_type": "markdown",
   "id": "b3fa68de-18ec-449c-889c-5672c4c3b05e",
   "metadata": {},
   "source": [
    "## Breadth First Search\n",
    "\n",
    "## Level Order Traversal"
   ]
  },
  {
   "cell_type": "code",
   "execution_count": 97,
   "id": "e08e9a34-5a5a-45a3-91dd-52f6538009b9",
   "metadata": {},
   "outputs": [],
   "source": [
    "# Helper Queue Class\n",
    "\n",
    "class Node:\n",
    "    def __init__(self, value):\n",
    "        self.value = value\n",
    "        self.next = None\n",
    "\n",
    "    def __str__(self):\n",
    "        return str(self.value)\n",
    "\n",
    "class LinkedList:\n",
    "    def __init__(self):\n",
    "        self.head = None\n",
    "        self.tail = None\n",
    "\n",
    "    def __iter__(self):\n",
    "        current = self.head\n",
    "        while current:\n",
    "            yield current\n",
    "            current = current.next\n",
    "class Queue:\n",
    "    def __init__(self):\n",
    "        self.linkedlist = LinkedList()\n",
    "\n",
    "    def __str__(self):\n",
    "        values = [str(x) for x in self.items]\n",
    "        return ' '.join(values)\n",
    "\n",
    "    def isempty(self):\n",
    "        if self.linkedlist.head is None:\n",
    "            return True\n",
    "        return False\n",
    "\n",
    "    def enqueue(self, value):\n",
    "        newnode = Node(value)\n",
    "        if self.linkedlist.head is None:\n",
    "            self.linkedlist.head = newnode\n",
    "            self.linkedlist.tail = newnode\n",
    "        else:\n",
    "            self.linkedlist.tail.next = newnode\n",
    "            self.linkedlist.tail = newnode\n",
    "\n",
    "    def dequeue(self):\n",
    "        if self.linkedlist.head is None:\n",
    "            return \"Empty\"\n",
    "        else:\n",
    "            current = self.linkedlist.head\n",
    "            if self.linkedlist.head == self.linkedlist.tail:\n",
    "                self.linkedlist.head = None\n",
    "                self.linkedlist.tail = None\n",
    "            else:\n",
    "                self.linkedlist.head = self.linkedlist.head.next\n",
    "            return current\n",
    "\n",
    "    def peek(self):\n",
    "        if self.isempty():\n",
    "            return \"No elements\"\n",
    "        else:\n",
    "            return self.linkedlist.head"
   ]
  },
  {
   "cell_type": "code",
   "execution_count": 98,
   "id": "b593244b-0203-492a-bee8-765c9105aa78",
   "metadata": {},
   "outputs": [],
   "source": [
    "def levelordertraversal(rootnode):\n",
    "    if not rootnode:\n",
    "        return\n",
    "    else:\n",
    "        customqueue = Queue()\n",
    "        customqueue.enqueue(rootnode)\n",
    "        while not (customqueue.isempty()):\n",
    "            root = customqueue.dequeue()\n",
    "            print(root.value.data)\n",
    "            if (root.value.leftchild is not None):\n",
    "                customqueue.enqueue(root.value.leftchild)\n",
    "            if (root.value.rightchild is not None):\n",
    "                customqueue.enqueue(root.value.rightchild)"
   ]
  },
  {
   "cell_type": "code",
   "execution_count": 99,
   "id": "5a52ee64-0d04-420a-88a1-7367c8e909bb",
   "metadata": {},
   "outputs": [
    {
     "name": "stdout",
     "output_type": "stream",
     "text": [
      "Drinks\n",
      "Hot\n",
      "Cold\n",
      "Tea\n",
      "coffee\n",
      "coke\n",
      "fanta\n"
     ]
    }
   ],
   "source": [
    "levelordertraversal(newbt)"
   ]
  },
  {
   "cell_type": "markdown",
   "id": "90728554-fa96-49ab-9cbf-66238d6ad584",
   "metadata": {},
   "source": [
    "## Search a node - Always use Level Order Traversal since it uses Queue instead of Stack and Queue performs better "
   ]
  },
  {
   "cell_type": "code",
   "execution_count": 100,
   "id": "75a5ccf8-0d25-41b9-934f-7827b2079a45",
   "metadata": {},
   "outputs": [],
   "source": [
    "def searchbinarytree(rootnode, nodevalue):\n",
    "    if not rootnode:\n",
    "        return \"No Binary Tree\"\n",
    "    else:\n",
    "        customqueue = Queue()\n",
    "        customqueue.enqueue(rootnode)\n",
    "        while not (customqueue.isempty()):\n",
    "            root = customqueue.dequeue()\n",
    "            if root.value.data == nodevalue:\n",
    "                return \"Found\"\n",
    "            if (root.value.leftchild is not None):\n",
    "                customqueue.enqueue(root.value.leftchild)\n",
    "            if (root.value.rightchild is not None):\n",
    "                customqueue.enqueue(root.value.rightchild)\n",
    "        return \"Not Found\""
   ]
  },
  {
   "cell_type": "code",
   "execution_count": 101,
   "id": "aa278fde-e79e-4777-b328-f27c66018fcf",
   "metadata": {},
   "outputs": [
    {
     "data": {
      "text/plain": [
       "'Found'"
      ]
     },
     "execution_count": 101,
     "metadata": {},
     "output_type": "execute_result"
    }
   ],
   "source": [
    "searchbinarytree(newbt, \"Tea\")"
   ]
  },
  {
   "cell_type": "markdown",
   "id": "d311aaa6-371b-423e-b259-c28dba117411",
   "metadata": {},
   "source": [
    "## Insert a new node - Find the first empty place using level order traversal, and then insert the node there"
   ]
  },
  {
   "cell_type": "code",
   "execution_count": 102,
   "id": "54548a26-bcaf-493e-ae8d-c8d4996a4c54",
   "metadata": {},
   "outputs": [],
   "source": [
    "def insertbinarytree(rootnode, newnode):\n",
    "    if not rootnode:\n",
    "        rootnode = newnode\n",
    "    else:\n",
    "        customqueue = Queue()\n",
    "        customqueue.enqueue(rootnode)\n",
    "        while not(customqueue.isempty()):\n",
    "            root = customqueue.dequeue()\n",
    "            if root.value.leftchild is not None:\n",
    "                customqueue.enqueue(root.value.leftchild)\n",
    "            else:\n",
    "                root.value.leftchild = newnode\n",
    "                return \"Inserted as left child\"\n",
    "            if root.value.rightchild is not None:\n",
    "                customqueue.enqueue(root.value.rightchild)\n",
    "            else:\n",
    "                root.value.rightchild = newnode\n",
    "                return \"Inserted as right child\""
   ]
  },
  {
   "cell_type": "code",
   "execution_count": 103,
   "id": "50694a8d-a072-470a-98e7-641a679b3190",
   "metadata": {},
   "outputs": [
    {
     "name": "stdout",
     "output_type": "stream",
     "text": [
      "Inserted as left child\n",
      "Inserted as right child\n",
      "Drinks\n",
      "Hot\n",
      "Cold\n",
      "Tea\n",
      "coffee\n",
      "coke\n",
      "fanta\n",
      "Milk\n",
      "Sugar\n"
     ]
    }
   ],
   "source": [
    "newnode = BinaryLL_TreeNode(\"Milk\")\n",
    "print(insertbinarytree(newbt, newnode))\n",
    "newnode = BinaryLL_TreeNode(\"Sugar\")\n",
    "print(insertbinarytree(newbt, newnode))\n",
    "levelordertraversal(newbt)"
   ]
  },
  {
   "cell_type": "markdown",
   "id": "24521b34-a558-45ac-bf71-61148ad1cfad",
   "metadata": {},
   "source": [
    "## Delete a node - Find the deepest node, Replace it's value with the value of the node we want to delete, then delete the deepest node."
   ]
  },
  {
   "cell_type": "code",
   "execution_count": 107,
   "id": "55f72ae5-3109-4587-b8b1-791399884f9d",
   "metadata": {},
   "outputs": [],
   "source": [
    "def finddeepestnode(rootnode):\n",
    "    if not rootnode:\n",
    "        return\n",
    "    else:\n",
    "        customqueue = Queue()\n",
    "        customqueue.enqueue(rootnode)\n",
    "        while not (customqueue.isempty()):\n",
    "            root = customqueue.dequeue()\n",
    "            if root.value.leftchild is not None:\n",
    "                customqueue.enqueue(root.value.leftchild)\n",
    "            if root.value.rightchild is not None:\n",
    "                customqueue.enqueue(root.value.rightchild)\n",
    "        deepestnode = root.value\n",
    "        return deepestnode"
   ]
  },
  {
   "cell_type": "code",
   "execution_count": 108,
   "id": "2e30e0b0-ae52-4bfc-95a0-68bb87460730",
   "metadata": {},
   "outputs": [
    {
     "name": "stdout",
     "output_type": "stream",
     "text": [
      "Sugar\n"
     ]
    }
   ],
   "source": [
    "deepestnode = finddeepestnode(newbt)\n",
    "print(deepestnode.data)"
   ]
  },
  {
   "cell_type": "code",
   "execution_count": 109,
   "id": "68f443bf-7a12-4079-a2a6-30a4e19007a6",
   "metadata": {},
   "outputs": [],
   "source": [
    "def deletedeepestnode(rootnode, deepestnode):\n",
    "    if not rootnode:\n",
    "        return\n",
    "    else:\n",
    "        customqueue = Queue()\n",
    "        customqueue.enqueue(rootnode)\n",
    "        while not (customqueue.isempty()):\n",
    "            root = customqueue.dequeue()\n",
    "            if root.value is deepestnode:\n",
    "                root.value = None\n",
    "            if root.value.leftchild:\n",
    "                if root.value.leftchild is deepestnode:\n",
    "                    root.value.leftchild = None\n",
    "                else:\n",
    "                    customqueue.enqueue(root.value.leftchild)\n",
    "            if root.value.rightchild:\n",
    "                if root.value.rightchild is deepestnode:\n",
    "                    root.value.rightchild = None\n",
    "                else:\n",
    "                    customqueue.enqueue(root.value.rightchild)"
   ]
  },
  {
   "cell_type": "code",
   "execution_count": 113,
   "id": "1fc4d53f-71c0-4ed7-bcd8-85e7e329359d",
   "metadata": {},
   "outputs": [
    {
     "name": "stdout",
     "output_type": "stream",
     "text": [
      "Drinks\n",
      "Hot\n",
      "Cold\n",
      "Tea\n",
      "coffee\n",
      "coke\n",
      "fanta\n",
      "Milk\n"
     ]
    }
   ],
   "source": [
    "deletedeepestnode(newbt, deepestnode)\n",
    "levelordertraversal(newbt)"
   ]
  },
  {
   "cell_type": "code",
   "execution_count": 118,
   "id": "a13bc288-738e-467e-9253-8a2c5fbadffe",
   "metadata": {},
   "outputs": [],
   "source": [
    "def deletenode(rootnode, delnode):\n",
    "    if not rootnode:\n",
    "        return \"Binary Tree not there\"\n",
    "    else:\n",
    "        customqueue = Queue()\n",
    "        customqueue.enqueue(rootnode)\n",
    "        while not (customqueue.isempty()):\n",
    "            root = customqueue.dequeue()\n",
    "            if root.value.data == delnode:\n",
    "                deepest = finddeepestnode(rootnode)\n",
    "                root.value.data = deepest.data\n",
    "                deletedeepestnode(rootnode, deepest)\n",
    "                return \"Deleted\"\n",
    "            if root.value.leftchild is not None:\n",
    "                customqueue.enqueue(root.value.leftchild)\n",
    "            if root.value.rightchild is not None:\n",
    "                customqueue.enqueue(root.value.rightchild)\n",
    "        return \"Node not found\""
   ]
  },
  {
   "cell_type": "code",
   "execution_count": 119,
   "id": "b7ecf677-4f20-47a1-918b-e724358c8883",
   "metadata": {},
   "outputs": [
    {
     "name": "stdout",
     "output_type": "stream",
     "text": [
      "Drinks\n",
      "Hot\n",
      "Cold\n",
      "Tea\n",
      "Milk\n",
      "coke\n",
      "fanta\n"
     ]
    }
   ],
   "source": [
    "deletenode(newbt, \"coffee\") # coffee should be replaced by Milk, and coffee should be deleted\n",
    "levelordertraversal(newbt)"
   ]
  },
  {
   "cell_type": "code",
   "execution_count": 123,
   "id": "292f9488-842e-42cc-83c1-204a64dcf6f3",
   "metadata": {},
   "outputs": [],
   "source": [
    "def deletebinarytree(rootnode):\n",
    "    rootnode.data = None\n",
    "    rootnode.leftchild = None\n",
    "    rootnode.rightchild = None\n",
    "    return \"Tree Deleted\""
   ]
  },
  {
   "cell_type": "code",
   "execution_count": 124,
   "id": "9c06e6b2-f201-43f8-a0dc-1f313c0b16d6",
   "metadata": {},
   "outputs": [
    {
     "name": "stdout",
     "output_type": "stream",
     "text": [
      "None\n"
     ]
    }
   ],
   "source": [
    "deletebinarytree(newbt)\n",
    "levelordertraversal(newbt)"
   ]
  },
  {
   "cell_type": "markdown",
   "id": "5394aa56-f2b2-449c-ba19-364ce07a961c",
   "metadata": {},
   "source": [
    "# Binary Tree - Python List"
   ]
  },
  {
   "cell_type": "code",
   "execution_count": 152,
   "id": "1d6047db-cb05-4450-b437-23db6834ae21",
   "metadata": {},
   "outputs": [],
   "source": [
    "class BinaryList_Tree:\n",
    "    def __init__(self, size):\n",
    "        self.customlist = size * [None]\n",
    "        self.lastusedindex = 0\n",
    "        self.maxsize = size\n",
    "\n",
    "    def insertnode(self, value):\n",
    "        if self.lastusedindex + 1 == self.maxsize:\n",
    "            return \"Binary Tree is full\"\n",
    "        else:\n",
    "            self.customlist[self.lastusedindex + 1] = value\n",
    "            self.lastusedindex += 1\n",
    "            return \"Value Inserted\"\n",
    "\n",
    "    def searchnode(self, value):\n",
    "        for i in range(len(self.customlist)):\n",
    "            if self.customlist[i] == value:\n",
    "                return \"Found\"\n",
    "        return \"Not Found\"\n",
    "\n",
    "    def preordertraversal(self, index):\n",
    "        if index > self.lastusedindex:\n",
    "            return\n",
    "        print(self.customlist[index])\n",
    "        self.preordertraversal(index * 2)\n",
    "        self.preordertraversal(index * 2 + 1)\n",
    "\n",
    "    def inordertraversal(self, index):\n",
    "        if index > self.lastusedindex:\n",
    "            return\n",
    "        self.inordertraversal(index * 2)\n",
    "        print(self.customlist[index])\n",
    "        self.inordertraversal(index * 2 + 1)\n",
    "\n",
    "    def postordertraversal(self, index):\n",
    "        if index > self.lastusedindex:\n",
    "            return\n",
    "        self.postordertraversal(index * 2)\n",
    "        self.postordertraversal(index * 2 + 1)\n",
    "        print(self.customlist[index])\n",
    "\n",
    "    def levelordertraversal(self, index):\n",
    "        for i in range(index, self.lastusedindex + 1):\n",
    "            print(self.customlist[i])\n",
    "\n",
    "    def deletenode(self, value):\n",
    "        if self.lastusedindex == 0:\n",
    "            return\n",
    "        for i in range(1, self.lastusedindex + 1):\n",
    "            if self.customlist[i] == value:\n",
    "                self.customlist[i] = self.customlist[self.lastusedindex]\n",
    "                self.customlist[self.lastusedindex] = None\n",
    "                self.lastusedindex -= 1\n",
    "                return \"Deleted Node\"\n",
    "\n",
    "    def delete(self):\n",
    "        self.customlist = None\n",
    "        return \"Tree deleted\""
   ]
  },
  {
   "cell_type": "code",
   "execution_count": 153,
   "id": "1d8f5a55-89fa-459a-8fe3-0ea8003d1e80",
   "metadata": {},
   "outputs": [
    {
     "name": "stdout",
     "output_type": "stream",
     "text": [
      "Search Tea Not Found\n",
      "Search Hot Found\n",
      "Preorder Traversal\n",
      "Drinks\n",
      "Hot\n",
      "Cold\n",
      "Inorder Traversal\n",
      "Hot\n",
      "Drinks\n",
      "Cold\n",
      "Postorder Traversal\n",
      "Hot\n",
      "Cold\n",
      "Drinks\n",
      "Levelorder Traversal\n",
      "Drinks\n",
      "Hot\n",
      "Cold\n",
      "Delete Hot\n",
      "Drinks\n",
      "Cold\n"
     ]
    },
    {
     "data": {
      "text/plain": [
       "'Tree deleted'"
      ]
     },
     "execution_count": 153,
     "metadata": {},
     "output_type": "execute_result"
    }
   ],
   "source": [
    "newlbt = BinaryList_Tree(8)\n",
    "newlbt.insertnode(\"Drinks\")\n",
    "newlbt.insertnode(\"Hot\")\n",
    "newlbt.insertnode(\"Cold\")\n",
    "print(\"Search Tea\", newlbt.searchnode(\"Tea\"))\n",
    "print(\"Search Hot\", newlbt.searchnode(\"Hot\"))\n",
    "print(\"Preorder Traversal\")\n",
    "newlbt.preordertraversal(1)\n",
    "print(\"Inorder Traversal\")\n",
    "newlbt.inordertraversal(1)\n",
    "print(\"Postorder Traversal\")\n",
    "newlbt.postordertraversal(1)\n",
    "print(\"Levelorder Traversal\")\n",
    "newlbt.levelordertraversal(1)\n",
    "print(\"Delete Hot\")\n",
    "newlbt.deletenode(\"Hot\")\n",
    "newlbt.levelordertraversal(1)\n",
    "newlbt.delete()"
   ]
  },
  {
   "cell_type": "code",
   "execution_count": null,
   "id": "1e01b155-57c4-41c8-abeb-4808be953359",
   "metadata": {},
   "outputs": [],
   "source": []
  }
 ],
 "metadata": {
  "kernelspec": {
   "display_name": "Python 3 (ipykernel)",
   "language": "python",
   "name": "python3"
  },
  "language_info": {
   "codemirror_mode": {
    "name": "ipython",
    "version": 3
   },
   "file_extension": ".py",
   "mimetype": "text/x-python",
   "name": "python",
   "nbconvert_exporter": "python",
   "pygments_lexer": "ipython3",
   "version": "3.12.6"
  }
 },
 "nbformat": 4,
 "nbformat_minor": 5
}
