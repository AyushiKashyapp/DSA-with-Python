{
 "cells": [
  {
   "cell_type": "code",
   "execution_count": 1,
   "id": "a93700a2-71ea-4d69-998a-460c1efe1acd",
   "metadata": {},
   "outputs": [],
   "source": [
    "n = 5"
   ]
  },
  {
   "cell_type": "markdown",
   "id": "dc8a78c1-8db9-44d3-a8b6-40d166869dee",
   "metadata": {},
   "source": [
    "1. A's Triangle"
   ]
  },
  {
   "cell_type": "code",
   "execution_count": 2,
   "id": "7484c835-5d22-4652-ab2a-532228edb199",
   "metadata": {},
   "outputs": [
    {
     "name": "stdout",
     "output_type": "stream",
     "text": [
      "A \n",
      "A A \n",
      "A A A \n",
      "A A A A \n",
      "A A A A A \n"
     ]
    }
   ],
   "source": [
    "for i in range(n):\n",
    "    for j in range(i + 1):\n",
    "        print('A', end = ' ')\n",
    "    print()"
   ]
  },
  {
   "cell_type": "markdown",
   "id": "1e109c3f-e6cf-45ce-a9e5-5c0767abde69",
   "metadata": {},
   "source": [
    "## Changing Row\n",
    "### Initialize P --> Outside / Before outer loop\n",
    "### Increament/ Decrement P --> Inside Outer loop / Outside or after Inner loop"
   ]
  },
  {
   "cell_type": "markdown",
   "id": "1e7e269b-1cf7-49b9-88e2-3f5e6bff645a",
   "metadata": {},
   "source": [
    "2. Right Triangle - Increamenting Characters"
   ]
  },
  {
   "cell_type": "code",
   "execution_count": 4,
   "id": "52f4950f-af25-447c-9693-c7072d07f60c",
   "metadata": {},
   "outputs": [
    {
     "name": "stdout",
     "output_type": "stream",
     "text": [
      "A \n",
      "B B \n",
      "C C C \n",
      "D D D D \n",
      "E E E E E \n"
     ]
    }
   ],
   "source": [
    "p = 65\n",
    "for i in range(n):\n",
    "    for j in range(i + 1):\n",
    "        print(chr(p), end = ' ')\n",
    "    p += 1\n",
    "    print()"
   ]
  },
  {
   "cell_type": "markdown",
   "id": "14ed8d09-4a49-4717-a8cd-c664f9aa43b6",
   "metadata": {},
   "source": [
    "2. Left Triangle - Increamenting Characters"
   ]
  },
  {
   "cell_type": "code",
   "execution_count": 5,
   "id": "ca16b033-5027-453f-96df-7a455e2de3d0",
   "metadata": {},
   "outputs": [
    {
     "name": "stdout",
     "output_type": "stream",
     "text": [
      "  A A A A A \n",
      "    B B B B \n",
      "      C C C \n",
      "        D D \n",
      "          E \n"
     ]
    }
   ],
   "source": [
    "p = 65\n",
    "for i in range(n):\n",
    "    for j in range(i + 1):\n",
    "        print(' ', end = ' ')\n",
    "    for j in range(i, n):\n",
    "        print(chr(p), end = ' ')\n",
    "    p += 1\n",
    "    print()"
   ]
  },
  {
   "cell_type": "markdown",
   "id": "6e4208a3-1de1-49b2-987e-92288fde6e9b",
   "metadata": {},
   "source": [
    "3. Hill - Incrementing Character"
   ]
  },
  {
   "cell_type": "code",
   "execution_count": 7,
   "id": "0c8947d9-f915-45db-939c-a8a4ea462869",
   "metadata": {},
   "outputs": [
    {
     "name": "stdout",
     "output_type": "stream",
     "text": [
      "          A \n",
      "        B B B \n",
      "      C C C C C \n",
      "    D D D D D D D \n",
      "  E E E E E E E E E \n"
     ]
    }
   ],
   "source": [
    "p = 65\n",
    "for i in range(n):\n",
    "    for j in range(i, n):\n",
    "        print(' ', end = ' ')\n",
    "    for j in range(i):\n",
    "        print(chr(p), end = ' ')\n",
    "    for j in range(i + 1):\n",
    "        print(chr(p), end = ' ')\n",
    "    p += 1\n",
    "    print()"
   ]
  },
  {
   "cell_type": "markdown",
   "id": "fab01cfa-3e57-4b49-9a4a-02b2c2772430",
   "metadata": {},
   "source": [
    "4. Reverse Hill - Incrementing Character"
   ]
  },
  {
   "cell_type": "code",
   "execution_count": 8,
   "id": "15e60952-92c0-437b-b0c5-bdee7ab581a9",
   "metadata": {},
   "outputs": [
    {
     "name": "stdout",
     "output_type": "stream",
     "text": [
      "  A A A A A A A A A \n",
      "    B B B B B B B \n",
      "      C C C C C \n",
      "        D D D \n",
      "          E \n"
     ]
    }
   ],
   "source": [
    "p = 65\n",
    "for i in range(n):\n",
    "    for j in range(i + 1):\n",
    "        print(' ', end = ' ')\n",
    "    for j in range(i, n - 1):\n",
    "        print(chr(p), end = ' ')\n",
    "    for j in range(i, n):\n",
    "        print(chr(p), end = ' ')\n",
    "    p += 1\n",
    "    print()"
   ]
  },
  {
   "cell_type": "markdown",
   "id": "298e085c-9aec-4b3f-8d1e-5eea7bf50340",
   "metadata": {},
   "source": [
    "5. Right Triangle - Decrementing Characters"
   ]
  },
  {
   "cell_type": "code",
   "execution_count": 10,
   "id": "ec9cc32d-c1f0-4ecd-9938-caf67017ddb4",
   "metadata": {},
   "outputs": [
    {
     "name": "stdout",
     "output_type": "stream",
     "text": [
      "E \n",
      "D D \n",
      "C C C \n",
      "B B B B \n",
      "A A A A A \n"
     ]
    }
   ],
   "source": [
    "p = 69\n",
    "for i in range(n):\n",
    "    for j in range(i + 1):\n",
    "        print(chr(p), end = ' ')\n",
    "    p -= 1\n",
    "    print()"
   ]
  },
  {
   "cell_type": "markdown",
   "id": "519a5669-5fc5-42a5-bc83-4efdd4800e33",
   "metadata": {},
   "source": [
    "6. Left Triangle - Decrementing Characters"
   ]
  },
  {
   "cell_type": "code",
   "execution_count": 11,
   "id": "4d4d8f19-9482-4d3e-b6d9-d08ac3353dd6",
   "metadata": {},
   "outputs": [
    {
     "name": "stdout",
     "output_type": "stream",
     "text": [
      "  E E E E E \n",
      "    D D D D \n",
      "      C C C \n",
      "        B B \n",
      "          A \n"
     ]
    }
   ],
   "source": [
    "p = 69\n",
    "for i in range(n):\n",
    "    for j in range(i + 1):\n",
    "        print(' ', end = ' ')\n",
    "    for j in range(i, n):\n",
    "        print(chr(p), end = ' ')\n",
    "    p -= 1\n",
    "    print()"
   ]
  },
  {
   "cell_type": "markdown",
   "id": "5d6ca424-1ba6-41ef-a377-ea9bedd76942",
   "metadata": {},
   "source": [
    "7. Hill - Decrementing Characters"
   ]
  },
  {
   "cell_type": "code",
   "execution_count": 12,
   "id": "76829fe1-2a8d-42e5-a40a-268dd2744ee0",
   "metadata": {},
   "outputs": [
    {
     "name": "stdout",
     "output_type": "stream",
     "text": [
      "          E \n",
      "        D D D \n",
      "      C C C C C \n",
      "    B B B B B B B \n",
      "  A A A A A A A A A \n"
     ]
    }
   ],
   "source": [
    "p = 69\n",
    "for i in range(n):\n",
    "    for j in range(i, n):\n",
    "        print(' ', end = ' ')\n",
    "    for j in range(i):\n",
    "        print(chr(p), end = ' ')\n",
    "    for j in range(i + 1):\n",
    "        print(chr(p), end = ' ')\n",
    "    p -= 1\n",
    "    print()"
   ]
  },
  {
   "cell_type": "markdown",
   "id": "23e5df62-7f19-4e5f-a3a3-f3fef2c4977a",
   "metadata": {},
   "source": [
    "8. Reverse Hill - Decrementing Characters"
   ]
  },
  {
   "cell_type": "code",
   "execution_count": 14,
   "id": "1444057c-a944-4e5e-af12-077386997394",
   "metadata": {},
   "outputs": [
    {
     "name": "stdout",
     "output_type": "stream",
     "text": [
      "  E E E E E E E E E \n",
      "    D D D D D D D \n",
      "      C C C C C \n",
      "        B B B \n",
      "          A \n"
     ]
    }
   ],
   "source": [
    "p = 69\n",
    "for i in range(n):\n",
    "    for j in range(i + 1):\n",
    "        print(' ', end = ' ')\n",
    "    for j in range(i, n - 1):\n",
    "        print(chr(p), end = ' ')\n",
    "    for j in range(i, n):\n",
    "        print(chr(p), end = ' ')\n",
    "    p -= 1\n",
    "    print()"
   ]
  },
  {
   "cell_type": "markdown",
   "id": "5c42d26f-d77f-4865-99e7-2c55cd15fa0c",
   "metadata": {},
   "source": [
    "9. Right Triangle - Increment by 2 Characters"
   ]
  },
  {
   "cell_type": "code",
   "execution_count": 15,
   "id": "988b3749-b7e4-4fcb-ad48-2e9731611268",
   "metadata": {},
   "outputs": [
    {
     "name": "stdout",
     "output_type": "stream",
     "text": [
      "A \n",
      "C C \n",
      "E E E \n",
      "G G G G \n",
      "I I I I I \n"
     ]
    }
   ],
   "source": [
    "p = 65\n",
    "for i in range(n):\n",
    "    for j in range(i + 1):\n",
    "        print(chr(p), end = ' ')\n",
    "    p += 2\n",
    "    print()"
   ]
  },
  {
   "cell_type": "markdown",
   "id": "24e17be5-d0a4-4150-a73d-8d9a713ed7aa",
   "metadata": {},
   "source": [
    "10. Right Triangle - Alternate Characters"
   ]
  },
  {
   "cell_type": "code",
   "execution_count": 16,
   "id": "89220b9b-23d2-4523-9698-26fa23ff94b8",
   "metadata": {},
   "outputs": [
    {
     "name": "stdout",
     "output_type": "stream",
     "text": [
      "A \n",
      "B B \n",
      "A A A \n",
      "B B B B \n",
      "A A A A A \n"
     ]
    }
   ],
   "source": [
    "for i in range(n):\n",
    "    for j in range(i + 1):\n",
    "        if i % 2 == 0:\n",
    "            print('A', end = ' ')\n",
    "        else:\n",
    "            print('B', end = ' ')\n",
    "    print()"
   ]
  },
  {
   "cell_type": "markdown",
   "id": "854a2a37-a47a-40fc-a3d3-7e25dd690dcb",
   "metadata": {},
   "source": [
    "11. Left Triangle - Alternate Characters"
   ]
  },
  {
   "cell_type": "code",
   "execution_count": 17,
   "id": "6748ca74-c994-45b5-96f8-40057627dd8a",
   "metadata": {},
   "outputs": [
    {
     "name": "stdout",
     "output_type": "stream",
     "text": [
      "  Z Z Z Z Z \n",
      "    O O O O \n",
      "      Z Z Z \n",
      "        O O \n",
      "          Z \n"
     ]
    }
   ],
   "source": [
    "for i in range(n):\n",
    "    for j in range(i + 1):\n",
    "        print(' ', end = ' ')\n",
    "    for j in range(i, n):\n",
    "        if i % 2 == 0:\n",
    "            print('Z', end = ' ')\n",
    "        else:\n",
    "            print('O', end = ' ')\n",
    "    print()"
   ]
  },
  {
   "cell_type": "markdown",
   "id": "04f9a354-4f68-4bd4-8b46-d050db1c7f28",
   "metadata": {},
   "source": [
    "12. Hill - Alternate Characters"
   ]
  },
  {
   "cell_type": "code",
   "execution_count": 20,
   "id": "8f9f47fc-5354-4765-bcb7-7eef411551c6",
   "metadata": {},
   "outputs": [
    {
     "name": "stdout",
     "output_type": "stream",
     "text": [
      "          A \n",
      "        # # # \n",
      "      A A A A A \n",
      "    # # # # # # # \n",
      "  A A A A A A A A A \n"
     ]
    }
   ],
   "source": [
    "for i in range(n):\n",
    "    for j in range(i, n):\n",
    "        print(' ', end = ' ')\n",
    "    for j in range(i):\n",
    "        if i % 2 == 0:\n",
    "            print('A', end = ' ')\n",
    "        else:\n",
    "            print('#', end = ' ')\n",
    "    for j in range(i + 1):\n",
    "        if i % 2 == 0:\n",
    "            print('A', end = ' ')\n",
    "        else:\n",
    "            print('#', end = ' ')\n",
    "    print()"
   ]
  },
  {
   "cell_type": "markdown",
   "id": "64c931c1-448a-4d29-add0-828249cb0c5d",
   "metadata": {},
   "source": [
    "13. Reverse Hill - Alternate Characters"
   ]
  },
  {
   "cell_type": "code",
   "execution_count": 21,
   "id": "e81c8aeb-42dd-47bc-a746-3fc4c78fc70b",
   "metadata": {},
   "outputs": [
    {
     "name": "stdout",
     "output_type": "stream",
     "text": [
      "  Z Z Z Z Z Z Z Z Z \n",
      "    O O O O O O O \n",
      "      Z Z Z Z Z \n",
      "        O O O \n",
      "          Z \n"
     ]
    }
   ],
   "source": [
    "for i in range(n):\n",
    "    for j in range(i + 1):\n",
    "        print(' ', end = ' ')\n",
    "    for j in range(i, n - 1):\n",
    "        if i % 2 == 0:\n",
    "            print('Z', end = ' ')\n",
    "        else:\n",
    "            print('O', end = ' ')\n",
    "    for j in range(i, n):\n",
    "        if i % 2 == 0:\n",
    "            print('Z', end = ' ')\n",
    "        else:\n",
    "            print('O', end = ' ')\n",
    "    print()"
   ]
  },
  {
   "cell_type": "markdown",
   "id": "db994319-4d19-415d-b98e-0d554f44671a",
   "metadata": {},
   "source": [
    "14. Diamond - Increasing Character"
   ]
  },
  {
   "cell_type": "code",
   "execution_count": 4,
   "id": "d80afdf5-3012-4f64-88a8-d3002e79fb97",
   "metadata": {},
   "outputs": [
    {
     "name": "stdout",
     "output_type": "stream",
     "text": [
      "          A \n",
      "        B B B \n",
      "      C C C C C \n",
      "    D D D D D D D \n",
      "  E E E E E E E E E \n",
      "    F F F F F F F \n",
      "      G G G G G \n",
      "        H H H \n",
      "          I \n"
     ]
    }
   ],
   "source": [
    "p = 65\n",
    "for i in range(n - 1):\n",
    "    for j in range(i, n):\n",
    "        print(' ', end = ' ')\n",
    "    for j in range(i):\n",
    "        print(chr(p), end = ' ')\n",
    "    for j in range(i + 1):\n",
    "        print(chr(p), end = ' ')\n",
    "    p += 1\n",
    "    print()\n",
    "for i in range(n):\n",
    "    for j in range(i + 1):\n",
    "        print(' ', end = ' ')\n",
    "    for j in range(i, n - 1):\n",
    "        print(chr(p), end = ' ')\n",
    "    for j in range(i, n):\n",
    "        print(chr(p), end = ' ')\n",
    "    p += 1\n",
    "    print()"
   ]
  },
  {
   "cell_type": "markdown",
   "id": "35c9446a-830e-4229-84a6-174439464221",
   "metadata": {},
   "source": [
    "15. Diamond - Increasing then again Increasing"
   ]
  },
  {
   "cell_type": "code",
   "execution_count": 6,
   "id": "847233fb-3234-4fca-ba3e-ebd9b32bd469",
   "metadata": {},
   "outputs": [
    {
     "name": "stdout",
     "output_type": "stream",
     "text": [
      "          A \n",
      "        B B B \n",
      "      C C C C C \n",
      "    D D D D D D D \n",
      "  A A A A A A A A A \n",
      "    B B B B B B B \n",
      "      C C C C C \n",
      "        D D D \n",
      "          E \n"
     ]
    }
   ],
   "source": [
    "p = 65\n",
    "for i in range(n - 1):\n",
    "    for j in range(i, n):\n",
    "        print(' ', end = ' ')\n",
    "    for j in range(i):\n",
    "        print(chr(p), end = ' ')\n",
    "    for j in range(i + 1):\n",
    "        print(chr(p), end = ' ')\n",
    "    p += 1\n",
    "    print()\n",
    "p = 65\n",
    "for i in range(n):\n",
    "    for j in range(i + 1):\n",
    "        print(' ', end = ' ')\n",
    "    for j in range(i, n - 1):\n",
    "        print(chr(p), end = ' ')\n",
    "    for j in range(i, n):\n",
    "        print(chr(p), end = ' ')\n",
    "    p += 1\n",
    "    print()"
   ]
  },
  {
   "cell_type": "markdown",
   "id": "89bf5d2c-9220-4b00-b0ca-6ba61e8d132e",
   "metadata": {},
   "source": [
    "16. Diamond - Increasing and then Decreasing Characters"
   ]
  },
  {
   "cell_type": "code",
   "execution_count": 9,
   "id": "b9a33fe7-8795-47e1-ad23-368e5d12adda",
   "metadata": {},
   "outputs": [
    {
     "name": "stdout",
     "output_type": "stream",
     "text": [
      "          A \n",
      "        B B B \n",
      "      C C C C C \n",
      "    D D D D D D D \n",
      "  E E E E E E E E E \n",
      "    D D D D D D D \n",
      "      C C C C C \n",
      "        B B B \n",
      "          A \n"
     ]
    }
   ],
   "source": [
    "p = 65\n",
    "for i in range(n - 1):\n",
    "    for j in range(i, n):\n",
    "        print(' ', end = ' ')\n",
    "    for j in range(i):\n",
    "        print(chr(p), end = ' ')\n",
    "    for j in range(i + 1):\n",
    "        print(chr(p), end = ' ')\n",
    "    p += 1\n",
    "    print()\n",
    "for i in range(n):\n",
    "    for j in range(i + 1):\n",
    "        print(' ', end = ' ')\n",
    "    for j in range(i, n - 1):\n",
    "        print(chr(p), end = ' ')\n",
    "    for j in range(i, n):\n",
    "        print(chr(p), end = ' ')\n",
    "    p -= 1\n",
    "    print()"
   ]
  },
  {
   "cell_type": "markdown",
   "id": "4d5aa1f9-00a0-4bbc-b947-76be3136ed08",
   "metadata": {},
   "source": [
    "## Changing Column\n",
    "### Initialize P --> Inside outer loop\n",
    "### Increament/ Decrement P --> Inside Inner loop"
   ]
  },
  {
   "cell_type": "markdown",
   "id": "57b0aebd-13f7-4d5c-be8e-d72801c02f39",
   "metadata": {},
   "source": [
    "17. Right Triangle - Increasing Column"
   ]
  },
  {
   "cell_type": "code",
   "execution_count": 10,
   "id": "2bcf7fbe-ea17-4f07-9db1-2859b5a6c1ec",
   "metadata": {},
   "outputs": [
    {
     "name": "stdout",
     "output_type": "stream",
     "text": [
      "A \n",
      "A B \n",
      "A B C \n",
      "A B C D \n",
      "A B C D E \n"
     ]
    }
   ],
   "source": [
    "for i in range(n):\n",
    "    p = 65\n",
    "    for j in range(i + 1):\n",
    "        print(chr(p), end = ' ')\n",
    "        p += 1\n",
    "    print()"
   ]
  },
  {
   "cell_type": "markdown",
   "id": "5df93cf0-3a8b-4447-af7c-e2efe15987f7",
   "metadata": {},
   "source": [
    "18. Left Triangle - Increasing Column"
   ]
  },
  {
   "cell_type": "code",
   "execution_count": 12,
   "id": "13f12576-bf47-4c29-8588-6c806f594dc1",
   "metadata": {},
   "outputs": [
    {
     "name": "stdout",
     "output_type": "stream",
     "text": [
      "  A B C D E \n",
      "    A B C D \n",
      "      A B C \n",
      "        A B \n",
      "          A \n"
     ]
    }
   ],
   "source": [
    "for i in range(n):\n",
    "    p = 65\n",
    "    for j in range(i + 1):\n",
    "        print(' ', end = ' ')\n",
    "    for j in range(i, n):\n",
    "        print(chr(p), end = ' ')\n",
    "        p += 1\n",
    "    print()"
   ]
  },
  {
   "cell_type": "markdown",
   "id": "7102d233-48bd-4760-ac88-6abad34b1cdf",
   "metadata": {},
   "source": [
    "19. Hill - Increasing Character"
   ]
  },
  {
   "cell_type": "code",
   "execution_count": 15,
   "id": "51a972c6-5978-4187-862b-4d0831330f88",
   "metadata": {},
   "outputs": [
    {
     "name": "stdout",
     "output_type": "stream",
     "text": [
      "          A \n",
      "        A B C \n",
      "      A B C D E \n",
      "    A B C D E F G \n",
      "  A B C D E F G H I \n"
     ]
    }
   ],
   "source": [
    "for i in range(n):\n",
    "    p = 65\n",
    "    for j in range(i, n):\n",
    "        print(' ', end = ' ')\n",
    "    for j in range(i):\n",
    "        print(chr(p), end = ' ')\n",
    "        p += 1\n",
    "    for j in range(i + 1):\n",
    "        print(chr(p), end = ' ')\n",
    "        p += 1\n",
    "    print()"
   ]
  },
  {
   "cell_type": "markdown",
   "id": "5ef146da-2c80-472c-b3e8-2aabd52543bc",
   "metadata": {},
   "source": [
    "20. Diamond - Increasing Column"
   ]
  },
  {
   "cell_type": "code",
   "execution_count": 17,
   "id": "c6f9ce65-bd4c-4442-8918-8df945c004c3",
   "metadata": {},
   "outputs": [
    {
     "name": "stdout",
     "output_type": "stream",
     "text": [
      "          A \n",
      "        A B C \n",
      "      A B C D E \n",
      "    A B C D E F G \n",
      "  A B C D E F G H I \n",
      "    A B C D E F G \n",
      "      A B C D E \n",
      "        A B C \n",
      "          A \n"
     ]
    }
   ],
   "source": [
    "for i in range(n - 1):\n",
    "    p = 65\n",
    "    for j in range(i, n):\n",
    "        print(' ', end = ' ')\n",
    "    for j in range(i):\n",
    "        print(chr(p), end = ' ')\n",
    "        p += 1\n",
    "    for j in range(i + 1):\n",
    "        print(chr(p), end = ' ')\n",
    "        p += 1\n",
    "    print()\n",
    "for i in range(n):\n",
    "    p = 65\n",
    "    for j in range(i + 1):\n",
    "        print(' ', end = ' ')\n",
    "    for j in range(i, n - 1):\n",
    "        print(chr(p), end = ' ')\n",
    "        p += 1\n",
    "    for j in range(i, n):\n",
    "        print(chr(p), end = ' ')\n",
    "        p += 1\n",
    "    print()"
   ]
  },
  {
   "cell_type": "markdown",
   "id": "c63245a7-eb19-4382-a086-59c88d786ffb",
   "metadata": {},
   "source": [
    "21. Butterfly - Increasing Column"
   ]
  },
  {
   "cell_type": "code",
   "execution_count": 28,
   "id": "b8615a46-0892-4f83-87ae-b36f0bfdf350",
   "metadata": {},
   "outputs": [
    {
     "name": "stdout",
     "output_type": "stream",
     "text": [
      "A                 A \n",
      "A B             A B \n",
      "A B C         A B C \n",
      "A B C D     A B C D \n",
      "A B C D E A B C D E \n",
      "A B C D     A B C D \n",
      "A B C         A B C \n",
      "A B             A B \n",
      "A                 A \n"
     ]
    }
   ],
   "source": [
    "for i in range(n - 1):\n",
    "    p = 65\n",
    "    for j in range(i + 1):\n",
    "        print(chr(p), end = ' ')\n",
    "        p += 1\n",
    "    for j in range(i, n - 1):\n",
    "        print(' ', end = ' ')\n",
    "    for j in range(i, n - 1):\n",
    "        print(' ', end = ' ')\n",
    "    p = 65\n",
    "    for j in range(i + 1):\n",
    "        print(chr(p), end = ' ')\n",
    "        p += 1\n",
    "    print()\n",
    "for i in range(n):\n",
    "    p = 65\n",
    "    for j in range(i, n):\n",
    "        print(chr(p), end = ' ')\n",
    "        p += 1\n",
    "    for j in range(i):\n",
    "        print(' ', end = ' ')\n",
    "    for j in range(i):\n",
    "        print(' ', end = ' ')\n",
    "    p = 65\n",
    "    for j in range(i, n):\n",
    "        print(chr(p), end = ' ')\n",
    "        p += 1\n",
    "    print()"
   ]
  },
  {
   "cell_type": "markdown",
   "id": "3f923925-d417-4926-9822-a59d103b0561",
   "metadata": {},
   "source": [
    "12. Right Triangle - Decreasing Column"
   ]
  },
  {
   "cell_type": "code",
   "execution_count": 30,
   "id": "21da4eaf-247b-479a-b065-3ef6d669e395",
   "metadata": {},
   "outputs": [
    {
     "name": "stdout",
     "output_type": "stream",
     "text": [
      "E \n",
      "E D \n",
      "E D C \n",
      "E D C B \n",
      "E D C B A \n"
     ]
    }
   ],
   "source": [
    "for i in range(n):\n",
    "    p = 69\n",
    "    for j in range(i + 1):\n",
    "        print(chr(p), end = ' ')\n",
    "        p -= 1\n",
    "    print()"
   ]
  },
  {
   "cell_type": "markdown",
   "id": "f6c934d2-6337-4b7d-b5d3-d4b53e93fe6c",
   "metadata": {},
   "source": [
    "21. Reverse Triangle - Decreasing Column"
   ]
  },
  {
   "cell_type": "code",
   "execution_count": 38,
   "id": "8039c56f-168b-49da-99e2-6fa506932fb8",
   "metadata": {},
   "outputs": [
    {
     "name": "stdout",
     "output_type": "stream",
     "text": [
      "  E D C B A \n",
      "    D C B A \n",
      "      C B A \n",
      "        B A \n",
      "          A \n"
     ]
    }
   ],
   "source": [
    "k = 69\n",
    "for i in range(n):\n",
    "    p = k\n",
    "    for j in range(i + 1):\n",
    "        print(' ', end = ' ')\n",
    "    for j in range(i, n):\n",
    "        print(chr(p), end = ' ')\n",
    "        p -= 1\n",
    "    k -= 1\n",
    "    print()"
   ]
  },
  {
   "cell_type": "markdown",
   "id": "11e72a81-096f-4a94-9d21-e648ed3a74df",
   "metadata": {},
   "source": [
    "22. Hill - Increasing and Decreasing Character"
   ]
  },
  {
   "cell_type": "code",
   "execution_count": 41,
   "id": "78bce8ef-289c-4d80-a4e0-daf97bae208f",
   "metadata": {},
   "outputs": [
    {
     "name": "stdout",
     "output_type": "stream",
     "text": [
      "          A \n",
      "        A B A \n",
      "      A B C B A \n",
      "    A B C D C B A \n",
      "  A B C D E D C B A \n"
     ]
    }
   ],
   "source": [
    "for i in range(n):\n",
    "    p = 65\n",
    "    for j in range(i, n):\n",
    "        print(' ', end = ' ')\n",
    "    for j in range(i):\n",
    "        print(chr(p), end = ' ')\n",
    "        p += 1\n",
    "    for j in range(i + 1):\n",
    "        print(chr(p), end = ' ')\n",
    "        p -= 1\n",
    "    print()"
   ]
  },
  {
   "cell_type": "markdown",
   "id": "a4bb0f8b-387c-4458-a7a6-1004340079f9",
   "metadata": {},
   "source": [
    "23. Right Triangle - CODER "
   ]
  },
  {
   "cell_type": "code",
   "execution_count": 42,
   "id": "8b2620e6-a09d-4959-8c3a-0571d5782c96",
   "metadata": {},
   "outputs": [
    {
     "name": "stdout",
     "output_type": "stream",
     "text": [
      "C \n",
      "O O \n",
      "D D D \n",
      "E E E E \n",
      "R R R R R \n"
     ]
    }
   ],
   "source": [
    "s = 'CODER'\n",
    "n = len(s)\n",
    "p = 0\n",
    "for i in range(n):\n",
    "    for j in range(i + 1):\n",
    "        print(s[p], end = ' ')\n",
    "    p += 1\n",
    "    print()"
   ]
  },
  {
   "cell_type": "markdown",
   "id": "a3102169-1133-4482-969d-daf4451cfc4b",
   "metadata": {},
   "source": [
    "24. Left Triangle - CODER"
   ]
  },
  {
   "cell_type": "code",
   "execution_count": 44,
   "id": "093f1bec-7006-4837-a9f0-3acb8186108b",
   "metadata": {},
   "outputs": [
    {
     "name": "stdout",
     "output_type": "stream",
     "text": [
      "  C C C C C \n",
      "    O O O O \n",
      "      D D D \n",
      "        E E \n",
      "          R \n"
     ]
    }
   ],
   "source": [
    "s = 'CODER'\n",
    "n = len(s)\n",
    "p = 0\n",
    "for i in range(n):\n",
    "    for j in range(i + 1):\n",
    "        print(' ', end = ' ')\n",
    "    for j in range(i, n):\n",
    "        print(s[p], end = ' ')\n",
    "    p += 1\n",
    "    print()"
   ]
  },
  {
   "cell_type": "markdown",
   "id": "8bb4f1d1-8cab-4c2f-8fdd-7c2c4c927167",
   "metadata": {},
   "source": [
    "25. Hill - CODER"
   ]
  },
  {
   "cell_type": "code",
   "execution_count": 46,
   "id": "0a1495e5-00dc-42e9-9d66-768b5d9eb7cf",
   "metadata": {},
   "outputs": [
    {
     "name": "stdout",
     "output_type": "stream",
     "text": [
      "          C \n",
      "        O O O \n",
      "      D D D D D \n",
      "    E E E E E E E \n",
      "  R R R R R R R R R \n"
     ]
    }
   ],
   "source": [
    "s = 'CODER'\n",
    "n = len(s)\n",
    "p = 0\n",
    "for i in range(n):\n",
    "    for j in range(i, n):\n",
    "        print(' ', end = ' ')\n",
    "    for j in range(i):\n",
    "        print(s[p], end = ' ')\n",
    "    for j in range(i + 1):\n",
    "        print(s[p], end = ' ')\n",
    "    p += 1\n",
    "    print()"
   ]
  },
  {
   "cell_type": "markdown",
   "id": "f5f9294d-3739-467e-82c2-a88d701ca1e4",
   "metadata": {},
   "source": [
    "26. Right Triangle - Reverse CODER "
   ]
  },
  {
   "cell_type": "code",
   "execution_count": 51,
   "id": "e2e098c0-2c3f-409b-9ea9-3ac442b7c9d2",
   "metadata": {},
   "outputs": [
    {
     "name": "stdout",
     "output_type": "stream",
     "text": [
      "R \n",
      "E E \n",
      "D D D \n",
      "O O O O \n",
      "C C C C C \n"
     ]
    }
   ],
   "source": [
    "s = 'CODER'\n",
    "n = len(s)\n",
    "p = n - 1\n",
    "for i in range(n):\n",
    "    for j in range(i + 1):\n",
    "        print(s[p], end = ' ')\n",
    "    p -= 1\n",
    "    print()"
   ]
  },
  {
   "cell_type": "markdown",
   "id": "0baa700c-4e2b-4b18-ad28-2933333cf939",
   "metadata": {},
   "source": [
    "27. Left Triangle - Reverse CODER "
   ]
  },
  {
   "cell_type": "code",
   "execution_count": 52,
   "id": "1c4d2014-e5d6-4399-9299-1848191e84a1",
   "metadata": {},
   "outputs": [
    {
     "name": "stdout",
     "output_type": "stream",
     "text": [
      "  R R R R R \n",
      "    E E E E \n",
      "      D D D \n",
      "        O O \n",
      "          C \n"
     ]
    }
   ],
   "source": [
    "s = 'CODER'\n",
    "n = len(s)\n",
    "p = n - 1\n",
    "for i in range(n):\n",
    "    for j in range(i + 1):\n",
    "        print(' ', end = ' ')\n",
    "    for j in range(i, n):\n",
    "        print(s[p], end = ' ')\n",
    "    p -= 1\n",
    "    print()"
   ]
  },
  {
   "cell_type": "markdown",
   "id": "3dfdf5e1-3b67-41b5-91be-5deb01b61fa2",
   "metadata": {},
   "source": [
    "28. Hill - Reverse CODER "
   ]
  },
  {
   "cell_type": "code",
   "execution_count": 53,
   "id": "e6897d3d-37fb-4f63-861e-56d338c5bdd1",
   "metadata": {},
   "outputs": [
    {
     "name": "stdout",
     "output_type": "stream",
     "text": [
      "          R \n",
      "        E E E \n",
      "      D D D D D \n",
      "    O O O O O O O \n",
      "  C C C C C C C C C \n"
     ]
    }
   ],
   "source": [
    "s = 'CODER'\n",
    "n = len(s)\n",
    "p = n - 1\n",
    "for i in range(n):\n",
    "    for j in range(i, n):\n",
    "        print(' ', end = ' ')\n",
    "    for j in range(i):\n",
    "        print(s[p], end = ' ')\n",
    "    for j in range(i + 1):\n",
    "        print(s[p], end = ' ')\n",
    "    p -= 1\n",
    "    print()"
   ]
  },
  {
   "cell_type": "markdown",
   "id": "9521a541-34fa-4579-a43e-5e55b282b6af",
   "metadata": {},
   "source": [
    "29. Right Triangle - CODER"
   ]
  },
  {
   "cell_type": "code",
   "execution_count": 54,
   "id": "16c9706c-48a1-4149-8c73-f7b9e4fa2a69",
   "metadata": {},
   "outputs": [
    {
     "name": "stdout",
     "output_type": "stream",
     "text": [
      "C \n",
      "C O \n",
      "C O D \n",
      "C O D E \n",
      "C O D E R \n"
     ]
    }
   ],
   "source": [
    "s = 'CODER'\n",
    "n = len(s)\n",
    "for i in range(n):\n",
    "    p = 0\n",
    "    for j in range(i + 1):\n",
    "        print(s[p], end = ' ')\n",
    "        p += 1\n",
    "    print()"
   ]
  },
  {
   "cell_type": "markdown",
   "id": "40009ee6-d002-4d0d-9f39-71990f223086",
   "metadata": {},
   "source": [
    "30. Left Triangle - CODER"
   ]
  },
  {
   "cell_type": "code",
   "execution_count": 55,
   "id": "44f06c14-a961-4172-8d3b-979e55744b89",
   "metadata": {},
   "outputs": [
    {
     "name": "stdout",
     "output_type": "stream",
     "text": [
      "  C O D E R \n",
      "    C O D E \n",
      "      C O D \n",
      "        C O \n",
      "          C \n"
     ]
    }
   ],
   "source": [
    "s = 'CODER'\n",
    "n = len(s)\n",
    "for i in range(n):\n",
    "    p = 0\n",
    "    for j in range(i + 1):\n",
    "        print(' ', end = ' ')\n",
    "    for j in range(i, n):\n",
    "        print(s[p], end = ' ')\n",
    "        p += 1\n",
    "    print()"
   ]
  },
  {
   "cell_type": "markdown",
   "id": "aecb99e8-fda8-4a03-808b-58be61f2c648",
   "metadata": {},
   "source": [
    "31. Right Triangle - Reverse CODER"
   ]
  },
  {
   "cell_type": "code",
   "execution_count": 57,
   "id": "0f4ae967-a772-4fc9-b6f5-fb02c062a70d",
   "metadata": {},
   "outputs": [
    {
     "name": "stdout",
     "output_type": "stream",
     "text": [
      "R \n",
      "R E \n",
      "R E D \n",
      "R E D O \n",
      "R E D O C \n"
     ]
    }
   ],
   "source": [
    "s = 'CODER'\n",
    "n = len(s)\n",
    "for i in range(n):\n",
    "    p = n - 1\n",
    "    for j in range(i + 1):\n",
    "        print(s[p], end = ' ')\n",
    "        p -= 1\n",
    "    print()"
   ]
  },
  {
   "cell_type": "markdown",
   "id": "e6d1b514-47f5-4d68-964a-35927c485b53",
   "metadata": {},
   "source": [
    "32. Left Triangle - Reverse CODER"
   ]
  },
  {
   "cell_type": "code",
   "execution_count": 60,
   "id": "19d94385-1d08-49be-8b45-c3762800a16e",
   "metadata": {},
   "outputs": [
    {
     "name": "stdout",
     "output_type": "stream",
     "text": [
      "  R E D O C \n",
      "    E D O C \n",
      "      D O C \n",
      "        O C \n",
      "          C \n"
     ]
    }
   ],
   "source": [
    "s = 'CODER'\n",
    "n = len(s)\n",
    "k = n - 1\n",
    "for i in range(n):\n",
    "    p = k\n",
    "    for j in range(i + 1):\n",
    "        print(' ', end = ' ')\n",
    "    for j in range(i, n):\n",
    "        print(s[p], end = ' ')\n",
    "        p -= 1\n",
    "    k -= 1\n",
    "    print()"
   ]
  },
  {
   "cell_type": "code",
   "execution_count": null,
   "id": "58a9d382-49e9-4d7b-aab5-9605f734603f",
   "metadata": {},
   "outputs": [],
   "source": []
  }
 ],
 "metadata": {
  "kernelspec": {
   "display_name": "Python 3 (ipykernel)",
   "language": "python",
   "name": "python3"
  },
  "language_info": {
   "codemirror_mode": {
    "name": "ipython",
    "version": 3
   },
   "file_extension": ".py",
   "mimetype": "text/x-python",
   "name": "python",
   "nbconvert_exporter": "python",
   "pygments_lexer": "ipython3",
   "version": "3.12.6"
  }
 },
 "nbformat": 4,
 "nbformat_minor": 5
}
