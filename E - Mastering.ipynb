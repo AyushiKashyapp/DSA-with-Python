{
 "cells": [
  {
   "cell_type": "markdown",
   "id": "aa128b0f-0538-4bb0-944c-ae6582712042",
   "metadata": {},
   "source": [
    "1. Create a list with values ranging from 0 to 9."
   ]
  },
  {
   "cell_type": "code",
   "execution_count": 1,
   "id": "8cd058f5-819e-4b85-a171-1c044688deb7",
   "metadata": {},
   "outputs": [
    {
     "name": "stdout",
     "output_type": "stream",
     "text": [
      "[0, 1, 2, 3, 4, 5, 6, 7, 8, 9]\n"
     ]
    }
   ],
   "source": [
    "lst = list(range(10))\n",
    "print(lst)"
   ]
  },
  {
   "cell_type": "markdown",
   "id": "69cd26fb-575d-43c6-bda7-9bf3e2d3f83d",
   "metadata": {},
   "source": [
    "Exercise 2: Convert a list of integers to a list of strings."
   ]
  },
  {
   "cell_type": "code",
   "execution_count": 2,
   "id": "8c539513-1bfb-4db7-a2c0-2a5d6e325af4",
   "metadata": {},
   "outputs": [
    {
     "name": "stdout",
     "output_type": "stream",
     "text": [
      "['0', '1', '2', '3', '4', '5', '6', '7', '8', '9']\n"
     ]
    }
   ],
   "source": [
    "lst = list(map(str, lst))\n",
    "print(lst)"
   ]
  },
  {
   "cell_type": "markdown",
   "id": "189efaa1-b046-4470-afca-aae7faa630c0",
   "metadata": {},
   "source": [
    "Exercise 3: Multiply all elements in a list by 2."
   ]
  },
  {
   "cell_type": "code",
   "execution_count": 3,
   "id": "465cb92c-f63c-48ac-bbc3-1ddb11d6a77f",
   "metadata": {},
   "outputs": [
    {
     "name": "stdout",
     "output_type": "stream",
     "text": [
      "[2, 4, 6, 8, 10, 12]\n"
     ]
    }
   ],
   "source": [
    "lst = [1,2,3,4,5,6]\n",
    "lst_2x = [i * 2 for i in lst]\n",
    "print(lst_2x)"
   ]
  },
  {
   "cell_type": "markdown",
   "id": "fbc4f520-93e0-4233-b73b-e5ea6981d5ed",
   "metadata": {},
   "source": [
    "Exercise 4:Extract all odd numbers from a list of integers."
   ]
  },
  {
   "cell_type": "code",
   "execution_count": 4,
   "id": "5b51b8d6-1f7f-44f9-a2ec-cff812f2849a",
   "metadata": {},
   "outputs": [
    {
     "name": "stdout",
     "output_type": "stream",
     "text": [
      "[1, 3, 5]\n"
     ]
    }
   ],
   "source": [
    "lst_odd = [x for x in lst if x % 2 != 0]\n",
    "print(lst_odd)"
   ]
  },
  {
   "cell_type": "markdown",
   "id": "449b52d8-6fd5-4d67-9a37-a3220e18dfed",
   "metadata": {},
   "source": [
    "Exercise 5: Replace all odd numbers in a list with -1."
   ]
  },
  {
   "cell_type": "code",
   "execution_count": 5,
   "id": "acab16ed-fa63-489e-b6bf-fc5503a05c78",
   "metadata": {},
   "outputs": [
    {
     "name": "stdout",
     "output_type": "stream",
     "text": [
      "[-1, 2, -1, 4, -1, 6]\n"
     ]
    }
   ],
   "source": [
    "lst_replace = [-1 if x % 2 != 0 else x for x in lst]\n",
    "print(lst_replace)"
   ]
  },
  {
   "cell_type": "markdown",
   "id": "e66722c1-3b4e-4090-855c-9774cab743cf",
   "metadata": {},
   "source": [
    "Exercise 6: Convert a list of integers to a list of booleans where all non-zero values become True."
   ]
  },
  {
   "cell_type": "code",
   "execution_count": 7,
   "id": "a950fe8f-c373-4e4a-beab-2f7c9e674e52",
   "metadata": {},
   "outputs": [
    {
     "data": {
      "text/plain": [
       "[True, True, False, True, True]"
      ]
     },
     "execution_count": 7,
     "metadata": {},
     "output_type": "execute_result"
    }
   ],
   "source": [
    "lst = [-1, 2, 0, -4, 5]\n",
    "bool_lst = [True if x != 0 else False for x in lst]\n",
    "bool_lst"
   ]
  },
  {
   "cell_type": "markdown",
   "id": "0df5edb1-fd35-4a06-b308-985c53fc3fc4",
   "metadata": {},
   "source": [
    "Exercise 7: Replace all even numbers in a list with their negative."
   ]
  },
  {
   "cell_type": "code",
   "execution_count": 9,
   "id": "f56631c1-31d7-425a-9aad-ebec9a124528",
   "metadata": {},
   "outputs": [
    {
     "name": "stdout",
     "output_type": "stream",
     "text": [
      "[1, -2, 3, -4, 5, -6, 7, -8, 9]\n"
     ]
    }
   ],
   "source": [
    "lst = list(range(1, 10))\n",
    "lst_neg_even = [-x if x % 2 == 0 else x for x in lst]\n",
    "print(lst_neg_even)"
   ]
  },
  {
   "cell_type": "markdown",
   "id": "14ea8119-e527-462c-ab51-5d4c2f490f50",
   "metadata": {},
   "source": [
    "Exercise 8: Create a 3x3 list of lists with random values and normalize it."
   ]
  },
  {
   "cell_type": "code",
   "execution_count": 11,
   "id": "649aaea5-c80e-4a41-9b0a-7a7fe0cc6d0f",
   "metadata": {},
   "outputs": [
    {
     "name": "stdout",
     "output_type": "stream",
     "text": [
      "[[1.6592086560501575, 0.10203732230626253, 0.6291224776912865], [1.0115826146265499, -1.1551565968461284, -1.3334114234870584], [-0.08040744646118601, -1.2386064731470972, 0.4056308692672146]]\n"
     ]
    }
   ],
   "source": [
    "import random\n",
    "\n",
    "matrix = [[random.random() for _ in range(3)] for _ in range(3)]\n",
    "mean = sum(sum(row) for row in matrix) / 9\n",
    "std = (sum((x - mean) ** 2 for row in matrix for x in row) / 9) ** 0.5\n",
    "normalized_matrix = [[(x - mean) / std for x in row] for row in matrix]\n",
    "print(normalized_matrix)"
   ]
  },
  {
   "cell_type": "markdown",
   "id": "82fe2924-364c-4582-b633-6198085bf110",
   "metadata": {},
   "source": [
    "Exercise 9: Calculate the sum of the diagonal elements of a 3x3 matrix (list of lists)."
   ]
  },
  {
   "cell_type": "code",
   "execution_count": 12,
   "id": "c62ea6a6-3dd9-4ba2-9937-fa84e735ac5c",
   "metadata": {},
   "outputs": [
    {
     "name": "stdout",
     "output_type": "stream",
     "text": [
      "6\n"
     ]
    }
   ],
   "source": [
    "matrix = [[1,2,3], [1,2,3], [1,2,3]]\n",
    "diagnol_sum = sum(matrix[i][i] for i in range(3))\n",
    "print(diagnol_sum)"
   ]
  },
  {
   "cell_type": "markdown",
   "id": "044ba18e-daac-426c-8627-90bd960bb2da",
   "metadata": {},
   "source": [
    "Exercise 10: Find the indices of non-zero elements in a list."
   ]
  },
  {
   "cell_type": "code",
   "execution_count": 13,
   "id": "0dca4e67-1c91-438a-96d7-d138268c4a0a",
   "metadata": {},
   "outputs": [
    {
     "name": "stdout",
     "output_type": "stream",
     "text": [
      "[0, 2, 3, 4, 5, 6, 8, 10, 11]\n"
     ]
    }
   ],
   "source": [
    "lst = [1,0,5,9,8,7,3,0,5,0,4,6]\n",
    "non_zero = [i for i in range(len(lst)) if lst[i] != 0]\n",
    "print(non_zero)"
   ]
  },
  {
   "cell_type": "markdown",
   "id": "c96c1a10-b69c-4f56-97d6-afa49cd57d32",
   "metadata": {},
   "source": [
    "Exercise 11: Reverse a list."
   ]
  },
  {
   "cell_type": "code",
   "execution_count": 14,
   "id": "82adf579-4b01-47f8-9bbe-2505365cedcb",
   "metadata": {},
   "outputs": [
    {
     "name": "stdout",
     "output_type": "stream",
     "text": [
      "[6, 4, 0, 5, 0, 3, 7, 8, 9, 5, 0, 1]\n"
     ]
    }
   ],
   "source": [
    "lst_reverse = lst[::-1]\n",
    "print(lst_reverse)"
   ]
  },
  {
   "cell_type": "markdown",
   "id": "987eb25f-c6b5-4fe7-b5be-8979b24ac889",
   "metadata": {},
   "source": [
    "Exercise 12: Create a 3x3 identity matrix as a list of lists."
   ]
  },
  {
   "cell_type": "code",
   "execution_count": 15,
   "id": "efadf901-e4b2-416b-82a2-9ff703f8ac80",
   "metadata": {},
   "outputs": [
    {
     "name": "stdout",
     "output_type": "stream",
     "text": [
      "[[1, 0, 0], [0, 1, 0], [0, 0, 1]]\n"
     ]
    }
   ],
   "source": [
    "identity_matrix = [[1 if i == j else 0 for j in range(3)] for i in range(3)]\n",
    "print(identity_matrix)"
   ]
  },
  {
   "cell_type": "markdown",
   "id": "7361e188-1cd1-4ffd-9eca-66a22fc586c0",
   "metadata": {},
   "source": [
    "Exercise 13: Reshape a 1D list to a 2D list with 2 rows."
   ]
  },
  {
   "cell_type": "code",
   "execution_count": 16,
   "id": "ea559d44-68c4-4099-9d6a-2a587c8f1884",
   "metadata": {},
   "outputs": [
    {
     "name": "stdout",
     "output_type": "stream",
     "text": [
      "[[0, 1, 2, 3, 4], [5, 6, 7, 8, 9]]\n"
     ]
    }
   ],
   "source": [
    "lst = list(range(10))\n",
    "reshaped_lst = [lst[:5], lst[5:]]\n",
    "print(reshaped_lst)"
   ]
  },
  {
   "cell_type": "markdown",
   "id": "a78794dc-1960-49ee-8b25-0dcbefb00ca1",
   "metadata": {},
   "source": [
    "Exercise 14: Stack two lists vertically."
   ]
  },
  {
   "cell_type": "code",
   "execution_count": 17,
   "id": "ef110000-770f-44f1-9951-80d7c5b85a94",
   "metadata": {},
   "outputs": [
    {
     "name": "stdout",
     "output_type": "stream",
     "text": [
      "[[1, 2, 3], [4, 5, 6]]\n"
     ]
    }
   ],
   "source": [
    "l1 = [1,2,3]\n",
    "l2 = [4,5,6]\n",
    "stacked_lst = [l1, l2]\n",
    "print(stacked_lst)"
   ]
  },
  {
   "cell_type": "markdown",
   "id": "9e695607-2db8-49f7-abe7-a8e5da39f74b",
   "metadata": {},
   "source": [
    "Exercise 15: Get the common items between two lists."
   ]
  },
  {
   "cell_type": "code",
   "execution_count": 18,
   "id": "63dc4bdf-f901-4faf-8a54-6f029ae4a2b8",
   "metadata": {},
   "outputs": [
    {
     "name": "stdout",
     "output_type": "stream",
     "text": [
      "[1, 2, 3]\n"
     ]
    }
   ],
   "source": [
    "l1 = [1,2,3,4,5,6]\n",
    "l2 = [1,2,3,7,8,9]\n",
    "common_item = [i for i in l1 if i in l2]\n",
    "print(common_item)"
   ]
  },
  {
   "cell_type": "markdown",
   "id": "4a141d70-8dc1-45eb-8c22-be57829fee81",
   "metadata": {},
   "source": [
    "Exercise 16: Create a 5x5 list of lists with row values ranging from 0 to 4."
   ]
  },
  {
   "cell_type": "code",
   "execution_count": 19,
   "id": "7734dfe2-c4f0-4ff2-be31-ec4307d8367c",
   "metadata": {},
   "outputs": [
    {
     "name": "stdout",
     "output_type": "stream",
     "text": [
      "[[0, 1, 2, 3, 4], [0, 1, 2, 3, 4], [0, 1, 2, 3, 4], [0, 1, 2, 3, 4], [0, 1, 2, 3, 4]]\n"
     ]
    }
   ],
   "source": [
    "matrix = [[i for i in range(5)] for _ in range(5)]\n",
    "print(matrix)"
   ]
  },
  {
   "cell_type": "markdown",
   "id": "6a7db661-f07e-4610-995e-854266624f54",
   "metadata": {},
   "source": [
    "Exercise 17: Find the index of the maximum value in a list."
   ]
  },
  {
   "cell_type": "code",
   "execution_count": 20,
   "id": "c5abe303-4f37-42b4-aae8-c0d002cf1015",
   "metadata": {},
   "outputs": [
    {
     "name": "stdout",
     "output_type": "stream",
     "text": [
      "6\n"
     ]
    }
   ],
   "source": [
    "lst = [3,7,5,9,4,2,1]\n",
    "min_index = lst.index(min(lst))\n",
    "print(min_index)"
   ]
  },
  {
   "cell_type": "markdown",
   "id": "b9905561-437b-4bef-ab8d-00cff22e27c9",
   "metadata": {},
   "source": [
    "Exercise 18: Normalize the values in a list between 0 and 1."
   ]
  },
  {
   "cell_type": "code",
   "execution_count": 21,
   "id": "381259ef-aa2e-43d5-a95e-db0f72b18fb8",
   "metadata": {},
   "outputs": [
    {
     "name": "stdout",
     "output_type": "stream",
     "text": [
      "[0.0, 0.42857142857142855, 1.0, 0.7142857142857143, 0.5714285714285714, 0.14285714285714285]\n"
     ]
    }
   ],
   "source": [
    "lst = [2,5,9,7,6,3]\n",
    "min_val, max_val = min(lst), max(lst)\n",
    "normalized_lst = [(x - min_val) / (max_val - min_val) for x in lst]\n",
    "print(normalized_lst)"
   ]
  },
  {
   "cell_type": "markdown",
   "id": "f9b4f500-6625-4b34-acca-bb20b851aef1",
   "metadata": {},
   "source": [
    "Exercise 19: Calculate the dot product of two lists."
   ]
  },
  {
   "cell_type": "code",
   "execution_count": 25,
   "id": "200efa5b-0d81-4fde-bf6f-4ed6dc2bca00",
   "metadata": {},
   "outputs": [
    {
     "name": "stdout",
     "output_type": "stream",
     "text": [
      "32\n"
     ]
    }
   ],
   "source": [
    "l1 = [1,2,3]\n",
    "l2 = [4,5,6]\n",
    "dot_prod = sum(x * y for x,y in zip(l1, l2))\n",
    "print(dot_prod)"
   ]
  },
  {
   "cell_type": "markdown",
   "id": "bcf7c73a-16c0-43ea-98fb-c9bf53d84153",
   "metadata": {},
   "source": [
    "Exercise 20: Count the number of elements in a list within a specific range."
   ]
  },
  {
   "cell_type": "code",
   "execution_count": 29,
   "id": "ab9507f1-7279-4b3b-b9c2-990d2da73bc6",
   "metadata": {},
   "outputs": [
    {
     "name": "stdout",
     "output_type": "stream",
     "text": [
      "4\n"
     ]
    }
   ],
   "source": [
    "lst = [2,5,8,10,12,15]\n",
    "count_within_range = sum(5 <= x <= 12 for x in lst)\n",
    "print(count_within_range)"
   ]
  },
  {
   "cell_type": "markdown",
   "id": "7cc1506b-bac5-4772-a71a-f141cdc41b59",
   "metadata": {},
   "source": [
    "Exercise 21: Find the mean of each row in a 2D list."
   ]
  },
  {
   "cell_type": "code",
   "execution_count": 30,
   "id": "e331f432-cc46-4f56-9949-ee12f598dda6",
   "metadata": {},
   "outputs": [
    {
     "name": "stdout",
     "output_type": "stream",
     "text": [
      "[0.33085767585892495, 0.6482778425324206, 0.5380324101609298]\n"
     ]
    }
   ],
   "source": [
    "import random\n",
    "\n",
    "matrix = [[random.random() for _ in range(4)] for _ in range(3)]\n",
    "row_mean = [sum(row) / len(row) for row in matrix]\n",
    "print(row_mean)"
   ]
  },
  {
   "cell_type": "markdown",
   "id": "85a6e874-4710-4869-b14a-987f09a23ebd",
   "metadata": {},
   "source": [
    "Exercise 22: Create a random 4x4 list of lists and extract the diagonal elements."
   ]
  },
  {
   "cell_type": "code",
   "execution_count": 32,
   "id": "97ac2eef-d0cb-4d4f-b391-f1589ec014cf",
   "metadata": {},
   "outputs": [
    {
     "name": "stdout",
     "output_type": "stream",
     "text": [
      "[0.7636880778734672, 0.0269005615773934, 0.8873223238169712, 0.4277190762828371]\n"
     ]
    }
   ],
   "source": [
    "import random\n",
    "\n",
    "matrix = [[random.random() for _ in range(5)] for _ in range(5)]\n",
    "diagnols = [matrix[i][i] for i in range(4)]\n",
    "print(diagnols)"
   ]
  },
  {
   "cell_type": "markdown",
   "id": "4a57868d-b009-4220-a06f-553bf55b7b15",
   "metadata": {},
   "source": [
    "Exercise 23: Count the number of occurrences of a specific value in a list."
   ]
  },
  {
   "cell_type": "code",
   "execution_count": 34,
   "id": "401c38c8-22ca-451b-ac40-97885eb06c7c",
   "metadata": {},
   "outputs": [
    {
     "name": "stdout",
     "output_type": "stream",
     "text": [
      "4\n"
     ]
    }
   ],
   "source": [
    "lst = [1,2,3,3,2,1,4,5,6,9,6,5,4,2,2]\n",
    "count_of_2 = lst.count(2)\n",
    "print(count_of_2)"
   ]
  },
  {
   "cell_type": "markdown",
   "id": "cf27121b-6850-4c22-a2e4-f733fe2aed48",
   "metadata": {},
   "source": [
    "Exercise 24: Replace all values in a list with the mean of the list."
   ]
  },
  {
   "cell_type": "code",
   "execution_count": 35,
   "id": "1db2e34c-4e22-439c-bb43-6cb3c51f58fb",
   "metadata": {},
   "outputs": [
    {
     "name": "stdout",
     "output_type": "stream",
     "text": [
      "[3.6666666666666665, 3.6666666666666665, 3.6666666666666665, 3.6666666666666665, 3.6666666666666665, 3.6666666666666665, 3.6666666666666665, 3.6666666666666665, 3.6666666666666665, 3.6666666666666665, 3.6666666666666665, 3.6666666666666665, 3.6666666666666665, 3.6666666666666665, 3.6666666666666665]\n"
     ]
    }
   ],
   "source": [
    "mean_val = sum(lst) / len(lst)\n",
    "mean_lst = [mean_val] * len(lst)\n",
    "print(mean_lst)"
   ]
  },
  {
   "cell_type": "markdown",
   "id": "7022a9c8-9c5c-4682-9aab-5d83424500b8",
   "metadata": {},
   "source": [
    "Exercise 25: Find the indices of the maximum and minimum values in a list."
   ]
  },
  {
   "cell_type": "code",
   "execution_count": 36,
   "id": "1c58d41b-9852-4539-a000-6b8d623814f3",
   "metadata": {},
   "outputs": [
    {
     "name": "stdout",
     "output_type": "stream",
     "text": [
      "Min Index :3, Max Index :2\n"
     ]
    }
   ],
   "source": [
    "lst = [4,5,9,2,3,7,2,6,8]\n",
    "min_ind = lst.index(min(lst))\n",
    "max_ind = lst.index(max(lst))\n",
    "print(f'Min Index :{min_ind}, Max Index :{max_ind}')"
   ]
  },
  {
   "cell_type": "markdown",
   "id": "c35ca1ad-6e71-4a0c-b9ce-b3c678ea5b6b",
   "metadata": {},
   "source": [
    "Exercise 26: Create a 2D list with 1 on the border and 0 inside."
   ]
  },
  {
   "cell_type": "code",
   "execution_count": 38,
   "id": "409701a6-6dbc-4d6d-96ec-c7f64099d749",
   "metadata": {},
   "outputs": [
    {
     "name": "stdout",
     "output_type": "stream",
     "text": [
      "[[1, 1, 1, 1, 1], [1, 0, 0, 0, 1], [1, 0, 0, 0, 1], [1, 0, 0, 0, 1], [1, 1, 1, 1, 1]]\n"
     ]
    }
   ],
   "source": [
    "matrix = [[1 if i == 0 or i == 4 or j == 0 or j == 4 else 0 for i in range(5)] for j in range(5)]\n",
    "print(matrix)"
   ]
  },
  {
   "cell_type": "markdown",
   "id": "33caee0d-159c-447a-956b-baccc0872c66",
   "metadata": {},
   "source": [
    "Exercise 27: Find the unique values and their counts in a list."
   ]
  },
  {
   "cell_type": "code",
   "execution_count": 41,
   "id": "98302fcf-0abd-4bde-b8a7-0976d0526a59",
   "metadata": {},
   "outputs": [
    {
     "name": "stdout",
     "output_type": "stream",
     "text": [
      "Unique Values:  [1, 2, 3, 4, 5, 6]\n",
      "Counts:  {1: 2, 2: 2, 3: 1, 4: 2, 5: 1, 6: 1}\n"
     ]
    }
   ],
   "source": [
    "lst = [1, 2, 3, 2, 4, 1, 5, 4, 6]\n",
    "unique_val = list(set(lst))\n",
    "count = {x:lst.count(x) for x in unique_val}\n",
    "print('Unique Values: ',unique_val)\n",
    "print('Counts: ', count)"
   ]
  },
  {
   "cell_type": "markdown",
   "id": "41ca1971-c9e6-4dab-8f44-d43ee164bf9d",
   "metadata": {},
   "source": [
    "Exercise 28: Create a 3x3 list of lists with values ranging from 0 to 8."
   ]
  },
  {
   "cell_type": "code",
   "execution_count": 44,
   "id": "461582f3-fb23-468c-ba3a-ee9310da6a7c",
   "metadata": {},
   "outputs": [
    {
     "name": "stdout",
     "output_type": "stream",
     "text": [
      "[[0, 1, 2], [3, 4, 5], [6, 7, 8]]\n"
     ]
    }
   ],
   "source": [
    "matrix = [[i + j*3 for i in range(3)] for j in range(3)]\n",
    "print(matrix)"
   ]
  },
  {
   "cell_type": "markdown",
   "id": "099c959b-8024-4dc3-9c4d-aa7cbb92a9dc",
   "metadata": {},
   "source": [
    "Exercise 29: Calculate the exponential of all elements in a list."
   ]
  },
  {
   "cell_type": "code",
   "execution_count": 45,
   "id": "f5d62012-d488-4dba-a6f9-9dec4e5c50d3",
   "metadata": {},
   "outputs": [
    {
     "name": "stdout",
     "output_type": "stream",
     "text": [
      "[2.718281828459045, 7.38905609893065, 20.085536923187668, 54.598150033144236, 148.4131591025766, 403.4287934927351]\n"
     ]
    }
   ],
   "source": [
    "import math\n",
    "lst = [1,2,3,4,5,6]\n",
    "exponential_lst = [math.exp(x) for x in lst]\n",
    "print(exponential_lst)"
   ]
  },
  {
   "cell_type": "markdown",
   "id": "65b23965-29a9-4eea-86df-865340043058",
   "metadata": {},
   "source": [
    "Exercise 30: Swap two rows in a 2D list."
   ]
  },
  {
   "cell_type": "code",
   "execution_count": 46,
   "id": "63926496-7355-4bff-a175-d8b36f0d7c3c",
   "metadata": {},
   "outputs": [
    {
     "name": "stdout",
     "output_type": "stream",
     "text": [
      "[[0.06442633405671794, 0.9459138171383177, 0.45282491320795804], [0.11914218378388997, 0.2141066398362551, 0.1218353199836345], [0.98775482705687, 0.17432041268635645, 0.7075385930283971]]\n"
     ]
    }
   ],
   "source": [
    "import random\n",
    "\n",
    "matrix = [[random.random() for _ in range(3)] for _ in range(3)]\n",
    "matrix[0], matrix[1] = matrix[1], matrix[0]\n",
    "print(matrix)"
   ]
  },
  {
   "cell_type": "markdown",
   "id": "3f8a1b02-23c3-4c28-b426-a0c04f787e0c",
   "metadata": {},
   "source": [
    "Exercise 31: Create a random 3x3 list of lists and replace all values greater than 0.5 with 1 and all others with 0."
   ]
  },
  {
   "cell_type": "code",
   "execution_count": 48,
   "id": "a16e02be-b86c-4c9d-9276-1fd505fcbf51",
   "metadata": {},
   "outputs": [
    {
     "name": "stdout",
     "output_type": "stream",
     "text": [
      "[[0, 1, 0], [0, 1, 0], [1, 1, 1]]\n"
     ]
    }
   ],
   "source": [
    "import random\n",
    "\n",
    "matrix = [[random.random() for _ in range(3)] for _ in range(3)]\n",
    "matrix = [[1 if x > 0.5 else 0 for x in row] for row in matrix]\n",
    "print(matrix)"
   ]
  },
  {
   "cell_type": "markdown",
   "id": "a8baf006-094f-4166-b355-d4890a4f6f37",
   "metadata": {},
   "source": [
    "Exercise 32: Find the indices of the top N maximum values in a list."
   ]
  },
  {
   "cell_type": "code",
   "execution_count": 52,
   "id": "be1755e3-b956-44da-8672-90c8124ef1ba",
   "metadata": {},
   "outputs": [
    {
     "name": "stdout",
     "output_type": "stream",
     "text": [
      "[3, 4, 0]\n"
     ]
    }
   ],
   "source": [
    "lst = [10,5,8,20,15]\n",
    "n = 3\n",
    "top_indices = sorted(range(len(lst)), key = lambda i: lst[i], reverse = True)[:n]\n",
    "print(top_indices)"
   ]
  },
  {
   "cell_type": "markdown",
   "id": "53ac11a6-8980-40be-b0b2-9eee57b52b2a",
   "metadata": {},
   "source": [
    "Exercise 33: Calculate the mean of each column in a 2D list."
   ]
  },
  {
   "cell_type": "code",
   "execution_count": 53,
   "id": "b6411773-f30f-48b5-862c-7aebc764511d",
   "metadata": {},
   "outputs": [
    {
     "name": "stdout",
     "output_type": "stream",
     "text": [
      "[0.4129849826754281, 0.6350585220407777, 0.7127196338463828]\n"
     ]
    }
   ],
   "source": [
    "import random\n",
    "\n",
    "matrix = [[random.random() for _ in range(3)] for _ in range(3)]\n",
    "col_means = [sum(row[i] for row in matrix) / len(matrix) for i in range(3)]\n",
    "print(col_means)"
   ]
  },
  {
   "cell_type": "markdown",
   "id": "dd736023-5302-49d5-a282-9b94c25d1651",
   "metadata": {},
   "source": [
    "Exercise 34: Normalize the values in each column of a 2D list."
   ]
  },
  {
   "cell_type": "code",
   "execution_count": 1,
   "id": "31b07fc0-08ca-4352-acf0-e2dd77f5264e",
   "metadata": {},
   "outputs": [
    {
     "name": "stdout",
     "output_type": "stream",
     "text": [
      "[[0.23861802983431515, 0.0, 0.6734801022685138], [0.9475085937391251, 0.22568380925206113, 0.11856002921127466], [0.0, 1.0, 0.0], [1.0, 0.3201398178400801, 1.0]]\n"
     ]
    }
   ],
   "source": [
    "import random\n",
    "\n",
    "matrix = [[random.random() for _ in range(3)] for _ in range(4)]\n",
    "normalized_matrix = [[(x - min(col)) / (max(col) - min(col)) for x in col] for col in zip(*matrix)]\n",
    "normalized_matrix = list(map(list, zip(*normalized_matrix)))\n",
    "print(normalized_matrix)"
   ]
  },
  {
   "cell_type": "markdown",
   "id": "3931a13e-2c61-4fd5-a63b-c0e556e932ea",
   "metadata": {},
   "source": [
    "Exercise 35: Concatenate two lists."
   ]
  },
  {
   "cell_type": "code",
   "execution_count": 2,
   "id": "bafeb911-1eb9-4eb6-9ef5-4f725b939fa7",
   "metadata": {},
   "outputs": [
    {
     "name": "stdout",
     "output_type": "stream",
     "text": [
      "[1, 2, 3, 4, 5, 6]\n"
     ]
    }
   ],
   "source": [
    "l1 = [1,2,3]\n",
    "l2 = [4,5,6]\n",
    "con_l = l1 + l2\n",
    "print(con_l)"
   ]
  },
  {
   "cell_type": "markdown",
   "id": "caf99565-200c-4565-8e22-53121b92db28",
   "metadata": {},
   "source": [
    "Exercise 36: Create a 2D list with random values and sort each row."
   ]
  },
  {
   "cell_type": "code",
   "execution_count": 3,
   "id": "5a78b10d-1140-4279-a623-9acd8d454824",
   "metadata": {},
   "outputs": [
    {
     "name": "stdout",
     "output_type": "stream",
     "text": [
      "[[0.24269900228719943, 0.3600458180730177, 0.8767173463965563, 0.9048126169693105], [0.04437692271082694, 0.3223100406272984, 0.3642973665307193, 0.519212745735757], [0.3278704833037802, 0.737524264827173, 0.9296848509840155, 0.9657242393097166]]\n"
     ]
    }
   ],
   "source": [
    "import random\n",
    "matrix = [[random.random() for _ in range(4)] for _ in range(3)]\n",
    "sorted_matrix = [sorted(row) for row in matrix]\n",
    "print(sorted_matrix)"
   ]
  },
  {
   "cell_type": "markdown",
   "id": "69647e5e-2427-4866-8db3-3c3901071684",
   "metadata": {},
   "source": [
    "Exercise 37: Check if all elements in a list are non-zero."
   ]
  },
  {
   "cell_type": "code",
   "execution_count": 4,
   "id": "f22789b0-6939-4c13-9529-a16167610f98",
   "metadata": {},
   "outputs": [
    {
     "name": "stdout",
     "output_type": "stream",
     "text": [
      "True\n"
     ]
    }
   ],
   "source": [
    "l = [1,2,3,4]\n",
    "all_nonzero = all(l)\n",
    "print(all_nonzero)"
   ]
  },
  {
   "cell_type": "markdown",
   "id": "4fed663c-5d02-4120-afdc-a1b55585cf3b",
   "metadata": {},
   "source": [
    "Exercise 38: Find the indices of the maximum value in each row of a 2D list."
   ]
  },
  {
   "cell_type": "code",
   "execution_count": 5,
   "id": "901d694c-c3d9-4ca9-b6f6-7a026e77c0c8",
   "metadata": {},
   "outputs": [
    {
     "name": "stdout",
     "output_type": "stream",
     "text": [
      "[3, 2, 2]\n"
     ]
    }
   ],
   "source": [
    "import random\n",
    "matrix = [[random.random() for _ in range(4)] for _ in range(3)]\n",
    "max_indices_per_row = [row.index(max(row)) for row in matrix]\n",
    "print(max_indices_per_row)"
   ]
  },
  {
   "cell_type": "markdown",
   "id": "73a892b0-d196-4bf8-a91c-674ebbbba0e3",
   "metadata": {},
   "source": [
    "Exercise 39: Create a 2D list and replace all nan values with the mean of the list."
   ]
  },
  {
   "cell_type": "code",
   "execution_count": 7,
   "id": "70c8740a-73c6-41ed-9202-5c28b4ddd17f",
   "metadata": {},
   "outputs": [
    {
     "name": "stdout",
     "output_type": "stream",
     "text": [
      "[[ 1. nan  2.]\n",
      " [ 4.  5. nan]\n",
      " [ 7.  8.  9.]]\n",
      "5.142857142857143\n",
      "[[1.0, 5.142857142857143, 2.0], [4.0, 5.0, 5.142857142857143], [7.0, 8.0, 9.0]]\n"
     ]
    }
   ],
   "source": [
    "import numpy as np\n",
    "matrix = [[1,float('nan'), 2],[4,5,float('nan')],[7,8,9]]\n",
    "array_data = np.array(matrix)\n",
    "print(array_data)\n",
    "mean_value = np.nanmean(array_data)\n",
    "print(mean_value)\n",
    "array_data[np.isnan(array_data)] = mean_value\n",
    "result = array_data.tolist()\n",
    "print(result)"
   ]
  },
  {
   "cell_type": "markdown",
   "id": "621ccb21-e0e3-4a96-9bb9-0d3ca2eb6494",
   "metadata": {},
   "source": [
    "Exercise 40: Calculate the mean of each row in a 2D list ignoring nan values."
   ]
  },
  {
   "cell_type": "code",
   "execution_count": 9,
   "id": "83d03fa2-e493-4fd5-80ef-d475a781ce33",
   "metadata": {},
   "outputs": [
    {
     "name": "stdout",
     "output_type": "stream",
     "text": [
      "[1.5 5.  8. ]\n"
     ]
    }
   ],
   "source": [
    "import numpy as np\n",
    "\n",
    "def mean_of_rows_ignore_nan(matrix):\n",
    "    np_matrix = np.array(matrix)\n",
    "    row_means = np.nanmean(np_matrix, axis = 1)\n",
    "    return row_means\n",
    "\n",
    "matrix = [\n",
    "    [1, 2, np.nan],\n",
    "    [4, np.nan, 6],\n",
    "    [7, 8, 9]\n",
    "]\n",
    "\n",
    "print(mean_of_rows_ignore_nan(matrix))"
   ]
  },
  {
   "cell_type": "markdown",
   "id": "efb94ecc-4f3d-4ead-ab71-07f61328bc1c",
   "metadata": {},
   "source": [
    "Exercise 41: Compute the sum of diagonal elements in a 2D list."
   ]
  },
  {
   "cell_type": "code",
   "execution_count": 1,
   "id": "2c9d1dd0-9b2a-4512-b90f-e78a8cdbdec3",
   "metadata": {},
   "outputs": [
    {
     "name": "stdout",
     "output_type": "stream",
     "text": [
      "1.580964880034137\n"
     ]
    }
   ],
   "source": [
    "import random\n",
    "matrix = [[random.random() for _ in range(3)] for _ in range(3)]\n",
    "diagnol_sum = sum(matrix[i][i] for i in range(3))\n",
    "print(diagnol_sum)"
   ]
  },
  {
   "cell_type": "markdown",
   "id": "b5a1c665-231a-4a5b-853b-4f93e064a32e",
   "metadata": {},
   "source": [
    "Exercise 42: Convert radians to degrees for each element in a list."
   ]
  },
  {
   "cell_type": "code",
   "execution_count": 4,
   "id": "d72ff18f-f5a1-4865-b962-0560a9b1cb40",
   "metadata": {},
   "outputs": [
    {
     "name": "stdout",
     "output_type": "stream",
     "text": [
      "[90.0, 180.0, 270.0]\n"
     ]
    }
   ],
   "source": [
    "import math\n",
    "lst = [math.pi / 2, math.pi, 3 * math.pi / 2]\n",
    "degrees_lst = [math.degrees(x) for x in lst]\n",
    "print(degrees_lst)"
   ]
  },
  {
   "cell_type": "markdown",
   "id": "09307d6f-4bc0-4ddb-b8e4-8f11dcc25518",
   "metadata": {},
   "source": [
    "Exercise 43: Calculate the pairwise Euclidean distance between two lists."
   ]
  },
  {
   "cell_type": "code",
   "execution_count": 5,
   "id": "90dfab83-f51c-4bfe-af9a-a58d9e956983",
   "metadata": {},
   "outputs": [
    {
     "name": "stdout",
     "output_type": "stream",
     "text": [
      "5.196152422706632\n"
     ]
    }
   ],
   "source": [
    "l1 = [1,2,3]\n",
    "l2 = [4,5,6]\n",
    "euclidean_dist = sum((x - y) ** 2 for x,y in zip(l1, l2)) ** 0.5\n",
    "print(euclidean_dist)"
   ]
  },
  {
   "cell_type": "markdown",
   "id": "b7cf575c-5e6e-4735-9b64-d84e56f87511",
   "metadata": {},
   "source": [
    "Exercise 44: Create a list and set the values between the 25th and 75th percentile to 0."
   ]
  },
  {
   "cell_type": "code",
   "execution_count": 6,
   "id": "6ea12308-5bd6-4d02-8c5a-c2227aa847f9",
   "metadata": {},
   "outputs": [
    {
     "name": "stdout",
     "output_type": "stream",
     "text": [
      "[10, 0, 0, 0, 50]\n"
     ]
    }
   ],
   "source": [
    "lst = [10, 20, 30, 40, 50]\n",
    "percentile_25th = sorted(lst)[int(len(lst) * 0.25)]\n",
    "percentile_75th = sorted(lst)[int(len(lst) * 0.75)]\n",
    "lst = [0 if percentile_25th <= x <= percentile_75th else x for x in lst]\n",
    "print(lst)"
   ]
  },
  {
   "cell_type": "markdown",
   "id": "721428b4-9894-44aa-8e87-17712c09339b",
   "metadata": {},
   "source": [
    "Exercise 45: Calculate the element-wise square of the difference between two lists."
   ]
  },
  {
   "cell_type": "code",
   "execution_count": 7,
   "id": "a216bc3f-d8a2-462b-99ca-70cbed06be2f",
   "metadata": {},
   "outputs": [
    {
     "name": "stdout",
     "output_type": "stream",
     "text": [
      "[9, 9, 9]\n"
     ]
    }
   ],
   "source": [
    "lst1 = [1,2,3]\n",
    "lst2 = [4,5,6]\n",
    "squared_diff = [(x-y) ** 2 for x, y in zip(lst1, lst2)]\n",
    "print(squared_diff)"
   ]
  },
  {
   "cell_type": "markdown",
   "id": "ada8b3f1-1795-4000-8704-67b0248d636c",
   "metadata": {},
   "source": [
    "Exercise 46: Replace all even numbers in a list with the next odd number."
   ]
  },
  {
   "cell_type": "code",
   "execution_count": 9,
   "id": "73a979cf-d2dd-4ac2-adb5-921c75ca3f74",
   "metadata": {},
   "outputs": [
    {
     "name": "stdout",
     "output_type": "stream",
     "text": [
      "[3, 5, 9, 13, 15]\n"
     ]
    }
   ],
   "source": [
    "lst = [2,5,8,12,15]\n",
    "next_odd_lst = [x + 1 if x % 2 == 0 else x for x in lst]\n",
    "print(next_odd_lst)"
   ]
  },
  {
   "cell_type": "markdown",
   "id": "dc4dc2a2-00f5-4d3c-9a93-8072334d1d5f",
   "metadata": {},
   "source": [
    "Exercise 47: Create a 2D list and normalize each column by its range."
   ]
  },
  {
   "cell_type": "code",
   "execution_count": 10,
   "id": "4b967f37-8823-454e-b690-ac9f51ff86da",
   "metadata": {},
   "outputs": [
    {
     "name": "stdout",
     "output_type": "stream",
     "text": [
      "[[0.0, 0.2358446388635091, 0.0], [0.8483077685743815, 0.0, 0.6287549397185959], [1.0, 1.0, 1.0]]\n"
     ]
    }
   ],
   "source": [
    "import random\n",
    "matrix = [[random.random() for _ in range(3)] for _ in range(3)]\n",
    "min_col = [min(row[i] for row in matrix) for i in range(3)]\n",
    "max_col = [max(row[i] for row in matrix) for i in range(3)]\n",
    "normalized_matrix = [[(row[i] - min_col[i]) / (max_col[i] - min_col[i]) for i in range(3)] for row in matrix]\n",
    "print(normalized_matrix)"
   ]
  },
  {
   "cell_type": "markdown",
   "id": "50b24fde-8f78-4fc9-bb1f-68c35d8093b0",
   "metadata": {},
   "source": [
    "Exercise 48: Compute the cumulative sum of elements along a given axis in a 2D list."
   ]
  },
  {
   "cell_type": "code",
   "execution_count": 11,
   "id": "396284ad-1677-402a-b787-87329aa8dbb0",
   "metadata": {},
   "outputs": [
    {
     "name": "stdout",
     "output_type": "stream",
     "text": [
      "[[0.8997058666686795, 1.1619959950875318, 1.5834159613763839], [0.9907314356188177, 1.6777070678991088, 2.314298567555603], [0.0852920895736875, 0.13510722720560653, 0.6487719129247362]]\n"
     ]
    }
   ],
   "source": [
    "import random\n",
    "matrix = [[random.random() for _ in range(3)] for _ in range(3)]\n",
    "cumulative_sum_axis_1 = [[sum(row[:i + 1]) for i in range(len(row))] for row in matrix]\n",
    "print(cumulative_sum_axis_1)"
   ]
  },
  {
   "cell_type": "markdown",
   "id": "a105d333-d084-4c63-bc42-233e4912f6d7",
   "metadata": {},
   "source": [
    "Exercise 49: Check if any element in a list is non-zero."
   ]
  },
  {
   "cell_type": "code",
   "execution_count": 12,
   "id": "6e4200ca-1ac8-43ff-bd4a-53e2caa2c4a7",
   "metadata": {},
   "outputs": [
    {
     "name": "stdout",
     "output_type": "stream",
     "text": [
      "True\n"
     ]
    }
   ],
   "source": [
    "lst = [0,0,0,1,0]\n",
    "any_non_zero = any(lst)\n",
    "print(any_non_zero)"
   ]
  },
  {
   "cell_type": "markdown",
   "id": "58aa91f3-e3e7-49de-9bfb-18d9f00bbadf",
   "metadata": {},
   "source": [
    "Exercise 50: Create a 2D list with random integers and replace all values greater than a certain threshold with that threshold."
   ]
  },
  {
   "cell_type": "code",
   "execution_count": 14,
   "id": "5014bce6-cd17-46f1-bf9d-6ac0b403206d",
   "metadata": {},
   "outputs": [
    {
     "name": "stdout",
     "output_type": "stream",
     "text": [
      "[[3, 6, 53, 4], [42, 80, 59, 8], [67, 48, 96, 71], [30, 17, 88, 75]]\n",
      "[[3, 6, 53, 4], [42, 75, 59, 8], [67, 48, 75, 71], [30, 17, 75, 75]]\n"
     ]
    }
   ],
   "source": [
    "import random\n",
    "matrix = [[random.randint(0, 100) for _ in range(4)] for _ in range(4)]\n",
    "print(matrix)\n",
    "threshold = 75\n",
    "for row in matrix:\n",
    "    for ind in range(len(row)):\n",
    "        if row[ind] > threshold:\n",
    "            row[ind] = threshold\n",
    "print(matrix)"
   ]
  },
  {
   "cell_type": "markdown",
   "id": "10cbef3a-584b-4d37-9431-9bbd01a9d78c",
   "metadata": {},
   "source": [
    "Exercise 51: Find the median of a list of numbers."
   ]
  },
  {
   "cell_type": "code",
   "execution_count": 15,
   "id": "fa39bb26-6a98-409c-b4fb-d42ee61ba214",
   "metadata": {},
   "outputs": [
    {
     "name": "stdout",
     "output_type": "stream",
     "text": [
      "3\n"
     ]
    }
   ],
   "source": [
    "lst = [2, 5, 1, 3, 4]\n",
    "lst.sort()\n",
    "n = len(lst)\n",
    "if n % 2 != 0:\n",
    "    median = lst[n // 2]\n",
    "else:\n",
    "    median = (lst[n // 2 - 1] + lst[n // 2]) / 2\n",
    "\n",
    "print(median)"
   ]
  },
  {
   "cell_type": "markdown",
   "id": "fb760fec-0b07-4e12-a58c-4530bfa58393",
   "metadata": {},
   "source": [
    "Exercise 52: Convert a list of numbers to a list of their logarithms."
   ]
  },
  {
   "cell_type": "code",
   "execution_count": 16,
   "id": "a271568e-fa3d-4db6-a2f8-b9278f49e89c",
   "metadata": {},
   "outputs": [
    {
     "name": "stdout",
     "output_type": "stream",
     "text": [
      "[0.0, 1.0, 2.0, 3.0]\n"
     ]
    }
   ],
   "source": [
    "import math\n",
    "lst = [1,10,100,1000]\n",
    "log_lst = [math.log10(x) for x in lst]\n",
    "print(log_lst)"
   ]
  },
  {
   "cell_type": "markdown",
   "id": "2cafb888-959c-4c89-80b7-d5fbd749217c",
   "metadata": {},
   "source": [
    "Exercise 53: Find the mode of a list of numbers."
   ]
  },
  {
   "cell_type": "code",
   "execution_count": 17,
   "id": "607198db-37f6-438b-81e0-2642c942cffa",
   "metadata": {},
   "outputs": [
    {
     "name": "stdout",
     "output_type": "stream",
     "text": [
      "3\n"
     ]
    }
   ],
   "source": [
    "from collections import Counter\n",
    "lst = [1,2,2,3,3,3,4,4]\n",
    "mode = Counter(lst).most_common(1)[0][0]\n",
    "print(mode)"
   ]
  },
  {
   "cell_type": "markdown",
   "id": "573ab05d-d30a-4bc7-9976-d23627096fc1",
   "metadata": {},
   "source": [
    "Exercise 54: Flatten a list of lists."
   ]
  },
  {
   "cell_type": "code",
   "execution_count": 18,
   "id": "058a5b8f-41f1-46b8-88cf-1cbf865b3515",
   "metadata": {},
   "outputs": [
    {
     "name": "stdout",
     "output_type": "stream",
     "text": [
      "[1, 2, 3, 4, 5, 6, 7, 8, 9]\n"
     ]
    }
   ],
   "source": [
    "nested_lst = [[1,2,3],[4,5],[6,7,8,9]]\n",
    "flat_lst = []\n",
    "for sublst in nested_lst:\n",
    "    for ele in sublst:\n",
    "        flat_lst.append(ele)\n",
    "\n",
    "print(flat_lst)"
   ]
  },
  {
   "cell_type": "markdown",
   "id": "a526dfea-bc8d-4ebf-8c23-d9e489eeab34",
   "metadata": {},
   "source": [
    "Exercise 55: Transpose a 2D list."
   ]
  },
  {
   "cell_type": "code",
   "execution_count": 20,
   "id": "cf6e7b0d-a973-45fb-98a4-d0e416a99717",
   "metadata": {},
   "outputs": [
    {
     "name": "stdout",
     "output_type": "stream",
     "text": [
      "[[1, 4, 7], [2, 5, 8], [3, 6, 9]]\n"
     ]
    }
   ],
   "source": [
    "matrix = [[1,2,3],[4,5,6],[7,8,9]]\n",
    "transpose_matrix = []\n",
    "for i in range(len(matrix[0])):\n",
    "    trans_row = []\n",
    "    for row in matrix:\n",
    "        trans_row.append(row[i])\n",
    "    transpose_matrix.append(trans_row)\n",
    "    \n",
    "print(transpose_matrix)"
   ]
  },
  {
   "cell_type": "markdown",
   "id": "e30f547c-0849-4c8f-8556-b7aebd9e1d2e",
   "metadata": {},
   "source": [
    "Exercise 56: Remove duplicates from a list while preserving order."
   ]
  },
  {
   "cell_type": "code",
   "execution_count": 21,
   "id": "92e60f63-fcf7-47de-8ab0-9dbfc3238271",
   "metadata": {},
   "outputs": [
    {
     "name": "stdout",
     "output_type": "stream",
     "text": [
      "[1, 2, 3, 4, 5]\n"
     ]
    }
   ],
   "source": [
    "lst = [1,2,2,3,4,4,5]\n",
    "seen = list(set(lst))\n",
    "print(seen)"
   ]
  },
  {
   "cell_type": "markdown",
   "id": "77c438dc-d50b-4948-87dd-f707359a7be0",
   "metadata": {},
   "source": [
    "Exercise 57: Find the intersection of two lists."
   ]
  },
  {
   "cell_type": "code",
   "execution_count": 22,
   "id": "bbc74d2c-dd56-4f27-a43c-da4a02877aa8",
   "metadata": {},
   "outputs": [
    {
     "name": "stdout",
     "output_type": "stream",
     "text": [
      "[3, 4]\n"
     ]
    }
   ],
   "source": [
    "l1 = [1,2,3,4]\n",
    "l2 = [3,4,5,6]\n",
    "intersection = list(set(l1) & set(l2))\n",
    "print(intersection)"
   ]
  },
  {
   "cell_type": "markdown",
   "id": "8802ceaf-a13b-41cc-9e70-da1c3d3cce47",
   "metadata": {},
   "source": [
    "Exercise 58: Merge two dictionaries."
   ]
  },
  {
   "cell_type": "code",
   "execution_count": 23,
   "id": "c86b196b-5021-473c-8be9-44fd9cd822a5",
   "metadata": {},
   "outputs": [
    {
     "name": "stdout",
     "output_type": "stream",
     "text": [
      "{'a': 1, 'b': 2, 'c': 3, 'd': 4}\n"
     ]
    }
   ],
   "source": [
    "d1 = {'a' : 1, 'b' : 2}\n",
    "d2 = {'c' : 3, 'd' : 4}\n",
    "merged_d = {**d1, **d2}\n",
    "print(merged_d)"
   ]
  },
  {
   "cell_type": "markdown",
   "id": "0c52b6da-5d50-4e80-a677-6cb715eff8a1",
   "metadata": {},
   "source": [
    "Exercise 59: Sort a list of dictionaries by a key."
   ]
  },
  {
   "cell_type": "code",
   "execution_count": 24,
   "id": "592ccb54-8f40-4a2a-91c0-615daa40df10",
   "metadata": {},
   "outputs": [
    {
     "name": "stdout",
     "output_type": "stream",
     "text": [
      "[{'name': 'Matteo', 'age': 22}, {'name': 'Anej', 'age': 25}, {'name': 'Eliza', 'age': 28}]\n"
     ]
    }
   ],
   "source": [
    "lst  = [{'name' : 'Anej', 'age' : 25}, {'name' : 'Matteo', 'age' : 22}, {'name' : 'Eliza', 'age' : 28}]\n",
    "sorted_l = sorted(lst, key = lambda x: x['age'])\n",
    "print(sorted_l)"
   ]
  },
  {
   "cell_type": "markdown",
   "id": "0f71a91f-a28d-440f-9720-452d22f687c5",
   "metadata": {},
   "source": [
    "Exercise 60: Filter a dictionary based on its values."
   ]
  },
  {
   "cell_type": "code",
   "execution_count": 25,
   "id": "cef5b215-77ed-4854-b0ae-b65fe6bcec2f",
   "metadata": {},
   "outputs": [
    {
     "name": "stdout",
     "output_type": "stream",
     "text": [
      "{'b': 2, 'c': 3}\n"
     ]
    }
   ],
   "source": [
    "d = {'a' : 1, 'b' : 2, 'c' : 3}\n",
    "filtered_d = {k : v for k,v in d.items() if v > 1}\n",
    "print(filtered_d)"
   ]
  },
  {
   "cell_type": "markdown",
   "id": "a8cfd866-dfbe-4fe4-9f07-52be67bbbefa",
   "metadata": {},
   "source": [
    "Exercise 61: Create a dictionary from two lists."
   ]
  },
  {
   "cell_type": "code",
   "execution_count": 5,
   "id": "a12c7884-fea6-4e94-bb66-2898c1333960",
   "metadata": {},
   "outputs": [
    {
     "name": "stdout",
     "output_type": "stream",
     "text": [
      "{'a': 1, 'b': 2, 'c': 3}\n"
     ]
    }
   ],
   "source": [
    "keys = ['a', 'b', 'c']\n",
    "values = [1,2,3]\n",
    "dict_from_list = dict(zip(keys, values))\n",
    "print(dict_from_list)"
   ]
  },
  {
   "cell_type": "markdown",
   "id": "fb80a2df-72ae-4fe2-af99-5b62887cd455",
   "metadata": {},
   "source": [
    "Exercise 62: Find the maximum value in a dictionary."
   ]
  },
  {
   "cell_type": "code",
   "execution_count": 7,
   "id": "796150ef-0a5e-4293-bcce-7bb3e5ea07e1",
   "metadata": {},
   "outputs": [
    {
     "name": "stdout",
     "output_type": "stream",
     "text": [
      "3\n"
     ]
    }
   ],
   "source": [
    "max_val = max(dict_from_list.values())\n",
    "print(max_val)"
   ]
  },
  {
   "cell_type": "markdown",
   "id": "384a3f5d-bef3-41e1-bc5c-1bea7e1e607e",
   "metadata": {},
   "source": [
    "Exercise 63: Invert a dictionary (swap keys and values)."
   ]
  },
  {
   "cell_type": "code",
   "execution_count": 17,
   "id": "9a59a163-5628-4891-a91c-0ad593079cae",
   "metadata": {},
   "outputs": [
    {
     "name": "stdout",
     "output_type": "stream",
     "text": [
      "{1: 'a', 2: 'b', 3: 'c'}\n"
     ]
    }
   ],
   "source": [
    "inverted_dict = {v : k for k,v in dict_from_list.items()}\n",
    "print(inverted_dict)"
   ]
  },
  {
   "cell_type": "markdown",
   "id": "bfa0c124-50c9-4442-9b28-2cac173bfedd",
   "metadata": {},
   "source": [
    "Exercise 64: Create a dictionary with a default value."
   ]
  },
  {
   "cell_type": "code",
   "execution_count": 35,
   "id": "1c3273fe-7d5c-47c6-872e-fed5b2442dd6",
   "metadata": {},
   "outputs": [
    {
     "name": "stdout",
     "output_type": "stream",
     "text": [
      "{'a': 0, 'b': 0, 'c': 0}\n",
      "0\n"
     ]
    }
   ],
   "source": [
    "keys = ['a', 'b', 'c']\n",
    "default_value = 0\n",
    "default_dict = {k : default_value for k in keys}\n",
    "print(default_dict)\n",
    "print(default_dict['a'])"
   ]
  },
  {
   "cell_type": "markdown",
   "id": "c43710a9-46c2-4c82-8d0a-82b9d0cba86d",
   "metadata": {},
   "source": [
    "Exercise 65 : Convert a dictionary to a list of tuples."
   ]
  },
  {
   "cell_type": "code",
   "execution_count": 20,
   "id": "826fe03c-c7c3-4d04-8870-eac815f0a8ef",
   "metadata": {},
   "outputs": [
    {
     "name": "stdout",
     "output_type": "stream",
     "text": [
      "dict_items([('a', 0), ('b', 0), ('c', 0)])\n",
      "[('a', 0), ('b', 0), ('c', 0)]\n"
     ]
    }
   ],
   "source": [
    "print(default_dict.items())\n",
    "list_of_tuples = list(default_dict.items())\n",
    "print(list_of_tuples)"
   ]
  },
  {
   "cell_type": "markdown",
   "id": "f781546f-4749-4aec-9726-50bf60e8f3df",
   "metadata": {},
   "source": [
    "Exercise 66: Find the length of the longest string in a list."
   ]
  },
  {
   "cell_type": "code",
   "execution_count": 21,
   "id": "651b3ccd-3f5b-4dac-a57d-e1a000d677e9",
   "metadata": {},
   "outputs": [
    {
     "name": "stdout",
     "output_type": "stream",
     "text": [
      "6\n"
     ]
    }
   ],
   "source": [
    "lst = ['apple','banana','cherry']\n",
    "max_len = max(len(x) for x in lst)\n",
    "print(max_len)"
   ]
  },
  {
   "cell_type": "markdown",
   "id": "51351f07-1c8a-495f-8fbe-0d9fae9e3bdc",
   "metadata": {},
   "source": [
    "Exercise 67: Reverse the words in a sentence."
   ]
  },
  {
   "cell_type": "code",
   "execution_count": 27,
   "id": "cd8b18d9-34cc-4d27-b20a-7c3c39b82ffc",
   "metadata": {},
   "outputs": [
    {
     "name": "stdout",
     "output_type": "stream",
     "text": [
      "World Hello\n"
     ]
    }
   ],
   "source": [
    "sentence = 'Hello World'\n",
    "reverse_sentence = ' '.join(sentence.split()[::-1])\n",
    "print(reverse_sentence)"
   ]
  },
  {
   "cell_type": "markdown",
   "id": "a6c4a24a-64df-400f-bd11-ea5b27719d76",
   "metadata": {},
   "source": [
    "Exercise 68: Check if a string is a palindrome."
   ]
  },
  {
   "cell_type": "code",
   "execution_count": 31,
   "id": "20bcae7e-a60b-4d8e-a8f0-784a33adcce7",
   "metadata": {},
   "outputs": [
    {
     "name": "stdout",
     "output_type": "stream",
     "text": [
      "s : Hello, World!, reverse : !dlroW ,olleH\n",
      "s2 : Hello, ,olleH, reverse : Hello, ,olleH\n",
      "True\n"
     ]
    }
   ],
   "source": [
    "s = 'Hello, World!'\n",
    "s2 = 'Hello, ,olleH'\n",
    "print(f's : {s}, reverse : {s[::-1]}')\n",
    "print(f's2 : {s2}, reverse : {s2[::-1]}')\n",
    "\n",
    "if s2 == s2[::-1]:\n",
    "    print('True')\n",
    "else:\n",
    "    print('False')"
   ]
  },
  {
   "cell_type": "markdown",
   "id": "7c2d2943-f965-441a-8a2b-f52ec7db292c",
   "metadata": {},
   "source": [
    "Exercise 69: Remove punctuation from a string."
   ]
  },
  {
   "cell_type": "code",
   "execution_count": 32,
   "id": "0385c494-8591-4c78-9af0-6666d9b7b5bd",
   "metadata": {},
   "outputs": [
    {
     "name": "stdout",
     "output_type": "stream",
     "text": [
      "Text : Hello, World!, Cleaned Text : Hello World\n"
     ]
    }
   ],
   "source": [
    "import re\n",
    "text = 'Hello, World!'\n",
    "cleaned_text = re.sub(r'[^\\w\\s]', '', text)\n",
    "print(f'Text : {text}, Cleaned Text : {cleaned_text}')"
   ]
  },
  {
   "cell_type": "markdown",
   "id": "6d39334e-4ed1-4c49-a363-dda40221a4e2",
   "metadata": {},
   "source": [
    "Exercise 70: Count the occurrences of each character in a string."
   ]
  },
  {
   "cell_type": "code",
   "execution_count": 33,
   "id": "12359392-5323-4168-af64-e955585d8ee7",
   "metadata": {},
   "outputs": [
    {
     "name": "stdout",
     "output_type": "stream",
     "text": [
      "Counter({'l': 2, 'h': 1, 'e': 1, 'o': 1})\n"
     ]
    }
   ],
   "source": [
    "from collections import Counter\n",
    "s = \"hello\"\n",
    "char_count = Counter(s)\n",
    "print(char_count)"
   ]
  },
  {
   "cell_type": "code",
   "execution_count": 34,
   "id": "aa27bb33-75cb-4175-bbad-f859da22693a",
   "metadata": {},
   "outputs": [
    {
     "name": "stdout",
     "output_type": "stream",
     "text": [
      "{'h': 1, 'e': 1, 'l': 2, 'o': 1}\n"
     ]
    }
   ],
   "source": [
    "char_count = {}\n",
    "\n",
    "for char in s:\n",
    "    if char in char_count:\n",
    "        char_count[char] += 1\n",
    "    else:\n",
    "        char_count[char] = 1\n",
    "\n",
    "print(char_count)"
   ]
  },
  {
   "cell_type": "markdown",
   "id": "64cc423c-ebe1-40e2-ba84-2f8a8b0cb702",
   "metadata": {},
   "source": [
    "Exercise 71: Find the longest common prefix among a list of strings."
   ]
  },
  {
   "cell_type": "code",
   "execution_count": 39,
   "id": "00b43946-9d13-4c84-adf3-99088622916a",
   "metadata": {},
   "outputs": [
    {
     "name": "stdout",
     "output_type": "stream",
     "text": [
      "['flight', 'flow', 'flower']\n",
      "flight\n",
      "flower\n",
      "fl\n"
     ]
    }
   ],
   "source": [
    "lst = ['flower', 'flow','flight']\n",
    "\n",
    "def longest_common_prefix(strs):\n",
    "    if not strs:\n",
    "        return ''\n",
    "    strs.sort()\n",
    "    print(strs)\n",
    "    first = strs[0]\n",
    "    print(first)\n",
    "    last = strs[-1]\n",
    "    print(last)\n",
    "    i = 0\n",
    "\n",
    "    while i < len(first) and i < len(last) and first[i] == last[i]:\n",
    "        i += 1\n",
    "    return first[:i]\n",
    "\n",
    "print(longest_common_prefix(lst))"
   ]
  },
  {
   "cell_type": "markdown",
   "id": "c85abbe5-4a8c-49a5-84c7-305f788f6313",
   "metadata": {},
   "source": [
    "Exercise 72: Convert a string to a list of characters."
   ]
  },
  {
   "cell_type": "code",
   "execution_count": 40,
   "id": "5bd3ee16-2978-48c6-986c-32537f7a2fb6",
   "metadata": {},
   "outputs": [
    {
     "name": "stdout",
     "output_type": "stream",
     "text": [
      "['s', 't', 'r', 'i', 'n', 'g']\n"
     ]
    }
   ],
   "source": [
    "s = 'string'\n",
    "string_list = list(s)\n",
    "print(string_list)"
   ]
  },
  {
   "cell_type": "markdown",
   "id": "79a2501a-be49-4716-8f39-389b78b76f09",
   "metadata": {},
   "source": [
    "Exercise 73: Generate a list of random integers."
   ]
  },
  {
   "cell_type": "code",
   "execution_count": 42,
   "id": "76239312-c7c3-4d04-8f4c-7087885a73df",
   "metadata": {},
   "outputs": [
    {
     "name": "stdout",
     "output_type": "stream",
     "text": [
      "[25, 68, 11, 85]\n"
     ]
    }
   ],
   "source": [
    "import random\n",
    "random_int = [random.randint(1, 100) for _ in range(4)]\n",
    "print(random_int)"
   ]
  },
  {
   "cell_type": "markdown",
   "id": "023fe8f5-351d-4ebd-9bbd-57bfa44ed59e",
   "metadata": {},
   "source": [
    "Exercise 74: Shuffle a list."
   ]
  },
  {
   "cell_type": "code",
   "execution_count": 43,
   "id": "5f0721c8-87bf-431f-a9c2-7489f310a3e1",
   "metadata": {},
   "outputs": [
    {
     "name": "stdout",
     "output_type": "stream",
     "text": [
      "[4, 6, 2, 3, 5, 1]\n"
     ]
    }
   ],
   "source": [
    "import random\n",
    "\n",
    "lst = [1,2,3,4,5,6]\n",
    "random.shuffle(lst)\n",
    "print(lst)"
   ]
  },
  {
   "cell_type": "markdown",
   "id": "62e665c6-6dd9-4846-9e05-855a396e6e02",
   "metadata": {},
   "source": [
    "Exercise 75: Generate a random password of a given length."
   ]
  },
  {
   "cell_type": "code",
   "execution_count": 46,
   "id": "b10cdb6f-838c-452e-8765-8ebb818294b1",
   "metadata": {},
   "outputs": [
    {
     "name": "stdout",
     "output_type": "stream",
     "text": [
      "xOS380Xd\n"
     ]
    }
   ],
   "source": [
    "import string\n",
    "import random\n",
    "length = 8\n",
    "password = ''.join(random.choice(string.ascii_letters + string.digits) for _ in range(length))\n",
    "print(password)"
   ]
  },
  {
   "cell_type": "markdown",
   "id": "be9884f1-a9b0-47bf-a23c-ae14e029be63",
   "metadata": {},
   "source": [
    "Exercise 76: Calculate the factorial of a number."
   ]
  },
  {
   "cell_type": "code",
   "execution_count": 47,
   "id": "9b31e537-da3f-439d-90a0-78a3629c6d35",
   "metadata": {},
   "outputs": [
    {
     "name": "stdout",
     "output_type": "stream",
     "text": [
      "120\n"
     ]
    }
   ],
   "source": [
    "def factorial(n):\n",
    "    return 1 if n == 0 else n * factorial(n - 1)\n",
    "\n",
    "print(factorial(5))"
   ]
  },
  {
   "cell_type": "markdown",
   "id": "9bfa010f-f315-4146-97d6-4d75172d91fd",
   "metadata": {},
   "source": [
    "Exercise 77: Calculate the Fibonacci sequence up to a given number of terms."
   ]
  },
  {
   "cell_type": "code",
   "execution_count": 48,
   "id": "5c61ba56-407d-49bc-b4b4-1dbbc927c829",
   "metadata": {},
   "outputs": [
    {
     "name": "stdout",
     "output_type": "stream",
     "text": [
      "[0, 1, 1, 2, 3, 5, 8, 13, 21, 34]\n"
     ]
    }
   ],
   "source": [
    "def fibonacci_seq(n):\n",
    "    if n <= 0:\n",
    "        return []\n",
    "    elif n == 1:\n",
    "        return [0]\n",
    "    elif n == 2:\n",
    "        return [0,1]\n",
    "    sequence = [0,1]\n",
    "    for i in range(2,n):\n",
    "        next_term = sequence[-1] + sequence[-2]\n",
    "        sequence.append(next_term)\n",
    "    return sequence\n",
    "\n",
    "n = 10\n",
    "print(fibonacci_seq(n))"
   ]
  },
  {
   "cell_type": "markdown",
   "id": "ea8f7073-6c57-4201-a803-1f1125489835",
   "metadata": {},
   "source": [
    "Exercise 78: Check if a number is prime."
   ]
  },
  {
   "cell_type": "code",
   "execution_count": 49,
   "id": "c8edcc86-055e-4808-9372-58bee70fac84",
   "metadata": {},
   "outputs": [
    {
     "name": "stdout",
     "output_type": "stream",
     "text": [
      "False\n"
     ]
    }
   ],
   "source": [
    "def is_prime(n):\n",
    "    if n <= 1:\n",
    "        return False\n",
    "    for i in range(2, int(n ** 0.5) + 1):\n",
    "        if n % 1 == 0:\n",
    "            return False\n",
    "    return True\n",
    "\n",
    "print(is_prime(17))\n",
    "        "
   ]
  },
  {
   "cell_type": "markdown",
   "id": "7f1508ad-cfe8-4c5d-a96e-c9ac8ca39b76",
   "metadata": {},
   "source": [
    "Exercise 79: Find the greatest common divisor (GCD) of two numbers."
   ]
  },
  {
   "cell_type": "code",
   "execution_count": 50,
   "id": "44729c78-11d4-4cf1-9015-7d798086ed39",
   "metadata": {},
   "outputs": [
    {
     "name": "stdout",
     "output_type": "stream",
     "text": [
      "6\n"
     ]
    }
   ],
   "source": [
    "def gcd(a, b):\n",
    "    while b:\n",
    "        a, b = b, a % b\n",
    "    return a\n",
    "\n",
    "print(gcd(48, 18))"
   ]
  },
  {
   "cell_type": "markdown",
   "id": "6db37e1b-b423-4422-b623-e65d13619f60",
   "metadata": {},
   "source": [
    "Exercise 80: Find the least common multiple (LCM) of two numbers."
   ]
  },
  {
   "cell_type": "code",
   "execution_count": 51,
   "id": "ce0f950a-523e-44b1-b56c-a6da06799e0a",
   "metadata": {},
   "outputs": [
    {
     "name": "stdout",
     "output_type": "stream",
     "text": [
      "20\n"
     ]
    }
   ],
   "source": [
    "def lcm(a, b):\n",
    "    def gcd(a, b):\n",
    "        while b:\n",
    "            a, b = b, a % b\n",
    "        return a\n",
    "    return a * b // gcd(a, b)\n",
    "print(lcm(4, 5))"
   ]
  },
  {
   "cell_type": "markdown",
   "id": "61e1c3c4-168a-4fd7-b9fa-20f61b112869",
   "metadata": {},
   "source": [
    "Exercise 81: Sort a list of tuples by the second element."
   ]
  },
  {
   "cell_type": "code",
   "execution_count": 52,
   "id": "e4b5f046-599a-43c7-a1d5-5dffae49ebb4",
   "metadata": {},
   "outputs": [
    {
     "name": "stdout",
     "output_type": "stream",
     "text": [
      "[(3, 1), (2, 2), (1, 3)]\n"
     ]
    }
   ],
   "source": [
    "lst = [(1,3), (2,2), (3,1)]\n",
    "sorted_lst = sorted(lst, key = lambda x : x[1])\n",
    "print(sorted_lst)"
   ]
  },
  {
   "cell_type": "markdown",
   "id": "aab0e551-04c4-47cc-943e-bdbf62b87c2e",
   "metadata": {},
   "source": [
    "Exercise 82: Find the second largest number in a list."
   ]
  },
  {
   "cell_type": "code",
   "execution_count": 56,
   "id": "54be547f-bb94-4949-9a4d-9a6baa2e2038",
   "metadata": {},
   "outputs": [
    {
     "name": "stdout",
     "output_type": "stream",
     "text": [
      "8\n"
     ]
    }
   ],
   "source": [
    "lst = [5,8,3,7,4,6,9,2,4,5,3]\n",
    "lst.sort()\n",
    "second_largest = lst[-2]\n",
    "print(second_largest)"
   ]
  },
  {
   "cell_type": "markdown",
   "id": "20ea3c9c-5773-428e-81a6-53017a4ad98d",
   "metadata": {},
   "source": [
    "Exercise 83: Check if a list is a palindrome."
   ]
  },
  {
   "cell_type": "code",
   "execution_count": 57,
   "id": "868f034d-d71a-4416-8110-781fdc60553e",
   "metadata": {},
   "outputs": [
    {
     "name": "stdout",
     "output_type": "stream",
     "text": [
      "True\n"
     ]
    }
   ],
   "source": [
    "lst = [1,2,3,2,1]\n",
    "if lst == lst[::-1]:\n",
    "    print('True')\n",
    "else:\n",
    "    print('False')"
   ]
  },
  {
   "cell_type": "markdown",
   "id": "fa8d4d10-7447-4544-9e3f-070883b761ea",
   "metadata": {},
   "source": [
    "Exercise 84: Find the sum of the digits of a number."
   ]
  },
  {
   "cell_type": "code",
   "execution_count": 58,
   "id": "53884d1f-24c7-4b8f-874f-3d779ce3b1bc",
   "metadata": {},
   "outputs": [
    {
     "name": "stdout",
     "output_type": "stream",
     "text": [
      "17\n"
     ]
    }
   ],
   "source": [
    "n = 89\n",
    "sum_digit = sum(int(digit) for digit in str(n))\n",
    "print(sum_digit)"
   ]
  },
  {
   "cell_type": "markdown",
   "id": "27fa6812-0945-459b-8418-7b47b5ef88a0",
   "metadata": {},
   "source": [
    "Exercise 85: Find the product of the digits of a number."
   ]
  },
  {
   "cell_type": "code",
   "execution_count": 60,
   "id": "5af06d08-4d70-4c3d-a625-727369ec4cc9",
   "metadata": {},
   "outputs": [
    {
     "name": "stdout",
     "output_type": "stream",
     "text": [
      "960\n"
     ]
    }
   ],
   "source": [
    "prod = 1\n",
    "n = 4568\n",
    "for i in str(n):\n",
    "    prod = prod * int(i)\n",
    "\n",
    "print(prod)"
   ]
  },
  {
   "cell_type": "markdown",
   "id": "cb042388-f607-4f7f-bc70-51ac3cb079c6",
   "metadata": {},
   "source": [
    "Exercise 86: Check if a string is a valid number."
   ]
  },
  {
   "cell_type": "code",
   "execution_count": 63,
   "id": "d530fc19-1f95-46d3-bd91-17dda131370c",
   "metadata": {},
   "outputs": [
    {
     "name": "stdout",
     "output_type": "stream",
     "text": [
      "False\n"
     ]
    }
   ],
   "source": [
    "n = '465.45'\n",
    "is_valid_num = s.replace('.', '',1).isdigit()\n",
    "print(is_valid_num)"
   ]
  },
  {
   "cell_type": "markdown",
   "id": "e26e1bc5-28c4-4612-bf8f-135fc1731511",
   "metadata": {},
   "source": [
    "Exercise 87: Find the length of the longest word in a sentence."
   ]
  },
  {
   "cell_type": "code",
   "execution_count": 64,
   "id": "44b239c8-5056-4716-a3a1-84573243edd4",
   "metadata": {},
   "outputs": [
    {
     "name": "stdout",
     "output_type": "stream",
     "text": [
      "8\n"
     ]
    }
   ],
   "source": [
    "sentence = 'This is a sentence with long words.'\n",
    "longest_word_len = max(len(word) for word in sentence.split())\n",
    "print(longest_word_len)"
   ]
  },
  {
   "cell_type": "markdown",
   "id": "4b69642d-e8f1-4264-bc9c-cb48e4e3542d",
   "metadata": {},
   "source": [
    "Exercise 88: Convert a list of tuples to a dictionary."
   ]
  },
  {
   "cell_type": "code",
   "execution_count": 65,
   "id": "c451268f-f310-4232-b8e5-8b1500d56285",
   "metadata": {},
   "outputs": [
    {
     "name": "stdout",
     "output_type": "stream",
     "text": [
      "{'a': 1, 'b': 3, 'c': 5}\n"
     ]
    }
   ],
   "source": [
    "list_of_tuples = [('a', 1), ('b', 3), ('c', 5)]\n",
    "d = dict(list_of_tuples)\n",
    "print(d)"
   ]
  },
  {
   "cell_type": "markdown",
   "id": "476e89c3-6263-45d7-accf-528222ea78f9",
   "metadata": {},
   "source": [
    "Exercise 89: Filter a list of dictionaries based on a key value."
   ]
  },
  {
   "cell_type": "code",
   "execution_count": 66,
   "id": "9afbb742-ea00-46ce-83a0-b3ee88e9d829",
   "metadata": {},
   "outputs": [
    {
     "name": "stdout",
     "output_type": "stream",
     "text": [
      "[{'name': 'Vivek', 'age': 25}, {'name': ' Neassa', 'age': 28}]\n"
     ]
    }
   ],
   "source": [
    "lst = [{'name': 'Vivek', 'age': 25}, {'name': 'Esther', 'age': 22}, {'name': ' Neassa', 'age': 28}]                            \n",
    "filtered_l = [x for x in lst if x['age'] > 23]\n",
    "print(filtered_l)"
   ]
  },
  {
   "cell_type": "markdown",
   "id": "b17f86c1-8011-4c25-a7be-752d304aa3d6",
   "metadata": {},
   "source": [
    "Exercise 90: Sort a list of tuples by multiple keys."
   ]
  },
  {
   "cell_type": "code",
   "execution_count": 1,
   "id": "990ef0fd-52bb-4d72-a70e-4da5e6d85c0e",
   "metadata": {},
   "outputs": [
    {
     "name": "stdout",
     "output_type": "stream",
     "text": [
      "[('Aisha', 'A', 25), ('Meine', 'A', 28), (' Remy', 'B', 22)]\n"
     ]
    }
   ],
   "source": [
    "lst = [('Aisha', 'A', 25), (' Remy', 'B', 22), ('Meine', 'A', 28)]\n",
    "sorted_list = sorted(lst, key = lambda x: (x[1], x[2]))\n",
    "print(sorted_list)"
   ]
  },
  {
   "cell_type": "markdown",
   "id": "092a6a00-549c-4c8f-bb3d-58bf877acc96",
   "metadata": {},
   "source": [
    "Exercise 91: Merge two lists into a dictionary, using one as keys and the other as values."
   ]
  },
  {
   "cell_type": "code",
   "execution_count": 2,
   "id": "31370e2c-a62a-4332-bf61-fec1b2f1d9aa",
   "metadata": {},
   "outputs": [
    {
     "name": "stdout",
     "output_type": "stream",
     "text": [
      "{1: 'a', 2: 'b', 3: 'c'}\n"
     ]
    }
   ],
   "source": [
    "l1 = [1,2,3]\n",
    "l2 = ['a','b','c']\n",
    "dictionary_list = dict(zip(l1,l2))\n",
    "print(dictionary_list)"
   ]
  },
  {
   "cell_type": "markdown",
   "id": "0185e456-f61f-40c2-850f-b6b59c5385b2",
   "metadata": {},
   "source": [
    "Exercise 92: Create a dictionary with keys as numbers and values as their squares"
   ]
  },
  {
   "cell_type": "code",
   "execution_count": 4,
   "id": "33f94e07-bad8-4b42-8bfa-d6075c4b00d9",
   "metadata": {},
   "outputs": [
    {
     "name": "stdout",
     "output_type": "stream",
     "text": [
      "{1: 1, 2: 4, 3: 9, 4: 16, 5: 25}\n"
     ]
    }
   ],
   "source": [
    "n = 5\n",
    "squared_dict = {i : i **2 for i in range(1,n + 1)}\n",
    "print(squared_dict)"
   ]
  },
  {
   "cell_type": "markdown",
   "id": "0fb83235-758a-4912-9222-b29f0a58ff3c",
   "metadata": {},
   "source": [
    "Exercise 93: Check if two strings are anagrams."
   ]
  },
  {
   "cell_type": "code",
   "execution_count": 5,
   "id": "9189b3c5-aba4-4ea5-9671-65d012850fdc",
   "metadata": {},
   "outputs": [
    {
     "name": "stdout",
     "output_type": "stream",
     "text": [
      "True\n"
     ]
    }
   ],
   "source": [
    "s1 = 'listen'\n",
    "s2 = 'silent'\n",
    "are_gram = sorted(s1) == sorted(s2)\n",
    "print(are_gram)"
   ]
  },
  {
   "cell_type": "markdown",
   "id": "71e01a52-aeda-48dd-873f-a0bc724f42fb",
   "metadata": {},
   "source": [
    "Exercise 94: Count the number of vowels in a string."
   ]
  },
  {
   "cell_type": "code",
   "execution_count": 6,
   "id": "eba3db7f-e823-47fe-af5f-7294a31c9faa",
   "metadata": {},
   "outputs": [
    {
     "name": "stdout",
     "output_type": "stream",
     "text": [
      "3\n"
     ]
    }
   ],
   "source": [
    "vowels = ['a','e','i','o','u','A','E','I','O','U']\n",
    "s = 'Hello World'\n",
    "count = 0\n",
    "for word in s.split():\n",
    "    for char in word:\n",
    "        if char in vowels:\n",
    "            count += 1\n",
    "print(count)"
   ]
  },
  {
   "cell_type": "markdown",
   "id": "3915d187-b323-4cbf-8391-a3027a535848",
   "metadata": {},
   "source": [
    "Exercise 95: Check if a string contains only digits."
   ]
  },
  {
   "cell_type": "code",
   "execution_count": 7,
   "id": "500e8808-0a87-4c9b-8549-600ceaad08e9",
   "metadata": {},
   "outputs": [
    {
     "name": "stdout",
     "output_type": "stream",
     "text": [
      "True\n"
     ]
    }
   ],
   "source": [
    "s = '123456'\n",
    "is_digit_only = s.isdigit()\n",
    "print(is_digit_only)"
   ]
  },
  {
   "cell_type": "markdown",
   "id": "a16bacdc-f98b-44ef-9500-ea12a78eb519",
   "metadata": {},
   "source": [
    "Exercise 96: Find the first non-repeated character in a string."
   ]
  },
  {
   "cell_type": "code",
   "execution_count": 10,
   "id": "253f5bff-a71a-4525-baaa-86a2951e9d67",
   "metadata": {},
   "outputs": [
    {
     "name": "stdout",
     "output_type": "stream",
     "text": [
      "w\n"
     ]
    }
   ],
   "source": [
    "s ='swiss'\n",
    "for char in s:\n",
    "    if s.count(char) == 1:\n",
    "        print(char)\n",
    "        break"
   ]
  },
  {
   "cell_type": "markdown",
   "id": "3d5dc7a6-0204-4088-90ab-c5f8b6b64835",
   "metadata": {},
   "source": [
    "Exercise 97: Reverse each word in a sentence."
   ]
  },
  {
   "cell_type": "code",
   "execution_count": 17,
   "id": "4aa60ae6-73a8-4561-a26a-ad8578814b48",
   "metadata": {},
   "outputs": [
    {
     "name": "stdout",
     "output_type": "stream",
     "text": [
      "olleH dlroW\n"
     ]
    }
   ],
   "source": [
    "sentence = 'Hello World'\n",
    "words = sentence.split()\n",
    "reversed_words = []\n",
    "for word in words:\n",
    "    reversed_words.append(word[::-1])\n",
    "reversed_sentence = ' '.join(reversed_words)\n",
    "print(reversed_sentence)"
   ]
  },
  {
   "cell_type": "markdown",
   "id": "390afb42-7b57-4a4c-b0f7-e2d5d29af08a",
   "metadata": {},
   "source": [
    "Exercise 98: Generate a list of Fibonacci numbers up to a given number."
   ]
  },
  {
   "cell_type": "code",
   "execution_count": 18,
   "id": "64420d1e-2dbc-43fb-8136-9d9046a3b099",
   "metadata": {},
   "outputs": [
    {
     "name": "stdout",
     "output_type": "stream",
     "text": [
      "[0, 1, 1, 2, 3, 5, 8, 13, 21, 34, 55, 89]\n"
     ]
    }
   ],
   "source": [
    "def fibonacci_upto_n(n):\n",
    "    fib_sequence = [0, 1]\n",
    "    while fib_sequence[-1] < n:\n",
    "        fib_sequence.append(fib_sequence[-1] + fib_sequence[-2])\n",
    "    return fib_sequence[:-1]\n",
    "print(fibonacci_upto_n(100))"
   ]
  },
  {
   "cell_type": "markdown",
   "id": "81aa5815-f112-4f1c-bab6-6ad818589876",
   "metadata": {},
   "source": [
    "Exercise 99: Remove all whitespaces from a string."
   ]
  },
  {
   "cell_type": "code",
   "execution_count": 19,
   "id": "3f05ac52-ea23-4c88-8c1f-31789e1be615",
   "metadata": {},
   "outputs": [
    {
     "name": "stdout",
     "output_type": "stream",
     "text": [
      "abcd\n"
     ]
    }
   ],
   "source": [
    "s = 'a b c d'\n",
    "s_without_space = s.replace(' ','')\n",
    "print(s_without_space)"
   ]
  },
  {
   "cell_type": "markdown",
   "id": "7721262d-411d-4e28-8eab-92bbfd6af6cf",
   "metadata": {},
   "source": [
    "Exercise 100: Replace all occurrences of a substring in a string."
   ]
  },
  {
   "cell_type": "code",
   "execution_count": 21,
   "id": "bbdaf3ee-0d4b-485d-ad0f-e45ce84fbfbf",
   "metadata": {},
   "outputs": [
    {
     "name": "stdout",
     "output_type": "stream",
     "text": [
      "Hello universe, welcome to the universe of Python family.\n"
     ]
    }
   ],
   "source": [
    "s = \"Hello world, welcome to the world of Python family.\"\n",
    "new_s = s.replace('world', 'universe')\n",
    "print(new_s)"
   ]
  },
  {
   "cell_type": "code",
   "execution_count": null,
   "id": "77b12475-e601-46ca-b8b1-790b2d2bbcbb",
   "metadata": {},
   "outputs": [],
   "source": []
  },
  {
   "cell_type": "code",
   "execution_count": null,
   "id": "f7542eee-cdd0-41e3-bad2-184508f0d5c9",
   "metadata": {},
   "outputs": [],
   "source": []
  },
  {
   "cell_type": "code",
   "execution_count": null,
   "id": "9bf47097-a3d5-4b56-ba4e-91fbbf06416b",
   "metadata": {},
   "outputs": [],
   "source": []
  },
  {
   "cell_type": "code",
   "execution_count": null,
   "id": "d319a82c-6f43-4e9e-babb-63cd442073e3",
   "metadata": {},
   "outputs": [],
   "source": []
  }
 ],
 "metadata": {
  "kernelspec": {
   "display_name": "Python 3 (ipykernel)",
   "language": "python",
   "name": "python3"
  },
  "language_info": {
   "codemirror_mode": {
    "name": "ipython",
    "version": 3
   },
   "file_extension": ".py",
   "mimetype": "text/x-python",
   "name": "python",
   "nbconvert_exporter": "python",
   "pygments_lexer": "ipython3",
   "version": "3.12.6"
  }
 },
 "nbformat": 4,
 "nbformat_minor": 5
}
