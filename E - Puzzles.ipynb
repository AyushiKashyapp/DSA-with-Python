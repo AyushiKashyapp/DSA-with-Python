{
 "cells": [
  {
   "cell_type": "markdown",
   "id": "7eb8dcc7-549e-4efa-8cf7-e3a5ecc9b2f2",
   "metadata": {},
   "source": [
    "1. Write a Python program to find a list of integers with exactly two occurrences of nineteen and at least three occurrences of five. Return True otherwise False."
   ]
  },
  {
   "cell_type": "code",
   "execution_count": 1,
   "id": "0c8a65a4-3a4f-4bec-ad21-d96f982b4a74",
   "metadata": {},
   "outputs": [
    {
     "name": "stdout",
     "output_type": "stream",
     "text": [
      "True\n",
      "False\n",
      "True\n"
     ]
    }
   ],
   "source": [
    "def count_occ(l1):\n",
    "    nineteen_count = 0\n",
    "    five_count = 0\n",
    "    for i in range(len(l1)):\n",
    "        if l1[i] == 19:\n",
    "            nineteen_count += 1\n",
    "        if l1[i] == 5:\n",
    "            five_count += 1\n",
    "    if nineteen_count == 2 and five_count >= 3:\n",
    "        return True\n",
    "    else:\n",
    "        return False\n",
    "\n",
    "print(count_occ([19, 19, 15, 5, 3, 5, 5, 2]))\n",
    "print(count_occ([19, 15, 15, 5, 3, 3, 5, 2]))\n",
    "print(count_occ([19, 19, 5, 5, 5, 5, 5]))"
   ]
  },
  {
   "cell_type": "markdown",
   "id": "132fee93-199d-43fe-b3dc-e0e6d4d3936a",
   "metadata": {},
   "source": [
    "2. Write a Python program that accepts a list of integers and calculates the length and the fifth element. Return true if the length of the list is 8 and the fifth element occurs thrice in the said list."
   ]
  },
  {
   "cell_type": "code",
   "execution_count": 2,
   "id": "bc608090-c48a-4cad-bccd-a1714d48c430",
   "metadata": {},
   "outputs": [
    {
     "name": "stdout",
     "output_type": "stream",
     "text": [
      "True\n",
      "False\n",
      "True\n",
      "False\n"
     ]
    }
   ],
   "source": [
    "def len_fifth_ele(l1):\n",
    "    fifth_count = 0\n",
    "    fifth_ele = l1[4]\n",
    "    for i in l1:\n",
    "        if i == fifth_ele:\n",
    "            fifth_count += 1\n",
    "    if fifth_count == 3 and len(l1) == 8:\n",
    "        return True\n",
    "    else:\n",
    "        return False\n",
    "\n",
    "print(len_fifth_ele([19, 19, 15, 5, 5, 5, 1, 2]))\n",
    "print(len_fifth_ele([19, 15, 5, 7, 5, 5, 2]))\n",
    "print(len_fifth_ele([11, 12, 14, 13, 14, 13, 15, 14]))\n",
    "print(len_fifth_ele([19, 15, 11, 7, 5, 6, 2]))"
   ]
  },
  {
   "cell_type": "markdown",
   "id": "4ca1f839-70c9-4abe-bafd-bf7ecc58c19b",
   "metadata": {},
   "source": [
    "3. Write a Python program that accepts an integer and determines whether it is greater than 4^4 and which is 4 mod 34."
   ]
  },
  {
   "cell_type": "code",
   "execution_count": 5,
   "id": "bbccedbb-2288-4dd6-8845-2125a9a99a86",
   "metadata": {},
   "outputs": [
    {
     "name": "stdout",
     "output_type": "stream",
     "text": [
      "True\n",
      "False\n",
      "True\n"
     ]
    }
   ],
   "source": [
    "def int_check(number):\n",
    "    return (number > 4 ** 4) and (number % 34 == 4)\n",
    "\n",
    "print(int_check(922))\n",
    "print(int_check(914))\n",
    "print(int_check(854))\n"
   ]
  },
  {
   "cell_type": "markdown",
   "id": "494d33c0-dbe0-48a8-88f4-3302e7d4cc57",
   "metadata": {},
   "source": [
    "4. We are making n stone piles! The first pile has n stones. If n is even, then all piles have an even number of stones. If n is odd, all piles have an odd number of stones. Each pile must more stones than the previous pile but as few as possible. Write a Python program to find the number of stones in each pile."
   ]
  },
  {
   "cell_type": "code",
   "execution_count": 14,
   "id": "3c340565-65ec-4a6d-9224-c74d7fe82402",
   "metadata": {},
   "outputs": [
    {
     "name": "stdout",
     "output_type": "stream",
     "text": [
      "[2, 4]\n",
      "[10, 12, 14, 16, 18, 20, 22, 24, 26, 28]\n",
      "[3, 5, 7]\n",
      "[17, 19, 21, 23, 25, 27, 29, 31, 33, 35, 37, 39, 41, 43, 45, 47, 49]\n"
     ]
    }
   ],
   "source": [
    "def piles(n):\n",
    "    result = []\n",
    "    result.append(n)\n",
    "    for i in range(n - 1):\n",
    "        result.append(result[i] + 2)\n",
    "    return result\n",
    "\n",
    "print(piles(2))\n",
    "print(piles(10))\n",
    "print(piles(3))\n",
    "print(piles(17))"
   ]
  },
  {
   "cell_type": "code",
   "execution_count": 12,
   "id": "cf8d82f9-709f-4e79-90af-4fa8326e3f38",
   "metadata": {},
   "outputs": [
    {
     "name": "stdout",
     "output_type": "stream",
     "text": [
      "[3]\n"
     ]
    }
   ],
   "source": [
    "n = 3\n",
    "l = []\n",
    "l.append(n)\n",
    "print(l)"
   ]
  },
  {
   "cell_type": "markdown",
   "id": "4ac8fe53-b133-4bed-a42b-c8ee2452aa99",
   "metadata": {},
   "source": [
    "5. Write a Python program to check the nth-1 string is a proper substring of the nth string in a given list of strings."
   ]
  },
  {
   "cell_type": "code",
   "execution_count": 17,
   "id": "e1901f8e-8269-4841-936f-c192bfaf33a3",
   "metadata": {},
   "outputs": [
    {
     "name": "stdout",
     "output_type": "stream",
     "text": [
      "True\n",
      "False\n",
      "False\n",
      "True\n"
     ]
    }
   ],
   "source": [
    "def substring_check(l1):\n",
    "    nth_string = l1[len(l1) - 1]\n",
    "    n_1th_string = l1[len(l1) - 2]\n",
    "    if n_1th_string in nth_string:\n",
    "        return True\n",
    "    else:\n",
    "        return False\n",
    "\n",
    "print(substring_check(['a', 'abb', 'sfs', 'oo', 'de', 'sfde']))\n",
    "print(substring_check(['a', 'abb', 'sfs', 'oo', 'ee', 'sfde']))\n",
    "print(substring_check(['a', 'abb', 'sad', 'ooaaesdfe', 'sfsdfde', 'sfsd', 'sfsdf', 'qwrew']))\n",
    "print(substring_check(['a', 'abb', 'sad', 'ooaaesdfe', 'sfsdfde', 'sfsd', 'sfsdf', 'qwsfsdfrew']))\n"
   ]
  },
  {
   "cell_type": "code",
   "execution_count": 20,
   "id": "bbcc5ade-523b-488b-a975-7e000aba9f69",
   "metadata": {},
   "outputs": [
    {
     "name": "stdout",
     "output_type": "stream",
     "text": [
      "True\n",
      "False\n"
     ]
    }
   ],
   "source": [
    "def list_check_100(l1):\n",
    "    status = False\n",
    "    if len(l1) == 100 and l1[0] >= 0 and l1[-1] <= 999:\n",
    "        for i in range(1, len(l1)):\n",
    "            if l1[i] - l1[i-1] == 10:\n",
    "                status = True\n",
    "    return status\n",
    "\n",
    "print(list_check_100([0, 10, 20, 30, 40, 50, 60, 70, 80, 90, 100, 110, 120, 130, 140, 150, 160, 170, 180, 190, 200, 210, 220, 230, 240, 250, 260, 270, 280, 290, 300, 310, 320, 330, 340, 350, 360, 370, 380, 390, 400, 410, 420, 430, 440, 450, 460, 470, 480, 490, 500, 510, 520, 530, 540, 550, 560, 570, 580, 590, 600, 610, 620, 630, 640, 650, 660, 670, 680, 690, 700, 710, 720, 730, 740, 750, 760, 770, 780, 790, 800, 810, 820, 830, 840, 850, 860, 870, 880, 890, 900, 910, 920, 930, 940, 950, 960, 970, 980, 990]))\n",
    "print(list_check_100([0, 20, 40, 60, 80, 100, 120, 140, 160, 180, 200, 220, 240, 260, 280, 300, 320, 340, 360, 380, 400, 420, 440, 460, 480, 500, 520, 540, 560, 580, 600, 620, 640, 660, 680, 700, 720, 740, 760, 780, 800, 820, 840, 860, 880, 900, 920, 940, 960, 980]))"
   ]
  },
  {
   "cell_type": "markdown",
   "id": "1a5223e3-6d07-4623-8c2f-2eaaa65d65ea",
   "metadata": {},
   "source": [
    "7. Write a Python program to check a given list of integers where the sum of the first i integers is i."
   ]
  },
  {
   "cell_type": "code",
   "execution_count": 25,
   "id": "0a117441-39fd-48fa-be2a-7e2bbe326761",
   "metadata": {},
   "outputs": [
    {
     "name": "stdout",
     "output_type": "stream",
     "text": [
      "False\n",
      "True\n",
      "False\n",
      "False\n",
      "True\n",
      "False\n",
      "True\n",
      "True\n",
      "False\n",
      "False\n",
      "True\n",
      "False\n"
     ]
    }
   ],
   "source": [
    "def sum_i(l1, i):\n",
    "    return sum(l1[:i]) == i\n",
    "    \n",
    "print(sum_i([0, 1, 2, 3, 4, 5], 1))\n",
    "print(sum_i([1, 1, 1, 1, 1, 1], 1))\n",
    "print(sum_i([2, 2, 2, 2, 2], 1))\n",
    "\n",
    "print(sum_i([0, 1, 2, 3, 4, 5], 2))\n",
    "print(sum_i([1, 1, 1, 1, 1, 1], 2))\n",
    "print(sum_i([2, 2, 2, 2, 2], 2))\n",
    "\n",
    "print(sum_i([0, 1, 2, 3, 4, 5], 3))\n",
    "print(sum_i([1, 1, 1, 1, 1, 1], 3))\n",
    "print(sum_i([2, 2, 2, 2, 2], 3))\n",
    "\n",
    "print(sum_i([0, 1, 2, 3, 4, 5], 6))\n",
    "print(sum_i([1, 1, 1, 1, 1, 1], 6))\n",
    "print(sum_i([2, 2, 2, 2, 2], 6))"
   ]
  },
  {
   "cell_type": "markdown",
   "id": "dc44a0e9-d2e4-40fb-98f9-543d6979ce34",
   "metadata": {},
   "source": [
    "8. Write a Python program to split a string of words separated by commas and spaces into two lists, words and separators."
   ]
  },
  {
   "cell_type": "code",
   "execution_count": 29,
   "id": "517e3155-1ef8-4cf5-89ed-630dc0c4116b",
   "metadata": {},
   "outputs": [
    {
     "name": "stdout",
     "output_type": "stream",
     "text": [
      "['W3resource', ' ', 'Python', ', ', 'Exercises.']\n",
      "[['W3resource', 'Python', 'Exercises.'], [' ', ', ']]\n",
      "['The', ' ', 'dance', ', ', 'held', ' ', 'in', ' ', 'the', ' ', 'school', ' ', 'gym', ', ', 'ended', ' ', 'at', ' ', 'midnight.']\n",
      "[['The', 'dance', 'held', 'in', 'the', 'school', 'gym', 'ended', 'at', 'midnight.'], [' ', ', ', ' ', ' ', ' ', ' ', ', ', ' ', ' ']]\n",
      "['The', ' ', 'colors', ' ', 'in', ' ', 'my', ' ', 'studyroom', ' ', 'are', ' ', 'blue', ', ', 'green', ', ', 'and', ' ', 'yellow.']\n",
      "[['The', 'colors', 'in', 'my', 'studyroom', 'are', 'blue', 'green', 'and', 'yellow.'], [' ', ' ', ' ', ' ', ' ', ' ', ', ', ', ', ' ']]\n"
     ]
    }
   ],
   "source": [
    "def split_string(text):\n",
    "    import re\n",
    "    merged = re.split(r\"([ ,]+)\", text) # Split the list into words and separators\n",
    "    print(merged)\n",
    "    return [merged[::2], merged[1::2]] # Words at even indices and separators at odd indices\n",
    "\n",
    "print(split_string('W3resource Python, Exercises.'))\n",
    "print(split_string('The dance, held in the school gym, ended at midnight.'))\n",
    "print(split_string('The colors in my studyroom are blue, green, and yellow.'))"
   ]
  },
  {
   "cell_type": "markdown",
   "id": "83e069ef-2988-4bb2-ab70-62c7695cbc67",
   "metadata": {},
   "source": [
    "9. Write a Python program to find a list of integers containing exactly four distinct values, such that no integer repeats twice consecutively among the first twenty entries."
   ]
  },
  {
   "cell_type": "code",
   "execution_count": 32,
   "id": "eae88312-1126-4763-8ecd-22cfe7a0f472",
   "metadata": {},
   "outputs": [
    {
     "name": "stdout",
     "output_type": "stream",
     "text": [
      "True\n",
      "False\n",
      "False\n"
     ]
    }
   ],
   "source": [
    "def four_values(l1):\n",
    "    return all([l1[i] != l1[i + 1] for i in range(len(l1) - 1)]) and len(set(l1)) == 4\n",
    "        \n",
    "\n",
    "print(four_values([1, 2, 3, 4, 1, 2, 3, 4, 1, 2, 3, 4, 1, 2, 3, 4]))\n",
    "print(four_values([1, 2, 3, 3, 1, 2, 3, 3, 1, 2, 3, 3, 1, 2, 3, 3]))\n",
    "print(four_values([1, 2, 3, 1, 2, 3, 1, 2, 3, 1, 2, 3, 1, 2, 3]))"
   ]
  },
  {
   "cell_type": "markdown",
   "id": "1080de25-9ae5-4218-aecc-0d40334dec60",
   "metadata": {},
   "source": [
    "10. Given a string consisting of whitespace and groups of matched parentheses, write a Python program to split it into groups of perfectly matched parentheses without any whitespace."
   ]
  },
  {
   "cell_type": "code",
   "execution_count": 33,
   "id": "d84e606d-22fa-4574-87b1-65aa9c33ed97",
   "metadata": {},
   "outputs": [
    {
     "name": "stdout",
     "output_type": "stream",
     "text": [
      "['(())', '((()()()))', '(())', '()']\n",
      "['()', '((()()()))', '(())']\n"
     ]
    }
   ],
   "source": [
    "def para_match(combined):\n",
    "    ls = []\n",
    "    s2 = \"\"\n",
    "    for s in combined.replace(' ', ''):\n",
    "        s2 += s\n",
    "        if s2.count(\"(\") == s2.count(\")\"):\n",
    "            ls.append(s2)\n",
    "            s2 = \"\"\n",
    "    return ls\n",
    "\n",
    "print(para_match('( ()) ((()()())) (()) ()'))\n",
    "print(para_match('() (( ( )() (  )) ) ( ())'))"
   ]
  },
  {
   "cell_type": "markdown",
   "id": "f06bb616-b2cb-4406-a4cf-270f88604263",
   "metadata": {},
   "source": [
    "11. Write a Python program to find the indexes of numbers in a given list below a given threshold."
   ]
  },
  {
   "cell_type": "code",
   "execution_count": 34,
   "id": "6c74669e-bbe1-4296-8fef-320a7ac088ed",
   "metadata": {},
   "outputs": [
    {
     "name": "stdout",
     "output_type": "stream",
     "text": [
      "[0, 1, 2, 3, 7, 8, 9, 10]\n",
      "[0, 2, 3, 5, 6, 7, 8]\n"
     ]
    }
   ],
   "source": [
    "def below_threshold(l1, threshold):\n",
    "    indices = []\n",
    "    for i in range(len(l1)):\n",
    "        if l1[i] < threshold:\n",
    "            indices.append(i)\n",
    "    return indices\n",
    "\n",
    "print(below_threshold([0, 12, 45, 3, 4923, 322, 105, 29, 15, 39, 55], 100))\n",
    "print(below_threshold([0, 12, 4, 3, 49, 9, 1, 5, 3], 10))"
   ]
  },
  {
   "cell_type": "markdown",
   "id": "959acbda-914c-4066-b23b-db68958a7178",
   "metadata": {},
   "source": [
    "12. Write a Python program to check whether the given strings are palindromes or not. Return True otherwise False."
   ]
  },
  {
   "cell_type": "code",
   "execution_count": 35,
   "id": "aacd5506-cbe9-4af5-8a59-af14c8a09aa5",
   "metadata": {},
   "outputs": [
    {
     "name": "stdout",
     "output_type": "stream",
     "text": [
      "[False, True, True, False, False]\n"
     ]
    }
   ],
   "source": [
    "def is_pallindrome(l1):\n",
    "    status = []\n",
    "    for word in l1:\n",
    "        if word == word[::-1]:\n",
    "            status.append(True)\n",
    "        else:\n",
    "            status.append(False)\n",
    "    return status\n",
    "    \n",
    "print(is_pallindrome(['palindrome', 'madamimadam', '', 'foo', 'eyes']))"
   ]
  },
  {
   "cell_type": "markdown",
   "id": "cd0930ba-94d5-487f-aa4c-68ee7d6c7a81",
   "metadata": {},
   "source": [
    "13. Write a Python program to find strings in a given list starting with a given prefix."
   ]
  },
  {
   "cell_type": "code",
   "execution_count": 36,
   "id": "60c5e1c3-036e-4967-9d0f-ffd1a1ba75cb",
   "metadata": {},
   "outputs": [
    {
     "name": "stdout",
     "output_type": "stream",
     "text": [
      "['cat', 'car']\n",
      "['dog', 'donut']\n"
     ]
    }
   ],
   "source": [
    "def start_prefix(pref, l1):\n",
    "    result = []\n",
    "    for word in l1:\n",
    "        if word[:len(pref)] == pref:\n",
    "            result.append(word)\n",
    "    return result\n",
    "\n",
    "print(start_prefix( 'ca',('cat', 'car', 'fear', 'center')))\n",
    "print(start_prefix('do',('cat', 'dog', 'shatter', 'donut', 'at', 'todo')))"
   ]
  },
  {
   "cell_type": "markdown",
   "id": "0830eea4-879d-4c08-8c07-1b3520101604",
   "metadata": {},
   "source": [
    "14. Write a Python program to find the length of a given list of non-empty strings."
   ]
  },
  {
   "cell_type": "code",
   "execution_count": 38,
   "id": "890b70cc-7fdb-43f0-af54-99a54cb65918",
   "metadata": {},
   "outputs": [
    {
     "name": "stdout",
     "output_type": "stream",
     "text": [
      "[3, 3, 4, 6]\n",
      "[3, 3, 7, 5, 2, 4, 0]\n"
     ]
    }
   ],
   "source": [
    "def string_length(l1):\n",
    "    length_list = []\n",
    "    for word in l1:\n",
    "        length_list.append(len(word))\n",
    "    return length_list\n",
    "\n",
    "print(string_length(['cat', 'car', 'fear', 'center']))\n",
    "print(string_length(['cat', 'dog', 'shatter', 'donut', 'at', 'todo', '']))"
   ]
  },
  {
   "cell_type": "markdown",
   "id": "642abed7-7341-4c8d-9944-d229e9f18c7e",
   "metadata": {},
   "source": [
    "15. Write a Python program to find the longest string in a given list of strings."
   ]
  },
  {
   "cell_type": "code",
   "execution_count": 40,
   "id": "dfed6188-55ea-4193-a344-77fee652a2d1",
   "metadata": {},
   "outputs": [
    {
     "name": "stdout",
     "output_type": "stream",
     "text": [
      "center\n",
      "shatter\n"
     ]
    }
   ],
   "source": [
    "def longest_string(l1):\n",
    "    max_length = max([len(word) for word in l1])\n",
    "    for word in l1:\n",
    "        if len(word) == max_length:\n",
    "            return word\n",
    "\n",
    "print(longest_string(['cat', 'car', 'fear', 'center']))\n",
    "print(longest_string(['cat', 'dog', 'shatter', 'donut', 'at', 'todo', '']))"
   ]
  },
  {
   "cell_type": "markdown",
   "id": "c9279ac9-0821-481f-8f43-b28f337e3053",
   "metadata": {},
   "source": [
    "16. Write a Python program to find strings in a given list containing a given substring."
   ]
  },
  {
   "cell_type": "code",
   "execution_count": 41,
   "id": "b57fbd71-90ff-481e-95d1-8d0242e492ba",
   "metadata": {},
   "outputs": [
    {
     "name": "stdout",
     "output_type": "stream",
     "text": [
      "['cat', 'car']\n",
      "['dog', 'donut', 'todo']\n",
      "[]\n"
     ]
    }
   ],
   "source": [
    "def find_string(string, l1):\n",
    "    result = []\n",
    "    for i in l1:\n",
    "        if string in i:\n",
    "            result.append(i)\n",
    "    return result\n",
    "\n",
    "print(find_string('ca',('cat', 'car', 'fear', 'center')))\n",
    "print(find_string('o',('cat', 'dog', 'shatter', 'donut', 'at', 'todo', '')))\n",
    "print(find_string('oe',('cat', 'dog', 'shatter', 'donut', 'at', 'todo', '')))"
   ]
  },
  {
   "cell_type": "markdown",
   "id": "10e7d042-37cd-464b-9733-4e532538a740",
   "metadata": {},
   "source": [
    "17. Write a Python program to create a string consisting of non-negative integers up to n inclusive."
   ]
  },
  {
   "cell_type": "code",
   "execution_count": 47,
   "id": "6a48f589-3672-488f-a773-df3d11042f75",
   "metadata": {},
   "outputs": [
    {
     "name": "stdout",
     "output_type": "stream",
     "text": [
      "01234\n",
      "0123456789101112131415\n"
     ]
    }
   ],
   "source": [
    "def string_int(n):\n",
    "    result = ''\n",
    "    for i in range(0, n + 1):\n",
    "        result += str(i)\n",
    "    return result\n",
    "\n",
    "print(string_int(4))\n",
    "print(string_int(15))"
   ]
  },
  {
   "cell_type": "markdown",
   "id": "54a4e22a-190a-47db-ad33-6cf8c8f182f8",
   "metadata": {},
   "source": [
    "18. An irregular/uneven matrix, or ragged matrix, is a matrix that has a different number of elements in each row. Ragged matrices are not used in linear algebra, since standard matrix transformations cannot be performed on them, but they are useful as arrays in computing.\n",
    "Write a Python program to find the indices of all occurrences of target in the uneven matrix."
   ]
  },
  {
   "cell_type": "code",
   "execution_count": 52,
   "id": "bffae924-75a0-4707-b0d1-0852f04f4266",
   "metadata": {},
   "outputs": [
    {
     "name": "stdout",
     "output_type": "stream",
     "text": [
      "[[0, 4], [1, 0], [1, 3], [4, 1]]\n",
      "[[0, 1], [0, 3], [2, 2]]\n"
     ]
    }
   ],
   "source": [
    "def ragged_matrix(matrix, ele):\n",
    "    return [[i,j] for i, row in enumerate(matrix) for j,n in enumerate(row) if n == ele]\n",
    "\n",
    "print(ragged_matrix(([1, 3, 2, 32, 19], [19, 2, 48, 19], [], [9, 35, 4], [3, 19]),19))\n",
    "print(ragged_matrix(([1, 2, 3, 2], [], [7, 9, 2, 1, 4]),2))"
   ]
  },
  {
   "cell_type": "markdown",
   "id": "351a9cf7-2bb6-43fc-9841-f567b660b28c",
   "metadata": {},
   "source": [
    "19. Write a Python program to split a given string (s) into strings if there is a space in s, otherwise split on commas if there is a comma, otherwise return the list of lowercase letters in odd order (order of a = 0, b = 1, etc.)."
   ]
  },
  {
   "cell_type": "code",
   "execution_count": 54,
   "id": "9fcc87fb-63ac-491c-9b03-15d60e20710c",
   "metadata": {},
   "outputs": [
    {
     "name": "stdout",
     "output_type": "stream",
     "text": [
      "['a', 'b', 'c', 'd']\n",
      "['a', 'b', 'c', 'd']\n",
      "['b', 'd']\n"
     ]
    }
   ],
   "source": [
    "def string_split(s):\n",
    "    if ' ' in s:\n",
    "        return s.split(' ')\n",
    "    elif ',' in s:\n",
    "        return s.split(',')\n",
    "    else:\n",
    "        return [s[order] for order in range(len(s)) if order % 2 != 0]\n",
    "\n",
    "print(string_split('a b c d'))\n",
    "print(string_split('a,b,c,d'))\n",
    "print(string_split('abcd'))"
   ]
  },
  {
   "cell_type": "markdown",
   "id": "d15b007e-e889-4fab-a82e-8acd0740cda1",
   "metadata": {},
   "source": [
    "20. Write a Python program to determine the direction ('increasing' or 'decreasing') of monotonic sequence numbers."
   ]
  },
  {
   "cell_type": "code",
   "execution_count": 60,
   "id": "07a1a181-3b04-4096-97e3-bb111d2d1aa8",
   "metadata": {},
   "outputs": [
    {
     "name": "stdout",
     "output_type": "stream",
     "text": [
      "Original list:\n",
      "[1, 2, 3, 4, 5, 6]\n",
      "Check the direction ('increasing' or 'decreasing') of the said list:\n",
      "Increasing.\n",
      "\n",
      "Original list:\n",
      "[6, 5, 4, 3, 2, 1]\n",
      "Check the direction ('increasing' or 'decreasing') of the said list:\n",
      "Decreasing.\n",
      "\n",
      "Original list:\n",
      "[19, 19, 5, 5, 5, 5, 5]\n",
      "Check the direction ('increasing' or 'decreasing') of the said list:\n",
      "Not a monotonic sequence!\n"
     ]
    }
   ],
   "source": [
    "# License: https://bit.ly/3oLErEI\n",
    "\n",
    "# Define a function named 'test' that takes a list of numbers 'nums' as input\n",
    "def test(nums):\n",
    "    # Check if all elements in the list 'nums' are in increasing order\n",
    "    if all(nums[i] < nums[i + 1] for i in range(len(nums) - 1)):\n",
    "        return \"Increasing.\"\n",
    "    # Check if all elements in the list 'nums' are in decreasing order\n",
    "    elif all(nums[i + 1] < nums[i] for i in range(len(nums) - 1)):\n",
    "        return \"Decreasing.\"\n",
    "    else:\n",
    "        return \"Not a monotonic sequence!\"\n",
    "\n",
    "# Assign a specific list of numbers 'nums' to the variable\n",
    "nums = [1, 2, 3, 4, 5, 6]\n",
    "\n",
    "# Print the original list of numbers 'nums'\n",
    "print(\"Original list:\")\n",
    "print(nums)\n",
    "\n",
    "# Print a message indicating the operation to be performed\n",
    "print(\"Check the direction ('increasing' or 'decreasing') of the said list:\")\n",
    "\n",
    "# Print the result of the test function applied to the 'nums' list\n",
    "print(test(nums))\n",
    "\n",
    "# Assign a different list of numbers 'nums' to the variable\n",
    "nums = [6, 5, 4, 3, 2, 1]\n",
    "\n",
    "# Print the original list of numbers 'nums'\n",
    "print(\"\\nOriginal list:\")\n",
    "print(nums)\n",
    "\n",
    "# Print a message indicating the operation to be performed\n",
    "print(\"Check the direction ('increasing' or 'decreasing') of the said list:\")\n",
    "\n",
    "# Print the result of the test function applied to the updated 'nums' list\n",
    "print(test(nums))\n",
    "\n",
    "# Assign another different list of numbers 'nums' to the variable\n",
    "nums = [19, 19, 5, 5, 5, 5, 5]\n",
    "\n",
    "# Print the original list of numbers 'nums'\n",
    "print(\"\\nOriginal list:\")\n",
    "print(nums)\n",
    "\n",
    "# Print a message indicating the operation to be performed\n",
    "print(\"Check the direction ('increasing' or 'decreasing') of the said list:\")\n",
    "\n",
    "# Print the result of the test function applied to the updated 'nums' list\n",
    "print(test(nums))\n"
   ]
  },
  {
   "cell_type": "markdown",
   "id": "870a4bc9-1903-40b7-82c8-39b40904a234",
   "metadata": {},
   "source": [
    "21. Write a Python program to check, for each string in a given list, whether the last character is an isolated letter or not. Return True otherwise False."
   ]
  },
  {
   "cell_type": "code",
   "execution_count": 5,
   "id": "b089d0a6-275f-49c5-9f4d-ff3d1ae69edd",
   "metadata": {},
   "outputs": [
    {
     "name": "stdout",
     "output_type": "stream",
     "text": [
      "[False, False, False, False]\n",
      "[True, False, True, True]\n"
     ]
    }
   ],
   "source": [
    "def last_char(l1):\n",
    "    status = [False] * len(l1)\n",
    "    for i in range(len(l1)):\n",
    "        if l1[i][-2] == ' ':\n",
    "            status[i] = True\n",
    "    return status\n",
    "\n",
    "print(last_char(['cat', 'car', 'fear', 'center']))\n",
    "print(last_char(['ca t', 'car', 'fea r', 'cente r']))"
   ]
  },
  {
   "cell_type": "markdown",
   "id": "59bb34a4-05ec-409a-9893-133cf97109d0",
   "metadata": {},
   "source": [
    "23. Write a Python program to find the indices at which the numbers in the list drop."
   ]
  },
  {
   "cell_type": "code",
   "execution_count": 7,
   "id": "2341318c-f885-4a81-a3f3-261f3124313b",
   "metadata": {},
   "outputs": [
    {
     "name": "stdout",
     "output_type": "stream",
     "text": [
      "[1, 4, 6, 8, 10, 11, 15, 16, 18]\n",
      "[1, 2, 3, 4, 5]\n",
      "[0, 2, 4, 6]\n"
     ]
    }
   ],
   "source": [
    "def number_drop(l1):\n",
    "    drop = []\n",
    "    for i in range(0, len(l1)):\n",
    "        if l1[i] < l1[i - 1]:\n",
    "            drop.append(i)\n",
    "    return drop\n",
    "\n",
    "print(number_drop([0, -1, 3, 8, 5, 9, 8, 14, 2, 4, 3, -10, 10, 17, 41, 22, -4, -4, -15, 0]))\n",
    "print(number_drop([6, 5, 4, 3, 2, 1]))\n",
    "print(number_drop([1, 19, 5, 15, 5, 25, 5]))"
   ]
  },
  {
   "cell_type": "markdown",
   "id": "d80eb3eb-41db-4835-846a-eb80151833a2",
   "metadata": {},
   "source": [
    "24. Write a Python program to create a list whose ith element is the maximum of the first i elements from an input list."
   ]
  },
  {
   "cell_type": "code",
   "execution_count": 15,
   "id": "20126e97-a152-4a74-ab0f-bf8abbf2efa1",
   "metadata": {},
   "outputs": [
    {
     "name": "stdout",
     "output_type": "stream",
     "text": [
      "[0, 0, 3, 8, 8, 9, 9, 14, 14, 14, 14, 14, 14, 17, 41, 41, 41, 41, 41, 41]\n",
      "[6, 6, 6, 6, 6, 6]\n",
      "[1, 19, 19, 19, 19, 25, 25]\n"
     ]
    }
   ],
   "source": [
    "def max_ele(l1):\n",
    "    return [max(l1[:i]) for i in range(1, len(l1) + 1)]\n",
    "\n",
    "print(max_ele([0, -1, 3, 8, 5, 9, 8, 14, 2, 4, 3, -10, 10, 17, 41, 22, -4, -4, -15, 0]))\n",
    "print(max_ele([6, 5, 4, 3, 2, 1]))\n",
    "print(max_ele([1, 19, 5, 15, 5, 25, 5]))"
   ]
  },
  {
   "cell_type": "markdown",
   "id": "c5c0154a-132e-4f27-96b6-5b8b618fa50a",
   "metadata": {},
   "source": [
    "26. Write a Python program to find the largest number where commas or periods are decimal points."
   ]
  },
  {
   "cell_type": "code",
   "execution_count": 22,
   "id": "4fb01fed-b081-4c96-889a-25e2215ce824",
   "metadata": {},
   "outputs": [
    {
     "name": "stdout",
     "output_type": "stream",
     "text": [
      "102.1\n"
     ]
    }
   ],
   "source": [
    "def largest_num(l1):\n",
    "    largest = max([float(i.replace(',','.')) for i in l1])\n",
    "    return largest\n",
    "    \n",
    "print(largest_num(['100', '102,1', '101.1']))"
   ]
  },
  {
   "cell_type": "code",
   "execution_count": 19,
   "id": "1992fa5f-da04-40fe-938a-01e245fa706a",
   "metadata": {},
   "outputs": [
    {
     "name": "stdout",
     "output_type": "stream",
     "text": [
      "[100.0, 102.1, 101.1]\n"
     ]
    }
   ],
   "source": [
    "l = ['100', '102,1', '101.1']\n",
    "l = [float(i.replace(',','.')) for i in l]\n",
    "print(l)"
   ]
  },
  {
   "cell_type": "markdown",
   "id": "b175aa61-16cd-4f1e-84c3-5d6ce93d9ba9",
   "metadata": {},
   "source": [
    "28. Write a Python program to select a string from a given list of strings with the most unique characters."
   ]
  },
  {
   "cell_type": "code",
   "execution_count": 30,
   "id": "054e4ac6-9301-4b25-95a5-71d0200a8edb",
   "metadata": {},
   "outputs": [
    {
     "name": "stdout",
     "output_type": "stream",
     "text": [
      "abcdefhijklmnop\n"
     ]
    }
   ],
   "source": [
    "def unique_char(l1):\n",
    "    max_len_set = len(set(list(l1[0])))\n",
    "    max_set = ''\n",
    "    for i in l1:\n",
    "        if len(set(list(i))) > max_len_set:\n",
    "            max_set = i\n",
    "            max_len_set = len(set(list(i)))\n",
    "    return max_set\n",
    "\n",
    "print(unique_char(['cat', 'catatatatctsa', 'abcdefhijklmnop', '124259239185125', '', 'foo', 'unique']))\n",
    "    \n",
    "        "
   ]
  },
  {
   "cell_type": "code",
   "execution_count": 29,
   "id": "3f3ee104-7154-4941-9184-f3ac4fa859a3",
   "metadata": {},
   "outputs": [
    {
     "name": "stdout",
     "output_type": "stream",
     "text": [
      "['a', 'b', 'c', 'd', 'e', 'f', 'h', 'i', 'j', 'k', 'l', 'm', 'n', 'o', 'p']\n",
      "{'a', 'e', 'b', 'h', 'p', 'i', 'j', 'm', 'd', 'f', 'k', 'c', 'l', 'n', 'o'}\n",
      "15\n"
     ]
    }
   ],
   "source": [
    "s = 'abcdefhijklmnop'\n",
    "print(list(s))\n",
    "print(set(list(s)))\n",
    "print(len(set(list(s))))"
   ]
  },
  {
   "cell_type": "markdown",
   "id": "28450930-25f5-425a-b730-25692475b814",
   "metadata": {},
   "source": [
    "29. Write a Python program to find the indices of two numbers that sum to 0 in a given list of numbers."
   ]
  },
  {
   "cell_type": "code",
   "execution_count": 33,
   "id": "60cb14cc-7a90-4078-9712-6d30169fdc9d",
   "metadata": {},
   "outputs": [
    {
     "name": "stdout",
     "output_type": "stream",
     "text": [
      "[1, 4]\n",
      "[1, 7]\n"
     ]
    }
   ],
   "source": [
    "def sum_zero(l1):\n",
    "    sum_zero = []\n",
    "    for i in range(len(l1)):\n",
    "        for j in range(i+1, len(l1)):\n",
    "            if l1[i] + l1[j] == 0:\n",
    "                sum_zero.append(i)\n",
    "                sum_zero.append(j)\n",
    "    return sum_zero\n",
    "\n",
    "print(sum_zero([1, -4, 6, 7, 4]))\n",
    "print(sum_zero([1232, -20352, 12547, 12440, 741, 341, 525, 20352, 91, 20]))"
   ]
  },
  {
   "cell_type": "markdown",
   "id": "b9cd81cc-6499-498b-82f3-d619d58d2f50",
   "metadata": {},
   "source": [
    "30. Write a Python program to find a list of strings that have fewer total characters (including repetitions)."
   ]
  },
  {
   "cell_type": "code",
   "execution_count": 39,
   "id": "7eaf2c07-6d73-4a5b-ab00-68f2f7c3c3bc",
   "metadata": {},
   "outputs": [
    {
     "name": "stdout",
     "output_type": "stream",
     "text": [
      "['this', 'list', 'is', 'narrow']\n",
      "['Red', 'Black', 'Pink']\n"
     ]
    }
   ],
   "source": [
    "def fewer_char(l1):\n",
    "    char_len = []\n",
    "    for lst in l1:\n",
    "        total_len = sum(len(word) for word in lst)\n",
    "        char_len.append(total_len)\n",
    "        min_len = min(char_len)\n",
    "        min_len_index = char_len.index(min_len)\n",
    "        return l1[min_len_index]\n",
    "\n",
    "print(fewer_char([['this', 'list', 'is', 'narrow'], ['I', 'am', 'shorter but wider']]))\n",
    "print(fewer_char([['Red', 'Black', 'Pink'], ['Green', 'Red', 'White']]))"
   ]
  },
  {
   "cell_type": "markdown",
   "id": "5ab40a2a-fd82-4a17-a2fe-4fc73df7ece4",
   "metadata": {},
   "source": [
    "33. Write a Python program to find the positions of all uppercase vowels (not counting Y) in even indices of a given string."
   ]
  },
  {
   "cell_type": "code",
   "execution_count": 40,
   "id": "2d107550-b26f-4a96-89fb-a395ebed7f35",
   "metadata": {},
   "outputs": [
    {
     "name": "stdout",
     "output_type": "stream",
     "text": [
      "[6]\n",
      "[0, 2, 4]\n"
     ]
    }
   ],
   "source": [
    "def find_vowel(string):\n",
    "    position = []\n",
    "    vowels = ['A','E','I','O','U']\n",
    "    for i in range(len(string)):\n",
    "        if i % 2 == 0 and string[i] in vowels:\n",
    "            position.append(i)\n",
    "    return position\n",
    "\n",
    "print(find_vowel('w3rEsOUrcE'))\n",
    "print(find_vowel('AEIOUYW'))"
   ]
  },
  {
   "cell_type": "markdown",
   "id": "7a72cc81-d8c7-4985-b19c-2e7fa15b209a",
   "metadata": {},
   "source": [
    "34. Write a Python program to find the sum of the numbers in a given list among the first k with more than 2 digits."
   ]
  },
  {
   "cell_type": "code",
   "execution_count": 41,
   "id": "85aae730-8570-41e2-add2-39bb72092ad9",
   "metadata": {},
   "outputs": [
    {
     "name": "stdout",
     "output_type": "stream",
     "text": [
      "0\n",
      "108\n",
      "331\n",
      "114\n"
     ]
    }
   ],
   "source": [
    "def sum_num_k(l1, k):\n",
    "    sum_num = 0\n",
    "    for i in range(k):\n",
    "        if len(str(l1[i])) > 2:\n",
    "            sum_num += l1[i]\n",
    "    return sum_num\n",
    "\n",
    "print(sum_num_k([4, 5, 17, 9, 14, 108, -9, 12, 76], 4))\n",
    "print(sum_num_k([4, 5, 17, 9, 14, 108, -9, 12, 76], 6))\n",
    "print(sum_num_k([114, 215, -117, 119, 14, 108, -9, 12, 76], 5))\n",
    "print(sum_num_k([114, 215, -117, 119, 14, 108, -9, 12, 76], 1))"
   ]
  },
  {
   "cell_type": "markdown",
   "id": "a881f6ac-3780-4079-b067-e1cab252c47f",
   "metadata": {},
   "source": [
    "35. Write a Python program to compute the product of the odd digits in a given number, or 0 if there aren't any."
   ]
  },
  {
   "cell_type": "code",
   "execution_count": 47,
   "id": "80e16cba-6992-4bb2-8b2a-a4dbb9588125",
   "metadata": {},
   "outputs": [
    {
     "name": "stdout",
     "output_type": "stream",
     "text": [
      "945\n",
      "0\n",
      "945\n"
     ]
    }
   ],
   "source": [
    "def odd_prod(number):\n",
    "    number = list(str(number))\n",
    "    odd_nums = [int(i) for i in number if int(i) % 2 != 0]\n",
    "    prod = 1\n",
    "    if len(odd_nums) != 0:\n",
    "        for i in odd_nums:\n",
    "            prod = prod * i\n",
    "    else:\n",
    "        prod = 0\n",
    "    return prod\n",
    "\n",
    "print(odd_prod(123456789))\n",
    "print(odd_prod(2468))\n",
    "print(odd_prod(13579))"
   ]
  },
  {
   "cell_type": "markdown",
   "id": "34f1b63f-4839-4842-a69f-fe39e9f437cc",
   "metadata": {},
   "source": [
    "36. Write a Python program to find the largest k numbers from a given list of numbers."
   ]
  },
  {
   "cell_type": "code",
   "execution_count": 59,
   "id": "9abd71c8-37d1-4e07-b1e9-874f41a227b3",
   "metadata": {},
   "outputs": [
    {
     "name": "stdout",
     "output_type": "stream",
     "text": [
      "[6]\n",
      "[6, 5]\n",
      "[6, 5, 5]\n",
      "[6, 5, 5, 4]\n",
      "[6, 5, 5, 4, 3]\n"
     ]
    }
   ],
   "source": [
    "def largest_k(l1, k):\n",
    "    largest = sorted(l1, reverse = True)[:k]\n",
    "    return largest\n",
    "\n",
    "print(largest_k([1, 2, 3, 4, 5, 5, 3, 6, 2], 1))\n",
    "print(largest_k([1, 2, 3, 4, 5, 5, 3, 6, 2], 2))\n",
    "print(largest_k([1, 2, 3, 4, 5, 5, 3, 6, 2], 3))\n",
    "print(largest_k([1, 2, 3, 4, 5, 5, 3, 6, 2], 4))\n",
    "print(largest_k([1, 2, 3, 4, 5, 5, 3, 6, 2], 5))"
   ]
  },
  {
   "cell_type": "code",
   "execution_count": 58,
   "id": "4782f299-4421-46c6-9b3c-b7c2e32daeaa",
   "metadata": {},
   "outputs": [
    {
     "name": "stdout",
     "output_type": "stream",
     "text": [
      "[6, 5, 5, 4, 3, 3, 2, 2, 1]\n"
     ]
    }
   ],
   "source": [
    "l = [1, 2, 3, 4, 5, 5, 3, 6, 2]\n",
    "print(sorted(l, reverse = True))"
   ]
  },
  {
   "cell_type": "markdown",
   "id": "7554ebda-a21a-46ef-9c2b-ab4446125c73",
   "metadata": {},
   "source": [
    "37. Write a Python program to find the largest integer divisor of a number n that is less than n."
   ]
  },
  {
   "cell_type": "code",
   "execution_count": 65,
   "id": "9a866492-0c70-4e2c-a928-9279f8a0382e",
   "metadata": {},
   "outputs": [
    {
     "name": "stdout",
     "output_type": "stream",
     "text": [
      "9\n",
      "50\n",
      "51\n",
      "250\n",
      "500\n",
      "3250\n"
     ]
    }
   ],
   "source": [
    "def largest_divisor(number):\n",
    "    divisors = []\n",
    "    for i in range(1, number):\n",
    "        if number % i == 0:\n",
    "            divisors.append(i)\n",
    "    return sorted(divisors, reverse = True)[0]\n",
    "\n",
    "print(largest_divisor(18))\n",
    "print(largest_divisor(100))\n",
    "print(largest_divisor(102))\n",
    "print(largest_divisor(500))\n",
    "print(largest_divisor(1000))\n",
    "print(largest_divisor(6500))"
   ]
  },
  {
   "cell_type": "markdown",
   "id": "3978c370-4561-456d-911a-1343014b75b0",
   "metadata": {},
   "source": [
    "38. Write a Python program to sort the numbers in a given list by the sum of their digits."
   ]
  },
  {
   "cell_type": "code",
   "execution_count": 73,
   "id": "b89c71dc-f754-4837-8bdd-3e3933a95026",
   "metadata": {},
   "outputs": [
    {
     "name": "stdout",
     "output_type": "stream",
     "text": [
      "[10, 11, 20, 12, 13, 14, 15, 16, 17, 18, 19]\n",
      "[10, 2, 23, 34, 8, 9, 9, 74]\n"
     ]
    }
   ],
   "source": [
    "def sum_digit(l1):\n",
    "    return sorted(l1, key = lambda n: sum(int(c) for c in str(n) if c != \"-\"))\n",
    "\n",
    "print(sum_digit([10, 11, 12, 13, 14, 15, 16, 17, 18, 19, 20]))\n",
    "print(sum_digit([23, 2, 9, 34, 8, 9, 10, 74]))"
   ]
  },
  {
   "cell_type": "markdown",
   "id": "1978674c-c91e-404b-8c2b-f705135929bb",
   "metadata": {},
   "source": [
    "39. Write a Python program to determine which triples sum to zero from a given list of lists."
   ]
  },
  {
   "cell_type": "code",
   "execution_count": 75,
   "id": "585aa15e-d4ed-4623-9fb1-72004cc13e1f",
   "metadata": {},
   "outputs": [
    {
     "name": "stdout",
     "output_type": "stream",
     "text": [
      "[False, True, True, False, True]\n",
      "[True, True, False, False, False]\n"
     ]
    }
   ],
   "source": [
    "def triple_sum(l1):\n",
    "    status = [False] * len(l1)\n",
    "    for triple in range(len(l1)):\n",
    "        if sum(l1[triple]) == 0:\n",
    "            status[triple] = True\n",
    "    return status\n",
    "            \n",
    "\n",
    "print(triple_sum([[1343532, -2920635, 332], [-27, 18, 9], [4, 0, -4], [2, 2, 2], [-20, 16, 4]]))\n",
    "print(triple_sum([[1, 2, -3], [-4, 0, 4], [0, 1, -5], [1, 1, 1], [-2, 4, -1]]))"
   ]
  },
  {
   "cell_type": "markdown",
   "id": "6ce3095c-85b0-4e75-8938-8464adcdf6be",
   "metadata": {},
   "source": [
    "40. Write a Python program to find strings that, when case is flipped, give a target where vowels are replaced by characters two later.\n",
    "\n",
    "Input: Python\n",
    "Output:\n",
    "pYTHQN\n",
    "Input: aeiou\n",
    "Output:\n",
    "CGKQW\n",
    "Input: Hello, world!\n",
    "Output:\n",
    "hGLLQ, WQRLD!\n",
    "Input: AEIOU\n",
    "Output:\n",
    "cgkqw"
   ]
  },
  {
   "cell_type": "code",
   "execution_count": 78,
   "id": "71913131-d7d9-4bdd-b45b-a21b99709f31",
   "metadata": {},
   "outputs": [
    {
     "name": "stdout",
     "output_type": "stream",
     "text": [
      "pYTHqN\n",
      "cgkqw\n",
      "hgLLq, WqRLD!\n",
      "CGKQW\n"
     ]
    }
   ],
   "source": [
    "def transform_string(s):\n",
    "    vowels = 'aeiouAEIOU'\n",
    "    vowel_replacements = {v: chr(ord(v) + 2) for v in vowels}\n",
    "    result = []\n",
    "    for char in s:\n",
    "        if char in vowels:\n",
    "            result.append(vowel_replacements[char])\n",
    "        elif char.lower() in vowels:\n",
    "            result.append(vowel_replacements[char.lower()].upper())\n",
    "        else:\n",
    "            result.append(char.swapcase())\n",
    "    return ''.join(result)\n",
    "\n",
    "print(transform_string(\"Python\"))\n",
    "print(transform_string(\"aeiou\"))\n",
    "print(transform_string(\"Hello, world!\"))\n",
    "print(transform_string(\"AEIOU\"))"
   ]
  },
  {
   "cell_type": "markdown",
   "id": "dd9ac237-6ba6-4726-ac7d-90bca070f107",
   "metadata": {},
   "source": [
    "41. Write a Python program to sort numbers based on strings."
   ]
  },
  {
   "cell_type": "code",
   "execution_count": 2,
   "id": "75e75c30-6cc4-48f6-bbff-f78bd575b024",
   "metadata": {},
   "outputs": [
    {
     "name": "stdout",
     "output_type": "stream",
     "text": [
      "one two three four six\n",
      "one two three four six eight nine\n",
      "one two three four five six seven eight nine\n"
     ]
    }
   ],
   "source": [
    "def sort_num(strings):\n",
    "    selected_num = [x for x in 'one two three four five six seven eight nine'.split() if x in strings]\n",
    "    return ' '.join(selected_num)\n",
    "\n",
    "print(sort_num('six one four one two three'))\n",
    "print(sort_num('six one four three two nine eight'))\n",
    "print(sort_num('nine eight seven six five four three two  one'))"
   ]
  },
  {
   "cell_type": "markdown",
   "id": "b8b1f6b2-eab4-4749-acf7-c6f39829822d",
   "metadata": {},
   "source": [
    "42. Write a Python program to find the set of distinct characters in a given string, ignoring case."
   ]
  },
  {
   "cell_type": "code",
   "execution_count": 4,
   "id": "7f0cd3d8-0324-4784-ad4b-84ba6f0a3ff8",
   "metadata": {},
   "outputs": [
    {
     "name": "stdout",
     "output_type": "stream",
     "text": [
      "{'o', 'l', 'h', 'e'}\n",
      "{'o', 'l', 'h', 'e'}\n",
      "{'a', 'e', ' ', 'o', 'g', 'i', 'c', 's', 'r', 'n'}\n"
     ]
    }
   ],
   "source": [
    "def unique_char(text):\n",
    "    return set(list(text.lower()))\n",
    "\n",
    "print(unique_char('HELLO'))\n",
    "print(unique_char('HelLo'))\n",
    "print(unique_char('Ignoring case'))"
   ]
  },
  {
   "cell_type": "markdown",
   "id": "4aa683a3-7591-47ec-86cc-e1adf7b4ed5a",
   "metadata": {},
   "source": [
    "43. Write a Python program to find all words in a given string with n consonants."
   ]
  },
  {
   "cell_type": "code",
   "execution_count": 16,
   "id": "4b2853cf-ba6e-4a3e-a56b-675c01715f00",
   "metadata": {},
   "outputs": [
    {
     "name": "stdout",
     "output_type": "stream",
     "text": [
      "['this']\n",
      "['time']\n",
      "['is', 'our']\n"
     ]
    }
   ],
   "source": [
    "def find_cons(text, n):\n",
    "    consonents = []\n",
    "    vowels = ['a','e','i','o','u']\n",
    "    words = text.split()\n",
    "    for word in words:\n",
    "        cons_count = 0\n",
    "        for character in word:\n",
    "            if character.lower() not in vowels and character.isalpha():\n",
    "                cons_count += 1\n",
    "        if cons_count == n:\n",
    "            consonents.append(word)\n",
    "    return consonents\n",
    "\n",
    "print(find_cons('this is our time', 3))\n",
    "print(find_cons('this is our time', 2))\n",
    "print(find_cons('this is our time', 1))\n"
   ]
  },
  {
   "cell_type": "markdown",
   "id": "6dd37787-1068-42c4-b54b-7cd385d74d33",
   "metadata": {},
   "source": [
    "45. Write a Python program to find all even palindromes up to n."
   ]
  },
  {
   "cell_type": "code",
   "execution_count": 20,
   "id": "2ae5a922-20de-49a8-9c42-2c51f1febff3",
   "metadata": {},
   "outputs": [
    {
     "name": "stdout",
     "output_type": "stream",
     "text": [
      "[0, 2, 4, 6, 8, 22, 44]\n",
      "[0, 2, 4, 6, 8, 22, 44, 66, 88]\n",
      "[0, 2, 4, 6, 8, 22, 44, 66, 88, 202, 212, 222, 232, 242, 252, 262, 272, 282, 292, 404, 414, 424, 434, 444, 454, 464, 474, 484, 494]\n",
      "[0, 2, 4, 6, 8, 22, 44, 66, 88, 202, 212, 222, 232, 242, 252, 262, 272, 282, 292, 404, 414, 424, 434, 444, 454, 464, 474, 484, 494, 606, 616, 626, 636, 646, 656, 666, 676, 686, 696, 808, 818, 828, 838, 848, 858, 868, 878, 888, 898]\n"
     ]
    }
   ],
   "source": [
    "def even_pallindromes(n):\n",
    "    even_pal = []\n",
    "    even_pal.append(0)\n",
    "    for i in range(1, n):\n",
    "        if i % 2 == 0 and (str(i) == str(i)[::-1]):\n",
    "            even_pal.append(i)\n",
    "    return even_pal\n",
    "\n",
    "print(even_pallindromes(50))\n",
    "print(even_pallindromes(100))\n",
    "print(even_pallindromes(500))\n",
    "print(even_pallindromes(2000))"
   ]
  },
  {
   "cell_type": "markdown",
   "id": "eb338caf-bd46-46da-9b9f-6b2fa1363990",
   "metadata": {},
   "source": [
    "46. Given an array of numbers representing a branch on a binary tree, write a Python program to find the minimum even value and its index. In the case of a tie, return the smallest index. If there are no even numbers, the answer is []."
   ]
  },
  {
   "cell_type": "code",
   "execution_count": 23,
   "id": "4b6e0cdf-542e-41a0-af2b-4efe7a6a7f5b",
   "metadata": {},
   "outputs": [
    {
     "name": "stdout",
     "output_type": "stream",
     "text": [
      "[4, 2]\n",
      "[2, 5]\n",
      "[]\n"
     ]
    }
   ],
   "source": [
    "def min_even(l1):\n",
    "    min_value = float('inf')\n",
    "    min_index = -1\n",
    "    for index, value in enumerate(l1):\n",
    "        if value % 2 == 0 and value < min_value:\n",
    "            min_value = value\n",
    "            min_index = index\n",
    "    return [min_value, min_index] if min_index != -1 else []\n",
    "            \n",
    "print(min_even([1, 9, 4, 6, 10, 11, 14, 8]))\n",
    "print(min_even([1, 7, 4, 4, 9, 2]))\n",
    "print(min_even([1, 7, 7, 5, 9]))"
   ]
  },
  {
   "cell_type": "markdown",
   "id": "1a6dccf6-728d-4d82-b376-dcf17133b4aa",
   "metadata": {},
   "source": [
    "47. Write a Python program to filter for numbers in a given list whose sum of digits is > 0, where the first digit can be negative."
   ]
  },
  {
   "cell_type": "code",
   "execution_count": 30,
   "id": "4f89dc0e-c1e3-4ac1-8a58-bed8c6ecee4c",
   "metadata": {},
   "outputs": [
    {
     "name": "stdout",
     "output_type": "stream",
     "text": [
      "[11, -103]\n",
      "[1, 7, 4, 2]\n",
      "[10, -13, 14]\n"
     ]
    }
   ],
   "source": [
    "def sum_digit_filter(numbers):\n",
    "    result = []\n",
    "    for number in numbers:\n",
    "        num_str = str(number)\n",
    "        sum_d = 0\n",
    "        if num_str[0] == '-':\n",
    "            sum_d = -int(num_str[1])  # Start with the negative first digit\n",
    "            for digit in num_str[2:]:\n",
    "                if digit.isdigit():\n",
    "                    sum_d += int(digit)\n",
    "        else:\n",
    "            for digit in num_str:\n",
    "                if digit.isdigit():\n",
    "                    sum_d += int(digit)\n",
    "        if sum_d > 0:\n",
    "            result.append(number)\n",
    "    return result\n",
    "\n",
    "# Test cases\n",
    "print(sum_digit_filter([11, -6, -103, -200]))  # Output: [11, -103]\n",
    "print(sum_digit_filter([1, 7, -4, 4, -9, 2]))  # Output: [1, 7, 4, 2]\n",
    "print(sum_digit_filter([10, -11, -71, -13, 14, -32]))  # Output: [10, -13, 14]"
   ]
  },
  {
   "cell_type": "code",
   "execution_count": 32,
   "id": "5b69145e-dc94-4342-8944-08c5df956988",
   "metadata": {},
   "outputs": [
    {
     "name": "stdout",
     "output_type": "stream",
     "text": [
      "[2, 3]\n",
      "[]\n",
      "[4, 5]\n",
      "[1, 2]\n"
     ]
    }
   ],
   "source": [
    "def increasing_order(l1):\n",
    "    indices = []\n",
    "    for i in range(1, len(l1)):\n",
    "        if l1[i] < l1[i - 1]:\n",
    "            indices.append(i - 1)\n",
    "            indices.append(i)\n",
    "    return indices\n",
    "\n",
    "print(increasing_order([1, 2, 3, 0, 4, 5, 6]))\n",
    "print(increasing_order([1, 2, 3, 4, 5, 6]))\n",
    "print(increasing_order([1, 2, 3, 4, 6, 5, 7]))\n",
    "print(increasing_order([-3, -2, -3, 0, 2, 3, 4]))"
   ]
  },
  {
   "cell_type": "markdown",
   "id": "01636748-a5c9-474f-8ed8-76bfc00ee0d8",
   "metadata": {},
   "source": [
    "49. Write a Python program to find the h-index, the largest positive number h such that h occurs in the sequence at least h times. If there is no such positive number return h = -1."
   ]
  },
  {
   "cell_type": "code",
   "execution_count": 36,
   "id": "1f388ecc-8dab-4ab6-b1ad-7878e8a274d6",
   "metadata": {},
   "outputs": [
    {
     "name": "stdout",
     "output_type": "stream",
     "text": [
      "4\n",
      "3\n",
      "5\n"
     ]
    }
   ],
   "source": [
    "def h_index(l1):\n",
    "    l1.sort(reverse = True)\n",
    "    h = -1\n",
    "    for i, value in enumerate(l1):\n",
    "        if value >= i + 1:\n",
    "            h = i + 1\n",
    "        else:\n",
    "            break\n",
    "    return h\n",
    "\n",
    "print(h_index([1, 2, 2, 3, 3, 4, 4, 4, 4]))\n",
    "print(h_index([1, 2, 2, 3, 4, 5, 6]))\n",
    "print(h_index([3, 1, 4, 17, 5, 17, 2, 1, 41, 32, 2, 5, 5, 5, 5]))"
   ]
  },
  {
   "cell_type": "markdown",
   "id": "0987cc32-87c2-49e8-95bf-eef918fd187b",
   "metadata": {},
   "source": [
    "50. Write a  Python program to find even-length words from a given list of words and sort them by length."
   ]
  },
  {
   "cell_type": "code",
   "execution_count": 40,
   "id": "50d9e78a-a2ec-433e-a2f4-505fefabe7eb",
   "metadata": {},
   "outputs": [
    {
     "name": "stdout",
     "output_type": "stream",
     "text": [
      "['Pink', 'Orange']\n",
      "['!!', 'worm', 'bird', 'that', 'Absurd']\n"
     ]
    }
   ],
   "source": [
    "def sort_even_words(l1):\n",
    "    even_l = []\n",
    "    for word in range(len(l1)):\n",
    "        if len(l1[word]) % 2 == 0:\n",
    "            even_l.append(l1[word])\n",
    "    return sorted(even_l, key = len)\n",
    "\n",
    "print(sort_even_words(['Red', 'Black', 'White', 'Green', 'Pink', 'Orange']))\n",
    "print(sort_even_words(['The', 'worm', 'ate', 'a', 'bird', 'imagine', 'that', '!', 'Absurd', '!!']))"
   ]
  },
  {
   "cell_type": "markdown",
   "id": "367eb277-4c28-446c-9141-2e8dc93d2932",
   "metadata": {},
   "source": [
    "51. Write a Python program to find the product of the units digits in the numbers in a given list."
   ]
  },
  {
   "cell_type": "code",
   "execution_count": 2,
   "id": "f39783c6-3340-42e7-885f-075ea1e85366",
   "metadata": {},
   "outputs": [
    {
     "name": "stdout",
     "output_type": "stream",
     "text": [
      "[1, 1, 2, 3, 5, 8, 13, 21, 34, 55]\n",
      "[1, 1, 2, 3, 5, 8, 13, 21, 34, 55, 89, 144, 233, 377, 610]\n",
      "[1, 1, 2, 3, 5, 8, 13, 21, 34, 55, 89, 144, 233, 377, 610, 987, 1597, 2584, 4181, 6765, 10946, 17711, 28657, 46368, 75025, 121393, 196418, 317811, 514229, 832040, 1346269, 2178309, 3524578, 5702887, 9227465, 14930352, 24157817, 39088169, 63245986, 102334155, 165580141, 267914296, 433494437, 701408733, 1134903170, 1836311903, 2971215073, 4807526976, 7778742049, 12586269025]\n"
     ]
    }
   ],
   "source": [
    "def unit_product(n):\n",
    "    a = [1, 1] # Initialize list with first two fibonnaci numbers\n",
    "    while len(a) < n:\n",
    "        a += [sum(a[-2:])]\n",
    "    return a[:n]\n",
    "\n",
    "print(unit_product(10))\n",
    "print(unit_product(15))\n",
    "print(unit_product(50))"
   ]
  },
  {
   "cell_type": "markdown",
   "id": "b94c16c6-e9ca-4258-8251-b197f638f7d1",
   "metadata": {},
   "source": [
    "52. Write a Python program to reverse the case of all strings. For those strings, which contain no letters, reverse the strings."
   ]
  },
  {
   "cell_type": "code",
   "execution_count": 7,
   "id": "29fa64fa-d126-4a9e-a5f7-689449534de5",
   "metadata": {},
   "outputs": [
    {
     "name": "stdout",
     "output_type": "stream",
     "text": [
      "['CAT', 'CATATATATCTSA', 'ABCDEFHIJKLMNOP', '521581932952421', '', 'FOO', 'UNIQUE']\n",
      "['gREEN', 'rED', 'oRANGE', 'yELLOW', '', 'wHITE']\n",
      "['hELLO', '#@!', '$#@!', '!@#321']\n"
     ]
    }
   ],
   "source": [
    "def reverse_case(l1):\n",
    "    new_list = []\n",
    "    for word in l1:\n",
    "        if word.isalpha() == True:\n",
    "            new_word = ''\n",
    "            for character in word:\n",
    "                if character.lower() == character:\n",
    "                    new_word += character.upper()\n",
    "                elif character.upper() == character:\n",
    "                    new_word += character.lower()\n",
    "            new_list.append(new_word)\n",
    "        else:\n",
    "            new_list.append(word[::-1])\n",
    "    return new_list\n",
    "\n",
    "print(reverse_case(['cat', 'catatatatctsa', 'abcdefhijklmnop', '124259239185125', '', 'foo', 'unique']))\n",
    "print(reverse_case(['Green', 'Red', 'Orange', 'Yellow', '', 'White']))\n",
    "print(reverse_case(['Hello', '!@#', '!@#$', '123#@!']))"
   ]
  },
  {
   "cell_type": "markdown",
   "id": "f6b979db-5f06-42ea-9dfa-6b827aada460",
   "metadata": {},
   "source": [
    "53. Write a Python program to find the product of the units digits in the numbers in a given list."
   ]
  },
  {
   "cell_type": "code",
   "execution_count": 11,
   "id": "2986380e-303c-459a-95d2-958acc94fa69",
   "metadata": {},
   "outputs": [
    {
     "name": "stdout",
     "output_type": "stream",
     "text": [
      "6\n",
      "18\n",
      "12\n",
      "10\n"
     ]
    }
   ],
   "source": [
    "def unit_prod(l1):\n",
    "    prod = 1\n",
    "    for i in l1:\n",
    "        prod = prod * int(str(i)[-1])\n",
    "    return prod\n",
    "\n",
    "print(unit_prod([12,23]))\n",
    "print(unit_prod([12,23,43]))\n",
    "print(unit_prod([113,234]))\n",
    "print(unit_prod([1002,2005]))"
   ]
  },
  {
   "cell_type": "markdown",
   "id": "f6ea77b8-ea42-40aa-82d1-f38c23a77bbe",
   "metadata": {},
   "source": [
    "54. Write a Python program to remove duplicates from a list of integers, preserving order."
   ]
  },
  {
   "cell_type": "code",
   "execution_count": 12,
   "id": "c6f9eed1-42cc-4df2-baa4-f1acf9953894",
   "metadata": {},
   "outputs": [
    {
     "name": "stdout",
     "output_type": "stream",
     "text": [
      "[1, 3, 4, 10, 43]\n",
      "[99, 10, 11, 76, 13, 23, 25]\n"
     ]
    }
   ],
   "source": [
    "def remove_dupe(l1):\n",
    "    return list(set(l1))\n",
    "\n",
    "print(remove_dupe([1, 3, 4, 10, 4, 1, 43]))\n",
    "print(remove_dupe([10, 11, 13, 23, 11, 25, 23, 76, 99]))"
   ]
  },
  {
   "cell_type": "markdown",
   "id": "e9fbf2c9-c9a1-41cf-a452-cbdcf26cf862",
   "metadata": {},
   "source": [
    "55. Write a Python program to find numbers that are greater than 10 and have odd first and last digits."
   ]
  },
  {
   "cell_type": "code",
   "execution_count": 13,
   "id": "3bbff701-87cb-462b-ab5b-8b6a5abe3f0e",
   "metadata": {},
   "outputs": [
    {
     "name": "stdout",
     "output_type": "stream",
     "text": [
      "[79, 39]\n",
      "[11, 31, 77, 93, 57]\n"
     ]
    }
   ],
   "source": [
    "def odd_first_last(l1):\n",
    "    new_list = []\n",
    "    for i in l1:\n",
    "        if i > 10 and (int(str(i)[0]) % 2 != 0) and (int(str(i)[-1]) % 2 != 0):\n",
    "            new_list.append(i)\n",
    "    return new_list\n",
    "\n",
    "print(odd_first_last([1, 3, 79, 10, 4, 1, 39, 62]))\n",
    "print(odd_first_last([11, 31, 77, 93, 48, 1, 57]))"
   ]
  },
  {
   "cell_type": "markdown",
   "id": "918cb056-bd4d-4610-87f2-ada58e1e9c54",
   "metadata": {},
   "source": [
    "56. Write a Python program to find an integer exponent x such that a^x = n."
   ]
  },
  {
   "cell_type": "code",
   "execution_count": 16,
   "id": "38236230-a156-45d2-abe1-2a208a3393e9",
   "metadata": {},
   "outputs": [
    {
     "name": "stdout",
     "output_type": "stream",
     "text": [
      "10\n",
      "170\n"
     ]
    }
   ],
   "source": [
    "def int_expo(a, n):\n",
    "    x = 0\n",
    "    result = 1\n",
    "    while result < n:\n",
    "        result *= a\n",
    "        x += 1\n",
    "    if result == n:\n",
    "        return x\n",
    "    else:\n",
    "        return None\n",
    "\n",
    "print(int_expo(2, 1024))\n",
    "print(int_expo(3, 1290070078170102666248196035845070394933441741644993085810116441344597492642263849))"
   ]
  },
  {
   "cell_type": "markdown",
   "id": "7f234867-cb27-409e-831f-4478ac0b64c8",
   "metadata": {},
   "source": [
    "57. Write a Python program to find the sum of the magnitudes of the elements in the array. This sum should have a sign that is equal to the product of the signs of the entries."
   ]
  },
  {
   "cell_type": "code",
   "execution_count": 25,
   "id": "087dc86b-5840-48a0-8e53-d41628155239",
   "metadata": {},
   "outputs": [
    {
     "name": "stdout",
     "output_type": "stream",
     "text": [
      "-6\n",
      "-7\n",
      "45\n",
      "-60\n"
     ]
    }
   ],
   "source": [
    "def magni(l1):\n",
    "    sum_l = sum([abs(i) for i in l1])\n",
    "    negative_num = [i for i in l1 if i < 0]\n",
    "    if len(negative_num) % 2 != 0:\n",
    "        return int('-' + str(sum_l))\n",
    "    else:\n",
    "        return sum_l\n",
    "\n",
    "\n",
    "print(magni([1, 3, -2]))\n",
    "print(magni([1, 3, -3]))\n",
    "print(magni([10, 32, 3]))\n",
    "print(magni([-25, -12, -23]))"
   ]
  },
  {
   "cell_type": "markdown",
   "id": "82df621e-795f-49d3-b634-af5c13194c44",
   "metadata": {},
   "source": [
    "58. Write a  Python program to find the biggest even number between two numbers inclusive."
   ]
  },
  {
   "cell_type": "code",
   "execution_count": 31,
   "id": "41d552c6-7860-4842-9897-d185e8dae1b6",
   "metadata": {},
   "outputs": [
    {
     "name": "stdout",
     "output_type": "stream",
     "text": [
      "50\n",
      "78\n",
      "52\n",
      "200\n"
     ]
    }
   ],
   "source": [
    "def biggest_even(m,n):\n",
    "    biggest_even_num = m\n",
    "    for i in range(m, n+1):\n",
    "        if i > biggest_even_num and i % 2 == 0:\n",
    "            biggest_even_num = i\n",
    "    return biggest_even_num\n",
    "\n",
    "print(biggest_even(12, 51))\n",
    "print(biggest_even(1, 79))\n",
    "print(biggest_even(47, 53))\n",
    "print(biggest_even(100, 200))"
   ]
  },
  {
   "cell_type": "markdown",
   "id": "33016af7-f6a5-4799-a196-77eb816682cc",
   "metadata": {},
   "source": [
    "59. A valid filename should end in .txt, .exe, .jpg, .png, or .dll, and should have at most three digits, no additional periods. Write a Python program to create a list of True/False that determine whether candidate filename is valid or not."
   ]
  },
  {
   "cell_type": "code",
   "execution_count": 36,
   "id": "1fa9166d-d274-4027-9bce-3972edbfe8ee",
   "metadata": {},
   "outputs": [
    {
     "name": "stdout",
     "output_type": "stream",
     "text": [
      "[True, True, True, True, False, True]\n",
      "[True, True, False, False, False]\n"
     ]
    }
   ],
   "source": [
    "def valid_file(l1):\n",
    "    status = [False] * len(l1)\n",
    "    valid_ext = ['.txt','.exe','.jpg','.png','.dll']\n",
    "    for i in range(len(l1)):\n",
    "        int_count = 0\n",
    "        if l1[i][-4:] in valid_ext:\n",
    "            for character in l1[i]:\n",
    "                if character.isdigit() == True:\n",
    "                    int_count += 1\n",
    "                if int_count < 4:\n",
    "                    status[i] = True\n",
    "    return status\n",
    "\n",
    "print(valid_file(['abc.txt', 'windows.dll', 'tiger.png', 'rose.jpg', 'test. py', 'win32.exe']))\n",
    "print(valid_file(['.txt', 'windows.exe', 'tiger.jpeg', 'rose.c', 'test.java']))"
   ]
  },
  {
   "cell_type": "markdown",
   "id": "41999a53-1729-4db2-910a-f153d7c72431",
   "metadata": {},
   "source": [
    "60. Write a Python program to find a list of all numbers that are adjacent to a prime number in the list, sorted without duplicates."
   ]
  },
  {
   "cell_type": "code",
   "execution_count": 40,
   "id": "f54b3444-d54c-4cc1-a917-d276f9eeef5f",
   "metadata": {},
   "outputs": [
    {
     "name": "stdout",
     "output_type": "stream",
     "text": [
      "[2, 4, 6, 16, 17]\n",
      "[1, 2, 16, 19]\n",
      "[1, 2, 3, 4, 5, 7, 11, 16]\n"
     ]
    }
   ],
   "source": [
    "def prime(m):\n",
    "    return all(m % i for i in range(2, m - 1))\n",
    "\n",
    "def adj_num(l1):\n",
    "    return sorted({\n",
    "        n for i, n in enumerate(l1)\n",
    "        if (i > 0 and prime(l1[i-1])) or (i < len(l1) - 1 and prime(l1[i + 1]))\n",
    "    })\n",
    "\n",
    "print(adj_num([2, 17, 16, 0, 6, 4, 5]))\n",
    "print(adj_num([1, 2, 19, 16, 6, 4, 10]))\n",
    "print(adj_num([1, 2, 3, 5, 1, 16, 7, 11, 4]))"
   ]
  },
  {
   "cell_type": "markdown",
   "id": "bcafab80-b52f-40bd-ab59-60fa470fa42e",
   "metadata": {},
   "source": [
    "61. Write a Python program to find the number which when appended to the list makes the total 0."
   ]
  },
  {
   "cell_type": "code",
   "execution_count": 41,
   "id": "fa9845f5-73d5-4bf8-97f5-fd82db0ccf99",
   "metadata": {},
   "outputs": [
    {
     "name": "stdout",
     "output_type": "stream",
     "text": [
      "-15\n",
      "5\n",
      "-1316384\n"
     ]
    }
   ],
   "source": [
    "def sum_zero(l1):\n",
    "    sum_list = sum(l1)\n",
    "    if sum_list < 0:\n",
    "        return abs(sum_list)\n",
    "    else:\n",
    "        return int('-' + str(sum_list))\n",
    "\n",
    "print(sum_zero([1, 2, 3, 4, 5]))\n",
    "print(sum_zero([-1, -2, -3, -4, 5]))\n",
    "print(sum_zero([10, 42, 17, 9, 1315182, 184, 102, 29, 15, 39, 755]))"
   ]
  },
  {
   "cell_type": "markdown",
   "id": "412e8dc8-9d77-4b60-8754-141ce561713b",
   "metadata": {},
   "source": [
    "62. Write a Python program to find the dictionary key whose case is different from all other keys."
   ]
  },
  {
   "cell_type": "code",
   "execution_count": 45,
   "id": "565dfbea-222c-49fb-8334-41895997696e",
   "metadata": {},
   "outputs": [
    {
     "name": "stdout",
     "output_type": "stream",
     "text": [
      "GREEN\n",
      "orange\n"
     ]
    }
   ],
   "source": [
    "def find_diff_key(d):\n",
    "    for different in d:\n",
    "        if all(k.islower() != different.islower() for k in d if k != different):\n",
    "            return different\n",
    "\n",
    "print(find_diff_key({'red': '', 'GREEN': '', 'blue': 'orange'}))\n",
    "print(find_diff_key({'RED': '', 'GREEN': '', 'orange': '#125GD'}))"
   ]
  },
  {
   "cell_type": "markdown",
   "id": "9fb94f72-8fce-4569-94b6-3c39fb3b1b82",
   "metadata": {},
   "source": [
    "63. Write a Python program to find the sum of the even elements that are at odd indices in a given list."
   ]
  },
  {
   "cell_type": "code",
   "execution_count": 48,
   "id": "e67647a4-18d4-4f1f-9ef6-e0323c81f3bd",
   "metadata": {},
   "outputs": [
    {
     "name": "stdout",
     "output_type": "stream",
     "text": [
      "12\n",
      "6\n"
     ]
    }
   ],
   "source": [
    "def odd_ele(l1):\n",
    "    sum_o = 0\n",
    "    for i in range(len(l1)):\n",
    "        if i % 2 != 0 and l1[i] % 2 == 0:\n",
    "            sum_o += l1[i]\n",
    "    return sum_o\n",
    "\n",
    "print(odd_ele([1, 2, 3, 4, 5, 6, 7]))\n",
    "print(odd_ele([1, 2, 8, 3, 9, 4]))"
   ]
  },
  {
   "cell_type": "markdown",
   "id": "b91c23ff-dd80-48fd-a449-15b0b9ac420b",
   "metadata": {},
   "source": [
    "64. Write a Python program to find the string consisting of all the words whose lengths are prime numbers."
   ]
  },
  {
   "cell_type": "code",
   "execution_count": 58,
   "id": "1a7c3004-1f34-4af3-8a7e-aaebcf3082d1",
   "metadata": {},
   "outputs": [
    {
     "name": "stdout",
     "output_type": "stream",
     "text": [
      "The quick brown fox jumps the\n"
     ]
    }
   ],
   "source": [
    "def prime(m):\n",
    "    if m < 2:\n",
    "        return False\n",
    "    for i in range(2, int(m ** 0.5) + 1):\n",
    "        if m % i == 0:\n",
    "            return False\n",
    "    return True\n",
    "\n",
    "def string_prime(text):\n",
    "    result = []\n",
    "    text = text.split()\n",
    "    for word in text:\n",
    "        if prime(len(word)) == True:\n",
    "            result.append(word)\n",
    "    return ' '.join(result)\n",
    "\n",
    "print(string_prime('The quick brown fox jumps over the lazy dog.'))"
   ]
  },
  {
   "cell_type": "markdown",
   "id": "928fc5eb-0243-4eec-a046-c2caf8934a47",
   "metadata": {},
   "source": [
    "65.Write a Python program to shift the decimal digits n places to the left, wrapping the extra digits around. If the shift > the number of digits in n, reverse the string."
   ]
  },
  {
   "cell_type": "code",
   "execution_count": 59,
   "id": "eda8229b-48fb-4184-b51e-c8a5f717a9fc",
   "metadata": {},
   "outputs": [
    {
     "name": "stdout",
     "output_type": "stream",
     "text": [
      "23451\n",
      "34512\n",
      "45123\n",
      "51234\n",
      "12345\n",
      "54321\n"
     ]
    }
   ],
   "source": [
    "def shift_digit(n, shift):\n",
    "    s = str(n)\n",
    "    if shift > len(s):\n",
    "        return s [::-1]\n",
    "    return s[shift:] + s[:shift]\n",
    "\n",
    "print(shift_digit(12345,1))\n",
    "print(shift_digit(12345,2))\n",
    "print(shift_digit(12345,3))\n",
    "print(shift_digit(12345,4))\n",
    "print(shift_digit(12345,5))\n",
    "print(shift_digit(12345,6))"
   ]
  },
  {
   "cell_type": "markdown",
   "id": "1678c559-d6bd-4612-9094-089723fb2ceb",
   "metadata": {},
   "source": [
    "66. Write a Python program to find the indices of the closest pair from a list of numbers."
   ]
  },
  {
   "cell_type": "code",
   "execution_count": 4,
   "id": "e33e36c4-97cc-4a79-a9e2-46bde33aff94",
   "metadata": {},
   "outputs": [
    {
     "name": "stdout",
     "output_type": "stream",
     "text": [
      "[0, 3]\n",
      "[1, 4]\n",
      "[2, 5]\n"
     ]
    }
   ],
   "source": [
    "def closest_int(nums):\n",
    "    min_diff = float('inf')\n",
    "    indices = [-1, -1]\n",
    "    for i in range(len(nums)):\n",
    "        for j in range(i + 1, len(nums)):\n",
    "            diff = abs(nums[i] - nums[j])\n",
    "            if diff < min_diff:\n",
    "                min_diff = diff\n",
    "                indices = [i, j]\n",
    "    return indices\n",
    "    \n",
    "print(closest_int([1,7,9,2,10]))\n",
    "print(closest_int([1.1, 4.25, 0.79, 1.0, 4.23]))\n",
    "print(closest_int([0.21, 11.3, 2.01, 8.0, 10.0, 3.0, 15.2]))"
   ]
  },
  {
   "cell_type": "markdown",
   "id": "b3048b85-40b3-47d3-ae19-753c19774c87",
   "metadata": {},
   "source": [
    "67. Write a  Python program to find a string which, when each character is shifted (ASCII incremented) by shift, gives the result.\n",
    "\n",
    "Input:\n",
    "Ascii character table\n",
    "Shift = 1\n",
    "Output:\n",
    "@rbhh\u001fbg`q`bsdq\u001fs`akd\n",
    "Input:\n",
    "Ascii character table\n",
    "Shift = -1\n",
    "Output:\n",
    "Btdjj!dibsbdufs!ubcmf"
   ]
  },
  {
   "cell_type": "code",
   "execution_count": 5,
   "id": "b54ef940-2048-4ded-b96c-0eabe7e47177",
   "metadata": {},
   "outputs": [
    {
     "name": "stdout",
     "output_type": "stream",
     "text": [
      "Btdjj!dibsbdufs!ubcmf\n",
      "@rbhh\u001fbg`q`bsdq\u001fs`akd\n"
     ]
    }
   ],
   "source": [
    "def string_shift(string, shift):\n",
    "    shifted_string = ''\n",
    "    for char in string:\n",
    "        shifted_string += chr(ord(char) + shift)\n",
    "    return shifted_string\n",
    "\n",
    "print(string_shift('Ascii character table', 1))\n",
    "print(string_shift('Ascii character table', -1))"
   ]
  },
  {
   "cell_type": "markdown",
   "id": "10e97d95-9ff9-4263-b3b8-2fcc4694dc3a",
   "metadata": {},
   "source": [
    "68. Write a Python program to find all 5's in integers less than n that are divisible by 9 or 15."
   ]
  },
  {
   "cell_type": "code",
   "execution_count": 24,
   "id": "e66922a3-ff8d-479f-ac89-823002b947c8",
   "metadata": {},
   "outputs": [
    {
     "name": "stdout",
     "output_type": "stream",
     "text": [
      "[[15, 1], [45, 1]]\n",
      "[[15, 1], [45, 1], [54, 0]]\n",
      "[[15, 1], [45, 1], [54, 0]]\n",
      "[[15, 1], [45, 1], [54, 0], [75, 1]]\n",
      "[[15, 1], [45, 1], [54, 0], [75, 1], [105, 2], [135, 2]]\n"
     ]
    }
   ],
   "source": [
    "def nine_fifteen_divide(n):\n",
    "    final = []\n",
    "    for i in range(1, n):\n",
    "        if ('5' in str(i)) and (i % 9 == 0 or i % 15 == 0):\n",
    "            for ind in range(len(str(i))):\n",
    "                istr = str(i)\n",
    "                if istr[ind] == '5':\n",
    "                    five_place = ind\n",
    "            final.append([i, five_place])\n",
    "    return final\n",
    "\n",
    "print(nine_fifteen_divide(50))\n",
    "print(nine_fifteen_divide(65))\n",
    "print(nine_fifteen_divide(75))\n",
    "print(nine_fifteen_divide(85))\n",
    "print(nine_fifteen_divide(150))"
   ]
  },
  {
   "cell_type": "markdown",
   "id": "ab0a265d-36b9-492c-853e-208af844fc43",
   "metadata": {},
   "source": [
    "69. Write a Python program to create a new string by taking a string, and word by word rearranging its characters in ASCII order.\n",
    "Input: Ascii character table\n",
    "Output:\n",
    "Aciis aaccehrrt abelt\n",
    "Input: maltos won\n",
    "Output:\n",
    "almost now"
   ]
  },
  {
   "cell_type": "code",
   "execution_count": 25,
   "id": "76a444b4-bc61-4c93-8902-f90a51bc2881",
   "metadata": {},
   "outputs": [
    {
     "name": "stdout",
     "output_type": "stream",
     "text": [
      "Aciis aaccehrrt abelt\n",
      "almost now\n"
     ]
    }
   ],
   "source": [
    "def rearrange_words_ascii(input_string):\n",
    "    words = input_string.split()\n",
    "    sorted_words = [''.join(sorted(word)) for word in words]\n",
    "    return ' '.join(sorted_words)\n",
    "\n",
    "print(rearrange_words_ascii(\"Ascii character table\"))\n",
    "print(rearrange_words_ascii(\"maltos won\"))  "
   ]
  },
  {
   "cell_type": "markdown",
   "id": "e4807c7a-36ce-46c7-9b79-1036fe8cdd99",
   "metadata": {},
   "source": [
    "70. Write a Python program to find the first negative balance from a given list of numbers that represent bank deposits and withdrawals.\n",
    "\n",
    "Input:\n",
    "[[12, -7, 3, -89, 14, 88, -78], [-1, 2, 7]]\n",
    "Output:\n",
    "[-81, -1]\n",
    "Input:\n",
    "[[1200, 100, -900], [100, 100, -2400]]\n",
    "Output:\n",
    "[None, -2200]"
   ]
  },
  {
   "cell_type": "code",
   "execution_count": 26,
   "id": "13f40d1c-c845-48c8-ba8f-89a62b0166b2",
   "metadata": {},
   "outputs": [
    {
     "name": "stdout",
     "output_type": "stream",
     "text": [
      "[-81, -1]\n",
      "[None, -2200]\n"
     ]
    }
   ],
   "source": [
    "def first_neg_bal(l1):\n",
    "    results = []\n",
    "    for transaction_list in l1:\n",
    "        balance = 0\n",
    "        found_neg = False\n",
    "        for transaction in transaction_list:\n",
    "            balance += transaction\n",
    "            if balance < 0:\n",
    "                results.append(balance)\n",
    "                found_neg = True\n",
    "                break\n",
    "        if not found_neg:\n",
    "            results.append(None)\n",
    "    return results\n",
    "\n",
    "print(first_neg_bal([[12, -7, 3, -89, 14, 88, -78], [-1, 2, 7]]))\n",
    "print(first_neg_bal([[1200, 100, -900], [100, 100, -2400]]))"
   ]
  },
  {
   "cell_type": "markdown",
   "id": "7d79dfc1-8ca4-4604-9b9b-d67b0c8e4db6",
   "metadata": {},
   "source": [
    "71. Given a list of numbers and a number to inject, write a Python program to create a list containing that number in between each pair of adjacent numbers.\n",
    "\n",
    "Input: [12, -7, 3, -89, 14, 88, -78, -1, 2, 7]\n",
    "Separator: 6\n",
    "Output:\n",
    "[12, 6, -7, 6, 3, 6, -89, 6, 14, 6, 88, 6, -78, 6, -1, 6, 2, 6, 7]\n",
    "Input: [1, 2, 3, 4, 5, 6]\n",
    "Separator: 9\n",
    "Output:\n",
    "[1, 9, 2, 9, 3, 9, 4, 9, 5, 9, 6]"
   ]
  },
  {
   "cell_type": "code",
   "execution_count": 30,
   "id": "a4b036e2-a0a2-4ae4-a96f-17211161fdbb",
   "metadata": {},
   "outputs": [
    {
     "name": "stdout",
     "output_type": "stream",
     "text": [
      "[12, 6, -7, 6, 3, 6, -89, 6, 14, 6, 88, -78, -1, 2, 7]\n",
      "[1, 6, 2, 6, 3, 6, 4, 5, 6]\n"
     ]
    }
   ],
   "source": [
    "def insert_num(l1, separator):\n",
    "    for i in range(len(l1)):\n",
    "        if i % 2 != 0:\n",
    "            l1.insert(i, separator)\n",
    "    return l1\n",
    "\n",
    "print(insert_num([12, -7, 3, -89, 14, 88, -78, -1, 2, 7], 6))\n",
    "print(insert_num([1, 2, 3, 4, 5, 6], 6))"
   ]
  },
  {
   "cell_type": "markdown",
   "id": "d4ec99d8-a9cf-46b7-9292-a7b986c89d41",
   "metadata": {},
   "source": [
    "72. Write a Python program to find the indices of three numbers that sum to 0 in a given list of numbers.\n",
    "\n",
    "Input: [12, -7, 3, -89, 14, 4, -78, -1, 2, 7]\n",
    "Output:\n",
    "[1, 2, 5]\n",
    "Input: [1, 2, 3, 4, 5, 6, -7]\n",
    "Output:\n",
    "[2, 3, 6]"
   ]
  },
  {
   "cell_type": "code",
   "execution_count": 33,
   "id": "8825b2d3-dd0d-4d4f-9581-e65bd1fefcb4",
   "metadata": {},
   "outputs": [
    {
     "name": "stdout",
     "output_type": "stream",
     "text": [
      "[1, 2, 5]\n",
      "[0, 5, 6]\n"
     ]
    }
   ],
   "source": [
    "def sum_zero(l1):\n",
    "    for i in range(len(l1)):\n",
    "        for j in range(i + 1, len(l1)):\n",
    "            for k in range(j + 1, len(l1)):\n",
    "                if l1[i] + l1[j] + l1[k] == 0:\n",
    "                    return [i, j, k]\n",
    "    return []\n",
    "\n",
    "print(sum_zero([12, -7, 3, -89, 14, 4, -78, -1, 2, 7]))\n",
    "print(sum_zero([1, 2, 3, 4, 5, 6, -7]))"
   ]
  },
  {
   "cell_type": "markdown",
   "id": "fb216813-6454-4043-b79d-7de54e84657b",
   "metadata": {},
   "source": [
    "73. Write a Python program to find a substring in a given string that contains a vowel between two consonants.\n",
    "\n",
    "Input: Hello\n",
    "Output:\n",
    "Hel\n",
    "Input: Sandwhich\n",
    "Output:\n",
    "San\n",
    "Input: Python\n",
    "Output:\n",
    "hon"
   ]
  },
  {
   "cell_type": "code",
   "execution_count": 37,
   "id": "af57646d-9f29-496a-a0f8-e9c614d5ed19",
   "metadata": {},
   "outputs": [
    {
     "name": "stdout",
     "output_type": "stream",
     "text": [
      "Hel\n",
      "San\n",
      "hon\n"
     ]
    }
   ],
   "source": [
    "def vowel_bet_cons(string):\n",
    "    vowels = ['a','e','i','o','u','A','E','I','O','U']\n",
    "    for ind in range(1, len(string)):\n",
    "        if string[ind - 1] not in vowels and string[ind] in vowels and string[ind + 1] not in vowels:\n",
    "            return string[ind - 1: ind + 2]\n",
    "\n",
    "print(vowel_bet_cons('Hello'))\n",
    "print(vowel_bet_cons('Sandwhich'))\n",
    "print(vowel_bet_cons('Python'))"
   ]
  },
  {
   "cell_type": "markdown",
   "id": "3a531662-3a8d-461b-a910-1f4a60654aea",
   "metadata": {},
   "source": [
    "74. Write a Python program to find a string consisting of space-separated characters with given counts.\n",
    "\n",
    "Input: {'f': 1, 'o': 2}\n",
    "Output:\n",
    "f o o\n",
    "Input: {'a': 1, 'b': 1, 'c': 1}\n",
    "Output:\n",
    "a b c"
   ]
  },
  {
   "cell_type": "code",
   "execution_count": 43,
   "id": "94d767fb-4ce5-4ad4-b4ec-ab10c2be502b",
   "metadata": {},
   "outputs": [
    {
     "name": "stdout",
     "output_type": "stream",
     "text": [
      "f o o\n",
      "a b c\n"
     ]
    }
   ],
   "source": [
    "def space_separated(d):\n",
    "    text = []\n",
    "    for key, value in d.items():\n",
    "        for counts in range(value):\n",
    "            text.append(key)\n",
    "    return ' '.join(text)\n",
    "\n",
    "print(space_separated({'f':1, 'o':2}))\n",
    "print(space_separated({'a':1, 'b':1, 'c':1}))"
   ]
  },
  {
   "cell_type": "markdown",
   "id": "526e7fd9-a9e9-40cb-a0fd-3c26713c6a60",
   "metadata": {},
   "source": [
    "75. Write a Python program to reorder numbers from a given array in increasing/decreasing order based on whether the first plus last element is odd/even."
   ]
  },
  {
   "cell_type": "code",
   "execution_count": 46,
   "id": "5ad5174b-d5d2-44f1-b265-47ded3c1b91e",
   "metadata": {},
   "outputs": [
    {
     "name": "stdout",
     "output_type": "stream",
     "text": [
      "[3, 4, 7]\n",
      "[7, 4, 2]\n",
      "[1, 2, 4, 5, 6, 7, 8]\n",
      "[9, 7, 6, 5, 4, 2, 1]\n"
     ]
    }
   ],
   "source": [
    "def rearrange_num(l1):\n",
    "    if (l1[0] + l1[-1]) % 2 != 0:\n",
    "        return sorted(l1)\n",
    "    elif (l1[0] + l1[-1]) % 2 == 0:\n",
    "        return sorted(l1, reverse = True)\n",
    "\n",
    "print(rearrange_num([3, 7, 4]))\n",
    "print(rearrange_num([2, 7, 4]))\n",
    "print(rearrange_num([1, 5, 6, 7, 4, 2, 8]))\n",
    "print(rearrange_num([1, 5, 6, 7, 4, 2, 9]))"
   ]
  },
  {
   "cell_type": "markdown",
   "id": "abb7fa5a-3aaf-49e7-b658-fa7644e37378",
   "metadata": {},
   "source": [
    "76. Write a  Python program to find the index of the largest prime in the list and the sum of its digits.\n",
    "\n",
    "Input: [3, 7, 4]\n",
    "Output:\n",
    "[1, 7]\n",
    "Input: [3, 11, 7, 17, 19, 4]\n",
    "Output:\n",
    "[4, 10]\n",
    "Input: [23, 17, 201, 14, 10473, 43225, 421, 423, 11, 10, 2022, 342157]\n",
    "Output:\n",
    "[6, 7]"
   ]
  },
  {
   "cell_type": "code",
   "execution_count": 57,
   "id": "9b440fee-ffb6-4466-99d6-7efc51dd20e7",
   "metadata": {},
   "outputs": [
    {
     "name": "stdout",
     "output_type": "stream",
     "text": [
      "[1, 7]\n",
      "[4, 10]\n",
      "[6, 7]\n"
     ]
    }
   ],
   "source": [
    "def is_prime(num):\n",
    "    if num <= 1:\n",
    "        return False\n",
    "    for i in range(2, int(num ** 0.5) + 1):\n",
    "        if num % i == 0:\n",
    "            return False\n",
    "    return True\n",
    "\n",
    "def largest_prime(l1):\n",
    "    largest_prime = -1\n",
    "    largest_prime_index = -1\n",
    "    for index, num in enumerate(l1):\n",
    "        if is_prime(num) == True and num > largest_prime:\n",
    "            largest_prime = num\n",
    "            largest_prime_index = index\n",
    "    if largest_prime == -1:\n",
    "        return None\n",
    "    digit_sum = sum(int(digit) for digit in str(largest_prime))\n",
    "    return [largest_prime_index, digit_sum]\n",
    "        \n",
    "\n",
    "print(largest_prime([3,7,4]))\n",
    "print(largest_prime([3, 11, 7, 17, 19, 4]))\n",
    "print(largest_prime([23, 17, 201, 14, 10473, 43225, 421, 423, 11, 10, 2022, 342157]))"
   ]
  },
  {
   "cell_type": "markdown",
   "id": "057fc3e6-9fef-433a-82a4-acfe184e3eec",
   "metadata": {},
   "source": [
    "77. Write a Python program to convert GPAs to letter grades according to the following table:"
   ]
  },
  {
   "cell_type": "code",
   "execution_count": 61,
   "id": "894b8b27-ef9e-45fb-af58-2e6b753ac61b",
   "metadata": {},
   "outputs": [
    {
     "name": "stdout",
     "output_type": "stream",
     "text": [
      "['A+', 'A', 'A+']\n",
      "['F', 'F', 'A-', 'B+', 'B', 'B-', 'C+', 'C', 'F', 'F']\n"
     ]
    }
   ],
   "source": [
    "def gpa_to_grade(gpas):\n",
    "    grade = []\n",
    "    for gpa in gpas:\n",
    "        if 3.7 < gpa <= 4.0:\n",
    "            grade.append('A+')\n",
    "        elif 3.4 < gpa <= 3.7:\n",
    "            grade.append('A')\n",
    "        elif 3.0 < gpa <= 3.6:\n",
    "            grade.append('A-')\n",
    "        elif 2.7 < gpa <= 3.0:\n",
    "            grade.append('B+')\n",
    "        elif 2.4 < gpa <= 2.7:\n",
    "            grade.append('B')\n",
    "        elif 2.0 < gpa <= 2.4:\n",
    "            grade.append('B-')\n",
    "        elif 1.7 < gpa <= 2.0:\n",
    "            grade.append('C+')\n",
    "        elif 1.4 < gpa <= 1.7:\n",
    "            grade.append('C')\n",
    "        else:\n",
    "            grade.append('F')\n",
    "    return grade\n",
    "    \n",
    "print(gpa_to_grade([4.0, 3.5, 3.8]))\n",
    "print(gpa_to_grade([5.0, 4.7, 3.4, 3.0, 2.7, 2.4, 2.0, 1.7, 1.4, 0.0]))"
   ]
  },
  {
   "cell_type": "markdown",
   "id": "79da34f2-d9fb-40f6-bc93-b5aa846f0adc",
   "metadata": {},
   "source": [
    "78. Write a Python program to find the two closest distinct numbers in a given list of numbers.\n",
    "\n",
    "Input:\n",
    "[1.3, 5.24, 0.89, 21.0, 5.27, 1.3]\n",
    "Output:\n",
    "[5.24, 5.27]\n",
    "Input:\n",
    "[12.02, 20.3, 15.0, 19.0, 11.0, 14.99, 17.0, 17.0, 14.4, 16.8]\n",
    "Output:\n",
    "[14.99, 15.0]"
   ]
  },
  {
   "cell_type": "code",
   "execution_count": 65,
   "id": "63ddfd1a-f145-4a00-b2cf-cee3d6894157",
   "metadata": {},
   "outputs": [
    {
     "name": "stdout",
     "output_type": "stream",
     "text": [
      "[5.24, 5.27]\n",
      "[14.99, 15.0]\n"
     ]
    }
   ],
   "source": [
    "def closest_nums(l1):\n",
    "    l1 = sorted(set(l1))\n",
    "    min_difference = float('inf')\n",
    "    result = []\n",
    "    for i in range(len(l1) - 1):\n",
    "        diff = l1[i + 1] - l1[i]\n",
    "        if diff < min_difference:\n",
    "            min_difference = diff\n",
    "            result = [l1[i], l1[i + 1]]\n",
    "    return result\n",
    "\n",
    "print(closest_nums([1.3,5.24,0.89,21.0,5.27,1.3]))\n",
    "print(closest_nums([12.02, 20.3, 15.0, 19.0, 11.0, 14.99, 17.0, 17.0, 14.4, 16.8]))"
   ]
  },
  {
   "cell_type": "markdown",
   "id": "8ba857c5-e419-4106-9b15-fdd712503299",
   "metadata": {},
   "source": [
    "79. Write a Python program to find the largest negative and smallest positive numbers (or 0 if none)."
   ]
  },
  {
   "cell_type": "code",
   "execution_count": 72,
   "id": "97ae39ed-62a9-4f55-92c4-ef4320550153",
   "metadata": {},
   "outputs": [
    {
     "name": "stdout",
     "output_type": "stream",
     "text": [
      "[-6, 2]\n",
      "[-1, 0]\n",
      "[0, 1]\n",
      "[0, 0]\n"
     ]
    }
   ],
   "source": [
    "def largest_neg_smallest_pos(l1):\n",
    "    neg_list = [i for i in l1 if i < 0]\n",
    "    pos_list = [i for i in l1 if i > 0]\n",
    "    largest_neg = 0\n",
    "    smallest_pos = 0\n",
    "    if len(neg_list) != 0:\n",
    "        largest_neg = sorted(neg_list, reverse = True)[0]\n",
    "    if len(pos_list) != 0:\n",
    "        smallest_pos = sorted(pos_list)[0]\n",
    "    return [largest_neg, smallest_pos]\n",
    "\n",
    "print(largest_neg_smallest_pos([-12, -6, 300, -40, 2, 2, 3, 57, -50, -22, 12, 40, 9, 11, 18]))\n",
    "print(largest_neg_smallest_pos([-1, -2, -3, -4]))\n",
    "print(largest_neg_smallest_pos([1, 2, 3, 4]))\n",
    "print(largest_neg_smallest_pos([]))"
   ]
  },
  {
   "cell_type": "markdown",
   "id": "5a85076f-f24e-4c28-857f-e01f1a3aefe2",
   "metadata": {},
   "source": [
    "80. Write a Python program to round each float in a given list of numbers up to the next integer and return the running total of the integer squares."
   ]
  },
  {
   "cell_type": "code",
   "execution_count": 73,
   "id": "b8befc7f-9b97-46ed-b069-72a0210e4c84",
   "metadata": {},
   "outputs": [
    {
     "name": "stdout",
     "output_type": "stream",
     "text": [
      "[9, 25, 74, 83, 119]\n",
      "[91204, 252808, 253337, 183714223444221, 183714327525025, 283714327525025]\n"
     ]
    }
   ],
   "source": [
    "import math\n",
    "\n",
    "def square_of_round(l1):\n",
    "    running_total = 0\n",
    "    result = []\n",
    "    for num in l1:\n",
    "        rounded_num = math.ceil(num)\n",
    "        running_total += rounded_num ** 2\n",
    "        result.append(running_total)\n",
    "    return result\n",
    "\n",
    "print(square_of_round([2.6, 3.5, 6.7, 2.3, 5.6]))\n",
    "print(square_of_round([301.1, 401.4, -23.1, 13554122.0, 10201.0101, 10000000.0]))"
   ]
  },
  {
   "cell_type": "markdown",
   "id": "ea9c87f4-f305-4afd-ac21-3df4a20624ca",
   "metadata": {},
   "source": [
    "81. Write a Python program to calculate the average of the numbers a through b (b not included) rounded to the nearest integer, in binary (or -1 if there are no such numbers)."
   ]
  },
  {
   "cell_type": "code",
   "execution_count": 3,
   "id": "89f893b1-def1-44cb-a6b0-a077f9f2a906",
   "metadata": {},
   "outputs": [
    {
     "name": "stdout",
     "output_type": "stream",
     "text": [
      "0b101\n",
      "0b1111\n"
     ]
    }
   ],
   "source": [
    "import math\n",
    "\n",
    "def average_range(a, b):\n",
    "    sum = 0\n",
    "    count = 0\n",
    "    for i in range(a,b):\n",
    "        count += 1\n",
    "        sum += i\n",
    "    average = sum / count\n",
    "    rounded_avg = math.ceil(average)\n",
    "    return bin(rounded_avg)\n",
    "\n",
    "print(average_range(4, 7))\n",
    "print(average_range(11, 19))"
   ]
  },
  {
   "cell_type": "markdown",
   "id": "4e605231-69bd-4bf3-9ce7-92f319c01f7b",
   "metadata": {},
   "source": [
    "82. Write a Python program to find the sublist of numbers from a given list of numbers with only odd digits in increasing order."
   ]
  },
  {
   "cell_type": "code",
   "execution_count": 6,
   "id": "01ceaa4c-7e36-4d10-9559-29367d260d9e",
   "metadata": {},
   "outputs": [
    {
     "name": "stdout",
     "output_type": "stream",
     "text": [
      "[1, 3, 39, 79]\n",
      "[1, 11, 31, 57, 77, 93]\n",
      "[-3, -1, 3, 9]\n"
     ]
    }
   ],
   "source": [
    "def increasing_sublist(l1):\n",
    "    odd_list = [i for i in l1 if i % 2 != 0]\n",
    "    return sorted(odd_list)\n",
    "\n",
    "print(increasing_sublist([1, 3, 79, 10, 4, 2, 39]))\n",
    "print(increasing_sublist([11, 31, 40, 68, 77, 93, 48, 1, 57]))\n",
    "print(increasing_sublist([9, -2, 3, 4, -2, 0, 2, -3, 8, -1]))\n"
   ]
  },
  {
   "cell_type": "markdown",
   "id": "13ddbb31-bee7-43ad-93f1-d717e633fe12",
   "metadata": {},
   "source": [
    "83. A string is happy if every three consecutive characters are distinct. Write a Python program to find two indices associated with a given string being unhappy."
   ]
  },
  {
   "cell_type": "code",
   "execution_count": 7,
   "id": "fc174eb4-fb41-4772-9bac-3eb4eda44157",
   "metadata": {},
   "outputs": [
    {
     "name": "stdout",
     "output_type": "stream",
     "text": [
      "None\n",
      "[4, 5]\n",
      "None\n",
      "[3, 4]\n"
     ]
    }
   ],
   "source": [
    "def unhappy_string(text):\n",
    "    for i in range(len(text) - 2):\n",
    "        if text[i] == text[i + 1]:\n",
    "            return [i, i + 1]\n",
    "        if text[i] == text[i + 2]:\n",
    "            return [i, i + 2]\n",
    "\n",
    "print(unhappy_string('Python'))\n",
    "print(unhappy_string('Unhappy'))\n",
    "print(unhappy_string('Find'))\n",
    "print(unhappy_string('Street'))"
   ]
  },
  {
   "cell_type": "markdown",
   "id": "6ff4157c-3e8a-4057-8f42-1c54d90702a2",
   "metadata": {},
   "source": [
    "84. Write a Python program to find the index of the matching parentheses for each character in a given string."
   ]
  },
  {
   "cell_type": "code",
   "execution_count": 8,
   "id": "0df83075-0e4d-4b89-b5cf-ba10140fc4b1",
   "metadata": {},
   "outputs": [
    {
     "name": "stdout",
     "output_type": "stream",
     "text": [
      "[1, 0, 5, 4, 3, 2]\n",
      "[1, 0, 3, 2, 5, 4]\n",
      "[5, 4, 3, 2, 1, 0]\n"
     ]
    }
   ],
   "source": [
    "def para_match(para):\n",
    "    a = list(para)\n",
    "    stack = []\n",
    "    for i, c in enumerate(a):\n",
    "        if c == \"(\":\n",
    "            stack.append(i)\n",
    "        else:\n",
    "            a[stack[-1]] = i\n",
    "            a[i] = stack.pop()\n",
    "    return a\n",
    "\n",
    "print(para_match('()(())'))\n",
    "print(para_match('()()()'))\n",
    "print(para_match('((()))'))"
   ]
  },
  {
   "cell_type": "markdown",
   "id": "12d94e5b-dd15-4251-902c-e301d0ff1206",
   "metadata": {},
   "source": [
    "85. Write a Python program to find an increasing sequence consisting of the elements of the original list."
   ]
  },
  {
   "cell_type": "code",
   "execution_count": 9,
   "id": "74f1bbeb-6770-4e86-875e-e73b58157371",
   "metadata": {},
   "outputs": [
    {
     "name": "stdout",
     "output_type": "stream",
     "text": [
      "[1, 2, 3, 4, 10, 39, 79]\n",
      "[1, 11, 31, 40, 48, 57, 68, 77, 93]\n",
      "[-3, -2, -2, -1, 0, 2, 3, 4, 8, 9]\n"
     ]
    }
   ],
   "source": [
    "def increasing_seq(l1):\n",
    "    return sorted(l1)\n",
    "\n",
    "print(increasing_seq([1, 3, 79, 10, 4, 2, 39]))\n",
    "print(increasing_seq([11, 31, 40, 68, 77, 93, 48, 1, 57]))\n",
    "print(increasing_seq([9, -2, 3, 4, -2, 0, 2, -3, 8, -1]))"
   ]
  },
  {
   "cell_type": "markdown",
   "id": "2ba99089-1c89-4df7-bca0-dde13f893062",
   "metadata": {},
   "source": [
    "86. Write a Python program to find the vowels from each of the original texts (y counts as a vowel at the end of the word) from a given list of strings."
   ]
  },
  {
   "cell_type": "code",
   "execution_count": 18,
   "id": "47223072-896e-48b0-9219-12bd32ae178c",
   "metadata": {},
   "outputs": [
    {
     "name": "stdout",
     "output_type": "stream",
     "text": [
      "['eoue', 'o', 'aa', '']\n",
      "['ay', 'auy', 'aeeay', 'aaey', 'aoeey']\n"
     ]
    }
   ],
   "source": [
    "def vowel_check(l1):\n",
    "    result = []\n",
    "    vowels = ['a','e','i','o','u','A','E','I','O','U']\n",
    "    for word in l1:\n",
    "        vowel_string = ''\n",
    "        for char in word:\n",
    "            if char in vowels:\n",
    "                vowel_string += char\n",
    "        if word[-1] == 'y' or word[-1] == 'Y':\n",
    "            vowel_string += word[-1]\n",
    "        result.append(vowel_string)\n",
    "    return result\n",
    "\n",
    "print(vowel_check(['w3resource', 'Python', 'Java', 'C++']))\n",
    "print(vowel_check(['ably', 'abruptly', 'abecedary', 'apparently', 'acknowledgedly']))"
   ]
  },
  {
   "cell_type": "markdown",
   "id": "7992b7c6-b6a5-47fd-967e-f1f01ec709fb",
   "metadata": {},
   "source": [
    "87. Write a Python program to find a valid substring of a given string that contains matching brackets, at least one of which is nested."
   ]
  },
  {
   "cell_type": "code",
   "execution_count": 20,
   "id": "f915ab3b-1c19-40a8-94d7-28e2d9d55fc2",
   "metadata": {},
   "outputs": [
    {
     "name": "stdout",
     "output_type": "stream",
     "text": [
      "[[]]\n",
      "[[][][][]]\n"
     ]
    }
   ],
   "source": [
    "def bracket_match(brackets):\n",
    "    import re\n",
    "    return re.search(r\"\\[(\\[\\])+\\]\", brackets).group(0)\n",
    "\n",
    "print(bracket_match(']][][[]]]'))\n",
    "print(bracket_match(']]]]]]]]]]]]]]]]][][][][]]]]]]]]]]][[[][[][[[[[][][][]][[[[[[[[[[[[[[[[[['))"
   ]
  },
  {
   "cell_type": "markdown",
   "id": "97d4337c-6997-45c4-9a40-6ce6761dc37f",
   "metadata": {},
   "source": [
    "88. Write a Python program to find an integer (n >= 0) with the given number of even and odd digits."
   ]
  },
  {
   "cell_type": "code",
   "execution_count": 21,
   "id": "88304ef1-d92b-4bae-a3df-f5130022cac8",
   "metadata": {},
   "outputs": [
    {
     "name": "stdout",
     "output_type": "stream",
     "text": [
      "22333\n",
      "22223333333\n"
     ]
    }
   ],
   "source": [
    "def int_digit(evens, odds):\n",
    "    return int('2' * evens + '3' * odds)\n",
    "\n",
    "print(int_digit(2, 3))\n",
    "print(int_digit(4, 7))"
   ]
  },
  {
   "cell_type": "markdown",
   "id": "f4f98618-64fe-4667-a0e7-de9252b231d3",
   "metadata": {},
   "source": [
    "89. Write a Python program to find all integers <= 1000 that are the product of exactly three primes. Each integer should be represented as a list of its three prime factors."
   ]
  },
  {
   "cell_type": "code",
   "execution_count": 27,
   "id": "dd7de50e-d635-4241-802d-4a7252d7edb4",
   "metadata": {},
   "outputs": [
    {
     "name": "stdout",
     "output_type": "stream",
     "text": [
      "[[2, 2, 2]]\n",
      "[[2, 2, 2], [2, 2, 3], [2, 2, 5], [2, 2, 7], [2, 2, 11], [2, 3, 2], [2, 3, 3], [2, 3, 5], [2, 3, 7], [2, 5, 2], [2, 5, 3], [2, 5, 5], [2, 7, 2], [2, 7, 3], [2, 11, 2], [3, 2, 2], [3, 2, 3], [3, 2, 5], [3, 2, 7], [3, 3, 2], [3, 3, 3], [3, 3, 5], [3, 5, 2], [3, 5, 3], [3, 7, 2], [5, 2, 2], [5, 2, 3], [5, 2, 5], [5, 3, 2], [5, 3, 3], [5, 5, 2], [7, 2, 2], [7, 2, 3], [7, 3, 2], [11, 2, 2]]\n",
      "[[2, 2, 2], [2, 2, 3], [2, 2, 5], [2, 2, 7], [2, 2, 11], [2, 2, 13], [2, 2, 17], [2, 2, 19], [2, 2, 23], [2, 2, 29], [2, 2, 31], [2, 2, 37], [2, 2, 41], [2, 2, 43], [2, 2, 47], [2, 2, 53], [2, 2, 59], [2, 2, 61], [2, 2, 67], [2, 2, 71], [2, 2, 73], [2, 2, 79], [2, 2, 83], [2, 2, 89], [2, 2, 97], [2, 2, 101], [2, 2, 103], [2, 2, 107], [2, 2, 109], [2, 2, 113], [2, 2, 127], [2, 2, 131], [2, 2, 137], [2, 2, 139], [2, 2, 149], [2, 2, 151], [2, 2, 157], [2, 2, 163], [2, 2, 167], [2, 2, 173], [2, 2, 179], [2, 2, 181], [2, 2, 191], [2, 2, 193], [2, 2, 197], [2, 2, 199], [2, 2, 211], [2, 2, 223], [2, 2, 227], [2, 2, 229], [2, 2, 233], [2, 2, 239], [2, 2, 241], [2, 3, 2], [2, 3, 3], [2, 3, 5], [2, 3, 7], [2, 3, 11], [2, 3, 13], [2, 3, 17], [2, 3, 19], [2, 3, 23], [2, 3, 29], [2, 3, 31], [2, 3, 37], [2, 3, 41], [2, 3, 43], [2, 3, 47], [2, 3, 53], [2, 3, 59], [2, 3, 61], [2, 3, 67], [2, 3, 71], [2, 3, 73], [2, 3, 79], [2, 3, 83], [2, 3, 89], [2, 3, 97], [2, 3, 101], [2, 3, 103], [2, 3, 107], [2, 3, 109], [2, 3, 113], [2, 3, 127], [2, 3, 131], [2, 3, 137], [2, 3, 139], [2, 3, 149], [2, 3, 151], [2, 3, 157], [2, 3, 163], [2, 5, 2], [2, 5, 3], [2, 5, 5], [2, 5, 7], [2, 5, 11], [2, 5, 13], [2, 5, 17], [2, 5, 19], [2, 5, 23], [2, 5, 29], [2, 5, 31], [2, 5, 37], [2, 5, 41], [2, 5, 43], [2, 5, 47], [2, 5, 53], [2, 5, 59], [2, 5, 61], [2, 5, 67], [2, 5, 71], [2, 5, 73], [2, 5, 79], [2, 5, 83], [2, 5, 89], [2, 5, 97], [2, 7, 2], [2, 7, 3], [2, 7, 5], [2, 7, 7], [2, 7, 11], [2, 7, 13], [2, 7, 17], [2, 7, 19], [2, 7, 23], [2, 7, 29], [2, 7, 31], [2, 7, 37], [2, 7, 41], [2, 7, 43], [2, 7, 47], [2, 7, 53], [2, 7, 59], [2, 7, 61], [2, 7, 67], [2, 7, 71], [2, 11, 2], [2, 11, 3], [2, 11, 5], [2, 11, 7], [2, 11, 11], [2, 11, 13], [2, 11, 17], [2, 11, 19], [2, 11, 23], [2, 11, 29], [2, 11, 31], [2, 11, 37], [2, 11, 41], [2, 11, 43], [2, 13, 2], [2, 13, 3], [2, 13, 5], [2, 13, 7], [2, 13, 11], [2, 13, 13], [2, 13, 17], [2, 13, 19], [2, 13, 23], [2, 13, 29], [2, 13, 31], [2, 13, 37], [2, 17, 2], [2, 17, 3], [2, 17, 5], [2, 17, 7], [2, 17, 11], [2, 17, 13], [2, 17, 17], [2, 17, 19], [2, 17, 23], [2, 17, 29], [2, 19, 2], [2, 19, 3], [2, 19, 5], [2, 19, 7], [2, 19, 11], [2, 19, 13], [2, 19, 17], [2, 19, 19], [2, 19, 23], [2, 23, 2], [2, 23, 3], [2, 23, 5], [2, 23, 7], [2, 23, 11], [2, 23, 13], [2, 23, 17], [2, 23, 19], [2, 29, 2], [2, 29, 3], [2, 29, 5], [2, 29, 7], [2, 29, 11], [2, 29, 13], [2, 29, 17], [2, 31, 2], [2, 31, 3], [2, 31, 5], [2, 31, 7], [2, 31, 11], [2, 31, 13], [2, 37, 2], [2, 37, 3], [2, 37, 5], [2, 37, 7], [2, 37, 11], [2, 37, 13], [2, 41, 2], [2, 41, 3], [2, 41, 5], [2, 41, 7], [2, 41, 11], [2, 43, 2], [2, 43, 3], [2, 43, 5], [2, 43, 7], [2, 43, 11], [2, 47, 2], [2, 47, 3], [2, 47, 5], [2, 47, 7], [2, 53, 2], [2, 53, 3], [2, 53, 5], [2, 53, 7], [2, 59, 2], [2, 59, 3], [2, 59, 5], [2, 59, 7], [2, 61, 2], [2, 61, 3], [2, 61, 5], [2, 61, 7], [2, 67, 2], [2, 67, 3], [2, 67, 5], [2, 67, 7], [2, 71, 2], [2, 71, 3], [2, 71, 5], [2, 71, 7], [2, 73, 2], [2, 73, 3], [2, 73, 5], [2, 79, 2], [2, 79, 3], [2, 79, 5], [2, 83, 2], [2, 83, 3], [2, 83, 5], [2, 89, 2], [2, 89, 3], [2, 89, 5], [2, 97, 2], [2, 97, 3], [2, 97, 5], [2, 101, 2], [2, 101, 3], [2, 103, 2], [2, 103, 3], [2, 107, 2], [2, 107, 3], [2, 109, 2], [2, 109, 3], [2, 113, 2], [2, 113, 3], [2, 127, 2], [2, 127, 3], [2, 131, 2], [2, 131, 3], [2, 137, 2], [2, 137, 3], [2, 139, 2], [2, 139, 3], [2, 149, 2], [2, 149, 3], [2, 151, 2], [2, 151, 3], [2, 157, 2], [2, 157, 3], [2, 163, 2], [2, 163, 3], [2, 167, 2], [2, 173, 2], [2, 179, 2], [2, 181, 2], [2, 191, 2], [2, 193, 2], [2, 197, 2], [2, 199, 2], [2, 211, 2], [2, 223, 2], [2, 227, 2], [2, 229, 2], [2, 233, 2], [2, 239, 2], [2, 241, 2], [3, 2, 2], [3, 2, 3], [3, 2, 5], [3, 2, 7], [3, 2, 11], [3, 2, 13], [3, 2, 17], [3, 2, 19], [3, 2, 23], [3, 2, 29], [3, 2, 31], [3, 2, 37], [3, 2, 41], [3, 2, 43], [3, 2, 47], [3, 2, 53], [3, 2, 59], [3, 2, 61], [3, 2, 67], [3, 2, 71], [3, 2, 73], [3, 2, 79], [3, 2, 83], [3, 2, 89], [3, 2, 97], [3, 2, 101], [3, 2, 103], [3, 2, 107], [3, 2, 109], [3, 2, 113], [3, 2, 127], [3, 2, 131], [3, 2, 137], [3, 2, 139], [3, 2, 149], [3, 2, 151], [3, 2, 157], [3, 2, 163], [3, 3, 2], [3, 3, 3], [3, 3, 5], [3, 3, 7], [3, 3, 11], [3, 3, 13], [3, 3, 17], [3, 3, 19], [3, 3, 23], [3, 3, 29], [3, 3, 31], [3, 3, 37], [3, 3, 41], [3, 3, 43], [3, 3, 47], [3, 3, 53], [3, 3, 59], [3, 3, 61], [3, 3, 67], [3, 3, 71], [3, 3, 73], [3, 3, 79], [3, 3, 83], [3, 3, 89], [3, 3, 97], [3, 3, 101], [3, 3, 103], [3, 3, 107], [3, 3, 109], [3, 5, 2], [3, 5, 3], [3, 5, 5], [3, 5, 7], [3, 5, 11], [3, 5, 13], [3, 5, 17], [3, 5, 19], [3, 5, 23], [3, 5, 29], [3, 5, 31], [3, 5, 37], [3, 5, 41], [3, 5, 43], [3, 5, 47], [3, 5, 53], [3, 5, 59], [3, 5, 61], [3, 7, 2], [3, 7, 3], [3, 7, 5], [3, 7, 7], [3, 7, 11], [3, 7, 13], [3, 7, 17], [3, 7, 19], [3, 7, 23], [3, 7, 29], [3, 7, 31], [3, 7, 37], [3, 7, 41], [3, 7, 43], [3, 7, 47], [3, 11, 2], [3, 11, 3], [3, 11, 5], [3, 11, 7], [3, 11, 11], [3, 11, 13], [3, 11, 17], [3, 11, 19], [3, 11, 23], [3, 11, 29], [3, 13, 2], [3, 13, 3], [3, 13, 5], [3, 13, 7], [3, 13, 11], [3, 13, 13], [3, 13, 17], [3, 13, 19], [3, 13, 23], [3, 17, 2], [3, 17, 3], [3, 17, 5], [3, 17, 7], [3, 17, 11], [3, 17, 13], [3, 17, 17], [3, 17, 19], [3, 19, 2], [3, 19, 3], [3, 19, 5], [3, 19, 7], [3, 19, 11], [3, 19, 13], [3, 19, 17], [3, 23, 2], [3, 23, 3], [3, 23, 5], [3, 23, 7], [3, 23, 11], [3, 23, 13], [3, 29, 2], [3, 29, 3], [3, 29, 5], [3, 29, 7], [3, 29, 11], [3, 31, 2], [3, 31, 3], [3, 31, 5], [3, 31, 7], [3, 37, 2], [3, 37, 3], [3, 37, 5], [3, 37, 7], [3, 41, 2], [3, 41, 3], [3, 41, 5], [3, 41, 7], [3, 43, 2], [3, 43, 3], [3, 43, 5], [3, 43, 7], [3, 47, 2], [3, 47, 3], [3, 47, 5], [3, 47, 7], [3, 53, 2], [3, 53, 3], [3, 53, 5], [3, 59, 2], [3, 59, 3], [3, 59, 5], [3, 61, 2], [3, 61, 3], [3, 61, 5], [3, 67, 2], [3, 67, 3], [3, 71, 2], [3, 71, 3], [3, 73, 2], [3, 73, 3], [3, 79, 2], [3, 79, 3], [3, 83, 2], [3, 83, 3], [3, 89, 2], [3, 89, 3], [3, 97, 2], [3, 97, 3], [3, 101, 2], [3, 101, 3], [3, 103, 2], [3, 103, 3], [3, 107, 2], [3, 107, 3], [3, 109, 2], [3, 109, 3], [3, 113, 2], [3, 127, 2], [3, 131, 2], [3, 137, 2], [3, 139, 2], [3, 149, 2], [3, 151, 2], [3, 157, 2], [3, 163, 2], [5, 2, 2], [5, 2, 3], [5, 2, 5], [5, 2, 7], [5, 2, 11], [5, 2, 13], [5, 2, 17], [5, 2, 19], [5, 2, 23], [5, 2, 29], [5, 2, 31], [5, 2, 37], [5, 2, 41], [5, 2, 43], [5, 2, 47], [5, 2, 53], [5, 2, 59], [5, 2, 61], [5, 2, 67], [5, 2, 71], [5, 2, 73], [5, 2, 79], [5, 2, 83], [5, 2, 89], [5, 2, 97], [5, 3, 2], [5, 3, 3], [5, 3, 5], [5, 3, 7], [5, 3, 11], [5, 3, 13], [5, 3, 17], [5, 3, 19], [5, 3, 23], [5, 3, 29], [5, 3, 31], [5, 3, 37], [5, 3, 41], [5, 3, 43], [5, 3, 47], [5, 3, 53], [5, 3, 59], [5, 3, 61], [5, 5, 2], [5, 5, 3], [5, 5, 5], [5, 5, 7], [5, 5, 11], [5, 5, 13], [5, 5, 17], [5, 5, 19], [5, 5, 23], [5, 5, 29], [5, 5, 31], [5, 5, 37], [5, 7, 2], [5, 7, 3], [5, 7, 5], [5, 7, 7], [5, 7, 11], [5, 7, 13], [5, 7, 17], [5, 7, 19], [5, 7, 23], [5, 11, 2], [5, 11, 3], [5, 11, 5], [5, 11, 7], [5, 11, 11], [5, 11, 13], [5, 11, 17], [5, 13, 2], [5, 13, 3], [5, 13, 5], [5, 13, 7], [5, 13, 11], [5, 13, 13], [5, 17, 2], [5, 17, 3], [5, 17, 5], [5, 17, 7], [5, 17, 11], [5, 19, 2], [5, 19, 3], [5, 19, 5], [5, 19, 7], [5, 23, 2], [5, 23, 3], [5, 23, 5], [5, 23, 7], [5, 29, 2], [5, 29, 3], [5, 29, 5], [5, 31, 2], [5, 31, 3], [5, 31, 5], [5, 37, 2], [5, 37, 3], [5, 37, 5], [5, 41, 2], [5, 41, 3], [5, 43, 2], [5, 43, 3], [5, 47, 2], [5, 47, 3], [5, 53, 2], [5, 53, 3], [5, 59, 2], [5, 59, 3], [5, 61, 2], [5, 61, 3], [5, 67, 2], [5, 71, 2], [5, 73, 2], [5, 79, 2], [5, 83, 2], [5, 89, 2], [5, 97, 2], [7, 2, 2], [7, 2, 3], [7, 2, 5], [7, 2, 7], [7, 2, 11], [7, 2, 13], [7, 2, 17], [7, 2, 19], [7, 2, 23], [7, 2, 29], [7, 2, 31], [7, 2, 37], [7, 2, 41], [7, 2, 43], [7, 2, 47], [7, 2, 53], [7, 2, 59], [7, 2, 61], [7, 2, 67], [7, 2, 71], [7, 3, 2], [7, 3, 3], [7, 3, 5], [7, 3, 7], [7, 3, 11], [7, 3, 13], [7, 3, 17], [7, 3, 19], [7, 3, 23], [7, 3, 29], [7, 3, 31], [7, 3, 37], [7, 3, 41], [7, 3, 43], [7, 3, 47], [7, 5, 2], [7, 5, 3], [7, 5, 5], [7, 5, 7], [7, 5, 11], [7, 5, 13], [7, 5, 17], [7, 5, 19], [7, 5, 23], [7, 7, 2], [7, 7, 3], [7, 7, 5], [7, 7, 7], [7, 7, 11], [7, 7, 13], [7, 7, 17], [7, 7, 19], [7, 11, 2], [7, 11, 3], [7, 11, 5], [7, 11, 7], [7, 11, 11], [7, 13, 2], [7, 13, 3], [7, 13, 5], [7, 13, 7], [7, 17, 2], [7, 17, 3], [7, 17, 5], [7, 17, 7], [7, 19, 2], [7, 19, 3], [7, 19, 5], [7, 19, 7], [7, 23, 2], [7, 23, 3], [7, 23, 5], [7, 29, 2], [7, 29, 3], [7, 31, 2], [7, 31, 3], [7, 37, 2], [7, 37, 3], [7, 41, 2], [7, 41, 3], [7, 43, 2], [7, 43, 3], [7, 47, 2], [7, 47, 3], [7, 53, 2], [7, 59, 2], [7, 61, 2], [7, 67, 2], [7, 71, 2], [11, 2, 2], [11, 2, 3], [11, 2, 5], [11, 2, 7], [11, 2, 11], [11, 2, 13], [11, 2, 17], [11, 2, 19], [11, 2, 23], [11, 2, 29], [11, 2, 31], [11, 2, 37], [11, 2, 41], [11, 2, 43], [11, 3, 2], [11, 3, 3], [11, 3, 5], [11, 3, 7], [11, 3, 11], [11, 3, 13], [11, 3, 17], [11, 3, 19], [11, 3, 23], [11, 3, 29], [11, 5, 2], [11, 5, 3], [11, 5, 5], [11, 5, 7], [11, 5, 11], [11, 5, 13], [11, 5, 17], [11, 7, 2], [11, 7, 3], [11, 7, 5], [11, 7, 7], [11, 7, 11], [11, 11, 2], [11, 11, 3], [11, 11, 5], [11, 11, 7], [11, 13, 2], [11, 13, 3], [11, 13, 5], [11, 17, 2], [11, 17, 3], [11, 17, 5], [11, 19, 2], [11, 19, 3], [11, 23, 2], [11, 23, 3], [11, 29, 2], [11, 29, 3], [11, 31, 2], [11, 37, 2], [11, 41, 2], [11, 43, 2], [13, 2, 2], [13, 2, 3], [13, 2, 5], [13, 2, 7], [13, 2, 11], [13, 2, 13], [13, 2, 17], [13, 2, 19], [13, 2, 23], [13, 2, 29], [13, 2, 31], [13, 2, 37], [13, 3, 2], [13, 3, 3], [13, 3, 5], [13, 3, 7], [13, 3, 11], [13, 3, 13], [13, 3, 17], [13, 3, 19], [13, 3, 23], [13, 5, 2], [13, 5, 3], [13, 5, 5], [13, 5, 7], [13, 5, 11], [13, 5, 13], [13, 7, 2], [13, 7, 3], [13, 7, 5], [13, 7, 7], [13, 11, 2], [13, 11, 3], [13, 11, 5], [13, 13, 2], [13, 13, 3], [13, 13, 5], [13, 17, 2], [13, 17, 3], [13, 19, 2], [13, 19, 3], [13, 23, 2], [13, 23, 3], [13, 29, 2], [13, 31, 2], [13, 37, 2], [17, 2, 2], [17, 2, 3], [17, 2, 5], [17, 2, 7], [17, 2, 11], [17, 2, 13], [17, 2, 17], [17, 2, 19], [17, 2, 23], [17, 2, 29], [17, 3, 2], [17, 3, 3], [17, 3, 5], [17, 3, 7], [17, 3, 11], [17, 3, 13], [17, 3, 17], [17, 3, 19], [17, 5, 2], [17, 5, 3], [17, 5, 5], [17, 5, 7], [17, 5, 11], [17, 7, 2], [17, 7, 3], [17, 7, 5], [17, 7, 7], [17, 11, 2], [17, 11, 3], [17, 11, 5], [17, 13, 2], [17, 13, 3], [17, 17, 2], [17, 17, 3], [17, 19, 2], [17, 19, 3], [17, 23, 2], [17, 29, 2], [19, 2, 2], [19, 2, 3], [19, 2, 5], [19, 2, 7], [19, 2, 11], [19, 2, 13], [19, 2, 17], [19, 2, 19], [19, 2, 23], [19, 3, 2], [19, 3, 3], [19, 3, 5], [19, 3, 7], [19, 3, 11], [19, 3, 13], [19, 3, 17], [19, 5, 2], [19, 5, 3], [19, 5, 5], [19, 5, 7], [19, 7, 2], [19, 7, 3], [19, 7, 5], [19, 7, 7], [19, 11, 2], [19, 11, 3], [19, 13, 2], [19, 13, 3], [19, 17, 2], [19, 17, 3], [19, 19, 2], [19, 23, 2], [23, 2, 2], [23, 2, 3], [23, 2, 5], [23, 2, 7], [23, 2, 11], [23, 2, 13], [23, 2, 17], [23, 2, 19], [23, 3, 2], [23, 3, 3], [23, 3, 5], [23, 3, 7], [23, 3, 11], [23, 3, 13], [23, 5, 2], [23, 5, 3], [23, 5, 5], [23, 5, 7], [23, 7, 2], [23, 7, 3], [23, 7, 5], [23, 11, 2], [23, 11, 3], [23, 13, 2], [23, 13, 3], [23, 17, 2], [23, 19, 2], [29, 2, 2], [29, 2, 3], [29, 2, 5], [29, 2, 7], [29, 2, 11], [29, 2, 13], [29, 2, 17], [29, 3, 2], [29, 3, 3], [29, 3, 5], [29, 3, 7], [29, 3, 11], [29, 5, 2], [29, 5, 3], [29, 5, 5], [29, 7, 2], [29, 7, 3], [29, 11, 2], [29, 11, 3], [29, 13, 2], [29, 17, 2], [31, 2, 2], [31, 2, 3], [31, 2, 5], [31, 2, 7], [31, 2, 11], [31, 2, 13], [31, 3, 2], [31, 3, 3], [31, 3, 5], [31, 3, 7], [31, 5, 2], [31, 5, 3], [31, 5, 5], [31, 7, 2], [31, 7, 3], [31, 11, 2], [31, 13, 2], [37, 2, 2], [37, 2, 3], [37, 2, 5], [37, 2, 7], [37, 2, 11], [37, 2, 13], [37, 3, 2], [37, 3, 3], [37, 3, 5], [37, 3, 7], [37, 5, 2], [37, 5, 3], [37, 5, 5], [37, 7, 2], [37, 7, 3], [37, 11, 2], [37, 13, 2], [41, 2, 2], [41, 2, 3], [41, 2, 5], [41, 2, 7], [41, 2, 11], [41, 3, 2], [41, 3, 3], [41, 3, 5], [41, 3, 7], [41, 5, 2], [41, 5, 3], [41, 7, 2], [41, 7, 3], [41, 11, 2], [43, 2, 2], [43, 2, 3], [43, 2, 5], [43, 2, 7], [43, 2, 11], [43, 3, 2], [43, 3, 3], [43, 3, 5], [43, 3, 7], [43, 5, 2], [43, 5, 3], [43, 7, 2], [43, 7, 3], [43, 11, 2], [47, 2, 2], [47, 2, 3], [47, 2, 5], [47, 2, 7], [47, 3, 2], [47, 3, 3], [47, 3, 5], [47, 3, 7], [47, 5, 2], [47, 5, 3], [47, 7, 2], [47, 7, 3], [53, 2, 2], [53, 2, 3], [53, 2, 5], [53, 2, 7], [53, 3, 2], [53, 3, 3], [53, 3, 5], [53, 5, 2], [53, 5, 3], [53, 7, 2], [59, 2, 2], [59, 2, 3], [59, 2, 5], [59, 2, 7], [59, 3, 2], [59, 3, 3], [59, 3, 5], [59, 5, 2], [59, 5, 3], [59, 7, 2], [61, 2, 2], [61, 2, 3], [61, 2, 5], [61, 2, 7], [61, 3, 2], [61, 3, 3], [61, 3, 5], [61, 5, 2], [61, 5, 3], [61, 7, 2], [67, 2, 2], [67, 2, 3], [67, 2, 5], [67, 2, 7], [67, 3, 2], [67, 3, 3], [67, 5, 2], [67, 7, 2], [71, 2, 2], [71, 2, 3], [71, 2, 5], [71, 2, 7], [71, 3, 2], [71, 3, 3], [71, 5, 2], [71, 7, 2], [73, 2, 2], [73, 2, 3], [73, 2, 5], [73, 3, 2], [73, 3, 3], [73, 5, 2], [79, 2, 2], [79, 2, 3], [79, 2, 5], [79, 3, 2], [79, 3, 3], [79, 5, 2], [83, 2, 2], [83, 2, 3], [83, 2, 5], [83, 3, 2], [83, 3, 3], [83, 5, 2], [89, 2, 2], [89, 2, 3], [89, 2, 5], [89, 3, 2], [89, 3, 3], [89, 5, 2], [97, 2, 2], [97, 2, 3], [97, 2, 5], [97, 3, 2], [97, 3, 3], [97, 5, 2], [101, 2, 2], [101, 2, 3], [101, 3, 2], [101, 3, 3], [103, 2, 2], [103, 2, 3], [103, 3, 2], [103, 3, 3], [107, 2, 2], [107, 2, 3], [107, 3, 2], [107, 3, 3], [109, 2, 2], [109, 2, 3], [109, 3, 2], [109, 3, 3], [113, 2, 2], [113, 2, 3], [113, 3, 2], [127, 2, 2], [127, 2, 3], [127, 3, 2], [131, 2, 2], [131, 2, 3], [131, 3, 2], [137, 2, 2], [137, 2, 3], [137, 3, 2], [139, 2, 2], [139, 2, 3], [139, 3, 2], [149, 2, 2], [149, 2, 3], [149, 3, 2], [151, 2, 2], [151, 2, 3], [151, 3, 2], [157, 2, 2], [157, 2, 3], [157, 3, 2], [163, 2, 2], [163, 2, 3], [163, 3, 2], [167, 2, 2], [173, 2, 2], [179, 2, 2], [181, 2, 2], [191, 2, 2], [193, 2, 2], [197, 2, 2], [199, 2, 2], [211, 2, 2], [223, 2, 2], [227, 2, 2], [229, 2, 2], [233, 2, 2], [239, 2, 2], [241, 2, 2]]\n"
     ]
    }
   ],
   "source": [
    "def find_prod_of_three_prime(number):\n",
    "    prime_nums = [p for p in range(2, number) if all(p % sat != 0 for sat in range(2, p))]\n",
    "    return [[p, q, r] for p in prime_nums for q in prime_nums for r in prime_nums if p * q * r <= number]\n",
    "\n",
    "\n",
    "print(find_prod_of_three_prime(10))\n",
    "print(find_prod_of_three_prime(50))\n",
    "print(find_prod_of_three_prime(1000))"
   ]
  },
  {
   "cell_type": "markdown",
   "id": "85e406da-5c2d-47ae-b4ce-b80f7d4a1b52",
   "metadata": {},
   "source": [
    "90. For each triple of eaten, need, and stock, write a Python program to get a pair of total appetite and remaining."
   ]
  },
  {
   "cell_type": "code",
   "execution_count": 35,
   "id": "f629769b-932e-4e3e-9485-13e8ed12db7b",
   "metadata": {},
   "outputs": [
    {
     "name": "stdout",
     "output_type": "stream",
     "text": [
      "[[7, 1], [12, 13]]\n",
      "[[5, 15], [6, 0], [7, 2], [11, 4], [13, 97]]\n",
      "[[3, 1], [9, 1]]\n"
     ]
    }
   ],
   "source": [
    "def appetite_remaining(l1):\n",
    "    return [[a + min(b,c), max(0, c - b)] for a,b,c in l1]\n",
    "\n",
    "print(appetite_remaining([[2, 5, 6], [3, 9, 22]]))\n",
    "print(appetite_remaining([[2, 3, 18], [4, 9, 2], [2, 5, 7], [3, 8, 12], [4, 9, 106]]))\n",
    "print(appetite_remaining([[1, 2, 3], [4, 5, 6]]))"
   ]
  },
  {
   "cell_type": "markdown",
   "id": "98782e23-d972-4326-851f-25e62498b8b5",
   "metadata": {},
   "source": [
    "91. Write a Python program to find all n-digit integers that start or end with 2."
   ]
  },
  {
   "cell_type": "code",
   "execution_count": 36,
   "id": "d9ddf727-1135-4014-bcfd-0954d154a267",
   "metadata": {},
   "outputs": [
    {
     "name": "stdout",
     "output_type": "stream",
     "text": [
      "[2]\n",
      "[12, 20, 21, 22, 23, 24, 25, 26, 27, 28, 29, 32, 42, 52, 62, 72, 82, 92]\n",
      "[102, 112, 122, 132, 142, 152, 162, 172, 182, 192, 200, 201, 202, 203, 204, 205, 206, 207, 208, 209, 210, 211, 212, 213, 214, 215, 216, 217, 218, 219, 220, 221, 222, 223, 224, 225, 226, 227, 228, 229, 230, 231, 232, 233, 234, 235, 236, 237, 238, 239, 240, 241, 242, 243, 244, 245, 246, 247, 248, 249, 250, 251, 252, 253, 254, 255, 256, 257, 258, 259, 260, 261, 262, 263, 264, 265, 266, 267, 268, 269, 270, 271, 272, 273, 274, 275, 276, 277, 278, 279, 280, 281, 282, 283, 284, 285, 286, 287, 288, 289, 290, 291, 292, 293, 294, 295, 296, 297, 298, 299, 302, 312, 322, 332, 342, 352, 362, 372, 382, 392, 402, 412, 422, 432, 442, 452, 462, 472, 482, 492, 502, 512, 522, 532, 542, 552, 562, 572, 582, 592, 602, 612, 622, 632, 642, 652, 662, 672, 682, 692, 702, 712, 722, 732, 742, 752, 762, 772, 782, 792, 802, 812, 822, 832, 842, 852, 862, 872, 882, 892, 902, 912, 922, 932, 942, 952, 962, 972, 982, 992]\n"
     ]
    }
   ],
   "source": [
    "def digit_int_2(n):\n",
    "    result = []\n",
    "    for i in range(10 ** (n - 1), 10 ** n):\n",
    "        assert len(str(i)) == n\n",
    "        if str(i).startswith('2') or str(i).endswith('2'):\n",
    "            result.append(i)\n",
    "    return result\n",
    "\n",
    "print(digit_int_2(1))\n",
    "print(digit_int_2(2))\n",
    "print(digit_int_2(3))\n"
   ]
  },
  {
   "cell_type": "code",
   "execution_count": 41,
   "id": "b49cb265-f0c8-46f7-9ad5-07eac00736e1",
   "metadata": {},
   "outputs": [
    {
     "name": "stdout",
     "output_type": "stream",
     "text": [
      "[2, 5, 3, 6, 1, 4, 34]\n",
      "[0, 8, 2, 7, 2, 9, 1, 4, 3, 8]\n"
     ]
    }
   ],
   "source": [
    "def sort_every_other_ele(l1):\n",
    "    l_copy = l1.copy()\n",
    "    for i in range(len(l1)):\n",
    "        if i % 2 == 0:\n",
    "            for j in range(i + 1, len(l_copy), 2):\n",
    "                if l_copy[j] < l_copy[i]:\n",
    "                    swap(l_copy, i, j)\n",
    "    return l_copy\n",
    "\n",
    "def swap(l_copy, i, j):\n",
    "    temp = l_copy[i]\n",
    "    l_copy[i] = l_copy[j]\n",
    "    l_copy[j] = temp\n",
    "    \n",
    "print(sort_every_other_ele([2, 5, 6, 3, 1, 4, 34]))\n",
    "print(sort_every_other_ele([8, 0, 7, 2, 9, 4, 1, 2, 8, 3]))"
   ]
  },
  {
   "cell_type": "code",
   "execution_count": 42,
   "id": "ee0e5401-3e6f-47ba-a053-727337181f0d",
   "metadata": {},
   "outputs": [
    {
     "name": "stdout",
     "output_type": "stream",
     "text": [
      "Original list of numbers:\n",
      "[2, 5, 6, 3, 1, 4, 34]\n",
      "Keep every other element in place and otherwise sort the list:\n",
      "[1, 5, 2, 3, 6, 4, 34]\n",
      "\n",
      "Original list of numbers:\n",
      "[8, 0, 7, 2, 9, 4, 1, 2, 8, 3]\n",
      "Keep every other element in place and otherwise sort the list:\n",
      "[1, 0, 7, 2, 8, 4, 8, 2, 9, 3]\n"
     ]
    }
   ],
   "source": [
    "# Define a function named 'test' that takes a list of numbers 'nums' as a parameter\n",
    "def test(nums):\n",
    "    # Create a copy of the original list to avoid modifying the input list\n",
    "    li = nums.copy()    \n",
    "    \n",
    "    # Iterate through the elements of the list with even indices\n",
    "    for i in range(len(li)):\n",
    "        # Check if the current index is even\n",
    "        if i % 2 == 0: \n",
    "            # Iterate through the elements with even indices after the current index\n",
    "            for j in range(i + 2, len(li), 2):\n",
    "                # Check if the element at index 'j' is less than the element at index 'i'\n",
    "                if li[j] < li[i]:\n",
    "                    # Call the 'swap' function to swap elements at indices 'i' and 'j'\n",
    "                    swap(li, i, j)\n",
    "    \n",
    "    # Return the modified list\n",
    "    return li\n",
    "\n",
    "# Define a function named 'swap' that swaps elements at indices 'i' and 'j' in the given list 'li'\n",
    "def swap(li, i, j):\n",
    "    # Temporary variable to store the value at index 'i'\n",
    "    temp = li[i]\n",
    "    # Swap the values at indices 'i' and 'j'\n",
    "    li[i] = li[j]\n",
    "    li[j] = temp\n",
    "\n",
    "# Example 1\n",
    "nums1 = [2, 5, 6, 3, 1, 4, 34]\n",
    "print(\"Original list of numbers:\")\n",
    "print(nums1)\n",
    "print(\"Keep every other element in place and otherwise sort the list:\")\n",
    "print(test(nums1))\n",
    "\n",
    "# Example 2\n",
    "nums2 = [8, 0, 7, 2, 9, 4, 1, 2, 8, 3]\n",
    "print(\"\\nOriginal list of numbers:\")\n",
    "print(nums2)\n",
    "print(\"Keep every other element in place and otherwise sort the list:\")\n",
    "print(test(nums2))\n"
   ]
  },
  {
   "cell_type": "markdown",
   "id": "1622b437-dc55-432d-bbcd-0160224b8948",
   "metadata": {},
   "source": [
    "93. Write a Python program to find the closest palindrome to a given string."
   ]
  },
  {
   "cell_type": "code",
   "execution_count": 46,
   "id": "20bede4f-4fb8-4236-a814-f49b2e57d978",
   "metadata": {},
   "outputs": [
    {
     "name": "stdout",
     "output_type": "stream",
     "text": [
      "cac\n",
      "madam\n",
      "radividar\n",
      "aba\n",
      "racecar\n"
     ]
    }
   ],
   "source": [
    "def closest_palindrome(s):\n",
    "    n = len(s)\n",
    "    s_list = list(s)\n",
    "    for i in range(n // 2):\n",
    "        s_list[n - i - 1] = s_list[i] # Mirror the characters from the first half to the second half\n",
    "    return ''.join(s_list)\n",
    "\n",
    "print(closest_palindrome(\"cat\"))       # Output: cac\n",
    "print(closest_palindrome(\"madan\"))     # Output: madam\n",
    "print(closest_palindrome(\"radivider\")) # Output: radividar\n",
    "print(closest_palindrome(\"abc\"))       # Output: aba\n",
    "print(closest_palindrome(\"racecbr\"))   # Output: racecar"
   ]
  },
  {
   "cell_type": "markdown",
   "id": "85bda8ff-bfdb-4410-8f9f-c0aaa7e0fb31",
   "metadata": {},
   "source": [
    "94. Given a string consisting of whitespace and groups of matched parentheses, write a Python program to split it into groups of perfectly matched parentheses without any whitespace.\n",
    "\n",
    "Input:\n",
    "( ()) ((()()())) (()) ()\n",
    "Output:\n",
    "['(())', '((()()()))', '(())', '()']\n",
    "Input:\n",
    "() (( ( )() ( )) ) ( ())\n",
    "Output:\n",
    "['()', '((()()()))', '(())']"
   ]
  },
  {
   "cell_type": "code",
   "execution_count": 47,
   "id": "e65fe6e3-fed6-4b52-8787-cea7b88001a1",
   "metadata": {},
   "outputs": [
    {
     "name": "stdout",
     "output_type": "stream",
     "text": [
      "Parentheses string:\n",
      "( ()) ((()()())) (()) ()\n",
      "Separate parentheses groups of the said string:\n",
      "['(())', '((()()()))', '(())', '()']\n",
      "\n",
      "Parentheses string:\n",
      "() (( ( )() (   )) ) ( ())\n",
      "Separate parentheses groups of the said string:\n",
      "['()', '((()()()))', '(())']\n"
     ]
    }
   ],
   "source": [
    "def para_match(para):\n",
    "    ls = []\n",
    "    paranthesis_grp = ''\n",
    "    for s in para.replace(' ',''):\n",
    "        paranthesis_grp += s\n",
    "        if paranthesis_grp.count('(') == paranthesis_grp.count(')'):\n",
    "            ls.append(paranthesis_grp)\n",
    "            paranthesis_grp = ''\n",
    "    return ls\n",
    "\n",
    "combined1 = '( ()) ((()()())) (()) ()'\n",
    "print(\"Parentheses string:\")\n",
    "print(combined1)\n",
    "print(\"Separate parentheses groups of the said string:\")\n",
    "print(para_match(combined1))\n",
    "\n",
    "# Example 2\n",
    "combined2 = '() (( ( )() (   )) ) ( ())'\n",
    "print(\"\\nParentheses string:\")\n",
    "print(combined2)\n",
    "print(\"Separate parentheses groups of the said string:\")\n",
    "print(para_match(combined2))"
   ]
  },
  {
   "cell_type": "markdown",
   "id": "17ce3e24-a6f5-4008-ae0b-6feed46215a0",
   "metadata": {},
   "source": [
    "95. Write a Python program to generate a palindrome of a given length from a string."
   ]
  },
  {
   "cell_type": "code",
   "execution_count": 53,
   "id": "20b6d163-264d-4255-aca1-993dd98acf60",
   "metadata": {},
   "outputs": [
    {
     "name": "stdout",
     "output_type": "stream",
     "text": [
      "madadam\n",
      "maddam\n",
      "madam\n",
      "mam\n",
      "mm\n",
      "m\n"
     ]
    }
   ],
   "source": [
    "def generate_palindrome(string, length):\n",
    "    if length <= 0:\n",
    "        return ''\n",
    "    mid = (length + 1) // 2\n",
    "    first_half = string[:mid]\n",
    "    if length % 2 == 0:\n",
    "        second_half = first_half[::-1]\n",
    "    else:\n",
    "        second_half = first_half[:-1][::-1]\n",
    "    return first_half + second_half\n",
    "\n",
    "print(generate_palindrome('madam', 7))\n",
    "print(generate_palindrome('madam', 6))\n",
    "print(generate_palindrome('madam', 5))\n",
    "print(generate_palindrome('madam', 3))\n",
    "print(generate_palindrome('madam', 2))\n",
    "print(generate_palindrome('madam', 1))"
   ]
  },
  {
   "cell_type": "code",
   "execution_count": 55,
   "id": "6e0c5a72-4f05-4a7f-88fd-726c5572596b",
   "metadata": {},
   "outputs": [
    {
     "name": "stdout",
     "output_type": "stream",
     "text": [
      "['five', 'four', 'three', 'one']\n",
      "['eight', 'five', 'three', 'one']\n"
     ]
    }
   ],
   "source": [
    "def single_sort(l1):\n",
    "    result = []\n",
    "    digits = {\n",
    "              0: 'zero', 1: 'one', 2: 'two', 3: 'three', 4: 'four',\n",
    "        5: 'five', 6: 'six', 7: 'seven', 8: 'eight', 9: 'nine'\n",
    "    }\n",
    "    single_digit = [num for num in l1 if 0 <= num <= 9]\n",
    "    single_digit.sort(reverse = True)\n",
    "    words = [digits[num] for num in single_digit]\n",
    "    return words\n",
    "\n",
    "print(single_sort([1, 3, 4, 5, 11]))\n",
    "print(single_sort([27, 3, 8, 5, 1, 31]))\n",
    "            "
   ]
  },
  {
   "cell_type": "markdown",
   "id": "4fda65ff-3cb7-4175-82f5-1c0078528008",
   "metadata": {},
   "source": [
    "97. Write a Python program to find the following strange sort of list of numbers: the first element is the smallest, the second is the largest of the remaining, the third is the smallest of the remaining, the fourth is the smallest of the remaining, etc."
   ]
  },
  {
   "cell_type": "code",
   "execution_count": 63,
   "id": "1bf7a4e2-eb79-4f00-8d0f-82b667150ad8",
   "metadata": {},
   "outputs": [
    {
     "name": "stdout",
     "output_type": "stream",
     "text": [
      "[1, 11, 3, 5, 4]\n",
      "[1, 31, 3, 27, 5, 8]\n",
      "[1, 7, 2, 6, 3, 5, 4]\n"
     ]
    }
   ],
   "source": [
    "def strange_sort(l1):\n",
    "    result = []\n",
    "    l1.sort()\n",
    "    while l1:\n",
    "        result.append(l1.pop(0)) #Append the smallest element and remove it from original list while appending\n",
    "        if l1:\n",
    "            result.append(l1.pop(-1))  #Append the largest element and remove it from original list while appending\n",
    "    return result\n",
    "    \n",
    "print(strange_sort([1, 3, 4, 5, 11]))\n",
    "print(strange_sort([27, 3, 8, 5, 1, 31]))\n",
    "print(strange_sort([1, 2, 7, 3, 4, 5, 6]))"
   ]
  },
  {
   "cell_type": "markdown",
   "id": "85a45e55-5968-4fd3-9a64-600c819c8629",
   "metadata": {},
   "source": [
    "98. Given a string consisting of groups of matched nested parentheses separated by parentheses, write a Python program to compute the depth of each group."
   ]
  },
  {
   "cell_type": "code",
   "execution_count": 65,
   "id": "554ef1d5-c5c4-47a2-b7d0-a8b9a2e779a6",
   "metadata": {},
   "outputs": [
    {
     "name": "stdout",
     "output_type": "stream",
     "text": [
      "[2, 2, 1, 3]\n",
      "[1, 2, 1, 1, 1, 1]\n",
      "[8, 1, 2, 3]\n"
     ]
    }
   ],
   "source": [
    "def para_nest(para):\n",
    "    return [len(s.split(')')[0]) for s in para.split()]\n",
    "\n",
    "print(para_nest('(()) (()) () ((()()()))'))\n",
    "print(para_nest('() (()) () () () ()'))\n",
    "print(para_nest('(((((((()))))))) () (()) ((()()()))'))"
   ]
  },
  {
   "cell_type": "markdown",
   "id": "89e2ead5-0cdc-47e7-9b72-45dacb876b0c",
   "metadata": {},
   "source": [
    "99. Write a Python program to find a string such that, when three or more spaces are compacted to a '-' and one or two spaces are replaced by underscores, leads to the target."
   ]
  },
  {
   "cell_type": "code",
   "execution_count": 68,
   "id": "47b3521f-df2d-4827-a550-071e0c762be1",
   "metadata": {},
   "outputs": [
    {
     "name": "stdout",
     "output_type": "stream",
     "text": [
      "Python   Exercises\n",
      "Python Exercises\n",
      "   Hello, world!  This is   so   easy!   \n"
     ]
    }
   ],
   "source": [
    "def underscore_replace(text):\n",
    "    return text.replace('-',' ' * 3).replace('_',' ')\n",
    "\n",
    "print(underscore_replace('Python-Exercises'))\n",
    "print(underscore_replace('Python_Exercises'))\n",
    "print(underscore_replace('-Hello,_world!__This_is-so-easy!-'))"
   ]
  },
  {
   "cell_type": "markdown",
   "id": "9f4c2897-c107-4e57-a7c3-61ffce8e720a",
   "metadata": {},
   "source": [
    "100. Write a Python program to find four positive even integers whose sum is a given integer."
   ]
  },
  {
   "cell_type": "code",
   "execution_count": 74,
   "id": "89acf830-c1b8-478f-b53b-c0b38e1ef32e",
   "metadata": {},
   "outputs": [
    {
     "name": "stdout",
     "output_type": "stream",
     "text": [
      "[2, 2, 2, 94]\n",
      "[2, 2, 2, 994]\n"
     ]
    },
    {
     "ename": "KeyboardInterrupt",
     "evalue": "",
     "output_type": "error",
     "traceback": [
      "\u001b[1;31m---------------------------------------------------------------------------\u001b[0m",
      "\u001b[1;31mKeyboardInterrupt\u001b[0m                         Traceback (most recent call last)",
      "Cell \u001b[1;32mIn[74], line 11\u001b[0m\n\u001b[0;32m      9\u001b[0m \u001b[38;5;28mprint\u001b[39m(four_pos_int(\u001b[38;5;241m100\u001b[39m))\n\u001b[0;32m     10\u001b[0m \u001b[38;5;28mprint\u001b[39m(four_pos_int(\u001b[38;5;241m1000\u001b[39m))\n\u001b[1;32m---> 11\u001b[0m \u001b[38;5;28mprint\u001b[39m(\u001b[43mfour_pos_int\u001b[49m\u001b[43m(\u001b[49m\u001b[38;5;241;43m10000\u001b[39;49m\u001b[43m)\u001b[49m)\n\u001b[0;32m     12\u001b[0m \u001b[38;5;66;03m#print(four_pos_int(1234567890))\u001b[39;00m\n",
      "Cell \u001b[1;32mIn[74], line 6\u001b[0m, in \u001b[0;36mfour_pos_int\u001b[1;34m(n)\u001b[0m\n\u001b[0;32m      4\u001b[0m \u001b[38;5;28;01mfor\u001b[39;00m k \u001b[38;5;129;01min\u001b[39;00m \u001b[38;5;28mrange\u001b[39m(\u001b[38;5;241m1\u001b[39m, n):\n\u001b[0;32m      5\u001b[0m     \u001b[38;5;28;01mfor\u001b[39;00m l \u001b[38;5;129;01min\u001b[39;00m \u001b[38;5;28mrange\u001b[39m(\u001b[38;5;241m1\u001b[39m, n):\n\u001b[1;32m----> 6\u001b[0m         \u001b[38;5;28;01mif\u001b[39;00m i \u001b[38;5;241m+\u001b[39m j \u001b[38;5;241m+\u001b[39m k \u001b[38;5;241m+\u001b[39m l \u001b[38;5;241m==\u001b[39m n \u001b[38;5;129;01mand\u001b[39;00m i \u001b[38;5;241m%\u001b[39m \u001b[38;5;241m2\u001b[39m \u001b[38;5;241m==\u001b[39m \u001b[38;5;241m0\u001b[39m \u001b[38;5;129;01mand\u001b[39;00m j \u001b[38;5;241m%\u001b[39m \u001b[38;5;241m2\u001b[39m \u001b[38;5;241m==\u001b[39m \u001b[38;5;241m0\u001b[39m \u001b[38;5;129;01mand\u001b[39;00m k \u001b[38;5;241m%\u001b[39m \u001b[38;5;241m2\u001b[39m \u001b[38;5;241m==\u001b[39m \u001b[38;5;241m0\u001b[39m \u001b[38;5;129;01mand\u001b[39;00m l \u001b[38;5;241m%\u001b[39m \u001b[38;5;241m2\u001b[39m \u001b[38;5;241m==\u001b[39m \u001b[38;5;241m0\u001b[39m:\n\u001b[0;32m      7\u001b[0m             \u001b[38;5;28;01mreturn\u001b[39;00m [i, j, k, l]\n",
      "\u001b[1;31mKeyboardInterrupt\u001b[0m: "
     ]
    }
   ],
   "source": [
    "def four_pos_int(n):\n",
    "    for i in range(1, n):\n",
    "        for j in range(1, n):\n",
    "            for k in range(1, n):\n",
    "                for l in range(1, n):\n",
    "                    if i + j + k + l == n and i % 2 == 0 and j % 2 == 0 and k % 2 == 0 and l % 2 == 0:\n",
    "                        return [i, j, k, l]\n",
    "\n",
    "print(four_pos_int(100))\n",
    "print(four_pos_int(1000))\n",
    "print(four_pos_int(10000))\n",
    "#print(four_pos_int(1234567890))"
   ]
  },
  {
   "cell_type": "code",
   "execution_count": null,
   "id": "11e4811f-98f0-448a-808d-37ae6061f443",
   "metadata": {},
   "outputs": [],
   "source": []
  }
 ],
 "metadata": {
  "kernelspec": {
   "display_name": "Python 3 (ipykernel)",
   "language": "python",
   "name": "python3"
  },
  "language_info": {
   "codemirror_mode": {
    "name": "ipython",
    "version": 3
   },
   "file_extension": ".py",
   "mimetype": "text/x-python",
   "name": "python",
   "nbconvert_exporter": "python",
   "pygments_lexer": "ipython3",
   "version": "3.12.6"
  }
 },
 "nbformat": 4,
 "nbformat_minor": 5
}
