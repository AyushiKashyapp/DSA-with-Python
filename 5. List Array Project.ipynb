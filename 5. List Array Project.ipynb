{
 "cells": [
  {
   "cell_type": "markdown",
   "metadata": {},
   "source": [
    "# Find the number of days above average temprature"
   ]
  },
  {
   "cell_type": "code",
   "execution_count": 1,
   "metadata": {},
   "outputs": [
    {
     "name": "stdout",
     "output_type": "stream",
     "text": [
      "\n",
      "Average:  20\n"
     ]
    }
   ],
   "source": [
    "days = int(input(\"How many day's temprature?\"))\n",
    "total = 0\n",
    "\n",
    "for i in range(1, days+1):\n",
    "    nextDay = int(input(\"Day \" + str(i) + \"'s high temp: \"))\n",
    "    total += nextDay\n",
    "    \n",
    "avg = round(total/days)\n",
    "print(\"\\nAverage: \", str(avg))"
   ]
  },
  {
   "cell_type": "code",
   "execution_count": 4,
   "metadata": {},
   "outputs": [
    {
     "name": "stdout",
     "output_type": "stream",
     "text": [
      "\n",
      "Average:  28.75\n",
      "2 day(s) above average.\n"
     ]
    }
   ],
   "source": [
    "days = int(input(\"How many day's temprature?\"))\n",
    "total = 0\n",
    "tempratures = []\n",
    "for i in range(days):\n",
    "    temp = int(input(\"Day \" + str(i) + \"'s high temp: \"))\n",
    "    tempratures.append(temp)\n",
    "    total += tempratures[i]\n",
    "\n",
    "avg = round(total/days, 2)\n",
    "print(\"\\nAverage: \", avg)\n",
    "\n",
    "above = 0\n",
    "for i in tempratures:\n",
    "    if i > avg:\n",
    "        above += 1\n",
    "\n",
    "print(str(above) + \" day(s) above average.\")"
   ]
  },
  {
   "cell_type": "code",
   "execution_count": null,
   "metadata": {},
   "outputs": [],
   "source": []
  }
 ],
 "metadata": {
  "kernelspec": {
   "display_name": "Python 3",
   "language": "python",
   "name": "python3"
  },
  "language_info": {
   "codemirror_mode": {
    "name": "ipython",
    "version": 3
   },
   "file_extension": ".py",
   "mimetype": "text/x-python",
   "name": "python",
   "nbconvert_exporter": "python",
   "pygments_lexer": "ipython3",
   "version": "3.12.6"
  }
 },
 "nbformat": 4,
 "nbformat_minor": 2
}
