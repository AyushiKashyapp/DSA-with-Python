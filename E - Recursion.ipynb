{
 "cells": [
  {
   "cell_type": "markdown",
   "id": "6a5be035-d012-4fc8-9e9c-fd11dc8510f5",
   "metadata": {},
   "source": [
    "1. Write a Python program to calculate the sum of a list of numbers using recursion."
   ]
  },
  {
   "cell_type": "code",
   "execution_count": 11,
   "id": "6e758110-6dd9-4383-9af4-ea4d1ff8935f",
   "metadata": {},
   "outputs": [
    {
     "name": "stdout",
     "output_type": "stream",
     "text": [
      "First ele: 1, Rest: [2, 3, 4, 5, 6]\n",
      "First ele: 2, Rest: [3, 4, 5, 6]\n",
      "First ele: 3, Rest: [4, 5, 6]\n",
      "First ele: 4, Rest: [5, 6]\n",
      "First ele: 5, Rest: [6]\n",
      "6\n",
      "21\n"
     ]
    }
   ],
   "source": [
    "n = [1,2,3,4,5,6]\n",
    "\n",
    "def sum_rec(n):\n",
    "    if len(n) == 1:\n",
    "        print(n[0])\n",
    "        return n[0]\n",
    "    else:\n",
    "        print(f'First ele: {n[0]}, Rest: {n[1:]}')\n",
    "        return n[0] + sum_rec(n[1:])\n",
    "\n",
    "print(sum_rec(n))"
   ]
  },
  {
   "cell_type": "markdown",
   "id": "505e5b2f-cd13-4041-ad7d-091d5b3ba13f",
   "metadata": {},
   "source": [
    "2. Write a Python program to convert an integer to a string in any base using recursion ."
   ]
  },
  {
   "cell_type": "code",
   "execution_count": 12,
   "id": "f7dcc2a7-314d-4fa8-aa46-6e4bca8f0156",
   "metadata": {},
   "outputs": [
    {
     "name": "stdout",
     "output_type": "stream",
     "text": [
      "B13\n"
     ]
    }
   ],
   "source": [
    "def to_string(n, base):\n",
    "    convert_tostring = '0123456789ABCDEF' # Character set for the conversion in hexadecimal format\n",
    "    if n < base:\n",
    "        return convert_tostring[n]\n",
    "    else:\n",
    "        return to_string(n // base, base) + convert_tostring[n % base]\n",
    "\n",
    "print(to_string(2835, 16))"
   ]
  },
  {
   "cell_type": "markdown",
   "id": "d4cb171b-4354-4809-b770-753052e1b700",
   "metadata": {},
   "source": [
    "3. Write a Python program to sum recursion lists using recursion.\n",
    "Test Data: [1, 2, [3,4], [5,6]]\n",
    "Expected Result: 21"
   ]
  },
  {
   "cell_type": "code",
   "execution_count": 13,
   "id": "9dd16e9a-1b2f-449b-8e2d-ef1bf061042f",
   "metadata": {},
   "outputs": [
    {
     "name": "stdout",
     "output_type": "stream",
     "text": [
      "21\n"
     ]
    }
   ],
   "source": [
    "def list_sum(l):\n",
    "    total = 0\n",
    "    for element in l:\n",
    "        if type(element) == type([]):\n",
    "            total = total + list_sum(element)\n",
    "        else:\n",
    "            total = total + element\n",
    "    return total\n",
    "\n",
    "print(list_sum([1,2,[3,4],[5,6]]))"
   ]
  },
  {
   "cell_type": "markdown",
   "id": "5b3b4184-1577-4413-9097-e94174ab0d04",
   "metadata": {},
   "source": [
    "4. Write a Python program to get the factorial of a non-negative integer using recursion."
   ]
  },
  {
   "cell_type": "code",
   "execution_count": 17,
   "id": "6886f5f1-005d-4930-affa-c010af740f36",
   "metadata": {},
   "outputs": [
    {
     "name": "stdout",
     "output_type": "stream",
     "text": [
      "5040\n"
     ]
    }
   ],
   "source": [
    "def fact(n):\n",
    "    if n == 0:\n",
    "        return 1\n",
    "    else:\n",
    "        return n * fact(n - 1)\n",
    "\n",
    "print(fact(7))"
   ]
  },
  {
   "cell_type": "markdown",
   "id": "18262153-7fb0-42dc-a747-18c7a11d091e",
   "metadata": {},
   "source": [
    "5. Write a Python program to solve the Fibonacci sequence using recursion."
   ]
  },
  {
   "cell_type": "code",
   "execution_count": 21,
   "id": "a47ee5de-d4f1-46af-a8a8-3ed4455e895d",
   "metadata": {},
   "outputs": [
    {
     "name": "stdout",
     "output_type": "stream",
     "text": [
      "55\n"
     ]
    }
   ],
   "source": [
    "def fib(n):\n",
    "    if n <= 0:\n",
    "        return 0\n",
    "    elif n == 1:\n",
    "        return 1\n",
    "    return fib(n - 1) + fib(n - 2) \n",
    "\n",
    "print(fib(10))"
   ]
  },
  {
   "cell_type": "markdown",
   "id": "400503d6-3184-494a-88ee-5a255b37d8bd",
   "metadata": {},
   "source": [
    "6. Write a Python program to get the sum of a non-negative integer using recursion.\n",
    "\n",
    "Test Data:\n",
    "sumDigits(345) -> 12\n",
    "sumDigits(45) -> 9"
   ]
  },
  {
   "cell_type": "code",
   "execution_count": 33,
   "id": "6d0f4431-e520-4fbe-bee3-8a43c5d4541a",
   "metadata": {},
   "outputs": [
    {
     "name": "stdout",
     "output_type": "stream",
     "text": [
      "12\n",
      "9\n"
     ]
    }
   ],
   "source": [
    "def sumDigit(n):\n",
    "    n = str(n)\n",
    "    if len(n) == 1:\n",
    "        return int(n[0])\n",
    "    else:\n",
    "        return (int(n[0])) + sumDigit(int(n[1:]))\n",
    "\n",
    "print(sumDigit(345))\n",
    "print(sumDigit(45))"
   ]
  },
  {
   "cell_type": "markdown",
   "id": "30e85c0f-f152-49b1-84b4-089ace12f395",
   "metadata": {},
   "source": [
    "7. Write a Python program to calculate the sum of the positive integers of n+(n-2)+(n-4)... (until n-x =< 0) using recursion .\n",
    "\n",
    "Test Data:\n",
    "sum_series(6) -> 12\n",
    "sum_series(10) -> 30"
   ]
  },
  {
   "cell_type": "code",
   "execution_count": 36,
   "id": "c6fa7025-333a-4603-a9b2-e2a00962a093",
   "metadata": {},
   "outputs": [
    {
     "name": "stdout",
     "output_type": "stream",
     "text": [
      "12\n",
      "30\n"
     ]
    }
   ],
   "source": [
    "def sum_series(n):\n",
    "    if n <= 0:\n",
    "        return 0\n",
    "    else:\n",
    "        return n + sum_series(n - 2)\n",
    "\n",
    "print(sum_series(6))\n",
    "print(sum_series(10))"
   ]
  },
  {
   "cell_type": "markdown",
   "id": "f139fe2c-1a60-485d-9c12-31e35a81d539",
   "metadata": {},
   "source": [
    "8. Write a Python program to calculate the sum of harmonic series upto n terms.\n",
    "Note: The harmonic sum is the sum of reciprocals of the positive integers."
   ]
  },
  {
   "cell_type": "code",
   "execution_count": 38,
   "id": "4b1a211c-74d0-4faa-9551-0dede42be932",
   "metadata": {},
   "outputs": [
    {
     "name": "stdout",
     "output_type": "stream",
     "text": [
      "2.4499999999999997\n"
     ]
    }
   ],
   "source": [
    "def sum_harmonic(n):\n",
    "    if n <= 0:\n",
    "        return 0\n",
    "    else:\n",
    "        return (1/n) + sum_harmonic(n-1)\n",
    "\n",
    "print(sum_harmonic(6))"
   ]
  },
  {
   "cell_type": "markdown",
   "id": "1b62e64f-61e3-448b-b300-02c21f2330b5",
   "metadata": {},
   "source": [
    "9. Write a Python program to calculate the geometric sum up to 'n' terms.\n",
    "Note: In mathematics, a geometric series is a series with a constant ratio between successive terms."
   ]
  },
  {
   "cell_type": "code",
   "execution_count": 39,
   "id": "0921d741-cb9a-4f52-8333-15ad7b7ec9a2",
   "metadata": {},
   "outputs": [
    {
     "data": {
      "text/plain": [
       "15"
      ]
     },
     "execution_count": 39,
     "metadata": {},
     "output_type": "execute_result"
    }
   ],
   "source": [
    "def geometric_sum(a, r, n):\n",
    "    if n == 0:\n",
    "        return 0\n",
    "    else:\n",
    "        return a * (r ** (n - 1)) + geometric_sum(a, r, n - 1)\n",
    "\n",
    "geometric_sum(1, 2, 4)"
   ]
  },
  {
   "cell_type": "markdown",
   "id": "ad8210ab-3faf-4106-acb8-1edec0e2c61b",
   "metadata": {},
   "source": [
    "10. Write a Python program to calculate the value of 'a' to the power of 'b' using recursion.\n",
    "Test Data :\n",
    "(power(3,4) -> 81"
   ]
  },
  {
   "cell_type": "code",
   "execution_count": 43,
   "id": "ff8df60a-0bdc-4a6b-9fa0-7922c638a987",
   "metadata": {},
   "outputs": [
    {
     "name": "stdout",
     "output_type": "stream",
     "text": [
      "81\n"
     ]
    }
   ],
   "source": [
    "def power(a, b):\n",
    "    if b == 0:\n",
    "        return 1\n",
    "    else:\n",
    "        return a * power(a, b - 1)\n",
    "\n",
    "print(power(3, 4))"
   ]
  },
  {
   "cell_type": "markdown",
   "id": "533050ee-d24c-4049-9808-8cd78c457ba3",
   "metadata": {},
   "source": [
    "11. Write a Python program to find the greatest common divisor (GCD) of two integers using recursion."
   ]
  },
  {
   "cell_type": "code",
   "execution_count": 44,
   "id": "bc938f53-8238-4aa4-8595-67445e4417fc",
   "metadata": {},
   "outputs": [
    {
     "name": "stdout",
     "output_type": "stream",
     "text": [
      "6\n"
     ]
    }
   ],
   "source": [
    "def gcd(a, b):\n",
    "    if b == 0:\n",
    "        return a\n",
    "    else:\n",
    "        return gcd(b, a % b)\n",
    "\n",
    "print(gcd(48, 18))"
   ]
  },
  {
   "cell_type": "code",
   "execution_count": null,
   "id": "d86b949d-f2c3-40de-bf39-6156a7b77898",
   "metadata": {},
   "outputs": [],
   "source": []
  }
 ],
 "metadata": {
  "kernelspec": {
   "display_name": "Python 3 (ipykernel)",
   "language": "python",
   "name": "python3"
  },
  "language_info": {
   "codemirror_mode": {
    "name": "ipython",
    "version": 3
   },
   "file_extension": ".py",
   "mimetype": "text/x-python",
   "name": "python",
   "nbconvert_exporter": "python",
   "pygments_lexer": "ipython3",
   "version": "3.12.6"
  }
 },
 "nbformat": 4,
 "nbformat_minor": 5
}
