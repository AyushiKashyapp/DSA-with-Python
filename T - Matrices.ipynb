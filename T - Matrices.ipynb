{
 "cells": [
  {
   "cell_type": "code",
   "execution_count": 1,
   "id": "d84a90eb-1da1-479d-b8aa-4e01247d7b05",
   "metadata": {},
   "outputs": [],
   "source": [
    "from array import *"
   ]
  },
  {
   "cell_type": "code",
   "execution_count": 5,
   "id": "855d976b-6309-43e3-accc-fa4a5c697a58",
   "metadata": {},
   "outputs": [],
   "source": [
    "vals = array('i', [5,9,6,3,8])"
   ]
  },
  {
   "cell_type": "code",
   "execution_count": 7,
   "id": "18a6d85f-4cb1-4a05-9f2e-2b81af73f584",
   "metadata": {},
   "outputs": [
    {
     "name": "stdout",
     "output_type": "stream",
     "text": [
      "25\n",
      "81\n",
      "36\n",
      "9\n",
      "64\n"
     ]
    }
   ],
   "source": [
    "newArr = array(vals.typecode, (a*a for a in vals))\n",
    "for i in range(len(newArr)):\n",
    "    print(newArr[i])"
   ]
  },
  {
   "cell_type": "code",
   "execution_count": 8,
   "id": "1364cc92-7da9-4c2c-93a7-54b844d38413",
   "metadata": {},
   "outputs": [
    {
     "name": "stdout",
     "output_type": "stream",
     "text": [
      "64\n"
     ]
    }
   ],
   "source": [
    "while i < len(newArr):\n",
    "    print(newArr[i])\n",
    "    i += 1"
   ]
  },
  {
   "cell_type": "code",
   "execution_count": 11,
   "id": "a6915d8f-34d8-4169-9eb1-55eb85e577bc",
   "metadata": {},
   "outputs": [
    {
     "name": "stdin",
     "output_type": "stream",
     "text": [
      "Length of Array:  3\n",
      "Enter element:  12\n",
      "Enter element:  56\n",
      "Enter element:  89\n"
     ]
    },
    {
     "name": "stdout",
     "output_type": "stream",
     "text": [
      "Array is  array('i', [12, 56, 89])\n"
     ]
    },
    {
     "name": "stdin",
     "output_type": "stream",
     "text": [
      "Element to search:  56\n"
     ]
    },
    {
     "name": "stdout",
     "output_type": "stream",
     "text": [
      "Index for element 56 via loop: 1\n",
      "Index for element 56 via loop: 1\n"
     ]
    }
   ],
   "source": [
    "# Array from user\n",
    "arr = array('i', [])\n",
    "\n",
    "n = int(input('Length of Array: '))\n",
    "\n",
    "for i in range(n):\n",
    "    x = int(input('Enter element: '))\n",
    "    arr.append(x)\n",
    "\n",
    "print(f'Array is  {arr}')\n",
    "\n",
    "val = int(input('Element to search: '))\n",
    "for i in range(len(arr)):\n",
    "    if arr[i] == val:\n",
    "        print(f'Index for element {val} via loop: {i}')\n",
    "\n",
    "print(f'Index for element {val} via loop: {arr.index(val)}')"
   ]
  },
  {
   "cell_type": "markdown",
   "id": "3e914271-a296-4e3f-ba64-05c6e021b6a4",
   "metadata": {},
   "source": [
    "# Matrices - Tutorial 1"
   ]
  },
  {
   "cell_type": "code",
   "execution_count": 3,
   "id": "def62232-d8ad-4ac7-b82b-a557598d3dd3",
   "metadata": {},
   "outputs": [],
   "source": [
    "from numpy import *"
   ]
  },
  {
   "cell_type": "code",
   "execution_count": 7,
   "id": "be65d3ff-8849-4312-8d81-7637e7088bb3",
   "metadata": {},
   "outputs": [
    {
     "name": "stdout",
     "output_type": "stream",
     "text": [
      "Matriz:  [[1 2 3]\n",
      " [4 5 6]]\n",
      "Dimension:  2\n",
      "Shape:  (2, 3)\n",
      "Size:  6\n"
     ]
    }
   ],
   "source": [
    "a = array([\n",
    "    [1,2,3],\n",
    "    [4,5,6]\n",
    "])\n",
    "\n",
    "print('Matriz: ',a)\n",
    "print('Dimension: ',a.ndim)\n",
    "print('Shape: ',a.shape)\n",
    "print('Size: ',a.size)"
   ]
  },
  {
   "cell_type": "code",
   "execution_count": 8,
   "id": "6b6a3c65-aee2-4e1b-98ad-e749fc22a596",
   "metadata": {},
   "outputs": [
    {
     "name": "stdout",
     "output_type": "stream",
     "text": [
      "Flatten:  [1 2 3 4 5 6]\n"
     ]
    }
   ],
   "source": [
    "# 2D to 1D\n",
    "a2 = a.flatten()\n",
    "print('Flatten: ',a2)"
   ]
  },
  {
   "cell_type": "code",
   "execution_count": 10,
   "id": "677ce829-6579-432b-812c-02be0ddd7081",
   "metadata": {},
   "outputs": [
    {
     "name": "stdout",
     "output_type": "stream",
     "text": [
      "Reshaped:  [[1 2]\n",
      " [3 4]\n",
      " [5 6]]\n"
     ]
    }
   ],
   "source": [
    "# 1D to 2D/3D\n",
    "a3 = a2.reshape(3,2)\n",
    "print('Reshaped: ', a3)"
   ]
  },
  {
   "cell_type": "code",
   "execution_count": 13,
   "id": "7fb24b7e-d87d-4422-969f-29269be1c1a8",
   "metadata": {},
   "outputs": [
    {
     "name": "stdout",
     "output_type": "stream",
     "text": [
      "Matrix 1:  numpy.matrix[array([[1, 2, 3],\n",
      "       [4, 5, 6]])]\n"
     ]
    }
   ],
   "source": [
    "m = matrix[a]\n",
    "print('Matrix 1: ', m)"
   ]
  },
  {
   "cell_type": "code",
   "execution_count": 16,
   "id": "9c678a22-8ba2-4c14-b1bb-13a3752e1826",
   "metadata": {},
   "outputs": [
    {
     "name": "stdout",
     "output_type": "stream",
     "text": [
      "Matrix 2:  [[1 2 3 4]\n",
      " [5 6 7 8]]\n"
     ]
    }
   ],
   "source": [
    "m1 = matrix('1 2 3 4 ; 5 6 7 8 ')\n",
    "print('Matrix 2: ', m1)"
   ]
  },
  {
   "cell_type": "code",
   "execution_count": 18,
   "id": "a6389e91-7b6b-4526-a8ae-0aab28f97fa9",
   "metadata": {},
   "outputs": [
    {
     "name": "stdout",
     "output_type": "stream",
     "text": [
      "Matrix 3:  [[ 1  2 12]\n",
      " [ 3  4  2]\n",
      " [ 5  6  6]\n",
      " [ 7  8  0]]\n"
     ]
    }
   ],
   "source": [
    "m3 = matrix('1 2 12; 3 4 2;  5 6 6; 7 8 0')\n",
    "print('Matrix 3: ', m3)"
   ]
  },
  {
   "cell_type": "code",
   "execution_count": 24,
   "id": "57ba3c59-66eb-40f4-b98a-fa87261ad507",
   "metadata": {},
   "outputs": [
    {
     "name": "stdout",
     "output_type": "stream",
     "text": [
      "Diagonal : [1 4 6]\n",
      "Max : 12\n"
     ]
    }
   ],
   "source": [
    "print('Diagonal :', diagonal(m3))\n",
    "print('Max :', m3.max())"
   ]
  },
  {
   "cell_type": "code",
   "execution_count": 26,
   "id": "7cb7a791-3e11-430a-a8a1-1f12fa6c21ac",
   "metadata": {},
   "outputs": [
    {
     "name": "stdout",
     "output_type": "stream",
     "text": [
      "Sum : [[10 10 10]\n",
      " [10 10 10]\n",
      " [10 10 10]]\n",
      "Multiplication : [[ 30  24  18]\n",
      " [ 84  69  54]\n",
      " [138 114  90]]\n"
     ]
    }
   ],
   "source": [
    "m4 = matrix('1 2 3 ; 4 5 6; 7 8 9')\n",
    "m5 = matrix('9 8 7 ; 6 5 4 ; 3 2 1')\n",
    "print('Sum :', m4 + m5)\n",
    "print('Multiplication :', m4 * m5)"
   ]
  },
  {
   "cell_type": "markdown",
   "id": "9a451ed7-03d1-4f92-8977-f598a10e2bb7",
   "metadata": {},
   "source": [
    "# Matrices - Tutorial 2"
   ]
  },
  {
   "cell_type": "code",
   "execution_count": 28,
   "id": "fbfadd82-a44e-4264-b41b-ce60ef9ad677",
   "metadata": {},
   "outputs": [],
   "source": [
    "A1 = array([\n",
    "    [2,5,7],\n",
    "    [3,4,8],\n",
    "    [8,4,5]\n",
    "])\n",
    "\n",
    "A2 = array([\n",
    "    [5,5,8],\n",
    "    [8,6,3],\n",
    "    [5,9,7]\n",
    "])"
   ]
  },
  {
   "cell_type": "code",
   "execution_count": 30,
   "id": "de450e5b-2c5c-422d-b031-5595e09703ed",
   "metadata": {},
   "outputs": [
    {
     "name": "stdout",
     "output_type": "stream",
     "text": [
      "Addition :  [[ 7 10 15]\n",
      " [11 10 11]\n",
      " [13 13 12]]\n",
      "Subtraction :  [[-3  0 -1]\n",
      " [-5 -2  5]\n",
      " [ 3 -5 -2]]\n"
     ]
    }
   ],
   "source": [
    "# Addition\n",
    "print('Addition : ', A1 + A2)\n",
    "# Subtraction\n",
    "print('Subtraction : ', A1 - A2)"
   ]
  },
  {
   "cell_type": "code",
   "execution_count": 31,
   "id": "8522f75d-7de6-4cf5-843e-0589aee7bc56",
   "metadata": {},
   "outputs": [
    {
     "name": "stdout",
     "output_type": "stream",
     "text": [
      "Multiplication 1 :  [[ 85 103  80]\n",
      " [ 87 111  92]\n",
      " [ 97 109 111]]\n",
      "Multiplication 2 :  [[ 85 103  80]\n",
      " [ 87 111  92]\n",
      " [ 97 109 111]]\n",
      "Multiplication 3 :  [[ 85 103  80]\n",
      " [ 87 111  92]\n",
      " [ 97 109 111]]\n"
     ]
    }
   ],
   "source": [
    "# Multiplication\n",
    "print('Multiplication 1 : ', A1.dot(A2))\n",
    "print('Multiplication 2 : ', matmul(A1, A2))\n",
    "print('Multiplication 3 : ', A1 @ A2)"
   ]
  },
  {
   "cell_type": "code",
   "execution_count": 32,
   "id": "5c4250a0-9bb3-40a5-ac6d-87b58f28c976",
   "metadata": {},
   "outputs": [
    {
     "name": "stdout",
     "output_type": "stream",
     "text": [
      "Element Wise Multiplication :  [[10 25 56]\n",
      " [24 24 24]\n",
      " [40 36 35]]\n"
     ]
    }
   ],
   "source": [
    "# Element Wise Multiplication\n",
    "print('Element Wise Multiplication : ', A1 * A2)"
   ]
  },
  {
   "cell_type": "code",
   "execution_count": 33,
   "id": "56dfbe22-7379-4e53-880d-7e175bb1154f",
   "metadata": {},
   "outputs": [
    {
     "name": "stdout",
     "output_type": "stream",
     "text": [
      "Eigen Values :  [15.52336966+0.j         -2.26168483+0.32050117j -2.26168483-0.32050117j]\n"
     ]
    }
   ],
   "source": [
    "# Eigen Values\n",
    "print('Eigen Values : ', linalg.eigvals(A1))"
   ]
  },
  {
   "cell_type": "code",
   "execution_count": 34,
   "id": "790eb5e7-68c6-4420-abdc-9e95bc6a6b45",
   "metadata": {},
   "outputs": [
    {
     "name": "stdout",
     "output_type": "stream",
     "text": [
      "Inverse of A1 :  [[-0.14814815  0.03703704  0.14814815]\n",
      " [ 0.60493827 -0.56790123  0.0617284 ]\n",
      " [-0.24691358  0.39506173 -0.08641975]]\n"
     ]
    }
   ],
   "source": [
    "# Inverse of Matrix\n",
    "print('Inverse of A1 : ', linalg.inv(A1))"
   ]
  },
  {
   "cell_type": "markdown",
   "id": "02bda74b-b8e7-4be1-9728-714e49552629",
   "metadata": {},
   "source": [
    "# Matrix multiplication without numpy\n",
    "\n",
    "1. Number of columns in A1 should be equal to number of columns in A2.\n",
    "2. Initialize a result matrix with 0s, where the size of the result will be determined on the number of rows of A1 and number of columns of A2.\n",
    "3. Three loops: Outer loop - Goes through each row of A1.\n",
    "                Middle loop - Goes through each column of A2.\n",
    "                Inner loop - To calculate the values of the result matrix\n",
    "4. Multiply the corresponding elements from A1 row and A2 column, then add them up."
   ]
  },
  {
   "cell_type": "code",
   "execution_count": 37,
   "id": "e0e949cb-8feb-46ad-9213-3ce920983e65",
   "metadata": {},
   "outputs": [
    {
     "name": "stdout",
     "output_type": "stream",
     "text": [
      "[[0, 0, 0], [0, 0, 0], [0, 0, 0]]\n"
     ]
    }
   ],
   "source": [
    "result = [[0] * len(A2[0]) for _ in range(len(A1))]\n",
    "print(result)"
   ]
  },
  {
   "cell_type": "code",
   "execution_count": 38,
   "id": "9c185ae6-fe90-47e1-b0dd-13092834f5e0",
   "metadata": {},
   "outputs": [],
   "source": [
    "def matrix_mul(a1, a2):\n",
    "    result = [[0] * len(a2[0]) for _ in range(len(a1))]\n",
    "\n",
    "    for i in range(len(a1)):\n",
    "        for j in range(len(a2[0])):\n",
    "            for k in range(len(a1)):\n",
    "                result[i][j] += a1[i][k] * a2[k][j]\n",
    "\n",
    "    return result"
   ]
  },
  {
   "cell_type": "code",
   "execution_count": 43,
   "id": "f628325d-278c-4c0e-9924-b87d8b95b0df",
   "metadata": {},
   "outputs": [
    {
     "name": "stdout",
     "output_type": "stream",
     "text": [
      "Matrix Multiplication without numpy : \n",
      "[[15, 22, 39], [31, 46, 83]]\n"
     ]
    }
   ],
   "source": [
    "a1 = array([[3,4,7],[7,8,8]])\n",
    "a2 = array([[1,2,5],[3,4,6]])\n",
    "\n",
    "print('Matrix Multiplication without numpy : ')\n",
    "print(matrix_mul(a1, a2))"
   ]
  },
  {
   "cell_type": "markdown",
   "id": "bbd9f6cf-6c18-44b8-be45-5b030782b885",
   "metadata": {},
   "source": [
    "# Matrix Transpose without numpy\n",
    "\n",
    "1. The shape of the result matrix will change from row * column to column * row.\n",
    "2. Initialize result matrix with zeroes.\n",
    "3. Two loops: Outer loop - Iterate over rows.\n",
    "              Inner loop - Iterate over columns.\n",
    "4. Fill the result matrix."
   ]
  },
  {
   "cell_type": "code",
   "execution_count": 47,
   "id": "f024ab98-c627-44a1-b85e-97fdb60bcd27",
   "metadata": {},
   "outputs": [],
   "source": [
    "def mat_transpose(a1):\n",
    "    rows = len(a1)\n",
    "    cols = len(a1[0])\n",
    "    result = [[0] * rows for _ in range(cols)]\n",
    "\n",
    "    for i in range(rows):\n",
    "        for j in range(cols):\n",
    "            result[j][i] = a1[i][j]\n",
    "    return result"
   ]
  },
  {
   "cell_type": "code",
   "execution_count": 48,
   "id": "beab14a3-56ef-4f11-b9ea-2bd41fece5a1",
   "metadata": {},
   "outputs": [
    {
     "name": "stdout",
     "output_type": "stream",
     "text": [
      "Matrix transpose without numpy : \n",
      "[[3, 7], [4, 8], [7, 8]]\n"
     ]
    }
   ],
   "source": [
    "print('Matrix transpose without numpy : ')\n",
    "print(mat_transpose(a1))"
   ]
  },
  {
   "cell_type": "markdown",
   "id": "a8cd0650-1414-4b37-9693-cb78f0e834f9",
   "metadata": {},
   "source": [
    "# Practice Questions"
   ]
  },
  {
   "cell_type": "markdown",
   "id": "a04d7253-d6a2-496d-b430-1cc6c2f99cdb",
   "metadata": {},
   "source": [
    "## Basic"
   ]
  },
  {
   "cell_type": "code",
   "execution_count": 58,
   "id": "565cce3a-804a-4d30-8ca8-182857ec47e2",
   "metadata": {},
   "outputs": [
    {
     "name": "stdout",
     "output_type": "stream",
     "text": [
      "Create a 3x3 matrix and fill it with random integers between 1 and 10.\n",
      "[[0.75288905 0.08486628 0.67103026]\n",
      " [0.5165005  0.81059631 0.04578095]\n",
      " [0.72288411 0.29491835 0.67536375]]\n",
      "Create a 4x4 matrix with all elements set to zero.\n",
      "[[0 0 0 0]\n",
      " [0 0 0 0]\n",
      " [0 0 0 0]\n",
      " [0 0 0 0]]\n",
      "Create an identity matrix of size 5x5.\n",
      "[[1, 0, 0, 0, 0], [0, 1, 0, 0, 0], [0, 0, 1, 0, 0], [0, 0, 0, 1, 0], [0, 0, 0, 0, 1]]\n"
     ]
    }
   ],
   "source": [
    "import random\n",
    "\n",
    "#Create a 3x3 matrix and fill it with random integers between 1 and 10.\n",
    "\n",
    "m1 = array([[random.random() for _ in range(3)] for _ in range(3)])\n",
    "print('Create a 3x3 matrix and fill it with random integers between 1 and 10.')\n",
    "print(m1)\n",
    "\n",
    "#Create a 4x4 matrix with all elements set to zero.\n",
    "\n",
    "m2 = array([[0] * 4 for _ in range(4)])\n",
    "print('Create a 4x4 matrix with all elements set to zero.')\n",
    "print(m2)\n",
    "\n",
    "#Create an identity matrix of size 5x5.\n",
    "\n",
    "def identity_mat(n):\n",
    "    result = [[0] * n for _ in range(n)]\n",
    "    for i in range(n):\n",
    "        result[i][i] = 1\n",
    "    return result\n",
    "\n",
    "print('Create an identity matrix of size 5x5.')\n",
    "print(identity_mat(5))"
   ]
  },
  {
   "cell_type": "code",
   "execution_count": 61,
   "id": "5a7af915-5322-4185-b786-4c349ee9738c",
   "metadata": {},
   "outputs": [
    {
     "name": "stdout",
     "output_type": "stream",
     "text": [
      "Matrix Addition:  [[ 4  8  4]\n",
      " [10  9 15]]\n",
      "Matrix Addition:  Different Sizes\n"
     ]
    }
   ],
   "source": [
    "# Write a function to add two matrices of the same size.\n",
    "\n",
    "def mat_addition(m1, m2):\n",
    "    if m1.size == m2.size:\n",
    "        return m1 + m2\n",
    "    else:\n",
    "        return 'Different Sizes'\n",
    "\n",
    "a1 = array([[1,2,3],[4,5,6]])\n",
    "a2 = array([[3,6,1],[6,4,9]])\n",
    "a3 = array([[3,5],[7,9]])\n",
    "print('Matrix Addition: ', mat_addition(a1, a2))\n",
    "print('Matrix Addition: ', mat_addition(a1, a3))"
   ]
  },
  {
   "cell_type": "code",
   "execution_count": 65,
   "id": "d008eb3a-e25d-42dc-b84c-222738371c63",
   "metadata": {},
   "outputs": [
    {
     "name": "stdout",
     "output_type": "stream",
     "text": [
      "Transpose:  [[1, 4], [2, 5], [3, 6]]\n"
     ]
    }
   ],
   "source": [
    "# Write a function to compute the transpose of a matrix.\n",
    "\n",
    "def transpose_mat(m):\n",
    "    rows = len(m)\n",
    "    cols = len(m[0])\n",
    "    result = [[0] * rows for _ in range(cols)]\n",
    "\n",
    "    for i in range(rows):\n",
    "        for j in range(cols):\n",
    "            result[j][i] = m[i][j]\n",
    "    return result\n",
    "\n",
    "print('Transpose: ', transpose_mat(a1))"
   ]
  },
  {
   "cell_type": "code",
   "execution_count": 66,
   "id": "6007d321-fc0c-4bea-b3f3-f04256e1a2be",
   "metadata": {},
   "outputs": [
    {
     "name": "stdout",
     "output_type": "stream",
     "text": [
      "Implement scalar multiplication for a matrix. (Multiply all elements of a matrix by a constant scalar). :  [[ 4  8 12]\n",
      " [16 20 24]]\n"
     ]
    }
   ],
   "source": [
    "# Implement scalar multiplication for a matrix. (Multiply all elements of a matrix by a constant scalar).\n",
    "scalar_result = 4 * a1\n",
    "print('Implement scalar multiplication for a matrix. (Multiply all elements of a matrix by a constant scalar). : ',scalar_result)"
   ]
  },
  {
   "cell_type": "code",
   "execution_count": 71,
   "id": "978bb1dc-443e-4809-9310-7446ab3285ad",
   "metadata": {},
   "outputs": [
    {
     "name": "stdout",
     "output_type": "stream",
     "text": [
      "a1 : [[1 2 3]\n",
      " [4 5 6]], a2 : [[3 6 1]\n",
      " [6 4 9]]\n",
      "Write a function to perform matrix multiplication:  [[15, 14, 19], [42, 44, 49]]\n"
     ]
    }
   ],
   "source": [
    "# Write a function to perform matrix multiplication\n",
    "\n",
    "def mat_mul(a1, a2):\n",
    "    result = [[0] * len(a2[0]) for _ in range(len(a1))]\n",
    "    for i in range(len(a1)):\n",
    "        for j in range(len(a2[0])):\n",
    "            for k in range(len(a2)):\n",
    "                result[i][j] += a1[i][k] * a2[k][j]\n",
    "    return result\n",
    "\n",
    "print(f'a1 : {a1}, a2 : {a2}')\n",
    "print('Write a function to perform matrix multiplication: ',mat_mul(a1, a2))"
   ]
  },
  {
   "cell_type": "code",
   "execution_count": 73,
   "id": "2d494de6-2b6b-43f5-862e-3aeaf101aa03",
   "metadata": {},
   "outputs": [
    {
     "name": "stdout",
     "output_type": "stream",
     "text": [
      "Write a function to compute the inverse of a 2x2 matrix using the formula for the inverse :  [[-1.125  0.625]\n",
      " [ 0.875 -0.375]]\n"
     ]
    }
   ],
   "source": [
    "# Write a function to compute the inverse of a 2x2 matrix using the formula for the inverse.\n",
    "def mat_inverse(m):\n",
    "    return linalg.inv(m)\n",
    "\n",
    "print('Write a function to compute the inverse of a 2x2 matrix using the formula for the inverse : ', mat_inverse(a3))"
   ]
  },
  {
   "cell_type": "code",
   "execution_count": 75,
   "id": "560a84df-266c-49bf-b031-914392b24272",
   "metadata": {},
   "outputs": [
    {
     "name": "stdout",
     "output_type": "stream",
     "text": [
      "Write a function to calculate the determinant of a 2x2 matrix :  -8\n"
     ]
    }
   ],
   "source": [
    "# Write a function to calculate the determinant of a 2x2 matrix.\n",
    "\n",
    "def mat_deter(m):\n",
    "    a, b = m[0]\n",
    "    c, d = m[1]\n",
    "    return (a * d) - (b * c)\n",
    "\n",
    "print('Write a function to calculate the determinant of a 2x2 matrix : ', mat_deter(a3))"
   ]
  },
  {
   "cell_type": "code",
   "execution_count": null,
   "id": "51eabd5f-eeb6-4eb5-9e93-c18c52e887af",
   "metadata": {},
   "outputs": [],
   "source": []
  }
 ],
 "metadata": {
  "kernelspec": {
   "display_name": "Python 3 (ipykernel)",
   "language": "python",
   "name": "python3"
  },
  "language_info": {
   "codemirror_mode": {
    "name": "ipython",
    "version": 3
   },
   "file_extension": ".py",
   "mimetype": "text/x-python",
   "name": "python",
   "nbconvert_exporter": "python",
   "pygments_lexer": "ipython3",
   "version": "3.12.6"
  }
 },
 "nbformat": 4,
 "nbformat_minor": 5
}
