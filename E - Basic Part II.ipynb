{
 "cells": [
  {
   "cell_type": "markdown",
   "id": "c0bf4f63-79d4-4865-b9f0-8816a81311ef",
   "metadata": {},
   "source": [
    "1. Write a Python function that takes a sequence of numbers and determines whether all the numbers are different from each other."
   ]
  },
  {
   "cell_type": "code",
   "execution_count": 1,
   "id": "9c73301a-8841-4572-9975-66dcffd8ce32",
   "metadata": {},
   "outputs": [
    {
     "name": "stdout",
     "output_type": "stream",
     "text": [
      "[1,2,3,4,5] True\n",
      "[2,2,3,3,4] False\n"
     ]
    }
   ],
   "source": [
    "def diff_num(l1):\n",
    "    if len(l1) == len(set(l1)):\n",
    "        return True\n",
    "    else:\n",
    "        return False\n",
    "\n",
    "print('[1,2,3,4,5]', diff_num([1,2,3,4,5]))\n",
    "print('[2,2,3,3,4]', diff_num([2,2,3,3,4]))"
   ]
  },
  {
   "cell_type": "markdown",
   "id": "002c09d4-7c8a-469b-a0aa-0f03043a225f",
   "metadata": {},
   "source": [
    "2. Write a Python program that creates all possible strings using the letters 'a', 'e', 'i', 'o', and 'I'. Ensure that each character is used only once."
   ]
  },
  {
   "cell_type": "code",
   "execution_count": 2,
   "id": "cbcc8f95-9dda-492f-b3cb-ea2b37664e2b",
   "metadata": {},
   "outputs": [
    {
     "name": "stdout",
     "output_type": "stream",
     "text": [
      "iueao\n"
     ]
    }
   ],
   "source": [
    "import random\n",
    "char_list = ['a','e','i','o','u']\n",
    "random.shuffle(char_list)\n",
    "print(''.join(char_list))"
   ]
  },
  {
   "cell_type": "markdown",
   "id": "9a31e363-6380-4f90-9003-6028ecd715ed",
   "metadata": {},
   "source": [
    "3. Write a Python program that removes and prints every third number from a list of numbers until the list is empty."
   ]
  },
  {
   "cell_type": "code",
   "execution_count": 6,
   "id": "bbb393ac-95eb-40ee-920c-f1e6182aef83",
   "metadata": {},
   "outputs": [
    {
     "name": "stdout",
     "output_type": "stream",
     "text": [
      "4\n",
      "3\n",
      "8\n",
      "5\n",
      "5\n",
      "7\n",
      "1\n",
      "5\n",
      "2\n",
      "2\n",
      "6\n",
      "3\n"
     ]
    }
   ],
   "source": [
    "def print_remove(l1):\n",
    "    index = 2 #Start with the third element\n",
    "    while len(l1) > 0:\n",
    "        if index >= len(l1):\n",
    "            index = index % len(l1) #Wrap around if the index exceed list length\n",
    "        print(l1.pop(index))\n",
    "        index += 2 #Move to the next third element\n",
    "\n",
    "print_remove([1,2,4,5,6,3,5,7,8,3,2,5])"
   ]
  },
  {
   "cell_type": "markdown",
   "id": "5d17abe1-241e-49be-850c-c6198e82475e",
   "metadata": {},
   "source": [
    "4. Write a Python program to identify unique triplets whose three elements sum to zero from an array of n integers."
   ]
  },
  {
   "cell_type": "code",
   "execution_count": 7,
   "id": "c842b4a0-5028-4245-99ff-4f011fcf724b",
   "metadata": {},
   "outputs": [
    {
     "name": "stdout",
     "output_type": "stream",
     "text": [
      "Triplets with sum 0:  1 2 -3\n",
      "Triplets with sum 0:  4 -1 -3\n"
     ]
    }
   ],
   "source": [
    "def triplts(l1):\n",
    "    for i in range(len(l1)):\n",
    "        for j in range(i+1, len(l1)):\n",
    "            for k in range(j+1, len(l1)):\n",
    "                if l1[i] + l1[j] + l1[k] == 0:\n",
    "                    print('Triplets with sum 0: ', l1[i], l1[j], l1[k])\n",
    "\n",
    "triplts([1,2,4,-1,-3])"
   ]
  },
  {
   "cell_type": "markdown",
   "id": "baccdea0-913d-42c8-a218-316bb1ae8e63",
   "metadata": {},
   "source": [
    "5. Write a Python program to make combinations of 3 digits."
   ]
  },
  {
   "cell_type": "code",
   "execution_count": 10,
   "id": "03497497-185d-4a18-8263-67dc6d772eb0",
   "metadata": {},
   "outputs": [
    {
     "name": "stdout",
     "output_type": "stream",
     "text": [
      "999\n"
     ]
    }
   ],
   "source": [
    "number = []\n",
    "for num in range(1000):\n",
    "    num = str(num).zfill(3) \n",
    "print(num)\n",
    "number.append(num)"
   ]
  },
  {
   "cell_type": "markdown",
   "id": "766895f6-03a7-4de2-8c71-75749d995378",
   "metadata": {},
   "source": [
    "6. Write a Python program that prints long text, converts it to a list, and prints all the words and the frequency of each word."
   ]
  },
  {
   "cell_type": "code",
   "execution_count": 14,
   "id": "be3fa706-d5f2-453d-af04-b82fc6f4e9ce",
   "metadata": {},
   "outputs": [
    {
     "name": "stdout",
     "output_type": "stream",
     "text": [
      "Counter({'you': 4, 'I': 3, 'how': 2, 'much': 2, 'love': 2, 'Do': 1, 'know': 1, '?': 1, 'think': 1, 'do': 1, 'not.': 1, 'Let': 1, 'me': 1, 'show': 1, 'you,': 1, 'my': 1, 'whole': 1, 'life': 1})\n"
     ]
    }
   ],
   "source": [
    "text = 'Do you know how much I love you ? I think you do not. Let me show you, how much I love you my whole life'\n",
    "\n",
    "import collections\n",
    "\n",
    "text_list = text.split(' ')\n",
    "word_freq = collections.Counter(text_list)\n",
    "print(word_freq)"
   ]
  },
  {
   "cell_type": "markdown",
   "id": "57bbad80-89de-4066-872c-c68f549a02fa",
   "metadata": {},
   "source": [
    "7. Write a Python program to count the number of each character in a text file."
   ]
  },
  {
   "cell_type": "code",
   "execution_count": 17,
   "id": "3e0f5e19-6f58-4cc6-a2b8-20be90bda98b",
   "metadata": {},
   "outputs": [
    {
     "name": "stdout",
     "output_type": "stream",
     "text": [
      "Counter({'\\n': 18,\n",
      "         'E': 14,\n",
      "         'J': 13,\n",
      "         'A': 11,\n",
      "         'R': 9,\n",
      "         'S': 9,\n",
      "         'I': 7,\n",
      "         'C': 6,\n",
      "         'T': 5,\n",
      "         'D': 5,\n",
      "         'N': 5,\n",
      "         'H': 4,\n",
      "         'F': 4,\n",
      "         'Ã': 3,\n",
      "         'U': 3,\n",
      "         'P': 3,\n",
      "         'G': 2,\n",
      "         'L': 2,\n",
      "         'B': 2,\n",
      "         ' ': 2,\n",
      "         '‰': 2,\n",
      "         'M': 1,\n",
      "         'O': 1,\n",
      "         '¡': 1,\n",
      "         'W': 1,\n",
      "         'K': 1})\n"
     ]
    }
   ],
   "source": [
    "import collections\n",
    "import pprint\n",
    "\n",
    "file_input = r'C:\\Users\\0132499s\\Documents\\Documents\\Transcript\\Speaker Titles.txt'\n",
    "with open(file_input, 'r') as info:\n",
    "    count = collections.Counter(info.read().upper())\n",
    "    value = pprint.pformat(count)\n",
    "print(value)"
   ]
  },
  {
   "cell_type": "markdown",
   "id": "107e83c6-1165-45e0-800c-5f54a8838ea7",
   "metadata": {},
   "source": [
    "11. Write a Python program to check the sum of three elements (each from an array) from three arrays is equal to a target value. Print all those three-element combinations.\n",
    "Sample data:\n",
    "/*\n",
    "X = [10, 20, 20, 20]\n",
    "Y = [10, 20, 30, 40]\n",
    "Z = [10, 30, 40, 20]\n",
    "target = 70\n",
    "*/"
   ]
  },
  {
   "cell_type": "code",
   "execution_count": 19,
   "id": "f0a8d7c0-0359-42e8-9189-44604ddbdf82",
   "metadata": {},
   "outputs": [
    {
     "name": "stdout",
     "output_type": "stream",
     "text": [
      "The elements are:  10 20 40\n",
      "The elements are:  10 30 30\n",
      "The elements are:  10 40 20\n",
      "The elements are:  20 10 40\n",
      "The elements are:  20 20 30\n",
      "The elements are:  20 30 20\n",
      "The elements are:  20 40 10\n",
      "The elements are:  20 10 40\n",
      "The elements are:  20 20 30\n",
      "The elements are:  20 30 20\n",
      "The elements are:  20 40 10\n",
      "The elements are:  20 10 40\n",
      "The elements are:  20 20 30\n",
      "The elements are:  20 30 20\n",
      "The elements are:  20 40 10\n"
     ]
    }
   ],
   "source": [
    "def sum_check(l1,l2,l3, sum_check):\n",
    "    for i in range(len(l1)):\n",
    "        for j in range(len(l2)):\n",
    "            for k in range(len(l3)):\n",
    "                if l1[i] + l2[j] + l3[k] == sum_check:\n",
    "                    print('The elements are: ', l1[i], l2[j], l3[k])\n",
    "\n",
    "X = [10, 20, 20, 20]\n",
    "Y = [10, 20, 30, 40]\n",
    "Z = [10, 30, 40, 20]\n",
    "target = 70\n",
    "sum_check(X,Y,Z,target)"
   ]
  },
  {
   "cell_type": "markdown",
   "id": "b7a11184-9837-48fe-bb59-e4d8cbbc784f",
   "metadata": {},
   "source": [
    "12. Write a Python program that generates a list of all possible permutations from a given collection of distinct numbers."
   ]
  },
  {
   "cell_type": "code",
   "execution_count": 21,
   "id": "1644dff0-b78c-46bc-bbbe-070b2120f203",
   "metadata": {},
   "outputs": [
    {
     "name": "stdout",
     "output_type": "stream",
     "text": [
      "(1, 2, 3)\n",
      "(1, 3, 2)\n",
      "(2, 1, 3)\n",
      "(2, 3, 1)\n",
      "(3, 1, 2)\n",
      "(3, 2, 1)\n"
     ]
    }
   ],
   "source": [
    "import itertools\n",
    "\n",
    "def generate_permutations(numbers):\n",
    "    return list(itertools.permutations(numbers))\n",
    "\n",
    "# Example usage\n",
    "numbers = [1, 2, 3]\n",
    "permutations = generate_permutations(numbers)\n",
    "for perm in permutations:\n",
    "    print(perm)\n"
   ]
  },
  {
   "cell_type": "markdown",
   "id": "36467fd3-77f9-4236-b9a8-c1ff8d49f4c4",
   "metadata": {},
   "source": [
    "13. Write a Python program to get all possible two-digit letter combinations from a 1-9 digit string.\n",
    "string_maps = {\n",
    "\"1\": \"abc\",\n",
    "\"2\": \"def\",\n",
    "\"3\": \"ghi\",\n",
    "\"4\": \"jkl\",\n",
    "\"5\": \"mno\",\n",
    "\"6\": \"pqrs\",\n",
    "\"7\": \"tuv\",\n",
    "\"8\": \"wxy\",\n",
    "\"9\": \"z\"\n",
    "}"
   ]
  },
  {
   "cell_type": "code",
   "execution_count": 22,
   "id": "87b3afb0-db6f-4b5c-8ebb-38a3b265ea68",
   "metadata": {},
   "outputs": [
    {
     "name": "stdout",
     "output_type": "stream",
     "text": [
      "ad\n",
      "ae\n",
      "af\n",
      "bd\n",
      "be\n",
      "bf\n",
      "cd\n",
      "ce\n",
      "cf\n",
      "ag\n",
      "ah\n",
      "ai\n",
      "bg\n",
      "bh\n",
      "bi\n",
      "cg\n",
      "ch\n",
      "ci\n",
      "dg\n",
      "dh\n",
      "di\n",
      "eg\n",
      "eh\n",
      "ei\n",
      "fg\n",
      "fh\n",
      "fi\n"
     ]
    }
   ],
   "source": [
    "string_maps = {\n",
    "    \"1\": \"abc\",\n",
    "    \"2\": \"def\",\n",
    "    \"3\": \"ghi\",\n",
    "    \"4\": \"jkl\",\n",
    "    \"5\": \"mno\",\n",
    "    \"6\": \"pqrs\",\n",
    "    \"7\": \"tuv\",\n",
    "    \"8\": \"wxy\",\n",
    "    \"9\": \"z\"\n",
    "}\n",
    "\n",
    "def get_combinations(digit_string):\n",
    "    combinations = []\n",
    "    for i in range(len(digit_string)):\n",
    "        for j in range(i + 1, len(digit_string)):\n",
    "            letters1 = string_maps.get(digit_string[i], \"\")\n",
    "            letters2 = string_maps.get(digit_string[j], \"\")\n",
    "            for letter1 in letters1:\n",
    "                for letter2 in letters2:\n",
    "                    combinations.append(letter1 + letter2)\n",
    "    return combinations\n",
    "\n",
    "digit_string = \"123\"\n",
    "combinations = get_combinations(digit_string)\n",
    "for combo in combinations:\n",
    "    print(combo)\n"
   ]
  },
  {
   "cell_type": "markdown",
   "id": "faf3b737-50dc-455d-bc16-4710105ccc92",
   "metadata": {},
   "source": [
    "17. Write a Python program to get all strobogrammatic numbers that are of length n.\n",
    "A strobogrammatic number is a number whose numeral is rotationally symmetric, so that it appears the same when rotated 180 degrees. In other words, the numeral looks the same right-side up and upside down (e.g., 69, 96, 1001).\n",
    "For example,\n",
    "Given n = 2, return [\"11\", \"69\", \"88\", \"96\"].\n",
    "Given n = 3, return ['818', '111', '916', '619', '808', '101', '906', '609', '888', '181', '986', '689']"
   ]
  },
  {
   "cell_type": "code",
   "execution_count": 24,
   "id": "61b02cfe-4013-4b21-a0b3-760e909c3990",
   "metadata": {},
   "outputs": [
    {
     "name": "stdout",
     "output_type": "stream",
     "text": [
      "['11', '69', '88', '96']\n",
      "['101', '609', '808', '906', '111', '619', '818', '916', '181', '689', '888', '986']\n"
     ]
    }
   ],
   "source": [
    "def find_strobogrammatic(n):\n",
    "    def helper(n,m):\n",
    "        if n == 0: return [\"\"]\n",
    "        if n == 1: return [\"0\",\"1\",\"8\"]\n",
    "        prev = helper(n-2,m)\n",
    "        result = []\n",
    "        for num in prev:\n",
    "            if n != m:\n",
    "                result.append(\"0\" + num + \"0\")\n",
    "            result.append(\"1\" + num + \"1\")\n",
    "            result.append(\"6\" + num + \"9\")\n",
    "            result.append(\"8\" + num + \"8\")\n",
    "            result.append(\"9\" + num + \"6\")\n",
    "        \n",
    "        return result\n",
    "    \n",
    "    return helper(n, n)\n",
    "\n",
    "# Example usage\n",
    "print(find_strobogrammatic(2))  # Output: [\"11\", \"69\", \"88\", \"96\"]\n",
    "print(find_strobogrammatic(3)) \n",
    "            "
   ]
  },
  {
   "cell_type": "markdown",
   "id": "faabd708-230d-4f00-8f1d-e83c4caf8781",
   "metadata": {},
   "source": [
    "18. Write a Python program to find the median among three given numbers.\n"
   ]
  },
  {
   "cell_type": "code",
   "execution_count": 26,
   "id": "e80b8a8d-5603-4126-a603-b6158700d8c6",
   "metadata": {},
   "outputs": [
    {
     "name": "stdout",
     "output_type": "stream",
     "text": [
      "Median:  3\n"
     ]
    }
   ],
   "source": [
    "def find_median(l1):\n",
    "    sorted_l = sorted(l1)\n",
    "    return sorted_l[1]\n",
    "\n",
    "l1 = [2,6,3]\n",
    "print('Median: ',find_median(l1))"
   ]
  },
  {
   "cell_type": "markdown",
   "id": "8d13347b-0031-497b-b8aa-b027bae1fd28",
   "metadata": {},
   "source": [
    "19. Write a Python program that finds the value of n when n degrees of number 2 are written sequentially on a line without spaces between them."
   ]
  },
  {
   "cell_type": "code",
   "execution_count": 27,
   "id": "18dbc3b8-e247-4732-8fb3-97f589fe18c5",
   "metadata": {},
   "outputs": [
    {
     "name": "stdout",
     "output_type": "stream",
     "text": [
      "n : 25\n"
     ]
    }
   ],
   "source": [
    "def find_n(target_length):\n",
    "    sequence = \"\"\n",
    "    n = 0\n",
    "    while len(sequence) < target_length:\n",
    "        sequence += str(2 ** n)\n",
    "        n += 1\n",
    "    return n\n",
    "\n",
    "target_length = 100\n",
    "n = find_n(target_length)\n",
    "print('n :', n)"
   ]
  },
  {
   "cell_type": "markdown",
   "id": "52616de1-aff6-451d-b871-d65c327322fe",
   "metadata": {},
   "source": [
    "20. Write a Python program to find the number of zeros at the end of a factorial of a given positive number.\n",
    "Range of the number(n): (1 <= n <= 2*109)."
   ]
  },
  {
   "cell_type": "code",
   "execution_count": 28,
   "id": "6fcf03a4-9d24-4742-83ba-96ac5d59bf57",
   "metadata": {},
   "outputs": [
    {
     "name": "stdout",
     "output_type": "stream",
     "text": [
      "trailing zeroes:  24\n"
     ]
    }
   ],
   "source": [
    "def count_trailing_zeroes(n):\n",
    "    count = 0\n",
    "    power_of_5 = 5\n",
    "    while n >= power_of_5:\n",
    "        count += n // power_of_5\n",
    "        power_of_5 *= 5\n",
    "    return count\n",
    "\n",
    "print('trailing zeroes: ', count_trailing_zeroes(100))"
   ]
  },
  {
   "cell_type": "markdown",
   "id": "67880221-679c-47f1-9921-8ccfcf95fb95",
   "metadata": {},
   "source": [
    "21. Write a  Python program to find the number of notes (Samples of notes: 10, 20, 50, 100, 200, 500) against an amount.\n",
    "Range - Number of notes(n) : n (1 <= n <= 1000000)."
   ]
  },
  {
   "cell_type": "code",
   "execution_count": 2,
   "id": "9ffb8192-6a6e-40ca-9673-22fcc622c639",
   "metadata": {},
   "outputs": [
    {
     "name": "stdout",
     "output_type": "stream",
     "text": [
      "q:  500\n",
      "x:  1\n",
      "a:  380\n",
      "q:  200\n",
      "x:  2\n",
      "a:  180\n",
      "q:  100\n",
      "x:  3\n",
      "a:  80\n",
      "q:  50\n",
      "x:  4\n",
      "a:  30\n",
      "q:  20\n",
      "x:  5\n",
      "a:  10\n",
      "q:  10\n",
      "x:  6\n",
      "a:  0\n",
      "6\n"
     ]
    }
   ],
   "source": [
    "def no_notes(a):\n",
    "    Q = [500,200,100,50,20,10]\n",
    "    x = 0\n",
    "    for i in range(6):\n",
    "        q = Q[i]\n",
    "        print('q: ',q)\n",
    "        x += int(a/q)\n",
    "        print('x: ',x)\n",
    "        a = int(a % q)\n",
    "        print('a: ',a)\n",
    "    if a > 0:\n",
    "        x = -1\n",
    "    return x\n",
    "print((no_notes(880)))"
   ]
  },
  {
   "cell_type": "markdown",
   "id": "4753266e-687f-4d12-9a11-3d2d0ed2ab32",
   "metadata": {},
   "source": [
    "22. Write a Python program to create a sequence where the first four members of the sequence are equal to one. Each successive term of the sequence is equal to the sum of the four previous ones. Find the Nth member of the sequence."
   ]
  },
  {
   "cell_type": "code",
   "execution_count": 3,
   "id": "9aebdad1-b674-4051-8a80-686a4406cd2b",
   "metadata": {},
   "outputs": [
    {
     "name": "stdout",
     "output_type": "stream",
     "text": [
      "nth element of sequence:  25\n"
     ]
    }
   ],
   "source": [
    "def new_seq(n):\n",
    "    sequence = [1,1,1,1]\n",
    "    for i in range(4, n):\n",
    "        next_term = sequence[-1] + sequence[-2] + sequence[-3] + sequence[-4]\n",
    "        sequence.append(next_term)\n",
    "    return sequence[n-1]\n",
    "\n",
    "n = 10\n",
    "print('nth element of sequence: ', new_seq(8))"
   ]
  },
  {
   "cell_type": "markdown",
   "id": "13c9b796-e650-40d7-bdc1-e241bca3a27a",
   "metadata": {},
   "source": [
    "23. Write a Python program that accepts a positive number and subtracts from it the sum of its digits, and so on. Continue this operation until the number is positive."
   ]
  },
  {
   "cell_type": "code",
   "execution_count": 1,
   "id": "d4c7d9c1-79ef-48cd-81ec-b183f298016c",
   "metadata": {},
   "outputs": [
    {
     "name": "stdout",
     "output_type": "stream",
     "text": [
      "Sum and Diff:  0\n"
     ]
    }
   ],
   "source": [
    "def sum_sub(a):\n",
    "    while a > 0:\n",
    "        sum_of_digits = sum(int(digit) for digit in str(a))\n",
    "        a -= sum_of_digits\n",
    "        if a <= 0:\n",
    "            break\n",
    "    return a\n",
    "\n",
    "print('Sum and Diff: ', sum_sub(49))"
   ]
  },
  {
   "cell_type": "markdown",
   "id": "c13430c4-da18-4524-b5fd-e5f240e14369",
   "metadata": {},
   "source": [
    "24. Write a Python program to find the total number of even or odd divisors of a given integer."
   ]
  },
  {
   "cell_type": "code",
   "execution_count": 6,
   "id": "666ec5fb-bd5d-47e3-8abf-055bb0bc8715",
   "metadata": {},
   "outputs": [
    {
     "name": "stdout",
     "output_type": "stream",
     "text": [
      "Even Divisors:  0\n",
      "Odd Divisors:  4\n"
     ]
    }
   ],
   "source": [
    "def even_odd_div(a):\n",
    "    odd = 0\n",
    "    even = 0\n",
    "    for i in range(1, a+1):\n",
    "        if a % i == 0:\n",
    "            if i % 2 == 0:\n",
    "                even += 1\n",
    "            elif i % 2 != 0:\n",
    "                odd += 1\n",
    "    print('Even Divisors: ', even)\n",
    "    print('Odd Divisors: ', odd)\n",
    "\n",
    "even_odd_div(15)"
   ]
  },
  {
   "cell_type": "markdown",
   "id": "6dfff1cd-589d-4724-87d1-df3008a22858",
   "metadata": {},
   "source": [
    "25. Write a Python program to find the digits that are missing from a given mobile number."
   ]
  },
  {
   "cell_type": "code",
   "execution_count": 8,
   "id": "886413f9-cf7a-4eaf-aa39-e390e0c74151",
   "metadata": {},
   "outputs": [
    {
     "name": "stdout",
     "output_type": "stream",
     "text": [
      "[1, 4, 5]\n"
     ]
    }
   ],
   "source": [
    "def missing_digits(n):\n",
    "    all_n = [0,1,2,3,4,5,6,7,8,9]\n",
    "    missing = []\n",
    "    for i in all_n:\n",
    "        if i not in n:\n",
    "            missing.append(i)\n",
    "    return missing\n",
    "    \n",
    "print(missing_digits([9, 8, 3, 2, 2, 0, 9, 7, 6, 3]))"
   ]
  },
  {
   "cell_type": "markdown",
   "id": "b394cf03-e906-4dde-bf27-52a511fcee1d",
   "metadata": {},
   "source": [
    "26. Write a Python program to compute the summation of the absolute difference of all distinct pairs in a given array (non-decreasing order).\n",
    "Sample array: [1, 2, 3]\n",
    "Then all the distinct pairs will be:\n",
    "1 2\n",
    "1 3\n",
    "2 3"
   ]
  },
  {
   "cell_type": "code",
   "execution_count": 11,
   "id": "65ab0ca3-94b6-4cfe-8be1-149a2e5a83c1",
   "metadata": {},
   "outputs": [
    {
     "name": "stdout",
     "output_type": "stream",
     "text": [
      "Pairs:  4\n"
     ]
    }
   ],
   "source": [
    "def distinct_pair(l1):\n",
    "    total_sum = 0\n",
    "    for i in range(0, len(l1)):\n",
    "        for j in range(i+1, len(l1)):\n",
    "            total_sum += abs(l1[i] - l1[j])\n",
    "    return total_sum\n",
    "print('Pairs: ',distinct_pair([1,2,3]))"
   ]
  },
  {
   "cell_type": "markdown",
   "id": "5c58bbd3-aa5e-4ed4-9681-c7d6bfcb31d1",
   "metadata": {},
   "source": [
    "27. Write a Python program to find the type of the progression (arithmetic progression / geometric progression) and the next successive member of the three successive members of a sequence."
   ]
  },
  {
   "cell_type": "code",
   "execution_count": 12,
   "id": "f07cd5ec-77e6-49f4-bfa3-3e3dc2b34c32",
   "metadata": {},
   "outputs": [
    {
     "name": "stdout",
     "output_type": "stream",
     "text": [
      "Progression type and next number:  ('AP', 8)\n"
     ]
    }
   ],
   "source": [
    "def find_progression(a,b,c):\n",
    "    if b - a == c - b: #\n",
    "        progression = \"AP\"\n",
    "        next_num = c + (b-a)\n",
    "    elif b /a == c / b:\n",
    "        progression = \"GP\"\n",
    "        next_num = c * (b/a)\n",
    "    else:\n",
    "        progression = \"Neither\"\n",
    "        next_num = None\n",
    "    return progression, next_num\n",
    "\n",
    "print('Progression type and next number: ', find_progression(2,4,6))"
   ]
  },
  {
   "cell_type": "markdown",
   "id": "a3de7266-0e5d-4e22-bf31-474b2c1b6b07",
   "metadata": {},
   "source": [
    "28. Write a Python program to print the length of the series and the series from the given 3rd term, 3rd last term and the sum of a series.\n",
    "Sample Data:\n",
    "Input third term of the series: 3\n",
    "Input 3rd last term: 3\n",
    "Input Sum of the series: 15\n",
    "Length of the series: 5\n",
    "Series:\n",
    "1 2 3 4 5"
   ]
  },
  {
   "cell_type": "code",
   "execution_count": 14,
   "id": "7b0aec1f-e274-4377-b435-be7a645a5c85",
   "metadata": {},
   "outputs": [
    {
     "name": "stdin",
     "output_type": "stream",
     "text": [
      "Third Element:  5\n",
      "Last Third Element:  5\n",
      "Sum of Series:  25\n"
     ]
    },
    {
     "name": "stdout",
     "output_type": "stream",
     "text": [
      "Length of Series:  5\n",
      "Series:\n",
      "3 4 5 6 7 "
     ]
    }
   ],
   "source": [
    "third_ele = int(input('Third Element: '))\n",
    "last_third_ele = int(input('Last Third Element: '))\n",
    "series_sum = int(input('Sum of Series: '))\n",
    "\n",
    "n = int(2 * series_sum / (third_ele + last_third_ele)) #Length of series -> sum = n/2 (first term + last term)\n",
    "print('Length of Series: ',n)\n",
    "\n",
    "if n - 5 == 0:\n",
    "    d = (series_sum - 3 * third_ele) // 6\n",
    "else:\n",
    "    d = (last_third_ele - third_ele) / (n - 5)\n",
    "\n",
    "a = third_ele - 2 * d\n",
    "j = 0\n",
    "print('Series:')\n",
    "for j in range(n - 1):\n",
    "    print(int(a), end = ' ')\n",
    "    a += d\n",
    "print(int(a), end = ' ')"
   ]
  },
  {
   "cell_type": "markdown",
   "id": "c2f69a02-f7a5-4efd-8f0e-20512fe6472c",
   "metadata": {},
   "source": [
    "29. Write a Python program to find common divisors between two numbers in a given pair."
   ]
  },
  {
   "cell_type": "code",
   "execution_count": 18,
   "id": "26a8d19f-ea39-4823-91ad-38121d7f5e58",
   "metadata": {},
   "outputs": [
    {
     "name": "stdout",
     "output_type": "stream",
     "text": [
      "Common Divisors:  [1, 2, 5, 10, 25, 50]\n",
      "Common Divisors:  [1, 2, 5, 10, 25, 50]\n"
     ]
    }
   ],
   "source": [
    "def common_div(n1, n2):\n",
    "    n1_div = []\n",
    "    n2_div = []\n",
    "    common_div = []\n",
    "    for i in range(1, n1+1):\n",
    "        if n1 % i == 0:\n",
    "            n1_div.append(i)\n",
    "    for i in range(1, n2+1):\n",
    "        if n2 % i == 0:\n",
    "            n2_div.append(i)\n",
    "    for i in n1_div:\n",
    "        if i in n2_div:\n",
    "            common_div.append(i)\n",
    "    return common_div\n",
    "\n",
    "def common_div_optimised(n1, n2):\n",
    "    common_div = []\n",
    "    for i in range(1, min(n1, n2) + 1):\n",
    "        if n1 % i == 0 and n2 % i == 0:\n",
    "            common_div.append(i)\n",
    "    return common_div\n",
    "    \n",
    "print('Common Divisors: ', common_div(250,550))\n",
    "print('Common Divisors: ', common_div_optimised(250,550))"
   ]
  },
  {
   "cell_type": "markdown",
   "id": "3ceddd9d-d9d8-455c-a35b-179980b645d4",
   "metadata": {},
   "source": [
    "30. Write a Python program to reverse the digits of a given number and add them to the original. Repeat this procedure if the sum is not a palindrome."
   ]
  },
  {
   "cell_type": "code",
   "execution_count": 20,
   "id": "5f4dfe59-8dc4-428d-97a4-45336fc0e964",
   "metadata": {},
   "outputs": [
    {
     "name": "stdout",
     "output_type": "stream",
     "text": [
      "Current Num:  5555\n",
      "Pallindrome:  None\n",
      "Current Num:  5214\n",
      "Current Num:  9339\n",
      "Pallindrome:  None\n"
     ]
    }
   ],
   "source": [
    "def is_pallindrome(num):\n",
    "    return str(num) == str(num)[::-1]\n",
    "\n",
    "def reverse_add(num):\n",
    "    while not is_pallindrome(num):\n",
    "        reversed_num = int(str(num)[::-1])\n",
    "        num += reversed_num\n",
    "        print('Current Num: ', num)\n",
    "\n",
    "print('Pallindrome: ',reverse_add(1234))\n",
    "print('Pallindrome: ',reverse_add(1473))"
   ]
  },
  {
   "cell_type": "markdown",
   "id": "ede2cd36-249d-49db-b6e2-51b126552cb8",
   "metadata": {},
   "source": [
    "31. Write a Python program to count the number of carry operations for each addition problem."
   ]
  },
  {
   "cell_type": "code",
   "execution_count": 2,
   "id": "2febb857-f8bd-4493-8cc7-3a9680c39846",
   "metadata": {},
   "outputs": [
    {
     "name": "stdout",
     "output_type": "stream",
     "text": [
      "3\n",
      "1\n"
     ]
    }
   ],
   "source": [
    "def carry_num(x, y):\n",
    "    counter = 0\n",
    "    if x == 0 and y == 0:\n",
    "        return o\n",
    "    z = 0 #z = carry\n",
    "    for i in reversed(range(10)):\n",
    "        z = x % 10 + y % 10 + z #Add remainder to units digit\n",
    "        if z > 9:\n",
    "            z = 1\n",
    "        else:\n",
    "            z = 0\n",
    "        counter += z\n",
    "        x //= 10 #Move to digit before the unit's digit\n",
    "        y //= 10\n",
    "    if counter == 0:\n",
    "        return 'No carry operation'\n",
    "    elif counter == 1:\n",
    "        return counter\n",
    "    else:\n",
    "        return counter\n",
    "print(carry_num(786, 457))\n",
    "print(carry_num(5, 6))\n",
    "        "
   ]
  },
  {
   "cell_type": "markdown",
   "id": "91d0339c-b88b-422c-9f42-8a1448857edf",
   "metadata": {},
   "source": [
    "32. Write a  Python program to find the heights of the top three buildings in descending order from eight given buildings."
   ]
  },
  {
   "cell_type": "code",
   "execution_count": 5,
   "id": "eee06b18-405d-48dc-ae8d-1e4c90f9465f",
   "metadata": {},
   "outputs": [
    {
     "name": "stdin",
     "output_type": "stream",
     "text": [
      "Enter building height:  25\n",
      "Enter building height:  35\n",
      "Enter building height:  15\n",
      "Enter building height:  16\n",
      "Enter building height:  30\n",
      "Enter building height:  45\n",
      "Enter building height:  37\n",
      "Enter building height:  39\n"
     ]
    },
    {
     "name": "stdout",
     "output_type": "stream",
     "text": [
      "Heights of the top three buildings:  [45, 39, 37]\n"
     ]
    }
   ],
   "source": [
    "building_heights = []\n",
    "for i in range(8):\n",
    "    h = int(input('Enter building height: '))\n",
    "    building_heights.append(h)\n",
    "sorted_heights = sorted(building_heights, reverse = True)\n",
    "print('Heights of the top three buildings: ', sorted_heights[:3])"
   ]
  },
  {
   "cell_type": "markdown",
   "id": "32e883e1-9646-461d-86d6-e76406d12c87",
   "metadata": {},
   "source": [
    "33. Write a Python program to compute the digit number of the sum of two given integers."
   ]
  },
  {
   "cell_type": "code",
   "execution_count": 9,
   "id": "ea10e2f2-65e9-4675-bf43-1cbf80f93a8c",
   "metadata": {},
   "outputs": [
    {
     "name": "stdin",
     "output_type": "stream",
     "text": [
      "Enter the numbers separated by a space:  435 532\n"
     ]
    },
    {
     "name": "stdout",
     "output_type": "stream",
     "text": [
      "How many digits there are in the addition result?  3\n"
     ]
    }
   ],
   "source": [
    "def digit_num(x, y):\n",
    "     if 0 <= x <= 1000000 and 0 <= y <= 1000000:\n",
    "         addition = x + y\n",
    "         return len(str(addition)) #How many digits there are in the addition result\n",
    "\n",
    "x, y = map(int, input('Enter the numbers separated by a space: ').split())\n",
    "print('How many digits there are in the addition result? ',digit_num(x,y))"
   ]
  },
  {
   "cell_type": "markdown",
   "id": "044502e0-89f0-49a1-8c9b-57cf3ec323a5",
   "metadata": {},
   "source": [
    "34. Write a Python program to check whether three given lengths (integers) of three sides form a right triangle. Print \"Yes\" if the given sides form a right triangle otherwise print \"No\"."
   ]
  },
  {
   "cell_type": "markdown",
   "id": "34993cf6-ae2e-4065-a3e3-af920e09ee94",
   "metadata": {},
   "source": [
    "side_list = list(map(int, input('Enter three sides of a triangle: ').split()))\n",
    "x, y, z = sorted(side_list)\n",
    "\n",
    "if x**2 + y**2 == z**2: #Pythagorean triplets\n",
    "    print('Yes')\n",
    "else:\n",
    "    print('No')\n"
   ]
  },
  {
   "cell_type": "markdown",
   "id": "f1ed710c-8db9-4881-9ffc-c8eafbd7e9ec",
   "metadata": {},
   "source": [
    "35. Write a Python program which solve the equation:\n",
    "ax+by=c\n",
    "dx+ey=f\n",
    "Print the values of x, y where a, b, c, d, e and f are given."
   ]
  },
  {
   "cell_type": "code",
   "execution_count": 12,
   "id": "f52c7f2d-2b68-4a4d-a5a0-f321bef9e588",
   "metadata": {},
   "outputs": [
    {
     "name": "stdin",
     "output_type": "stream",
     "text": [
      " 2 4 1 5 3 6\n"
     ]
    },
    {
     "name": "stdout",
     "output_type": "stream",
     "text": [
      "1.500 -0.500\n"
     ]
    }
   ],
   "source": [
    "a, b, c, d, e, f = map(float, input().split())\n",
    "n = a * e - b * d #Determinant of the system of linear equations\n",
    "if n != 0:\n",
    "    x = (c * e - b * f) / n\n",
    "    y = (a * f - c * d) / n\n",
    "    print('{:.3f} {:.3f}'.format(x + 0, y + 0))"
   ]
  },
  {
   "cell_type": "markdown",
   "id": "64925b38-5326-4026-870a-8d04e86d324f",
   "metadata": {},
   "source": [
    "36. Write a Python program to compute the amount of debt in n months. Each month, the loan adds 5% interest to the $100,000 debt and rounds to the nearest 1,000 above.\n",
    "Input:\n",
    "\n",
    "An integer n (0 <= n <= 100)\n",
    "Input number of months: 7\n",
    "Amount of debt: $144000"
   ]
  },
  {
   "cell_type": "code",
   "execution_count": 14,
   "id": "a7d7266d-5f1f-4026-9e66-fe5d4121d486",
   "metadata": {},
   "outputs": [
    {
     "name": "stdin",
     "output_type": "stream",
     "text": [
      "Input the number of months:  7\n"
     ]
    },
    {
     "name": "stdout",
     "output_type": "stream",
     "text": [
      "Loan Amount:  144000\n"
     ]
    }
   ],
   "source": [
    "months = int(input('Input the number of months: '))\n",
    "\n",
    "import math\n",
    "\n",
    "def loan_amount(months):\n",
    "    debt = 100000\n",
    "    for _ in range(months):\n",
    "        debt *= 1.05\n",
    "        debt = math.ceil(debt / 1000) * 1000\n",
    "    return debt\n",
    "\n",
    "print('Loan Amount: ', loan_amount(months))"
   ]
  },
  {
   "cell_type": "markdown",
   "id": "2210737a-9c46-400e-98ff-18b118f78b87",
   "metadata": {},
   "source": [
    "37. Write a Python program that reads an integer n and finds the number of combinations of a,b,c and d (0 = a,b,c,d = 9) where (a + b + c + d) will be equal to n.\n",
    "\n",
    "Input:\n",
    "n (1 <= n <= 50)\n",
    "Input the number(n): 15\n",
    "Number of combinations: 592"
   ]
  },
  {
   "cell_type": "code",
   "execution_count": 17,
   "id": "ca1cf72b-a97c-42f7-8dbe-6f8135c5c2d1",
   "metadata": {},
   "outputs": [
    {
     "name": "stdin",
     "output_type": "stream",
     "text": [
      "Enter number:  15\n"
     ]
    },
    {
     "name": "stdout",
     "output_type": "stream",
     "text": [
      "The number of combinations:  592\n"
     ]
    }
   ],
   "source": [
    "n = int(input('Enter number: '))\n",
    "\n",
    "def count_comb(n):\n",
    "    count = 0\n",
    "    for a in range(10):\n",
    "        for b in range(10):\n",
    "            for c in range(10):\n",
    "                for d in range(10):\n",
    "                    if a + b + c + d == n:\n",
    "                        count += 1\n",
    "    return count\n",
    "\n",
    "print('The number of combinations: ',count_comb(n))\n",
    "                "
   ]
  },
  {
   "cell_type": "markdown",
   "id": "778a335e-5c54-4b0a-8ba1-4a0446e3abc6",
   "metadata": {},
   "source": [
    "38. Write a Python program to print the number of prime numbers that are less than or equal to a given number.\n",
    "\n",
    "Input:\n",
    "n (1 <= n <= 999,999)\n",
    "Input the number(n): 35\n",
    "Number of prime numbers which are less than or equal to n.: 11"
   ]
  },
  {
   "cell_type": "code",
   "execution_count": 30,
   "id": "4866178e-295f-433f-a87b-79cf9355b545",
   "metadata": {},
   "outputs": [
    {
     "name": "stdin",
     "output_type": "stream",
     "text": [
      "Enter number:  45\n"
     ]
    },
    {
     "name": "stdout",
     "output_type": "stream",
     "text": [
      "Number of prime numbers <= n: 14\n"
     ]
    }
   ],
   "source": [
    "primes = [1] * 500000 #Initialise a list of primes, and assume all are prime\n",
    "primes[0] = 0 # Mark 0 as non prime\n",
    "\n",
    "for i in range(3,1000, 2): #Iterate over all the odd numbers starting from 3 until 999\n",
    "    if primes[i // 2]: #Check if the number i is considered as prime\n",
    "        primes[(i * i) // 2::i] = [0] * len(primes[(i * i) // 2::i]) #Mark all multiples of i starting from i square as non-prime by setting corresponding element in the prime list to 0.\n",
    "\n",
    "n = int(input('Enter number: '))\n",
    "if n < 4:\n",
    "    print('Number of prime numbers <= n: ', n-1)\n",
    "else:\n",
    "    print('Number of prime numbers <= n:', sum(primes[:(n + 1) // 2]) + 1)\n"
   ]
  },
  {
   "cell_type": "markdown",
   "id": "ca1edf80-eb7a-4911-8387-d8911d1ba950",
   "metadata": {},
   "source": [
    "39. Write a program to compute the radius and the central coordinate (x, y) of a circle which is constructed from three given points on the plane surface.\n",
    "\n",
    "Input:\n",
    "x1, y1, x2, y2, x3, y3 separated by a single space.\n",
    "Input three coordinate of the circle:\n",
    "9 3 6 8 3 6\n",
    "Radius of the said circle:\n",
    "3.358\n",
    "Central coordinate (x, y) of the circle:\n",
    "6.071 4.643"
   ]
  },
  {
   "cell_type": "code",
   "execution_count": 31,
   "id": "f0cfd4e4-1c42-4eae-9035-0d3eae686b0f",
   "metadata": {},
   "outputs": [
    {
     "name": "stdin",
     "output_type": "stream",
     "text": [
      "Coordinates : 3 4 5 2 3 1 \n"
     ]
    },
    {
     "name": "stdout",
     "output_type": "stream",
     "text": [
      "Radius of the said circle:\n",
      "1.581\n",
      "Central coordinate (x, y) of the circle:\n",
      "3.500 2.500\n"
     ]
    }
   ],
   "source": [
    "x1,y1,x2,y2,x3,y3 = map(float, input('Coordinates :').split())\n",
    "\n",
    "c = (x1 - x2) ** 2 + (y1 - y2) ** 2\n",
    "a = (x2 - x3) ** 2 + (y2 - y3) ** 2\n",
    "b = (x3 - x1) ** 2 + (y3 - y1) ** 2\n",
    "\n",
    "s = 2 * (a * b + b * c + c * a) - (a**2 + b**2 + c**2)\n",
    "\n",
    "# Calculate the central coordinate of the circle\n",
    "px = (a * (b + c - a) * x1 + b * (c + a - b) * x2 + c * (a + b - c) * x3) / s\n",
    "py = (a * (b + c - a) * y1 + b * (c + a - b) * y2 + c * (a + b - c) * y3) / s\n",
    "\n",
    "# Calculate the radius of the circle\n",
    "ar = a**0.5\n",
    "br = b**0.5\n",
    "cr = c**0.5\n",
    "r = ar * br * cr / ((ar + br + cr) * (-ar + br + cr) * (ar - br + cr) * (ar + br - cr))**0.5\n",
    "\n",
    "# Print the radius and central coordinate of the circle\n",
    "print(\"Radius of the said circle:\")\n",
    "print(\"{:>.3f}\".format(r))\n",
    "print(\"Central coordinate (x, y) of the circle:\")\n",
    "print(\"{:>.3f}\".format(px), \"{:>.3f}\".format(py))"
   ]
  },
  {
   "cell_type": "markdown",
   "id": "8f05cc32-34ec-466d-a931-e76eec874f69",
   "metadata": {},
   "source": [
    "40. Write a Python program to check if a point (x,y) is in a triangle or not. A triangle is formed by three points.\n",
    "\n",
    "    Input:\n",
    "x1,y1,x2,y2,x3,y3,xp,yp separated by a single space.\n",
    "Input three coordinate of the circle:\n",
    "9 3 6 8 3 6\n",
    "Radius of the said circle:\n",
    "3.358\n",
    "Central coordinate (x, y) of the circle:\n",
    "6.071 4.643"
   ]
  },
  {
   "cell_type": "code",
   "execution_count": 32,
   "id": "e252c4d4-47fd-490c-acc9-63ebdca13f94",
   "metadata": {},
   "outputs": [
    {
     "name": "stdout",
     "output_type": "stream",
     "text": [
      "Input x1, y1, x2, y2, x3, y3, xp, yp:\n"
     ]
    },
    {
     "name": "stdin",
     "output_type": "stream",
     "text": [
      " 3 4 1 4 2 5 6 4\n"
     ]
    },
    {
     "name": "stdout",
     "output_type": "stream",
     "text": [
      "The point is outside the triangle.\n"
     ]
    }
   ],
   "source": [
    "print(\"Input x1, y1, x2, y2, x3, y3, xp, yp:\")\n",
    "x1, y1, x2, y2, x3, y3, xp, yp = map(float, input().split())\n",
    "\n",
    "# Calculate the cross products (c1, c2, c3) for the point relative to each edge of the triangle\n",
    "c1 = (x2 - x1) * (yp - y1) - (y2 - y1) * (xp - x1)\n",
    "c2 = (x3 - x2) * (yp - y2) - (y3 - y2) * (xp - x2)\n",
    "c3 = (x1 - x3) * (yp - y3) - (y1 - y3) * (xp - x3)\n",
    "\n",
    "# Check if all cross products have the same sign (inside the triangle) or different signs (outside the triangle)\n",
    "if (c1 < 0 and c2 < 0 and c3 < 0) or (c1 > 0 and c2 > 0 and c3 > 0):\n",
    "    print(\"The point is in the triangle.\")\n",
    "else:\n",
    "    print(\"The point is outside the triangle.\")"
   ]
  },
  {
   "cell_type": "markdown",
   "id": "10209d37-c6c7-4899-8cd8-0477ae1832fe",
   "metadata": {},
   "source": [
    "41. Write a  Python program to compute and print the sum of two given integers (greater or equal to zero). In the event that the given integers or the sum exceed 80 digits, print \"overflow\".\n",
    "Input first integer:\n",
    "25\n",
    "Input second integer:\n",
    "22\n",
    "Sum of the two integers: 47"
   ]
  },
  {
   "cell_type": "code",
   "execution_count": 33,
   "id": "67fa5a74-5581-41eb-901f-70a18bdafae7",
   "metadata": {},
   "outputs": [
    {
     "name": "stdin",
     "output_type": "stream",
     "text": [
      "First Integer:  34\n",
      "Second Integer:  12\n"
     ]
    },
    {
     "name": "stdout",
     "output_type": "stream",
     "text": [
      "46\n"
     ]
    }
   ],
   "source": [
    "n1 = int(input('First Integer: '))\n",
    "n2 = int(input('Second Integer: '))\n",
    "\n",
    "if n1 + n2 > 80:\n",
    "    print('Overflow')\n",
    "elif n1 + n2 <= 80:\n",
    "    print(n1 + n2)\n",
    "    "
   ]
  },
  {
   "cell_type": "markdown",
   "id": "57c3b678-8ca2-40a7-b888-ff7ad3ef3eca",
   "metadata": {},
   "source": [
    "42. Write a Python program that accepts six numbers as input and sorts them in descending order.\n",
    "\n",
    "Input:\n",
    "Input consists of six numbers n1, n2, n3, n4, n5, n6 (-100000 <= n1, n2, n3, n4, n5, n6 <= 100000). The six numbers are separated by a space.\n",
    "Input six integers:\n",
    "15 30 25 14 35 40\n",
    "After sorting the said integers:\n",
    "40 35 30 25 15 14"
   ]
  },
  {
   "cell_type": "code",
   "execution_count": 40,
   "id": "6503e5b7-e195-48cd-8197-078c993f4a0b",
   "metadata": {},
   "outputs": [
    {
     "name": "stdin",
     "output_type": "stream",
     "text": [
      "Enter the six numbers:  12 45 78 23 56 89 \n"
     ]
    },
    {
     "name": "stdout",
     "output_type": "stream",
     "text": [
      "12 23 45 56 78 89\n"
     ]
    }
   ],
   "source": [
    "int_list = list(map(int, input('Enter the six numbers: ').split()))\n",
    "sorted_list = sorted(int_list)\n",
    "print(*sorted_list)"
   ]
  },
  {
   "cell_type": "markdown",
   "id": "3c88863f-ed27-433a-b6bf-867c1a503001",
   "metadata": {},
   "source": [
    "44. Write a Python program to find the maximum sum of a contiguous subsequence from a given sequence of numbers a1, a2, a3, ... an. A subsequence of one element is also a continuous subsequence.\n",
    "\n",
    "    Input:\n",
    "You can assume that 1 <= n <= 5000 and -100000 <= ai <= 100000.\n",
    "Input numbers are separated by a space.\n",
    "Input 0 to exit.\n",
    "Input number of sequence of numbers you want to input (0 to exit):\n",
    "3\n",
    "Input numbers:\n",
    "2\n",
    "4\n",
    "6\n",
    "Maximum sum of the said contiguous subsequence: 12\n",
    "Input number of sequence of numbers you want to input (0 to exit):\n",
    "0"
   ]
  },
  {
   "cell_type": "code",
   "execution_count": 41,
   "id": "190f61ce-2a79-406a-bae6-8e372d3faa60",
   "metadata": {},
   "outputs": [
    {
     "name": "stdout",
     "output_type": "stream",
     "text": [
      "Input number of sequence of numbers you want to input\n"
     ]
    },
    {
     "name": "stdin",
     "output_type": "stream",
     "text": [
      " 3\n"
     ]
    },
    {
     "name": "stdout",
     "output_type": "stream",
     "text": [
      "Input numbers: \n"
     ]
    },
    {
     "name": "stdin",
     "output_type": "stream",
     "text": [
      " 2\n",
      " 4\n",
      " 6\n"
     ]
    },
    {
     "name": "stdout",
     "output_type": "stream",
     "text": [
      "Maximum sum of the said contiguous subsequence:\n",
      "12\n",
      "Input number of sequence of numbers you want to input\n"
     ]
    },
    {
     "name": "stdin",
     "output_type": "stream",
     "text": [
      " 0\n"
     ]
    }
   ],
   "source": [
    "while True:\n",
    "    print('Input number of sequence of numbers you want to input')\n",
    "    n = int(input())\n",
    "    if n== 0:\n",
    "        break\n",
    "    else:\n",
    "        A = []\n",
    "        Sum = []\n",
    "        print('Input numbers: ')\n",
    "        for i in range(n):\n",
    "            A.append(int(input()))\n",
    "        Wa = 0\n",
    "        for i in range(0, n):\n",
    "            Wa += A[i]\n",
    "            Sum.append(Wa)\n",
    "        for i in range(0, n):\n",
    "            for j in range(0, i):\n",
    "                Num = Sum[i] - Sum[j]\n",
    "                Sum.append(Num)\n",
    "        print(\"Maximum sum of the said contiguous subsequence:\")\n",
    "        print(max(Sum))    "
   ]
  },
  {
   "cell_type": "markdown",
   "id": "6f17cb99-f914-4c71-869c-cab47a3bea88",
   "metadata": {},
   "source": [
    "47. Write a  Python program that reads text (only alphabetical characters and spaces) and prints two words. The first word is the one that appears most often in the text. The second one is the word with the most letters.\n",
    "\n",
    "Note: A word is a sequence of letters which is separated by the spaces.\n",
    "\n",
    "Input:\n",
    "A text is given in a line with following condition:\n",
    "a. The number of letters in the text is less than or equal to 1000.\n",
    "b. The number of letters in a word is less than or equal to 32.\n",
    "c. There is only one word which is arise most frequently in given text.\n",
    "d. There is only one word which has the maximum number of letters in given text.\n",
    "Input text: Thank you for your comment and your participation.\n",
    "Output: your participation."
   ]
  },
  {
   "cell_type": "code",
   "execution_count": 48,
   "id": "cc404f08-3b0a-4e59-8ce7-de01136293ab",
   "metadata": {},
   "outputs": [
    {
     "name": "stdin",
     "output_type": "stream",
     "text": [
      "Enter the text:  Thank you for your comment and your participation.\n"
     ]
    },
    {
     "name": "stdout",
     "output_type": "stream",
     "text": [
      "your participation.\n"
     ]
    }
   ],
   "source": [
    "string_in = list(str(input('Enter the text: ')).split())\n",
    "\n",
    "lenght = len(string_in[0])\n",
    "max_freq = ''\n",
    "most_length = ''\n",
    "\n",
    "import collections\n",
    "\n",
    "counts = collections.Counter(string_in)\n",
    "most_freq = counts.most_common()[0][0]\n",
    "\n",
    "for i in string_in:\n",
    "    if len(i) > lenght:\n",
    "        lenght = len(i)\n",
    "        most_length = i\n",
    "\n",
    "print(most_freq, most_length)\n",
    "    "
   ]
  },
  {
   "cell_type": "markdown",
   "id": "c2021332-2d4e-427c-aabc-4cfc9c4ea3b2",
   "metadata": {},
   "source": [
    "48. Write a Python program that reads n digits (given) chosen from 0 to 9 and prints the number of combinations where the sum of the digits equals another given number (s). Do not use the same digits in a combination.\n",
    "Input:\n",
    "Two integers as number of combinations and their sum by a single space in a line. Input 0 0 to exit.\n",
    "Input number of combinations and sum, input 0 0 to exit:\n",
    "5 6\n",
    "2 4\n",
    "0 0\n",
    "2\n"
   ]
  },
  {
   "cell_type": "code",
   "execution_count": 49,
   "id": "d5b03739-10c6-4f4e-aa55-ce94b7fd0eba",
   "metadata": {},
   "outputs": [
    {
     "name": "stdout",
     "output_type": "stream",
     "text": [
      "Input number of combinations and sum, input 0 0 to exit :\n"
     ]
    },
    {
     "name": "stdin",
     "output_type": "stream",
     "text": [
      " 5 6\n",
      " 6 7\n",
      " 0 0\n"
     ]
    },
    {
     "name": "stdout",
     "output_type": "stream",
     "text": [
      "0\n"
     ]
    }
   ],
   "source": [
    "import itertools\n",
    "print('Input number of combinations and sum, input 0 0 to exit :')\n",
    "while True:\n",
    "    x, y = map(int, input().split())\n",
    "    if x == 0 and y == 0:\n",
    "        break\n",
    "    s = list(itertools.combinations(range(10), x))\n",
    "    ctr = 0\n",
    "    for i in s:\n",
    "        if sum(i) == y:\n",
    "            ctr += 1\n",
    "\n",
    "print(ctr)"
   ]
  },
  {
   "cell_type": "markdown",
   "id": "a0dd4bfe-cb9c-48c3-8dc2-435ef032a57c",
   "metadata": {},
   "source": [
    "50. Write a Python program to replace a string \"Python\" with \"Java\" and \"Java\" with \"Python\" in a given string."
   ]
  },
  {
   "cell_type": "code",
   "execution_count": 3,
   "id": "50986af7-594d-4442-b6e0-f61052287a87",
   "metadata": {},
   "outputs": [
    {
     "name": "stdin",
     "output_type": "stream",
     "text": [
      "Enter text:  Java is better than Python. But Python is popular than Java.\n"
     ]
    },
    {
     "name": "stdout",
     "output_type": "stream",
     "text": [
      "Swaped String:  Python is better than Java. But Java is popular than Python.\n"
     ]
    }
   ],
   "source": [
    "string_input = str(input('Enter text: '))\n",
    "\n",
    "def swap_words(text):\n",
    "    place_holder = 'Temp_Placeholder'\n",
    "    text = text.replace('Python', place_holder)\n",
    "    text = text.replace('Java', 'Python')\n",
    "    text = text.replace(place_holder, 'Java')\n",
    "    return text\n",
    "\n",
    "print('Swaped String: ', swap_words(string_input))"
   ]
  },
  {
   "cell_type": "markdown",
   "id": "fb5f4d0b-172d-4ca2-bb20-838f961756a5",
   "metadata": {},
   "source": [
    "51. Write a Python program that determines the difference between the largest and smallest integers created by 8 numbers from 0 to 9. The number that can be rearranged shall start with 0 as in 00135668.\n",
    "\n",
    "Input:\n",
    "Input an integer created by 8 numbers from 0 to 9.:\n",
    "2345\n",
    "Difference between the largest and the smallest integer from the given integer:\n",
    "3087"
   ]
  },
  {
   "cell_type": "code",
   "execution_count": 4,
   "id": "45ae74bd-10da-4ef2-89f2-a64a211951eb",
   "metadata": {},
   "outputs": [
    {
     "name": "stdout",
     "output_type": "stream",
     "text": [
      "Difference:  53317665\n"
     ]
    }
   ],
   "source": [
    "def find_diff(num):\n",
    "    num_str = str(num).zfill(8) # Pad the number with 0s if necessary\n",
    "    largest_num = int(''.join(sorted(num_str, reverse = True)))\n",
    "    smallest_num = int(''.join(sorted(num_str)))\n",
    "    return largest_num - smallest_num\n",
    "\n",
    "print('Difference: ', find_diff(3253))"
   ]
  },
  {
   "cell_type": "code",
   "execution_count": 8,
   "id": "0b53c986-ce19-4e6b-9544-bdba9c772b0b",
   "metadata": {},
   "outputs": [
    {
     "name": "stdout",
     "output_type": "stream",
     "text": [
      " 0 fills:  00003253\n",
      "['5', '3', '3', '2']\n",
      "5332\n"
     ]
    }
   ],
   "source": [
    "num = 3253\n",
    "print(' 0 fills: ',str(num).zfill(8))\n",
    "print(sorted(str(num), reverse = True))\n",
    "print(int(''.join(sorted(str(num), reverse = True))))"
   ]
  },
  {
   "cell_type": "markdown",
   "id": "8b1168be-cba1-41b1-b695-3c777ab582fe",
   "metadata": {},
   "source": [
    "52. Write a Python program to compute the sum of the first n prime numbers.\n",
    "Input:\n",
    "n ( n <= 10000). Input 0 to exit the program.\n",
    "Input a number (n<=10000) to compute the sum:(0 to exit)\n",
    "25\n",
    "Sum of first 25 prime numbers:\n",
    "1060"
   ]
  },
  {
   "cell_type": "code",
   "execution_count": 9,
   "id": "4798c16c-ba45-44f8-ad2a-b8e4ef47c42f",
   "metadata": {},
   "outputs": [
    {
     "name": "stdin",
     "output_type": "stream",
     "text": [
      "Input a number to compute sum:  25\n"
     ]
    },
    {
     "name": "stdout",
     "output_type": "stream",
     "text": [
      "Sum of n prime numbers:  253\n"
     ]
    }
   ],
   "source": [
    "n = int(input('Input a number to compute sum: '))\n",
    "\n",
    "def is_prime(num):\n",
    "    if num <= 1:\n",
    "        return False\n",
    "    for i in range(2, int(num**0.5) + 1):\n",
    "        if num % i == 0:\n",
    "            return False\n",
    "    return True\n",
    "\n",
    "def sum_prime(n):\n",
    "    prime_count = 2\n",
    "    num = 0\n",
    "    prime_sum = 0\n",
    "    while prime_count < n:\n",
    "        if is_prime(num):\n",
    "            prime_sum += num\n",
    "            prime_count += 1\n",
    "        num += 1\n",
    "    return prime_sum\n",
    "\n",
    "if n == 0:\n",
    "    print('Exiting')\n",
    "else:\n",
    "    print('Sum of n prime numbers: ',sum_prime(n))"
   ]
  },
  {
   "cell_type": "markdown",
   "id": "b5801771-aa7d-4088-84c0-13535c89ca97",
   "metadata": {},
   "source": [
    "53. Write a Python program which accepts an even number (>=4, Goldbach number) from the user and creates combinations which express the given number as a sum of two prime numbers. Print the number of combinations."
   ]
  },
  {
   "cell_type": "code",
   "execution_count": 14,
   "id": "c9d1e11c-10a2-4bb9-aea7-bbccba266fd7",
   "metadata": {},
   "outputs": [
    {
     "name": "stdin",
     "output_type": "stream",
     "text": [
      "Enter an even number (>=4):  45\n"
     ]
    },
    {
     "name": "stdout",
     "output_type": "stream",
     "text": [
      "Please enter a valid even number greater than or equal to 4.\n"
     ]
    }
   ],
   "source": [
    "def is_prime(num):\n",
    "    if num <= 1:\n",
    "        return False\n",
    "    for i in range(2, int(num**0.5) + 1):\n",
    "        if num % i == 0:\n",
    "            return False\n",
    "    return True\n",
    "\n",
    "def goldbach_combinations(even_num):\n",
    "    combinations = []\n",
    "    for i in range(2, even_num // 2 + 1):\n",
    "        if is_prime(i) and is_prime(even_num - i):\n",
    "            combinations.append((i, even_num - i))\n",
    "    return combinations\n",
    "\n",
    "# Example input\n",
    "even_num = int(input(\"Enter an even number (>=4): \"))\n",
    "if even_num < 4 or even_num % 2 != 0:\n",
    "    print(\"Please enter a valid even number greater than or equal to 4.\")\n",
    "else:\n",
    "    combinations = goldbach_combinations(even_num)\n",
    "    print(f\"Number of combinations: {len(combinations)}\")\n",
    "    for combo in combinations:\n",
    "        print(f\"{combo} + {combo} = {even_num}\")\n"
   ]
  },
  {
   "cell_type": "markdown",
   "id": "8a99f614-ba43-49cb-9be8-4545564d5a65",
   "metadata": {},
   "source": [
    "56. Write a Python program to sum all numerical values (positive integers) embedded in a sentence."
   ]
  },
  {
   "cell_type": "code",
   "execution_count": 17,
   "id": "cb367e78-dc59-4ae2-80ae-3322e8d7cc50",
   "metadata": {},
   "outputs": [
    {
     "name": "stdout",
     "output_type": "stream",
     "text": [
      "Sum of all numerical values in the sentence: 15\n"
     ]
    }
   ],
   "source": [
    "import re\n",
    "def sum_of_num_in_sentences(sentence):\n",
    "    numbers = re.findall(r'\\b\\d+\\b',sentence)\n",
    "    total_sum = sum(map(int, numbers))\n",
    "    return total_sum\n",
    "\n",
    "sentence = \"I have 2 apples, 3 bananas, and 10 oranges.\"\n",
    "result = sum_of_num_in_sentences(sentence)\n",
    "print(f\"Sum of all numerical values in the sentence: {result}\")"
   ]
  },
  {
   "cell_type": "markdown",
   "id": "a790fda7-d324-40df-8b02-dfb1ef4ef8e5",
   "metadata": {},
   "source": [
    "58. When character are consecutive in a string , it is possible to shorten the character string by replacing the character with a certain rule. For example, in the case of the character string YYYYY, if it is expressed as # 5 Y, it is compressed by one character.\n",
    "Write a Python program to restore the original string by entering the compressed string with this rule. However, the # character does not appear in the restored character string.\n",
    "\n",
    "Input:\n",
    "The restored character string for each character on one line.\n",
    "Original text: XY#6Z1#4023\n",
    "XYZZZZZZ1000023\n",
    "Original text: #39+1=1#30\n",
    "999+1=1000\n",
    "Click me to se"
   ]
  },
  {
   "cell_type": "code",
   "execution_count": 23,
   "id": "344d9a9d-028b-40b0-a2b1-9a1f9a9496b3",
   "metadata": {},
   "outputs": [
    {
     "name": "stdout",
     "output_type": "stream",
     "text": [
      "Original text: XY#6Z1#4023\n",
      "XYZZZZZZ1000023\n",
      "Original text: #39+1=1#30\n",
      "999+1=1000\n"
     ]
    }
   ],
   "source": [
    "# Define a function 'restore_original_str' with parameter 'a1'\n",
    "def restore_original_str(a1):\n",
    "    # Initialize an empty string 'result' to store the restored original text\n",
    "    result = \"\"\n",
    "    # Initialize index 'ind' to 0\n",
    "    ind = 0\n",
    "    # Set 'end' to the length of the input string 'a1'\n",
    "    end = len(a1)\n",
    "    \n",
    "    # Start a while loop until 'ind' reaches the end of the input string\n",
    "    while ind < end:\n",
    "        # Check if the current character is '#' (indicating a pattern)\n",
    "        if a1[ind] == \"#\":\n",
    "            # Append the character at the next position repeated by the integer at the position after that\n",
    "            result += a1[ind + 2] * int(a1[ind + 1])\n",
    "            #         = Z * 6 -> Will append Z six times\n",
    "            #         = 0 * 4 -> Will append 0 four times\n",
    "            # Move the index 'ind' to the position after the pattern\n",
    "            ind += 3 # One pattern is explained in 3 characters '#6z'\n",
    "        else:\n",
    "            # If not a pattern, append the current character\n",
    "            result += a1[ind]\n",
    "            # Move the index 'ind' to the next position\n",
    "            ind += 1\n",
    "    \n",
    "    # Return the restored original text\n",
    "    return result\n",
    "\n",
    "# Print a statement indicating the original text and the input string\n",
    "print(\"Original text:\", \"XY#6Z1#4023\")\n",
    "# Call the 'restore_original_str' function with the input string and print the result\n",
    "print(restore_original_str(\"XY#6Z1#4023\"))\n",
    "\n",
    "# Print another statement with a different input string\n",
    "print(\"Original text:\", \"#39+1=1#30\")\n",
    "# Call the 'restore_original_str' function with the second input string and print the result\n",
    "print(restore_original_str(\"#39+1=1#30\"))\n"
   ]
  },
  {
   "cell_type": "markdown",
   "id": "2d746471-bc97-4ba4-bcd3-29b3a5c3f2d0",
   "metadata": {},
   "source": [
    "61. Arrange integers (0 to 99) as narrow hilltop, as illustrated in Figure 1. Reading such data representing huge, when starting from the top and proceeding according to the next rule to the bottom. Write a Python program that compute the maximum value of the sum of the passing integers.\n",
    "Input:\n",
    "A series of integers separated by commas are given in diamonds. No spaces are included in each line. The input example corresponds to Figure 1. The number of lines of data is less than 100 lines.\n",
    "Output:\n",
    "The maximum value of the sum of integers passing according to the rule on one line.\n",
    "Input the numbers (ctrl+d to exit):\n",
    "8\n",
    "4, 9\n",
    "9, 2, 1\n",
    "3, 8, 5, 5\n",
    "5, 6, 3, 7, 6\n",
    "3, 8, 5, 5\n",
    "9, 2, 1\n",
    "4, 9\n",
    "8\n",
    "                   Maximum value of the sum of integers passing according to the rule on one line.\n",
    "64"
   ]
  },
  {
   "cell_type": "code",
   "execution_count": 27,
   "id": "80f60dd7-38df-4d67-98b9-91fa6eed7c98",
   "metadata": {},
   "outputs": [
    {
     "name": "stdout",
     "output_type": "stream",
     "text": [
      "Input the numbers (ctrl+d to exit):\n"
     ]
    },
    {
     "ename": "IndexError",
     "evalue": "list index out of range",
     "output_type": "error",
     "traceback": [
      "\u001b[1;31m---------------------------------------------------------------------------\u001b[0m",
      "\u001b[1;31mIndexError\u001b[0m                                Traceback (most recent call last)",
      "Cell \u001b[1;32mIn[27], line 11\u001b[0m\n\u001b[0;32m      8\u001b[0m nums \u001b[38;5;241m=\u001b[39m [\u001b[38;5;28mlist\u001b[39m(\u001b[38;5;28mmap\u001b[39m(\u001b[38;5;28mint\u001b[39m, l\u001b[38;5;241m.\u001b[39msplit(\u001b[38;5;124m\"\u001b[39m\u001b[38;5;124m,\u001b[39m\u001b[38;5;124m\"\u001b[39m))) \u001b[38;5;28;01mfor\u001b[39;00m l \u001b[38;5;129;01min\u001b[39;00m sys\u001b[38;5;241m.\u001b[39mstdin]\n\u001b[0;32m     10\u001b[0m \u001b[38;5;66;03m# Initialize the maximum value vector with the first row of input\u001b[39;00m\n\u001b[1;32m---> 11\u001b[0m mvv \u001b[38;5;241m=\u001b[39m \u001b[43mnums\u001b[49m\u001b[43m[\u001b[49m\u001b[38;5;241;43m0\u001b[39;49m\u001b[43m]\u001b[49m\n\u001b[0;32m     13\u001b[0m \u001b[38;5;66;03m# Iterate over the remaining rows in a pyramid fashion to find the maximum path sum\u001b[39;00m\n\u001b[0;32m     14\u001b[0m \u001b[38;5;28;01mfor\u001b[39;00m i \u001b[38;5;129;01min\u001b[39;00m \u001b[38;5;28mrange\u001b[39m(\u001b[38;5;241m1\u001b[39m, (\u001b[38;5;28mlen\u001b[39m(nums) \u001b[38;5;241m+\u001b[39m \u001b[38;5;241m1\u001b[39m) \u001b[38;5;241m/\u001b[39m\u001b[38;5;241m/\u001b[39m \u001b[38;5;241m2\u001b[39m):\n",
      "\u001b[1;31mIndexError\u001b[0m: list index out of range"
     ]
    }
   ],
   "source": [
    "# Import the sys module for reading input\n",
    "import sys\n",
    "\n",
    "# Print statement to instruct the user to input numbers (ctrl+d to exit)\n",
    "print(\"Input the numbers (ctrl+d to exit):\")\n",
    "\n",
    "# Read lines from the standard input and create a list of lists of integers\n",
    "nums = [list(map(int, l.split(\",\"))) for l in sys.stdin]\n",
    "\n",
    "# Initialize the maximum value vector with the first row of input\n",
    "mvv = nums[0]\n",
    "\n",
    "# Iterate over the remaining rows in a pyramid fashion to find the maximum path sum\n",
    "for i in range(1, (len(nums) + 1) // 2):\n",
    "    rvv = [0] * (i + 1)\n",
    "    for j in range(i):\n",
    "        rvv[j] = max(rvv[j], mvv[j] + nums[i][j])\n",
    "        rvv[j + 1] = max(rvv[j + 1], mvv[j] + nums[i][j + 1])\n",
    "    mvv = rvv\n",
    "\n",
    "# Continue iterating over the remaining rows in a reversed pyramid fashion\n",
    "for i in range((len(nums) + 1) // 2, len(nums)):\n",
    "    rvv = [0] * (len(mvv) - 1)\n",
    "    for j in range(len(rvv)):\n",
    "        rvv[j] = max(mvv[j], mvv[j + 1]) + nums[i][j]\n",
    "    mvv = rvv\n",
    "\n",
    "# Print the maximum value of the sum of integers passing according to the rule\n",
    "print(\"Maximum value of the sum of integers passing according to the rule on one line.\")\n",
    "print(mvv[0])\n"
   ]
  },
  {
   "cell_type": "markdown",
   "id": "9b39c5cf-5d05-407a-b2d0-f6b7d68d6642",
   "metadata": {},
   "source": [
    "63. Write a Python program that adds up the columns and rows of the given table as shown in the specified figure.\n",
    "Input number of rows/columns (0 to exit)\n",
    "4\n",
    "Input cell value:\n",
    "25 69 51 26\n",
    "68 35 29 54\n",
    "54 57 45 63\n",
    "61 68 47 59\n",
    "Result:\n",
    "25 69 51 26 171\n",
    "68 35 29 54 186\n",
    "54 57 45 63 219\n",
    "61 68 47 59 235\n",
    "208 229 172 202 811\n",
    "Input number of rows/columns (0 to exit)"
   ]
  },
  {
   "cell_type": "code",
   "execution_count": 2,
   "id": "14ffbd84-edbf-49b9-bb83-b0595eb82966",
   "metadata": {},
   "outputs": [
    {
     "name": "stdin",
     "output_type": "stream",
     "text": [
      "Input number of rows/columns (0 to exit):  4\n"
     ]
    },
    {
     "name": "stdout",
     "output_type": "stream",
     "text": [
      "Input cell value:\n"
     ]
    },
    {
     "name": "stdin",
     "output_type": "stream",
     "text": [
      " 2 5 6 3\n",
      " 5 2 9 4\n",
      " 3 5 1 9\n",
      " 6 3 5 1\n"
     ]
    },
    {
     "name": "stdout",
     "output_type": "stream",
     "text": [
      "Result:\n",
      "2 5 6 3 16\n",
      "5 2 9 4 20\n",
      "3 5 1 9 18\n",
      "6 3 5 1 15\n",
      "16 15 21 17 69\n"
     ]
    },
    {
     "name": "stdin",
     "output_type": "stream",
     "text": [
      "Input number of rows/columns (0 to exit):  0\n"
     ]
    }
   ],
   "source": [
    "def add_rows_and_columns(matrix):\n",
    "    # Calculate the sum for each row and append it to the row\n",
    "    for row in matrix:\n",
    "        row_sum = sum(row)\n",
    "        row.append(row_sum)\n",
    "    \n",
    "    # Calculate the sum for each column and append it to the last row\n",
    "    num_cols = len(matrix)\n",
    "    col_sums = [sum(matrix[row][col] for row in range(len(matrix))) for col in range(num_cols)]\n",
    "    matrix.append(col_sums)\n",
    "    \n",
    "    # Calculate the grand total and append it to the last element of the last row\n",
    "    grand_total = sum(col_sums)\n",
    "    matrix[-1].append(grand_total)\n",
    "    \n",
    "    return matrix\n",
    "\n",
    "def print_matrix(matrix):\n",
    "    for row in matrix:\n",
    "        print(\" \".join(map(str, row)))\n",
    "\n",
    "def main():\n",
    "    while True:\n",
    "        n = int(input(\"Input number of rows/columns (0 to exit): \"))\n",
    "        if n == 0:\n",
    "            break\n",
    "        \n",
    "        matrix = []\n",
    "        print(\"Input cell value:\")\n",
    "        for _ in range(n):\n",
    "            row = list(map(int, input().split()))\n",
    "            matrix.append(row)\n",
    "        \n",
    "        result_matrix = add_rows_and_columns(matrix)\n",
    "        print(\"Result:\")\n",
    "        print_matrix(result_matrix)\n",
    "\n",
    "if __name__ == \"__main__\":\n",
    "    main()\n"
   ]
  },
  {
   "cell_type": "markdown",
   "id": "b3b10c29-e0ad-4b70-b66f-218fcf2ec3fa",
   "metadata": {},
   "source": [
    "64. Given a list of numbers and a number k, write a Python program to check whether the sum of any two numbers from the list is equal to k or not.\n",
    "For example, given [1, 5, 11, 5] and k = 16, return true since 11 + 5 is 16.\n",
    "Sample Input:\n",
    "([12, 5, 0, 5], 10)\n",
    "([20, 20, 4, 5], 40)\n",
    "([1, -1], 0)\n",
    "([1, 1, 0], 0)\n",
    "Sample Output:\n",
    "True\n",
    "True\n",
    "True\n",
    "False"
   ]
  },
  {
   "cell_type": "code",
   "execution_count": 5,
   "id": "5036b4c2-bd21-4c00-8e4e-bd95cbd9f92c",
   "metadata": {},
   "outputs": [
    {
     "name": "stdout",
     "output_type": "stream",
     "text": [
      "True\n",
      "True\n",
      "True\n",
      "False\n"
     ]
    }
   ],
   "source": [
    "def list_sum_check(l1, k):\n",
    "    for i in range(len(l1)):\n",
    "        for j in range(i+1, len(l1)):\n",
    "            if l1[i] + l1[j] == k:\n",
    "                return True\n",
    "    return False\n",
    "\n",
    "print(list_sum_check([12, 5, 0, 5], 10))\n",
    "print(list_sum_check([20, 20, 4, 5], 40))\n",
    "print(list_sum_check([1, -1], 0))\n",
    "print(list_sum_check([1, 1, 0], 0))"
   ]
  },
  {
   "cell_type": "markdown",
   "id": "0519d8d0-6be8-4d34-b151-4d7f8653177f",
   "metadata": {},
   "source": [
    "Write a Python program to find the longest word in a set of words which is a subsequence of a given string.\n",
    "Sample Input:\n",
    "(\"Green\", {\"Gn\", \"Gren\", \"ree\", \"en\"})\n",
    "(\"pythonexercises\", {\" py\", \"ex\", \"exercises\"})\n",
    "Sample Output:\n",
    "Gren\n",
    "exercises"
   ]
  },
  {
   "cell_type": "code",
   "execution_count": 9,
   "id": "2d317a25-1539-49ef-bf7d-4933299a744d",
   "metadata": {},
   "outputs": [
    {
     "name": "stdout",
     "output_type": "stream",
     "text": [
      "Gren\n"
     ]
    }
   ],
   "source": [
    "def longest_str(word, substrings):\n",
    "    max_len = len(list(substrings)[0])\n",
    "    for i in substrings:\n",
    "        if len(i) > max_len:\n",
    "            max_len = len(i)\n",
    "            return i\n",
    "\n",
    "print(longest_str(\"Green\", {\"Gn\", \"Gren\", \"ree\", \"en\"}))"
   ]
  },
  {
   "cell_type": "code",
   "execution_count": 10,
   "id": "5aceef89-30ed-4881-9931-268504587dfd",
   "metadata": {},
   "outputs": [
    {
     "name": "stdout",
     "output_type": "stream",
     "text": [
      "True\n"
     ]
    }
   ],
   "source": [
    "def happy_num(n):\n",
    "    seen = set()\n",
    "    while n != 1 and n not in seen:\n",
    "        seen.add(n)\n",
    "        n = sum(int(char) ** 2 for char in str(n))\n",
    "    return n == 1\n",
    "\n",
    "print(happy_num(7))\n",
    "        "
   ]
  },
  {
   "cell_type": "code",
   "execution_count": 12,
   "id": "1bef85b7-c58d-4cce-80f5-0a787376fdcb",
   "metadata": {},
   "outputs": [
    {
     "name": "stdout",
     "output_type": "stream",
     "text": [
      "[1, 0, 0]\n",
      "[5, 6, 3]\n"
     ]
    }
   ],
   "source": [
    "def separate_digits(n):\n",
    "    digit_list = [int(digit) for digit in str(n)]\n",
    "    return digit_list\n",
    "print(separate_digits(100))\n",
    "print(separate_digits(563))"
   ]
  },
  {
   "cell_type": "markdown",
   "id": "c51a89d5-b867-4bfb-9823-715d9cc0f7c8",
   "metadata": {},
   "source": [
    "Write a  Python program to find and print the first 10 happy numbers.\n",
    "Sample Input:\n",
    "[:10]\n",
    "Sample Output:\n",
    "[1, 7, 10, 13, 19, 23, 28, 31, 32, 44]"
   ]
  },
  {
   "cell_type": "code",
   "execution_count": 17,
   "id": "16ef4946-61ae-41c9-8950-0f6ffc8c3ca2",
   "metadata": {},
   "outputs": [
    {
     "name": "stdout",
     "output_type": "stream",
     "text": [
      "[1, 7, 10, 13, 19, 23, 28, 31, 32, 44]\n"
     ]
    }
   ],
   "source": [
    "def is_happy_n(n):\n",
    "    seen = set()\n",
    "    while n != 1 and n not in seen:\n",
    "        seen.add(n)\n",
    "        n = sum(int(char) ** 2 for char in str(n))\n",
    "    return n == 1\n",
    "\n",
    "happy_nums = []\n",
    "i = 1\n",
    "while len(happy_nums) < 10:\n",
    "    if is_happy_n(i):\n",
    "        happy_nums.append(i)\n",
    "    i += 1\n",
    "print(happy_nums)"
   ]
  },
  {
   "cell_type": "markdown",
   "id": "33a60fe8-04ff-4276-b1a4-68404d802374",
   "metadata": {},
   "source": [
    "68. Write a Python program that counts the number of prime numbers that are less than a given non-negative number.\n",
    "Sample Input:\n",
    "(10)\n",
    "(100)\n",
    "Sample Output:\n",
    "4\n",
    "25"
   ]
  },
  {
   "cell_type": "code",
   "execution_count": 20,
   "id": "ebc29c7a-ec84-41dc-9de8-25b1cd9b14e0",
   "metadata": {},
   "outputs": [
    {
     "name": "stdout",
     "output_type": "stream",
     "text": [
      "4\n"
     ]
    }
   ],
   "source": [
    "def count_prime(n):\n",
    "    counter = 0\n",
    "    for num in range(n):\n",
    "        if num <= 1:\n",
    "            continue\n",
    "        for i in range(2, num):\n",
    "            if (num % i) == 0:\n",
    "                break\n",
    "        else:\n",
    "            counter += 1\n",
    "    return counter\n",
    "print(count_prime(10))\n",
    "            "
   ]
  },
  {
   "cell_type": "markdown",
   "id": "369f0891-11f5-4e80-aeb2-d6ef4ef8b18a",
   "metadata": {},
   "source": [
    "Write a Python program to check if two given strings are isomorphic to each other or not.\n",
    "Sample Input:\n",
    "(\"foo\", \"bar\")\n",
    "(\"bar\", \"foo\")\n",
    "(\"paper\", \"title\")\n",
    "(\"title\", \"paper\")\n",
    "(\"apple\", \"orange\")\n",
    "(\"aa\", \"ab\")\n",
    "(\"ab\", \"aa\")"
   ]
  },
  {
   "cell_type": "code",
   "execution_count": 22,
   "id": "9c8a5a21-ef2c-40d0-bcee-fc861ecbed63",
   "metadata": {},
   "outputs": [
    {
     "name": "stdout",
     "output_type": "stream",
     "text": [
      "False\n",
      "False\n",
      "True\n",
      "True\n",
      "False\n",
      "False\n",
      "False\n"
     ]
    }
   ],
   "source": [
    "# Function to check if two strings are isomorphic\n",
    "def isIsomorphic(str1, str2):          \n",
    "    dict_str1 = {}  # Dictionary to store mapping for characters in str1\n",
    "    dict_str2 = {}  # Dictionary to store mapping for characters in str2\n",
    "    \n",
    "    # Enumerate through characters in str1 and store their positions in the dictionary\n",
    "    for i, value in enumerate(str1):\n",
    "        dict_str1[value] = dict_str1.get(value, []) + [i]\n",
    "            \n",
    "    # Enumerate through characters in str2 and store their positions in the dictionary\n",
    "    for j, value in enumerate(str2):\n",
    "        dict_str2[value] = dict_str2.get(value, []) + [j]\n",
    "    \n",
    "    # Check if the values (positions) in the dictionaries are the same after sorting\n",
    "    if sorted(dict_str1.values()) == sorted(dict_str2.values()):\n",
    "        return True\n",
    "    else:\n",
    "        return False\n",
    "\n",
    "# Test cases\n",
    "print(isIsomorphic(\"foo\", \"bar\"))\n",
    "print(isIsomorphic(\"bar\", \"foo\"))\n",
    "print(isIsomorphic(\"paper\", \"title\"))\n",
    "print(isIsomorphic(\"title\", \"paper\"))\n",
    "print(isIsomorphic(\"apple\", \"orange\"))\n",
    "print(isIsomorphic(\"aa\", \"ab\"))\n",
    "print(isIsomorphic(\"ab\", \"aa\"))\n"
   ]
  },
  {
   "cell_type": "code",
   "execution_count": 24,
   "id": "16936963-54ea-4d10-bd59-502f9eca7521",
   "metadata": {},
   "outputs": [
    {
     "name": "stdout",
     "output_type": "stream",
     "text": [
      "0 b\n",
      "1 a\n",
      "2 r\n"
     ]
    }
   ],
   "source": [
    "string = 'bar'\n",
    "for i, value in enumerate(string):\n",
    "    print(i, value)"
   ]
  },
  {
   "cell_type": "markdown",
   "id": "4c0d5c58-4eb2-4e43-9e11-a376aa546cf9",
   "metadata": {},
   "source": [
    "70. Write a Python program to find the longest common prefix string among a given array of strings. Return false if there is no common prefix.\n",
    "For Example, longest common prefix of \"abcdefgh\" and \"abcefgh\" is \"abc\".\n",
    "Sample Input:\n",
    "[\"abcdefgh\",\"abcefgh\"]\n",
    "[\"w3r\",\"w3resource\"]\n",
    "[\"Python\",\"PHP\", \"Perl\"]\n",
    "[\"Python\",\"PHP\", \"Java\"]\n",
    "Sample Output:\n",
    "abc\n",
    "w3r\n",
    "P"
   ]
  },
  {
   "cell_type": "code",
   "execution_count": 29,
   "id": "4dbea2c2-6fd1-402d-b643-e9669849351e",
   "metadata": {},
   "outputs": [
    {
     "name": "stdout",
     "output_type": "stream",
     "text": [
      "abc\n"
     ]
    }
   ],
   "source": [
    "def common_prefix(strs):\n",
    "    \n",
    "    common_prefix = ''\n",
    "    for i in range(min(len(str1), len(str2))):\n",
    "        if str1[i] == str2[i]:\n",
    "            common_prefix += str1[i]\n",
    "    return common_prefix\n",
    "\n",
    "print(common_prefix(\"abcdefgh\",\"abcefgh\"))"
   ]
  },
  {
   "cell_type": "markdown",
   "id": "c5b2cc09-2223-4dfb-ab32-0025ebc4a8fe",
   "metadata": {},
   "source": [
    "71. Write a Python program to reverse only the vowels of a given string.\n",
    "\n",
    "    Sample Input:\n",
    "(\"w3resource\")\n",
    "(\"Python\")\n",
    "(\"Perl\")\n",
    "(\"USA\")\n",
    "Sample Output:\n",
    "w3resuorce\n",
    "Python\n",
    "Perl\n",
    "ASU"
   ]
  },
  {
   "cell_type": "code",
   "execution_count": 12,
   "id": "71e9596d-d932-4d0e-b285-71578a6b0ce8",
   "metadata": {},
   "outputs": [
    {
     "name": "stdout",
     "output_type": "stream",
     "text": [
      "w3resuorce\n"
     ]
    }
   ],
   "source": [
    "def reverse_vowel(string):\n",
    "    vowel = ['a','e','i','o','u', 'A', 'E', 'I', 'O', 'U']\n",
    "    str_list = list(string)\n",
    "    vowel_list = [char for char in str_list if char in vowel]\n",
    "    vowel_list.reverse()\n",
    "    \n",
    "    vowel_index = 0\n",
    "    for i in range(len(str_list)):\n",
    "        if str_list[i] in vowel:\n",
    "            str_list[i] = vowel_list[vowel_index] # replacing the character at index i with char at index vowel_index\n",
    "            vowel_index += 1\n",
    "    return ''.join(str_list)\n",
    "\n",
    "print(reverse_vowel('w3resource'))"
   ]
  },
  {
   "cell_type": "markdown",
   "id": "5597d8b8-bfdd-4d68-93f2-1a5209747712",
   "metadata": {},
   "source": [
    "72. Write a Python program to check whether a given integer is a palindrome or not.\n",
    "Note: An integer is a palindrome when it reads the same backward as forward. Negative numbers are not palindromic.\n",
    "Sample Input:\n",
    "(100)\n",
    "(252)\n",
    "(-838)\n",
    "Sample Output:\n",
    "False\n",
    "True\n",
    "False"
   ]
  },
  {
   "cell_type": "code",
   "execution_count": 14,
   "id": "209173c1-bedf-4009-94ca-9afa360265e4",
   "metadata": {},
   "outputs": [
    {
     "name": "stdout",
     "output_type": "stream",
     "text": [
      "False\n",
      "True\n",
      "False\n"
     ]
    }
   ],
   "source": [
    "def pallindrome_check(number):\n",
    "    return str(number) == str(number)[::-1]\n",
    "\n",
    "print(pallindrome_check(100))\n",
    "print(pallindrome_check(252))\n",
    "print(pallindrome_check(-838))"
   ]
  },
  {
   "cell_type": "markdown",
   "id": "2b8541b3-9fc9-4971-bcba-5ff819e7ed8c",
   "metadata": {},
   "source": [
    "73. Write a Python program that removes duplicate elements from a given array of numbers so that each element appears only once and returns the new length of the array.\n",
    "Sample Input:\n",
    "[0,0,1,1,2,2,3,3,4,4,4]\n",
    "[1, 2, 2, 3, 4, 4]\n",
    "Sample Output:\n",
    "5\n",
    "4"
   ]
  },
  {
   "cell_type": "code",
   "execution_count": 15,
   "id": "8394f800-7327-4e96-8733-2fd21d08c8ad",
   "metadata": {},
   "outputs": [
    {
     "name": "stdout",
     "output_type": "stream",
     "text": [
      "5\n",
      "4\n",
      "0\n"
     ]
    }
   ],
   "source": [
    "def remove_duplicate(l1):\n",
    "    return len(set(l1))\n",
    "\n",
    "print(remove_duplicate([0,0,1,1,2,2,3,3,4,4,4]))\n",
    "print(remove_duplicate([1, 2, 2, 3, 4, 4]))\n",
    "print(remove_duplicate([]))"
   ]
  },
  {
   "cell_type": "markdown",
   "id": "3ff8ce74-012d-4915-85ce-42a3a21b453b",
   "metadata": {},
   "source": [
    "74. Write a Python program to calculate the maximum profit from selling and buying values of stock. An array of numbers represent the stock prices in chronological order.\n",
    "For example, given [8, 10, 7, 5, 7, 15], the function will return 10, since the buying value of the stock is 5 dollars and sell value is 15 dollars.\n",
    "\n",
    "Sample Input:\n",
    "([8, 10, 7, 5, 7, 15])\n",
    "([1, 2, 8, 1])\n",
    "([])\n",
    "Sample Output:\n",
    "10\n",
    "7\n",
    "0"
   ]
  },
  {
   "cell_type": "code",
   "execution_count": 17,
   "id": "4944dc72-ad72-4dd1-a500-5c93705f5c0c",
   "metadata": {},
   "outputs": [
    {
     "name": "stdout",
     "output_type": "stream",
     "text": [
      "10\n",
      "7\n",
      "0\n"
     ]
    }
   ],
   "source": [
    "def max_profit(l1):\n",
    "    if not l1:\n",
    "        return 0\n",
    "    min_price = float('inf') # Initialise with an infinity number as minimum price\n",
    "    max_price = 0 # Initiliaze as 0 as maximum price\n",
    "\n",
    "    for i in l1:\n",
    "        if i > max_price:\n",
    "            max_price = i\n",
    "        elif i < min_price:\n",
    "            min_price = i\n",
    "    return max_price - min_price\n",
    "\n",
    "print(max_profit([8, 10, 7, 5, 7, 15]))\n",
    "print(max_profit([1, 2, 8, 1]))        \n",
    "print(max_profit([]))  "
   ]
  },
  {
   "cell_type": "markdown",
   "id": "5c4f6cca-6dad-48c5-9fcc-3c02015a7953",
   "metadata": {},
   "source": [
    "75. Write a Python program to remove all instances of a given value from a given array of integers and find the length of the newly created array.\n",
    "Sample Input:\n",
    "([1, 2, 3, 4, 5, 6, 7, 5], 5)\n",
    "([10,10,10,10,10], 10)\n",
    "([10,10,10,10,10], 20)\n",
    "([], 1)\n",
    "Sample Output:\n",
    "6\n",
    "0\n",
    "5\n",
    "0"
   ]
  },
  {
   "cell_type": "code",
   "execution_count": 23,
   "id": "f980eab5-a869-4d7f-a799-7b69931547f4",
   "metadata": {},
   "outputs": [
    {
     "name": "stdout",
     "output_type": "stream",
     "text": [
      "6\n",
      "0\n",
      "5\n",
      "0\n"
     ]
    }
   ],
   "source": [
    "def remove_ele(l1, ele):\n",
    "    l1 = [i for i in l1 if i != ele]\n",
    "    return len(l1)\n",
    "\n",
    "print(remove_ele([1, 2, 3, 4, 5, 6, 7, 5], 5))\n",
    "print(remove_ele([10,10,10,10,10], 10))\n",
    "print(remove_ele([10,10,10,10,10], 20))\n",
    "print(remove_ele([],1))"
   ]
  },
  {
   "cell_type": "markdown",
   "id": "b687505d-8a81-4708-b007-1c78c91c6037",
   "metadata": {},
   "source": [
    "76. Write a Python program to find the starting and ending position of a given value in an array of integers, sorted in ascending order.\n",
    "If the target is not found in the array, return [-1, 0].\n",
    "\n",
    "Input: [5, 7, 7, 8, 8, 8] target value = 8\n",
    "Output: [3, 5]\n",
    "Input: [1, 3, 6, 9, 13, 14] target value = 4\n",
    "Output: [-1, 0]"
   ]
  },
  {
   "cell_type": "code",
   "execution_count": 26,
   "id": "42e37eb9-1831-43e7-b966-a95f1c42df0f",
   "metadata": {},
   "outputs": [
    {
     "name": "stdout",
     "output_type": "stream",
     "text": [
      "[3, 5]\n",
      "[-1, 0]\n"
     ]
    }
   ],
   "source": [
    "def start_end(l1, ele):\n",
    "    if ele not in l1:\n",
    "        return [-1, 0]\n",
    "    else:\n",
    "        start = -1 # -1 indicates that the target value hasn't been found yet\n",
    "        end = -1\n",
    "        for i in range(len(l1)):\n",
    "            if l1[i] == ele:\n",
    "                if start == -1: # Checking for start as -1, meaning it has not been updated yet and will only update if already not updated indicating first ==\n",
    "                    start = i \n",
    "                end = i ## Will update each time ele is encountered, means it will update till the last match and then will not update\n",
    "    return [start,end]\n",
    "\n",
    "print(start_end([5, 7, 7, 8, 8, 8], 8))\n",
    "print(start_end([1, 3, 6, 9, 13, 14], 4)) "
   ]
  },
  {
   "cell_type": "markdown",
   "id": "171b223a-9ecc-4b60-83a7-77d432886c08",
   "metadata": {},
   "source": [
    "77. The price of a given stock on each day is stored in an array.\n",
    "Write a  Python program to find the maximum profit in one transaction i.e., buy one and sell one share of the stock from the given price value of the said array. You cannot sell a stock before you buy one.\n",
    "Input (Stock price of each day): [224, 236, 247, 258, 259, 225]\n",
    "Output: 35\n",
    "Explanation:\n",
    "236 - 224 = 12\n",
    "247 - 224 = 23\n",
    "258 - 224 = 34\n",
    "259 - 224 = 35\n",
    "225 - 224 = 1\n",
    "247 - 236 = 11\n",
    "258 - 236 = 22\n",
    "259 - 236 = 23\n",
    "225 - 236 = -11\n",
    "258 - 247 = 11\n",
    "259 - 247 = 12\n",
    "225 - 247 = -22\n",
    "259 - 258 = 1\n",
    "225 - 258 = -33\n",
    "225 - 259 = -34"
   ]
  },
  {
   "cell_type": "code",
   "execution_count": 31,
   "id": "ba464b04-5789-415d-848f-0da7509d917f",
   "metadata": {},
   "outputs": [
    {
     "name": "stdout",
     "output_type": "stream",
     "text": [
      "35\n"
     ]
    }
   ],
   "source": [
    "def stock_price(l1):\n",
    "    result_list = []\n",
    "    max_profit = 0\n",
    "    for i in range(0, len(l1)):\n",
    "        for j in range(i+1, len(l1)):\n",
    "            result_list.append(l1[j] - l1[i])\n",
    "    for i in result_list:\n",
    "        if i > max_profit:\n",
    "            max_profit = i\n",
    "    return (max_profit)\n",
    "\n",
    "print(stock_price([224,236,247,258,259,225]))\n",
    "            "
   ]
  },
  {
   "cell_type": "markdown",
   "id": "3deffa2d-b478-41fa-a624-dec3fb22a5b3",
   "metadata": {},
   "source": [
    "78. Write a Python program to print a given N by M matrix of numbers line by line in forward > backwards > forward >... order.\n",
    "Input matrix:\n",
    "[[1, 2, 3,4],\n",
    "[5, 6, 7, 8],\n",
    "[0, 6, 2, 8],\n",
    "[2, 3, 0, 2]]\n",
    "Output:\n",
    "1\n",
    "2\n",
    "3\n",
    "4\n",
    "8\n",
    "7\n",
    "6\n",
    "5\n",
    "0\n",
    "6\n",
    "2\n",
    "8\n",
    "2\n",
    "0\n",
    "3\n",
    "2"
   ]
  },
  {
   "cell_type": "code",
   "execution_count": 32,
   "id": "8a351364-1e03-45fd-ba77-9ae713a0689d",
   "metadata": {},
   "outputs": [
    {
     "name": "stdout",
     "output_type": "stream",
     "text": [
      "1\n",
      "2\n",
      "3\n",
      "4\n",
      "8\n",
      "7\n",
      "6\n",
      "5\n",
      "0\n",
      "6\n",
      "2\n",
      "8\n",
      "2\n",
      "0\n",
      "3\n",
      "2\n"
     ]
    }
   ],
   "source": [
    "def print_matrix(matrix):\n",
    "    for i in range(len(matrix)):\n",
    "        if i % 2 == 0:\n",
    "            for num in matrix[i]:\n",
    "                print(num)\n",
    "        else:\n",
    "            for num in reversed(matrix[i]):\n",
    "                print(num)\n",
    "\n",
    "matrix = [\n",
    "    [1, 2, 3, 4],\n",
    "    [5, 6, 7, 8],\n",
    "    [0, 6, 2, 8],\n",
    "    [2, 3, 0, 2]\n",
    "]\n",
    "\n",
    "print_matrix(matrix)"
   ]
  },
  {
   "cell_type": "markdown",
   "id": "2458b656-12fa-4ab1-b1cc-df3c0a060667",
   "metadata": {},
   "source": [
    "79. Write a Python program to compute the largest product of three integers from a given list of integers.\n",
    "Sample Input:\n",
    "[-10, -20, 20, 1]\n",
    "[-1, -1, 4, 2, 1]\n",
    "[1, 2, 3, 4, 5, 6]\n",
    "Sample Output:\n",
    "\n",
    "4000\n",
    "8\n",
    "120"
   ]
  },
  {
   "cell_type": "code",
   "execution_count": 34,
   "id": "dd6786b6-5181-4549-8ccd-3daf6add5670",
   "metadata": {},
   "outputs": [
    {
     "name": "stdout",
     "output_type": "stream",
     "text": [
      "4000\n",
      "8\n",
      "120\n"
     ]
    }
   ],
   "source": [
    "def largest_prod(l1):\n",
    "    prod = []\n",
    "    for i in range(len(l1)):\n",
    "        for j in range(i+1, len(l1)):\n",
    "            for k in range(j+1, len(l1)):\n",
    "                prod.append(l1[i] * l1[j] * l1[k])\n",
    "    return max(prod)\n",
    "\n",
    "print(largest_prod([-10, -20, 20, 1]))\n",
    "print(largest_prod([-1, -1, 4, 2, 1]))\n",
    "print(largest_prod([1, 2, 3, 4, 5, 6]))"
   ]
  },
  {
   "cell_type": "markdown",
   "id": "f1d1b143-69c9-4fb1-b486-ceef2037e667",
   "metadata": {},
   "source": [
    "80. Write a Python program to find the first missing positive integer that does not exist in a given list.\n",
    "Sample Input:\n",
    "[2, 3, 7, 6, 8, -1, -10, 15, 16]\n",
    "[1, 2, 4, -7, 6, 8, 1, -10, 15]\n",
    "[1, 2, 3, 4, 5, 6, 7]\n",
    "[-2, -3, -1, 1, 2, 3]\n",
    "Sample Output:\n",
    "\n",
    "4\n",
    "3\n",
    "8\n",
    "4"
   ]
  },
  {
   "cell_type": "code",
   "execution_count": 36,
   "id": "9e4004af-0bb9-4a22-9edb-788f12c07554",
   "metadata": {},
   "outputs": [
    {
     "name": "stdout",
     "output_type": "stream",
     "text": [
      "1\n",
      "3\n",
      "8\n",
      "4\n"
     ]
    }
   ],
   "source": [
    "def first_missing_positive(l1):\n",
    "    l1 = [num for num in l1 if num > 0]\n",
    "    l1.sort()\n",
    "    missing = 1\n",
    "    for num in l1:\n",
    "        if num == missing:\n",
    "            missing += 1 # Keep incrementing missing by 1 until we reach a number higher than missing and then break the loop\n",
    "        elif num > missing: # Break loop if the current number > missing, since it means the first missing is already found\n",
    "            break\n",
    "    return missing\n",
    "\n",
    "print(first_missing_positive([2, 3, 7, 6, 8, -1, -10, 15, 16])) \n",
    "print(first_missing_positive([1, 2, 4, -7, 6, 8, 1, -10, 15]))  \n",
    "print(first_missing_positive([1, 2, 3, 4, 5, 6, 7]))        \n",
    "print(first_missing_positive([-2, -3, -1, 1, 2, 3]))     "
   ]
  },
  {
   "cell_type": "markdown",
   "id": "17a4bb1b-17b0-4129-8a10-ea298d94762c",
   "metadata": {},
   "source": [
    "81. Write a Python program to randomly generate a list of 10 even numbers between 1 and 100 inclusive.\n",
    "Note: Use random.sample() to generate a list of random values.\n",
    "Sample Input:\n",
    "(1,100)\n",
    "Sample Output:\n",
    "\n",
    "[4, 22, 8, 20, 24, 12, 30, 98, 28, 48]"
   ]
  },
  {
   "cell_type": "code",
   "execution_count": 2,
   "id": "c50060d1-3c2c-48e8-a83e-3d16f4acb0ae",
   "metadata": {},
   "outputs": [
    {
     "name": "stdout",
     "output_type": "stream",
     "text": [
      "[94, 14, 88, 96, 24, 34, 30, 36, 82, 10]\n"
     ]
    }
   ],
   "source": [
    "import random\n",
    "\n",
    "print(random.sample([i for i in range(1,100) if i % 2 == 0], 10))"
   ]
  },
  {
   "cell_type": "markdown",
   "id": "2c91d4ac-4b87-447f-a78e-e5cae86cdfe8",
   "metadata": {},
   "source": [
    "82. Write a Python program to calculate the median from a list of numbers.\n",
    "Sample Input:\n",
    "[1,2,3,4,5]\n",
    "[1,2,3,4,5,6]\n",
    "[6,1,2,4,5,3]\n",
    "[1.0,2.11,3.3,4.2,5.22,6.55]\n",
    "[1.0,2.11,3.3,4.2,5.22]\n",
    "[2.0,12.11,22.3,24.12,55.22]\n",
    "Sample Output:\n",
    "3\n",
    "3.5\n",
    "3.5\n",
    "3.75\n",
    "3.3\n",
    "22.3"
   ]
  },
  {
   "cell_type": "code",
   "execution_count": 7,
   "id": "6e818415-e368-4397-b6d5-e24ecfc90fa6",
   "metadata": {},
   "outputs": [
    {
     "name": "stdout",
     "output_type": "stream",
     "text": [
      "3.5\n"
     ]
    }
   ],
   "source": [
    "def calc_median(l1):\n",
    "    l1.sort()\n",
    "    n = len(l1)\n",
    "    middle_index = n // 2\n",
    "    if n % 2 == 0:\n",
    "        return (l1[middle_index-1] + l1[middle_index]) / 2\n",
    "    else:\n",
    "        return l1[middle_index]\n",
    "\n",
    "print(calc_median([1,2,3,4,5,6]))"
   ]
  },
  {
   "cell_type": "markdown",
   "id": "63cd8e13-162f-4014-863a-51468ce70848",
   "metadata": {},
   "source": [
    "83. Write a Python program to test whether a given number is symmetrical or not. A number is symmetrical when it is equal to its reverse.\n",
    "A number is symmetrical when it is equal of its reverse.\n",
    "Sample Input:\n",
    "(121)\n",
    "(0)\n",
    "(122)\n",
    "(990099)\n",
    "Sample Output:\n",
    "True\n",
    "True\n",
    "False\n",
    "True"
   ]
  },
  {
   "cell_type": "code",
   "execution_count": 10,
   "id": "a4fa1f06-7822-4a19-bf91-f512a0e52da3",
   "metadata": {},
   "outputs": [
    {
     "name": "stdout",
     "output_type": "stream",
     "text": [
      "False\n",
      "True\n",
      "True\n",
      "True\n"
     ]
    }
   ],
   "source": [
    "def symmetrical_num(number):\n",
    "    reverse_num = int(str(number)[::-1])\n",
    "    return reverse_num == number\n",
    "\n",
    "print(symmetrical_num(122))\n",
    "print(symmetrical_num(121))\n",
    "print(symmetrical_num(0))\n",
    "print(symmetrical_num(990099))"
   ]
  },
  {
   "cell_type": "markdown",
   "id": "d8ae2ae7-8724-4e50-a1ef-47bf31285256",
   "metadata": {},
   "source": [
    "84. Write a Python program that accepts a list of numbers. Count the negative numbers and compute the sum of the positive numbers of the said list. Return these values through a list.\n",
    "Original list: [1, 2, 3, 4, 5]\n",
    "Number of negative of numbers and sum of the positive numbers of the said list: [0, 15]"
   ]
  },
  {
   "cell_type": "code",
   "execution_count": 13,
   "id": "85ea7765-4c36-43d4-b3a7-354d55a235ad",
   "metadata": {},
   "outputs": [
    {
     "name": "stdout",
     "output_type": "stream",
     "text": [
      "[0, 15]\n",
      "[5, 0]\n",
      "[2, 6]\n",
      "[3, 3]\n"
     ]
    }
   ],
   "source": [
    "def count_neg_sum_pos(l1):\n",
    "    neg_list = [i for i in l1 if i < 0]\n",
    "    pos_list = [i for i in l1 if i > 0]\n",
    "    return [len(neg_list), sum(pos_list)]\n",
    "    \n",
    "\n",
    "print(count_neg_sum_pos([1, 2, 3, 4, 5]))\n",
    "print(count_neg_sum_pos([-1, -2, -3, -4, -5]))\n",
    "print(count_neg_sum_pos([1, 2, 3, -4, -5]))\n",
    "print(count_neg_sum_pos([1, 2, -3, -4, -5]))"
   ]
  },
  {
   "cell_type": "markdown",
   "id": "bb864f06-92f1-40fb-998b-90b849c978a3",
   "metadata": {},
   "source": [
    "85. From Wikipedia:\n",
    "An isogram (also known as a \"nonpattern word\") is a logological term for a word or phrase without a repeating letter. It is also used by some people to mean a word or phrase in which each letter appears the same number of times, not necessarily just once. Conveniently, the word itself is an isogram in both senses of the word, making it autological.\n",
    "Write a Python program to check whether a given string is an \"isogram\" or not.\n",
    "Sample Input:\n",
    "(\"w3resource\")\n",
    "(\"w3r\")\n",
    "(\"Python\")\n",
    "(\"Java\")\n",
    "Sample Output:\n",
    "False\n",
    "True\n",
    "True\n",
    "False"
   ]
  },
  {
   "cell_type": "code",
   "execution_count": 15,
   "id": "f60d3adc-c364-44ff-b1d1-30282196ec1f",
   "metadata": {},
   "outputs": [
    {
     "name": "stdout",
     "output_type": "stream",
     "text": [
      "False\n",
      "True\n",
      "True\n",
      "False\n"
     ]
    }
   ],
   "source": [
    "def isogram(string):\n",
    "    return len(string) == len(set(string.lower()))\n",
    "\n",
    "print(isogram('w3resource'))\n",
    "print(isogram('w3r'))\n",
    "print(isogram('Python'))\n",
    "print(isogram('Java'))"
   ]
  },
  {
   "cell_type": "markdown",
   "id": "321ac057-4b6c-4457-9345-7e953fbd30a6",
   "metadata": {},
   "source": [
    "86. Write a Python program to count the number of equal numbers from three given integers.\n",
    "Sample Input:\n",
    "(1, 1, 1)\n",
    "(1, 2, 2)\n",
    "(-1, -2, -3)\n",
    "(-1, -1, -1)\n",
    "Sample Output:\n",
    "3\n",
    "2\n",
    "0\n",
    "3"
   ]
  },
  {
   "cell_type": "code",
   "execution_count": 21,
   "id": "9746942f-e7e4-48c6-8d30-1b349520fbd2",
   "metadata": {},
   "outputs": [
    {
     "name": "stdout",
     "output_type": "stream",
     "text": [
      "3\n"
     ]
    }
   ],
   "source": [
    "def count_equal_num(n1, n2, n3):\n",
    "    count = 0\n",
    "    if n1 == n2 == n3:\n",
    "        count = 3\n",
    "    elif n1 == n2 or n1 == n3 or n2 == n3:\n",
    "        count = 2\n",
    "    return count\n",
    "\n",
    "print(count_equal_num(1,1,1))"
   ]
  },
  {
   "cell_type": "markdown",
   "id": "727ada1f-2208-4e58-b060-9d87348378e9",
   "metadata": {},
   "source": [
    "87. Write a Python program to check whether a given employee code is exactly 8 digits or 12 digits. Return True if the employee code is valid and False if it's not.\n",
    "Sample Input:\n",
    "('12345678')\n",
    "('1234567j')\n",
    "('12345678j')\n",
    "('123456789123')\n",
    "('123456abcdef')\n",
    "Sample Output:\n",
    "True\n",
    "False\n",
    "False\n",
    "True\n",
    "False"
   ]
  },
  {
   "cell_type": "code",
   "execution_count": 25,
   "id": "58118cd3-7e9e-4430-b689-804f3711e3dc",
   "metadata": {},
   "outputs": [
    {
     "name": "stdout",
     "output_type": "stream",
     "text": [
      "True\n",
      "False\n"
     ]
    }
   ],
   "source": [
    "def valid_emp_code(code):\n",
    "    if (len(code) == 8 or len(code) == 12) or code.isdigit():\n",
    "        return True\n",
    "    else:\n",
    "        return False\n",
    "\n",
    "print(valid_emp_code('12345678'))\n",
    "print(valid_emp_code('12345678j'))"
   ]
  },
  {
   "cell_type": "markdown",
   "id": "65486b0a-1c77-4b5f-9221-5c47181f3c56",
   "metadata": {},
   "source": [
    "88. Write a Python program that accepts two strings and determines whether the letters in the second string are present in the first string.\n",
    "Sample Input:\n",
    "[\"python\", \"ypth\"]\n",
    "[\"python\", \"ypths\"]\n",
    "[\"python\", \"ypthon\"]\n",
    "[\"123456\", \"01234\"]\n",
    "[\"123456\", \"1234\"]\n",
    "Sample Output:\n",
    "True\n",
    "False\n",
    "True\n",
    "False\n",
    "True"
   ]
  },
  {
   "cell_type": "code",
   "execution_count": 41,
   "id": "f750b4d1-d9f6-43ac-ae51-7432b79a24c8",
   "metadata": {},
   "outputs": [
    {
     "name": "stdout",
     "output_type": "stream",
     "text": [
      "True\n",
      "False\n",
      "True\n",
      "False\n",
      "True\n"
     ]
    }
   ],
   "source": [
    "def string_check(l1):\n",
    "    string1 = list(l1[0])\n",
    "    string2 = list(l1[1])\n",
    "    for char in string2:\n",
    "        if char not in string1:\n",
    "            return False\n",
    "    return True\n",
    "    \n",
    "\n",
    "print(string_check([\"python\", \"ypth\"]))\n",
    "print(string_check([\"python\", \"ypths\"]))\n",
    "print(string_check([\"python\", \"ypthon\"]))\n",
    "print(string_check([\"123456\", \"01234\"]))\n",
    "print(string_check([\"123456\", \"1234\"]))"
   ]
  },
  {
   "cell_type": "markdown",
   "id": "55b62fc9-f878-4e68-b95f-a49ca925e6e8",
   "metadata": {},
   "source": [
    "89. Write a Python program to compute the sum of the three lowest positive numbers from a given list of numbers.\n",
    "Original list of numbers: [10, 20, 30, 40, 50, 60, 7]\n",
    "Sum of the three lowest positive numbers of the said array: 37\n",
    "Original list of numbers: [1, 2, 3, 4, 5]\n",
    "Sum of the three lowest positive numbers of the said array: 6\n",
    "Original list of numbers: [0, 1, 2, 3, 4, 5]\n",
    "Sum of the three lowest positive numbers of the said array: 6"
   ]
  },
  {
   "cell_type": "code",
   "execution_count": 44,
   "id": "28f0716f-cb51-41f4-b842-1ed07763ee62",
   "metadata": {},
   "outputs": [
    {
     "name": "stdout",
     "output_type": "stream",
     "text": [
      "37\n"
     ]
    }
   ],
   "source": [
    "def three_low_sum(l1):\n",
    "    sum = 0\n",
    "    l1 = sorted(l1)\n",
    "    for i in range(0, 3):\n",
    "        sum += l1[i]\n",
    "    return sum\n",
    "\n",
    "print(three_low_sum([10,20,30,40,50,60,7]))"
   ]
  },
  {
   "cell_type": "markdown",
   "id": "67715304-d441-4d31-8dec-047677cfb9b2",
   "metadata": {},
   "source": [
    "90. Write a Python program that replaces all but the last five characters of a string with \"*\" and returns the modified string.\n",
    "Original String: kdi39323swe\n",
    "new string: ******23swe\n",
    "Original String: 12345abcdef\n",
    "new string: ******bcdef\n",
    "Original String: 12345\n",
    "new string: 12345"
   ]
  },
  {
   "cell_type": "code",
   "execution_count": 49,
   "id": "643564ec-1c81-4e98-95b5-fcddef27f6b3",
   "metadata": {},
   "outputs": [
    {
     "name": "stdout",
     "output_type": "stream",
     "text": [
      "******23swe\n"
     ]
    }
   ],
   "source": [
    "def replace_five(string):\n",
    "    if len(string) <= 5:\n",
    "        return string\n",
    "    return '*' * (len(string) - 5) + string[-5:]\n",
    "\n",
    "print(replace_five('kdi39323swe'))"
   ]
  },
  {
   "cell_type": "markdown",
   "id": "c957f04d-ac79-40f3-9232-5c3bc6ddad23",
   "metadata": {},
   "source": [
    "91. Write a Python program to count the number of arguments in a given function.\n",
    "Sample Input:\n",
    "()\n",
    "(1)\n",
    "(1, 2)\n",
    "(1, 2, 3)\n",
    "(1, 2, 3, 4)\n",
    "[1, 2, 3, 4]\n",
    "Sample Output:\n",
    "0\n",
    "1\n",
    "2\n",
    "3\n",
    "4\n",
    "1"
   ]
  },
  {
   "cell_type": "code",
   "execution_count": 5,
   "id": "a34f3a2d-25bb-49a2-8071-9988383ddcc5",
   "metadata": {},
   "outputs": [
    {
     "name": "stdout",
     "output_type": "stream",
     "text": [
      "0\n",
      "3\n",
      "7\n"
     ]
    }
   ],
   "source": [
    "def count_arg(*args):\n",
    "    count = 0\n",
    "    for i in args:\n",
    "        count += 1\n",
    "    return count\n",
    "print(count_arg())\n",
    "print(count_arg(1,2,3))\n",
    "print(count_arg(1,2,3,5,6,1,5))"
   ]
  },
  {
   "cell_type": "markdown",
   "id": "efc03d81-9a7a-4c71-afdc-30bd013a4284",
   "metadata": {},
   "source": [
    "92. Write a Python program to compute the cumulative sum of numbers in a given list.\n",
    "Note: Cumulative sum = sum of itself + all previous numbers in the said list.\n",
    "Sample Input:\n",
    "[10, 20, 30, 40, 50, 60, 7]\n",
    "[1, 2, 3, 4, 5]\n",
    "[0, 1, 2, 3, 4, 5]\n",
    "Sample Output:\n",
    "[10, 30, 60, 100, 150, 210, 217]\n",
    "[1, 3, 6, 10, 15]\n",
    "[0, 1, 3, 6, 10, 15]"
   ]
  },
  {
   "cell_type": "code",
   "execution_count": 14,
   "id": "211a4f5f-b301-444c-9cf0-566079fa0f4a",
   "metadata": {},
   "outputs": [
    {
     "name": "stdout",
     "output_type": "stream",
     "text": [
      "[0, 1, 3, 6, 10, 15]\n"
     ]
    }
   ],
   "source": [
    "def cumulative_sum(l1):\n",
    "    sum_list = []\n",
    "    sum_num = 0\n",
    "    for i in l1:\n",
    "        sum_num += i\n",
    "        sum_list.append(sum_num)\n",
    "    return sum_list\n",
    "\n",
    "print(cumulative_sum([0,1,2,3,4,5]))"
   ]
  },
  {
   "cell_type": "markdown",
   "id": "002cbbf0-d981-4534-9246-86f53be02db1",
   "metadata": {},
   "source": [
    "93. Write a Python program to find the central character(s) of a given string. Return the two middle characters if the length of the string is even. Return the middle character if the length of the string is odd.\n",
    "Original string: Python\n",
    "Middle character(s) of the said string: th\n",
    "Original string: PHP\n",
    "Middle character(s) of the said string: H\n",
    "Original string: Java\n",
    "Middle character(s) of the said string: av"
   ]
  },
  {
   "cell_type": "code",
   "execution_count": 23,
   "id": "a9be6c29-ac4f-42c7-9df3-174ec73fbf18",
   "metadata": {},
   "outputs": [
    {
     "name": "stdout",
     "output_type": "stream",
     "text": [
      "th\n",
      "H\n",
      "av\n"
     ]
    }
   ],
   "source": [
    "def middle_str(string):\n",
    "    mid_index = 0\n",
    "    if len(string) % 2 == 0:\n",
    "        mid_index = int(len(string) / 2)\n",
    "        previous_index = mid_index - 1\n",
    "        return string[previous_index:mid_index + 1]\n",
    "    else:\n",
    "        mid_index = int(len(string) // 2)\n",
    "        return string[mid_index]\n",
    "\n",
    "print(middle_str('Python'))\n",
    "print(middle_str('PHP'))\n",
    "print(middle_str('Java'))"
   ]
  },
  {
   "cell_type": "markdown",
   "id": "a0d35c1e-e207-4e7e-bd8a-6628be3fa0e3",
   "metadata": {},
   "source": [
    "94. Write a Python program to find the largest product of a pair of adjacent elements from a given list of integers.\n",
    "Original list: [1, 2, 3, 4, 5, 6]\n",
    "Largest product of the pair of adjacent elements of the said list: 30\n",
    "Original list: [1, 2, 3, 4, 5]\n",
    "Largest product of the pair of adjacent elements of the said list: 20\n",
    "Original list: [2, 3]\n",
    "Largest product of the pair of adjacent elements of the said list: 6"
   ]
  },
  {
   "cell_type": "code",
   "execution_count": 29,
   "id": "6f17d265-b7fa-41e5-827e-bd0d1be13222",
   "metadata": {},
   "outputs": [
    {
     "name": "stdout",
     "output_type": "stream",
     "text": [
      "30\n",
      "20\n",
      "6\n"
     ]
    }
   ],
   "source": [
    "def largest_prod(l1):\n",
    "    largest_prod = 1\n",
    "    for i in range(len(l1)):\n",
    "        for j in range(i+1, len(l1)):\n",
    "            prod = l1[i] * l1[j]\n",
    "            if prod > largest_prod:\n",
    "                largest_prod = prod\n",
    "    return largest_prod\n",
    "\n",
    "print(largest_prod([1, 2, 3, 4, 5, 6]))\n",
    "print(largest_prod([1, 2, 3, 4, 5]))\n",
    "print(largest_prod([2,3]))"
   ]
  },
  {
   "cell_type": "markdown",
   "id": "2dfca757-32e9-44e0-abdf-40be41ee6ce9",
   "metadata": {},
   "source": [
    "95. Write a  Python program that checks whether every even index contains an even number and every odd index contains an odd number of a given list.\n",
    "\n",
    "Original list of numbers: [2, 1, 4, 3, 6, 7, 6, 3]\n",
    "Check whether every even index contains an even number and every\n",
    "odd index contains odd number of a given list:\n",
    "True\n",
    "Original list of numbers: [2, 1, 4, 3, 6, 7, 6, 4]\n",
    "Check whether every even index contains an even number and every\n",
    "odd index contains odd number of a given list:\n",
    "False\n",
    "Original list of numbers: [2, 1, 4, 3, 6, 7, 6, 4]\n",
    "Check whether every even index contains an even number and every\n",
    "odd index contains odd number of a given list:\n",
    "True"
   ]
  },
  {
   "cell_type": "code",
   "execution_count": 33,
   "id": "834253dc-3bab-48aa-969a-54615887525d",
   "metadata": {},
   "outputs": [
    {
     "name": "stdout",
     "output_type": "stream",
     "text": [
      "True\n"
     ]
    }
   ],
   "source": [
    "def even_odd_ele(l1):\n",
    "    for i in range(len(l1)):\n",
    "        if i % 2 == 0:\n",
    "            if l1[i] % 2 != 0:\n",
    "                return False\n",
    "        else:\n",
    "            if l1[i] % 2 == 0:\n",
    "                return False\n",
    "    return True\n",
    "            \n",
    "print(even_odd_ele([2, 1, 4, 3, 6, 7, 6, 3]))\n",
    "            \n",
    "            "
   ]
  },
  {
   "cell_type": "markdown",
   "id": "acae2e79-1bb8-4d90-8793-d091312035a4",
   "metadata": {},
   "source": [
    "96. Write a Python program to check whether a given number is a narcissistic number or not."
   ]
  },
  {
   "cell_type": "code",
   "execution_count": 36,
   "id": "6bdee08c-8256-4852-81a9-3f1e98ab718b",
   "metadata": {},
   "outputs": [
    {
     "name": "stdout",
     "output_type": "stream",
     "text": [
      "True\n",
      "True\n",
      "True\n",
      "False\n",
      "True\n",
      "True\n",
      "True\n",
      "False\n"
     ]
    }
   ],
   "source": [
    "def narc_num(number):\n",
    "    digits = list(str(number))\n",
    "    sum_len = 0\n",
    "    for i in digits:\n",
    "        sum_len += int(i) ** len(digits)\n",
    "    return sum_len == number\n",
    "\n",
    "print(narc_num(153))\n",
    "print(narc_num(370))\n",
    "print(narc_num(407))\n",
    "print(narc_num(409))\n",
    "print(narc_num(1634))\n",
    "print(narc_num(8208))\n",
    "print(narc_num(9474))\n",
    "print(narc_num(9475))"
   ]
  },
  {
   "cell_type": "markdown",
   "id": "95a40ba5-4bca-4ea8-9e10-56bf5f727510",
   "metadata": {},
   "source": [
    "97. Write a Python program to find the highest and lowest number from a given string of space-separated integers.\n",
    "\n",
    "Original string: 1 4 5 77 9 0\n",
    "Highest and lowest number of the said string: (77, 0)\n",
    "Original string: -1 -4 -5 -77 -9 0\n",
    "Highest and lowest number of the said string: (0, -77)\n",
    "Original string: 0 0\n",
    "Highest and lowest number of the said string: (0, 0)"
   ]
  },
  {
   "cell_type": "code",
   "execution_count": 40,
   "id": "3574e1c8-ec65-4292-a62b-72a2c1193e64",
   "metadata": {},
   "outputs": [
    {
     "name": "stdout",
     "output_type": "stream",
     "text": [
      "(77, 0)\n",
      "(0, -77)\n"
     ]
    }
   ],
   "source": [
    "def hig_low_str(string):\n",
    "    numbers = string.split(' ')\n",
    "    max_num = 0\n",
    "    min_num = 0\n",
    "    for i in numbers:\n",
    "        if int(i) > max_num:\n",
    "            max_num = int(i)\n",
    "        if int(i) < min_num:\n",
    "            min_num = int(i)\n",
    "    return max_num, min_num\n",
    "\n",
    "print(hig_low_str('1 4 5 77 9 0'))\n",
    "print(hig_low_str('-1 -4 -5 -77 -9 0'))"
   ]
  },
  {
   "cell_type": "markdown",
   "id": "b004903b-e29d-4ef6-8e3e-8c1dd589b3e1",
   "metadata": {},
   "source": [
    "98. Write a Python program to check whether a sequence of numbers has an increasing trend or not.\n",
    "Sample Input:\n",
    "[1,2,3,4]\n",
    "[1,2,5,3,4]\n",
    "[-1,-2,-3,-4]\n",
    "[-4,-3,-2,-1]\n",
    "[1,2,3,4,0]\n",
    "Sample Output:\n",
    "True\n",
    "False\n",
    "False\n",
    "True\n",
    "False"
   ]
  },
  {
   "cell_type": "code",
   "execution_count": 44,
   "id": "98a2e375-7207-470e-84df-40762c1bbcac",
   "metadata": {},
   "outputs": [
    {
     "name": "stdout",
     "output_type": "stream",
     "text": [
      "True\n",
      "False\n",
      "False\n",
      "True\n",
      "False\n"
     ]
    }
   ],
   "source": [
    "def increasing_trend(l1):\n",
    "    return sorted(l1) == l1\n",
    "\n",
    "print(increasing_trend([1,2,3,4]))\n",
    "print(increasing_trend([1,2,5,3,4]))\n",
    "print(increasing_trend([-1,-2,-3,-4]))\n",
    "print(increasing_trend([-4,-3,-2,-1]))\n",
    "print(increasing_trend([1,2,3,4,0]))"
   ]
  },
  {
   "cell_type": "markdown",
   "id": "a6a79728-1ccb-4b9e-8742-710c2976fd45",
   "metadata": {},
   "source": [
    "99. Write a Python program to find the position of the second occurrence of a given string in another given string. If there is no such string return -1.\n",
    "Sample Input:\n",
    "(\"The quick brown fox jumps over the lazy dog\", \"the\")\n",
    "(\"the quick brown fox jumps over the lazy dog\", \"the\")\n",
    "Sample Output:\n",
    "-1\n",
    "31"
   ]
  },
  {
   "cell_type": "code",
   "execution_count": 46,
   "id": "34e0aef6-b74f-46db-a7e2-ce99d9c20b4b",
   "metadata": {},
   "outputs": [
    {
     "name": "stdout",
     "output_type": "stream",
     "text": [
      "-1\n",
      "31\n"
     ]
    }
   ],
   "source": [
    "def find_string(text, string):\n",
    "    return text.find(string, text.find(string) + 1)\n",
    "print(find_string(\"The quick brown fox jumps over the lazy dog\", \"the\"))\n",
    "print(find_string(\"the quick brown fox jumps over the lazy dog\", \"the\"))"
   ]
  },
  {
   "cell_type": "code",
   "execution_count": 47,
   "id": "8de2d3bf-faf5-4338-aca0-d19dffae4983",
   "metadata": {},
   "outputs": [
    {
     "name": "stdout",
     "output_type": "stream",
     "text": [
      "20\n",
      "-20\n",
      "0\n"
     ]
    }
   ],
   "source": [
    "def index_sum(l1):\n",
    "    index_m_sum = 0\n",
    "    if len(l1) == 0:\n",
    "        index_m_sum = 0\n",
    "    else:\n",
    "        for i in range(len(l1)):\n",
    "            index_m_sum += (i*l1[i])\n",
    "    return index_m_sum\n",
    "\n",
    "print(index_sum([1,2,3,4]))\n",
    "print(index_sum([-1,-2,-3,-4]))\n",
    "print(index_sum([]))"
   ]
  },
  {
   "cell_type": "markdown",
   "id": "e578a3ad-1ce2-49cd-ba9b-d84fb5194d07",
   "metadata": {},
   "source": [
    "101. Write a Python program to find the name of the oldest student in a given dictionary containing the names and ages of a group of students.\n",
    "\n",
    "Sample Input:\n",
    "{\"Bernita Ahner\": 12, \"Kristie Marsico\": 11, \"Sara Pardee\": 14, \"Fallon Fabiano\": 11, \"Nidia Dominique\": 15}\n",
    "{\"Nilda Woodside\": 12, \"Jackelyn Pineda\": 12.2, \"Sofia Park\": 12.4, \"Joannie Archibald\": 12.6, \"Becki Saunder\": 12.7}\n",
    "Sample Output:\n",
    "Nidia Dominique\n",
    "Becki Saunder"
   ]
  },
  {
   "cell_type": "code",
   "execution_count": 57,
   "id": "79cd056b-e837-47d2-900d-a12b66e0b7b8",
   "metadata": {},
   "outputs": [
    {
     "name": "stdout",
     "output_type": "stream",
     "text": [
      "Becki Saunder\n",
      "Nidia Dominique\n"
     ]
    }
   ],
   "source": [
    "def oldest_student(d):\n",
    "    oldest = 0\n",
    "    for key, value in d.items():\n",
    "        if value > oldest:\n",
    "            oldest = value\n",
    "    return key\n",
    "\n",
    "print(oldest_student({\"Nilda Woodside\": 12, \"Jackelyn Pineda\": 12.2, \"Sofia Park\": 12.4, \"Joannie Archibald\": 12.6, \"Becki Saunder\": 12.7}))\n",
    "print(oldest_student({\"Bernita Ahner\": 12, \"Kristie Marsico\": 11, \"Sara Pardee\": 14, \"Fallon Fabiano\": 11, \"Nidia Dominique\": 15}))"
   ]
  },
  {
   "cell_type": "markdown",
   "id": "13ef1d18-2c0e-4c60-97eb-6eff4b47e7da",
   "metadata": {},
   "source": [
    "102. Write a Python program to create a string with no duplicate consecutive letters from a given string.\n",
    "Sample Input:\n",
    "(\"PPYYYTTHON\")\n",
    "(\"PPyyythonnn\")\n",
    "(\"Java\")\n",
    "(\"PPPHHHPPP\")\n",
    "Sample Output:\n",
    " PYTHON\n",
    "Python\n",
    "Java\n",
    "PHP"
   ]
  },
  {
   "cell_type": "code",
   "execution_count": 68,
   "id": "c757a100-c824-4d33-bdc8-7fcabf160f75",
   "metadata": {},
   "outputs": [
    {
     "name": "stdout",
     "output_type": "stream",
     "text": [
      "PYTHON\n",
      "Python\n",
      "Java\n",
      "PHP\n"
     ]
    }
   ],
   "source": [
    "def no_consec_letter(string):\n",
    "    new_str = string[0]\n",
    "    for i in range(1, len(string)):\n",
    "        if string[i] != string[i-1]:\n",
    "            new_str += string[i]\n",
    "    return new_str\n",
    "\n",
    "print(no_consec_letter('PPYYYTTHON'))\n",
    "print(no_consec_letter('PPyyythonnn'))\n",
    "print(no_consec_letter('Java'))\n",
    "print(no_consec_letter('PPPHHHPPP'))"
   ]
  },
  {
   "cell_type": "markdown",
   "id": "ac55c730-a48f-46cb-8859-328142125370",
   "metadata": {},
   "source": [
    "104. Write a Python program to find a number in a given matrix that is maximum in its column and minimum in its row.\n",
    "\n",
    "Sample Input:\n",
    "Original matrix: [[1, 2], [2, 3]]\n",
    "Number in the said matrix which is maximum in its column and minimum in its row:\n",
    "[2]\n",
    "Original matrix: [[1, 2, 3], [3, 4, 5]]\n",
    "Number in the said matrix which is maximum in its column and minimum in its row:\n",
    "[3]\n",
    "Original matrix: [[7, 5, 6], [3, 4, 4], [6, 5, 7]]\n",
    "Number in the said matrix which is maximum in its column and minimum in its row:\n",
    "[5]"
   ]
  },
  {
   "cell_type": "code",
   "execution_count": 74,
   "id": "06969e63-89af-483d-af1b-9634705a8d61",
   "metadata": {},
   "outputs": [
    {
     "name": "stdout",
     "output_type": "stream",
     "text": [
      "[3]\n",
      "[5, 5]\n"
     ]
    }
   ],
   "source": [
    "def matrix_low(matrix):\n",
    "    result = []\n",
    "    for i in range(len(matrix)):\n",
    "        for j in range(len(matrix[i])):\n",
    "            row_min = min(matrix[i])\n",
    "            col_max = max(row[j] for row in matrix)\n",
    "            if matrix[i][j] == row_min and matrix[i][j] == col_max:\n",
    "                result.append(matrix[i][j])\n",
    "    return result\n",
    "    \n",
    "print(matrix_low([[1, 2, 3], [3, 4, 5]]))\n",
    "print(matrix_low([[7, 5, 6], [3, 4, 4], [6, 5, 7]]))"
   ]
  },
  {
   "cell_type": "markdown",
   "id": "2237abc2-2a98-41e8-b98a-e871ab18a519",
   "metadata": {},
   "source": [
    "106. Write a Python program to test whether a given integer is a Pandigital number or not.\n",
    "\n",
    "Sample Output:\n",
    "Original number: 1023456897 Check the said number is Pandigital number or not? True Original number: 1023456798 Check the said number is Pandigital number or not? True Original number: 1023457689 Check the said number is Pandigital number or not? True Original number: 1023456789 Check the said number is Pandigital number or not? True Original number: 102345679 Check the said number is Pandigital number or not? False"
   ]
  },
  {
   "cell_type": "code",
   "execution_count": 82,
   "id": "e719ad14-674f-4b17-b1d7-24878426ec6e",
   "metadata": {},
   "outputs": [
    {
     "name": "stdout",
     "output_type": "stream",
     "text": [
      "True\n",
      "True\n",
      "True\n",
      "True\n",
      "False\n"
     ]
    }
   ],
   "source": [
    "def pandigit(number):\n",
    "    return len(set(str(number))) == 10\n",
    "\n",
    "\n",
    "print(pandigit(1023456897))\n",
    "print(pandigit(1023456798))\n",
    "print(pandigit(1023457689))\n",
    "print(pandigit(1023456789))\n",
    "print(pandigit(102345679))"
   ]
  },
  {
   "cell_type": "markdown",
   "id": "bad0a133-d45b-4e57-9e30-d8df363f5130",
   "metadata": {},
   "source": [
    "107. Write a  Python program to check whether a given number is odd or even.\n",
    "A number is called \"Oddish\" if the sum of all of its digits is odd, and a number is called \"Evenish\" if the sum of all of its digits is even.\n",
    "Sample Output:\n",
    "Original Number 120\n",
    "Check whether the sum of all digits of the said number is odd or even!\n",
    "Oddish\n",
    "Original Number 321\n",
    "Check whether the sum of all digits of the said number is odd or even!\n",
    "Evenish\n",
    "Original Number 43\n",
    "Check whether the sum of all digits of the said number is odd or even!\n",
    "Oddish\n",
    "Original Number 4433\n",
    "Check whether the sum of all digits of the said number is odd or even!\n",
    "Evenish\n",
    "Original Number 373\n",
    "Check whether the sum of all digits of the said number is odd or even!\n",
    "Oddish"
   ]
  },
  {
   "cell_type": "code",
   "execution_count": 86,
   "id": "497fea72-3814-47e1-9fac-35e3905e5996",
   "metadata": {},
   "outputs": [
    {
     "name": "stdout",
     "output_type": "stream",
     "text": [
      "Oddish\n",
      "Evenish\n",
      "Oddish\n",
      "Evenish\n",
      "Oddish\n"
     ]
    }
   ],
   "source": [
    "def evenish_oddish(number):\n",
    "    digits = list(str(number))\n",
    "    sum_digit = 0 \n",
    "    for i in digits:\n",
    "        sum_digit += int(i)\n",
    "    if sum_digit % 2 == 0:\n",
    "        print('Evenish')\n",
    "    else:\n",
    "        print('Oddish')\n",
    "        \n",
    "evenish_oddish(120)\n",
    "evenish_oddish(321)\n",
    "evenish_oddish(43)\n",
    "evenish_oddish(4433)\n",
    "evenish_oddish(373)"
   ]
  },
  {
   "cell_type": "markdown",
   "id": "38f332da-645f-46ae-aeec-08c0fef08fec",
   "metadata": {},
   "source": [
    "108. Write a Python program that takes three integers and checks whether the sum of the last digit of the first number and the last digit of the second number equals the last digit of the third number.\n",
    "\n",
    "Sample Input:\n",
    "(12, 26, 44)\n",
    "(145, 122, 1010)\n",
    "(0, 20, 40)\n",
    "(1, 22, 40)\n",
    "(145, 129, 104)\n",
    "Sample Output:\n",
    "True\n",
    "False\n",
    "True\n",
    "False\n",
    "True\n"
   ]
  },
  {
   "cell_type": "code",
   "execution_count": 91,
   "id": "514ee886-f7c4-49b3-8eee-038f2cb6f9bb",
   "metadata": {},
   "outputs": [
    {
     "name": "stdout",
     "output_type": "stream",
     "text": [
      "False\n",
      "False\n",
      "True\n",
      "False\n",
      "True\n"
     ]
    }
   ],
   "source": [
    "def sum_digits(n1, n2, n3):\n",
    "    return str(n1 + n2)[-1] == str(n3)[-1]\n",
    "\n",
    "print(sum_digits(12,26,44))\n",
    "print(sum_digits(145,122,1010))\n",
    "print(sum_digits(0,20,40))\n",
    "print(sum_digits(1,22,40))\n",
    "print(sum_digits(145,129,104))"
   ]
  },
  {
   "cell_type": "markdown",
   "id": "ba104131-5a27-46cc-97fc-d7a1a8c84679",
   "metadata": {},
   "source": [
    "109. Write a Python program to find the indices of all occurrences of a given item in a given list."
   ]
  },
  {
   "cell_type": "code",
   "execution_count": 92,
   "id": "80e86e28-db6e-4fa9-bac6-d49f337c7524",
   "metadata": {},
   "outputs": [
    {
     "name": "stdout",
     "output_type": "stream",
     "text": [
      "[1, 5]\n",
      "[0, 3, 7, 8]\n",
      "[3, 6]\n"
     ]
    }
   ],
   "source": [
    "def ele_occurence(l1, ele):\n",
    "    indices = []\n",
    "    for i in range(len(l1)):\n",
    "        if l1[i] == ele:\n",
    "            indices.append(i)\n",
    "    return indices\n",
    "\n",
    "print(ele_occurence([1,2,3,4,5,2], 2))\n",
    "print(ele_occurence([3,1,2,3,4,5,6,3,3], 3))\n",
    "print(ele_occurence([1,2,3,-4,5,2,-4], -4))"
   ]
  },
  {
   "cell_type": "markdown",
   "id": "6179eb72-534b-432b-b86f-bbe1e761a148",
   "metadata": {},
   "source": [
    "110. Write a Python program to remove duplicate numbers from a given list of numbers."
   ]
  },
  {
   "cell_type": "code",
   "execution_count": 93,
   "id": "e863e443-e538-42f8-a72f-bbf8498b8a1d",
   "metadata": {},
   "outputs": [
    {
     "name": "stdout",
     "output_type": "stream",
     "text": [
      "[1, 2, 3, 4, 5]\n",
      "[1, 2, 3, 4, 5]\n",
      "[1, 2, 3, 4, 5]\n"
     ]
    }
   ],
   "source": [
    "def remove_dups(l1):\n",
    "    new_l = []\n",
    "    for i in l1:\n",
    "        if i not in new_l:\n",
    "            new_l.append(i)\n",
    "    return new_l\n",
    "\n",
    "print(remove_dups([1,2,3,2,3,4,5]))\n",
    "print(remove_dups([1,2,3,2,4,5]))\n",
    "print(remove_dups([1,2,3,4,5]))"
   ]
  },
  {
   "cell_type": "markdown",
   "id": "e62e1718-73d3-4724-be7f-ac66655725d5",
   "metadata": {},
   "source": [
    "112. Write a Python program to compute the digit distance between two integers."
   ]
  },
  {
   "cell_type": "code",
   "execution_count": 95,
   "id": "09372b0c-8a50-430b-bb4e-0f81caf1a246",
   "metadata": {},
   "outputs": [
    {
     "name": "stdout",
     "output_type": "stream",
     "text": [
      "7\n",
      "6\n",
      "1\n",
      "11\n"
     ]
    }
   ],
   "source": [
    "def digit_dist(n1, n2):\n",
    "    digit1 = list(str(n1))\n",
    "    digit2 = list(str(n2))\n",
    "    digit_dist = []\n",
    "    for i in range(len(digit1)):\n",
    "        digit_dist.append(abs(int(digit1[i]) - int(digit2[i])))\n",
    "    return sum(digit_dist)\n",
    "\n",
    "print(digit_dist(123, 256))\n",
    "print(digit_dist(23,56))\n",
    "print(digit_dist(1,2))\n",
    "print(digit_dist(24232,45645))"
   ]
  },
  {
   "cell_type": "markdown",
   "id": "1ed881e8-cbbc-459d-87b0-b6341e91a5ec",
   "metadata": {},
   "source": [
    "113. Write a  Python program to reverse all words of even lengths."
   ]
  },
  {
   "cell_type": "code",
   "execution_count": 98,
   "id": "c1261454-03b7-46c1-9258-8ab18808f788",
   "metadata": {},
   "outputs": [
    {
     "name": "stdout",
     "output_type": "stream",
     "text": [
      "The quick brown fox jumps revo the yzal dog\n",
      "nohtyP Exercises\n"
     ]
    }
   ],
   "source": [
    "def reverse_even_words(text):\n",
    "    texts = text.split(' ')\n",
    "    for word_index in range(len(texts)):\n",
    "        if len(texts[word_index]) % 2 == 0:\n",
    "            texts[word_index] = texts[word_index][::-1]\n",
    "    return ' '.join(texts)\n",
    "\n",
    "print(reverse_even_words('The quick brown fox jumps over the lazy dog'))\n",
    "print(reverse_even_words('Python Exercises'))"
   ]
  },
  {
   "cell_type": "markdown",
   "id": "5d20269f-6132-4904-a1a2-39bfa4c123b3",
   "metadata": {},
   "source": [
    "116. Write a Python program to identify non-prime numbers between 1 and 100 (integers). Print the non-prime numbers."
   ]
  },
  {
   "cell_type": "code",
   "execution_count": 101,
   "id": "3e09cd0b-830e-4536-a3be-9d5708d30585",
   "metadata": {},
   "outputs": [
    {
     "name": "stdout",
     "output_type": "stream",
     "text": [
      "[4, 6, 8, 9, 10, 12, 14, 15, 16, 18, 20, 21, 22, 24, 25, 26, 27, 28, 30, 32, 33, 34, 35, 36, 38, 39, 40, 42, 44, 45, 46, 48, 49, 50, 51, 52, 54, 55, 56, 57, 58, 60, 62, 63, 64, 65, 66, 68, 69, 70, 72, 74, 75, 76, 77, 78, 80, 81, 82, 84, 85, 86, 87, 88, 90, 91, 92, 93, 94, 95, 96, 98, 99, 100]\n"
     ]
    }
   ],
   "source": [
    "def non_prime():\n",
    "    non_primes = []\n",
    "    for num in range(1, 101):\n",
    "        is_prime = True\n",
    "        for i in range(2, int(num ** 0.5) + 1):\n",
    "            if num % i == 0:\n",
    "                is_prime = False\n",
    "                break\n",
    "        if not is_prime:\n",
    "            non_primes.append(num)\n",
    "    return non_primes\n",
    "\n",
    "print(non_prime())"
   ]
  },
  {
   "cell_type": "markdown",
   "id": "dc606b3d-75a4-47e8-bc00-92ffdd7dcf26",
   "metadata": {},
   "source": [
    "119. Write a Python program to check if two given numbers are Co Prime or not. Return True if two numbers are Co Prime otherwise return false.\n",
    "\n",
    "Sample Input:\n",
    "(17, 13)\n",
    "(17, 21)\n",
    "(15, 21)\n",
    "(25, 45)\n",
    "Sample Output:\n",
    "True\n",
    "True\n",
    "False\n",
    "False"
   ]
  },
  {
   "cell_type": "code",
   "execution_count": 103,
   "id": "016e5cd5-d00f-4ff7-91fe-bd8d6ba6f703",
   "metadata": {},
   "outputs": [
    {
     "name": "stdout",
     "output_type": "stream",
     "text": [
      "True\n",
      "True\n",
      "False\n",
      "False\n"
     ]
    }
   ],
   "source": [
    "def gcd(n1, n2):\n",
    "    while n2 != 0:\n",
    "        n1, n2 = n2, n1 % n2\n",
    "    return n1\n",
    "\n",
    "def is_coprime(x, y):\n",
    "    return gcd(x, y) == 1\n",
    "\n",
    "print(is_coprime(17, 13))\n",
    "print(is_coprime(17, 21))\n",
    "print(is_coprime(15, 21))\n",
    "print(is_coprime(25, 45))"
   ]
  },
  {
   "cell_type": "markdown",
   "id": "21638cb4-e10b-4087-8cb8-95570a0164f1",
   "metadata": {},
   "source": [
    "121. Write a Python program to create a coded string from a given string, using a specified formula.\n",
    "Replace all 'P' with '9', 'T' with '0', 'S' with '1', 'H' with '6' and 'A' with '8'\n",
    "\n",
    "Original string: PHP\n",
    "Coded string: 969\n",
    "Original string: JAVASCRIPT\n",
    "Coded string: J8V81CRI90"
   ]
  },
  {
   "cell_type": "code",
   "execution_count": 9,
   "id": "dac1c046-6c93-4f31-803b-d1596093b2f0",
   "metadata": {},
   "outputs": [
    {
     "name": "stdout",
     "output_type": "stream",
     "text": [
      "969\n",
      "J8V81CRI90\n"
     ]
    }
   ],
   "source": [
    "def replace_char(string):\n",
    "    formula = {'P':'9', 'T':'0', 'S':'1', 'H':'6', 'A':'8'}\n",
    "    for item, value in formula.items():\n",
    "        string = string.replace(item, value)\n",
    "    return string\n",
    "\n",
    "print(replace_char(\"PHP\"))\n",
    "print(replace_char('JAVASCRIPT'))\n",
    "            "
   ]
  },
  {
   "cell_type": "markdown",
   "id": "1fe1f227-e237-4e46-9f6b-ed01adc7cc17",
   "metadata": {},
   "source": [
    "122. Write a Python program to check if a given string contains only lowercase or uppercase characters.\n",
    "\n",
    "Original string: PHP\n",
    "Coded string: True\n",
    "Original string: javascript\n",
    "Coded string: True\n",
    "Original string: JavaScript\n",
    "Coded string: False"
   ]
  },
  {
   "cell_type": "code",
   "execution_count": 13,
   "id": "296b4d0b-ccd9-470b-a5eb-697155e58308",
   "metadata": {},
   "outputs": [
    {
     "name": "stdout",
     "output_type": "stream",
     "text": [
      "True\n",
      "True\n",
      "False\n"
     ]
    }
   ],
   "source": [
    "def case_check(word):\n",
    "    word_lower = word.lower()\n",
    "    word_upper = word.upper()\n",
    "    if word == word_lower or word == word_upper:\n",
    "        return True\n",
    "    else:\n",
    "        return False\n",
    "\n",
    "print(case_check('PHP'))\n",
    "print(case_check('javascript'))\n",
    "print(case_check('JavaScript'))"
   ]
  },
  {
   "cell_type": "markdown",
   "id": "7bd58864-af1a-4ccd-af98-3981fc8e24ef",
   "metadata": {},
   "source": [
    "123. Write a Python program to remove the first and last elements from a given string.\n",
    "\n",
    "Original string: PHP\n",
    "Removing the first and last elements from the said string: H\n",
    "Original string: Python\n",
    "Removing the first and last elements from the said string: ytho\n",
    "Original string: JavaScript\n",
    "Removing the first and last elements from the said string: avaScrip"
   ]
  },
  {
   "cell_type": "code",
   "execution_count": 16,
   "id": "dc7eaad4-7ad9-476c-953e-adf20cb890cd",
   "metadata": {},
   "outputs": [
    {
     "name": "stdout",
     "output_type": "stream",
     "text": [
      "H\n",
      "ytho\n",
      "avaScrip\n"
     ]
    }
   ],
   "source": [
    "def remove_letter(word):\n",
    "    return word[1: len(word) - 1]\n",
    "\n",
    "print(remove_letter('PHP'))\n",
    "print(remove_letter('Python'))\n",
    "print(remove_letter('JavaScript'))"
   ]
  },
  {
   "cell_type": "markdown",
   "id": "a412958f-f93e-44b7-8323-357d526009b5",
   "metadata": {},
   "source": [
    "124. Write a Python program to check if a given string contains two similar consecutive letters.\n",
    "\n",
    "Original string: PHP\n",
    "Check for consecutive similar letters! False\n",
    "Original string: PHHP\n",
    "Check for consecutive similar letters! True\n",
    "Original string: PHPP\n",
    "Check for consecutive similar letters! True"
   ]
  },
  {
   "cell_type": "code",
   "execution_count": 21,
   "id": "febcd311-714a-49f5-94c4-c90a510af918",
   "metadata": {},
   "outputs": [
    {
     "name": "stdout",
     "output_type": "stream",
     "text": [
      "False\n",
      "True\n",
      "True\n"
     ]
    }
   ],
   "source": [
    "def consec_letter(word):\n",
    "    status = False\n",
    "    for i in range(1, len(word)):\n",
    "        if word[i - 1] == word[i]:\n",
    "            status = True\n",
    "    return status\n",
    "    \n",
    "print(consec_letter('PHP'))\n",
    "print(consec_letter('PHHP'))\n",
    "print(consec_letter('PHPP'))"
   ]
  },
  {
   "cell_type": "markdown",
   "id": "da47c6e9-c34b-4396-a26c-bc8a88b5531c",
   "metadata": {},
   "source": [
    "125. Write a Python program to reverse a given string in lower case.\n",
    "\n",
    "Original string: PHP\n",
    "Reverse the said string in lower case: php\n",
    "Original string: JavaScript\n",
    "Reverse the said string in lower case: tpircsavaj\n",
    "Original string: PHPP\n",
    "Reverse the said string in lower case: pphp"
   ]
  },
  {
   "cell_type": "code",
   "execution_count": 23,
   "id": "6c8ce57f-d83d-4429-a265-49c005c82a51",
   "metadata": {},
   "outputs": [
    {
     "name": "stdout",
     "output_type": "stream",
     "text": [
      "php\n",
      "tpircsavaj\n",
      "pphp\n"
     ]
    }
   ],
   "source": [
    "def reverse_lower(word):\n",
    "    return word[::-1].lower()\n",
    "\n",
    "print(reverse_lower('PHP'))\n",
    "print(reverse_lower('JavaScript'))\n",
    "print(reverse_lower('PHPP'))"
   ]
  },
  {
   "cell_type": "markdown",
   "id": "349cfd9d-febb-4ac3-8528-4e46937c774a",
   "metadata": {},
   "source": [
    "126. Write a Python program to convert the letters of a given string (same case-upper/lower) into alphabetical order.\n",
    "\n",
    "Original string: PHP\n",
    "Convert the letters of the said string into alphabetical order: HPP\n",
    "Original string: javascript\n",
    "Convert the letters of the said string into alphabetical order: aacijprstv\n",
    "Original string: python\n",
    "Convert the letters of the said string into alphabetical order: hnopty"
   ]
  },
  {
   "cell_type": "code",
   "execution_count": 27,
   "id": "449cb76f-27e5-4cae-bfc2-4dc0175702bf",
   "metadata": {},
   "outputs": [
    {
     "name": "stdout",
     "output_type": "stream",
     "text": [
      "HPP\n",
      "aacijprstv\n",
      "hnopty\n"
     ]
    }
   ],
   "source": [
    "def alphabetical_order(word):\n",
    "    return ''.join(sorted(word))\n",
    "\n",
    "print(alphabetical_order('PHP'))\n",
    "print(alphabetical_order('javascript'))\n",
    "print(alphabetical_order('python'))"
   ]
  },
  {
   "cell_type": "markdown",
   "id": "bb3e9125-af6d-44a1-a5c2-75b3a3c818da",
   "metadata": {},
   "source": [
    "127. Write a Python program to check whether the average value of the elements of a given array of numbers is a whole number or not.\n",
    "\n",
    "Original array:\n",
    "1 3 5 7 9\n",
    "Check the average value of the elements of the said array is a whole number or not: True\n",
    "Original array:\n",
    "2 4 2 6 4 8\n",
    "Check the average value of the elements of the said array is a whole number or not:\n",
    "False"
   ]
  },
  {
   "cell_type": "code",
   "execution_count": 31,
   "id": "b5229bbf-ade2-4808-b3c1-c3ed8846d34c",
   "metadata": {},
   "outputs": [
    {
     "name": "stdout",
     "output_type": "stream",
     "text": [
      "True\n",
      "False\n"
     ]
    }
   ],
   "source": [
    "def average_whole(number):\n",
    "    average = sum(number) / len(number)\n",
    "    return average == int(average)\n",
    "\n",
    "print(average_whole([1,3,5,7,9]))\n",
    "print(average_whole([2,4,2,6,4,8]))"
   ]
  },
  {
   "cell_type": "markdown",
   "id": "51c01f48-40aa-4172-991a-0af8b8962707",
   "metadata": {},
   "source": [
    "128. Write a Python program to remove all vowels from a given string.\n",
    "\n",
    "Original string: Python\n",
    "After removing all the vowels from the said string: Pythn\n",
    "Original string: C Sharp\n",
    "After removing all the vowels from the said string: C Shrp\n",
    "Original string: JavaScript\n",
    "After removing all the vowels from the said string: JvScrpt"
   ]
  },
  {
   "cell_type": "code",
   "execution_count": 36,
   "id": "5638c279-963c-46e7-a457-87553cd0368a",
   "metadata": {},
   "outputs": [
    {
     "name": "stdout",
     "output_type": "stream",
     "text": [
      "Pythn\n",
      "C Shrp\n",
      "JvScrpt\n"
     ]
    }
   ],
   "source": [
    "def remove_vowels(word):\n",
    "    vowels = ['a','e','i','o','u']\n",
    "    return ''.join([char for char in word if char not in vowels])\n",
    "\n",
    "print(remove_vowels('Python'))\n",
    "print(remove_vowels('C Sharp'))\n",
    "print(remove_vowels('JavaScript'))"
   ]
  },
  {
   "cell_type": "markdown",
   "id": "7ce57a74-40da-463a-b552-a2dccd09d92a",
   "metadata": {},
   "source": [
    "129. Write a Python program to get the index number of all lower case letters in a given string.\n",
    "\n",
    "Original string: Python\n",
    "Indices of all lower case letters of the said string: [1, 2, 3, 4, 5] Original string: JavaScript\n",
    "Indices of all lower case letters of the said string: [1, 2, 3, 5, 6, 7, 8, 9] Original string: PHP\n",
    "Indices of all lower case letters of the said string: []"
   ]
  },
  {
   "cell_type": "code",
   "execution_count": 41,
   "id": "06100e6d-03e7-45a1-8347-71e586f9ba60",
   "metadata": {},
   "outputs": [
    {
     "name": "stdout",
     "output_type": "stream",
     "text": [
      "[1, 2, 3, 4, 5]\n",
      "[1, 2, 3, 5, 6, 7, 8, 9]\n",
      "[]\n"
     ]
    }
   ],
   "source": [
    "def lower_index(word):\n",
    "    indices = []\n",
    "    for i in range(len(word)):\n",
    "        if word[i] == word[i].lower():\n",
    "            indices.append(i)\n",
    "    return indices\n",
    "\n",
    "print(lower_index('Python'))\n",
    "print(lower_index('JavaScript'))\n",
    "print(lower_index('PHP'))"
   ]
  },
  {
   "cell_type": "markdown",
   "id": "cb743883-7e73-4bf0-a167-3e13812fb3c1",
   "metadata": {},
   "source": [
    "130. Write a Python program to check whether a given month and year contains a Monday 13th.\n",
    "\n",
    "Month No.: 11 Year: 2022\n",
    "Check whether the said month and year contains a Monday 13th.: False\n",
    "Month No.: 6 Year: 2022\n",
    "Check whether the said month and year contains a Monday 13th.: True"
   ]
  },
  {
   "cell_type": "code",
   "execution_count": 42,
   "id": "d528e4fb-508b-4d20-9d4a-033763cbb655",
   "metadata": {},
   "outputs": [
    {
     "name": "stdout",
     "output_type": "stream",
     "text": [
      "False\n",
      "True\n"
     ]
    }
   ],
   "source": [
    "import datetime\n",
    "\n",
    "def has_monday_13th(month, year):\n",
    "    date = datetime.date(year, month, 13)\n",
    "    return date.weekday() == 0\n",
    "\n",
    "print(has_monday_13th(11, 2022))\n",
    "print(has_monday_13th(6, 2022))  "
   ]
  },
  {
   "cell_type": "markdown",
   "id": "ee4076d2-2210-46f5-b0d9-7f646f5d1fc6",
   "metadata": {},
   "source": [
    "131. Write a Python program to count the number of zeros and ones in the binary representation of a given integer.\n",
    "Original number: 12\n",
    "Number of ones and zeros in the binary representation of the said number: Number of zeros: 2, Number of ones: 2\n",
    "Original number: 1234\n",
    "Number of ones and zeros in the binary representation of the said number: Number of zeros: 6, Number of ones: 5"
   ]
  },
  {
   "cell_type": "code",
   "execution_count": 43,
   "id": "f5665697-7e45-444d-b603-31b5c81612a8",
   "metadata": {},
   "outputs": [
    {
     "name": "stdout",
     "output_type": "stream",
     "text": [
      "(2, 2)\n",
      "(6, 5)\n"
     ]
    }
   ],
   "source": [
    "def count_zeroes_ones(n):\n",
    "    binary_rep = bin(n)[2:] #Convert to binary and remove prefix '0b'\n",
    "    num_zero = binary_rep.count('0')\n",
    "    num_one = binary_rep.count('1')\n",
    "    return num_zero, num_one\n",
    "\n",
    "print(count_zeroes_ones(12))\n",
    "print(count_zeroes_ones(1234))"
   ]
  },
  {
   "cell_type": "markdown",
   "id": "adf34934-3f1c-4c4f-ba37-30e895455afa",
   "metadata": {},
   "source": [
    "132. Write a Python program to find all the factors of a given natural number."
   ]
  },
  {
   "cell_type": "code",
   "execution_count": 46,
   "id": "3b3d4a4b-2440-4db2-a20e-b120ba0f3b96",
   "metadata": {},
   "outputs": [
    {
     "name": "stdout",
     "output_type": "stream",
     "text": [
      "[1, 2, 3, 4, 6, 12]\n",
      "[1, 2, 4, 5, 10, 20, 25, 50, 100]\n"
     ]
    }
   ],
   "source": [
    "def factor_natural_num(number):\n",
    "    factor = []\n",
    "    for i in range(1, number + 1):\n",
    "        if number / i == int(number / i):\n",
    "            factor.append(i)\n",
    "    return factor\n",
    "\n",
    "print(factor_natural_num(12))\n",
    "print(factor_natural_num(100))"
   ]
  },
  {
   "cell_type": "markdown",
   "id": "185a6174-c095-4821-ad79-ca8784cbef25",
   "metadata": {},
   "source": [
    "133. Write a Python program to compute the sum of the negative and positive numbers in an array of integers and display the largest sum.\n",
    "\n",
    "Original array elements: {0, 15, 16, 17, -14, -13, -12, -11, -10, 18, 19, 20}\n",
    "Largest sum - Positive/Negative numbers of the said array: 105\n",
    "Original array elements: {0, 3, 4, 5, 9, -22, -44, -11}\n",
    "Largest sum - Positive/Negative numbers of the said array: -77"
   ]
  },
  {
   "cell_type": "code",
   "execution_count": 49,
   "id": "fc31576e-30fa-4c17-a011-0b7af63f619b",
   "metadata": {},
   "outputs": [
    {
     "name": "stdout",
     "output_type": "stream",
     "text": [
      "105\n",
      "-77\n"
     ]
    }
   ],
   "source": [
    "def pos_neg_sum(l1):\n",
    "    pos_sum = sum([i for i in l1 if i >= 0])\n",
    "    neg_sum = sum([i for i in l1 if i < 0])\n",
    "    if abs(neg_sum) > pos_sum:\n",
    "        return neg_sum\n",
    "    else:\n",
    "        return pos_sum\n",
    "\n",
    "print(pos_neg_sum([0, 15, 16, 17, -14, -13, -12, -11, -10, 18, 19, 20]))\n",
    "print(pos_neg_sum([0, 3, 4, 5, 9, -22, -44, -11]))"
   ]
  },
  {
   "cell_type": "markdown",
   "id": "07f55ff0-db29-44c7-bb54-0fd10ab34bbd",
   "metadata": {},
   "source": [
    "134. Write a Python program that alternates the case of each letter in a given string, with the first letter in the string being uppercase.\n",
    "\n",
    "Original string: Python Exercises\n",
    "After alternating the case of each letter of the said string: PyThOn ExErCiSeS\n",
    "Original string: C# is used to develop web apps, desktop apps, mobile apps, games and much more.\n",
    "After alternating the case of each letter of the said string: C# iS uSeD tO dEvElOp WeB aPpS, dEsKtOp ApPs, MoBiLe ApPs, GaMeS aNd MuCh MoRe"
   ]
  },
  {
   "cell_type": "code",
   "execution_count": 55,
   "id": "49b814e3-768e-412c-85cc-96ef59e44096",
   "metadata": {},
   "outputs": [
    {
     "name": "stdout",
     "output_type": "stream",
     "text": [
      "pYtHoN eXeRcIsEs\n",
      "c# iS uSeD tO dEvElOp wEb aPpS, dEsKtOp aPpS, mObIlE aPpS, gAmEs aNd mUcH mOrE.\n"
     ]
    }
   ],
   "source": [
    "def alternate_case(string):\n",
    "    words = string.split()\n",
    "    result = \"\"\n",
    "    for word in words:\n",
    "        for i in range(len(word)):\n",
    "            if i % 2 == 0:\n",
    "                result += word[i].lower()\n",
    "            else:\n",
    "                result += word[i].upper()\n",
    "        result += ' '\n",
    "    return result.strip()\n",
    "\n",
    "print(alternate_case('Python Exercises'))\n",
    "print(alternate_case('C# is used to develop web apps, desktop apps, mobile apps, games and much more.'))"
   ]
  },
  {
   "cell_type": "markdown",
   "id": "6c354dd0-60bc-4999-a671-038793ae08c8",
   "metadata": {},
   "source": [
    "135. Write a Python program that calculates the Least Common Multiple (LCM) of more than two numbers. The numbers should be taken from a given list of positive integers."
   ]
  },
  {
   "cell_type": "code",
   "execution_count": 59,
   "id": "239595bc-1438-4332-ba7c-269396a1069a",
   "metadata": {},
   "outputs": [
    {
     "name": "stdout",
     "output_type": "stream",
     "text": [
      "24\n",
      "2520\n",
      "432\n"
     ]
    }
   ],
   "source": [
    "def gcd(a, b):\n",
    "    while b:\n",
    "        a, b = b, a % b\n",
    "    return a\n",
    "\n",
    "def lcm(a, b):\n",
    "    return a * b//gcd(a,b)\n",
    "\n",
    "def lcm_of_list(numbers):\n",
    "    result = numbers[0]\n",
    "    for num in numbers[1:]:\n",
    "        result = lcm(result, num)\n",
    "    return result\n",
    "    \n",
    "print(lcm_of_list([4,6,8]))\n",
    "print(lcm_of_list([1, 2, 3, 4, 5, 6, 7, 8, 9, 10]))\n",
    "print(lcm_of_list([48, 72, 108]))\n"
   ]
  },
  {
   "cell_type": "markdown",
   "id": "c978264e-e94c-4c7f-8878-90ff84417e9c",
   "metadata": {},
   "source": [
    "136. Write a Python program to reverse all words of odd lengths.\n",
    "\n",
    "Original string: The quick brown fox jumps over the lazy dog\n",
    "Reverse all the words of the said string which have odd length: ehT kciuq nworb xof spmuj over eht lazy god\n",
    "Original string: Python Exercises\n",
    "Reverse all the words of the said string which have odd length: Python sesicrexE"
   ]
  },
  {
   "cell_type": "code",
   "execution_count": 65,
   "id": "89885b9e-3ca9-484c-9bf5-8c336392b109",
   "metadata": {},
   "outputs": [
    {
     "name": "stdout",
     "output_type": "stream",
     "text": [
      "ehT kciuq nworb xof spmuj over eht lazy god\n",
      "Python sesicrexE\n"
     ]
    }
   ],
   "source": [
    "def reverse_odd(string):\n",
    "    string_list = string.split()\n",
    "    for i in range(len(string_list)):\n",
    "        if len(string_list[i]) % 2 != 0:\n",
    "            string_list[i] = string_list[i][::-1]\n",
    "    return ' '.join(string_list)\n",
    "\n",
    "print(reverse_odd('The quick brown fox jumps over the lazy dog'))\n",
    "print(reverse_odd('Python Exercises'))        "
   ]
  },
  {
   "cell_type": "markdown",
   "id": "df805f52-262b-413f-acc7-dbc513b2147a",
   "metadata": {},
   "source": [
    "137. Write a Python program to find the longest common ending between two given strings.\n",
    "\n",
    "Original strings: running ruminating\n",
    "Common ending between said two strings: ing\n",
    "Original strings: thisisatest testing123testing\n",
    "Common ending between said two strings:"
   ]
  },
  {
   "cell_type": "code",
   "execution_count": 71,
   "id": "b5124ee5-25b7-4e71-9630-871cb94e7e17",
   "metadata": {},
   "outputs": [
    {
     "name": "stdout",
     "output_type": "stream",
     "text": [
      "ing\n",
      "\n"
     ]
    }
   ],
   "source": [
    "def common_ending(s1, s2):\n",
    "    s1_reverse = s1[::-1]\n",
    "    s2_reverse = s2[::-1]\n",
    "    common_ending = []\n",
    "    for char1, char2 in zip(s1_reverse, s2_reverse):\n",
    "        if char1 == char2:\n",
    "            common_ending.append(char1)\n",
    "        else:\n",
    "            break\n",
    "    return ''.join(common_ending[::-1])\n",
    "\n",
    "print(common_ending('running','ruminating'))\n",
    "print(common_ending('thisisatest','testing123testing'))"
   ]
  },
  {
   "cell_type": "markdown",
   "id": "7aa1e448-fbfc-4ace-ae93-aefc0acd2823",
   "metadata": {},
   "source": [
    "138. Write a Python program to reverse the binary representation of a given number and convert the reversed binary number into an integer.\n",
    "\n",
    "Original number: 13\n",
    "Reverse the binary representation of the said integer and convert it into an integer: 11\n",
    "Original number: 145\n",
    "Reverse the binary representation of the said integer and convert it into an integer: 137\n",
    "Original number: 1342\n",
    "Reverse the binary representation of the said integer and convert it into an integer: 997"
   ]
  },
  {
   "cell_type": "code",
   "execution_count": 76,
   "id": "e7d59356-35c9-417a-91eb-d204f1385d96",
   "metadata": {},
   "outputs": [
    {
     "name": "stdout",
     "output_type": "stream",
     "text": [
      "11\n",
      "137\n",
      "997\n"
     ]
    }
   ],
   "source": [
    "def binary_num(number):\n",
    "    binary_rep_reverse = bin(number)[2:][::-1]\n",
    "    return int(binary_rep_reverse, 2)\n",
    "\n",
    "print(binary_num(13))\n",
    "print(binary_num(145))\n",
    "print(binary_num(1342))"
   ]
  },
  {
   "cell_type": "markdown",
   "id": "fbe120d8-e938-45fd-8968-00712f0363d2",
   "metadata": {},
   "source": [
    "139. Write a Python program to find the closest palindrome number to a given integer. If there are two palindrome numbers in absolute distance return the smaller number.\n",
    "\n",
    "Original number: 120\n",
    "Closest Palindrome number of the said number: 121\n",
    "Original number: 321\n",
    "Closest Palindrome number of the said number: 323\n",
    "Original number: 43\n",
    "Closest Palindrome number of the said number: 44\n",
    "Original number: 1234\n",
    "Closest Palindrome number of the said number: 1221"
   ]
  },
  {
   "cell_type": "code",
   "execution_count": 77,
   "id": "38ad6bc4-1959-458b-8254-0b44c4d0abee",
   "metadata": {},
   "outputs": [
    {
     "name": "stdout",
     "output_type": "stream",
     "text": [
      "121\n",
      "323\n",
      "44\n",
      "1221\n"
     ]
    }
   ],
   "source": [
    "def is_pallindrome(n):\n",
    "    return str(n) == str(n)[::-1]\n",
    "\n",
    "def closest_pallindrome(n):\n",
    "    if is_pallindrome(n):\n",
    "        return n\n",
    "    lower = n - 1\n",
    "    upper = n + 1\n",
    "    while True:\n",
    "        if is_pallindrome(lower):\n",
    "            return lower\n",
    "        if is_pallindrome(upper):\n",
    "            return upper\n",
    "        lower -= 1\n",
    "        upper += 1\n",
    "\n",
    "print(closest_pallindrome(120))\n",
    "print(closest_pallindrome(321))\n",
    "print(closest_pallindrome(43))\n",
    "print(closest_pallindrome(1234))"
   ]
  },
  {
   "cell_type": "markdown",
   "id": "d36fe6a0-075f-4f7f-8d83-82ba97c9fd6b",
   "metadata": {},
   "source": [
    "140. Write a Python program to convert all items in a given list to float values."
   ]
  },
  {
   "cell_type": "code",
   "execution_count": 78,
   "id": "88daad2f-7225-4b28-9985-d7ca8b1541af",
   "metadata": {},
   "outputs": [
    {
     "name": "stdout",
     "output_type": "stream",
     "text": [
      "[0.49, 0.54, 0.54, 0.54, 0.54, 0.54, 0.55, 0.54, 0.54, 0.54, 0.55, 0.55, 0.55, 0.54, 0.55, 0.55, 0.54, 0.55, 0.55, 0.54]\n"
     ]
    }
   ],
   "source": [
    "def str_to_float(l1):\n",
    "    return [float(i) for i in l1]\n",
    "\n",
    "print(str_to_float(['0.49', '0.54', '0.54', '0.54', '0.54', '0.54', '0.55', '0.54', '0.54', '0.54', '0.55', '0.55', '0.55', '0.54', '0.55', '0.55', '0.54', '0.55', '0.55', '0.54']))"
   ]
  },
  {
   "cell_type": "markdown",
   "id": "24d19064-43c6-4e3e-9d17-41bec88823be",
   "metadata": {},
   "source": [
    "142. Write a Python program to check if every consecutive sequence of zeroes is followed by a consecutive sequence of ones of the same length in a given string."
   ]
  },
  {
   "cell_type": "code",
   "execution_count": 80,
   "id": "efa1872d-fdac-4082-a7fb-3bb5f2408616",
   "metadata": {},
   "outputs": [
    {
     "name": "stdout",
     "output_type": "stream",
     "text": [
      "False\n"
     ]
    }
   ],
   "source": [
    "def consec_zeroes_ones(string):\n",
    "    i = 0\n",
    "    while i < len(string):\n",
    "        if string[i] == '0':\n",
    "            zero_count = 0\n",
    "            while i < len(string) and string[i] == '0':\n",
    "                zero_count += 1\n",
    "                i += 1\n",
    "            one_count = 0\n",
    "            while i < len(string) and string[i] == '1':\n",
    "                one_count += 1\n",
    "                i += 1\n",
    "            if zero_count != one_count:\n",
    "                return False\n",
    "            else:\n",
    "                return True\n",
    "\n",
    "print(consec_zeroes_ones('001011'))"
   ]
  },
  {
   "cell_type": "markdown",
   "id": "c9d04cec-150c-40ac-999d-dab3150a211b",
   "metadata": {},
   "source": [
    "144. Write a Python program to convert integer to string.\n",
    "\n",
    "Sample Input:\n",
    "language = \"Python\"\n",
    "version = 3.6\n",
    "sample Output:\n",
    "Language: Python, Version: 3.6"
   ]
  },
  {
   "cell_type": "code",
   "execution_count": 85,
   "id": "bef5d219-876b-4324-86f1-d4e78b427607",
   "metadata": {},
   "outputs": [
    {
     "name": "stdin",
     "output_type": "stream",
     "text": [
      "Enter Language:  Python\n",
      "Enter Version:  4.3\n"
     ]
    },
    {
     "name": "stdout",
     "output_type": "stream",
     "text": [
      "Language: Python, Version: 4.3\n"
     ]
    }
   ],
   "source": [
    "language = str(input('Enter Language: '))\n",
    "version = float(input('Enter Version: '))\n",
    "\n",
    "def int_to_str(language, version):\n",
    "    print(f'Language: {language}, Version: {str(version)}')\n",
    "\n",
    "int_to_str(language, version)"
   ]
  },
  {
   "cell_type": "markdown",
   "id": "d01915cd-a172-4b90-9062-f64776bb9ba4",
   "metadata": {},
   "source": [
    "145. Write a Python program to find the largest and smallest digits of a given number.\n",
    "\n",
    "Original Number: 9387422\n",
    "Largest Digit of the said number: 9\n",
    "Smallest Digit of the said number: 2\n",
    "Original Number: 500\n",
    "Largest Digit of the said number: 5\n",
    "Smallest Digit of the said number: 0\n",
    "Original Number: 231548\n",
    "Largest Digit of the said number: 8\n",
    "Smallest Digit of the said number: 1"
   ]
  },
  {
   "cell_type": "code",
   "execution_count": 87,
   "id": "ae90c923-a099-4b86-bbd3-d9a5e5cd1aa0",
   "metadata": {},
   "outputs": [
    {
     "name": "stdout",
     "output_type": "stream",
     "text": [
      "Largest Digit of the said number:  9\n",
      "Smallest Digit of the said number:  2\n",
      "Largest Digit of the said number:  5\n",
      "Smallest Digit of the said number:  0\n",
      "Largest Digit of the said number:  8\n",
      "Smallest Digit of the said number:  1\n"
     ]
    }
   ],
   "source": [
    "def largest_smallest_digit(n):\n",
    "    sorted_digit = sorted(list(str(n)))\n",
    "    print('Largest Digit of the said number: ', max(sorted_digit))\n",
    "    print('Smallest Digit of the said number: ', min(sorted_digit))\n",
    "\n",
    "largest_smallest_digit(9387422)\n",
    "largest_smallest_digit(500)\n",
    "largest_smallest_digit(231548)"
   ]
  },
  {
   "cell_type": "markdown",
   "id": "dd17e1a2-5d9d-475b-8276-dba21d4d3ace",
   "metadata": {},
   "source": [
    "146. A  Python list contains two positive integers. Write a Python program to check whether the cube root of the first number is equal to the square root of the second number.\n",
    "Sample Data:\n",
    "([8, 4]) -> True\n",
    "([64, 16]) -> True\n",
    "([64, 36]) -> False"
   ]
  },
  {
   "cell_type": "code",
   "execution_count": 96,
   "id": "46fc683a-112d-4a77-a24e-1f964d8c7809",
   "metadata": {},
   "outputs": [
    {
     "name": "stdout",
     "output_type": "stream",
     "text": [
      "True\n",
      "True\n",
      "False\n"
     ]
    }
   ],
   "source": [
    "import math\n",
    "def cube_sum(l1):\n",
    "    cube_first = l1[0] ** (1/3)\n",
    "    square_second = l1[1] ** 0.5\n",
    "    return math.isclose(cube_first,square_second)\n",
    "\n",
    "print(cube_sum([8,4]))\n",
    "print(cube_sum([64,16]))\n",
    "print(cube_sum([64,36]))"
   ]
  },
  {
   "cell_type": "markdown",
   "id": "2be74e16-0221-4962-924e-957c5ddc3bbe",
   "metadata": {},
   "source": [
    "147. A Python list contains three positive integers. Write a Python program to check whether the sum of the digits in each number is equal or not. Return true otherwise false.\n",
    "\n",
    "Sample Data:\n",
    "([13, 4, 22]) -> True\n",
    "([-13, 4, 22]) -> False\n",
    "([45, 63, 90]) -> True"
   ]
  },
  {
   "cell_type": "code",
   "execution_count": 101,
   "id": "de4655a0-dc95-46e1-859b-9b455d165159",
   "metadata": {},
   "outputs": [
    {
     "name": "stdout",
     "output_type": "stream",
     "text": [
      "True\n",
      "False\n",
      "False\n",
      "True\n"
     ]
    }
   ],
   "source": [
    "def sum_digit(l1):\n",
    "    digit_sum = []\n",
    "    for number in l1:\n",
    "        if number < 0:\n",
    "            return False\n",
    "        digits = list(str(number))\n",
    "        sum_of_digits = sum([int(i) for i in digits])\n",
    "        digit_sum.append(sum_of_digits)\n",
    "    return len(set(digit_sum)) == 1\n",
    "\n",
    "print(sum_digit([13,4,22]))\n",
    "print(sum_digit([-13,4,22]))\n",
    "print(sum_digit([-15,4,22]))\n",
    "print(sum_digit([45,63,90]))"
   ]
  },
  {
   "cell_type": "markdown",
   "id": "17445ace-7a6c-4b79-89c3-83c1ec2baf3f",
   "metadata": {},
   "source": [
    "148. A Python list contains some positive integers. Write a Python program to count the numbers that are greater than the previous number on the list.\n",
    "\n",
    "Sample Data:\n",
    "([1, 4, 7, 9, 11, 5]) -> 4\n",
    "([1, 3, 3, 2, 2]) -> 1\n",
    "([4, 3, 2, 1]) -> 0"
   ]
  },
  {
   "cell_type": "code",
   "execution_count": 104,
   "id": "44eb5b78-5fa2-4a80-8784-9ca434d4cbb1",
   "metadata": {},
   "outputs": [
    {
     "name": "stdout",
     "output_type": "stream",
     "text": [
      "4\n",
      "1\n",
      "0\n"
     ]
    }
   ],
   "source": [
    "def greater_than_last(l1):\n",
    "    count = 0\n",
    "    for i in range(1, len(l1)):\n",
    "        if l1[i-1] < l1[i]:\n",
    "            count += 1\n",
    "    return count\n",
    "\n",
    "print(greater_than_last([1, 4, 7, 9, 11, 5]))\n",
    "print(greater_than_last([1, 3, 3, 2, 2]))\n",
    "print(greater_than_last([4, 3, 2, 1]))"
   ]
  },
  {
   "cell_type": "markdown",
   "id": "266bf67f-7fc4-4992-a9e1-9373a8919bd9",
   "metadata": {},
   "source": [
    "149. Write a Python program that takes a positive integer and creates an N x N square filled with the integer N. Display the N x N square.\n",
    "\n",
    "Sample Data:\n",
    "(2) -> [[2, 2], [2, 2]]\n",
    "(5) -> [[5, 5, 5, 5, 5], [5, 5, 5, 5, 5], [5, 5, 5, 5, 5], [5, 5, 5, 5, 5], [5, 5, 5, 5, 5]]\n",
    "(-6) -> []"
   ]
  },
  {
   "cell_type": "code",
   "execution_count": 105,
   "id": "6d7e28fd-7c81-47fc-80da-b0b15939db35",
   "metadata": {},
   "outputs": [
    {
     "name": "stdout",
     "output_type": "stream",
     "text": [
      "[[2, 2], [2, 2]]\n",
      "[[5, 5, 5, 5, 5], [5, 5, 5, 5, 5], [5, 5, 5, 5, 5], [5, 5, 5, 5, 5], [5, 5, 5, 5, 5]]\n",
      "[]\n"
     ]
    }
   ],
   "source": [
    "def create_matrix(n):\n",
    "    if n <= 0:\n",
    "        return []\n",
    "    return [[n for _ in range(n)] for _ in range(n)]\n",
    "\n",
    "print(create_matrix(2))\n",
    "print(create_matrix(5))\n",
    "print(create_matrix(-6))\n",
    "            "
   ]
  },
  {
   "cell_type": "markdown",
   "id": "4b918ebf-a580-4926-918e-6b852c383fda",
   "metadata": {},
   "source": [
    "150. Write a Python program that takes a positive integer and calculates the cube root of the number until the number is less than three. Count the number of steps to complete the task.\n",
    "\n",
    "Sample Data:\n",
    "(3) -> 1\n",
    "(39) -> 2\n",
    "(10000) -> 2"
   ]
  },
  {
   "cell_type": "code",
   "execution_count": 109,
   "id": "00938d3d-07dc-403b-9acd-7506f67d54c5",
   "metadata": {},
   "outputs": [
    {
     "name": "stdout",
     "output_type": "stream",
     "text": [
      "1\n",
      "2\n",
      "2\n"
     ]
    }
   ],
   "source": [
    "def cube_root(number):\n",
    "    steps = 0\n",
    "    while number >= 3:\n",
    "        number = number ** (1/3)\n",
    "        steps += 1\n",
    "    return steps\n",
    "\n",
    "print(cube_root(3))\n",
    "print(cube_root(39))\n",
    "print(cube_root(10000))"
   ]
  },
  {
   "cell_type": "code",
   "execution_count": null,
   "id": "25076a2a-109e-4569-bd25-2603a5b17ba4",
   "metadata": {},
   "outputs": [],
   "source": []
  }
 ],
 "metadata": {
  "kernelspec": {
   "display_name": "Python 3 (ipykernel)",
   "language": "python",
   "name": "python3"
  },
  "language_info": {
   "codemirror_mode": {
    "name": "ipython",
    "version": 3
   },
   "file_extension": ".py",
   "mimetype": "text/x-python",
   "name": "python",
   "nbconvert_exporter": "python",
   "pygments_lexer": "ipython3",
   "version": "3.12.6"
  }
 },
 "nbformat": 4,
 "nbformat_minor": 5
}
