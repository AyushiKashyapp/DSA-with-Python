{
 "cells": [
  {
   "cell_type": "markdown",
   "id": "ed3284e0-9ccf-43a8-8599-f5ece4d5db9f",
   "metadata": {},
   "source": [
    "# Functions and Arguments"
   ]
  },
  {
   "cell_type": "code",
   "execution_count": 4,
   "id": "5aaa663d-87b8-4bc3-8492-0ba6acf7e8de",
   "metadata": {},
   "outputs": [
    {
     "name": "stdout",
     "output_type": "stream",
     "text": [
      "Inside Function : Hello World ---------- Memory Address 1617859291376\n",
      "Outside Function : Hello ---------- Memory Address 1617859176624\n"
     ]
    }
   ],
   "source": [
    "# Pass by object reference - Immutable Argument\n",
    "\n",
    "def change_string(s):\n",
    "    s += ' World'\n",
    "    print(f'Inside Function : {s} ---------- Memory Address {id(s)}')\n",
    "\n",
    "s = 'Hello'\n",
    "change_string(s)\n",
    "print(f'Outside Function : {s} ---------- Memory Address {id(s)}')"
   ]
  },
  {
   "cell_type": "code",
   "execution_count": 5,
   "id": "eee7ec80-ac5b-47b1-9ca1-9e4a05bc5052",
   "metadata": {},
   "outputs": [
    {
     "name": "stdout",
     "output_type": "stream",
     "text": [
      "Inside Function : [2, 4, 6, 100] ---------- Memory Address 1617859135872\n",
      "Outside Function : [2, 4, 6, 100] ---------- Memory Address 1617859135872\n"
     ]
    }
   ],
   "source": [
    "# Pass by object reference - Mutable Argument\n",
    "\n",
    "def change_lst(l):\n",
    "    l.append(100)\n",
    "    print(f'Inside Function : {l} ---------- Memory Address {id(l)}')\n",
    "\n",
    "l = [2,4,6]\n",
    "change_lst(l)\n",
    "print(f'Outside Function : {l} ---------- Memory Address {id(l)}')"
   ]
  },
  {
   "cell_type": "markdown",
   "id": "f28d0f44-2729-4494-bd44-cfce9346a165",
   "metadata": {},
   "source": [
    "# Types of Arguments\n",
    "\n",
    "- Formal Argument - Arguments while defining function.\n",
    "- Actual Argument - Arguments while calling a function.\n",
    "\n",
    "## Actual Arguments"
   ]
  },
  {
   "cell_type": "code",
   "execution_count": 6,
   "id": "6d0f157c-f9b0-4d9d-8283-c1a45065f6cc",
   "metadata": {},
   "outputs": [
    {
     "name": "stdout",
     "output_type": "stream",
     "text": [
      "Name :  Krishu\n",
      "Age :  29\n"
     ]
    }
   ],
   "source": [
    "# Positional Arguments\n",
    "\n",
    "def person_positional(name, age):\n",
    "    print('Name : ', name)\n",
    "    print('Age : ', age)\n",
    "\n",
    "person_positional('Krishu',29)"
   ]
  },
  {
   "cell_type": "code",
   "execution_count": 8,
   "id": "09f89ce6-a874-42ed-85f1-7589b224dd33",
   "metadata": {},
   "outputs": [
    {
     "name": "stdout",
     "output_type": "stream",
     "text": [
      "Name :  Krishu\n",
      "Age :  29\n"
     ]
    }
   ],
   "source": [
    "# Keyword Arguments\n",
    "\n",
    "def person_keyword(name, age):\n",
    "    print('Name : ', name)\n",
    "    print('Age : ', age - 5)\n",
    "\n",
    "person_keyword(age = 34, name = 'Krishu')"
   ]
  },
  {
   "cell_type": "code",
   "execution_count": 9,
   "id": "d155ca68-3bf7-47d7-b670-875941bdd731",
   "metadata": {},
   "outputs": [
    {
     "name": "stdout",
     "output_type": "stream",
     "text": [
      "Name :  Krishu\n",
      "Age :  18\n",
      "Name :  Krishu\n",
      "Age :  29\n"
     ]
    }
   ],
   "source": [
    "# Default Arguments\n",
    "\n",
    "def person_default(name, age = 18):\n",
    "    print('Name : ', name)\n",
    "    print('Age : ', age)\n",
    "\n",
    "person_default('Krishu')\n",
    "person_default('Krishu', 29)"
   ]
  },
  {
   "cell_type": "code",
   "execution_count": 12,
   "id": "6cb3cf22-cc2e-4e9e-8afb-4f48f0520fe6",
   "metadata": {},
   "outputs": [
    {
     "name": "stdout",
     "output_type": "stream",
     "text": [
      "Name : Krishu ------ Type : <class 'str'>\n",
      "Incomes : (76000, 35000, 90000, 80000) ------- Type : <class 'tuple'>\n",
      "281000\n"
     ]
    }
   ],
   "source": [
    "# Variable Length Arguments\n",
    "\n",
    "def sum(name, *incomes):\n",
    "    print(f'Name : {name} ------ Type : {type(name)}')\n",
    "    print(f'Incomes : {incomes} ------- Type : {type(incomes)}')\n",
    "    total_income = 0\n",
    "    for income in incomes:\n",
    "        total_income += income\n",
    "    print(total_income)\n",
    "\n",
    "sum('Krishu', 76000,35000,90000,80000)"
   ]
  },
  {
   "cell_type": "code",
   "execution_count": 13,
   "id": "3583f7e8-0cc7-4ba2-80fc-77f05b3251e1",
   "metadata": {},
   "outputs": [
    {
     "name": "stdout",
     "output_type": "stream",
     "text": [
      "Name : Krishu ------- Type : <class 'str'>\n",
      "Data : {'age': 29, 'jaan': 'Ayushi', 'pyaar': 'bohot saara'} ------- Type : <class 'dict'>\n",
      "age 29\n",
      "jaan Ayushi\n",
      "pyaar bohot saara\n"
     ]
    }
   ],
   "source": [
    "# Keyword variable length arguments\n",
    "\n",
    "def person_keyword_variable(name, **data):\n",
    "    print(f'Name : {name} ------- Type : {type(name)}')\n",
    "    print(f'Data : {data} ------- Type : {type(data)}')\n",
    "    for k,v in data.items():\n",
    "        print(k, v)\n",
    "\n",
    "person_keyword_variable('Krishu', age = 29, jaan = 'Ayushi', pyaar = 'bohot saara')"
   ]
  },
  {
   "cell_type": "code",
   "execution_count": 16,
   "id": "a33c5ef8-436c-4584-8c1b-d127a4fe93fc",
   "metadata": {},
   "outputs": [
    {
     "name": "stdout",
     "output_type": "stream",
     "text": [
      "Inside : 15 ------ Address : 140717220170616\n",
      "Outside : 10 ------ Address : 140717220170456\n"
     ]
    }
   ],
   "source": [
    "# Global Variable and Local\n",
    "\n",
    "a = 10\n",
    "def some():\n",
    "    a = 15\n",
    "    print(f'Inside : {a} ------ Address : {id(a)}')\n",
    "some()\n",
    "print(f'Outside : {a} ------ Address : {id(a)}')"
   ]
  },
  {
   "cell_type": "code",
   "execution_count": 17,
   "id": "4d0fc51f-7187-49da-8594-a9fcd4bfcd2f",
   "metadata": {},
   "outputs": [
    {
     "name": "stdout",
     "output_type": "stream",
     "text": [
      "Inside : 10 ------ Address : 140717220170456\n",
      "Outside : 10 ------ Address : 140717220170456\n"
     ]
    }
   ],
   "source": [
    "# Global Variable\n",
    "\n",
    "a = 10\n",
    "def some():\n",
    "    print(f'Inside : {a} ------ Address : {id(a)}')\n",
    "some()\n",
    "print(f'Outside : {a} ------ Address : {id(a)}')"
   ]
  },
  {
   "cell_type": "code",
   "execution_count": 19,
   "id": "5d320fbe-d742-4106-a4ce-2f8372db1b68",
   "metadata": {},
   "outputs": [
    {
     "name": "stdout",
     "output_type": "stream",
     "text": [
      "Global Variable 10 ------ Address : 140717220170456\n",
      "Inside : 15 ------ Address : 140717220170616\n",
      "Outside : 15 ------ Address : 140717220170616\n"
     ]
    }
   ],
   "source": [
    "# Change the global variable in a function without creating a new local varirable\n",
    "\n",
    "a = 10\n",
    "print(f'Global Variable {a} ------ Address : {id(a)}')\n",
    "def some():\n",
    "    global a\n",
    "    a = 15\n",
    "    print(f'Inside : {a} ------ Address : {id(a)}')\n",
    "some()\n",
    "print(f'Outside : {a} ------ Address : {id(a)}')"
   ]
  },
  {
   "cell_type": "code",
   "execution_count": 21,
   "id": "b564130a-a52a-4746-9e7b-97a89d58cf5f",
   "metadata": {},
   "outputs": [
    {
     "name": "stdout",
     "output_type": "stream",
     "text": [
      "Global Variable 10 ------ Address : 140717220170456\n",
      "Local Variable 9 ------ Address : 140717220170424\n",
      "x : 10 ------ Address : 140717220170456\n",
      "Outside 15 ------ Address : 140717220170616\n"
     ]
    }
   ],
   "source": [
    "# Create a local variable and change the global variable\n",
    "\n",
    "a = 10\n",
    "print(f'Global Variable {a} ------ Address : {id(a)}')\n",
    "def some():\n",
    "    a = 9\n",
    "    print(f'Local Variable {a} ------ Address : {id(a)}')\n",
    "    x = globals()['a']\n",
    "    print(f'x : {x} ------ Address : {id(x)}')\n",
    "    globals()['a'] = 15\n",
    "\n",
    "some()\n",
    "print(f'Outside {a} ------ Address : {id(a)}')\n",
    "    "
   ]
  },
  {
   "cell_type": "code",
   "execution_count": null,
   "id": "ec2e9a68-df39-4c3a-b760-796efc069543",
   "metadata": {},
   "outputs": [],
   "source": []
  }
 ],
 "metadata": {
  "kernelspec": {
   "display_name": "Python 3 (ipykernel)",
   "language": "python",
   "name": "python3"
  },
  "language_info": {
   "codemirror_mode": {
    "name": "ipython",
    "version": 3
   },
   "file_extension": ".py",
   "mimetype": "text/x-python",
   "name": "python",
   "nbconvert_exporter": "python",
   "pygments_lexer": "ipython3",
   "version": "3.12.6"
  }
 },
 "nbformat": 4,
 "nbformat_minor": 5
}
