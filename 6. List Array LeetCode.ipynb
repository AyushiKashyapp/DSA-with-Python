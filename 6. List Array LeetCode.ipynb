{
 "cells": [
  {
   "cell_type": "markdown",
   "metadata": {},
   "source": [
    "#### Missing Number\n",
    "Write a function to find the missing number in a given integer array of 1 to 100. The function takes to parameter the array and the number of elements that needs to be in array.  For example if we want to find missing number from 1 to 6 the second parameter will be 6."
   ]
  },
  {
   "cell_type": "code",
   "execution_count": 4,
   "metadata": {},
   "outputs": [
    {
     "name": "stdout",
     "output_type": "stream",
     "text": [
      "5\n"
     ]
    }
   ],
   "source": [
    "def missing_number(arr, n):\n",
    "    total = n * (n+1) // 2 #Sum of the first n natural numbers using the arithmetic progression formula.\n",
    "    sum_arr = sum(arr)\n",
    "    missing = total - sum_arr\n",
    "    return missing\n",
    "\n",
    "print(missing_number([1,2,3,4,6], 6))"
   ]
  },
  {
   "cell_type": "markdown",
   "metadata": {},
   "source": [
    "#### Sum Pair\n",
    "\n",
    "Give an array of integers and traget number, return indices of the two numbers such that they add utpo target."
   ]
  },
  {
   "cell_type": "code",
   "execution_count": 5,
   "metadata": {},
   "outputs": [
    {
     "name": "stdout",
     "output_type": "stream",
     "text": [
      "0 6\n",
      "1 5\n",
      "3 5\n"
     ]
    }
   ],
   "source": [
    "def sumPair(nums, target):\n",
    "    for i in range(len(nums)):\n",
    "        for j in range(i+1, len(nums)):\n",
    "            if nums[i] == nums[j]:\n",
    "                continue\n",
    "            elif nums[i] + nums[j] == target:\n",
    "                print(i, j)\n",
    "\n",
    "nums = [1,2,3,2,3,4,5,6]\n",
    "sumPair(nums, 6)"
   ]
  },
  {
   "cell_type": "markdown",
   "metadata": {},
   "source": [
    "#### Find element in array\n",
    "\n",
    "How to check if an array contains a number in Python."
   ]
  },
  {
   "cell_type": "code",
   "execution_count": 10,
   "metadata": {},
   "outputs": [
    {
     "name": "stdout",
     "output_type": "stream",
     "text": [
      "13\n"
     ]
    }
   ],
   "source": [
    "import numpy as np\n",
    "\n",
    "arr = np.array([1,2,3,4,5,6,7,8,9,10,11,1,2,13,14,15,16,17,18,19])\n",
    "\n",
    "def findNum(arr, target):\n",
    "    for i in range(len(arr)):\n",
    "        if arr[i] == target:\n",
    "            print(i)\n",
    "            \n",
    "findNum(arr,13)\n",
    "findNum(arr,130)"
   ]
  },
  {
   "cell_type": "markdown",
   "metadata": {},
   "source": [
    "#### Max Product of Two Integers\n",
    "Find the maximum product of two integers in an array where all elements are positive."
   ]
  },
  {
   "cell_type": "code",
   "execution_count": 12,
   "metadata": {},
   "outputs": [
    {
     "name": "stdout",
     "output_type": "stream",
     "text": [
      "(63, 7, 9)\n"
     ]
    }
   ],
   "source": [
    "arr = [1,7,3,4,9,5]\n",
    "\n",
    "def maxProd(arr):\n",
    "    maxP = 0\n",
    "    max_i, max_j = arr[0], arr[0]\n",
    "    for i in range(len(arr)):\n",
    "        for j in range(1, len(arr)):\n",
    "            if arr[i] == arr[j]:\n",
    "                continue\n",
    "            elif arr[i] * arr[j] > maxP:\n",
    "                maxP = arr[i] * arr[j]\n",
    "                max_i = arr[i]\n",
    "                max_j = arr[j]\n",
    "\n",
    "    return maxP, max_i, max_j\n",
    "\n",
    "print(maxProd(arr))"
   ]
  },
  {
   "cell_type": "markdown",
   "metadata": {},
   "source": [
    "#### Middle Function\n",
    "Write a function called middle that takes a list and returns a new list that contains all but the first and last elements.\n",
    "\n",
    "\n",
    "Time Complexity:\n",
    "\n",
    "The function middle has a time complexity of O(n) where n is the length of the input list lst. The reason is that slicing a list takes linear time proportional to the length of the slice. In this case, the slice goes from index 1 to the second-last index, so the length of the slice is n - 2, which is still in the order of O(n).\n",
    "\n",
    "Space Complexity:\n",
    "\n",
    "The space complexity of the function is also O(n) because it returns a new list that is a slice of the original list. The new list has n - 2 elements, which is still in the order of O(n). The memory usage is proportional to the length of the input list lst."
   ]
  },
  {
   "cell_type": "code",
   "execution_count": 13,
   "metadata": {},
   "outputs": [
    {
     "name": "stdout",
     "output_type": "stream",
     "text": [
      "[2, 3]\n"
     ]
    }
   ],
   "source": [
    "def middle(l): #o(n) --> The reason is that slicing a list takes linear time proportional to the length of the slice.\n",
    "    return l[1:-1]\n",
    "\n",
    "print(middle([1,2,3,4]))"
   ]
  },
  {
   "cell_type": "markdown",
   "metadata": {},
   "source": [
    "#### 2D Lists\n",
    "Given 2D list calculate the sum of diagonal elements.\n",
    "\n",
    "Time complexity:\n",
    "\n",
    "O(n), where n is the number of rows (or columns) in the matrix. The function iterates through the rows once.\n",
    "\n",
    "Space complexity:\n",
    "\n",
    "O(1), as the function only uses a single variable to store the sum (total)."
   ]
  },
  {
   "cell_type": "code",
   "execution_count": 15,
   "metadata": {},
   "outputs": [
    {
     "name": "stdout",
     "output_type": "stream",
     "text": [
      "15\n"
     ]
    }
   ],
   "source": [
    "def diagnol_sum(matrix):\n",
    "    sum = 0\n",
    "    for i in range(len(matrix)):\n",
    "        for j in range(len(matrix[0])):\n",
    "            if i == j:\n",
    "                sum += matrix[i][j]\n",
    "    return sum\n",
    "\n",
    "myList2D= [[1,2,3],[4,5,6],[7,8,9]]\n",
    "print(diagnol_sum(myList2D))"
   ]
  },
  {
   "cell_type": "markdown",
   "metadata": {},
   "source": [
    "#### Best Score\n",
    "Given a list, write a function to get first, second best scores from the list.\n",
    "\n",
    "List may contain duplicates.\n",
    "\n",
    "Time complexity:\n",
    "\n",
    "The function iterates through the list my_list once, with each iteration taking constant time O(1) to perform comparisons and updates. Since there are n elements in the list, the overall time complexity of the function is O(n).\n",
    "\n",
    "Space complexity:\n",
    "\n",
    "The function uses a constant amount of additional space to store the variables max1 and max2. There are no other data structures or variables created that depend on the size of the input list. Therefore, the space complexity is O(1), as it remains constant regardless of the input size."
   ]
  },
  {
   "cell_type": "code",
   "execution_count": 16,
   "metadata": {},
   "outputs": [
    {
     "name": "stdout",
     "output_type": "stream",
     "text": [
      "(90, 87)\n"
     ]
    }
   ],
   "source": [
    "def first_second(my_list):\n",
    "    my_list.sort()\n",
    "    return my_list[-1], my_list[-2]\n",
    "\n",
    "my_list = [84,85,86,87,85,90,85,83,23,45,84,1,2,0]\n",
    "print(first_second(my_list))"
   ]
  },
  {
   "cell_type": "code",
   "execution_count": 17,
   "metadata": {},
   "outputs": [
    {
     "name": "stdout",
     "output_type": "stream",
     "text": [
      "(90, 87)\n"
     ]
    }
   ],
   "source": [
    "def first_second(my_list):\n",
    "    max1, max2 = float('-inf'), float('-inf')\n",
    "    for num in my_list:\n",
    "        if num > max1:\n",
    "            max2 = max1\n",
    "            max1 = num\n",
    "        elif num > max2 and num != max1:\n",
    "            max2 = num\n",
    "    return max1, max2\n",
    "\n",
    "my_list = [84,85,86,87,85,90,85,83,23,45,84,1,2,0]\n",
    "print(first_second(my_list))"
   ]
  },
  {
   "cell_type": "markdown",
   "metadata": {},
   "source": [
    "#### Duplicate Number\n",
    "Write a function to remove the duplicate numbers on given integer array/list.\n",
    "\n",
    "Overall time complexity: O(n)\n",
    "\n",
    "The loop iterates through the entire list once, and the set operations (lookup, add) inside the loop have an average time complexity of O(1). Therefore, the overall time complexity is O(n).\n",
    "\n",
    "Space complexity:\n",
    "\n",
    "O(n), as we're using additional data structures (list and set) to store unique elements."
   ]
  },
  {
   "cell_type": "code",
   "execution_count": 18,
   "metadata": {},
   "outputs": [
    {
     "data": {
      "text/plain": [
       "[1, 2, 3, 4, 5]"
      ]
     },
     "execution_count": 18,
     "metadata": {},
     "output_type": "execute_result"
    }
   ],
   "source": [
    "def remove_duplicates(arr):\n",
    "    uniqueList = []\n",
    "    for n in arr:\n",
    "        if n not in uniqueList:\n",
    "            uniqueList.append(n)\n",
    "    return uniqueList\n",
    "\n",
    "remove_duplicates([1, 1, 2, 2, 3, 4, 5])"
   ]
  },
  {
   "cell_type": "markdown",
   "metadata": {},
   "source": [
    "#### Pairs\n",
    "Write a function to find all pairs of an integer array whose sum is equal to a given number. Do not consider commutative pairs.\n",
    "\n",
    "Time and Space Complexity:\n",
    "\n",
    "The time complexity of the pair_sum function is O(n^2), where n is the length of the input array arr. This is because the function uses nested loops, and for each element in the array, it checks every other element in the array for possible pairs.\n",
    "\n",
    "The space complexity of the pair_sum function is O(n), where n is the length of the input array arr. The additional space used in this function is the result list, which stores the pairs that add up to the target sum. In the worst case, the number of pairs that sum up to the target value is proportional to the size of the input array."
   ]
  },
  {
   "cell_type": "code",
   "execution_count": 20,
   "metadata": {},
   "outputs": [
    {
     "name": "stdout",
     "output_type": "stream",
     "text": [
      "2+5\n",
      "4+3\n",
      "3+4\n",
      "-2+9\n"
     ]
    }
   ],
   "source": [
    "def pair_sum(myList, sum):\n",
    "    for i in range(len(myList)):\n",
    "        for j in range(i + 1, len(myList)):\n",
    "            if myList[i] + myList[j] == sum:\n",
    "                print(str(myList[i]) + '+' + str(myList[j]))\n",
    "            \n",
    "pair_sum([2, 4, 3, 5, 6, -2, 4, 7, 8, 9],7)"
   ]
  },
  {
   "cell_type": "markdown",
   "metadata": {},
   "source": [
    "#### Contains Duplicate\n",
    "Given an integer array nums, return true if any value appears at least twice in the array, and return false if every element is distinct.\n",
    "\n",
    "Since the loop runs n times and all operations inside the loop are constant time, the overall time complexity of the contains_duplicate function is O(n), where n is the length of the input array nums.\n",
    "\n",
    "Space Complexity:\n",
    "\n",
    "O(n), where n is the length of the input array nums, as in the worst case, the set seen may store all unique elements of the array."
   ]
  },
  {
   "cell_type": "code",
   "execution_count": 21,
   "metadata": {},
   "outputs": [
    {
     "data": {
      "text/plain": [
       "True"
      ]
     },
     "execution_count": 21,
     "metadata": {},
     "output_type": "execute_result"
    }
   ],
   "source": [
    "def contains_duplicate(nums):\n",
    "    uniqueList = []\n",
    "    status = False\n",
    "    for i in nums:\n",
    "        if i not in uniqueList:\n",
    "            uniqueList.append(i)\n",
    "        elif i in uniqueList:\n",
    "            status = True\n",
    "    return status\n",
    "\n",
    "contains_duplicate([1,2,3,1])"
   ]
  },
  {
   "cell_type": "markdown",
   "metadata": {},
   "source": [
    "#### Permutation\n",
    "\n",
    "If two strings have same characters but in different order. peek-keep"
   ]
  },
  {
   "cell_type": "code",
   "execution_count": 23,
   "metadata": {},
   "outputs": [
    {
     "name": "stdout",
     "output_type": "stream",
     "text": [
      "True\n",
      "False\n"
     ]
    }
   ],
   "source": [
    "def permutation(list1, list2):\n",
    "    if len(list1) != len(list2):\n",
    "        return False\n",
    "    list1.sort()\n",
    "    list2.sort()\n",
    "    if list1 == list2:\n",
    "        return True\n",
    "    else:\n",
    "        return False\n",
    "\n",
    "list1 = [1,2,3]\n",
    "list2 = [1,3,2]\n",
    "list3 = [3,4,1]\n",
    "print(permutation(list1, list2))        \n",
    "print(permutation(list1, list3))        "
   ]
  },
  {
   "cell_type": "markdown",
   "metadata": {},
   "source": [
    "#### Rotate Matrix/ Image - LeetCode 48\n",
    "You are given an n x n 2D matrix representing an image, rotate the image by 90 degrees (clockwise).\n",
    "\n",
    "You have to rotate the image in-place, which means you have to modify the input 2D matrix directly.\n",
    "\n",
    "DO NOT allocate another 2D matrix and do the rotation."
   ]
  },
  {
   "cell_type": "code",
   "execution_count": 25,
   "metadata": {},
   "outputs": [
    {
     "name": "stdout",
     "output_type": "stream",
     "text": [
      "[[7, 4, 1], [8, 5, 2], [9, 6, 3]]\n"
     ]
    }
   ],
   "source": [
    "def rotate(matrix):\n",
    "    for i in range(len(matrix)): # Iterate over the rows\n",
    "        for j in range(i, len(matrix)): # Iterate over the columns starting from the current row 'i'\n",
    "            # Swap the elements at positions (i, j) and (j, i)\n",
    "            matrix[i][j], matrix[j][i] = matrix[j][i], matrix[i][j]\n",
    "    # Reverse each row\n",
    "    for row in matrix:\n",
    "        row.reverse()\n",
    "    return matrix\n",
    "\n",
    "matrix = [[1,2,3],[4,5,6],[7,8,9]]\n",
    "print(rotate(matrix))"
   ]
  },
  {
   "cell_type": "code",
   "execution_count": null,
   "metadata": {},
   "outputs": [],
   "source": []
  }
 ],
 "metadata": {
  "kernelspec": {
   "display_name": "Python 3",
   "language": "python",
   "name": "python3"
  },
  "language_info": {
   "codemirror_mode": {
    "name": "ipython",
    "version": 3
   },
   "file_extension": ".py",
   "mimetype": "text/x-python",
   "name": "python",
   "nbconvert_exporter": "python",
   "pygments_lexer": "ipython3",
   "version": "3.12.6"
  }
 },
 "nbformat": 4,
 "nbformat_minor": 2
}
