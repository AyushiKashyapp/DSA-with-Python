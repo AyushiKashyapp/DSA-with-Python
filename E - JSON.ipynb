{
 "cells": [
  {
   "cell_type": "markdown",
   "id": "98f9fd6e-119f-4bab-b1ab-0d34a31eb9b7",
   "metadata": {},
   "source": [
    "1. Write a Python program to convert JSON data to Python object."
   ]
  },
  {
   "cell_type": "code",
   "execution_count": 3,
   "id": "668155cb-c0c1-4bd7-b84e-68aa3cdaeb95",
   "metadata": {},
   "outputs": [
    {
     "name": "stdout",
     "output_type": "stream",
     "text": [
      "Name :  Krishu\n",
      "Class :  I\n",
      "Age :  6\n"
     ]
    }
   ],
   "source": [
    "import json\n",
    "\n",
    "json_obj = '{\"Name\" : \"Krishu\", \"Class\" : \"I\", \"Age\" : \"6\"}'\n",
    "python_obj = json.loads(json_obj)\n",
    "print('Name : ',python_obj['Name'])\n",
    "print('Class : ', python_obj['Class'])\n",
    "print('Age : ',python_obj['Age'])"
   ]
  },
  {
   "cell_type": "markdown",
   "id": "85664e52-1317-40a5-bf66-e833ee2bc726",
   "metadata": {},
   "source": [
    "2. Write a Python program to convert Python object to JSON data."
   ]
  },
  {
   "cell_type": "code",
   "execution_count": 4,
   "id": "6a23b6af-729b-4ca7-9acd-404df8a495ed",
   "metadata": {},
   "outputs": [
    {
     "name": "stdout",
     "output_type": "stream",
     "text": [
      "{\"Name\": \"Krishu\", \"Class\": \"I\", \"Age\": \"6\"}\n"
     ]
    }
   ],
   "source": [
    "import json\n",
    "\n",
    "python_obj = {\"Name\" : \"Krishu\", \"Class\" : \"I\", \"Age\" : \"6\"}\n",
    "json_obj = json.dumps(python_obj)\n",
    "print(json_obj)"
   ]
  },
  {
   "cell_type": "markdown",
   "id": "6c2ee03d-541f-44dd-b94d-9dfdfaa5bd7f",
   "metadata": {},
   "source": [
    "3. Write a Python program to convert Python objects into JSON strings. Print all the values."
   ]
  },
  {
   "cell_type": "code",
   "execution_count": 5,
   "id": "8de76292-94f7-489d-b2a6-a8339a8585b0",
   "metadata": {},
   "outputs": [
    {
     "name": "stdout",
     "output_type": "stream",
     "text": [
      "JSON Dictionary : {\"Name\": \"Krishu\", \"Class\": \"I\", \"Age\": \"6\"}\n",
      "JSON List : [\"Krishu\", \"I\", 6]\n",
      "JSON String : \"Krishu\"\n",
      "JSON Integer : 90\n",
      "JSON Float : 90.4\n",
      "JSON True : true\n",
      "JSON False : false\n",
      "JSON None : null\n"
     ]
    }
   ],
   "source": [
    "python_dict = {\"Name\" : \"Krishu\", \"Class\" : \"I\", \"Age\" : \"6\"}\n",
    "python_list = ['Krishu', 'I', 6]\n",
    "python_str = 'Krishu'\n",
    "python_int = 90\n",
    "python_float = 90.4\n",
    "python_t = True\n",
    "python_f = False\n",
    "python_n = None\n",
    "\n",
    "json_dict = json.dumps(python_dict)\n",
    "json_list = json.dumps(python_list)\n",
    "json_str = json.dumps(python_str)\n",
    "json_int = json.dumps(python_int)\n",
    "json_float = json.dumps(python_float)\n",
    "json_t = json.dumps(python_t)\n",
    "json_f = json.dumps(python_f)\n",
    "json_n = json.dumps(python_n)\n",
    "\n",
    "print('JSON Dictionary :', json_dict)\n",
    "print('JSON List :', json_list)\n",
    "print('JSON String :', json_str)\n",
    "print('JSON Integer :', json_int)\n",
    "print('JSON Float :', json_float)\n",
    "print('JSON True :', json_t)\n",
    "print('JSON False :', json_f)\n",
    "print('JSON None :', json_n)"
   ]
  },
  {
   "cell_type": "markdown",
   "id": "ea8c1d17-76f9-4bb6-bdb6-106f5377efc6",
   "metadata": {},
   "source": [
    "4. Write a Python program to convert Python dictionary object (sort by key) to JSON data. Print the object members with indent level 4."
   ]
  },
  {
   "cell_type": "code",
   "execution_count": 6,
   "id": "94fa8629-6b4f-4a12-8ef3-2be7d57fa779",
   "metadata": {},
   "outputs": [
    {
     "name": "stdout",
     "output_type": "stream",
     "text": [
      "{\n",
      "    \"1\": 3,\n",
      "    \"2\": 4,\n",
      "    \"4\": 5,\n",
      "    \"6\": 7\n",
      "}\n"
     ]
    }
   ],
   "source": [
    "python_str = {'4': 5, '6': 7, '1': 3, '2': 4}\n",
    "json_str = json.dumps(python_str, sort_keys = True, indent = 4)\n",
    "print(json_str)"
   ]
  },
  {
   "cell_type": "markdown",
   "id": "87fcd215-301f-49e6-b43d-c9ec70046e6d",
   "metadata": {},
   "source": [
    "5. Write a Python program to convert JSON encoded data into Python objects."
   ]
  },
  {
   "cell_type": "code",
   "execution_count": 7,
   "id": "9a0755cc-0497-4822-8d63-5d118ffdd4ea",
   "metadata": {},
   "outputs": [
    {
     "name": "stdout",
     "output_type": "stream",
     "text": [
      "Python dictionary:  {'Name': 'Krishu', 'Class': 'I', 'Age': '6'}\n",
      "Python list:  ['Krishu', 'I', 6]\n",
      "Python string:  Krishu\n",
      "Python integer:  90\n",
      "Python float:  90.4\n"
     ]
    }
   ],
   "source": [
    "json_dict = '{\"Name\" : \"Krishu\", \"Class\" : \"I\", \"Age\" : \"6\"}'\n",
    "json_list = '[\"Krishu\", \"I\", 6]'\n",
    "json_str = '\"Krishu\"'\n",
    "json_int = '90'\n",
    "json_float = '90.4'\n",
    "\n",
    "python_dict = json.loads(json_dict)\n",
    "python_list = json.loads(json_list)\n",
    "python_str = json.loads(json_str)\n",
    "python_int = json.loads(json_int)\n",
    "python_float = json.loads(json_float)\n",
    "\n",
    "print(\"Python dictionary: \", python_dict)\n",
    "print(\"Python list: \", python_list)\n",
    "print(\"Python string: \", python_str)\n",
    "print(\"Python integer: \", python_int)\n",
    "print(\"Python float: \", python_float)"
   ]
  },
  {
   "cell_type": "markdown",
   "id": "1a56ad6f-bf85-4e00-b7bc-3b9f4a05104d",
   "metadata": {},
   "source": [
    "6. Write a Python program to create a new JSON file from an existing JSON file."
   ]
  },
  {
   "cell_type": "code",
   "execution_count": null,
   "id": "b8e47153-f9c2-4649-80f1-31554b45fe00",
   "metadata": {},
   "outputs": [],
   "source": [
    "with open('input_json_file.json') as f:\n",
    "    loaded_data = json.load(f)\n",
    "\n",
    "for x in loaded_data['x']:\n",
    "    del x['some_column']\n",
    "\n",
    "with open('write_json_file.json', 'w') as f:\n",
    "    json.dumps(loaded_data, f, indent = 2)"
   ]
  },
  {
   "cell_type": "markdown",
   "id": "4e6010ef-90ca-4e82-a16c-f40c806d40ce",
   "metadata": {},
   "source": [
    "7. Write a Python program to check whether an instance is complex or not."
   ]
  },
  {
   "cell_type": "code",
   "execution_count": 10,
   "id": "bd2355e8-2374-4ae1-b3a8-114531965b4b",
   "metadata": {},
   "outputs": [
    {
     "name": "stdout",
     "output_type": "stream",
     "text": [
      "[2.0, 3.0]\n"
     ]
    }
   ],
   "source": [
    "import json\n",
    "\n",
    "def encode_complex(object):\n",
    "    # check using isinstance method\n",
    "    if isinstance(object, complex):\n",
    "        return [object.real, object.imag]\n",
    "    # raised error if object is not complex\n",
    "    raise TypeError(repr(object) + \" is not JSON serialized\")\n",
    "\n",
    "complex_obj = json.dumps(2 + 3j, default=encode_complex)\n",
    "print(complex_obj) "
   ]
  },
  {
   "cell_type": "markdown",
   "id": "0545b351-359d-4f5f-94a4-60b2c6f2e1ae",
   "metadata": {},
   "source": [
    "8. Write a Python program to check whether a JSON string contains complex object or not."
   ]
  },
  {
   "cell_type": "code",
   "execution_count": 11,
   "id": "bf0eb56b-4d9b-4b37-98c5-19aa7e0710a8",
   "metadata": {},
   "outputs": [
    {
     "name": "stdout",
     "output_type": "stream",
     "text": [
      "Complex_object:  (4+5j)\n",
      "Without complex object:  {'real': 4, 'img': 3}\n"
     ]
    }
   ],
   "source": [
    "import json\n",
    "def is_complex_num(objct):\n",
    "    if '__complex__' in objct:\n",
    "        return complex(objct['real'], objct['img'])\n",
    "    return objct\n",
    "\n",
    "complex_object =json.loads('{\"__complex__\": true, \"real\": 4, \"img\": 5}', object_hook = is_complex_num)\n",
    "simple_object =json.loads('{\"real\": 4, \"img\": 3}', object_hook = is_complex_num)\n",
    "print(\"Complex_object: \",complex_object)\n",
    "print(\"Without complex object: \",simple_object)"
   ]
  },
  {
   "cell_type": "markdown",
   "id": "4c4f81a2-50a7-434b-b61d-a47f92e4b51a",
   "metadata": {},
   "source": [
    "9. Write a Python program to access only unique key value of a Python object."
   ]
  },
  {
   "cell_type": "code",
   "execution_count": 12,
   "id": "9bc5be7b-11b8-4adc-81b8-8f875574bba8",
   "metadata": {},
   "outputs": [
    {
     "name": "stdout",
     "output_type": "stream",
     "text": [
      "{'a': 4, 'b': 2}\n"
     ]
    }
   ],
   "source": [
    "python_obj = '{\"a\":  1, \"a\":  2, \"a\":  3, \"a\": 4, \"b\": 1, \"b\": 2}'\n",
    "json_obj = json.loads(python_obj)\n",
    "print(json_obj)"
   ]
  },
  {
   "cell_type": "code",
   "execution_count": null,
   "id": "086e0435-4166-4911-9479-848f19db8d0f",
   "metadata": {},
   "outputs": [],
   "source": []
  }
 ],
 "metadata": {
  "kernelspec": {
   "display_name": "Python 3 (ipykernel)",
   "language": "python",
   "name": "python3"
  },
  "language_info": {
   "codemirror_mode": {
    "name": "ipython",
    "version": 3
   },
   "file_extension": ".py",
   "mimetype": "text/x-python",
   "name": "python",
   "nbconvert_exporter": "python",
   "pygments_lexer": "ipython3",
   "version": "3.12.6"
  }
 },
 "nbformat": 4,
 "nbformat_minor": 5
}
