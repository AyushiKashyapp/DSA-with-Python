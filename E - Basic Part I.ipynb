{
 "cells": [
  {
   "cell_type": "markdown",
   "id": "6fb8a95a-ca56-454f-84fe-8399c60087a1",
   "metadata": {},
   "source": [
    "1. Write a Python program to print the following string in a specific format (see the output).\n",
    "Sample String : \"Twinkle, twinkle, little star, How I wonder what you are! Up above the world so high, Like a diamond in the sky. Twinkle, twinkle, little star, How I wonder what you are\"\n",
    "Output :\n",
    "\n",
    "Twinkle, twinkle, little star,\n",
    "\tHow I wonder what you are! \n",
    "\t\tUp above the world so high,   \t\t\n",
    "\t\tLike a diamond in the sky. \n",
    "Twinkle, twinkle, little star, \n",
    "\tHow I wonder what you are"
   ]
  },
  {
   "cell_type": "code",
   "execution_count": 3,
   "id": "40408feb-0796-4fa0-a8f4-9fb252f75dc4",
   "metadata": {},
   "outputs": [
    {
     "name": "stdout",
     "output_type": "stream",
     "text": [
      "Twinkle, twinkle, little star, \n",
      "\tHow I wonder what you are! \n",
      "\t\tUp above the world so high, \n",
      "\t\tLike a diamond in the sky. \n",
      "Twinkle, twinkle, little star, \n",
      "\tHow I wonder what you are\n"
     ]
    }
   ],
   "source": [
    "print('Twinkle, twinkle, little star, \\n\\tHow I wonder what you are! \\n\\t\\tUp above the world so high, \\n\\t\\tLike a diamond in the sky. \\nTwinkle, twinkle, little star, \\n\\tHow I wonder what you are')"
   ]
  },
  {
   "cell_type": "markdown",
   "id": "26fc0d29-4312-4f67-b3ab-a46cf24e4d70",
   "metadata": {},
   "source": [
    "2. Write a Python program to find out what version of Python you are using."
   ]
  },
  {
   "cell_type": "code",
   "execution_count": 7,
   "id": "b3fa829c-52f8-41aa-866a-e7c38140a2b0",
   "metadata": {},
   "outputs": [
    {
     "name": "stdout",
     "output_type": "stream",
     "text": [
      "Python Version:  3.12.6 (tags/v3.12.6:a4a2d2b, Sep  6 2024, 20:11:23) [MSC v.1940 64 bit (AMD64)]\n",
      "Python Version Info:  sys.version_info(major=3, minor=12, micro=6, releaselevel='final', serial=0)\n"
     ]
    }
   ],
   "source": [
    "import sys\n",
    "print(\"Python Version: \",sys.version)\n",
    "print(\"Python Version Info: \", sys.version_info)"
   ]
  },
  {
   "cell_type": "markdown",
   "id": "5c8af4fd-3d9b-47b3-a7a7-f0df23061bbd",
   "metadata": {},
   "source": [
    "3. Write a Python program to display the current date and time.\n",
    "Sample Output :\n",
    "Current date and time :\n",
    "2014-07-05 14:34:14"
   ]
  },
  {
   "cell_type": "code",
   "execution_count": 10,
   "id": "b1349ccd-d883-45ae-b51d-b63fecd8fc5d",
   "metadata": {},
   "outputs": [
    {
     "name": "stdout",
     "output_type": "stream",
     "text": [
      "Print Current Date and Time :\n",
      "2024-10-07 19:21:10\n"
     ]
    }
   ],
   "source": [
    "import datetime\n",
    "\n",
    "now = datetime.datetime.now()\n",
    "print(\"Print Current Date and Time :\")\n",
    "print(now.strftime(\"%Y-%m-%d %H:%M:%S\"))"
   ]
  },
  {
   "cell_type": "markdown",
   "id": "7e68a3d9-3590-4e3e-8b08-2ae31740645e",
   "metadata": {},
   "source": [
    "4. Write a Python program that calculates the area of a circle based on the radius entered by the user.\n",
    "Sample Output :\n",
    "r = 1.1\n",
    "Area = 3.8013271108436504"
   ]
  },
  {
   "cell_type": "code",
   "execution_count": 13,
   "id": "94e9f15c-a4d8-4402-aa3a-a0e1b0650ac9",
   "metadata": {},
   "outputs": [
    {
     "name": "stdin",
     "output_type": "stream",
     "text": [
      "Input radius : 1.1\n"
     ]
    },
    {
     "name": "stdout",
     "output_type": "stream",
     "text": [
      "r =  1.1\n",
      "Area =  3.8013271108436504\n"
     ]
    }
   ],
   "source": [
    "from math import pi\n",
    "radius = float(input(\"Input radius :\"))\n",
    "print(\"r = \",radius)\n",
    "area = pi * radius * radius\n",
    "print(\"Area = \",area)"
   ]
  },
  {
   "cell_type": "markdown",
   "id": "e2077e70-5723-4027-80f6-001cd2f7df5b",
   "metadata": {},
   "source": [
    "5. Write a Python program that accepts the user's first and last name and prints them in reverse order with a space between them."
   ]
  },
  {
   "cell_type": "code",
   "execution_count": 14,
   "id": "123229c1-6ab5-4af4-b516-ff187073f22d",
   "metadata": {},
   "outputs": [
    {
     "name": "stdin",
     "output_type": "stream",
     "text": [
      "First Name : Ayushi\n",
      "Last Name : Kashyap\n"
     ]
    },
    {
     "name": "stdout",
     "output_type": "stream",
     "text": [
      "Name in reverse order:  Kashyap Ayushi\n"
     ]
    }
   ],
   "source": [
    "first_name = str(input(\"First Name :\"))\n",
    "last_name = str(input(\"Last Name :\"))\n",
    "print(\"Name in reverse order: \", (last_name + ' ' + first_name))"
   ]
  },
  {
   "cell_type": "markdown",
   "id": "a8072bc6-6a02-489b-a8bc-61f75ca781aa",
   "metadata": {},
   "source": [
    "6. Write a Python program that accepts a sequence of comma-separated numbers from the user and generates a list and a tuple of those numbers.\n",
    "Sample data : 3, 5, 7, 23\n",
    "Output :\n",
    "List : ['3', ' 5', ' 7', ' 23']\n",
    "Tuple : ('3', ' 5', ' 7', ' 23')"
   ]
  },
  {
   "cell_type": "code",
   "execution_count": 15,
   "id": "6c7f8627-af65-41f0-99ef-6fa15c757d06",
   "metadata": {},
   "outputs": [
    {
     "name": "stdin",
     "output_type": "stream",
     "text": [
      "Input comma separated numbers:  2,4,5,1,4\n"
     ]
    },
    {
     "name": "stdout",
     "output_type": "stream",
     "text": [
      "List :  ['2', '4', '5', '1', '4']\n",
      "Tuple :  ('2', '4', '5', '1', '4')\n"
     ]
    }
   ],
   "source": [
    "numbers = input(\"Input comma separated numbers: \")\n",
    "num_list = numbers.split(\",\")\n",
    "num_tuple = tuple(num_list)\n",
    "print(\"List : \", num_list)\n",
    "print(\"Tuple : \", num_tuple)"
   ]
  },
  {
   "cell_type": "markdown",
   "id": "a261b902-03dd-461b-8b5d-11f549770024",
   "metadata": {},
   "source": [
    "7. Write a Python program that accepts a filename from the user and prints the extension of the file.\n",
    "Sample filename : abc.java\n",
    "Output : java"
   ]
  },
  {
   "cell_type": "code",
   "execution_count": 16,
   "id": "7d3a838d-a91b-4eb6-93d3-1feab4574596",
   "metadata": {},
   "outputs": [
    {
     "name": "stdin",
     "output_type": "stream",
     "text": [
      "Input File Name :  gogo.java\n"
     ]
    },
    {
     "name": "stdout",
     "output_type": "stream",
     "text": [
      "File Extension:  java\n"
     ]
    }
   ],
   "source": [
    "file_name = str(input(\"Input File Name : \"))\n",
    "file_name_list = file_name.split(\".\")\n",
    "print(\"File Extension: \", file_name_list[1])"
   ]
  },
  {
   "cell_type": "markdown",
   "id": "2481b436-cf07-4b86-baa4-081c92708a67",
   "metadata": {},
   "source": [
    "8. Write a Python program to display the first and last colors from the following list.\n",
    "color_list = [\"Red\",\"Green\",\"White\" ,\"Black\"]"
   ]
  },
  {
   "cell_type": "code",
   "execution_count": 18,
   "id": "b1934f6b-1687-4de8-9b9b-003b501ec5d8",
   "metadata": {},
   "outputs": [
    {
     "name": "stdout",
     "output_type": "stream",
     "text": [
      "First color:  Red\n",
      "Last color:  Black\n"
     ]
    }
   ],
   "source": [
    "color_list = [\"Red\",\"Green\",\"White\" ,\"Black\"]\n",
    "print(\"First color: \", color_list[0])\n",
    "print(\"Last color: \", color_list[len(color_list) - 1])"
   ]
  },
  {
   "cell_type": "markdown",
   "id": "d35b80b5-9e5d-42ca-9c08-12a7dc0d1b27",
   "metadata": {},
   "source": [
    "9. Write a Python program to display the examination schedule. (extract the date from exam_st_date).\n",
    "exam_st_date = (11, 12, 2014)\n",
    "Sample Output : The examination will start from : 11 / 12 / 2014"
   ]
  },
  {
   "cell_type": "code",
   "execution_count": 19,
   "id": "1644b42b-2c9a-4691-a296-c216e2777874",
   "metadata": {},
   "outputs": [
    {
     "name": "stdout",
     "output_type": "stream",
     "text": [
      "Sample Output : The examination will start from : 11 / 12 / 2014\n"
     ]
    }
   ],
   "source": [
    "exam_st_date = (11, 12, 2014)\n",
    "print(\"Sample Output : The examination will start from : %i / %i / %i\" % exam_st_date)"
   ]
  },
  {
   "cell_type": "markdown",
   "id": "eb56b531-c135-47f4-a8b1-7e323d2894ad",
   "metadata": {},
   "source": [
    "10. Write a Python program that accepts an integer (n) and computes the value of n+nn+nnn.\n",
    "Sample value of n is 5\n",
    "Expected Result : 615"
   ]
  },
  {
   "cell_type": "code",
   "execution_count": 20,
   "id": "5201a2d9-5b45-4869-bd22-3ad177a0d734",
   "metadata": {},
   "outputs": [
    {
     "name": "stdin",
     "output_type": "stream",
     "text": [
      "Input a number:  5\n"
     ]
    },
    {
     "name": "stdout",
     "output_type": "stream",
     "text": [
      "Result :  155\n"
     ]
    }
   ],
   "source": [
    "number = int(input(\"Input a number: \"))\n",
    "result = number + (number * number) + (number * number * number)\n",
    "print(\"Result : \", result)"
   ]
  },
  {
   "cell_type": "markdown",
   "id": "489ed9c4-4fca-4efd-99d1-fe1ddc5fa51e",
   "metadata": {},
   "source": [
    "11. Write a Python program to print the documents (syntax, description etc.) of Python built-in function(s).\n",
    "Sample function : abs()\n",
    "Expected Result :\n",
    "abs(number) -> number\n",
    "Return the absolute value of the argument."
   ]
  },
  {
   "cell_type": "code",
   "execution_count": 23,
   "id": "c145259b-0c17-493a-b6e9-10d7c437ba79",
   "metadata": {},
   "outputs": [
    {
     "name": "stdout",
     "output_type": "stream",
     "text": [
      "Return the absolute value of the argument.\n",
      "Return the number of items in a container.\n"
     ]
    }
   ],
   "source": [
    "print(abs.__doc__)\n",
    "print(len.__doc__)"
   ]
  },
  {
   "cell_type": "markdown",
   "id": "6e3dda38-f05e-4250-b37e-9a7a843c6902",
   "metadata": {},
   "source": [
    "12. Write a Python program that prints the calendar for a given month and year.\n",
    "Note : Use 'calendar' module."
   ]
  },
  {
   "cell_type": "code",
   "execution_count": 26,
   "id": "f609dba0-adba-4d7b-ab61-bee500209bf8",
   "metadata": {},
   "outputs": [
    {
     "name": "stdin",
     "output_type": "stream",
     "text": [
      "Input the year:  1995\n",
      "Input the month:  5\n"
     ]
    },
    {
     "name": "stdout",
     "output_type": "stream",
     "text": [
      "      May 1995\n",
      "Mo Tu We Th Fr Sa Su\n",
      " 1  2  3  4  5  6  7\n",
      " 8  9 10 11 12 13 14\n",
      "15 16 17 18 19 20 21\n",
      "22 23 24 25 26 27 28\n",
      "29 30 31\n",
      "\n"
     ]
    }
   ],
   "source": [
    "import calendar\n",
    "\n",
    "y = int(input(\"Input the year: \"))\n",
    "m = int(input(\"Input the month: \"))\n",
    "print(calendar.month(y,m))"
   ]
  },
  {
   "cell_type": "markdown",
   "id": "ed8e047b-3d96-449f-a449-b1eba334a025",
   "metadata": {},
   "source": [
    "13. Write a Python program to print the following 'here document'.\n",
    "Sample string :\n",
    "a string that you \"don't\" have to escape\n",
    "This\n",
    "is a ....... multi-line\n",
    "heredoc string --------> example"
   ]
  },
  {
   "cell_type": "code",
   "execution_count": 27,
   "id": "1ca7acb7-1a20-40ac-808b-14568c1382b3",
   "metadata": {},
   "outputs": [
    {
     "name": "stdout",
     "output_type": "stream",
     "text": [
      "\n",
      "a string that you \"don't\" have to escape\n",
      "This\n",
      "is a  ....... multi-line\n",
      "heredoc string --------> example\n",
      "\n"
     ]
    }
   ],
   "source": [
    "print(\"\"\"\n",
    "a string that you \"don't\" have to escape\n",
    "This\n",
    "is a  ....... multi-line\n",
    "heredoc string --------> example\n",
    "\"\"\")"
   ]
  },
  {
   "cell_type": "markdown",
   "id": "c1ab9809-6725-428c-bc9a-5adf9c7aa3ca",
   "metadata": {},
   "source": [
    "14. Write a Python program to calculate the number of days between two dates.\n",
    "Sample dates : (2014, 7, 2), (2014, 7, 11)\n",
    "Expected output : 9 days"
   ]
  },
  {
   "cell_type": "code",
   "execution_count": 28,
   "id": "49a69606-39f0-4ca2-9850-68aebf40496c",
   "metadata": {},
   "outputs": [
    {
     "name": "stdout",
     "output_type": "stream",
     "text": [
      "9\n"
     ]
    }
   ],
   "source": [
    "from datetime import date\n",
    "f_date = date(2014, 7, 2)\n",
    "s_date = date(2014, 7, 11)\n",
    "delta = s_date - f_date\n",
    "print(delta.days)"
   ]
  },
  {
   "cell_type": "markdown",
   "id": "f23710cf-2207-4fa4-8677-f4a284d82c17",
   "metadata": {},
   "source": [
    "15. Write a  Python program to get the volume of a sphere with radius six."
   ]
  },
  {
   "cell_type": "code",
   "execution_count": 30,
   "id": "6f71d3da-c45c-46ef-afdb-3f628ba343bd",
   "metadata": {},
   "outputs": [
    {
     "name": "stdout",
     "output_type": "stream",
     "text": [
      "Volume of Sphere with radius 6 is 904.7786842338603\n"
     ]
    }
   ],
   "source": [
    "from math import pi\n",
    "radius = 6\n",
    "volume = (4 / 3) * pi * radius ** 3\n",
    "print(f\"Volume of Sphere with radius {radius} is {volume}\")"
   ]
  },
  {
   "cell_type": "markdown",
   "id": "74935e1d-744a-429a-a77d-d23a8032b4cf",
   "metadata": {},
   "source": [
    "16. Write a Python program to calculate the difference between a given number and 17. If the number is greater than 17, return twice the absolute difference."
   ]
  },
  {
   "cell_type": "code",
   "execution_count": 33,
   "id": "9632e7c6-d1bf-47de-b238-8a0990488727",
   "metadata": {},
   "outputs": [
    {
     "name": "stdin",
     "output_type": "stream",
     "text": [
      "Enter the number:  56\n"
     ]
    },
    {
     "name": "stdout",
     "output_type": "stream",
     "text": [
      "Result :  78\n"
     ]
    }
   ],
   "source": [
    "number = int(input(\"Enter the number: \"))\n",
    "result = 0\n",
    "if number < 17:\n",
    "    result = 17 - number\n",
    "else:\n",
    "    result = 2 * abs(17 - number)\n",
    "\n",
    "print(\"Result : \", result)"
   ]
  },
  {
   "cell_type": "markdown",
   "id": "72545624-3d4d-4dfc-a338-962f888ec283",
   "metadata": {},
   "source": [
    "17. Write a Python program to test whether a number is within 100 of 1000 or 2000."
   ]
  },
  {
   "cell_type": "code",
   "execution_count": 35,
   "id": "18200223-f8fc-4822-a081-6d0510d69aad",
   "metadata": {},
   "outputs": [
    {
     "name": "stdout",
     "output_type": "stream",
     "text": [
      "True\n",
      "False\n"
     ]
    }
   ],
   "source": [
    "def near_thousand(n):\n",
    "    return ((abs(1000 - n) <= 100) or (abs(2000 - n) <= 100))\n",
    "\n",
    "print(near_thousand(1000))\n",
    "print(near_thousand(5000))"
   ]
  },
  {
   "cell_type": "markdown",
   "id": "a3a65f0e-dc0c-416e-bcf7-91f601391072",
   "metadata": {},
   "source": [
    "18. Write a Python program to calculate the sum of three given numbers. If the values are equal, return three times their sum."
   ]
  },
  {
   "cell_type": "code",
   "execution_count": 36,
   "id": "a5f795ba-16e2-472b-8535-20fe4bfe87b9",
   "metadata": {},
   "outputs": [
    {
     "name": "stdout",
     "output_type": "stream",
     "text": [
      "Sum of numbers 2, 3 and 4 is  9\n",
      "Sum of numbers 2, 2 and 2 is  18\n"
     ]
    }
   ],
   "source": [
    "def num_sum(n1, n2, n3):\n",
    "    sum_of_num = 0\n",
    "    if n1 == n2 == n3:\n",
    "        sum_of_num = 3 * (n1 + n2 + n3)\n",
    "    else:\n",
    "        sum_of_num = n1 + n2 + n3\n",
    "    return sum_of_num\n",
    "\n",
    "print(\"Sum of numbers 2, 3 and 4 is \", num_sum(2,3,4))\n",
    "print(\"Sum of numbers 2, 2 and 2 is \", num_sum(2,2,2))"
   ]
  },
  {
   "cell_type": "markdown",
   "id": "f28f94db-d5fe-47a8-be3c-5d3e279e410e",
   "metadata": {},
   "source": [
    "19. Write a Python program to get a newly-generated string from a given string where \"Is\" has been added to the front. Return the string unchanged if the given string already begins with \"Is\"."
   ]
  },
  {
   "cell_type": "code",
   "execution_count": 41,
   "id": "ad573840-3a2a-4045-9bbf-9b8a6caae2df",
   "metadata": {},
   "outputs": [
    {
     "name": "stdout",
     "output_type": "stream",
     "text": [
      "Gogu : Isgogu\n",
      "Isabel :  Isabel\n"
     ]
    }
   ],
   "source": [
    "def string_check(given_string):\n",
    "    if len(given_string) >= 2 and given_string[:2] == \"Is\":\n",
    "        return given_string\n",
    "    else:\n",
    "        return (\"Is\" + given_string)\n",
    "print(\"Gogu :\", string_check(\"gogu\"))\n",
    "print(\"Isabel : \", string_check(\"Isabel\"))"
   ]
  },
  {
   "cell_type": "markdown",
   "id": "40406a62-3034-4ec6-bff4-dbed58a5f432",
   "metadata": {},
   "source": [
    "20. Write a Python program that returns a string that is n (non-negative integer) copies of a given string."
   ]
  },
  {
   "cell_type": "code",
   "execution_count": 42,
   "id": "ddc385e8-833f-4c09-a236-b5ab08a28d2d",
   "metadata": {},
   "outputs": [
    {
     "name": "stdout",
     "output_type": "stream",
     "text": [
      "Making .test copies : .test.test.test\n"
     ]
    }
   ],
   "source": [
    "def string_copies(string, n):\n",
    "    new_string = ''\n",
    "    for i in range(n):\n",
    "        new_string += string\n",
    "    return new_string\n",
    "print(\"Making .test copies :\", string_copies('.test', 3))"
   ]
  },
  {
   "cell_type": "markdown",
   "id": "032149f1-96af-4cc2-aef8-16329f286dad",
   "metadata": {},
   "source": [
    "21. Write a Python program that determines whether a given number (accepted from the user) is even or odd, and prints an appropriate message to the user."
   ]
  },
  {
   "cell_type": "code",
   "execution_count": 6,
   "id": "bd9b3f88-62da-4733-848e-66ae72d7491e",
   "metadata": {},
   "outputs": [
    {
     "name": "stdin",
     "output_type": "stream",
     "text": [
      "Enter the number :  33\n"
     ]
    },
    {
     "name": "stdout",
     "output_type": "stream",
     "text": [
      "The number is odd.\n"
     ]
    }
   ],
   "source": [
    "number = int(input(\"Enter the number : \"))\n",
    "\n",
    "if number % 2 == 0:\n",
    "    print(\"The number is even.\")\n",
    "else:\n",
    "    print(\"The number is odd.\")"
   ]
  },
  {
   "cell_type": "markdown",
   "id": "a4c9cdb5-894b-4647-abd4-601f275efb98",
   "metadata": {},
   "source": [
    "22. Write a Python program to count the number 4 in a given list."
   ]
  },
  {
   "cell_type": "code",
   "execution_count": 8,
   "id": "0e05a215-17ab-4330-b9a4-16f3ef226079",
   "metadata": {},
   "outputs": [
    {
     "name": "stdout",
     "output_type": "stream",
     "text": [
      "Number of 4's :  5\n"
     ]
    }
   ],
   "source": [
    "num_list = [2, 3, 4, 5, 2, 4, 6, 1, 7, 4, 9, 2, 5, 4, 4]\n",
    "\n",
    "count = 0\n",
    "for i in num_list:\n",
    "    if i == 4:\n",
    "        count += 1\n",
    "print(\"Number of 4's : \", count)"
   ]
  },
  {
   "cell_type": "markdown",
   "id": "69a89c5c-5b5d-4d5f-93df-18a86ddf9303",
   "metadata": {},
   "source": [
    "23. Write a Python program to get n (non-negative integer) copies of the first 2 characters of a given string. Return n copies of the whole string if the length is less than 2."
   ]
  },
  {
   "cell_type": "code",
   "execution_count": 14,
   "id": "f02b3a7a-fe46-47ce-9bac-afa221671727",
   "metadata": {},
   "outputs": [
    {
     "name": "stdin",
     "output_type": "stream",
     "text": [
      "How many copies you want:  5\n",
      "Enter the string 2:  f\n"
     ]
    },
    {
     "name": "stdout",
     "output_type": "stream",
     "text": [
      "The result for string f with 5 number of copies is fffff\n"
     ]
    }
   ],
   "source": [
    "copies = int(input(\"How many copies you want: \"))\n",
    "string_to_take = str(input(\"Enter the string 2: \"))\n",
    "result = ''\n",
    "\n",
    "if len(string_to_take) < 2:\n",
    "    result = string_to_take * copies\n",
    "else:\n",
    "    result = string_to_take[:2] * copies\n",
    "\n",
    "print(f\"The result for string {string_to_take} with {copies} number of copies is {result}\")"
   ]
  },
  {
   "cell_type": "markdown",
   "id": "2012cebc-4665-4b95-b50c-6c0866462b93",
   "metadata": {},
   "source": [
    "24. Write a Python program to test whether a passed letter is a vowel or not."
   ]
  },
  {
   "cell_type": "code",
   "execution_count": 15,
   "id": "b3d71064-1e67-47f9-a56a-45417fb432ae",
   "metadata": {},
   "outputs": [
    {
     "name": "stdout",
     "output_type": "stream",
     "text": [
      "Letter 'a' is a vowel:  True\n",
      "Letter 'f' is a vowel:  False\n"
     ]
    }
   ],
   "source": [
    "def vowel_or_not(l):\n",
    "    vowel = ['a','e','i','o','u']\n",
    "    if l in vowel:\n",
    "        return True\n",
    "    return False\n",
    "\n",
    "print(\"Letter 'a' is a vowel: \", vowel_or_not('a'))\n",
    "print(\"Letter 'f' is a vowel: \", vowel_or_not('f'))"
   ]
  },
  {
   "cell_type": "markdown",
   "id": "e6554ab3-40cd-4910-991e-c7ce71c96820",
   "metadata": {},
   "source": [
    "25. Write a Python program that checks whether a specified value is contained within a group of values.\n",
    "Test Data :\n",
    "3 -> [1, 5, 8, 3] : True\n",
    "-1 -> [1, 5, 8, 3] : False"
   ]
  },
  {
   "cell_type": "code",
   "execution_count": 20,
   "id": "1aae712d-31ec-4d86-bb86-a4a6b6ae9f4c",
   "metadata": {},
   "outputs": [
    {
     "name": "stdout",
     "output_type": "stream",
     "text": [
      "Value 3 :  True\n",
      "Value -1 :  False\n"
     ]
    }
   ],
   "source": [
    "def value_check(n, l1):\n",
    "    if n in l1:\n",
    "        return True\n",
    "    return False\n",
    "\n",
    "list1 = [1, 5, 8, 3]\n",
    "print(\"Value 3 : \", value_check(3, list1))\n",
    "print(\"Value -1 : \",value_check(-1, list1))"
   ]
  },
  {
   "cell_type": "markdown",
   "id": "74fdf97b-8b28-4c9c-b0a4-7135aaae2854",
   "metadata": {},
   "source": [
    "26. Write a Python program to create a histogram from a given list of integers."
   ]
  },
  {
   "cell_type": "code",
   "execution_count": null,
   "id": "63644930-6234-4e35-b23b-ca8353d6c799",
   "metadata": {},
   "outputs": [],
   "source": [
    "def histogram(items):\n",
    "    output = 0\n",
    "    for i in items:\n",
    "        output +="
   ]
  },
  {
   "cell_type": "markdown",
   "id": "1918ced7-71d5-41b2-ac58-1cd45e267bad",
   "metadata": {},
   "source": [
    "27. Write a Python program that concatenates all elements in a list into a string and returns it."
   ]
  },
  {
   "cell_type": "code",
   "execution_count": 21,
   "id": "00447095-e0f3-4c8b-b28e-b2897ae8be9c",
   "metadata": {},
   "outputs": [
    {
     "name": "stdout",
     "output_type": "stream",
     "text": [
      " abc13\n"
     ]
    }
   ],
   "source": [
    "def string_concat(l1):\n",
    "    concat_string = ''\n",
    "    for i in l1:\n",
    "        concat_string += str(i)\n",
    "    return concat_string\n",
    "\n",
    "l1 = ['a','b','c',1,3]\n",
    "print(\"\", string_concat(l1))"
   ]
  },
  {
   "cell_type": "markdown",
   "id": "577466e7-77a2-4df2-98d9-0e3dd6e758fd",
   "metadata": {},
   "source": [
    "28. Write a Python program to print all even numbers from a given list of numbers in the same order and stop printing any after 237 in the sequence.\n",
    "Sample numbers list :\n",
    "\n",
    "numbers = [    \n",
    "    386, 462, 47, 418, 907, 344, 236, 375, 823, 566, 597, 978, 328, 615, 953, 345, \n",
    "    399, 162, 758, 219, 918, 237, 412, 566, 826, 248, 866, 950, 626, 949, 687, 217, \n",
    "    815, 67, 104, 58, 512, 24, 892, 894, 767, 553, 81, 379, 843, 831, 445, 742, 717, \n",
    "    958,743, 527\n",
    "    ]"
   ]
  },
  {
   "cell_type": "code",
   "execution_count": 23,
   "id": "961bc42b-622c-4a5f-ab11-e77a217cfcbe",
   "metadata": {},
   "outputs": [
    {
     "name": "stdout",
     "output_type": "stream",
     "text": [
      "386\n",
      "462\n",
      "418\n",
      "344\n",
      "236\n",
      "566\n",
      "978\n",
      "328\n",
      "162\n",
      "758\n",
      "918\n",
      "All even before 237 :  None\n"
     ]
    }
   ],
   "source": [
    "numbers = [    \n",
    "    386, 462, 47, 418, 907, 344, 236, 375, 823, 566, 597, 978, 328, 615, 953, 345, \n",
    "    399, 162, 758, 219, 918, 237, 412, 566, 826, 248, 866, 950, 626, 949, 687, 217, \n",
    "    815, 67, 104, 58, 512, 24, 892, 894, 767, 553, 81, 379, 843, 831, 445, 742, 717, \n",
    "    958,743, 527\n",
    "    ]\n",
    "\n",
    "def print_even(l1):\n",
    "    for num in l1:\n",
    "        if num == 237:\n",
    "            break\n",
    "        if num % 2 == 0:\n",
    "            print(num)\n",
    "\n",
    "print(\"All even before 237 : \", print_even(numbers))"
   ]
  },
  {
   "cell_type": "markdown",
   "id": "b8ae22ac-7fc2-4d44-9f90-f82b3f4f019a",
   "metadata": {},
   "source": [
    "29. Write a Python program that prints out all colors from color_list_1 that are not present in color_list_2.\n",
    "Test Data :\n",
    "color_list_1 = set([\"White\", \"Black\", \"Red\"])\n",
    "color_list_2 = set([\"Red\", \"Green\"])\n",
    "Expected Output :\n",
    "{'Black', 'White'}"
   ]
  },
  {
   "cell_type": "code",
   "execution_count": 24,
   "id": "34809ab6-2fde-48b3-b655-47c161938424",
   "metadata": {},
   "outputs": [
    {
     "name": "stdout",
     "output_type": "stream",
     "text": [
      "['White', 'Black']\n"
     ]
    }
   ],
   "source": [
    "color_list_1 = set([\"White\", \"Black\", \"Red\"])\n",
    "color_list_2 = set([\"Red\", \"Green\"])\n",
    "def color_diff(l1, l2):\n",
    "    new_list = []\n",
    "    for i in l1:\n",
    "        if i not in l2:\n",
    "            new_list.append(i)\n",
    "    return new_list\n",
    "print(color_diff(color_list_1, color_list_2))"
   ]
  },
  {
   "cell_type": "markdown",
   "id": "508ee06b-35ed-482e-8f55-4b32071af2c9",
   "metadata": {},
   "source": [
    "30. Write a Python program that will accept the base and height of a triangle and compute its area."
   ]
  },
  {
   "cell_type": "code",
   "execution_count": 26,
   "id": "15bcd576-f601-4d83-bc74-2de250ac8228",
   "metadata": {},
   "outputs": [
    {
     "name": "stdout",
     "output_type": "stream",
     "text": [
      "Triangle area:  28.0\n"
     ]
    }
   ],
   "source": [
    "def area_triangle(base, height):\n",
    "    return (1/2) * base * height\n",
    "print(\"Triangle area: \",area_triangle(7,8))"
   ]
  },
  {
   "cell_type": "markdown",
   "id": "4d4464bc-f588-4984-a3cb-4ecdd66272cf",
   "metadata": {},
   "source": [
    "31. Write a Python program that computes the greatest common divisor (GCD) of two positive integers."
   ]
  },
  {
   "cell_type": "code",
   "execution_count": 29,
   "id": "de3f2f66-34f7-404c-99c1-e3d8b039ca1f",
   "metadata": {},
   "outputs": [
    {
     "name": "stdin",
     "output_type": "stream",
     "text": [
      "Enter first positive integer:  6\n",
      "Enter second positive integer:  8\n"
     ]
    },
    {
     "name": "stdout",
     "output_type": "stream",
     "text": [
      "The GDC of 6 and 8 is 2\n"
     ]
    }
   ],
   "source": [
    "def gcd(a,b):\n",
    "    while b:\n",
    "        a, b = b, a % b\n",
    "    return a\n",
    "\n",
    "num1 = int(input(\"Enter first positive integer: \"))\n",
    "num2 = int(input(\"Enter second positive integer: \"))\n",
    "print(f\"The GDC of {num1} and {num2} is {gcd(num1, num2)}\")"
   ]
  },
  {
   "cell_type": "markdown",
   "id": "fb3fc4a8-b4fb-48d3-a6da-c548ca5dda7a",
   "metadata": {},
   "source": [
    "32. Write a Python program to find the least common multiple (LCM) of two positive integers."
   ]
  },
  {
   "cell_type": "code",
   "execution_count": 30,
   "id": "89171839-dea1-42c2-8b22-bffcc124a6fd",
   "metadata": {},
   "outputs": [
    {
     "name": "stdin",
     "output_type": "stream",
     "text": [
      "Enter first positive integer:  4\n",
      "Enter second positive integer:  7\n"
     ]
    },
    {
     "name": "stdout",
     "output_type": "stream",
     "text": [
      "The LCM of 4 and 7 is 28\n"
     ]
    }
   ],
   "source": [
    "def lcm(a, b):\n",
    "    return abs(a * b) // gcd(a, b)\n",
    "\n",
    "num1 = int(input(\"Enter first positive integer: \"))\n",
    "num2 = int(input(\"Enter second positive integer: \"))\n",
    "print(f\"The LCM of {num1} and {num2} is {lcm(num1, num2)}\")"
   ]
  },
  {
   "cell_type": "markdown",
   "id": "03941bbd-68e7-4fb0-933b-10b808ac25f5",
   "metadata": {},
   "source": [
    "33. Write a Python program to sum three given integers. However, if two values are equal, the sum will be zero."
   ]
  },
  {
   "cell_type": "code",
   "execution_count": 33,
   "id": "97104003-d05e-4f69-8375-fad7f884194e",
   "metadata": {},
   "outputs": [
    {
     "name": "stdout",
     "output_type": "stream",
     "text": [
      "Sum:  14\n",
      "Sum:  0\n"
     ]
    }
   ],
   "source": [
    "def sum_three_int(n1, n2, n3):\n",
    "    sum = 0\n",
    "    if n1 == n2 == n3:\n",
    "        sum = 0\n",
    "    else:\n",
    "        sum = n1 + n2 + n3\n",
    "    return sum\n",
    "print(\"Sum: \", sum_three_int(3, 5, 6))\n",
    "print(\"Sum: \", sum_three_int(6, 6, 6))"
   ]
  },
  {
   "cell_type": "markdown",
   "id": "f7682fff-1665-4ae5-b1bf-c4c3da104909",
   "metadata": {},
   "source": [
    "34. Write a Python program to sum two given integers. However, if the sum is between 15 and 20 it will return 20."
   ]
  },
  {
   "cell_type": "code",
   "execution_count": 34,
   "id": "0dcc5c73-f1f9-4aca-8fa5-e78f960b940c",
   "metadata": {},
   "outputs": [
    {
     "name": "stdout",
     "output_type": "stream",
     "text": [
      "Sum:  9\n",
      "Sum:  20\n"
     ]
    }
   ],
   "source": [
    "def sum_three_int_(n1, n2, n3):\n",
    "    sum = n1 + n2 + n3\n",
    "    if 15 < sum < 20 :\n",
    "        return 20\n",
    "    return sum\n",
    "\n",
    "print(\"Sum: \", sum_three_int_(2,3,4))\n",
    "print(\"Sum: \", sum_three_int_(10,4,3))"
   ]
  },
  {
   "cell_type": "markdown",
   "id": "6748fc26-9dce-4f0e-8264-44bcfd5dbd8a",
   "metadata": {},
   "source": [
    "35. Write a Python program that returns true if the two given integer values are equal or their sum or difference is 5."
   ]
  },
  {
   "cell_type": "code",
   "execution_count": 35,
   "id": "04c9d7d7-3935-4d7e-90c7-9cb34b156696",
   "metadata": {},
   "outputs": [
    {
     "name": "stdout",
     "output_type": "stream",
     "text": [
      "True\n",
      "True\n",
      "True\n",
      "False\n"
     ]
    }
   ],
   "source": [
    "def integer_values(n1, n2):\n",
    "    if n1 == n2 or (n1 + n2 == 5) or (abs(n1 - n2) == 5):\n",
    "        return True\n",
    "    return False\n",
    "\n",
    "print(integer_values(3,3))\n",
    "print(integer_values(2, 3))\n",
    "print(integer_values(10,5))\n",
    "print(integer_values(2,6))"
   ]
  },
  {
   "cell_type": "markdown",
   "id": "ced4a6b9-a9c4-4b18-81bb-3a39b0bef921",
   "metadata": {},
   "source": [
    "36. Write a Python program to add two objects if both objects are integers."
   ]
  },
  {
   "cell_type": "code",
   "execution_count": 37,
   "id": "c9a547e8-59b0-4308-bd82-f0ee3e9700c0",
   "metadata": {},
   "outputs": [
    {
     "name": "stdout",
     "output_type": "stream",
     "text": [
      "Sum:  7\n",
      "Sum:  Object not int\n"
     ]
    }
   ],
   "source": [
    "def add_two_obj(o1, o2):\n",
    "    if isinstance(o1, int) and isinstance(o2, int):\n",
    "        return o1 + o2\n",
    "    return \"Object not int\"\n",
    "\n",
    "print(\"Sum: \", add_two_obj(3,4))\n",
    "print(\"Sum: \", add_two_obj('d','r'))"
   ]
  },
  {
   "cell_type": "markdown",
   "id": "649aa8ca-1ca1-4a4d-80dd-42334a0ce9a8",
   "metadata": {},
   "source": [
    "37. Write a Python program that displays your name, age, and address on three different lines."
   ]
  },
  {
   "cell_type": "code",
   "execution_count": 38,
   "id": "71ab0d55-fdaf-45e4-9298-7168601e0052",
   "metadata": {},
   "outputs": [
    {
     "name": "stdout",
     "output_type": "stream",
     "text": [
      "Name is bugu \n",
      "Age is 34 \n",
      "Address is lunu street\n"
     ]
    }
   ],
   "source": [
    "def diff_lines(name, age, address):\n",
    "    print(f\"Name is {name} \\nAge is {age} \\nAddress is {address}\")\n",
    "diff_lines('bugu', 34, 'lunu street')"
   ]
  },
  {
   "cell_type": "markdown",
   "id": "b74dd006-1e3f-471b-9b9d-abe4dfa09dc1",
   "metadata": {},
   "source": [
    "38. Write a Python program to solve (x + y) * (x + y).\n",
    "Test Data : x = 4, y = 3\n",
    "Expected Output : (4 + 3) ^ 2) = 49"
   ]
  },
  {
   "cell_type": "code",
   "execution_count": 39,
   "id": "749ffcd8-7f00-483d-9317-d216c6eb4969",
   "metadata": {},
   "outputs": [
    {
     "name": "stdout",
     "output_type": "stream",
     "text": [
      "Solve :  49\n"
     ]
    }
   ],
   "source": [
    "def solve(x, y):\n",
    "    return (x + y) * (x + y)\n",
    "\n",
    "print(\"Solve : \", solve(4,3))"
   ]
  },
  {
   "cell_type": "markdown",
   "id": "4073d4c0-7167-479d-a120-acc51a0a8896",
   "metadata": {},
   "source": [
    "39. Write a Python program to compute the future value of a specified principal amount, rate of interest, and number of years.\n",
    "Test Data : amt = 10000, int = 3.5, years = 7\n",
    "Expected Output : 12722.79"
   ]
  },
  {
   "cell_type": "code",
   "execution_count": 40,
   "id": "88a4b3b4-4671-4045-a248-5d74a49a6882",
   "metadata": {},
   "outputs": [
    {
     "name": "stdout",
     "output_type": "stream",
     "text": [
      "12722.792627665729\n"
     ]
    }
   ],
   "source": [
    "def future_val(principal_amount, roi, years):\n",
    "    return principal_amount * (1 + roi / 100) ** years\n",
    "print(future_val(10000, 3.5, 7))"
   ]
  },
  {
   "cell_type": "markdown",
   "id": "457d1a45-d7d0-4f3f-9193-e5641a59b46c",
   "metadata": {},
   "source": [
    "40. Write a Python program to calculate the distance between the points (x1, y1) and (x2, y2)."
   ]
  },
  {
   "cell_type": "code",
   "execution_count": 43,
   "id": "e7388449-a638-4047-9f44-051f7b5e95d8",
   "metadata": {},
   "outputs": [
    {
     "name": "stdin",
     "output_type": "stream",
     "text": [
      "Enter the coordinates of the first point (x1 y1):  5.0 9.0\n",
      "Enter the coordinates of the second point (x2 y2):  3.0 6.0\n"
     ]
    },
    {
     "name": "stdout",
     "output_type": "stream",
     "text": [
      "The distance between the points (5.0, 9.0) and (3.0, 6.0) is: 3.61\n"
     ]
    }
   ],
   "source": [
    "import math\n",
    "def distance(x1, y1, x2, y2):\n",
    "    return math.sqrt((x2 - x1) ** 2 + (y2 - y1) ** 2)\n",
    "\n",
    "x1, y1 = map(float, input(\"Enter the coordinates of the first point (x1 y1): \").split())\n",
    "x2, y2 = map(float, input(\"Enter the coordinates of the second point (x2 y2): \").split())\n",
    "\n",
    "distance = distance(x1, y1, x2, y2)\n",
    "print(f\"The distance between the points ({x1}, {y1}) and ({x2}, {y2}) is: {distance:.2f}\")"
   ]
  },
  {
   "cell_type": "markdown",
   "id": "a35f8653-76d4-44ec-946c-a27db6dcde48",
   "metadata": {},
   "source": [
    "41. Write a Python program to check whether a file exists."
   ]
  },
  {
   "cell_type": "code",
   "execution_count": 1,
   "id": "1f27fc37-aaf8-4c58-9d61-1039064b2f2c",
   "metadata": {},
   "outputs": [
    {
     "name": "stdout",
     "output_type": "stream",
     "text": [
      "True\n"
     ]
    }
   ],
   "source": [
    "import os.path\n",
    "print (os.path.isfile(r'C:\\Users\\0132499s\\Documents\\Documents\\Transcript\\Speaker Titles.txt'))"
   ]
  },
  {
   "cell_type": "markdown",
   "id": "236d030b-fadd-4ac7-b403-eb1f1497b4ee",
   "metadata": {},
   "source": [
    "42. Write a Python program to determine if a Python shell is executing in 32bit or 64bit mode on OS."
   ]
  },
  {
   "cell_type": "code",
   "execution_count": 3,
   "id": "6ec58239-51e5-4b6e-858f-f2fadab0f498",
   "metadata": {},
   "outputs": [
    {
     "name": "stdout",
     "output_type": "stream",
     "text": [
      "64\n"
     ]
    }
   ],
   "source": [
    "import struct\n",
    "print(struct.calcsize(\"P\") * 8)"
   ]
  },
  {
   "cell_type": "markdown",
   "id": "a40302af-4732-4ea2-8587-329c2abec740",
   "metadata": {},
   "source": [
    "43. Write a Python program to get OS name, platform and release information."
   ]
  },
  {
   "cell_type": "code",
   "execution_count": 4,
   "id": "ef076448-98fe-4ef1-9c73-46cb7943be2b",
   "metadata": {},
   "outputs": [
    {
     "name": "stdout",
     "output_type": "stream",
     "text": [
      "Operating System:  nt\n",
      "\n",
      "Platform:  Windows\n",
      "Release Info:  10\n"
     ]
    }
   ],
   "source": [
    "import platform\n",
    "import os\n",
    "print(\"Operating System: \", os.name)\n",
    "print(\"\\nPlatform: \", platform.system())\n",
    "print(\"Release Info: \",platform.release())"
   ]
  },
  {
   "cell_type": "markdown",
   "id": "3275501d-427d-43d7-87e7-360a4a4340a7",
   "metadata": {},
   "source": [
    "44. Write a Python program to locate Python site packages."
   ]
  },
  {
   "cell_type": "code",
   "execution_count": 5,
   "id": "40eb3631-5aee-465f-b541-df17472bb576",
   "metadata": {},
   "outputs": [
    {
     "name": "stdout",
     "output_type": "stream",
     "text": [
      "['C:\\\\Users\\\\0132499s\\\\AppData\\\\Local\\\\Programs\\\\Python\\\\Python312', 'C:\\\\Users\\\\0132499s\\\\AppData\\\\Local\\\\Programs\\\\Python\\\\Python312\\\\Lib\\\\site-packages']\n"
     ]
    }
   ],
   "source": [
    "import site\n",
    "print(site.getsitepackages())"
   ]
  },
  {
   "cell_type": "markdown",
   "id": "6fe8501a-772f-4567-8402-e9e5034af67e",
   "metadata": {},
   "source": [
    "47. Write a Python program to find out the number of CPUs used."
   ]
  },
  {
   "cell_type": "code",
   "execution_count": 9,
   "id": "4c3a69d6-2a16-45b2-a1a3-2b9344f3a282",
   "metadata": {},
   "outputs": [
    {
     "name": "stdout",
     "output_type": "stream",
     "text": [
      "14\n"
     ]
    }
   ],
   "source": [
    "import multiprocessing\n",
    "cpu_count = multiprocessing.cpu_count()\n",
    "print(cpu_count)"
   ]
  },
  {
   "cell_type": "markdown",
   "id": "419d8773-820c-4c5d-952b-dd44e9cdcaa8",
   "metadata": {},
   "source": [
    "48. Write a Python program to parse a string to float or integer."
   ]
  },
  {
   "cell_type": "code",
   "execution_count": 11,
   "id": "1e8f05c1-928a-4808-93f4-365327177172",
   "metadata": {},
   "outputs": [
    {
     "name": "stdout",
     "output_type": "stream",
     "text": [
      "345.231\n",
      "345\n"
     ]
    }
   ],
   "source": [
    "n = '345.231'\n",
    "print(float(n))\n",
    "print(int(float(n)))"
   ]
  },
  {
   "cell_type": "markdown",
   "id": "f4284e25-e439-4c49-b9ab-7895dddc5e5f",
   "metadata": {},
   "source": [
    "49. Write a Python program to list all files in a directory."
   ]
  },
  {
   "cell_type": "code",
   "execution_count": 14,
   "id": "88893258-a8ce-4604-ad65-4ae845acacd7",
   "metadata": {},
   "outputs": [
    {
     "name": "stdout",
     "output_type": "stream",
     "text": [
      "['Joint Committee on European Union Affairs debate - Thursday, 11 Jun 2015.pdf', 'Joint Committee on European Union Affairs debate - Thursday, 15 Jul 2021.pdf', 'Joint Committee on European Union Affairs debate - Thursday, 26 Nov 2015.pdf', 'Joint Committee on European Union Affairs debate - Thursday, 9 May 2019.pdf', 'Joint Committee on European Union Affairs debate - Tuesday, 24 Sep 2019.pdf', 'Joint Committee on European Union Affairs debate - Tuesday, 27 Apr 2021.pdf', 'Joint Committee on European Union Affairs debate - Wednesday, 23 Nov 2022.pdf', 'Joint Committee on European Union Affairs debate - Wednesday, 30 Jun 2021.pdf', 'Joint Committee on European Union Affairs debate - Wednesday, 4 Oct 2017.pdf', 'Joint Committee on European Union Affairs debate - Wednesday, 6 Oct 2021.pdf']\n"
     ]
    }
   ],
   "source": [
    "from os import listdir\n",
    "from os.path import isfile, join\n",
    "\n",
    "files_list = [f for f in listdir(r'C:\\Users\\0132499s\\Documents\\Documents\\Transcript\\EU Affairs') if isfile(join(r'C:\\Users\\0132499s\\Documents\\Documents\\Transcript\\EU Affairs', f))]\n",
    "print(files_list)"
   ]
  },
  {
   "cell_type": "markdown",
   "id": "046edc9b-156e-48c1-b7d2-e88125ea91cb",
   "metadata": {},
   "source": [
    "50. Write a Python program to print without a newline or space."
   ]
  },
  {
   "cell_type": "code",
   "execution_count": 17,
   "id": "7bd5273f-0246-4221-aea0-8711b9a2ac2a",
   "metadata": {},
   "outputs": [
    {
     "name": "stdout",
     "output_type": "stream",
     "text": [
      "*********\n",
      "\n"
     ]
    }
   ],
   "source": [
    "for i in range(0, 9):\n",
    "    print('*', end = \"\")\n",
    "print('\\n')"
   ]
  },
  {
   "cell_type": "markdown",
   "id": "34bad37d-4eb6-4c4e-b749-900b8cd1b69d",
   "metadata": {},
   "source": [
    "51. Write a Python program to determine the profiling of Python programs.\n",
    "Note: A profile is a set of statistics that describes how often and for how long various parts of the program executed. These statistics can be formatted into reports via the pstats module."
   ]
  },
  {
   "cell_type": "code",
   "execution_count": 18,
   "id": "faa086ed-fe9e-49d4-8f47-4258e4fe5fd4",
   "metadata": {},
   "outputs": [
    {
     "name": "stdout",
     "output_type": "stream",
     "text": [
      "3\n",
      "         36 function calls in 0.000 seconds\n",
      "\n",
      "   Ordered by: standard name\n",
      "\n",
      "   ncalls  tottime  percall  cumtime  percall filename:lineno(function)\n",
      "        1    0.000    0.000    0.000    0.000 3867616217.py:2(sum)\n",
      "        1    0.000    0.000    0.000    0.000 <string>:1(<module>)\n",
      "        1    0.000    0.000    0.000    0.000 iostream.py:138(_event_pipe)\n",
      "        1    0.000    0.000    0.000    0.000 iostream.py:259(schedule)\n",
      "        2    0.000    0.000    0.000    0.000 iostream.py:505(parent_header)\n",
      "        2    0.000    0.000    0.000    0.000 iostream.py:550(_is_master_process)\n",
      "        2    0.000    0.000    0.000    0.000 iostream.py:577(_schedule_flush)\n",
      "        2    0.000    0.000    0.000    0.000 iostream.py:655(write)\n",
      "        1    0.000    0.000    0.000    0.000 socket.py:626(send)\n",
      "        1    0.000    0.000    0.000    0.000 threading.py:1155(_wait_for_tstate_lock)\n",
      "        1    0.000    0.000    0.000    0.000 threading.py:1222(is_alive)\n",
      "        1    0.000    0.000    0.000    0.000 threading.py:601(is_set)\n",
      "        1    0.000    0.000    0.000    0.000 tz.py:74(utcoffset)\n",
      "        1    0.000    0.000    0.000    0.000 {built-in method builtins.exec}\n",
      "        2    0.000    0.000    0.000    0.000 {built-in method builtins.isinstance}\n",
      "        2    0.000    0.000    0.000    0.000 {built-in method builtins.len}\n",
      "        1    0.000    0.000    0.000    0.000 {built-in method builtins.print}\n",
      "        2    0.000    0.000    0.000    0.000 {built-in method nt.getpid}\n",
      "        2    0.000    0.000    0.000    0.000 {method '__exit__' of '_thread.RLock' objects}\n",
      "        1    0.000    0.000    0.000    0.000 {method 'acquire' of '_thread.lock' objects}\n",
      "        1    0.000    0.000    0.000    0.000 {method 'append' of 'collections.deque' objects}\n",
      "        1    0.000    0.000    0.000    0.000 {method 'disable' of '_lsprof.Profiler' objects}\n",
      "        2    0.000    0.000    0.000    0.000 {method 'get' of '_contextvars.ContextVar' objects}\n",
      "        2    0.000    0.000    0.000    0.000 {method 'items' of 'dict' objects}\n",
      "        2    0.000    0.000    0.000    0.000 {method 'write' of '_io.StringIO' objects}\n",
      "\n",
      "\n"
     ]
    }
   ],
   "source": [
    "import cProfile\n",
    "def sum():\n",
    "    print(1+2)\n",
    "cProfile.run('sum()')"
   ]
  },
  {
   "cell_type": "markdown",
   "id": "43309bef-9e5a-4ada-930c-62180e9cb721",
   "metadata": {},
   "source": [
    "52. Write a Python program to print to STDERR."
   ]
  },
  {
   "cell_type": "code",
   "execution_count": 20,
   "id": "252e2900-8f90-4a6e-8626-d894a2decbea",
   "metadata": {},
   "outputs": [
    {
     "name": "stderr",
     "output_type": "stream",
     "text": [
      "abc--efg--xyz\n"
     ]
    }
   ],
   "source": [
    "from __future__ import print_function\n",
    "import sys\n",
    "\n",
    "def eprint(*args, **kwargs):\n",
    "    print(*args, file = sys.stderr, **kwargs)\n",
    "eprint(\"abc\", \"efg\", \"xyz\", sep=\"--\")"
   ]
  },
  {
   "cell_type": "markdown",
   "id": "328a3f85-b2ad-493f-b568-1085eec7d730",
   "metadata": {},
   "source": [
    "53. Write a Python program to access environment variables."
   ]
  },
  {
   "cell_type": "code",
   "execution_count": 22,
   "id": "fb4f7423-88f4-43cb-afcb-5e8f447c69c0",
   "metadata": {},
   "outputs": [
    {
     "name": "stdout",
     "output_type": "stream",
     "text": [
      "ENVIRONMENT\n",
      "environ({'ALLUSERSPROFILE': 'C:\\\\ProgramData', 'APPDATA': 'C:\\\\Users\\\\0132499s\\\\AppData\\\\Roaming', 'CHASSIS': '10', 'COMMONPROGRAMFILES': 'C:\\\\Program Files\\\\Common Files', 'COMMONPROGRAMFILES(X86)': 'C:\\\\Program Files (x86)\\\\Common Files', 'COMMONPROGRAMW6432': 'C:\\\\Program Files\\\\Common Files', 'COMPUTERNAME': 'GAL-4J06M34', 'COMSPEC': 'C:\\\\Windows\\\\system32\\\\cmd.exe', 'DEFLOGDIR': 'C:\\\\ProgramData\\\\McAfee\\\\Endpoint Security\\\\Logs', 'DRIVERDATA': 'C:\\\\Windows\\\\System32\\\\Drivers\\\\DriverData', 'FPS_BROWSER_APP_PROFILE_STRING': 'Internet Explorer', 'FPS_BROWSER_USER_PROFILE_STRING': 'Default', 'HOMEDRIVE': 'C:', 'HOMEPATH': '\\\\Users\\\\0132499s', 'IPY_INTERRUPT_EVENT': '3332', 'JPY_INTERRUPT_EVENT': '3332', 'JPY_PARENT_PID': '3736', 'JPY_SESSION_NAME': 'C:\\\\Jupyter Notebook\\\\Personal Practice.ipynb', 'LOCALAPPDATA': 'C:\\\\Users\\\\0132499s\\\\AppData\\\\Local', 'LOGONSERVER': '\\\\\\\\UDSDC19', 'MODEL': '5550', 'NUMBER_OF_PROCESSORS': '14', 'ONEDRIVE': 'C:\\\\Users\\\\0132499s\\\\OneDrive', 'OS': 'Windows_NT', 'PATH': 'C:\\\\Program Files (x86)\\\\Common Files\\\\Oracle\\\\Java\\\\javapath;C:\\\\Windows\\\\system32;C:\\\\Windows;C:\\\\Windows\\\\System32\\\\Wbem;C:\\\\Windows\\\\System32\\\\WindowsPowerShell\\\\v1.0\\\\;C:\\\\Windows\\\\System32\\\\OpenSSH\\\\;C:\\\\Program Files (x86)\\\\Novell\\\\ZENworks\\\\bin;C:\\\\Program Files\\\\Microsoft SQL Server\\\\150\\\\Tools\\\\Binn\\\\;C:\\\\Program Files\\\\Microsoft SQL Server\\\\Client SDK\\\\ODBC\\\\170\\\\Tools\\\\Binn\\\\;C:\\\\Program Files\\\\MongoDB\\\\Server\\\\8.0\\\\bin;C:\\\\Users\\\\0132499s\\\\AppData\\\\Local\\\\Programs\\\\Python\\\\Python312\\\\Scripts\\\\;C:\\\\Users\\\\0132499s\\\\AppData\\\\Local\\\\Programs\\\\Python\\\\Python312\\\\;C:\\\\Program Files\\\\MySQL\\\\MySQL Shell 8.0\\\\bin\\\\;C:\\\\Users\\\\0132499s\\\\AppData\\\\Local\\\\Microsoft\\\\WindowsApps;;C:\\\\Program Files\\\\JetBrains\\\\PyCharm 2024.2.1\\\\bin;;C:\\\\Users\\\\0132499s\\\\AppData\\\\Local\\\\Programs\\\\Microsoft VS Code\\\\bin', 'PATHEXT': '.COM;.EXE;.BAT;.CMD;.VBS;.VBE;.JS;.JSE;.WSF;.WSH;.MSC', 'PROCESSOR_ARCHITECTURE': 'AMD64', 'PROCESSOR_IDENTIFIER': 'Intel64 Family 6 Model 170 Stepping 4, GenuineIntel', 'PROCESSOR_LEVEL': '6', 'PROCESSOR_REVISION': 'aa04', 'PROGRAMDATA': 'C:\\\\ProgramData', 'PROGRAMFILES': 'C:\\\\Program Files', 'PROGRAMFILES(X86)': 'C:\\\\Program Files (x86)', 'PROGRAMW6432': 'C:\\\\Program Files', 'PROMPT': '$P$G', 'PSMODULEPATH': 'C:\\\\Program Files\\\\WindowsPowerShell\\\\Modules;C:\\\\Windows\\\\system32\\\\WindowsPowerShell\\\\v1.0\\\\Modules', 'PUBLIC': 'C:\\\\Users\\\\Public', 'PYCHARM': 'C:\\\\Program Files\\\\JetBrains\\\\PyCharm 2024.2.1\\\\bin;', 'SERIAL': '4J06M34', 'SESSIONNAME': 'Console', 'SYSTEMDRIVE': 'C:', 'SYSTEMROOT': 'C:\\\\Windows', 'TEMP': 'C:\\\\Users\\\\0132499s\\\\AppData\\\\Local\\\\Temp', 'TMP': 'C:\\\\Users\\\\0132499s\\\\AppData\\\\Local\\\\Temp', 'TYPE': 'LATITUDE', 'USERDNSDOMAIN': 'UDS.NUIGALWAY.IE', 'USERDOMAIN': 'UDS', 'USERDOMAIN_ROAMINGPROFILE': 'UDS', 'USERNAME': '0132499s', 'USERPROFILE': 'C:\\\\Users\\\\0132499s', 'WINDIR': 'C:\\\\Windows', 'ZENWORKS_HOME': 'C:\\\\Program Files (x86)\\\\Novell\\\\ZENworks', 'ZES_ENABLE_SYSMAN': '1', 'PYDEVD_USE_FRAME_EVAL': 'NO', 'TERM': 'xterm-color', 'CLICOLOR': '1', 'FORCE_COLOR': '1', 'CLICOLOR_FORCE': '1', 'PAGER': 'cat', 'GIT_PAGER': 'cat', 'MPLBACKEND': 'module://matplotlib_inline.backend_inline'})\n",
      "ENVIRONMENT HOME\n"
     ]
    },
    {
     "ename": "KeyError",
     "evalue": "'HOME'",
     "output_type": "error",
     "traceback": [
      "\u001b[1;31m---------------------------------------------------------------------------\u001b[0m",
      "\u001b[1;31mKeyError\u001b[0m                                  Traceback (most recent call last)",
      "Cell \u001b[1;32mIn[22], line 5\u001b[0m\n\u001b[0;32m      3\u001b[0m \u001b[38;5;28mprint\u001b[39m(os\u001b[38;5;241m.\u001b[39menviron)\n\u001b[0;32m      4\u001b[0m \u001b[38;5;28mprint\u001b[39m(\u001b[38;5;124m'\u001b[39m\u001b[38;5;124mENVIRONMENT HOME\u001b[39m\u001b[38;5;124m'\u001b[39m)\n\u001b[1;32m----> 5\u001b[0m \u001b[38;5;28mprint\u001b[39m(\u001b[43mos\u001b[49m\u001b[38;5;241;43m.\u001b[39;49m\u001b[43menviron\u001b[49m\u001b[43m[\u001b[49m\u001b[38;5;124;43m'\u001b[39;49m\u001b[38;5;124;43mHOME\u001b[39;49m\u001b[38;5;124;43m'\u001b[39;49m\u001b[43m]\u001b[49m)\n\u001b[0;32m      6\u001b[0m \u001b[38;5;28mprint\u001b[39m(\u001b[38;5;124m'\u001b[39m\u001b[38;5;124mENVIRONMENT PATH\u001b[39m\u001b[38;5;124m'\u001b[39m)\n\u001b[0;32m      7\u001b[0m \u001b[38;5;28mprint\u001b[39m(os\u001b[38;5;241m.\u001b[39menviron[\u001b[38;5;124m'\u001b[39m\u001b[38;5;124mPATH\u001b[39m\u001b[38;5;124m'\u001b[39m])\n",
      "File \u001b[1;32m<frozen os>:714\u001b[0m, in \u001b[0;36m__getitem__\u001b[1;34m(self, key)\u001b[0m\n",
      "\u001b[1;31mKeyError\u001b[0m: 'HOME'"
     ]
    }
   ],
   "source": [
    "import os\n",
    "print('ENVIRONMENT')\n",
    "print(os.environ)\n",
    "print('ENVIRONMENT HOME')\n",
    "print(os.environ['HOME'])\n",
    "print('ENVIRONMENT PATH')\n",
    "print(os.environ['PATH'])"
   ]
  },
  {
   "cell_type": "markdown",
   "id": "5db4d641-aee2-49b7-91d9-70ad17947b56",
   "metadata": {},
   "source": [
    "54. Write a Python program to get the current username."
   ]
  },
  {
   "cell_type": "code",
   "execution_count": 23,
   "id": "e67e2e6b-a588-4a16-9fed-c4471cdda5e2",
   "metadata": {},
   "outputs": [
    {
     "name": "stdout",
     "output_type": "stream",
     "text": [
      "0132499s\n"
     ]
    }
   ],
   "source": [
    "import getpass\n",
    "print(getpass.getuser())"
   ]
  },
  {
   "cell_type": "markdown",
   "id": "9ae53b4f-8045-4f98-982a-9845087d7249",
   "metadata": {},
   "source": [
    "55. Write a Python program to find local IP addresses using Python's stdlib."
   ]
  },
  {
   "cell_type": "code",
   "execution_count": 24,
   "id": "1c9604af-b64d-41f6-b7fb-4d488118fc0f",
   "metadata": {},
   "outputs": [
    {
     "name": "stdout",
     "output_type": "stream",
     "text": [
      "172.20.10.12\n"
     ]
    }
   ],
   "source": [
    "import socket\n",
    "# Step 1: Get the local hostname.\n",
    "local_hostname = socket.gethostname()\n",
    "# Step 2: Get a list of IP addresses associated with the hostname.\n",
    "ip_addresses = socket.gethostbyname_ex(local_hostname)[2]\n",
    "# Step 3: Filter out loopback addresses (IPs starting with \"127.\").\n",
    "filtered_ips = [ip for ip in ip_addresses if not ip.startswith(\"127.\")]\n",
    "# Step 4: Extract the first IP address (if available) from the filtered list.\n",
    "first_ip = filtered_ips[:1]\n",
    "# Step 5: Print the obtained IP address to the console.\n",
    "print(first_ip[0])"
   ]
  },
  {
   "cell_type": "markdown",
   "id": "a04c39ad-17ef-4d2a-8430-0cb5d7589892",
   "metadata": {},
   "source": [
    "58. Write a Python program to sum the first n positive integers."
   ]
  },
  {
   "cell_type": "code",
   "execution_count": 26,
   "id": "e0ee3ade-aba7-4fba-88bc-f82723654cb7",
   "metadata": {},
   "outputs": [
    {
     "name": "stdout",
     "output_type": "stream",
     "text": [
      "Sum of first 5 numbers:  25\n"
     ]
    }
   ],
   "source": [
    "def sum_n(n):\n",
    "    sum = 0\n",
    "    for i in range(n):\n",
    "        sum += n\n",
    "    return sum\n",
    "print(\"Sum of first 5 numbers: \", sum_n(5))"
   ]
  },
  {
   "cell_type": "markdown",
   "id": "50c641c9-33d9-4a7e-adce-d929a8515e7f",
   "metadata": {},
   "source": [
    "59. Write a Python program to convert height (in feet and inches) to centimeters."
   ]
  },
  {
   "cell_type": "code",
   "execution_count": 29,
   "id": "3b4041b3-043d-4e64-8bd7-37a9eaf379d4",
   "metadata": {},
   "outputs": [
    {
     "name": "stdin",
     "output_type": "stream",
     "text": [
      "Height (Inches):  23\n",
      "Height (Feet):  4\n"
     ]
    },
    {
     "name": "stdout",
     "output_type": "stream",
     "text": [
      "Your height is : 71 cm.\n"
     ]
    }
   ],
   "source": [
    "height_inch = int(input(\"Height (Inches): \"))\n",
    "height_feet = int(input(\"Height (Feet): \"))\n",
    "\n",
    "height_inch += height_feet * 12\n",
    "height_cm = round(height_inch * 2.54, 1)\n",
    "print(\"Your height is : %d cm.\" % height_inch)"
   ]
  },
  {
   "cell_type": "markdown",
   "id": "deaf48e7-c7f6-41a5-94d9-2bfdcf692db6",
   "metadata": {},
   "source": [
    "60. Write a Python program to calculate the hypotenuse of a right angled triangle."
   ]
  },
  {
   "cell_type": "code",
   "execution_count": 31,
   "id": "fb812b27-1773-4174-a9c7-3404ee2633d4",
   "metadata": {},
   "outputs": [
    {
     "name": "stdin",
     "output_type": "stream",
     "text": [
      "Enter first shorter side:  3\n",
      "Enter second shorter side:  5\n"
     ]
    },
    {
     "name": "stdout",
     "output_type": "stream",
     "text": [
      "Hypotenuse:  5.830951894845301\n"
     ]
    }
   ],
   "source": [
    "from math import sqrt\n",
    "\n",
    "s1 = int(input(\"Enter first shorter side: \"))\n",
    "s2 = int(input(\"Enter second shorter side: \"))\n",
    "c = sqrt(s1**2 + s2**2)\n",
    "print(\"Hypotenuse: \", c)"
   ]
  },
  {
   "cell_type": "markdown",
   "id": "edbd1e96-06cf-40bc-aeb1-e2e9737b6b7a",
   "metadata": {},
   "source": [
    "61. Write a Python program to convert the distance (in feet) to inches, yards, and miles."
   ]
  },
  {
   "cell_type": "code",
   "execution_count": 1,
   "id": "e7c43f8c-4e66-48ca-9da0-d8868849e2b2",
   "metadata": {},
   "outputs": [
    {
     "name": "stdin",
     "output_type": "stream",
     "text": [
      "Enter the distance in feet:  34\n"
     ]
    },
    {
     "name": "stdout",
     "output_type": "stream",
     "text": [
      "Distance in inches:  408\n",
      "Distance in yards:  11.333333333333334\n",
      "Distance in miles 0.006439393939393939\n"
     ]
    }
   ],
   "source": [
    "d_ft = int(input(\"Enter the distance in feet: \"))\n",
    "d_in = d_ft * 12\n",
    "d_yd = d_ft / 3.0\n",
    "d_mi = d_ft / 5280.0\n",
    "\n",
    "print(\"Distance in inches: \", d_in)\n",
    "print(\"Distance in yards: \", d_yd)\n",
    "print(\"Distance in miles\", d_mi)"
   ]
  },
  {
   "cell_type": "markdown",
   "id": "79bb49fd-6433-465f-9f48-46526255ba0d",
   "metadata": {},
   "source": [
    "62. Write a Python program to convert all units of time into seconds."
   ]
  },
  {
   "cell_type": "code",
   "execution_count": 2,
   "id": "88d61435-3d8f-4748-9363-1265d7924841",
   "metadata": {},
   "outputs": [
    {
     "name": "stdin",
     "output_type": "stream",
     "text": [
      "Days:  4\n",
      "Hours:  6\n",
      "Minutes :  2\n",
      "Seconds :  5\n"
     ]
    },
    {
     "name": "stdout",
     "output_type": "stream",
     "text": [
      "In Seconds:  367325\n"
     ]
    }
   ],
   "source": [
    "days = int(input(\"Days: \")) * 3600 * 24\n",
    "hours = int(input(\"Hours: \")) * 3600\n",
    "minutes = int(input(\"Minutes : \")) * 60\n",
    "seconds = int(input(\"Seconds : \"))\n",
    "\n",
    "print(\"In Seconds: \", (days + hours + minutes + seconds))"
   ]
  },
  {
   "cell_type": "markdown",
   "id": "b0053438-9aa3-4b66-b93f-a3c8b01bb840",
   "metadata": {},
   "source": [
    "63. Write a Python program to get an absolute file path."
   ]
  },
  {
   "cell_type": "code",
   "execution_count": 3,
   "id": "2a69aaaa-2732-45d6-a003-de30df9523ed",
   "metadata": {},
   "outputs": [
    {
     "name": "stdout",
     "output_type": "stream",
     "text": [
      "Absolute Path:  C:\\Users\\0132499s\\Documents\\Documents\\Transcript\\Speaker Titles.txt\n"
     ]
    }
   ],
   "source": [
    "def absolute_filename(path_fname):\n",
    "    import os\n",
    "    return os.path.abspath(path_fname)\n",
    "print(\"Absolute Path: \", absolute_filename(r'C:\\Users\\0132499s\\Documents\\Documents\\Transcript\\Speaker Titles.txt'))"
   ]
  },
  {
   "cell_type": "markdown",
   "id": "653dba9d-58fa-45c2-a786-c57f047b7df4",
   "metadata": {},
   "source": [
    "64. Write a Python program that retrieves the date and time of file creation and modification."
   ]
  },
  {
   "cell_type": "code",
   "execution_count": 4,
   "id": "18efbcd4-8246-45bf-ac55-daf6650825dc",
   "metadata": {},
   "outputs": [
    {
     "name": "stdout",
     "output_type": "stream",
     "text": [
      "Last modified: Mon Oct  7 20:02:04 2024\n",
      "Created: Mon Oct  7 20:02:03 2024\n"
     ]
    }
   ],
   "source": [
    "import os.path, time\n",
    "\n",
    "print(\"Last modified: %s\" % time.ctime(os.path.getmtime(r'C:\\Users\\0132499s\\Documents\\Documents\\Transcript\\Speaker Titles.txt')))\n",
    "print(\"Created: %s\" % time.ctime(os.path.getctime(r'C:\\Users\\0132499s\\Documents\\Documents\\Transcript\\Speaker Titles.txt')))"
   ]
  },
  {
   "cell_type": "markdown",
   "id": "726b17b6-2e6b-480a-845a-4f00c1d1a09f",
   "metadata": {},
   "source": [
    "65. Write a Python program that converts seconds into days, hours, minutes, and seconds."
   ]
  },
  {
   "cell_type": "code",
   "execution_count": 6,
   "id": "d359bb77-ddee-4fb1-a0d1-b9b68323b9f6",
   "metadata": {},
   "outputs": [
    {
     "name": "stdin",
     "output_type": "stream",
     "text": [
      "Time in seconds:  5999\n"
     ]
    },
    {
     "name": "stdout",
     "output_type": "stream",
     "text": [
      "d:h:m:s-> 0:1:39:59\n"
     ]
    }
   ],
   "source": [
    "time = int(input(\"Time in seconds: \"))\n",
    "\n",
    "day = time // (24 * 3600)\n",
    "# Update the time variable to hold the remaining seconds after subtracting full days.\n",
    "time = time % (24 * 3600)\n",
    "\n",
    "hour = time // 3600\n",
    "# Update the time variable to hold the remaining seconds after subtracting full hours.\n",
    "time %= 3600\n",
    "\n",
    "# Calculate the number of full minutes in the remaining time.\n",
    "minutes = time // 60\n",
    "# Update the time variable to hold the remaining seconds after subtracting full minutes.\n",
    "time %= 60\n",
    "\n",
    "# The 'time' variable now represents the remaining seconds, which is the number of seconds.\n",
    "seconds = time\n",
    "\n",
    "# Print the time duration in the format \"d:h:m:s\".\n",
    "print(\"d:h:m:s-> %d:%d:%d:%d\" % (day, hour, minutes, seconds))"
   ]
  },
  {
   "cell_type": "markdown",
   "id": "df514048-97c5-4189-bfaa-60e825f85bdc",
   "metadata": {},
   "source": [
    "66. Write a Python program to calculate the body mass index."
   ]
  },
  {
   "cell_type": "code",
   "execution_count": 9,
   "id": "e4354472-6d17-4d55-b88d-686e58f69059",
   "metadata": {},
   "outputs": [
    {
     "name": "stdin",
     "output_type": "stream",
     "text": [
      "Height in feet:  5.4\n",
      "Weight in kilograms:  65\n"
     ]
    },
    {
     "name": "stdout",
     "output_type": "stream",
     "text": [
      "BMI:  2.23\n"
     ]
    }
   ],
   "source": [
    "height = float(input(\"Height in feet: \"))\n",
    "weight = float(input(\"Weight in kilograms: \"))\n",
    "bmi = weight / (height * height)\n",
    "rounded_bmi = round(bmi, 2)\n",
    "print(\"BMI: \", rounded_bmi)"
   ]
  },
  {
   "cell_type": "markdown",
   "id": "6e068a12-c086-4910-9d93-f1a9853c7955",
   "metadata": {},
   "source": [
    "67. Write a Python program to convert pressure in kilopascals to pounds per square inch, a millimeter of mercury (mmHg) and atmosphere pressure."
   ]
  },
  {
   "cell_type": "code",
   "execution_count": 10,
   "id": "7cdef11b-cb33-471d-9e92-390fbcde9d81",
   "metadata": {},
   "outputs": [
    {
     "name": "stdin",
     "output_type": "stream",
     "text": [
      "Input pressure in kilopascals:  67\n"
     ]
    },
    {
     "name": "stdout",
     "output_type": "stream",
     "text": [
      "The pressure in pounds per square inch: 9.72 psi\n",
      "The pressure in millimeters of mercury: 502.54 mmHg\n",
      "Atmosphere pressure: 0.66 atm.\n"
     ]
    }
   ],
   "source": [
    "kpa = float(input(\"Input pressure in kilopascals: \"))\n",
    "psi = kpa / 6.89475729\n",
    "mmhg = kpa * 760 / 101.325\n",
    "atm = kpa / 101.325\n",
    "print(\"The pressure in pounds per square inch: %.2f psi\"  % (psi))\n",
    "print(\"The pressure in millimeters of mercury: %.2f mmHg\" % (mmhg))\n",
    "print(\"Atmosphere pressure: %.2f atm.\" % (atm))"
   ]
  },
  {
   "cell_type": "markdown",
   "id": "1363e91b-a0c0-4b37-bec0-61b1d99b2e0b",
   "metadata": {},
   "source": [
    "68. Write a Python program to calculate sum of digits of a number."
   ]
  },
  {
   "cell_type": "code",
   "execution_count": 11,
   "id": "a10c668e-8f75-4d36-99e5-7c4a4aadce53",
   "metadata": {},
   "outputs": [
    {
     "name": "stdin",
     "output_type": "stream",
     "text": [
      "Number four digit:  3456\n"
     ]
    },
    {
     "name": "stdout",
     "output_type": "stream",
     "text": [
      "Sum:  18\n"
     ]
    }
   ],
   "source": [
    "number = int(input(\"Number four digit: \"))\n",
    "x = number // 1000 # Digit at thousands place\n",
    "x1 = (number - x * 1000) // 100 # Digit at 100s place\n",
    "x2 = (number - x * 1000 - x1 * 100) // 10 # Digit at 10s place\n",
    "x3 = (number - x * 1000 - x1 * 100 - x2 * 10) # Digit at units place\n",
    "print(\"Sum: \", x+x1+x2+x3)"
   ]
  },
  {
   "cell_type": "markdown",
   "id": "07b6ea9b-8570-4bdc-a2e7-2adc182a1124",
   "metadata": {},
   "source": [
    "69. Write a Python program to sort three integers without using conditional statements and loops."
   ]
  },
  {
   "cell_type": "code",
   "execution_count": 12,
   "id": "3fbb2bf6-e7fc-4367-a061-0527a5c4928b",
   "metadata": {},
   "outputs": [
    {
     "name": "stdin",
     "output_type": "stream",
     "text": [
      "First Number:  3\n",
      "Second Number:  6\n",
      "Third Number:  1\n"
     ]
    },
    {
     "name": "stdout",
     "output_type": "stream",
     "text": [
      "Numbers in sorted order:  6 3 1\n"
     ]
    }
   ],
   "source": [
    "x = int(input(\"First Number: \"))\n",
    "y = int(input(\"Second Number: \"))\n",
    "z = int(input(\"Third Number: \"))\n",
    "\n",
    "a1 = max(x,y,z)\n",
    "a3 = min(x,y,z)\n",
    "a2 = (x + y + z) - a1 - a3\n",
    "print(\"Numbers in sorted order: \", a1,a2,a3)"
   ]
  },
  {
   "cell_type": "markdown",
   "id": "8b048d2b-52d4-4bc0-938c-e12acbba3799",
   "metadata": {},
   "source": [
    "70. Write a  Python program to sort files by date."
   ]
  },
  {
   "cell_type": "code",
   "execution_count": null,
   "id": "06bded33-f169-4e98-8e8d-2ecf65dbab5c",
   "metadata": {},
   "outputs": [],
   "source": [
    "import glob\n",
    "import os\n",
    "files = glob.glob(\"*.txt\")\n",
    "files.sort(key=os.path.getmtime)\n",
    "print(\"\\n\".join(files))"
   ]
  },
  {
   "cell_type": "markdown",
   "id": "906ba6fd-49e7-4c0b-9d16-996d306bdeb2",
   "metadata": {},
   "source": [
    "72. Write a Python program to get the details of the math module."
   ]
  },
  {
   "cell_type": "code",
   "execution_count": 1,
   "id": "e9e51789-c231-41cb-aef6-6490a6146968",
   "metadata": {},
   "outputs": [
    {
     "name": "stdout",
     "output_type": "stream",
     "text": [
      "['__doc__', '__loader__', '__name__', '__package__', '__spec__', 'acos', 'acosh', 'asin', 'asinh', 'atan', 'atan2', 'atanh', 'cbrt', 'ceil', 'comb', 'copysign', 'cos', 'cosh', 'degrees', 'dist', 'e', 'erf', 'erfc', 'exp', 'exp2', 'expm1', 'fabs', 'factorial', 'floor', 'fmod', 'frexp', 'fsum', 'gamma', 'gcd', 'hypot', 'inf', 'isclose', 'isfinite', 'isinf', 'isnan', 'isqrt', 'lcm', 'ldexp', 'lgamma', 'log', 'log10', 'log1p', 'log2', 'modf', 'nan', 'nextafter', 'perm', 'pi', 'pow', 'prod', 'radians', 'remainder', 'sin', 'sinh', 'sqrt', 'sumprod', 'tan', 'tanh', 'tau', 'trunc', 'ulp']\n"
     ]
    }
   ],
   "source": [
    "import math\n",
    "print(dir(math))"
   ]
  },
  {
   "cell_type": "markdown",
   "id": "7714fdae-b39f-4743-98f8-69c9ae22f5cb",
   "metadata": {},
   "source": [
    "73. Write a Python program to calculate the midpoints of a line.1"
   ]
  },
  {
   "cell_type": "code",
   "execution_count": 3,
   "id": "160ac302-74b9-4815-be38-1cd83bfce871",
   "metadata": {},
   "outputs": [
    {
     "name": "stdin",
     "output_type": "stream",
     "text": [
      "Point 1 (x-coordinate) : 3\n",
      "Point 1 (y-coordinate) : 4\n",
      "Point 2 (x-coordinate) : 3\n",
      "Point 2 (y-coordinate) : 6\n"
     ]
    },
    {
     "name": "stdout",
     "output_type": "stream",
     "text": [
      "Mid points: x-coordinate 3.0; y-coordinates 5.0\n"
     ]
    }
   ],
   "source": [
    "x1 = int(input(\"Point 1 (x-coordinate) :\"))\n",
    "y1 = int(input(\"Point 1 (y-coordinate) :\"))\n",
    "x2 = int(input(\"Point 2 (x-coordinate) :\"))\n",
    "y2 = int(input(\"Point 2 (y-coordinate) :\"))\n",
    "\n",
    "x_mid = (x1 + x2) / 2\n",
    "y_mid = (y1 + y2) / 2\n",
    "print(f\"Mid points: x-coordinate {x_mid}; y-coordinates {y_mid}\")"
   ]
  },
  {
   "cell_type": "markdown",
   "id": "71cb262a-4f26-4fac-be79-ae4e9f94cf61",
   "metadata": {},
   "source": [
    "74. Write a Python program to hash a word."
   ]
  },
  {
   "cell_type": "code",
   "execution_count": 5,
   "id": "24b9c424-f07a-4133-abea-f68c12a9f912",
   "metadata": {},
   "outputs": [
    {
     "name": "stdin",
     "output_type": "stream",
     "text": [
      "Input the word to be hashed:  bubu\n"
     ]
    },
    {
     "name": "stdout",
     "output_type": "stream",
     "text": [
      "Coded Word:  B222\n"
     ]
    }
   ],
   "source": [
    "soundex = [0, 1, 2, 3, 0, 1, 2, 0, 0, 2, 2, 4, 5, 5, 0, 1, 2, 6, 2, 3, 0, 1, 0, 2, 0, 2]\n",
    "word = input(\"Input the word to be hashed: \")\n",
    "\n",
    "word = word.upper()\n",
    "coded = word[0]\n",
    "for a in word[1:len(word)]:\n",
    "    i = 65 - ord(a)\n",
    "    coded = coded + str(soundex[i])\n",
    "print(\"Coded Word: \",coded)"
   ]
  },
  {
   "cell_type": "markdown",
   "id": "e590ccb3-a2c8-45a5-951b-27f6c102edac",
   "metadata": {},
   "source": [
    "75. Write a Python program to get the copyright information and write Copyright information in  Python code."
   ]
  },
  {
   "cell_type": "code",
   "execution_count": 6,
   "id": "1fa7fad0-9272-4134-b1e9-20026a177863",
   "metadata": {},
   "outputs": [
    {
     "name": "stdout",
     "output_type": "stream",
     "text": [
      "Copyright (c) 2001-2023 Python Software Foundation.\n",
      "All Rights Reserved.\n",
      "\n",
      "Copyright (c) 2000 BeOpen.com.\n",
      "All Rights Reserved.\n",
      "\n",
      "Copyright (c) 1995-2001 Corporation for National Research Initiatives.\n",
      "All Rights Reserved.\n",
      "\n",
      "Copyright (c) 1991-1995 Stichting Mathematisch Centrum, Amsterdam.\n",
      "All Rights Reserved.\n"
     ]
    }
   ],
   "source": [
    "import sys\n",
    "print(sys.copyright)"
   ]
  },
  {
   "cell_type": "markdown",
   "id": "80c8e1a7-b420-4efb-8aac-be1345394106",
   "metadata": {},
   "source": [
    "76. Write a Python program to get the command-line arguments (name of the script, the number of arguments, arguments) passed to a script."
   ]
  },
  {
   "cell_type": "code",
   "execution_count": 10,
   "id": "d03dd4fc-7d36-45ae-93f4-8f263dd62f99",
   "metadata": {},
   "outputs": [
    {
     "name": "stdout",
     "output_type": "stream",
     "text": [
      "This is name/path of the script:  C:\\Users\\0132499s\\AppData\\Local\\Programs\\Python\\Python312\\Lib\\site-packages\\ipykernel_launcher.py\n",
      "\n",
      "Number of arguments:  3\n",
      "\n",
      "Argument List:  ['C:\\\\Users\\\\0132499s\\\\AppData\\\\Local\\\\Programs\\\\Python\\\\Python312\\\\Lib\\\\site-packages\\\\ipykernel_launcher.py', '-f', 'C:\\\\Users\\\\0132499s\\\\AppData\\\\Roaming\\\\jupyter\\\\runtime\\\\kernel-a591633e-1ef2-46be-a987-b4cce680f87a.json']\n"
     ]
    }
   ],
   "source": [
    "import sys\n",
    "print(\"This is name/path of the script: \", sys.argv[0])\n",
    "print(\"\\nNumber of arguments: \",len(sys.argv))\n",
    "print(\"\\nArgument List: \", str(sys.argv))"
   ]
  },
  {
   "cell_type": "markdown",
   "id": "8d7d1e8c-2cbe-46f2-a090-7e3472906ed1",
   "metadata": {},
   "source": [
    "77. Write a Python program to test whether the system is a big-endian platform or a little-endian platform."
   ]
  },
  {
   "cell_type": "code",
   "execution_count": 13,
   "id": "a61ba684-c20d-4d14-bb32-54b373697cc9",
   "metadata": {},
   "outputs": [
    {
     "name": "stdout",
     "output_type": "stream",
     "text": [
      "Little\n"
     ]
    }
   ],
   "source": [
    "import sys\n",
    "if sys.byteorder == \"little\":\n",
    "    print(\"Little\")\n",
    "else:\n",
    "    print(\"Big\")"
   ]
  },
  {
   "cell_type": "markdown",
   "id": "c88df135-bc06-4c9f-9a45-92181f4d46f6",
   "metadata": {},
   "source": [
    "78. Write a Python program to find the available built-in modules."
   ]
  },
  {
   "cell_type": "code",
   "execution_count": 14,
   "id": "58f47b66-271e-419e-ab0a-d248a43c3cc5",
   "metadata": {},
   "outputs": [
    {
     "name": "stdout",
     "output_type": "stream",
     "text": [
      "_abc,_ast,_bisect,_blake2,_codecs,_codecs_cn,_codecs_hk,_codecs_iso202\n",
      "2,_codecs_jp,_codecs_kr,_codecs_tw,_collections,_contextvars,_csv,_dat\n",
      "etime,_functools,_heapq,_imp,_io,_json,_locale,_lsprof,_md5,_multibyte\n",
      "codec,_opcode,_operator,_pickle,_random,_sha1,_sha2,_sha3,_signal,_sre\n",
      ",_stat,_statistics,_string,_struct,_symtable,_thread,_tokenize,_tracem\n",
      "alloc,_typing,_warnings,_weakref,_winapi,_xxinterpchannels,_xxsubinter\n",
      "preters,array,atexit,audioop,binascii,builtins,cmath,errno,faulthandle\n",
      "r,gc,itertools,marshal,math,mmap,msvcrt,nt,sys,time,winreg,xxsubtype,z\n",
      "lib\n"
     ]
    }
   ],
   "source": [
    "import sys\n",
    "import textwrap\n",
    "\n",
    "module_name = ','.join(sorted(sys.builtin_module_names))\n",
    "print(textwrap.fill(module_name, width=70))"
   ]
  },
  {
   "cell_type": "markdown",
   "id": "4b6e4426-2863-4123-83f1-6685fe32be39",
   "metadata": {},
   "source": [
    "79. Write a Python program to get the size of an object in bytes."
   ]
  },
  {
   "cell_type": "code",
   "execution_count": 17,
   "id": "598856d5-ee30-418e-ac09-8ab61df37ff9",
   "metadata": {},
   "outputs": [
    {
     "name": "stdout",
     "output_type": "stream",
     "text": [
      "str1 44\n"
     ]
    }
   ],
   "source": [
    "import sys\n",
    "str1 = \"one\"\n",
    "print(\"str1\", str(sys.getsizeof(str1)))"
   ]
  },
  {
   "cell_type": "markdown",
   "id": "2e617043-ecfc-4140-8cc9-2233f3e28d05",
   "metadata": {},
   "source": [
    "80. Write a Python program to get the current value of the recursion limit."
   ]
  },
  {
   "cell_type": "code",
   "execution_count": 18,
   "id": "9a0bacc6-05d1-4a7b-8ae2-bd3a508415ef",
   "metadata": {},
   "outputs": [
    {
     "name": "stdout",
     "output_type": "stream",
     "text": [
      "3000\n"
     ]
    }
   ],
   "source": [
    "import sys\n",
    "print(sys.getrecursionlimit())"
   ]
  },
  {
   "cell_type": "markdown",
   "id": "5a22ca06-7e30-4ca8-aec8-925aefcb105c",
   "metadata": {},
   "source": [
    "81. Write a Python program to concatenate N strings."
   ]
  },
  {
   "cell_type": "code",
   "execution_count": 22,
   "id": "fabdc015-4696-469d-9c49-c5468c397a59",
   "metadata": {},
   "outputs": [
    {
     "name": "stdout",
     "output_type": "stream",
     "text": [
      "Concatenating string 'bulu' : bulubulubulubulubulu\n"
     ]
    }
   ],
   "source": [
    "def concat_N_string(string, N):\n",
    "    concatenated_string = ''\n",
    "    for i in range(0, N):\n",
    "        concatenated_string += string\n",
    "    return concatenated_string\n",
    "print(\"Concatenating string 'bulu' :\", concat_N_string('bulu', 5))"
   ]
  },
  {
   "cell_type": "markdown",
   "id": "ba514951-aaad-42b1-a8a8-ea06bee8fc77",
   "metadata": {},
   "source": [
    "82. Write a Python program to calculate the sum of all items of a container (tuple, list, set, dictionary)."
   ]
  },
  {
   "cell_type": "code",
   "execution_count": 27,
   "id": "995dc8e3-fcbf-4909-9c58-cc520bf48b4c",
   "metadata": {},
   "outputs": [
    {
     "name": "stdout",
     "output_type": "stream",
     "text": [
      "tuple (3, 5): 8\n",
      "list [3, 5]: 8\n",
      "set {3, 5}: 8\n",
      "dictionary {'a':3, 'b':5}: 8\n"
     ]
    }
   ],
   "source": [
    "def sum_container(cont):\n",
    "    if isinstance(cont, dict):\n",
    "        return sum(cont.values())\n",
    "    elif isinstance(cont, (list, tuple, set)):\n",
    "        return sum(cont)\n",
    "print(\"tuple (3, 5):\", sum_container((3, 5)))\n",
    "print(\"list [3, 5]:\", sum_container([3, 5]))\n",
    "print(\"set {3, 5}:\", sum_container({3, 5}))\n",
    "print(\"dictionary {'a':3, 'b':5}:\", sum_container(({'a':3, 'b':5})))"
   ]
  },
  {
   "cell_type": "markdown",
   "id": "eaabcade-6364-4cc6-a4dd-18a58692d53b",
   "metadata": {},
   "source": [
    "83. Write a Python program to test whether all numbers in a list are greater than a certain number."
   ]
  },
  {
   "cell_type": "code",
   "execution_count": 29,
   "id": "09021eb7-83a4-44c6-bf70-7fccba51e922",
   "metadata": {},
   "outputs": [
    {
     "name": "stdout",
     "output_type": "stream",
     "text": [
      "[2, 3, 4, 5, 6] > 3 ? False\n",
      "[2, 3, 4, 5, 6] > 1 ? True\n"
     ]
    }
   ],
   "source": [
    "def find_greater(l1, n):\n",
    "    for i in l1:\n",
    "        if i > n:\n",
    "            return True\n",
    "        else:\n",
    "            return False\n",
    "print(\"[2, 3, 4, 5, 6] > 3 ?\", find_greater([2, 3, 4, 5, 6], 3))\n",
    "print(\"[2, 3, 4, 5, 6] > 1 ?\", find_greater([2, 3, 4, 5, 6], 1))"
   ]
  },
  {
   "cell_type": "markdown",
   "id": "4e96c120-2c82-435e-929f-cb8ae7394165",
   "metadata": {},
   "source": [
    "84. Write a Python program to count the number of occurrences of a specific character in a string."
   ]
  },
  {
   "cell_type": "code",
   "execution_count": 30,
   "id": "982cd706-f2c9-4d22-a582-5af09a529e7c",
   "metadata": {},
   "outputs": [
    {
     "name": "stdout",
     "output_type": "stream",
     "text": [
      "u is repeated 2 times in the word blububa\n"
     ]
    }
   ],
   "source": [
    "def count_char(string, character):\n",
    "    count = 0\n",
    "    for i in string:\n",
    "        if i == character:\n",
    "            count += 1\n",
    "    return count\n",
    "print(f\"u is repeated {count_char('blububa','u')} times in the word blububa\")"
   ]
  },
  {
   "cell_type": "markdown",
   "id": "6244fbe0-1f40-4552-b99d-91a85cbebdaa",
   "metadata": {},
   "source": [
    "85. Write a Python program to check whether a file path is a file or a directory."
   ]
  },
  {
   "cell_type": "code",
   "execution_count": 32,
   "id": "15bf4bb4-1437-413d-9aeb-69d5bca0f1fa",
   "metadata": {},
   "outputs": [
    {
     "name": "stdout",
     "output_type": "stream",
     "text": [
      "\n",
      "It is Directory\n"
     ]
    }
   ],
   "source": [
    "import os\n",
    "path = r'C:\\Users\\0132499s\\Documents\\Documents\\Transcript\\Agri, Food and Marine'\n",
    "if os.path.isdir(path):\n",
    "    print(\"\\nIt is Directory\")\n",
    "elif os.path.isfile(path):\n",
    "    print(\"\\nIt is file\")\n",
    "else:\n",
    "    print(\"Neither\")"
   ]
  },
  {
   "cell_type": "markdown",
   "id": "255da0c8-e98f-4ce0-8407-58be7fe6fffd",
   "metadata": {},
   "source": [
    "86. Write a Python program to get the ASCII value of a character."
   ]
  },
  {
   "cell_type": "code",
   "execution_count": 33,
   "id": "a99b63d0-7476-427c-a1ca-861ddc019369",
   "metadata": {},
   "outputs": [
    {
     "name": "stdout",
     "output_type": "stream",
     "text": [
      "97\n"
     ]
    }
   ],
   "source": [
    "print(ord('a'))"
   ]
  },
  {
   "cell_type": "markdown",
   "id": "d0d92abe-ce75-478b-a454-908e1dc3fd35",
   "metadata": {},
   "source": [
    "87. Write a Python program to get the size of a file."
   ]
  },
  {
   "cell_type": "code",
   "execution_count": 34,
   "id": "293aa0f7-00e5-4cec-a233-3fcedd0f4726",
   "metadata": {},
   "outputs": [
    {
     "name": "stdout",
     "output_type": "stream",
     "text": [
      "File Size:  152\n"
     ]
    }
   ],
   "source": [
    "import os\n",
    "print(\"File Size: \", os.path.getsize(r'C:\\Users\\0132499s\\Documents\\Documents\\Transcript\\Speaker Titles.txt'))"
   ]
  },
  {
   "cell_type": "markdown",
   "id": "6075896f-e059-4d03-b45a-99bce5662579",
   "metadata": {},
   "source": [
    "88. Given variables x=30 and y=20, write a Python program to print \"30+20=50\"."
   ]
  },
  {
   "cell_type": "code",
   "execution_count": 35,
   "id": "57928deb-4c36-4c07-82fc-02e741000ad1",
   "metadata": {},
   "outputs": [
    {
     "name": "stdout",
     "output_type": "stream",
     "text": [
      "30 + 20 = 50\n"
     ]
    }
   ],
   "source": [
    "x = 30\n",
    "y = 20\n",
    "print(f\"{x} + {y} = {x+y}\")"
   ]
  },
  {
   "cell_type": "markdown",
   "id": "41ff9717-ceee-42b4-8191-87314cce0890",
   "metadata": {},
   "source": [
    "89. Write a Python program to perform an action if a condition is true.\n",
    "Given a variable name, if the value is 1, display the string \"First day of a Month!\" and do nothing if the value is not equal."
   ]
  },
  {
   "cell_type": "code",
   "execution_count": 37,
   "id": "a1be1b7c-dbae-46fa-84f2-6d02d1f9db8d",
   "metadata": {},
   "outputs": [
    {
     "name": "stdout",
     "output_type": "stream",
     "text": [
      "First Day of month!\n",
      "None\n"
     ]
    }
   ],
   "source": [
    "def true_or_nothing(day):\n",
    "    if day == 1:\n",
    "        return 'First Day of month!'\n",
    "print(true_or_nothing(1))\n",
    "print(true_or_nothing(5))"
   ]
  },
  {
   "cell_type": "markdown",
   "id": "a314b1b2-c072-4a73-8a3c-72f4dfd5182f",
   "metadata": {},
   "source": [
    "91. Write a Python program to swap two variables."
   ]
  },
  {
   "cell_type": "code",
   "execution_count": 2,
   "id": "7a9ff7ca-822f-42f6-a102-a5ad6a40c138",
   "metadata": {},
   "outputs": [
    {
     "name": "stdout",
     "output_type": "stream",
     "text": [
      "Original Variable: v1 = 9, v2 = 6\n",
      "Swapped Variable: v1 = 6, v2 = 9\n"
     ]
    }
   ],
   "source": [
    "def swap_var(v1, v2):\n",
    "    print (f\"Original Variable: v1 = {v1}, v2 = {v2}\")\n",
    "    temp = v1\n",
    "    v1 = v2\n",
    "    v2 = temp\n",
    "    print(f\"Swapped Variable: v1 = {v1}, v2 = {v2}\")\n",
    "\n",
    "swap_var(9, 6)"
   ]
  },
  {
   "cell_type": "markdown",
   "id": "5ffc4f39-6407-4e76-8a27-ea44939b224e",
   "metadata": {},
   "source": [
    "92. Write a Python program to define a string containing special characters in various forms."
   ]
  },
  {
   "cell_type": "code",
   "execution_count": 4,
   "id": "d96a7afd-7f8a-4310-a734-c8359675b0e6",
   "metadata": {},
   "outputs": [
    {
     "name": "stdout",
     "output_type": "stream",
     "text": [
      "\n",
      "\\#{'}${\"}@/\n",
      "\\#{'}${\"}@/\n",
      "\\#{'}${\"}@/\n",
      "\\#{'}${\"}@/\n",
      "\\#{'}${\"}@/\n",
      "\\#{'}${\"}@/\n",
      "\n"
     ]
    },
    {
     "name": "stderr",
     "output_type": "stream",
     "text": [
      "<>:3: SyntaxWarning: invalid escape sequence '\\#'\n",
      "<>:6: SyntaxWarning: invalid escape sequence '\\#'\n",
      "<>:12: SyntaxWarning: invalid escape sequence '\\#'\n",
      "<>:15: SyntaxWarning: invalid escape sequence '\\#'\n",
      "<>:3: SyntaxWarning: invalid escape sequence '\\#'\n",
      "<>:6: SyntaxWarning: invalid escape sequence '\\#'\n",
      "<>:12: SyntaxWarning: invalid escape sequence '\\#'\n",
      "<>:15: SyntaxWarning: invalid escape sequence '\\#'\n",
      "C:\\Users\\0132499s\\AppData\\Local\\Temp\\ipykernel_23004\\2283321358.py:3: SyntaxWarning: invalid escape sequence '\\#'\n",
      "  print(\"\\#{'}${\\\"}@/\")\n",
      "C:\\Users\\0132499s\\AppData\\Local\\Temp\\ipykernel_23004\\2283321358.py:6: SyntaxWarning: invalid escape sequence '\\#'\n",
      "  print(\"\\#{'}${\\\"}@/\")\n",
      "C:\\Users\\0132499s\\AppData\\Local\\Temp\\ipykernel_23004\\2283321358.py:12: SyntaxWarning: invalid escape sequence '\\#'\n",
      "  print('\\#{\\'}${\"}@/')\n",
      "C:\\Users\\0132499s\\AppData\\Local\\Temp\\ipykernel_23004\\2283321358.py:15: SyntaxWarning: invalid escape sequence '\\#'\n",
      "  print('\\#{'\"'\"'}${\"}@/')\n"
     ]
    }
   ],
   "source": [
    "# Print a string containing special characters without escaping.\n",
    "print()\n",
    "print(\"\\#{'}${\\\"}@/\")\n",
    "\n",
    "# Print a string containing special characters with escaped single quotes.\n",
    "print(\"\\#{'}${\\\"}@/\")\n",
    "\n",
    "# Print a raw string using triple-quotes with special characters.\n",
    "print(r\"\"\"\\#{'}${\"}@/\"\"\")\n",
    "\n",
    "# Print a string containing special characters without escaping.\n",
    "print('\\#{\\'}${\"}@/')\n",
    "\n",
    "# Print a string containing special characters with escaped single quotes.\n",
    "print('\\#{'\"'\"'}${\"}@/')\n",
    "\n",
    "# Print a raw string using triple-quotes with special characters.\n",
    "print(r'''\\#{'}${\"}@/''')\n",
    "print()"
   ]
  },
  {
   "cell_type": "markdown",
   "id": "6edcabc3-1c4a-443a-9426-0671050f2322",
   "metadata": {},
   "source": [
    "93. Write a Python program to get the Identity, Type, and Value of an object."
   ]
  },
  {
   "cell_type": "code",
   "execution_count": 6,
   "id": "34cfd65f-fac8-40ef-a55d-fdce1823c0e1",
   "metadata": {},
   "outputs": [
    {
     "name": "stdout",
     "output_type": "stream",
     "text": [
      "Identity:  bulu\n",
      "Value:  2395947371664\n",
      "Type:  <class 'str'>\n"
     ]
    }
   ],
   "source": [
    "variable = 'bulu'\n",
    "print(\"Identity: \", variable)\n",
    "print(\"Value: \", id(variable)) #Memory value\n",
    "print(\"Type: \", type(variable))"
   ]
  },
  {
   "cell_type": "markdown",
   "id": "59bd51d4-b251-4882-a410-d93a8e04184b",
   "metadata": {},
   "source": [
    "94. Write a Python program to convert the bytes in a given string to a list of integers."
   ]
  },
  {
   "cell_type": "code",
   "execution_count": 7,
   "id": "655da269-9656-4a36-99dd-e1ef92532b51",
   "metadata": {},
   "outputs": [
    {
     "name": "stdout",
     "output_type": "stream",
     "text": [
      "Byte Object:  b'Abc'\n",
      "Converted to list:  [65, 98, 99]\n"
     ]
    }
   ],
   "source": [
    "x = b'Abc'\n",
    "print(\"Byte Object: \", x)\n",
    "print(\"Converted to list: \", list(x))"
   ]
  },
  {
   "cell_type": "markdown",
   "id": "6118c5fb-c409-4694-9e1e-fa6d7f9a25d0",
   "metadata": {},
   "source": [
    "95. Write a Python program to check whether a string is numeric."
   ]
  },
  {
   "cell_type": "code",
   "execution_count": 12,
   "id": "aaa2e36a-7fec-4446-99ed-8efe5efae2ac",
   "metadata": {},
   "outputs": [
    {
     "name": "stdout",
     "output_type": "stream",
     "text": [
      "No\n",
      "String 1  None\n",
      "Numeric String  23.0\n",
      "String 2  None\n"
     ]
    }
   ],
   "source": [
    "stirng = 'gulu'\n",
    "numstring = '23'\n",
    "\n",
    "def string_check(string):\n",
    "    try:\n",
    "        print('Numeric String ',float(string))\n",
    "    except(ValueError, TypeError):\n",
    "        print('No')\n",
    "        \n",
    "print(\"String 1 \", string_check(stirng))\n",
    "print(\"String 2 \", string_check(numstring))"
   ]
  },
  {
   "cell_type": "markdown",
   "id": "c10e5e05-5003-4830-98b5-117faa0fba70",
   "metadata": {},
   "source": [
    "96. Write a Python program to print the current call stack."
   ]
  },
  {
   "cell_type": "code",
   "execution_count": 13,
   "id": "99e1a74f-3c15-4389-9415-5687b824e0df",
   "metadata": {},
   "outputs": [
    {
     "name": "stderr",
     "output_type": "stream",
     "text": [
      "  File \"<frozen runpy>\", line 198, in _run_module_as_main\n",
      "  File \"<frozen runpy>\", line 88, in _run_code\n",
      "  File \"C:\\Users\\0132499s\\AppData\\Local\\Programs\\Python\\Python312\\Lib\\site-packages\\ipykernel_launcher.py\", line 18, in <module>\n",
      "    app.launch_new_instance()\n",
      "  File \"C:\\Users\\0132499s\\AppData\\Local\\Programs\\Python\\Python312\\Lib\\site-packages\\traitlets\\config\\application.py\", line 1075, in launch_instance\n",
      "    app.start()\n",
      "  File \"C:\\Users\\0132499s\\AppData\\Local\\Programs\\Python\\Python312\\Lib\\site-packages\\ipykernel\\kernelapp.py\", line 739, in start\n",
      "    self.io_loop.start()\n",
      "  File \"C:\\Users\\0132499s\\AppData\\Local\\Programs\\Python\\Python312\\Lib\\site-packages\\tornado\\platform\\asyncio.py\", line 205, in start\n",
      "    self.asyncio_loop.run_forever()\n",
      "  File \"C:\\Users\\0132499s\\AppData\\Local\\Programs\\Python\\Python312\\Lib\\asyncio\\base_events.py\", line 641, in run_forever\n",
      "    self._run_once()\n",
      "  File \"C:\\Users\\0132499s\\AppData\\Local\\Programs\\Python\\Python312\\Lib\\asyncio\\base_events.py\", line 1986, in _run_once\n",
      "    handle._run()\n",
      "  File \"C:\\Users\\0132499s\\AppData\\Local\\Programs\\Python\\Python312\\Lib\\asyncio\\events.py\", line 88, in _run\n",
      "    self._context.run(self._callback, *self._args)\n",
      "  File \"C:\\Users\\0132499s\\AppData\\Local\\Programs\\Python\\Python312\\Lib\\site-packages\\ipykernel\\kernelbase.py\", line 545, in dispatch_queue\n",
      "    await self.process_one()\n",
      "  File \"C:\\Users\\0132499s\\AppData\\Local\\Programs\\Python\\Python312\\Lib\\site-packages\\ipykernel\\kernelbase.py\", line 534, in process_one\n",
      "    await dispatch(*args)\n",
      "  File \"C:\\Users\\0132499s\\AppData\\Local\\Programs\\Python\\Python312\\Lib\\site-packages\\ipykernel\\kernelbase.py\", line 437, in dispatch_shell\n",
      "    await result\n",
      "  File \"C:\\Users\\0132499s\\AppData\\Local\\Programs\\Python\\Python312\\Lib\\site-packages\\ipykernel\\ipkernel.py\", line 362, in execute_request\n",
      "    await super().execute_request(stream, ident, parent)\n",
      "  File \"C:\\Users\\0132499s\\AppData\\Local\\Programs\\Python\\Python312\\Lib\\site-packages\\ipykernel\\kernelbase.py\", line 778, in execute_request\n",
      "    reply_content = await reply_content\n",
      "  File \"C:\\Users\\0132499s\\AppData\\Local\\Programs\\Python\\Python312\\Lib\\site-packages\\ipykernel\\ipkernel.py\", line 449, in do_execute\n",
      "    res = shell.run_cell(\n",
      "  File \"C:\\Users\\0132499s\\AppData\\Local\\Programs\\Python\\Python312\\Lib\\site-packages\\ipykernel\\zmqshell.py\", line 549, in run_cell\n",
      "    return super().run_cell(*args, **kwargs)\n",
      "  File \"C:\\Users\\0132499s\\AppData\\Local\\Programs\\Python\\Python312\\Lib\\site-packages\\IPython\\core\\interactiveshell.py\", line 3075, in run_cell\n",
      "    result = self._run_cell(\n",
      "  File \"C:\\Users\\0132499s\\AppData\\Local\\Programs\\Python\\Python312\\Lib\\site-packages\\IPython\\core\\interactiveshell.py\", line 3130, in _run_cell\n",
      "    result = runner(coro)\n",
      "  File \"C:\\Users\\0132499s\\AppData\\Local\\Programs\\Python\\Python312\\Lib\\site-packages\\IPython\\core\\async_helpers.py\", line 128, in _pseudo_sync_runner\n",
      "    coro.send(None)\n",
      "  File \"C:\\Users\\0132499s\\AppData\\Local\\Programs\\Python\\Python312\\Lib\\site-packages\\IPython\\core\\interactiveshell.py\", line 3334, in run_cell_async\n",
      "    has_raised = await self.run_ast_nodes(code_ast.body, cell_name,\n",
      "  File \"C:\\Users\\0132499s\\AppData\\Local\\Programs\\Python\\Python312\\Lib\\site-packages\\IPython\\core\\interactiveshell.py\", line 3517, in run_ast_nodes\n",
      "    if await self.run_code(code, result, async_=asy):\n",
      "  File \"C:\\Users\\0132499s\\AppData\\Local\\Programs\\Python\\Python312\\Lib\\site-packages\\IPython\\core\\interactiveshell.py\", line 3577, in run_code\n",
      "    exec(code_obj, self.user_global_ns, self.user_ns)\n",
      "  File \"C:\\Users\\0132499s\\AppData\\Local\\Temp\\ipykernel_23004\\585174274.py\", line 6, in <module>\n",
      "    f1()\n",
      "  File \"C:\\Users\\0132499s\\AppData\\Local\\Temp\\ipykernel_23004\\585174274.py\", line 3, in f1\n",
      "    return abc()\n",
      "  File \"C:\\Users\\0132499s\\AppData\\Local\\Temp\\ipykernel_23004\\585174274.py\", line 5, in abc\n",
      "    traceback.print_stack()\n"
     ]
    }
   ],
   "source": [
    "import traceback\n",
    "def f1():\n",
    "    return abc()\n",
    "def abc():\n",
    "    traceback.print_stack()\n",
    "f1()"
   ]
  },
  {
   "cell_type": "markdown",
   "id": "cb709f69-668c-45d0-bec9-c1881638d764",
   "metadata": {},
   "source": [
    "97. Write a Python program to list the special variables used in the language."
   ]
  },
  {
   "cell_type": "code",
   "execution_count": 14,
   "id": "7446f0be-9710-4361-aecd-0012c8a97de0",
   "metadata": {},
   "outputs": [
    {
     "name": "stdout",
     "output_type": "stream",
     "text": [
      "ArithmeticError AssertionError AttributeError BaseException BaseExceptionGroup BlockingIOError BrokenPipeError BufferError\n",
      "BytesWarning ChildProcessError ConnectionAbortedError ConnectionError ConnectionRefusedError ConnectionResetError DeprecationWarning EOFError\n",
      "Ellipsis EncodingWarning EnvironmentError Exception ExceptionGroup False FileExistsError FileNotFoundError\n",
      "FloatingPointError FutureWarning GeneratorExit IOError ImportError ImportWarning In IndentationError\n",
      "IndexError InterruptedError IsADirectoryError KeyError KeyboardInterrupt LookupError MemoryError ModuleNotFoundError\n",
      "NameError None NotADirectoryError NotImplemented NotImplementedError OSError Out OverflowError\n",
      "PendingDeprecationWarning PermissionError ProcessLookupError RecursionError ReferenceError ResourceWarning RuntimeError RuntimeWarning\n",
      "StopAsyncIteration StopIteration SyntaxError SyntaxWarning SystemError SystemExit TabError TimeoutError\n",
      "True TypeError UnboundLocalError UnicodeDecodeError UnicodeEncodeError UnicodeError UnicodeTranslateError UnicodeWarning\n",
      "UserWarning ValueError Warning WindowsError ZeroDivisionError __ __IPYTHON__ ___\n",
      "__build_class__ __builtin__ __builtins__ __debug__ __doc__ __import__ __loader__ __name__\n",
      "__package__ __session__ __spec__ _dh _i _i1 _i10 _i11\n",
      "_i12 _i13 _i14 _i2 _i3 _i4 _i5 _i6\n",
      "_i7 _i8 _i9 _ih _ii _iii _oh abc\n",
      "abs aiter all anext any ascii bin bool\n",
      "breakpoint bytearray bytes callable chr classmethod compile complex\n",
      "copyright credits delattr dict dir display divmod enumerate\n",
      "eval exec execfile exit f1 filter float format\n",
      "frozenset get_ipython getattr globals hasattr hash help hex\n",
      "id input int isinstance issubclass iter len license\n",
      "list locals map max memoryview min next numstring\n",
      "object oct open ord pow print property quit\n",
      "range repr reversed round runfile set setattr slice\n",
      "sorted staticmethod stirng str string_check sum super swap_var\n",
      "traceback tuple type variable vars x zip\n"
     ]
    }
   ],
   "source": [
    "s_var_names = sorted((set(globals().keys()) | set(__builtins__.__dict__.keys())) - set('_ names i'.split()))\n",
    "print( '\\n'.join(' '.join(s_var_names[i:i+8]) for i in range(0, len(s_var_names), 8)) )"
   ]
  },
  {
   "cell_type": "markdown",
   "id": "b894a3ae-174e-4b35-9417-b620eaf37f75",
   "metadata": {},
   "source": [
    "98. Write a Python program to get system time.\n",
    "\n",
    "Note : The system time is important for debugging, network information, random number seeds, or something as simple as program performance."
   ]
  },
  {
   "cell_type": "code",
   "execution_count": 16,
   "id": "efcd592f-cee7-4d51-9405-5f915ea3d440",
   "metadata": {},
   "outputs": [
    {
     "name": "stdout",
     "output_type": "stream",
     "text": [
      "Fri Oct 11 18:23:43 2024\n"
     ]
    }
   ],
   "source": [
    "import time\n",
    "print(time.ctime())"
   ]
  },
  {
   "cell_type": "markdown",
   "id": "486a0cc0-e7b4-4230-a181-4db1cce2d428",
   "metadata": {},
   "source": [
    "99. Write a Python program to clear the screen or terminal."
   ]
  },
  {
   "cell_type": "code",
   "execution_count": 17,
   "id": "1d6d4c91-6af2-455e-be7d-ba40bc78b6eb",
   "metadata": {},
   "outputs": [
    {
     "data": {
      "text/plain": [
       "1"
      ]
     },
     "execution_count": 17,
     "metadata": {},
     "output_type": "execute_result"
    }
   ],
   "source": [
    "import os\n",
    "import time\n",
    "os.system(\"ls\")\n",
    "time.sleep(2)\n",
    "os.system('clear')"
   ]
  },
  {
   "cell_type": "markdown",
   "id": "5fec2569-fe41-4fad-9363-2e0fb9cd347e",
   "metadata": {},
   "source": [
    "100. Write a Python program to get the name of the host on which the routine is running."
   ]
  },
  {
   "cell_type": "code",
   "execution_count": 18,
   "id": "d4ce42ea-7546-419d-82cd-e88b39d79344",
   "metadata": {},
   "outputs": [
    {
     "name": "stdout",
     "output_type": "stream",
     "text": [
      "Host Name:  GAL-4J06M34\n"
     ]
    }
   ],
   "source": [
    "import socket\n",
    "print(\"Host Name: \", socket.gethostname())"
   ]
  },
  {
   "cell_type": "markdown",
   "id": "e4b7f46a-9aab-45ee-860b-127626777994",
   "metadata": {},
   "source": [
    "101. Write a Python program to access and print a URL's content to the console."
   ]
  },
  {
   "cell_type": "code",
   "execution_count": 21,
   "id": "dca0025f-da58-4d4f-a0be-8f0cdc666dea",
   "metadata": {},
   "outputs": [
    {
     "name": "stdout",
     "output_type": "stream",
     "text": [
      "b'<!doctype html>\\n<html>\\n<head>\\n    <title>Example Domain</title>\\n\\n    <meta charset=\"utf-8\" />\\n    <meta http-equiv=\"Content-type\" content=\"text/html; charset=utf-8\" />\\n    <meta name=\"viewport\" content=\"width=device-width, initial-scale=1\" />\\n    <style type=\"text/css\">\\n    body {\\n        background-color: #f0f0f2;\\n        margin: 0;\\n        padding: 0;\\n        font-family: -apple-system, system-ui, BlinkMacSystemFont, \"Segoe UI\", \"Open Sans\", \"Helvetica Neue\", Helvetica, Arial, sans-serif;\\n        \\n    }\\n    div {\\n        width: 600px;\\n        margin: 5em auto;\\n        padding: 2em;\\n        background-color: #fdfdff;\\n        border-radius: 0.5em;\\n        box-shadow: 2px 3px 7px 2px rgba(0,0,0,0.02);\\n    }\\n    a:link, a:visited {\\n        color: #38488f;\\n        text-decoration: none;\\n    }\\n    @media (max-width: 700px) {\\n        div {\\n            margin: 0 auto;\\n            width: auto;\\n        }\\n    }\\n    </style>    \\n</head>\\n\\n<body>\\n<div>\\n    <h1>Example Domain</h1>\\n    <p>This domain is for use in illustrative examples in documents. You may use this\\n    domain in literature without prior coordination or asking for permission.</p>\\n    <p><a href=\"https://www.iana.org/domains/example\">More information...</a></p>\\n</div>\\n</body>\\n</html>\\n'\n"
     ]
    }
   ],
   "source": [
    "from http.client import HTTPConnection\n",
    "conn = HTTPConnection(\"example.com\")\n",
    "conn.request(\"GET\", \"/\")\n",
    "result = conn.getresponse()\n",
    "contents = result.read()\n",
    "print(contents)"
   ]
  },
  {
   "cell_type": "markdown",
   "id": "2e680fa1-bd7f-43ab-a1c8-852d99ae5220",
   "metadata": {},
   "source": [
    "102. Write a  Python program to get system command output."
   ]
  },
  {
   "cell_type": "code",
   "execution_count": 23,
   "id": "eb9e04e0-7f33-40d9-a484-131d66764c71",
   "metadata": {},
   "outputs": [
    {
     "name": "stdout",
     "output_type": "stream",
     "text": [
      " Volume in drive C has no label.\n",
      " Volume Serial Number is DC95-D029\n",
      "\n",
      " Directory of C:\\Jupyter Notebook\\Personal Practice\n",
      "\n",
      "11/10/2024  06:31 pm    <DIR>          .\n",
      "11/10/2024  06:31 pm    <DIR>          ..\n",
      "10/10/2024  03:13 pm    <DIR>          .ipynb_checkpoints\n",
      "11/10/2024  06:31 pm           101,633 Basic Part I.ipynb\n",
      "               1 File(s)        101,633 bytes\n",
      "               3 Dir(s)  842,601,844,736 bytes free\n",
      "\n"
     ]
    }
   ],
   "source": [
    "import subprocess\n",
    "returned_text = subprocess.check_output(\"dir\", shell=True, universal_newlines=True)\n",
    "print(returned_text)"
   ]
  },
  {
   "cell_type": "markdown",
   "id": "a322c31a-7fd7-418e-9dcb-cc61b74c688c",
   "metadata": {},
   "source": [
    "103. Write a Python program to extract the filename from a given path."
   ]
  },
  {
   "cell_type": "code",
   "execution_count": 24,
   "id": "ae931593-e8cf-4bf4-9ac3-90b83418cbd6",
   "metadata": {},
   "outputs": [
    {
     "name": "stdout",
     "output_type": "stream",
     "text": [
      "Speaker Titles.txt\n"
     ]
    }
   ],
   "source": [
    "import os\n",
    "print(os.path.basename(r'C:\\Users\\0132499s\\Documents\\Documents\\Transcript\\Speaker Titles.txt'))"
   ]
  },
  {
   "cell_type": "markdown",
   "id": "99fa76bf-e946-4ad4-a70b-644a789f62ef",
   "metadata": {},
   "source": [
    "110. Write a Python program to get numbers divisible by fifteen from a list using an anonymous function."
   ]
  },
  {
   "cell_type": "code",
   "execution_count": 25,
   "id": "7f98abd6-cb66-4b34-9f8b-a51f27ec3a58",
   "metadata": {},
   "outputs": [
    {
     "name": "stdout",
     "output_type": "stream",
     "text": [
      "Number divisible by 15:  [45, 60, 105]\n"
     ]
    }
   ],
   "source": [
    "num_list = [45, 55, 60, 37, 100, 105, 220]\n",
    "result = list(filter(lambda x:(x % 15 == 0), num_list))\n",
    "print(\"Number divisible by 15: \", result)"
   ]
  },
  {
   "cell_type": "markdown",
   "id": "6e2551bd-f819-4ecf-ae29-405b2fae047e",
   "metadata": {},
   "source": [
    "112. Write a Python program to remove the first item from a specified list."
   ]
  },
  {
   "cell_type": "code",
   "execution_count": 27,
   "id": "576b2692-da9d-4d2e-8ab4-451f61a59554",
   "metadata": {},
   "outputs": [
    {
     "name": "stdout",
     "output_type": "stream",
     "text": [
      "List after removing first item:  [55, 60, 37, 100, 105, 220]\n"
     ]
    }
   ],
   "source": [
    "def remove_first_item(l1):\n",
    "    del l1[0]\n",
    "    return l1\n",
    "print(\"List after removing first item: \", remove_first_item(num_list))"
   ]
  },
  {
   "cell_type": "markdown",
   "id": "6198994f-7837-40ee-b41d-820e6011ee56",
   "metadata": {},
   "source": [
    "113. Write a Python program that inputs a number and generates an error message if it is not a number."
   ]
  },
  {
   "cell_type": "code",
   "execution_count": 29,
   "id": "51e60c6e-df1e-4b64-855d-1c96a63e483a",
   "metadata": {},
   "outputs": [
    {
     "name": "stdin",
     "output_type": "stream",
     "text": [
      "Enter number:  th\n"
     ]
    },
    {
     "name": "stdout",
     "output_type": "stream",
     "text": [
      "Must be a number\n"
     ]
    }
   ],
   "source": [
    "try:\n",
    "    num = int(input(\"Enter number: \"))\n",
    "except(ValueError, TypeError):\n",
    "    print(\"Must be a number\")"
   ]
  },
  {
   "cell_type": "markdown",
   "id": "14aa24ed-a628-42de-b8df-860725c413ab",
   "metadata": {},
   "source": [
    "114. Write a Python program to filter positive numbers from a list."
   ]
  },
  {
   "cell_type": "code",
   "execution_count": 30,
   "id": "f81dda4a-e876-499b-ab9d-5873f26f46f4",
   "metadata": {},
   "outputs": [
    {
     "name": "stdout",
     "output_type": "stream",
     "text": [
      "[34, 56, 56, 23]\n"
     ]
    }
   ],
   "source": [
    "num_list = [34, -9, 56, -28, 56, 23]\n",
    "num_list = list(filter(lambda x: (x > 0), num_list))\n",
    "print(num_list)"
   ]
  },
  {
   "cell_type": "markdown",
   "id": "b0e2c676-7f85-4a12-8e01-7001e90ed906",
   "metadata": {},
   "source": [
    "115. Write a Python program to compute the product of a list of integers (without using a for loop)."
   ]
  },
  {
   "cell_type": "code",
   "execution_count": 33,
   "id": "df0c0411-dbf7-4edf-b7b6-0aff98fad450",
   "metadata": {},
   "outputs": [
    {
     "name": "stdout",
     "output_type": "stream",
     "text": [
      "Using while loop\n",
      "617992704\n",
      "Using reduce\n",
      "617992704\n"
     ]
    }
   ],
   "source": [
    "num_list = [34, -9, 56, -28, 56, 23]\n",
    "\n",
    "print(\"Using while loop\")\n",
    "prod = 1\n",
    "i = 0\n",
    "while i < len(num_list):\n",
    "    prod *= num_list[i]\n",
    "    i+=1\n",
    "print(prod)\n",
    "\n",
    "print(\"Using reduce\")\n",
    "from functools import reduce\n",
    "\n",
    "prod = reduce((lambda x,y : x * y), num_list)\n",
    "print(prod)"
   ]
  },
  {
   "cell_type": "markdown",
   "id": "4ec9229b-8347-4224-86ab-4163def9a501",
   "metadata": {},
   "source": [
    "117. Write a Python program to prove that two string variables of the same value point to the same memory location."
   ]
  },
  {
   "cell_type": "code",
   "execution_count": 34,
   "id": "8486b38a-93d8-4595-ad10-66478a81dad9",
   "metadata": {},
   "outputs": [
    {
     "name": "stdout",
     "output_type": "stream",
     "text": [
      "str 1:  2395949823584\n",
      "str 2:  2395949823584\n"
     ]
    }
   ],
   "source": [
    "str1 = 'gogo'\n",
    "str2 = 'gogo'\n",
    "print(\"str 1: \",id(str1))\n",
    "print(\"str 2: \",id(str2))"
   ]
  },
  {
   "cell_type": "markdown",
   "id": "f4f424e0-69c3-4b3a-8a2c-aae169e42304",
   "metadata": {},
   "source": [
    "118. Write a Python program to create a bytearray from a list."
   ]
  },
  {
   "cell_type": "code",
   "execution_count": 36,
   "id": "80d8d8d9-e507-4369-bde1-87941209a69e",
   "metadata": {},
   "outputs": [
    {
     "name": "stdout",
     "output_type": "stream",
     "text": [
      "10\n",
      "20\n",
      "56\n",
      "35\n",
      "17\n",
      "99\n"
     ]
    }
   ],
   "source": [
    "num_list = [10, 20, 56, 35, 17, 99]\n",
    "\n",
    "values = bytearray(num_list)\n",
    "for x in values:\n",
    "    print(x)"
   ]
  },
  {
   "cell_type": "markdown",
   "id": "c7599579-6cbc-4297-ad00-b7b5ea033c4c",
   "metadata": {},
   "source": [
    "119. Write a Python program to round a floating-point number to a specified number of decimal places."
   ]
  },
  {
   "cell_type": "code",
   "execution_count": 37,
   "id": "5fb9799a-61c0-4ad0-9bd4-6a566ff886a1",
   "metadata": {},
   "outputs": [
    {
     "name": "stdout",
     "output_type": "stream",
     "text": [
      "Rounded:  2.498\n"
     ]
    }
   ],
   "source": [
    "num = 2.4978569346\n",
    "print(\"Rounded: \", round(num, 3))"
   ]
  },
  {
   "cell_type": "markdown",
   "id": "ea392b5f-b62d-4b05-bc23-85023103ddae",
   "metadata": {},
   "source": [
    "120. Write a Python program to format a specified string and limit the length of a string."
   ]
  },
  {
   "cell_type": "code",
   "execution_count": 38,
   "id": "baa13e64-f8c6-4bf1-94c4-9b4ce6e934a9",
   "metadata": {},
   "outputs": [
    {
     "name": "stdout",
     "output_type": "stream",
     "text": [
      "Original:  87235482354873673\n",
      "872354\n"
     ]
    }
   ],
   "source": [
    "strnum = '87235482354873673'\n",
    "print(\"Original: \", strnum)\n",
    "print('%.6s' % strnum)"
   ]
  },
  {
   "cell_type": "markdown",
   "id": "78a6764a-b90c-4307-bfb3-150f8aaba6f9",
   "metadata": {},
   "source": [
    "121. Write a Python program to determine if a variable is defined or not."
   ]
  },
  {
   "cell_type": "code",
   "execution_count": 41,
   "id": "22718c17-9a9f-4225-9c0e-fe6db4b89953",
   "metadata": {},
   "outputs": [
    {
     "name": "stdout",
     "output_type": "stream",
     "text": [
      "Defined\n",
      "Not defined\n"
     ]
    }
   ],
   "source": [
    "try:\n",
    "    x = 1\n",
    "except NameError:\n",
    "    print(\"Not defined\")\n",
    "else:\n",
    "    print(\"Defined\")\n",
    "\n",
    "try:\n",
    "    y\n",
    "except NameError:\n",
    "    print(\"Not defined\")\n",
    "else:\n",
    "    print(\"Defined\")"
   ]
  },
  {
   "cell_type": "markdown",
   "id": "5c8ecd4b-8c8b-4e6f-ae3b-d4d792770971",
   "metadata": {},
   "source": [
    "122. Write a Python program to empty a variable without destroying it.\n",
    "\n",
    "Sample data: n=20\n",
    "d = {\"x\":200}\n",
    "Expected Output : 0\n",
    "{}"
   ]
  },
  {
   "cell_type": "code",
   "execution_count": 43,
   "id": "3d08c483-3b60-410c-b2bd-6e5e6f0fea40",
   "metadata": {},
   "outputs": [
    {
     "name": "stdout",
     "output_type": "stream",
     "text": [
      "<class 'int'>\n",
      "0\n"
     ]
    }
   ],
   "source": [
    "n = 20\n",
    "print(type(n))\n",
    "print(type(n)())"
   ]
  },
  {
   "cell_type": "markdown",
   "id": "29db75ee-c4f4-4dd6-a873-8ac1c2fc17e4",
   "metadata": {},
   "source": [
    "123. Write a Python program to determine the largest and smallest integers, longs, and floats."
   ]
  },
  {
   "cell_type": "code",
   "execution_count": 44,
   "id": "7b4444dc-70d2-409a-ac98-61c832d1fcb6",
   "metadata": {},
   "outputs": [
    {
     "name": "stdout",
     "output_type": "stream",
     "text": [
      "Float:  sys.float_info(max=1.7976931348623157e+308, max_exp=1024, max_10_exp=308, min=2.2250738585072014e-308, min_exp=-1021, min_10_exp=-307, dig=15, mant_dig=53, epsilon=2.220446049250313e-16, radix=2, rounds=1)\n",
      "Int:  sys.int_info(bits_per_digit=30, sizeof_digit=4, default_max_str_digits=4300, str_digits_check_threshold=640)\n",
      "Max Int:  9223372036854775807\n"
     ]
    }
   ],
   "source": [
    "import sys\n",
    "print(\"Float: \", sys.float_info)\n",
    "print(\"Int: \", sys.int_info)\n",
    "print(\"Max Int: \", sys.maxsize)"
   ]
  },
  {
   "cell_type": "markdown",
   "id": "0b2c13e8-1167-41ab-a4ea-2539b8bb9472",
   "metadata": {},
   "source": [
    "124. Write a Python program to check whether multiple variables have the same value."
   ]
  },
  {
   "cell_type": "code",
   "execution_count": 45,
   "id": "7ce965b7-e287-4d83-b9b6-8c5ae930ff47",
   "metadata": {},
   "outputs": [
    {
     "name": "stdout",
     "output_type": "stream",
     "text": [
      "Same Value\n"
     ]
    }
   ],
   "source": [
    "x = 20\n",
    "y = 20\n",
    "z = 20\n",
    "if x == y == z:\n",
    "    print(\"Same Value\")"
   ]
  },
  {
   "cell_type": "markdown",
   "id": "4df540f7-208e-403a-8ea6-db465fcbead3",
   "metadata": {},
   "source": [
    "125. Write a Python program to sum all counts in a collection."
   ]
  },
  {
   "cell_type": "code",
   "execution_count": 47,
   "id": "a07bb9db-b098-47ca-91b0-9e6249507376",
   "metadata": {},
   "outputs": [
    {
     "name": "stdout",
     "output_type": "stream",
     "text": [
      "Counts:  dict_values([4, 2, 2, 3, 1])\n",
      "Count Sum:  12\n"
     ]
    }
   ],
   "source": [
    "import collections\n",
    "num = [2, 3, 2, 4, 4, 6, 6, 2, 3, 5, 6, 2]\n",
    "counts = collections.Counter(num).values()\n",
    "print(\"Counts: \",counts)\n",
    "print(\"Count Sum: \",sum(counts))"
   ]
  },
  {
   "cell_type": "markdown",
   "id": "ae3774c3-4729-4c43-970a-b0547727f45a",
   "metadata": {},
   "source": [
    "128. Write a Python program to check whether lowercase letters exist in a string."
   ]
  },
  {
   "cell_type": "code",
   "execution_count": 50,
   "id": "cc1c3ef2-2de7-46b6-8854-ec3e29916f3e",
   "metadata": {},
   "outputs": [
    {
     "name": "stdout",
     "output_type": "stream",
     "text": [
      "False\n",
      "False\n",
      "False\n",
      "False\n",
      "False\n",
      "False\n",
      "False\n",
      "False\n",
      "False\n",
      "False\n",
      "True\n",
      "True\n",
      "True\n",
      "True\n",
      "True\n"
     ]
    }
   ],
   "source": [
    "string = 'HGFKHAGDFGsdfsg'\n",
    "for i in string:\n",
    "    if i == i.lower():\n",
    "        print('True')\n",
    "    else:\n",
    "        print ('False')"
   ]
  },
  {
   "cell_type": "code",
   "execution_count": 51,
   "id": "fb470f0f-5273-4810-9f05-ff4208fee33c",
   "metadata": {},
   "outputs": [
    {
     "name": "stdout",
     "output_type": "stream",
     "text": [
      "True\n"
     ]
    }
   ],
   "source": [
    "print(any(s.islower() for s in string))"
   ]
  },
  {
   "cell_type": "markdown",
   "id": "ebd75dcd-8db3-46c5-8310-17e49b7d25a6",
   "metadata": {},
   "source": [
    "131. Write a Python program to split a variable length string into variables."
   ]
  },
  {
   "cell_type": "code",
   "execution_count": 52,
   "id": "4cdac86c-0656-46fa-a1da-187214766534",
   "metadata": {},
   "outputs": [
    {
     "name": "stdout",
     "output_type": "stream",
     "text": [
      "a b c\n"
     ]
    }
   ],
   "source": [
    "var_list = ['a', 'b', 'c']\n",
    "# Assign the first three elements of 'var_list' to 'x', 'y', and 'z'. Use [None] * 3 to ensure enough elements are available.\n",
    "x, y, z = (var_list + [None] * 3) [:3]\n",
    "print(x, y, z)"
   ]
  },
  {
   "cell_type": "markdown",
   "id": "d58bdf18-482c-4b0b-8256-1d2c5955d6f1",
   "metadata": {},
   "source": [
    "134. Write a Python program to input two integers on a single line."
   ]
  },
  {
   "cell_type": "code",
   "execution_count": 54,
   "id": "c0e22f8e-d74e-4d2b-a09d-bacff3de435d",
   "metadata": {},
   "outputs": [
    {
     "name": "stdout",
     "output_type": "stream",
     "text": [
      "Input x and y: \n"
     ]
    },
    {
     "name": "stdin",
     "output_type": "stream",
     "text": [
      " 3 4\n"
     ]
    },
    {
     "name": "stdout",
     "output_type": "stream",
     "text": [
      " x: 3,y = 4\n"
     ]
    }
   ],
   "source": [
    "print(\"Input x and y: \")\n",
    "x, y = map(int, input().split())\n",
    "print(f\" x: {x},y = {y}\")"
   ]
  },
  {
   "cell_type": "markdown",
   "id": "eb34664d-cda5-487f-9ba4-c4b14d98ffc6",
   "metadata": {},
   "source": [
    "135. Write a  Python program to print a variable without spaces between values.\n",
    "Sample value : x =30\n",
    "Expected output : Value of x is \"30\""
   ]
  },
  {
   "cell_type": "code",
   "execution_count": 56,
   "id": "35e735f9-5e7d-427d-a794-7c09a4a90cb4",
   "metadata": {},
   "outputs": [
    {
     "name": "stdout",
     "output_type": "stream",
     "text": [
      "Value of x is \"30\"\n"
     ]
    }
   ],
   "source": [
    "x = 30\n",
    "print(f'Value of x is \"{x}\"')"
   ]
  },
  {
   "cell_type": "markdown",
   "id": "f774fb64-0515-43a8-a49b-90d48ac54022",
   "metadata": {},
   "source": [
    "137. Write a Python program to extract a single key-value pair from a dictionary into variables."
   ]
  },
  {
   "cell_type": "code",
   "execution_count": 57,
   "id": "3ea493dc-906f-4069-8a6e-9f51c944c7f9",
   "metadata": {},
   "outputs": [
    {
     "name": "stdout",
     "output_type": "stream",
     "text": [
      "Red\n",
      "Green\n"
     ]
    }
   ],
   "source": [
    "d = {'Red' : 'Green'}\n",
    "(c1, c2), = d.items()\n",
    "print(c1)\n",
    "print(c2)"
   ]
  },
  {
   "cell_type": "markdown",
   "id": "3ccbfe1f-48d9-4afe-8668-e34857515fa7",
   "metadata": {},
   "source": [
    "138. Write a Python program to convert true to 1 and false to 0."
   ]
  },
  {
   "cell_type": "code",
   "execution_count": 1,
   "id": "d3c17be3-27b0-4877-a153-62cd1d9ef0cd",
   "metadata": {},
   "outputs": [
    {
     "name": "stdout",
     "output_type": "stream",
     "text": [
      "1\n",
      "0\n"
     ]
    }
   ],
   "source": [
    "x = 'true'\n",
    "x = int(x == 'true')\n",
    "print(x)\n",
    "\n",
    "x = 'abcd'\n",
    "x = int(x == 'true')\n",
    "print(x)"
   ]
  },
  {
   "cell_type": "markdown",
   "id": "8ce553be-c61a-4d57-a85f-bbb166a0e887",
   "metadata": {},
   "source": [
    "142. Write a  Python program to check if every consecutive sequence of zeroes is followed by a consecutive sequence of ones of same length in a given string. Return True/False.\n",
    "Original sequence: 01010101\n",
    "Check if every consecutive sequence of zeroes is followed by a consecutive sequence of ones in the said string:\n",
    "True\n",
    "Original sequence: 00\n",
    "Check if every consecutive sequence of zeroes is followed by a consecutive sequence of ones in the said string:\n",
    "False\n",
    "Original sequence: 000111000111\n",
    "Check if every consecutive sequence of zeroes is followed by a consecutive sequence of ones in the said string:\n",
    "True\n",
    "Original sequence: 00011100011\n",
    "Check if every consecutive sequence of zeroes is followed by a consecutive sequence of ones in the said string:\n",
    "False"
   ]
  },
  {
   "cell_type": "code",
   "execution_count": 3,
   "id": "f0b7f3e4-d4a7-4df4-94d6-933982be8efb",
   "metadata": {},
   "outputs": [
    {
     "name": "stdout",
     "output_type": "stream",
     "text": [
      "Original String : 010101\n",
      "String Check:  True\n",
      "Original String : 00\n",
      "String Check:  False\n",
      "Original String : 000111000111\n",
      "String Check:  True\n",
      "Original String : 00011100011\n",
      "String Check:  False\n"
     ]
    }
   ],
   "source": [
    "def check_zero_one(string):\n",
    "    while '01' in string:\n",
    "        string = string.replace('01', '') # While loop will repeatedly find and replace '01' with ''\n",
    "    return len(string) == 0 # If the string does not have consecutive 01 of same length, we will be left with some value here in the string either 0 or 1.\n",
    "\n",
    "string = \"010101\"\n",
    "print(\"Original String :\", string)\n",
    "print(\"String Check: \", check_zero_one(string))\n",
    "\n",
    "string = \"00\"\n",
    "print(\"Original String :\", string)\n",
    "print(\"String Check: \", check_zero_one(string))\n",
    "\n",
    "string = \"000111000111\"\n",
    "print(\"Original String :\", string)\n",
    "print(\"String Check: \", check_zero_one(string))\n",
    "\n",
    "string = \"00011100011\"\n",
    "print(\"Original String :\", string)\n",
    "print(\"String Check: \", check_zero_one(string))"
   ]
  },
  {
   "cell_type": "markdown",
   "id": "7d5ef760-b13f-43d8-8375-29f91d823224",
   "metadata": {},
   "source": [
    "144. Write a Python program to check whether a variable is an integer or string."
   ]
  },
  {
   "cell_type": "code",
   "execution_count": 4,
   "id": "a2278f7a-3fcd-42de-975e-5517fe9fe5eb",
   "metadata": {},
   "outputs": [
    {
     "name": "stdout",
     "output_type": "stream",
     "text": [
      "Integer\n",
      "String\n"
     ]
    }
   ],
   "source": [
    "var1 = 3\n",
    "var2 = 'glugu'\n",
    "\n",
    "def var_check(v):\n",
    "    if isinstance(v, int):\n",
    "        print('Integer')\n",
    "    elif isinstance(v, str):\n",
    "        print('String')\n",
    "var_check(var1)\n",
    "var_check(var2)"
   ]
  },
  {
   "cell_type": "markdown",
   "id": "eea8ff2c-7fd9-497d-a382-f3fbfca6eaaa",
   "metadata": {},
   "source": [
    "145. Write a Python program to test if a variable is a list, tuple, or set."
   ]
  },
  {
   "cell_type": "code",
   "execution_count": 16,
   "id": "72dd59c0-b63c-4bbe-9365-3b408657e3c7",
   "metadata": {},
   "outputs": [
    {
     "name": "stdout",
     "output_type": "stream",
     "text": [
      "x is a list\n",
      "x is tuple\n",
      "x is set\n"
     ]
    }
   ],
   "source": [
    "l1 = [2,3,4]\n",
    "t1 = ('tuple', False, 3.2, 1)\n",
    "d1 = set(l1)\n",
    "\n",
    "def type_check(x):\n",
    "    if type(x) is list:\n",
    "        print('x is a list')\n",
    "    elif type(x) is tuple:\n",
    "        print('x is tuple')\n",
    "    elif type(x) is set:\n",
    "        print('x is set')\n",
    "\n",
    "type_check(l1)\n",
    "type_check(t1)\n",
    "type_check(d1)"
   ]
  },
  {
   "cell_type": "markdown",
   "id": "b28826ea-11b6-4a4a-8ac8-09c73828f5cf",
   "metadata": {},
   "source": [
    "147. Write a Python function to check whether a number is divisible by another number. Accept two integer values from the user."
   ]
  },
  {
   "cell_type": "code",
   "execution_count": 18,
   "id": "ae3293c8-5cfd-40f9-ab9d-9480a4ecdc75",
   "metadata": {},
   "outputs": [
    {
     "name": "stdin",
     "output_type": "stream",
     "text": [
      "Enter the number you want to divide:  6\n",
      "Enter the number that should divide:  2\n"
     ]
    },
    {
     "name": "stdout",
     "output_type": "stream",
     "text": [
      "Yes, divisible.\n"
     ]
    }
   ],
   "source": [
    "number1 = int(input('Enter the number you want to divide: '))\n",
    "number2 = int(input('Enter the number that should divide: '))\n",
    "\n",
    "if number1 % number2 == 0:\n",
    "    print('Yes, divisible.')\n",
    "else:\n",
    "    print('No, not divisible.')"
   ]
  },
  {
   "cell_type": "markdown",
   "id": "0468c421-5c52-4a08-8127-7f9f8b2ccfb3",
   "metadata": {},
   "source": [
    "148. Write a Python function to find the maximum and minimum numbers from a sequence of numbers.\n",
    "Note: Do not use built-in functions."
   ]
  },
  {
   "cell_type": "code",
   "execution_count": 21,
   "id": "135e6d32-2ecf-4ef1-a870-74e1b487f5d3",
   "metadata": {},
   "outputs": [
    {
     "name": "stdout",
     "output_type": "stream",
     "text": [
      "Max number is 9 and min number is 2\n"
     ]
    }
   ],
   "source": [
    "l1 = [4,5,6,2,9]\n",
    "\n",
    "def max_min(l1):\n",
    "    max_n = l1[0]\n",
    "    min_n = l1[0]\n",
    "    for i in l1:\n",
    "        if i > max_n:\n",
    "            max_n = i\n",
    "        if i < min_n:\n",
    "            min_n = i\n",
    "    print(f'Max number is {max_n} and min number is {min_n}')\n",
    "\n",
    "max_min(l1)"
   ]
  },
  {
   "cell_type": "markdown",
   "id": "9fcd512e-30f2-4d2a-b51a-3b0544458361",
   "metadata": {},
   "source": [
    "149. Write a Python function that takes a positive integer and returns the sum of the cube of all positive integers smaller than the specified number."
   ]
  },
  {
   "cell_type": "code",
   "execution_count": 26,
   "id": "e4afb6c0-d4a9-47da-abfa-478a5ca8517e",
   "metadata": {},
   "outputs": [
    {
     "name": "stdout",
     "output_type": "stream",
     "text": [
      "Cube Sum for 3:  9\n"
     ]
    }
   ],
   "source": [
    "def cube_list(n):\n",
    "    cube_sum = 0\n",
    "    for i in range(0, n):\n",
    "        cube_sum += i ** 3\n",
    "    return cube_sum\n",
    "\n",
    "print('Cube Sum for 3: ', cube_list(3))"
   ]
  },
  {
   "cell_type": "markdown",
   "id": "aea9ae01-2cf9-4e02-a090-d6d1c527e322",
   "metadata": {},
   "source": [
    "150. Write a Python function to check whether a distinct pair of numbers whose product is odd is present in a sequence of integer values."
   ]
  },
  {
   "cell_type": "code",
   "execution_count": 32,
   "id": "e37704b8-aa9b-4056-8a0a-c9f9539fdeb3",
   "metadata": {},
   "outputs": [
    {
     "name": "stdout",
     "output_type": "stream",
     "text": [
      "Any pair?  (1, 3)\n"
     ]
    }
   ],
   "source": [
    "l1 = [1, 2, 3, 4, 7]\n",
    "\n",
    "def odd_prod(l1):\n",
    "    for i in range(len(l1)):\n",
    "        for j in range(i + 1, len(l1)):\n",
    "            if (l1[i] * l1[j]) % 2 != 0:\n",
    "                return l1[i], l1[j]\n",
    "    return None\n",
    "\n",
    "print('Any pair? ', odd_prod(l1))"
   ]
  },
  {
   "cell_type": "code",
   "execution_count": null,
   "id": "de550519-1877-4ff4-adc5-cc9391048b8f",
   "metadata": {},
   "outputs": [],
   "source": []
  }
 ],
 "metadata": {
  "kernelspec": {
   "display_name": "Python 3 (ipykernel)",
   "language": "python",
   "name": "python3"
  },
  "language_info": {
   "codemirror_mode": {
    "name": "ipython",
    "version": 3
   },
   "file_extension": ".py",
   "mimetype": "text/x-python",
   "name": "python",
   "nbconvert_exporter": "python",
   "pygments_lexer": "ipython3",
   "version": "3.12.6"
  }
 },
 "nbformat": 4,
 "nbformat_minor": 5
}
