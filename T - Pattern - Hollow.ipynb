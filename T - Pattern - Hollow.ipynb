{
 "cells": [
  {
   "cell_type": "markdown",
   "id": "fe26a54f-75e5-44c6-9900-1f71d27682d5",
   "metadata": {},
   "source": [
    "Rules:\n",
    "\n",
    "1. First Row ----> i == 0\n",
    "2. Last Row -----> i == n - 1\n",
    "3. First Col ----> j == 0\n",
    "4. Last Col -----> j == n - 1\n",
    "5. Middle Row/Column ------> i == n // 2 or j == n // 2\n",
    "6. Major Diagnol ----------> i == j\n",
    "7. Minor Diagnol ----------> i + j == n - 1"
   ]
  },
  {
   "cell_type": "code",
   "execution_count": 1,
   "id": "98dcb936-1f9c-4f79-9918-00d2fe9507b1",
   "metadata": {},
   "outputs": [],
   "source": [
    "n = 5"
   ]
  },
  {
   "cell_type": "markdown",
   "id": "76fb0330-cb2a-4927-be20-8845871aa394",
   "metadata": {},
   "source": [
    "1. Hollow Square"
   ]
  },
  {
   "cell_type": "code",
   "execution_count": 3,
   "id": "8eca2193-f122-47a7-b8f1-b214968b8c7c",
   "metadata": {},
   "outputs": [
    {
     "name": "stdout",
     "output_type": "stream",
     "text": [
      "* * * * * \n",
      "*       * \n",
      "*       * \n",
      "*       * \n",
      "* * * * * \n"
     ]
    }
   ],
   "source": [
    "# Print * for only - First row, Last row, First Col, Last Col\n",
    "for i in range(n):\n",
    "    for j in range(n):\n",
    "        if (i == 0 or i == n-1 or j == 0 or j == n-1):\n",
    "            print('*' , end = ' ')\n",
    "        else:\n",
    "            print(' ', end = ' ')\n",
    "    print()"
   ]
  },
  {
   "cell_type": "markdown",
   "id": "ea68d4bb-6904-4a9e-b8f6-2c61c14d8742",
   "metadata": {},
   "source": [
    "2. Square Parallel Bar "
   ]
  },
  {
   "cell_type": "code",
   "execution_count": 8,
   "id": "a53f574d-80f7-4254-9a89-4721860171d5",
   "metadata": {},
   "outputs": [
    {
     "name": "stdout",
     "output_type": "stream",
     "text": [
      "*       * \n",
      "*       * \n",
      "*       * \n",
      "*       * \n",
      "*       * \n"
     ]
    }
   ],
   "source": [
    "# Print * for only - First and Last Col\n",
    "for i in range(n):\n",
    "    for j in range(n):\n",
    "        if j == 0 or j == n - 1:\n",
    "            print('*', end = ' ')\n",
    "        else:\n",
    "            print(' ', end = ' ')\n",
    "    print()"
   ]
  },
  {
   "cell_type": "markdown",
   "id": "1936e6ce-cbca-459b-893a-762529efa505",
   "metadata": {},
   "source": [
    "3. Square Plus Pattern"
   ]
  },
  {
   "cell_type": "code",
   "execution_count": 9,
   "id": "c5ba8231-f5ca-4e42-bcec-4b1eeaf41cba",
   "metadata": {},
   "outputs": [
    {
     "name": "stdout",
     "output_type": "stream",
     "text": [
      "    *     \n",
      "    *     \n",
      "* * * * * \n",
      "    *     \n",
      "    *     \n"
     ]
    }
   ],
   "source": [
    "# Print * for only - Middle row and col\n",
    "for i in range(n):\n",
    "    for j in range(n):\n",
    "        if (i == n // 2 or j == n // 2):\n",
    "            print('*', end = ' ')\n",
    "        else:\n",
    "            print(' ', end = ' ')\n",
    "    print()"
   ]
  },
  {
   "cell_type": "markdown",
   "id": "98f61074-5a6f-4a8c-80ba-5c7b0c35d51e",
   "metadata": {},
   "source": [
    "4. Cross Pattern"
   ]
  },
  {
   "cell_type": "code",
   "execution_count": 11,
   "id": "411e20ad-1c37-4975-8342-f3645e2d8f7c",
   "metadata": {},
   "outputs": [
    {
     "name": "stdout",
     "output_type": "stream",
     "text": [
      "*       * \n",
      "  *   *   \n",
      "    *     \n",
      "  *   *   \n",
      "*       * \n"
     ]
    }
   ],
   "source": [
    "# Print * for only Diagnols\n",
    "for i in range(n):\n",
    "    for j in range(n):\n",
    "        if i == j or i + j == n - 1:\n",
    "            print('*', end = ' ')\n",
    "        else:\n",
    "            print(' ', end = ' ')\n",
    "    print()"
   ]
  },
  {
   "cell_type": "markdown",
   "id": "815082f0-95e9-4073-ac8d-724fa88c64bc",
   "metadata": {},
   "source": [
    "5. Hollow Triangle Pattern"
   ]
  },
  {
   "cell_type": "code",
   "execution_count": 12,
   "id": "850cb71c-5b38-48a2-a4da-efe17035b3dc",
   "metadata": {},
   "outputs": [
    {
     "name": "stdout",
     "output_type": "stream",
     "text": [
      "* \n",
      "* * \n",
      "*   * \n",
      "*     * \n",
      "* * * * * \n"
     ]
    }
   ],
   "source": [
    "# Print * for only - First col ( j == 0), Last row (i == n - 1), i == j\n",
    "for i in range(n):\n",
    "    for j in range(i + 1):\n",
    "        if (j == 0 or i == n - 1 or i == j):\n",
    "            print('*', end = ' ')\n",
    "        else:\n",
    "            print(' ', end = ' ')\n",
    "    print()"
   ]
  },
  {
   "cell_type": "markdown",
   "id": "b32bbfcf-83c7-47ae-9a76-1b0ec9bda5eb",
   "metadata": {},
   "source": [
    "6. Hollow Reverse Triangle Pattern"
   ]
  },
  {
   "cell_type": "code",
   "execution_count": 16,
   "id": "3a454003-b869-4582-99b6-d1672b0e0a9f",
   "metadata": {},
   "outputs": [
    {
     "name": "stdout",
     "output_type": "stream",
     "text": [
      "* * * * * \n",
      "*     * \n",
      "*   * \n",
      "* * \n",
      "* \n"
     ]
    }
   ],
   "source": [
    "# Print * for only - First row (i == 0), First col (j == 0), Diagnol (j == n - 1)\n",
    "for i in range(n):\n",
    "    for j in range(i, n):\n",
    "        if (i == 0 or j == i or j == n - 1):\n",
    "            print('*', end = ' ')\n",
    "        else:\n",
    "            print(' ', end = ' ')\n",
    "    print()"
   ]
  },
  {
   "cell_type": "markdown",
   "id": "a772083b-2f26-4f0c-bab5-5a6171e8f9df",
   "metadata": {},
   "source": [
    "7. Hollow Hill Pattern"
   ]
  },
  {
   "cell_type": "code",
   "execution_count": 19,
   "id": "438935ce-1674-453f-83e4-65f649bc6df0",
   "metadata": {},
   "outputs": [
    {
     "name": "stdout",
     "output_type": "stream",
     "text": [
      "          * \n",
      "        *   * \n",
      "      *       * \n",
      "    *           * \n",
      "  * * * * * * * * * \n"
     ]
    }
   ],
   "source": [
    "# Print * for - 2nd Triangle - Diagnol (j == 0), last row (i == n - 1) ; 3rd Triangle - DIagnol (i == j), last row (i == n - 1)\n",
    "for i in range(n):\n",
    "    # 1st Triangle - Spaces\n",
    "    for j in range(i, n):\n",
    "        print(' ', end =' ')\n",
    "    # 2nd Triangle\n",
    "    for j in range(i):\n",
    "        if (j == 0 or i == n - 1):\n",
    "            print('*', end = ' ')\n",
    "        else:\n",
    "            print(' ', end = ' ')\n",
    "    # 3rd Triangle\n",
    "    for j in range(i + 1):\n",
    "        if (i == j or i == n - 1):\n",
    "            print('*', end = ' ')\n",
    "        else:\n",
    "            print(' ', end =' ')\n",
    "    print()"
   ]
  },
  {
   "cell_type": "markdown",
   "id": "88255184-4243-4678-9ecf-69b2aded20d6",
   "metadata": {},
   "source": [
    "8. Hollow Diamond Pattern"
   ]
  },
  {
   "cell_type": "code",
   "execution_count": 34,
   "id": "f7ffe42f-7d9f-4289-9df8-1798405fee79",
   "metadata": {},
   "outputs": [
    {
     "name": "stdout",
     "output_type": "stream",
     "text": [
      "          * \n",
      "        *   * \n",
      "      *       * \n",
      "    *           * \n",
      "  *               *   \n",
      "    *           *   \n",
      "      *       *   \n",
      "        *   *   \n",
      "          *   \n"
     ]
    }
   ],
   "source": [
    "# Print * for - 2nd Triangle - Diagnol (j == 0) ; 3rd Triangle - Diagnol (i == j) ; 5th Triangle - Diagnol (i == j) ; 6th Triangle - Diagnol (j == n -2)\n",
    "\n",
    "for i in range(n - 1):\n",
    "    # 1st - Spaces\n",
    "    for j in range(i, n):\n",
    "        print(' ', end = ' ')\n",
    "    # 2nd \n",
    "    for j in range(i):\n",
    "        if j == 0:\n",
    "            print('*', end = ' ')\n",
    "        else:\n",
    "            print(' ', end = ' ')\n",
    "    # 3rd\n",
    "    for j in range(i + 1):\n",
    "        if i == j:\n",
    "            print('*', end = ' ')\n",
    "        else:\n",
    "            print(' ', end = ' ')\n",
    "    print()\n",
    "for i in range(n):\n",
    "    # 4th\n",
    "    for j in range(i + 1):\n",
    "        print(' ', end =' ')\n",
    "    # 5th\n",
    "    for j in range(i, n):\n",
    "        if i == j:\n",
    "            print('*', end = ' ')\n",
    "        else:\n",
    "            print(' ', end =' ')\n",
    "    #6th\n",
    "    for j in range(i, n):\n",
    "        if j == n - 2:\n",
    "            print('*', end =' ')\n",
    "        else:\n",
    "            print(' ', end = ' ')\n",
    "    print()\n",
    "        "
   ]
  },
  {
   "cell_type": "code",
   "execution_count": null,
   "id": "cf94abcf-7429-4460-a073-5c2449cca96a",
   "metadata": {},
   "outputs": [],
   "source": []
  }
 ],
 "metadata": {
  "kernelspec": {
   "display_name": "Python 3 (ipykernel)",
   "language": "python",
   "name": "python3"
  },
  "language_info": {
   "codemirror_mode": {
    "name": "ipython",
    "version": 3
   },
   "file_extension": ".py",
   "mimetype": "text/x-python",
   "name": "python",
   "nbconvert_exporter": "python",
   "pygments_lexer": "ipython3",
   "version": "3.12.6"
  }
 },
 "nbformat": 4,
 "nbformat_minor": 5
}
