{
 "cells": [
  {
   "cell_type": "markdown",
   "id": "0b2473b5-0a3a-476c-96fb-67eacddfed79",
   "metadata": {},
   "source": [
    "# QUESTION 1 - Three in One\n",
    "## How can we implement three stacks in one python list."
   ]
  },
  {
   "cell_type": "code",
   "execution_count": 2,
   "id": "17a43ac0-f9f9-449f-aca6-ad38d54f5c5a",
   "metadata": {},
   "outputs": [],
   "source": [
    "class MultiStack:\n",
    "\n",
    "    def __init__(self, stacksize):\n",
    "        self.numberstacks = 3\n",
    "        self.customlist = [0] * (stacksize * self.numberstacks)\n",
    "        self.sizes = [0] * self.numberstacks\n",
    "        self.stacksize = stacksize\n",
    "\n",
    "    def isfull(self, stacknum):\n",
    "        if self.sizes[stacknum] == self.stacksize:\n",
    "            return True\n",
    "        return False\n",
    "\n",
    "    def isempty(self, stacknum):\n",
    "        if self.sizes[stacknum] == 0:\n",
    "            return True\n",
    "        return False\n",
    "\n",
    "    def indexoftop(self, stacknum):\n",
    "        offset = stacknum * self.stacksize\n",
    "        return offset + self.sizes[stacknum] - 1\n",
    "\n",
    "    def push(self, value, stacknum):\n",
    "        if self.isfull(stacknum):\n",
    "            return \"This stack is full\"\n",
    "        else:\n",
    "            self.sizes[stacknum] += 1\n",
    "            self.customlist[self.indexoftop(stacknum)] = value\n",
    "\n",
    "    def pop(self, stacknum):\n",
    "        if self.isempty(stacknum):\n",
    "            return \"This stack is empty\"\n",
    "        else:\n",
    "            value = self.customlist[self.indexoftop(stacknum)]\n",
    "            self.customlist[self.indexoftop(stacknum)] = 0\n",
    "            self.sizes[stacknum] -= 1\n",
    "            return value\n",
    "\n",
    "    def peek(self, stacknum):\n",
    "        if self.isempty(stacknum):\n",
    "            return \"This stack is empty\"\n",
    "        else:\n",
    "            value = self.customlist[self.indexoftop(stacknum)]\n",
    "            return value"
   ]
  },
  {
   "cell_type": "code",
   "execution_count": 7,
   "id": "d2ab4eb9-de4c-45e6-9f42-c97fb0d44e05",
   "metadata": {},
   "outputs": [
    {
     "name": "stdout",
     "output_type": "stream",
     "text": [
      "Is stack 2 full?  False\n",
      "Is stack 1 empty?  True\n",
      "Peek Stack 1?  2\n",
      "Peek Stack 2?  This stack is empty\n",
      "Peek Stack 3?  3\n",
      "After Pop is Stack 3 This stack is empty\n"
     ]
    }
   ],
   "source": [
    "ms = MultiStack(6)\n",
    "\n",
    "print(\"Is stack 2 full? \", ms.isfull(1))\n",
    "print(\"Is stack 1 empty? \", ms.isempty(0))\n",
    "ms.push(1, 0)\n",
    "ms.push(2, 0)\n",
    "ms.push(3, 2)\n",
    "print(\"Peek Stack 1? \", ms.peek(0))\n",
    "print(\"Peek Stack 2? \", ms.peek(1))\n",
    "print(\"Peek Stack 3? \", ms.peek(2))\n",
    "ms.pop(2)\n",
    "print(\"After Pop is Stack 3\", ms.peek(2))"
   ]
  },
  {
   "cell_type": "code",
   "execution_count": null,
   "id": "593f80ac-5c03-4afb-9c51-936ffb61ae32",
   "metadata": {},
   "outputs": [],
   "source": []
  }
 ],
 "metadata": {
  "kernelspec": {
   "display_name": "Python 3 (ipykernel)",
   "language": "python",
   "name": "python3"
  },
  "language_info": {
   "codemirror_mode": {
    "name": "ipython",
    "version": 3
   },
   "file_extension": ".py",
   "mimetype": "text/x-python",
   "name": "python",
   "nbconvert_exporter": "python",
   "pygments_lexer": "ipython3",
   "version": "3.12.6"
  }
 },
 "nbformat": 4,
 "nbformat_minor": 5
}
