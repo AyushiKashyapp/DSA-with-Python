{
 "cells": [
  {
   "cell_type": "markdown",
   "id": "c5772be1-8be3-4010-aecb-f069ed00705d",
   "metadata": {},
   "source": [
    "# Recursion in 3 steps"
   ]
  },
  {
   "cell_type": "markdown",
   "id": "b4bc52ae-1a9d-493f-9045-4ff4fa8ecb2a",
   "metadata": {},
   "source": [
    "## Factorial"
   ]
  },
  {
   "cell_type": "markdown",
   "id": "1b62cdbb-4c07-454c-96e4-1305ab886c49",
   "metadata": {},
   "source": [
    "STEP 1: Recursive Case - The flow (Here, Factorial). What is it that we want to run recursively."
   ]
  },
  {
   "cell_type": "code",
   "execution_count": 10,
   "id": "a966300c-1338-4ded-a97d-571e3e9b8ef4",
   "metadata": {},
   "outputs": [],
   "source": [
    "def factorial(n):\n",
    "    return n * factorial (n-1)"
   ]
  },
  {
   "cell_type": "markdown",
   "id": "a7eaaa32-77d4-40b9-98d7-b6caed7bb9b3",
   "metadata": {},
   "source": [
    "STEP 2: Base Case - The Stopping Criteria (The base condition to stop the recursive calls)"
   ]
  },
  {
   "cell_type": "code",
   "execution_count": 11,
   "id": "b3230de2-6161-47cf-b635-2d3e6ed3cd49",
   "metadata": {},
   "outputs": [],
   "source": [
    "def factorial(n):\n",
    "    if n in [0, 1]:\n",
    "        return 1\n",
    "    else:\n",
    "        return n * factorial(n-1)"
   ]
  },
  {
   "cell_type": "code",
   "execution_count": 12,
   "id": "7a11ca0e-9d34-4c6e-82e0-f5f69b5aa678",
   "metadata": {},
   "outputs": [
    {
     "name": "stdout",
     "output_type": "stream",
     "text": [
      "Factorial of 3 is 6\n",
      "Factorial of 4 is 24\n"
     ]
    }
   ],
   "source": [
    "print(\"Factorial of 3 is\", factorial(3))\n",
    "print(\"Factorial of 4 is\", factorial(4))"
   ]
  },
  {
   "cell_type": "markdown",
   "id": "eb41b631-3470-43be-82c0-bdf7752f6f0a",
   "metadata": {},
   "source": [
    "STEP 3: Unintentional Case - The Constraint"
   ]
  },
  {
   "cell_type": "code",
   "execution_count": 7,
   "id": "7538af12-97b2-4f6e-afd1-d50ff1d4ff80",
   "metadata": {},
   "outputs": [],
   "source": [
    "def factorial(n):\n",
    "    assert n >= 0 and int(n) == n, \"The number must be a positive integer.\"\n",
    "    if n in [0,1]:\n",
    "        return 1\n",
    "    else:\n",
    "        n * factorial (n-1)"
   ]
  },
  {
   "cell_type": "code",
   "execution_count": 8,
   "id": "c24f7797-dc25-4189-9adc-a8de5733a7d7",
   "metadata": {},
   "outputs": [
    {
     "ename": "AssertionError",
     "evalue": "The number must be a positive integer.",
     "output_type": "error",
     "traceback": [
      "\u001b[1;31m---------------------------------------------------------------------------\u001b[0m",
      "\u001b[1;31mAssertionError\u001b[0m                            Traceback (most recent call last)",
      "Cell \u001b[1;32mIn[8], line 1\u001b[0m\n\u001b[1;32m----> 1\u001b[0m \u001b[38;5;28mprint\u001b[39m(\u001b[38;5;124m\"\u001b[39m\u001b[38;5;124mFactorial of -1 is\u001b[39m\u001b[38;5;124m\"\u001b[39m, \u001b[43mfactorial\u001b[49m\u001b[43m(\u001b[49m\u001b[38;5;241;43m-\u001b[39;49m\u001b[38;5;241;43m1\u001b[39;49m\u001b[43m)\u001b[49m)\n\u001b[0;32m      2\u001b[0m \u001b[38;5;28mprint\u001b[39m(\u001b[38;5;124m\"\u001b[39m\u001b[38;5;124mFactorial of 4.5 is\u001b[39m\u001b[38;5;124m\"\u001b[39m, factorial(\u001b[38;5;241m4.5\u001b[39m))\n",
      "Cell \u001b[1;32mIn[7], line 2\u001b[0m, in \u001b[0;36mfactorial\u001b[1;34m(n)\u001b[0m\n\u001b[0;32m      1\u001b[0m \u001b[38;5;28;01mdef\u001b[39;00m \u001b[38;5;21mfactorial\u001b[39m(n):\n\u001b[1;32m----> 2\u001b[0m     \u001b[38;5;28;01massert\u001b[39;00m n \u001b[38;5;241m>\u001b[39m\u001b[38;5;241m=\u001b[39m \u001b[38;5;241m0\u001b[39m \u001b[38;5;129;01mand\u001b[39;00m \u001b[38;5;28mint\u001b[39m(n) \u001b[38;5;241m==\u001b[39m n, \u001b[38;5;124m\"\u001b[39m\u001b[38;5;124mThe number must be a positive integer.\u001b[39m\u001b[38;5;124m\"\u001b[39m\n\u001b[0;32m      3\u001b[0m     \u001b[38;5;28;01mif\u001b[39;00m n \u001b[38;5;129;01min\u001b[39;00m [\u001b[38;5;241m0\u001b[39m,\u001b[38;5;241m1\u001b[39m]:\n\u001b[0;32m      4\u001b[0m         \u001b[38;5;28;01mreturn\u001b[39;00m \u001b[38;5;241m1\u001b[39m\n",
      "\u001b[1;31mAssertionError\u001b[0m: The number must be a positive integer."
     ]
    }
   ],
   "source": [
    "print(\"Factorial of -1 is\", factorial(-1))\n",
    "print(\"Factorial of 4.5 is\", factorial(4.5))"
   ]
  },
  {
   "cell_type": "markdown",
   "id": "07ccecbf-d77e-4a80-8b40-a86de144d485",
   "metadata": {},
   "source": [
    "## Fibonacci Series\n",
    "Sequence of numbers where each number is a sumof two preceeding ones and sequence starts from 0 or 1."
   ]
  },
  {
   "cell_type": "markdown",
   "id": "306f2c33-c83a-483a-9640-95eb2784c627",
   "metadata": {},
   "source": [
    "STEP 1: Recursive Case - The flow (Here, Factorial). What is it that we want to run recursively."
   ]
  },
  {
   "cell_type": "code",
   "execution_count": 13,
   "id": "eef1fd02-7b62-45c7-af26-692f0e42554d",
   "metadata": {},
   "outputs": [],
   "source": [
    "def fibonacci(n):\n",
    "    return fibonacci(n-1) + fibonacci(n-2)"
   ]
  },
  {
   "cell_type": "markdown",
   "id": "22e18df3-74ea-4237-82ee-ceb57ce48653",
   "metadata": {},
   "source": [
    "STEP 2: Base Case - The Stopping Criteria (The base condition to stop the recursive calls)"
   ]
  },
  {
   "cell_type": "code",
   "execution_count": 14,
   "id": "5bbfe64a-aca3-428b-ab4c-0c27763397ff",
   "metadata": {},
   "outputs": [],
   "source": [
    "def fibonacci(n):\n",
    "    if n in [0,1]:\n",
    "        return n\n",
    "    else:\n",
    "        return fibonacci(n-1) + fibonacci(n-2)"
   ]
  },
  {
   "cell_type": "code",
   "execution_count": 15,
   "id": "80268cb8-a216-454b-89dc-9124ebe03918",
   "metadata": {},
   "outputs": [
    {
     "name": "stdout",
     "output_type": "stream",
     "text": [
      "Fibonacci of 3 is 2\n",
      "Fibonacci of 4 is 3\n"
     ]
    }
   ],
   "source": [
    "print(\"Fibonacci of 3 is\", fibonacci(3))\n",
    "print(\"Fibonacci of 4 is\", fibonacci(4))"
   ]
  },
  {
   "cell_type": "markdown",
   "id": "ec685c47-3255-420b-a672-e3c06bfbbc77",
   "metadata": {},
   "source": [
    "STEP 3: Unintentional Case - The Constraint"
   ]
  },
  {
   "cell_type": "code",
   "execution_count": 16,
   "id": "e7eeec58-20de-4e91-8984-d27745addbb2",
   "metadata": {},
   "outputs": [],
   "source": [
    "def fibonacci(n):\n",
    "    assert n >= 0 and int(n) == n, \"The number must be a positive integer for Fibonacci\"\n",
    "    if n in [0,1]:\n",
    "        return n\n",
    "    return fibonacci(n-1) + fibonacci(n-2)"
   ]
  },
  {
   "cell_type": "code",
   "execution_count": 17,
   "id": "66f06009-1c9c-478d-8670-fb124830edf3",
   "metadata": {},
   "outputs": [
    {
     "ename": "AssertionError",
     "evalue": "The number must be a positive integer for Fibonacci",
     "output_type": "error",
     "traceback": [
      "\u001b[1;31m---------------------------------------------------------------------------\u001b[0m",
      "\u001b[1;31mAssertionError\u001b[0m                            Traceback (most recent call last)",
      "Cell \u001b[1;32mIn[17], line 1\u001b[0m\n\u001b[1;32m----> 1\u001b[0m \u001b[38;5;28mprint\u001b[39m(\u001b[38;5;124m\"\u001b[39m\u001b[38;5;124mFibonacci of -1 is\u001b[39m\u001b[38;5;124m\"\u001b[39m, \u001b[43mfibonacci\u001b[49m\u001b[43m(\u001b[49m\u001b[38;5;241;43m-\u001b[39;49m\u001b[38;5;241;43m1\u001b[39;49m\u001b[43m)\u001b[49m)\n\u001b[0;32m      2\u001b[0m \u001b[38;5;28mprint\u001b[39m(\u001b[38;5;124m\"\u001b[39m\u001b[38;5;124mFibonacci of 4.5 is\u001b[39m\u001b[38;5;124m\"\u001b[39m, fibonacci(\u001b[38;5;241m4.5\u001b[39m))\n",
      "Cell \u001b[1;32mIn[16], line 2\u001b[0m, in \u001b[0;36mfibonacci\u001b[1;34m(n)\u001b[0m\n\u001b[0;32m      1\u001b[0m \u001b[38;5;28;01mdef\u001b[39;00m \u001b[38;5;21mfibonacci\u001b[39m(n):\n\u001b[1;32m----> 2\u001b[0m     \u001b[38;5;28;01massert\u001b[39;00m n \u001b[38;5;241m>\u001b[39m\u001b[38;5;241m=\u001b[39m \u001b[38;5;241m0\u001b[39m \u001b[38;5;129;01mand\u001b[39;00m \u001b[38;5;28mint\u001b[39m(n) \u001b[38;5;241m==\u001b[39m n, \u001b[38;5;124m\"\u001b[39m\u001b[38;5;124mThe number must be a positive integer for Fibonacci\u001b[39m\u001b[38;5;124m\"\u001b[39m\n\u001b[0;32m      3\u001b[0m     \u001b[38;5;28;01mif\u001b[39;00m n \u001b[38;5;129;01min\u001b[39;00m [\u001b[38;5;241m0\u001b[39m,\u001b[38;5;241m1\u001b[39m]:\n\u001b[0;32m      4\u001b[0m         \u001b[38;5;28;01mreturn\u001b[39;00m n\n",
      "\u001b[1;31mAssertionError\u001b[0m: The number must be a positive integer for Fibonacci"
     ]
    }
   ],
   "source": [
    "print(\"Fibonacci of -1 is\", fibonacci(-1))\n",
    "print(\"Fibonacci of 4.5 is\", fibonacci(4.5))"
   ]
  },
  {
   "cell_type": "markdown",
   "id": "1ba19fce-4e41-4181-b72d-a932ab91f5ed",
   "metadata": {},
   "source": [
    "# Practise Questions"
   ]
  },
  {
   "cell_type": "markdown",
   "id": "b1d7fd6d-f431-487e-8b0c-03b6688569a3",
   "metadata": {},
   "source": [
    "## 1. Find sum of digits of a positive number using recursion."
   ]
  },
  {
   "cell_type": "code",
   "execution_count": 7,
   "id": "7d69301a-577f-4000-970d-166692d04ff5",
   "metadata": {},
   "outputs": [],
   "source": [
    "def sumdigit(n):\n",
    "    assert n>=0 and int(n) == n, \"The number has to a positive integer.\" #STEP 3\n",
    "    if n == 0: #STEP 2\n",
    "        return 0\n",
    "    else:\n",
    "        return int(n%10) + sumdigit(int(n//10)) # STEP 1"
   ]
  },
  {
   "cell_type": "code",
   "execution_count": 8,
   "id": "b71ce2c8-ff77-4850-9231-c0ae08a570eb",
   "metadata": {},
   "outputs": [
    {
     "name": "stdout",
     "output_type": "stream",
     "text": [
      "Sum Digit for 11  2\n",
      "Sum Digit for 52  7\n",
      "Sum Digit for 34  7\n"
     ]
    },
    {
     "ename": "AssertionError",
     "evalue": "The number has to a positive integer.",
     "output_type": "error",
     "traceback": [
      "\u001b[1;31m---------------------------------------------------------------------------\u001b[0m",
      "\u001b[1;31mAssertionError\u001b[0m                            Traceback (most recent call last)",
      "Cell \u001b[1;32mIn[8], line 4\u001b[0m\n\u001b[0;32m      2\u001b[0m \u001b[38;5;28mprint\u001b[39m(\u001b[38;5;124m\"\u001b[39m\u001b[38;5;124mSum Digit for 52 \u001b[39m\u001b[38;5;124m\"\u001b[39m,sumdigit(\u001b[38;5;241m52\u001b[39m))\n\u001b[0;32m      3\u001b[0m \u001b[38;5;28mprint\u001b[39m(\u001b[38;5;124m\"\u001b[39m\u001b[38;5;124mSum Digit for 34 \u001b[39m\u001b[38;5;124m\"\u001b[39m,sumdigit(\u001b[38;5;241m34\u001b[39m))\n\u001b[1;32m----> 4\u001b[0m \u001b[38;5;28mprint\u001b[39m(\u001b[38;5;124m\"\u001b[39m\u001b[38;5;124mSum Digit for -34 \u001b[39m\u001b[38;5;124m\"\u001b[39m,\u001b[43msumdigit\u001b[49m\u001b[43m(\u001b[49m\u001b[38;5;241;43m-\u001b[39;49m\u001b[38;5;241;43m34\u001b[39;49m\u001b[43m)\u001b[49m)\n",
      "Cell \u001b[1;32mIn[7], line 2\u001b[0m, in \u001b[0;36msumdigit\u001b[1;34m(n)\u001b[0m\n\u001b[0;32m      1\u001b[0m \u001b[38;5;28;01mdef\u001b[39;00m \u001b[38;5;21msumdigit\u001b[39m(n):\n\u001b[1;32m----> 2\u001b[0m     \u001b[38;5;28;01massert\u001b[39;00m n\u001b[38;5;241m>\u001b[39m\u001b[38;5;241m=\u001b[39m\u001b[38;5;241m0\u001b[39m \u001b[38;5;129;01mand\u001b[39;00m \u001b[38;5;28mint\u001b[39m(n) \u001b[38;5;241m==\u001b[39m n, \u001b[38;5;124m\"\u001b[39m\u001b[38;5;124mThe number has to a positive integer.\u001b[39m\u001b[38;5;124m\"\u001b[39m \u001b[38;5;66;03m#STEP 3\u001b[39;00m\n\u001b[0;32m      3\u001b[0m     \u001b[38;5;28;01mif\u001b[39;00m n \u001b[38;5;241m==\u001b[39m \u001b[38;5;241m0\u001b[39m: \u001b[38;5;66;03m#STEP 2\u001b[39;00m\n\u001b[0;32m      4\u001b[0m         \u001b[38;5;28;01mreturn\u001b[39;00m \u001b[38;5;241m0\u001b[39m\n",
      "\u001b[1;31mAssertionError\u001b[0m: The number has to a positive integer."
     ]
    }
   ],
   "source": [
    "print(\"Sum Digit for 11 \",sumdigit(11))\n",
    "print(\"Sum Digit for 52 \",sumdigit(52))\n",
    "print(\"Sum Digit for 34 \",sumdigit(34))\n",
    "print(\"Sum Digit for -34 \",sumdigit(-34))"
   ]
  },
  {
   "cell_type": "markdown",
   "id": "1a02ce7c-b5bd-4ae9-a4b3-c42473281f45",
   "metadata": {},
   "source": [
    "## 2. Find the power of a number using recursion."
   ]
  },
  {
   "cell_type": "code",
   "execution_count": 14,
   "id": "14c1f0d3-d72a-4f2e-b395-0224e9bbcd56",
   "metadata": {},
   "outputs": [],
   "source": [
    "def power(base, exp):\n",
    "    assert int(exp) == exp, \"Exponent must be a positive integer only.\"\n",
    "    if exp == 0:\n",
    "        return 1\n",
    "    elif exp < 0:\n",
    "        return 1/base * power(base, exp + 1)\n",
    "    return base * power(base, exp - 1) # STEP 1"
   ]
  },
  {
   "cell_type": "code",
   "execution_count": 16,
   "id": "44d1eb9f-8801-4609-b9a8-55d2533e1f35",
   "metadata": {},
   "outputs": [
    {
     "name": "stdout",
     "output_type": "stream",
     "text": [
      "Power of 3 by exp 2  9\n",
      "Power of 5 by exp 3  125\n",
      "Power of 7 by exp 2  49\n",
      "Power of -1 by exp 2  1\n",
      "Power of 3.2 by exp 2  10.240000000000002\n",
      "Power of 2.1 by exp -2  0.22675736961451246\n"
     ]
    },
    {
     "ename": "AssertionError",
     "evalue": "Exponent must be a positive integer only.",
     "output_type": "error",
     "traceback": [
      "\u001b[1;31m---------------------------------------------------------------------------\u001b[0m",
      "\u001b[1;31mAssertionError\u001b[0m                            Traceback (most recent call last)",
      "Cell \u001b[1;32mIn[16], line 7\u001b[0m\n\u001b[0;32m      5\u001b[0m \u001b[38;5;28mprint\u001b[39m(\u001b[38;5;124m\"\u001b[39m\u001b[38;5;124mPower of 3.2 by exp 2 \u001b[39m\u001b[38;5;124m\"\u001b[39m,power(\u001b[38;5;241m3.2\u001b[39m, \u001b[38;5;241m2\u001b[39m))\n\u001b[0;32m      6\u001b[0m \u001b[38;5;28mprint\u001b[39m(\u001b[38;5;124m\"\u001b[39m\u001b[38;5;124mPower of 2.1 by exp -2 \u001b[39m\u001b[38;5;124m\"\u001b[39m,power(\u001b[38;5;241m2.1\u001b[39m, \u001b[38;5;241m-\u001b[39m\u001b[38;5;241m2\u001b[39m))\n\u001b[1;32m----> 7\u001b[0m \u001b[38;5;28mprint\u001b[39m(\u001b[38;5;124m\"\u001b[39m\u001b[38;5;124mPower of 2 by exp 1.2 \u001b[39m\u001b[38;5;124m\"\u001b[39m,\u001b[43mpower\u001b[49m\u001b[43m(\u001b[49m\u001b[38;5;241;43m2\u001b[39;49m\u001b[43m,\u001b[49m\u001b[43m \u001b[49m\u001b[38;5;241;43m1.2\u001b[39;49m\u001b[43m)\u001b[49m)\n",
      "Cell \u001b[1;32mIn[14], line 2\u001b[0m, in \u001b[0;36mpower\u001b[1;34m(base, exp)\u001b[0m\n\u001b[0;32m      1\u001b[0m \u001b[38;5;28;01mdef\u001b[39;00m \u001b[38;5;21mpower\u001b[39m(base, exp):\n\u001b[1;32m----> 2\u001b[0m     \u001b[38;5;28;01massert\u001b[39;00m \u001b[38;5;28mint\u001b[39m(exp) \u001b[38;5;241m==\u001b[39m exp, \u001b[38;5;124m\"\u001b[39m\u001b[38;5;124mExponent must be a positive integer only.\u001b[39m\u001b[38;5;124m\"\u001b[39m\n\u001b[0;32m      3\u001b[0m     \u001b[38;5;28;01mif\u001b[39;00m exp \u001b[38;5;241m==\u001b[39m \u001b[38;5;241m0\u001b[39m:\n\u001b[0;32m      4\u001b[0m         \u001b[38;5;28;01mreturn\u001b[39;00m \u001b[38;5;241m1\u001b[39m\n",
      "\u001b[1;31mAssertionError\u001b[0m: Exponent must be a positive integer only."
     ]
    }
   ],
   "source": [
    "print(\"Power of 3 by exp 2 \",power(3, 2))\n",
    "print(\"Power of 5 by exp 3 \",power(5, 3))\n",
    "print(\"Power of 7 by exp 2 \",power(7, 2))\n",
    "print(\"Power of -1 by exp 2 \",power(-1, 2))\n",
    "print(\"Power of 3.2 by exp 2 \",power(3.2, 2))\n",
    "print(\"Power of 2.1 by exp -2 \",power(2.1, -2))\n",
    "print(\"Power of 2 by exp 1.2 \",power(2, 1.2))"
   ]
  },
  {
   "cell_type": "markdown",
   "id": "d16a7ed8-2204-4b10-beb5-8f2119a62694",
   "metadata": {},
   "source": [
    "## 3. Greatest Common Divisor: GCD"
   ]
  },
  {
   "cell_type": "code",
   "execution_count": 20,
   "id": "aab0342c-77a8-4046-ad08-8b1ee1b7aa6c",
   "metadata": {},
   "outputs": [],
   "source": [
    "def gcd(a,b):\n",
    "    assert int(a) == a and int(b) == b, \"Both the numbers should be positive.\" # STEP 3\n",
    "    if a < 0: # Make the numbers positive\n",
    "        a = -1 * a \n",
    "    if b < 0:\n",
    "        b = -1 * b\n",
    "    if b == 0: #STEP 2\n",
    "        return a\n",
    "    return gcd(b, a%b) #STEP 1"
   ]
  },
  {
   "cell_type": "code",
   "execution_count": 22,
   "id": "08b1850e-f9b0-4993-ba35-f2c6b014a8f2",
   "metadata": {},
   "outputs": [
    {
     "name": "stdout",
     "output_type": "stream",
     "text": [
      "GCD of 48, 18 is  6\n",
      "GCD of 48, -18 is  6\n"
     ]
    },
    {
     "ename": "AssertionError",
     "evalue": "Both the numbers should be positive.",
     "output_type": "error",
     "traceback": [
      "\u001b[1;31m---------------------------------------------------------------------------\u001b[0m",
      "\u001b[1;31mAssertionError\u001b[0m                            Traceback (most recent call last)",
      "Cell \u001b[1;32mIn[22], line 3\u001b[0m\n\u001b[0;32m      1\u001b[0m \u001b[38;5;28mprint\u001b[39m(\u001b[38;5;124m\"\u001b[39m\u001b[38;5;124mGCD of 48, 18 is \u001b[39m\u001b[38;5;124m\"\u001b[39m,gcd(\u001b[38;5;241m48\u001b[39m,\u001b[38;5;241m18\u001b[39m))\n\u001b[0;32m      2\u001b[0m \u001b[38;5;28mprint\u001b[39m(\u001b[38;5;124m\"\u001b[39m\u001b[38;5;124mGCD of 48, -18 is \u001b[39m\u001b[38;5;124m\"\u001b[39m,gcd(\u001b[38;5;241m48\u001b[39m,\u001b[38;5;241m-\u001b[39m\u001b[38;5;241m18\u001b[39m))\n\u001b[1;32m----> 3\u001b[0m \u001b[38;5;28mprint\u001b[39m(\u001b[38;5;124m\"\u001b[39m\u001b[38;5;124mGCD of 48, 1.8 is \u001b[39m\u001b[38;5;124m\"\u001b[39m,\u001b[43mgcd\u001b[49m\u001b[43m(\u001b[49m\u001b[38;5;241;43m48\u001b[39;49m\u001b[43m,\u001b[49m\u001b[38;5;241;43m1.8\u001b[39;49m\u001b[43m)\u001b[49m)\n",
      "Cell \u001b[1;32mIn[20], line 2\u001b[0m, in \u001b[0;36mgcd\u001b[1;34m(a, b)\u001b[0m\n\u001b[0;32m      1\u001b[0m \u001b[38;5;28;01mdef\u001b[39;00m \u001b[38;5;21mgcd\u001b[39m(a,b):\n\u001b[1;32m----> 2\u001b[0m     \u001b[38;5;28;01massert\u001b[39;00m \u001b[38;5;28mint\u001b[39m(a) \u001b[38;5;241m==\u001b[39m a \u001b[38;5;129;01mand\u001b[39;00m \u001b[38;5;28mint\u001b[39m(b) \u001b[38;5;241m==\u001b[39m b, \u001b[38;5;124m\"\u001b[39m\u001b[38;5;124mBoth the numbers should be positive.\u001b[39m\u001b[38;5;124m\"\u001b[39m \u001b[38;5;66;03m# STEP 3\u001b[39;00m\n\u001b[0;32m      3\u001b[0m     \u001b[38;5;28;01mif\u001b[39;00m a \u001b[38;5;241m<\u001b[39m \u001b[38;5;241m0\u001b[39m: \u001b[38;5;66;03m# Make the numbers positive\u001b[39;00m\n\u001b[0;32m      4\u001b[0m         a \u001b[38;5;241m=\u001b[39m \u001b[38;5;241m-\u001b[39m\u001b[38;5;241m1\u001b[39m \u001b[38;5;241m*\u001b[39m a \n",
      "\u001b[1;31mAssertionError\u001b[0m: Both the numbers should be positive."
     ]
    }
   ],
   "source": [
    "print(\"GCD of 48, 18 is \",gcd(48,18))\n",
    "print(\"GCD of 48, -18 is \",gcd(48,-18))\n",
    "print(\"GCD of 48, 1.8 is \",gcd(48,1.8))"
   ]
  },
  {
   "cell_type": "markdown",
   "id": "18fa0de8-f109-455d-8e5b-4f2f61104842",
   "metadata": {},
   "source": [
    "## 4. Decimal to Binary"
   ]
  },
  {
   "cell_type": "code",
   "execution_count": 23,
   "id": "605bdf98-593c-421e-9add-72762be687d3",
   "metadata": {},
   "outputs": [],
   "source": [
    "def decimaltobinary(n):\n",
    "    assert int(n) == n, \"The number should be integer\"\n",
    "    if n == 0:\n",
    "        return 0\n",
    "    else:\n",
    "        return n%2 + 10 * decimaltobinary(int(n/2))"
   ]
  },
  {
   "cell_type": "code",
   "execution_count": 24,
   "id": "2e15df70-f996-4427-a345-319d41ca3cbc",
   "metadata": {},
   "outputs": [
    {
     "name": "stdout",
     "output_type": "stream",
     "text": [
      "Decimal 10 to binary is  1010\n"
     ]
    },
    {
     "ename": "AssertionError",
     "evalue": "The number should be integer",
     "output_type": "error",
     "traceback": [
      "\u001b[1;31m---------------------------------------------------------------------------\u001b[0m",
      "\u001b[1;31mAssertionError\u001b[0m                            Traceback (most recent call last)",
      "Cell \u001b[1;32mIn[24], line 2\u001b[0m\n\u001b[0;32m      1\u001b[0m \u001b[38;5;28mprint\u001b[39m(\u001b[38;5;124m\"\u001b[39m\u001b[38;5;124mDecimal 10 to binary is \u001b[39m\u001b[38;5;124m\"\u001b[39m, decimaltobinary(\u001b[38;5;241m10\u001b[39m))\n\u001b[1;32m----> 2\u001b[0m \u001b[38;5;28mprint\u001b[39m(\u001b[38;5;124m\"\u001b[39m\u001b[38;5;124mDecimal 2.5 to binary is \u001b[39m\u001b[38;5;124m\"\u001b[39m, \u001b[43mdecimaltobinary\u001b[49m\u001b[43m(\u001b[49m\u001b[38;5;241;43m2.5\u001b[39;49m\u001b[43m)\u001b[49m)\n",
      "Cell \u001b[1;32mIn[23], line 2\u001b[0m, in \u001b[0;36mdecimaltobinary\u001b[1;34m(n)\u001b[0m\n\u001b[0;32m      1\u001b[0m \u001b[38;5;28;01mdef\u001b[39;00m \u001b[38;5;21mdecimaltobinary\u001b[39m(n):\n\u001b[1;32m----> 2\u001b[0m     \u001b[38;5;28;01massert\u001b[39;00m \u001b[38;5;28mint\u001b[39m(n) \u001b[38;5;241m==\u001b[39m n, \u001b[38;5;124m\"\u001b[39m\u001b[38;5;124mThe number should be integer\u001b[39m\u001b[38;5;124m\"\u001b[39m\n\u001b[0;32m      3\u001b[0m     \u001b[38;5;28;01mif\u001b[39;00m n \u001b[38;5;241m==\u001b[39m \u001b[38;5;241m0\u001b[39m:\n\u001b[0;32m      4\u001b[0m         \u001b[38;5;28;01mreturn\u001b[39;00m \u001b[38;5;241m0\u001b[39m\n",
      "\u001b[1;31mAssertionError\u001b[0m: The number should be integer"
     ]
    }
   ],
   "source": [
    "print(\"Decimal 10 to binary is \", decimaltobinary(10))\n",
    "print(\"Decimal 2.5 to binary is \", decimaltobinary(2.5))"
   ]
  },
  {
   "cell_type": "markdown",
   "id": "7cdcd183-0b2d-4c6a-b8a0-71175ed6d10a",
   "metadata": {},
   "source": [
    "## 5. Product of an array"
   ]
  },
  {
   "cell_type": "code",
   "execution_count": 25,
   "id": "17c9b639-09fd-4f36-a251-a49a7b248efd",
   "metadata": {},
   "outputs": [],
   "source": [
    "def productofarray(arr):\n",
    "    if len(arr) == 0:\n",
    "        return 1\n",
    "    else:\n",
    "        return arr[0] * productofarray(arr[1:])"
   ]
  },
  {
   "cell_type": "code",
   "execution_count": 26,
   "id": "fffacb73-40e7-4478-b97f-dc1fddaa01be",
   "metadata": {},
   "outputs": [
    {
     "name": "stdout",
     "output_type": "stream",
     "text": [
      "Product of array [1,2,3] is  6\n"
     ]
    }
   ],
   "source": [
    "print(\"Product of array [1,2,3] is \", productofarray([1,2,3]))"
   ]
  },
  {
   "cell_type": "markdown",
   "id": "6eb66c85-d9d1-49d3-b22e-0f77ffed2d92",
   "metadata": {},
   "source": [
    "## 6. recursiveRange - Write a function called recursiveRange which accepts a number and adds up all the numbers from 0 to the number passed to the function."
   ]
  },
  {
   "cell_type": "code",
   "execution_count": 29,
   "id": "afa4df9c-2156-4ca3-830b-aa78add8ff09",
   "metadata": {},
   "outputs": [],
   "source": [
    "def recursiverange(num):\n",
    "    if num == 0:\n",
    "        return 0\n",
    "    return num + recursiverange(num - 1)"
   ]
  },
  {
   "cell_type": "code",
   "execution_count": 30,
   "id": "7ee0b55b-ce36-49cf-a4d6-bbfb357bef99",
   "metadata": {},
   "outputs": [
    {
     "name": "stdout",
     "output_type": "stream",
     "text": [
      "Recursive Range for 6 is 21\n"
     ]
    }
   ],
   "source": [
    "print(\"Recursive Range for 6 is\", recursiverange(6))"
   ]
  },
  {
   "cell_type": "markdown",
   "id": "4a71bee6-994c-4cee-846f-685816f89717",
   "metadata": {},
   "source": [
    "## 7. fib - Write a recursive function called fib which accepts a number and returns the nth number in the Fibonacci sequence. Recall that the Fibonacci sequence is the sequence of whole numbers 0,1, 1, 2, 3, 5, 8, ... which starts with 0 and 1, and where every number thereafter is equal to the sum of the previous two numbers.\n",
    "\n",
    "Examples\n",
    "\n",
    "fib(4) # 3\n",
    "fib(10) # 55\n",
    "fib(28) # 317811\n",
    "fib(35) # 9227465"
   ]
  },
  {
   "cell_type": "code",
   "execution_count": 31,
   "id": "cf5ef5d0-8075-4a40-b837-1dc2bb98136f",
   "metadata": {},
   "outputs": [],
   "source": [
    "def fib(num):\n",
    "    if num == 0:\n",
    "        return 0\n",
    "    elif num == 1:\n",
    "        return 1\n",
    "    else:\n",
    "        return fib(num - 1) + fib(num - 2)"
   ]
  },
  {
   "cell_type": "code",
   "execution_count": 32,
   "id": "a5f83812-abaa-4bce-b96e-836e794f139a",
   "metadata": {},
   "outputs": [
    {
     "name": "stdout",
     "output_type": "stream",
     "text": [
      "Fib for 4 3\n"
     ]
    }
   ],
   "source": [
    "print(\"Fib for 4\", fib(4))"
   ]
  },
  {
   "cell_type": "markdown",
   "id": "62ca7cc9-48a6-48ab-b50b-22a27b3b8391",
   "metadata": {},
   "source": [
    "## 8. reverse - Write a recursive function called reverse which accepts a string and returns a new string in reverse."
   ]
  },
  {
   "cell_type": "code",
   "execution_count": 35,
   "id": "2610b81a-cab0-42b8-82c9-4c4882d5da2f",
   "metadata": {},
   "outputs": [],
   "source": [
    "def reverse(strng):\n",
    "    if len(strng) <= 1:\n",
    "        return strng\n",
    "    return strng[-1] + reverse(strng[:-1])"
   ]
  },
  {
   "cell_type": "code",
   "execution_count": 37,
   "id": "27f83333-0518-4740-bdf6-315bf27a7f0b",
   "metadata": {},
   "outputs": [
    {
     "name": "stdout",
     "output_type": "stream",
     "text": [
      "Reverse for python  nohtyp\n",
      "Reverse for appmillers  srellimppa\n"
     ]
    }
   ],
   "source": [
    "print(\"Reverse for python \",reverse('python'))\n",
    "print(\"Reverse for appmillers \",reverse('appmillers'))"
   ]
  },
  {
   "cell_type": "markdown",
   "id": "b278c420-cb6f-4f07-b56f-de6f672c31d6",
   "metadata": {},
   "source": [
    "## 9. isPalindrome\n",
    "Write a recursive function called isPalindrome which returns true if the string passed to it is a palindrome (reads the same forward and backward). Otherwise it returns false."
   ]
  },
  {
   "cell_type": "code",
   "execution_count": 40,
   "id": "61ac8d77-e179-4678-a5cc-7aa7c67d2052",
   "metadata": {},
   "outputs": [],
   "source": [
    "def isPalindrome(s):\n",
    "    if len(s) <= 1:\n",
    "        return True\n",
    "    if s[0] != s[-1]:\n",
    "        return False\n",
    "    return ispallindrome(s[1:-1])"
   ]
  },
  {
   "cell_type": "code",
   "execution_count": 41,
   "id": "88f8add1-d2ec-4318-b724-7dd6a4869c52",
   "metadata": {},
   "outputs": [
    {
     "name": "stdout",
     "output_type": "stream",
     "text": [
      "Palindrome of awesome False\n",
      "Palindrome of foobar False\n",
      "Palindrome of tacocat True\n",
      "Palindrome of amanaplanacanalpanama True\n",
      "Palindrome of amanaplanacanalpandemonium False\n"
     ]
    }
   ],
   "source": [
    "print(\"Palindrome of awesome\",isPalindrome('awesome'))\n",
    "print(\"Palindrome of foobar\", isPalindrome('foobar'))\n",
    "print(\"Palindrome of tacocat\", isPalindrome('tacocat'))\n",
    "print(\"Palindrome of amanaplanacanalpanama\",isPalindrome('amanaplanacanalpanama'))\n",
    "print(\"Palindrome of amanaplanacanalpandemonium\",isPalindrome('amanaplanacanalpandemonium'))"
   ]
  },
  {
   "cell_type": "markdown",
   "id": "da6eded0-a852-40dd-b89a-4307e6739d54",
   "metadata": {},
   "source": [
    "##  someRecursive\n",
    "Write a recursive function called someRecursive which accepts an array and a callback. The function returns true if a single value in the array returns true when passed to the callback. Otherwise it returns false."
   ]
  },
  {
   "cell_type": "code",
   "execution_count": null,
   "id": "b71a0e6f-fcf1-454e-8234-027fb6c73a86",
   "metadata": {},
   "outputs": [],
   "source": []
  },
  {
   "cell_type": "code",
   "execution_count": null,
   "id": "ad18b487-ada8-4461-8ebd-f1a99180cf06",
   "metadata": {},
   "outputs": [],
   "source": [
    "print(\"Some Recursive [1,2,3,4] \", someRecursive([1,2,3,4], isOdd))\n",
    "print(\"Some Recursive [1,2,3,4] \", someRecursive([4,6,8,9], isOdd) )\n",
    "print(\"Some Recursive [1,2,3,4] \", someRecursive([4,6,8], isOdd))"
   ]
  }
 ],
 "metadata": {
  "kernelspec": {
   "display_name": "Python 3 (ipykernel)",
   "language": "python",
   "name": "python3"
  },
  "language_info": {
   "codemirror_mode": {
    "name": "ipython",
    "version": 3
   },
   "file_extension": ".py",
   "mimetype": "text/x-python",
   "name": "python",
   "nbconvert_exporter": "python",
   "pygments_lexer": "ipython3",
   "version": "3.12.6"
  }
 },
 "nbformat": 4,
 "nbformat_minor": 5
}
