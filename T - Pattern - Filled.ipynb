{
 "cells": [
  {
   "cell_type": "code",
   "execution_count": 1,
   "id": "b542f3c3-3507-4431-926b-fabc6ad6762b",
   "metadata": {},
   "outputs": [],
   "source": [
    "n = 5"
   ]
  },
  {
   "cell_type": "markdown",
   "id": "a6960ce1-ada1-49b7-91ef-05120c41419a",
   "metadata": {},
   "source": [
    "1. Square block"
   ]
  },
  {
   "cell_type": "code",
   "execution_count": 3,
   "id": "cad348d9-0302-4c90-b56c-81f2bc1d56f3",
   "metadata": {},
   "outputs": [
    {
     "name": "stdout",
     "output_type": "stream",
     "text": [
      "* * * * * \n",
      "* * * * * \n",
      "* * * * * \n",
      "* * * * * \n",
      "* * * * * \n"
     ]
    }
   ],
   "source": [
    "for i in range(n):\n",
    "    for j in range(n):\n",
    "        print('*', end = ' ')\n",
    "    print()"
   ]
  },
  {
   "cell_type": "markdown",
   "id": "3fa43f12-4c11-4b35-a68a-3a9ff2729549",
   "metadata": {},
   "source": [
    "2. Left Triangle - BASIC TO KNOW"
   ]
  },
  {
   "cell_type": "code",
   "execution_count": 5,
   "id": "554472c8-9b2a-4b6f-9de9-2f214ef45aeb",
   "metadata": {},
   "outputs": [
    {
     "name": "stdout",
     "output_type": "stream",
     "text": [
      "* \n",
      "* * \n",
      "* * * \n",
      "* * * * \n",
      "* * * * * \n"
     ]
    }
   ],
   "source": [
    "for i in range(n):\n",
    "    for j in range(i + 1):\n",
    "        print('*', end = ' ')\n",
    "    print()"
   ]
  },
  {
   "cell_type": "markdown",
   "id": "22713a72-5730-4903-96c0-0602a8d70bec",
   "metadata": {},
   "source": [
    "3. Downward Left Triangle - BASIC TO KNOW"
   ]
  },
  {
   "cell_type": "code",
   "execution_count": 10,
   "id": "75d8e3a4-bf84-4e61-ba32-f8aefce082ba",
   "metadata": {},
   "outputs": [
    {
     "name": "stdout",
     "output_type": "stream",
     "text": [
      "* * * * * \n",
      "* * * * \n",
      "* * * \n",
      "* * \n",
      "* \n"
     ]
    }
   ],
   "source": [
    "for i in range(n):\n",
    "    for j in range(i, n):\n",
    "        print('*', end = ' ')\n",
    "    print()"
   ]
  },
  {
   "cell_type": "markdown",
   "id": "ff8e6d34-8536-45af-a1ea-d4e59348922f",
   "metadata": {},
   "source": [
    "4. Right Triangle"
   ]
  },
  {
   "cell_type": "code",
   "execution_count": 11,
   "id": "5d757e32-cafa-467a-88ba-08db14b3186f",
   "metadata": {},
   "outputs": [
    {
     "name": "stdout",
     "output_type": "stream",
     "text": [
      "          * \n",
      "        * * \n",
      "      * * * \n",
      "    * * * * \n",
      "  * * * * * \n"
     ]
    }
   ],
   "source": [
    "for i in range(n):\n",
    "    for j in range(i, n):\n",
    "        print(' ', end = ' ')\n",
    "    for j in range(i + 1):\n",
    "        print('*', end = ' ')\n",
    "    print()"
   ]
  },
  {
   "cell_type": "markdown",
   "id": "874a5b97-f0e3-465a-aa3c-dab072a5e612",
   "metadata": {},
   "source": [
    "5. Downward Right Triangle"
   ]
  },
  {
   "cell_type": "code",
   "execution_count": 12,
   "id": "d5cd30ab-7471-4f80-b293-bf87a4845edb",
   "metadata": {},
   "outputs": [
    {
     "name": "stdout",
     "output_type": "stream",
     "text": [
      "  * * * * * \n",
      "    * * * * \n",
      "      * * * \n",
      "        * * \n",
      "          * \n"
     ]
    }
   ],
   "source": [
    "for i in range(n):\n",
    "    for j in range(i + 1):\n",
    "        print(' ', end = ' ')\n",
    "    for j in range(i, n):\n",
    "        print('*', end = ' ')\n",
    "    print()"
   ]
  },
  {
   "cell_type": "markdown",
   "id": "92687b85-0817-4791-b470-a9db8d087b26",
   "metadata": {},
   "source": [
    "6. Pyramid / Hill"
   ]
  },
  {
   "cell_type": "code",
   "execution_count": 14,
   "id": "b6843843-bc1e-407e-a416-0ddcec056fe4",
   "metadata": {},
   "outputs": [
    {
     "name": "stdout",
     "output_type": "stream",
     "text": [
      "          * \n",
      "        * * * \n",
      "      * * * * * \n",
      "    * * * * * * * \n",
      "  * * * * * * * * * \n"
     ]
    }
   ],
   "source": [
    "for i in range(n):\n",
    "    # Downward Space\n",
    "    for j in range(i, n):\n",
    "        print(' ', end = ' ')\n",
    "    # Upward Right\n",
    "    for j in range(i + 1):\n",
    "        print('*', end = ' ')\n",
    "    #Upward Left with one less column\n",
    "    for j in range(i):\n",
    "        print('*', end = ' ')\n",
    "    print()"
   ]
  },
  {
   "cell_type": "markdown",
   "id": "e4b916b7-a5b4-4032-b98d-7ecfcb01d0f3",
   "metadata": {},
   "source": [
    "7. Reverse Pyramid"
   ]
  },
  {
   "cell_type": "code",
   "execution_count": 16,
   "id": "2531761e-8f46-4d18-aee5-be048e481b38",
   "metadata": {},
   "outputs": [
    {
     "name": "stdout",
     "output_type": "stream",
     "text": [
      "  * * * * * * * * * \n",
      "    * * * * * * * \n",
      "      * * * * * \n",
      "        * * * \n",
      "          * \n"
     ]
    }
   ],
   "source": [
    "for i in range(n):\n",
    "    # Upward Space\n",
    "    for j in range(i + 1):\n",
    "        print(' ', end = ' ')\n",
    "    #Downward Right\n",
    "    for j in range(i, n):\n",
    "        print('*', end = ' ')\n",
    "    #Downward Left with one less column\n",
    "    for j in range(i, n - 1):\n",
    "        print('*', end = ' ')\n",
    "    print()"
   ]
  },
  {
   "cell_type": "markdown",
   "id": "052cfe3d-e2d2-4f4e-9898-efd669cdcc31",
   "metadata": {},
   "source": [
    "8. Double Hill"
   ]
  },
  {
   "cell_type": "code",
   "execution_count": 23,
   "id": "8bd92659-a2ec-4503-9042-985bc4ed1bab",
   "metadata": {},
   "outputs": [
    {
     "name": "stdout",
     "output_type": "stream",
     "text": [
      "          *                 * \n",
      "        * * *             * * * \n",
      "      * * * * *         * * * * * \n",
      "    * * * * * * *     * * * * * * * \n",
      "  * * * * * * * * * * * * * * * * * * \n"
     ]
    }
   ],
   "source": [
    "for i in range(n):\n",
    "    # Downward Space Left\n",
    "    for j in range(i, n):\n",
    "        print(' ', end = ' ')\n",
    "    # Upward Right\n",
    "    for j in range(i + 1):\n",
    "        print('*', end = ' ')\n",
    "    # Upward Left with one less column to have the hill peak\n",
    "    for j in range(i):\n",
    "        print('*', end = ' ')\n",
    "    # Downward Space with one less column to remove the spaces between the hills\n",
    "    for j in range(i, n - 1):\n",
    "        print(' ', end = ' ')\n",
    "    # Downward Space with one less column to remove the spaces between the hills\n",
    "    for j in range(i, n - 1):\n",
    "        print(' ', end = ' ')\n",
    "    # Upward Right\n",
    "    for j in range(i + 1):\n",
    "        print('*', end = ' ')\n",
    "    # Upward Left with one less column to have the hill peak\n",
    "    for j in range(i):\n",
    "        print('*', end = ' ')\n",
    "    print()"
   ]
  },
  {
   "cell_type": "markdown",
   "id": "e8b7aa66-8722-48f1-a9c9-31122a5833a8",
   "metadata": {},
   "source": [
    "9. Diamond"
   ]
  },
  {
   "cell_type": "code",
   "execution_count": 28,
   "id": "a85edf15-3aad-41aa-8ff6-e733f128203d",
   "metadata": {},
   "outputs": [
    {
     "name": "stdout",
     "output_type": "stream",
     "text": [
      "          * \n",
      "        * * * \n",
      "      * * * * * \n",
      "    * * * * * * * \n",
      "  * * * * * * * * * \n",
      "    * * * * * * * \n",
      "      * * * * * \n",
      "        * * * \n",
      "          * \n"
     ]
    }
   ],
   "source": [
    "# Pyramid with one less column to get the corners at sides\n",
    "for i in range(n - 1):\n",
    "    for j in range(i, n):\n",
    "        print(' ', end = ' ')\n",
    "    for j in range(i + 1):\n",
    "        print('*', end = ' ')\n",
    "    for j in range(i):\n",
    "        print('*', end = ' ')\n",
    "    print()\n",
    "# Reverse Pyramid\n",
    "for i in range(n):\n",
    "    for j in range(i + 1):\n",
    "        print(' ', end =' ')\n",
    "    for j in range(i, n - 1):\n",
    "        print('*', end = ' ')\n",
    "    for j in range(i, n):\n",
    "        print('*', end =' ')\n",
    "    print()"
   ]
  },
  {
   "cell_type": "markdown",
   "id": "66de48a5-78f4-4e46-b635-7643edce9335",
   "metadata": {},
   "source": [
    "10. Sandglass / Reverse Diamond"
   ]
  },
  {
   "cell_type": "code",
   "execution_count": 34,
   "id": "41fe379c-84ef-4955-a13d-92ed3b469c81",
   "metadata": {},
   "outputs": [
    {
     "name": "stdout",
     "output_type": "stream",
     "text": [
      "  * * * * * * * * * \n",
      "    * * * * * * * \n",
      "      * * * * * \n",
      "        * * * \n",
      "          * \n",
      "          * \n",
      "        * * * \n",
      "      * * * * * \n",
      "    * * * * * * * \n",
      "  * * * * * * * * * \n"
     ]
    }
   ],
   "source": [
    "# Reverse Hill\n",
    "for i in range(n):\n",
    "    for j in range(i + 1):\n",
    "        print(' ', end = ' ')\n",
    "    for j in range(i, n):\n",
    "        print('*', end = ' ')\n",
    "    for j in range(i, n - 1):\n",
    "        print('*', end = ' ')\n",
    "    print()\n",
    "# Pyramid\n",
    "for i in range(n):\n",
    "    for j in range(i, n):\n",
    "        print(' ', end = ' ')\n",
    "    for j in range(i + 1):\n",
    "        print('*', end = ' ')\n",
    "    for j in range(i):\n",
    "        print('*', end = ' ')\n",
    "    print()\n",
    "        "
   ]
  },
  {
   "cell_type": "markdown",
   "id": "bf1ef71d-4b88-4308-8d70-0b4db6f46059",
   "metadata": {},
   "source": [
    "11. Left Pascal"
   ]
  },
  {
   "cell_type": "code",
   "execution_count": 56,
   "id": "2ef1b012-37b4-400c-8800-a0fe9a947e7c",
   "metadata": {},
   "outputs": [
    {
     "name": "stdout",
     "output_type": "stream",
     "text": [
      "* \n",
      "* * \n",
      "* * * \n",
      "* * * * \n",
      "* * * * * \n",
      "* * * * \n",
      "* * * \n",
      "* * \n",
      "* \n",
      "\n"
     ]
    }
   ],
   "source": [
    "# Upward Left triangle\n",
    "for i in range(n):\n",
    "    for j in range(i + 1):\n",
    "        print('*', end = ' ')\n",
    "    print()\n",
    "# Downward Left triangle\n",
    "for i in range(n):\n",
    "    for j in range(i, n - 1):\n",
    "        print('*', end = ' ')\n",
    "    print()   "
   ]
  },
  {
   "cell_type": "markdown",
   "id": "ed976ade-5ca4-4e4f-b83c-1e82ba4caaf6",
   "metadata": {},
   "source": [
    "12. Right Pascal"
   ]
  },
  {
   "cell_type": "code",
   "execution_count": 54,
   "id": "586191f7-fb97-45ec-80c5-fe1239d110da",
   "metadata": {},
   "outputs": [
    {
     "name": "stdout",
     "output_type": "stream",
     "text": [
      "          * \n",
      "        * * \n",
      "      * * * \n",
      "    * * * * \n",
      "  * * * * * \n",
      "    * * * * \n",
      "      * * * \n",
      "        * * \n",
      "          * \n"
     ]
    }
   ],
   "source": [
    "# Upward Right\n",
    "for i in range(n - 1):\n",
    "    for j in range(i, n):\n",
    "        print(' ', end = ' ')\n",
    "    for j in range(i + 1):\n",
    "        print('*', end = ' ')\n",
    "    print()\n",
    "# Downward Right\n",
    "for i in range(n):\n",
    "    for j in range(i + 1):\n",
    "        print(' ', end = ' ')\n",
    "    for j in range(i, n):\n",
    "        print('*', end = ' ')\n",
    "    print()"
   ]
  },
  {
   "cell_type": "markdown",
   "id": "7ed2c579-60b0-4002-a0ca-4b7040fe540e",
   "metadata": {},
   "source": [
    "13. Butterfly"
   ]
  },
  {
   "cell_type": "code",
   "execution_count": 70,
   "id": "88e0e63a-9e9b-4267-91f3-c15178210628",
   "metadata": {},
   "outputs": [
    {
     "name": "stdout",
     "output_type": "stream",
     "text": [
      "*                 * \n",
      "* *             * * \n",
      "* * *         * * * \n",
      "* * * *     * * * * \n",
      "* * * * * * * * * * \n",
      "* * * *     * * * * \n",
      "* * *         * * * \n",
      "* *             * * \n",
      "*                 * \n"
     ]
    }
   ],
   "source": [
    "# Upper\n",
    "for i in range(n - 1):\n",
    "    # Upward Left\n",
    "    for j in range(i + 1):\n",
    "        print('*', end = ' ')\n",
    "    # Downward Space\n",
    "    for j in range(i, n - 1):\n",
    "        print(' ', end = ' ')\n",
    "    # Upward Right\n",
    "    for j in range(i, n - 1):\n",
    "        print(' ', end = ' ')\n",
    "    for j in range(i + 1):\n",
    "        print('*', end = ' ')\n",
    "    print()\n",
    "# Downward\n",
    "for i in range(n):\n",
    "    # Downward Left\n",
    "    for j in range(i, n):\n",
    "        print('*', end = ' ')\n",
    "    # Upward Space\n",
    "    for j in range(i):\n",
    "        print(' ', end = ' ')\n",
    "    # Downward Right\n",
    "    for j in range(i):\n",
    "        print(' ', end = ' ')\n",
    "    for j in range(i, n):\n",
    "        print('*', end = ' ')\n",
    "    print()\n"
   ]
  },
  {
   "cell_type": "code",
   "execution_count": null,
   "id": "68a38a0e-685f-42c4-b6ea-c817b83dafc8",
   "metadata": {},
   "outputs": [],
   "source": []
  }
 ],
 "metadata": {
  "kernelspec": {
   "display_name": "Python 3 (ipykernel)",
   "language": "python",
   "name": "python3"
  },
  "language_info": {
   "codemirror_mode": {
    "name": "ipython",
    "version": 3
   },
   "file_extension": ".py",
   "mimetype": "text/x-python",
   "name": "python",
   "nbconvert_exporter": "python",
   "pygments_lexer": "ipython3",
   "version": "3.12.6"
  }
 },
 "nbformat": 4,
 "nbformat_minor": 5
}
