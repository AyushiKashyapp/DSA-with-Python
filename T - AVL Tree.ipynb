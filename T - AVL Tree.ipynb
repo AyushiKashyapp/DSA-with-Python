{
 "cells": [
  {
   "cell_type": "markdown",
   "id": "a42c4fcc-5a1e-434f-a1cc-3f79c7b1ed4e",
   "metadata": {},
   "source": [
    "# AVL Tree"
   ]
  },
  {
   "cell_type": "markdown",
   "id": "57956126-e077-4ef3-bc6d-68dbeb1e4086",
   "metadata": {},
   "source": [
    "## Create a node"
   ]
  },
  {
   "cell_type": "code",
   "execution_count": 24,
   "id": "40520863-6a0c-4818-8c00-0cc28f6bde81",
   "metadata": {},
   "outputs": [],
   "source": [
    "class AVLTree:\n",
    "    def __init__(self, data):\n",
    "        self.data = data\n",
    "        self.leftchild = None\n",
    "        self.rightchild = None\n",
    "        self.height = 1"
   ]
  },
  {
   "cell_type": "markdown",
   "id": "126c1687-a746-4ed9-a2ba-2348fb369e49",
   "metadata": {},
   "source": [
    "## Traversal\n",
    "\n",
    "## DFS"
   ]
  },
  {
   "cell_type": "code",
   "execution_count": 2,
   "id": "e15d791a-3ca5-4c02-b1f9-91bc6a12ad3f",
   "metadata": {},
   "outputs": [],
   "source": [
    "def preordertraversal(rootnode):\n",
    "    if not rootnode:\n",
    "        return\n",
    "    print(rootnode.data)\n",
    "    preordertraversal(rootnode.leftchild)\n",
    "    preordertraversal(rootnode.rightchild)"
   ]
  },
  {
   "cell_type": "code",
   "execution_count": 3,
   "id": "e1d676c3-3dfa-44b0-a560-f8e5744c876e",
   "metadata": {},
   "outputs": [],
   "source": [
    "def inordertraversal(rootnode):\n",
    "    if not rootnode:\n",
    "        return\n",
    "    inordertraversal(rootnode.leftchild)\n",
    "    print(rootnode.data)\n",
    "    inordertraversal(rootnode.rightchild)"
   ]
  },
  {
   "cell_type": "code",
   "execution_count": 4,
   "id": "807e720a-8251-477b-94e3-b3108fbfec46",
   "metadata": {},
   "outputs": [],
   "source": [
    "def postordertraversal(rootnode):\n",
    "    if not rootnode:\n",
    "        return\n",
    "    postordertraversal(rootnode.leftchild)\n",
    "    postordertraversal(rootnode.rightchild)\n",
    "    print(rootnode.data)"
   ]
  },
  {
   "cell_type": "markdown",
   "id": "8ee330e6-8a37-4902-ad2f-7f9a0b369375",
   "metadata": {},
   "source": [
    "## BFS"
   ]
  },
  {
   "cell_type": "code",
   "execution_count": 26,
   "id": "7e4c5fca-9cf2-4d49-aef8-532a552ff27a",
   "metadata": {},
   "outputs": [],
   "source": [
    "class Node:\n",
    "    def __init__(self, value):\n",
    "        self.value = value\n",
    "        self.next = None\n",
    "\n",
    "    def __str__(self):\n",
    "        return str(self.value)\n",
    "\n",
    "class LinkedList:\n",
    "    def __init__(self):\n",
    "        self.head = None\n",
    "        self.tail = None\n",
    "        \n",
    "    def __iter__(self):\n",
    "        current = self.head\n",
    "        while current:\n",
    "            yield current\n",
    "            current = current.next\n",
    "        \n",
    "class Queue:\n",
    "    def __init__(self):\n",
    "        self.linkedlist = LinkedList()\n",
    "\n",
    "    def __str__(self):\n",
    "        values = [str(x) for x in self.items]\n",
    "        return ' '.join(values)\n",
    "\n",
    "    def isempty(self):\n",
    "        if self.linkedlist.head is None:\n",
    "            return True\n",
    "        return False\n",
    "\n",
    "    def enqueue(self, value):\n",
    "        newnode = Node(value)\n",
    "        if self.linkedlist.head is None:\n",
    "            self.linkedlist.head = newnode\n",
    "            self.linkedlist.tail = newnode\n",
    "        else:\n",
    "            self.linkedlist.tail.next = newnode\n",
    "            self.linkedlist.tail = newnode\n",
    "\n",
    "    def dequeue(self):\n",
    "        if self.linkedlist.head is None:\n",
    "            return \"No nodes\"\n",
    "        else:\n",
    "            current = self.linkedlist.head\n",
    "            if self.linkedlist.head == self.linkedlist.tail:\n",
    "                self.linkedlist.head = None\n",
    "                self.linkedlist.tail = None\n",
    "            else:\n",
    "                self.linkedlist.head = self.linkedlist.head.next\n",
    "            return current\n",
    "\n",
    "    def peek(self):\n",
    "        if self.isempty():\n",
    "            return \"No elements\"\n",
    "        else:\n",
    "            return self.linkedlist.head"
   ]
  },
  {
   "cell_type": "code",
   "execution_count": 13,
   "id": "09c0e8e1-a9da-4ddb-a058-c840ac8a7252",
   "metadata": {},
   "outputs": [],
   "source": [
    "def levelordertraversal(rootnode):\n",
    "    if not rootnode:\n",
    "        return\n",
    "    else:\n",
    "        customqueue = Queue()\n",
    "        customqueue.enqueue(rootnode)\n",
    "        while not (customqueue.isempty()):\n",
    "            root = customqueue.dequeue()\n",
    "            print(root.value.data)\n",
    "            if root.value.leftchild is not None:\n",
    "                customqueue.enqueue(root.value.leftchild)\n",
    "            if root.value.rightchild is not None:\n",
    "                customqueue.enqueue(root.value.rightchild)"
   ]
  },
  {
   "cell_type": "markdown",
   "id": "2fc52c6d-d8ae-473f-afb9-9f0b254c5151",
   "metadata": {},
   "source": [
    "## Search a node"
   ]
  },
  {
   "cell_type": "code",
   "execution_count": 14,
   "id": "4997e0d8-e733-499e-835e-a12783cfe5ee",
   "metadata": {},
   "outputs": [],
   "source": [
    "def searchnode(rootnode, nodevalue):\n",
    "    if rootnode.data == nodevalue:\n",
    "        return \"Found\"\n",
    "    elif nodevalue < rootnode.leftchild.data:\n",
    "        if nodevalue == rootnode.leftchild.data:\n",
    "            return \"Found\"\n",
    "        else:\n",
    "            searchnode(rootnode.leftchild, nodevalue)\n",
    "    else:\n",
    "        if nodevalue == rootnode.rightchild.data:\n",
    "            return \"Found\"\n",
    "        else:\n",
    "            searchnode(rootnode.rightchild, nodevalue)"
   ]
  },
  {
   "cell_type": "markdown",
   "id": "aa44ba9a-b968-4363-9daa-03142a3251c1",
   "metadata": {},
   "source": [
    "## Insert a node"
   ]
  },
  {
   "cell_type": "markdown",
   "id": "a429eb03-fd73-4ac4-8d10-cb62e2c2e224",
   "metadata": {},
   "source": [
    "### Helper Function - Get height"
   ]
  },
  {
   "cell_type": "code",
   "execution_count": 15,
   "id": "0e6ee930-d643-41aa-b8bf-ea85e19da621",
   "metadata": {},
   "outputs": [],
   "source": [
    "def getheight(rootnode):\n",
    "    if not rootnode:\n",
    "        return 0\n",
    "    return rootnode.height"
   ]
  },
  {
   "cell_type": "markdown",
   "id": "81e86480-74ee-48cf-9930-749d500b46c7",
   "metadata": {},
   "source": [
    "### Helper Function - Right Rotation"
   ]
  },
  {
   "cell_type": "code",
   "execution_count": 16,
   "id": "11ad5ab8-e80e-4441-aacb-4e3ad655334c",
   "metadata": {},
   "outputs": [],
   "source": [
    "def rightrotation(disbalancednode):\n",
    "    newroot = disbalancednode.leftchild\n",
    "    disbalancednode.leftchild = disbalancednode.leftchild.rightchild\n",
    "    newroot.rightchild = disbalancednode\n",
    "    disbalancednode.height = 1 + max(getheight(disbalancednode.leftchild), getheight(disbalancednode.rightchild))\n",
    "    newroot.height = 1 + max(getheight(newroot.leftchild), getheight(newroot.rightchild))\n",
    "    return newroot"
   ]
  },
  {
   "cell_type": "markdown",
   "id": "311566f4-5e89-49b2-8d96-fe3fc50120b3",
   "metadata": {},
   "source": [
    "### Helper Function - Left Rotation"
   ]
  },
  {
   "cell_type": "code",
   "execution_count": 17,
   "id": "949961ed-73c0-4920-989f-549cdbddb079",
   "metadata": {},
   "outputs": [],
   "source": [
    "def leftrotation(disbalancednode):\n",
    "    newroot = disbalancednode.rightchild\n",
    "    disbalancednode.rightchild = disbalancednode.rightchild.leftchild\n",
    "    newroot.leftchild = disbalancednode\n",
    "    disbalancednode.height = 1 + max(getheight(disbalancednode.leftchild), getheight(disbalancednode.rightchild))\n",
    "    newroot.height = 1 + max(getheight(newroot.leftchild), getheight(newroot.rightchild))\n",
    "    return newroot"
   ]
  },
  {
   "cell_type": "markdown",
   "id": "c2b0e051-72a7-41b5-b36f-5f85739753a9",
   "metadata": {},
   "source": [
    "### Helper Function - Check balance of tree"
   ]
  },
  {
   "cell_type": "code",
   "execution_count": 18,
   "id": "969408b8-3e5f-43fe-b194-0a5c381a74b3",
   "metadata": {},
   "outputs": [],
   "source": [
    "def getbalance(rootnode):\n",
    "    if not rootnode:\n",
    "        return 0\n",
    "    return getheight(rootnode.leftchild) - getheight(rootnode.rightchild)"
   ]
  },
  {
   "cell_type": "markdown",
   "id": "1a1fb6c7-05d1-491b-a8d8-65b7febe8e7c",
   "metadata": {},
   "source": [
    "### Insert Node"
   ]
  },
  {
   "cell_type": "code",
   "execution_count": 22,
   "id": "2af92934-4fd9-49b1-8b1f-34a522c85b33",
   "metadata": {},
   "outputs": [],
   "source": [
    "def insertnode(rootnode, nodevalue):\n",
    "\n",
    "    if not rootnode:\n",
    "        return AVLTree(nodevalue)\n",
    "\n",
    "    elif nodevalue < rootnode.data:\n",
    "        rootnode.leftchild = insertnode(rootnode.leftchild, nodevalue)\n",
    "\n",
    "    else:\n",
    "        rootnode.rightchild = insertnode(rootnode.rightchild, nodevalue)\n",
    "\n",
    "    rootnode.height = 1 + max(getheight(rootnode.leftchild), getheight(rootnode.rightchild))\n",
    "    balance = getbalance(rootnode)\n",
    "\n",
    "    if balance > 1 and nodevalue < rootnode.leftchlild. data:\n",
    "        return rightrotation(rootnode)\n",
    "\n",
    "    if balance > 1 and nodevalue > rootnode.leftchild.data:\n",
    "        rootnode.leftchild = leftrotation(nodevalue.leftchild)\n",
    "        return rightrotation(rootnode)\n",
    "\n",
    "    if balance > 1 and nodevalue > rootnode.rightchild.data:\n",
    "        return leftrotation(rootnode)\n",
    "\n",
    "    if balance < -1 and nodevalue < rootnode.rightchild.data:\n",
    "        rootnode.rightchild = rightrotation(rootnode.rightchild)\n",
    "        return leftrotation(rootnode)\n",
    "\n",
    "    return rootnode"
   ]
  },
  {
   "cell_type": "markdown",
   "id": "79864c2e-b32a-4c16-bf1e-5d4e08151e01",
   "metadata": {},
   "source": [
    "## Delete a node\n",
    "\n",
    "### Helper Function - Return Min value for successor"
   ]
  },
  {
   "cell_type": "code",
   "execution_count": 30,
   "id": "96b7cf86-ffc7-4f51-9562-1f9c0418d143",
   "metadata": {},
   "outputs": [],
   "source": [
    "def getminvalue(rootnode):\n",
    "    if rootnode is None or rootnode.leftchild is None:\n",
    "        return rootnode\n",
    "    return (getminvalue(rootnode.leftchild))"
   ]
  },
  {
   "cell_type": "markdown",
   "id": "8c76650a-6801-47d3-8786-c35b2a240c53",
   "metadata": {},
   "source": [
    "### Delete a node"
   ]
  },
  {
   "cell_type": "code",
   "execution_count": 34,
   "id": "88125c1f-6057-4076-956f-44e7f846c8ad",
   "metadata": {},
   "outputs": [],
   "source": [
    "def deletenode(rootnode, nodevalue):\n",
    "    if not rootnode:\n",
    "        return rootnode\n",
    "    elif nodevalue < rootnode.data:\n",
    "        rootnode.leftchild = deletenode(rootnode.leftchild, nodevalue)\n",
    "    elif nodevalue > rootnode.data:\n",
    "        rootnode.rightchild = deletenode(rootnode.rightchild, nodevalue)\n",
    "    else:\n",
    "        if rootnode.leftchild is None:\n",
    "            temp = rootnode.rightchild\n",
    "            rootnode = None\n",
    "            return temp\n",
    "        elif rootnode.rightchild is None:\n",
    "            temp = rootnode.leftchild\n",
    "            rootnode = None\n",
    "            return temp\n",
    "        temp = getminvalue(rootnode.rightchild)\n",
    "        rootnode.data = temp.data\n",
    "        rootnode.rightchild = deletenode(rootnode.rightchild, temp.data)\n",
    "\n",
    "    balance = getbalance(rootnode)\n",
    "    if balance > 1 and getbalance(rootnode.leftchild) >= 0:\n",
    "        return rightrotation(rootnode)\n",
    "    if balance < -1 and getbalance(rootnode.rightchild) <= 0:\n",
    "        return leftrotation(rootnode)\n",
    "    if balance > 1 and getbalance(rootnode.leftchild) < 0:\n",
    "        rootnode.leftchild = leftrotation(rootnode.leftchild)\n",
    "        return rightrotation(rootnode)\n",
    "    if balance > 1 and getbalance(rootnode.rightchild) > 0:\n",
    "        rootnode.rightchild = rightrotation(rootnode.rightchild)\n",
    "        return leftrotation(rootnode)\n",
    "    return rootnode"
   ]
  },
  {
   "cell_type": "code",
   "execution_count": 35,
   "id": "d89451f2-4c48-4224-a830-96afdf9d02db",
   "metadata": {},
   "outputs": [],
   "source": [
    "def deleteavl(rootnode):\n",
    "        rootnode.data = None\n",
    "        rootnode.leftchild = None\n",
    "        rootnode.rightchild = None\n",
    "        return \"Tree deleted\""
   ]
  },
  {
   "cell_type": "code",
   "execution_count": 36,
   "id": "97c97bd0-c811-427b-ad3b-6627054de3f8",
   "metadata": {},
   "outputs": [
    {
     "name": "stdout",
     "output_type": "stream",
     "text": [
      "None\n"
     ]
    }
   ],
   "source": [
    "newavl = AVLTree(5)\n",
    "newavl = insertnode(newavl, 10)\n",
    "newavl = insertnode(newavl, 15)\n",
    "newavl = insertnode(newavl, 20)\n",
    "newavl = deletenode(newavl, 15)\n",
    "deleteavl(newavl)\n",
    "levelordertraversal(newavl)"
   ]
  },
  {
   "cell_type": "code",
   "execution_count": null,
   "id": "5b63a2f0-1412-4c75-870f-06bb853517bf",
   "metadata": {},
   "outputs": [],
   "source": []
  }
 ],
 "metadata": {
  "kernelspec": {
   "display_name": "Python 3 (ipykernel)",
   "language": "python",
   "name": "python3"
  },
  "language_info": {
   "codemirror_mode": {
    "name": "ipython",
    "version": 3
   },
   "file_extension": ".py",
   "mimetype": "text/x-python",
   "name": "python",
   "nbconvert_exporter": "python",
   "pygments_lexer": "ipython3",
   "version": "3.12.6"
  }
 },
 "nbformat": 4,
 "nbformat_minor": 5
}
