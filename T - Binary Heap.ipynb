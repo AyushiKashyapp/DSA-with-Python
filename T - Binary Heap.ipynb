{
 "cells": [
  {
   "cell_type": "markdown",
   "id": "593e4b1e-d0c6-44dc-8e80-8edac8877658",
   "metadata": {},
   "source": [
    "# Binary Heap"
   ]
  },
  {
   "cell_type": "markdown",
   "id": "9992e809-02e2-43bf-ae18-1ecf01acc249",
   "metadata": {},
   "source": [
    "## Create"
   ]
  },
  {
   "cell_type": "code",
   "execution_count": 1,
   "id": "ecc37977-72e7-4cad-8df3-08bac40b3882",
   "metadata": {},
   "outputs": [],
   "source": [
    "class Heap:\n",
    "    def __init__(self, size):\n",
    "        self.customlist = (size + 1) * [None]\n",
    "        self.heapsize = 0\n",
    "        self.maxsize = size"
   ]
  },
  {
   "cell_type": "markdown",
   "id": "addd4bba-3347-4c57-a775-72b684ed812a",
   "metadata": {},
   "source": [
    "## Peek"
   ]
  },
  {
   "cell_type": "code",
   "execution_count": 2,
   "id": "f2c424d6-42e4-4e12-9b20-99b09789909d",
   "metadata": {},
   "outputs": [],
   "source": [
    "def peekheap(rootnode):\n",
    "    if not rootnode:\n",
    "        return\n",
    "    else:\n",
    "        return rootnode.customlist[1]"
   ]
  },
  {
   "cell_type": "markdown",
   "id": "13275457-31d9-4a55-9fa6-cf5757c59df3",
   "metadata": {},
   "source": [
    "## Size"
   ]
  },
  {
   "cell_type": "code",
   "execution_count": 3,
   "id": "e97cd18f-493b-440b-bf50-a24450b9a7dc",
   "metadata": {},
   "outputs": [],
   "source": [
    "def sizeheap(rootnode):\n",
    "    if not rootnode:\n",
    "        return\n",
    "    else:\n",
    "        return rootnode.heapsize"
   ]
  },
  {
   "cell_type": "markdown",
   "id": "74b6d1c7-b94f-4369-9825-58ccfc028024",
   "metadata": {},
   "source": [
    "## Traversal"
   ]
  },
  {
   "cell_type": "code",
   "execution_count": 4,
   "id": "feea39af-3796-4ddd-abb6-f0554ccb7124",
   "metadata": {},
   "outputs": [],
   "source": [
    "def preorder(rootnode, index = 0):\n",
    "    if not rootnode:\n",
    "        return\n",
    "    else:\n",
    "        if index >= rootnode.heapsize:\n",
    "            return\n",
    "        print(rootnode[index], end = ' ')\n",
    "        preorder(rootnode, 2 * index + 1)\n",
    "        preorder(rootnode, 2 * index + 2)"
   ]
  },
  {
   "cell_type": "code",
   "execution_count": 5,
   "id": "052e50ff-4412-49e6-a3de-2b82b855da8e",
   "metadata": {},
   "outputs": [],
   "source": [
    "def inorder(rootnode, index = 0):\n",
    "    if not rootnode:\n",
    "        return\n",
    "    else:\n",
    "        if index >= rootnode.heapsize:\n",
    "            return\n",
    "        inorder(rootnode, 2 * index + 1)\n",
    "        print(rootnode[index], end = ' ')\n",
    "        inorder(rootnode, 2 * index + 2)"
   ]
  },
  {
   "cell_type": "code",
   "execution_count": 7,
   "id": "6c85d144-0053-40e1-adde-f6541d474b78",
   "metadata": {},
   "outputs": [],
   "source": [
    "def postorder(rootnode, index = 0):\n",
    "    if not rootnode:\n",
    "        return\n",
    "    else:\n",
    "        if index >= rootnode.heapsize:\n",
    "            return\n",
    "        postorder(rootnode, 2 * index + 1)\n",
    "        postorder(rootnode, 2 * index + 2)\n",
    "        print(rootnode[index], end = ' ')"
   ]
  },
  {
   "cell_type": "code",
   "execution_count": 8,
   "id": "c4fc4f92-9a8b-4a64-8b4c-7c784d69ef2a",
   "metadata": {},
   "outputs": [],
   "source": [
    "def levelorder(rootnode):\n",
    "    if not rootnode:\n",
    "        return\n",
    "    else:\n",
    "        for i in range(1, rootnode.heapsize + 1):\n",
    "            print(rootnode.customlist[i])"
   ]
  },
  {
   "cell_type": "markdown",
   "id": "7e830253-333e-4f3a-acf0-c87278120f78",
   "metadata": {},
   "source": [
    "## Insert"
   ]
  },
  {
   "cell_type": "code",
   "execution_count": 9,
   "id": "49c65599-e7c1-4ded-a3a7-bb364d3ba241",
   "metadata": {},
   "outputs": [],
   "source": [
    "def heapifyinsert(rootnode, index, heaptype): #Method to swap after insert\n",
    "    parentindex = int(index / 2)\n",
    "    if index <= 1:\n",
    "        return\n",
    "    if heaptype == \"min\":\n",
    "        if rootnode.customlist[index] < rootnode.customlist[parentindex]:\n",
    "            temp = rootnode.customlist[index]\n",
    "            rootnode.customlist[index] = rootnode.customlist[parentindex]\n",
    "            rootnode.customlist[parentindex] = temp\n",
    "        heapifyinsert(rootnode, parentindex, heaptype)\n",
    "    elif heaptype == \"max\":\n",
    "        if rootnode.customlist[index] > rootnode.customlist[parentindex]:\n",
    "            temp = rootnode.customlist[index]\n",
    "            rootnode.customlist[index] = rootnode.customlist[parentindex]\n",
    "            rootnode.customlist[parentindex] = temp\n",
    "        heapifyinsert(rootnode, parentindex, heaptype)\n",
    "\n",
    "def insertnode(rootnode, nodevalue, heaptype):\n",
    "    if rootnode.heapsize + 1 == rootnode.maxsize:\n",
    "        return \"Binary Heap is full.\"\n",
    "    rootnode.customlist[rootnode.heapsize + 1] = nodevalue\n",
    "    rootnode.heapsize += 1\n",
    "    heapifyinsert(rootnode, rootnode.heapsize, heaptype)\n",
    "    return \"Node Inserted\""
   ]
  },
  {
   "cell_type": "markdown",
   "id": "2b25ca65-5fde-4777-ae8e-507d0b51df97",
   "metadata": {},
   "source": [
    "## Extract a node"
   ]
  },
  {
   "cell_type": "code",
   "execution_count": 14,
   "id": "39c586ed-2fbe-4a7c-94f7-9d567c86a374",
   "metadata": {},
   "outputs": [],
   "source": [
    "def heapifyextract(rootnode, index, heaptype):\n",
    "    leftindex = index * 2\n",
    "    rightindex = index * 2 + 1\n",
    "    swapchild = 0\n",
    "\n",
    "    if rootnode.heapsize < leftindex:\n",
    "        return\n",
    "\n",
    "    elif rootnode.heapsize == leftindex:\n",
    "        if heaptype == \"min\":\n",
    "            if rootnode.customlist[index] > rootnode.customlist[leftindex]:\n",
    "                temp = rootnode.customlist[index]\n",
    "                rootnode.customlist[index] = rootnode.customlist[leftindex]\n",
    "                rootnode.customlist[leftindex] = temp\n",
    "            return\n",
    "        else:\n",
    "            if rootnode.customlist[index] < rootnode.customlist[leftindex]:\n",
    "                temp = rootnode.customlist[index]\n",
    "                rootnode.customlist[index] = rootnode.customlist[leftindex]\n",
    "                rootnode.customlist[leftindex] = temp\n",
    "            return\n",
    "\n",
    "    else:\n",
    "        if heaptype == \"min\":\n",
    "            if rootnode.customlist[leftindex] < rootnode.customlist[rightindex]:\n",
    "                swapchild = leftindex\n",
    "            else:\n",
    "                swapchild = rightindex\n",
    "            if rootnode.customlist[index] > rootnode.customlist[swapchild]:\n",
    "                temp = rootnode.customlist[index]\n",
    "                rootnode.customlist[index] = rootnode.customlist[swapchild]\n",
    "                rootnode.customlist[swapchild] = temp\n",
    "        else:\n",
    "            if rootnode.customlist[leftindex] > rootnode.customlist[rightindex]:\n",
    "                swapchild = leftindex\n",
    "            else:\n",
    "                swapchild = rightindex\n",
    "            if rootnode.customlist[index] > rootnode.customlist[swapchild]:\n",
    "                temp = rootnode.customlist[index]\n",
    "                rootnode.customlist[index] = rootnode.customlist[swapchild]\n",
    "                rootnode.customlist[swapchild] = temp\n",
    "        heapifyextract(rootnode, swapchild, heaptype)\n",
    "\n",
    "def extractnode(rootnode, heaptype):\n",
    "    if rootnode.heapsize == 0:\n",
    "        return\n",
    "    else:\n",
    "        extractnode = rootnode.customlist[1]\n",
    "        rootnode.customlist[1] = rootnode.customlist[rootnode.heapsize]\n",
    "        rootnode.customlist[rootnode.heapsize] = None\n",
    "        rootnode.heapsize -= 1\n",
    "        heapifyextract(rootnode, 1, heaptype)\n",
    "        return extractnode"
   ]
  },
  {
   "cell_type": "markdown",
   "id": "3aff7bfe-c262-4689-9906-d56e93095a10",
   "metadata": {},
   "source": [
    "## Delete entire Binary Heap"
   ]
  },
  {
   "cell_type": "code",
   "execution_count": 17,
   "id": "3899fce9-7247-4e5c-958d-d870fedb6640",
   "metadata": {},
   "outputs": [],
   "source": [
    "def deleteheap(rootnode):\n",
    "    rootnode.customlist = None"
   ]
  },
  {
   "cell_type": "code",
   "execution_count": 18,
   "id": "1089ec1a-8f02-49b2-bb9b-f5a4c9daf6bc",
   "metadata": {},
   "outputs": [
    {
     "name": "stdout",
     "output_type": "stream",
     "text": [
      "5\n",
      "4\n",
      "2\n",
      "1\n",
      "Extract 5\n",
      "1\n",
      "4\n",
      "2\n"
     ]
    }
   ],
   "source": [
    "newheap = Heap(5)\n",
    "insertnode(newheap, 4, \"max\")\n",
    "insertnode(newheap, 5, \"max\")\n",
    "insertnode(newheap, 2, \"max\")\n",
    "insertnode(newheap, 1, \"max\")\n",
    "levelorder(newheap)\n",
    "print(\"Extract\",extractnode(newheap, \"max\"))\n",
    "levelorder(newheap)\n",
    "deleteheap(newheap)"
   ]
  },
  {
   "cell_type": "code",
   "execution_count": null,
   "id": "e536e9d2-4cde-4ab7-b5c5-2f8148ff467d",
   "metadata": {},
   "outputs": [],
   "source": []
  }
 ],
 "metadata": {
  "kernelspec": {
   "display_name": "Python 3 (ipykernel)",
   "language": "python",
   "name": "python3"
  },
  "language_info": {
   "codemirror_mode": {
    "name": "ipython",
    "version": 3
   },
   "file_extension": ".py",
   "mimetype": "text/x-python",
   "name": "python",
   "nbconvert_exporter": "python",
   "pygments_lexer": "ipython3",
   "version": "3.12.6"
  }
 },
 "nbformat": 4,
 "nbformat_minor": 5
}
