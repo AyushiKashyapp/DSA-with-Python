{
 "cells": [
  {
   "cell_type": "markdown",
   "id": "fbca88a3-734a-4cdd-8a79-92aa5b40a93f",
   "metadata": {},
   "source": [
    "105. Average of Two Lists\n",
    "\n",
    "Write a Python program to compute average of two given lists.\n",
    "Original list:\n",
    "[1, 1, 3, 4, 4, 5, 6, 7]\n",
    "[0, 1, 2, 3, 4, 4, 5, 7, 8]\n",
    "Average of two lists:\n",
    "3.823529411764706"
   ]
  },
  {
   "cell_type": "code",
   "execution_count": 1,
   "id": "76b25d4f-9843-4e95-a7f2-23d5800c058a",
   "metadata": {},
   "outputs": [
    {
     "name": "stdout",
     "output_type": "stream",
     "text": [
      "3.826388888888889\n"
     ]
    }
   ],
   "source": [
    "l1 = [1, 1, 3, 4, 4, 5, 6, 7]\n",
    "l2 = [0, 1, 2, 3, 4, 4, 5, 7, 8]\n",
    "\n",
    "def average_two_lists(l1, l2):\n",
    "    a1 = sum(l1) / len(l1)\n",
    "    a2 = sum(l2) / len(l2)\n",
    "    return (a1 + a2) / 2\n",
    "\n",
    "print(average_two_lists(l1, l2))"
   ]
  },
  {
   "cell_type": "markdown",
   "id": "949c0b47-74f8-4c45-8b92-f06e98c16654",
   "metadata": {},
   "source": [
    "106. Count Integers in Mixed List\n",
    "\n",
    "Write a Python program to count integers in a given mixed list.\n",
    "Original list:\n",
    "[1, 'abcd', 3, 1.2, 4, 'xyz', 5, 'pqr', 7, -5, -12.22]\n",
    "Number of integers in the said mixed list:\n",
    "6"
   ]
  },
  {
   "cell_type": "code",
   "execution_count": 6,
   "id": "d8b1da38-ed9e-40f4-8162-2605b200278b",
   "metadata": {},
   "outputs": [
    {
     "name": "stdout",
     "output_type": "stream",
     "text": [
      "6\n"
     ]
    }
   ],
   "source": [
    "l = [1, 'abcd', 3, 1.2, 4, 'xyz', 5, 'pqr', 7, -5, -12.22]\n",
    "\n",
    "def count_integers(l):\n",
    "    int_count = 0\n",
    "    for i in l:\n",
    "        if isinstance(i, int):\n",
    "            int_count += 1\n",
    "    return int_count\n",
    "\n",
    "print(count_integers(l))"
   ]
  },
  {
   "cell_type": "markdown",
   "id": "97aa68cb-816b-4313-9829-14ac47f84549",
   "metadata": {},
   "source": [
    "107. Remove Column from Nested List\n",
    "\n",
    "Write a  Python program to remove a specified column from a given nested list.\n",
    "Original Nested list:\n",
    "[[1, 2, 3], [2, 4, 5], [1, 1, 1]]\n",
    "After removing 1st column:\n",
    "[[2, 3], [4, 5], [1, 1]]\n",
    "Original Nested list:\n",
    "[[1, 2, 3], [-2, 4, -5], [1, -1, 1]]\n",
    "After removing 3rd column:\n",
    "[[1, 2], [-2, 4], [1, -1]]"
   ]
  },
  {
   "cell_type": "code",
   "execution_count": 28,
   "id": "296d36ec-3811-4078-aa87-39fc52261d5c",
   "metadata": {},
   "outputs": [
    {
     "name": "stdout",
     "output_type": "stream",
     "text": [
      " 0 1 : 2\n",
      " 0 2 : 3\n",
      " 1 1 : 4\n",
      " 1 2 : 5\n",
      " 2 1 : 1\n",
      " 2 2 : 1\n",
      "[[2, 3], [4, 5], [1, 1]]\n",
      " 0 0 : 1\n",
      " 0 1 : 2\n",
      " 1 0 : -2\n",
      " 1 1 : 4\n",
      " 2 0 : 1\n",
      " 2 1 : -1\n",
      "[[1, 2], [-2, 4], [1, -1]]\n"
     ]
    }
   ],
   "source": [
    "l1 = [[1, 2, 3], [2, 4, 5], [1, 1, 1]]\n",
    "l2 = [[1, 2, 3], [-2, 4, -5], [1, -1, 1]]\n",
    "\n",
    "def remove_column(l, c):\n",
    "    new_matrix = []\n",
    "    for row in range(len(l)):\n",
    "        new_row = []\n",
    "        for col in range(len(l[row])):\n",
    "            if col != c:\n",
    "                print(f' {row} {col} : {l[row][col]}')\n",
    "                new_row.append(l[row][col])\n",
    "        new_matrix.append(new_row)\n",
    "    return new_matrix\n",
    "            \n",
    "\n",
    "print(remove_column(l1, 0))\n",
    "print(remove_column(l2, 2))"
   ]
  },
  {
   "cell_type": "code",
   "execution_count": 27,
   "id": "bb7dbfde-0cda-4c68-af7e-f1c64664958e",
   "metadata": {},
   "outputs": [
    {
     "name": "stdout",
     "output_type": "stream",
     "text": [
      "[[2, 3], [4, 5], [1, 1]]\n",
      "[[1, 2], [-2, 4], [1, -1]]\n"
     ]
    }
   ],
   "source": [
    "l1 = [[1, 2, 3], [2, 4, 5], [1, 1, 1]]\n",
    "l2 = [[1, 2, 3], [-2, 4, -5], [1, -1, 1]]\n",
    "\n",
    "def simpler_remove_column(l, c):\n",
    "    return [row[:c] + row[c + 1:] for row in l]\n",
    "\n",
    "print(simpler_remove_column(l1, 0))\n",
    "print(simpler_remove_column(l2, 2))"
   ]
  },
  {
   "cell_type": "markdown",
   "id": "5f447cf4-a5e6-4bc2-8f9e-93f312144dfc",
   "metadata": {},
   "source": [
    "Write a Python program to extract a specified column from a given nested list.\n",
    "Original Nested list:\n",
    "[[1, 2, 3], [2, 4, 5], [1, 1, 1]]\n",
    "Extract 1st column:\n",
    "[1, 2, 1]\n",
    "Original Nested list:\n",
    "[[1, 2, 3], [-2, 4, -5], [1, -1, 1]]\n",
    "Extract 3rd column:\n",
    "[3, -5, 1]"
   ]
  },
  {
   "cell_type": "code",
   "execution_count": 32,
   "id": "0559a31a-f9cf-4d06-a57f-be4b19e4f61b",
   "metadata": {},
   "outputs": [
    {
     "name": "stdout",
     "output_type": "stream",
     "text": [
      "[1, 2, 1]\n",
      "[3, -5, 1]\n"
     ]
    }
   ],
   "source": [
    "l1 = [[1, 2, 3], [2, 4, 5], [1, 1, 1]]\n",
    "l2 = [[1, 2, 3], [-2, 4, -5], [1, -1, 1]]\n",
    "\n",
    "def extract_column(l, c):\n",
    "    return [l[row][col] for row in range(len(l)) for col in range(len(l[row])) if col == c]\n",
    "\n",
    "print(extract_column(l1, 0))\n",
    "print(extract_column(l2, 2))"
   ]
  },
  {
   "cell_type": "markdown",
   "id": "a1ddb331-4997-4c29-974a-56d9763c4eda",
   "metadata": {},
   "source": [
    "109. Rotate List Left or Right\n",
    "\n",
    "Write a Python program to rotate a given list by a specified number of items in the right or left direction."
   ]
  },
  {
   "cell_type": "code",
   "execution_count": 41,
   "id": "3d660f14-6b50-4396-b384-9b56426fde30",
   "metadata": {},
   "outputs": [
    {
     "name": "stdout",
     "output_type": "stream",
     "text": [
      "[5, 6, 7, 8, 9, 10, 1, 2, 3, 4]\n",
      "[3, 4, 5, 6, 7, 8, 9, 10, 1, 2]\n",
      "[7, 8, 9, 10, 1, 2, 3, 4, 5, 6]\n",
      "[9, 10, 1, 2, 3, 4, 5, 6, 7, 8]\n"
     ]
    }
   ],
   "source": [
    "l = [1, 2, 3, 4, 5, 6, 7, 8, 9, 10]\n",
    "\n",
    "def rotate_list(l, direction, step):\n",
    "    if direction == 'left':\n",
    "        return l[step:] + l[:step]\n",
    "    elif direction == 'right':\n",
    "        return l[-step:] + l[:-step]\n",
    "    else:\n",
    "        raise ValueError ('Direction must be left or right.')\n",
    "\n",
    "print(rotate_list(l, 'left', 4)) # [4, 5, 6, 7, 8, 9, 10, 1, 2, 3, 4]\n",
    "print(rotate_list(l, 'left', 2)) # [3, 4, 5, 6, 7, 8, 9, 10, 1, 2]\n",
    "print(rotate_list(l, 'right', 4)) # [8, 9, 10, 1, 2, 3, 4, 5, 6]\n",
    "print(rotate_list(l, 'right', 2)) #[9, 10, 1, 2, 3, 4, 5, 6, 7, 8]"
   ]
  },
  {
   "cell_type": "markdown",
   "id": "4eca54c7-7d5d-4be4-9eb6-11637c1311e9",
   "metadata": {},
   "source": [
    "110. Find Most Frequent Item in List\n",
    "\n",
    "Write a Python program to find the item with the most occurrences in a given list.\n",
    "Original list:\n",
    "[2, 3, 8, 4, 7, 9, 8, 2, 6, 5, 1, 6, 1, 2, 3, 4, 6, 9, 1, 2]\n",
    "Item with maximum occurrences of the said list:\n",
    "2"
   ]
  },
  {
   "cell_type": "code",
   "execution_count": 46,
   "id": "d15f9303-af92-438d-b6f5-7ea3e6f7dcc1",
   "metadata": {},
   "outputs": [
    {
     "name": "stdout",
     "output_type": "stream",
     "text": [
      "2\n"
     ]
    }
   ],
   "source": [
    "l = [2, 3, 8, 4, 7, 9, 8, 2, 6, 5, 1, 6, 1, 2, 3, 4, 6, 9, 1, 2]\n",
    "\n",
    "def most_frequent_item(l):\n",
    "    count = {}\n",
    "    max_val = l[0]\n",
    "    max_count = 0\n",
    "    for i in l:\n",
    "        if i in count:\n",
    "            count[i] += 1\n",
    "        else:\n",
    "            count[i] = 1\n",
    "    for val, c in count.items():\n",
    "        if c > max_count:\n",
    "            max_count = c\n",
    "            max_value = val\n",
    "    return max_val\n",
    "    \n",
    "print(most_frequent_item(l))"
   ]
  },
  {
   "cell_type": "markdown",
   "id": "c0ee6aca-b215-4aa6-a60a-de832bd76bb5",
   "metadata": {},
   "source": [
    "Write a Python program to access multiple elements at a specified index from a given list.\n",
    "Original list:\n",
    "[2, 3, 8, 4, 7, 9, 8, 2, 6, 5, 1, 6, 1, 2, 3, 4, 6, 9, 1, 2]\n",
    "Index list:\n",
    "[0, 3, 5, 7, 10]\n",
    "Items with specified index of the said list:\n",
    "[2, 4, 9, 2, 1]"
   ]
  },
  {
   "cell_type": "code",
   "execution_count": 1,
   "id": "96f32daf-4477-43d6-9797-15cb34d36a18",
   "metadata": {},
   "outputs": [
    {
     "name": "stdout",
     "output_type": "stream",
     "text": [
      "[2, 4, 9, 2, 1]\n"
     ]
    }
   ],
   "source": [
    "l = [2, 3, 8, 4, 7, 9, 8, 2, 6, 5, 1, 6, 1, 2, 3, 4, 6, 9, 1, 2]\n",
    "i = [0, 3, 5, 7, 10]\n",
    "\n",
    "def multiple_element_index(l, i):\n",
    "    return [l[ind] for ind in range(len(l)) if ind in i]\n",
    "\n",
    "print(multiple_element_index(l, i))"
   ]
  },
  {
   "cell_type": "code",
   "execution_count": null,
   "id": "2cbf4578-b4aa-4582-926f-1c21c0fb377a",
   "metadata": {},
   "outputs": [],
   "source": [
    "112. Check If List Is Sorted\n",
    "\n",
    "Write a Python program to check whether a specified list is sorted or not.\n",
    "Original list:\n",
    "[1, 2, 4, 6, 8, 10, 12, 14, 16, 17]\n",
    "Is the said list is sorted!\n",
    "True\n",
    "Original list:\n",
    "[1, 2, 4, 6, 8, 10, 12, 14, 16, 17]\n",
    "Is the said list is sorted!\n",
    "False"
   ]
  },
  {
   "cell_type": "code",
   "execution_count": 16,
   "id": "e61b00cd-2a01-4412-a097-08ca808d5c86",
   "metadata": {},
   "outputs": [
    {
     "name": "stdout",
     "output_type": "stream",
     "text": [
      "True\n",
      "False\n"
     ]
    }
   ],
   "source": [
    "l1 = [1, 2, 4, 6, 8, 10, 12, 14, 16, 17]\n",
    "l2 = [1, 2, 4, 6, 8, 19, 12, 14, 16, 17]\n",
    "\n",
    "def sorted_list_check(l):\n",
    "    result = all(l[i] <= l[i + 1] for i in range(len(l) - 1))\n",
    "    return result\n",
    "    \n",
    "print(sorted_list_check(l1))\n",
    "print(sorted_list_check(l2))"
   ]
  },
  {
   "cell_type": "markdown",
   "id": "c56c4ded-af0a-4503-9818-aa1394bb753a",
   "metadata": {},
   "source": [
    "113. Remove Duplicate Dictionaries from List\n",
    "\n",
    "Write a Python program to remove duplicate dictionary entries from a given list.\n",
    "Original list with duplicate dictionary:\n",
    "[{'Green': '#008000'}, {'Black': '#000000'}, {'Blue': '#0000FF'}, {'Green': '#008000'}]\n",
    "After removing duplicate dictionary of the said list:\n",
    "[{'Black': '#000000'}, {'Blue': '#0000FF'}, {'Green': '#008000'}]"
   ]
  },
  {
   "cell_type": "code",
   "execution_count": 18,
   "id": "e9a2d662-fcc1-4a75-b739-4b873827af3b",
   "metadata": {},
   "outputs": [
    {
     "name": "stdout",
     "output_type": "stream",
     "text": [
      "[{'Green': '#008000'}, {'Black': '#000000'}, {'Blue': '#0000FF'}]\n"
     ]
    }
   ],
   "source": [
    "l = [{'Green': '#008000'}, {'Black': '#000000'}, {'Blue': '#0000FF'}, {'Green': '#008000'}]\n",
    "\n",
    "def remove_duplicate_dict(l):\n",
    "    result = []\n",
    "    for d in l:\n",
    "        if d not in result:\n",
    "            result.append(d)\n",
    "    return result\n",
    "\n",
    "print(remove_duplicate_dict(l))"
   ]
  },
  {
   "cell_type": "code",
   "execution_count": 19,
   "id": "98a79be7-32a9-4a68-ad0b-ce4e0b7a9d6a",
   "metadata": {},
   "outputs": [
    {
     "name": "stdout",
     "output_type": "stream",
     "text": [
      "[{'Green': '#008000'}, {'Black': '#000000'}, {'Blue': '#0000FF'}]\n"
     ]
    }
   ],
   "source": [
    "l = [{'Green': '#008000'}, {'Black': '#000000'}, {'Blue': '#0000FF'}, {'Green': '#008000'}]\n",
    "\n",
    "def remove_duplicate_dict_simpler(l):\n",
    "    return [dict(e) for e in {tuple(d.items()) for d in l}]\n",
    "\n",
    "print(remove_duplicate_dict_simpler(l))"
   ]
  },
  {
   "cell_type": "markdown",
   "id": "5cc9b216-4002-46e8-a766-27301139e841",
   "metadata": {},
   "source": [
    "114. Extract N-th Element from Tuples\n",
    "\n",
    "Write a Python program to extract the nth element from a given list of tuples.\n",
    "Original list:\n",
    "[('Greyson Fulton', 98, 99), ('Brady Kent', 97, 96), ('Wyatt Knott', 91, 94), ('Beau Turnbull', 94, 98)]\n",
    "Extract nth element ( n = 0 ) from the said list of tuples:\n",
    "['Greyson Fulton', 'Brady Kent', 'Wyatt Knott', 'Beau Turnbull']\n",
    "Extract nth element ( n = 2 ) from the said list of tuples:\n",
    "[99, 96, 94, 98]"
   ]
  },
  {
   "cell_type": "code",
   "execution_count": 25,
   "id": "e35fc91f-9035-4c57-841d-2925d33bbf98",
   "metadata": {},
   "outputs": [
    {
     "name": "stdout",
     "output_type": "stream",
     "text": [
      "['Greyson Fulton', 'Brady Kent', 'Wyatt Knott', 'Beau Turnbull']\n",
      "[99, 96, 94, 98]\n"
     ]
    }
   ],
   "source": [
    "l = [('Greyson Fulton', 98, 99), ('Brady Kent', 97, 96), ('Wyatt Knott', 91, 94), ('Beau Turnbull', 94, 98)]\n",
    "\n",
    "def extract_n_value_from_tuple(l, n):\n",
    "    return [l[i][n] for i in range(len(l))]\n",
    "\n",
    "print(extract_n_value_from_tuple(l, 0))\n",
    "print(extract_n_value_from_tuple(l, 2))"
   ]
  },
  {
   "cell_type": "markdown",
   "id": "345a1c99-a50c-4a4e-810b-3b6a3457071f",
   "metadata": {},
   "source": [
    "115. Check for Unique Elements in List\n",
    "\n",
    "Write a  Python program to check if the elements of a given list are unique or not.\n",
    "Original list:\n",
    "[1, 2, 4, 6, 8, 2, 1, 4, 10, 12, 14, 12, 16, 17]\n",
    "Is the said list contains all unique elements!\n",
    "False\n",
    "Original list:\n",
    "[2, 4, 6, 8, 10, 12, 14]\n",
    "Is the said list contains all unique elements!\n",
    "True"
   ]
  },
  {
   "cell_type": "code",
   "execution_count": 28,
   "id": "ec90e5e0-69de-486c-bce8-63ec4a4b132a",
   "metadata": {},
   "outputs": [
    {
     "name": "stdout",
     "output_type": "stream",
     "text": [
      "False\n",
      "True\n"
     ]
    }
   ],
   "source": [
    "l1 = [1, 2, 4, 6, 8, 2, 1, 4, 10, 12, 14, 12, 16, 17]\n",
    "l2 = [2, 4, 6, 8, 10, 12, 14] \n",
    "\n",
    "def check_unique_elements(l):\n",
    "    return len(l) == len(set(l))\n",
    "\n",
    "print(check_unique_elements(l1))\n",
    "print(check_unique_elements(l2))"
   ]
  },
  {
   "cell_type": "markdown",
   "id": "de6fb0c3-a349-4c57-9ead-1b158c539e56",
   "metadata": {},
   "source": [
    "116. Sort List of Lists by Index\n",
    "\n",
    "Write a Python program to sort a list of lists by a given index of the inner list.\n",
    "Original list:\n",
    "[('Greyson Fulton', 98, 99), ('Brady Kent', 97, 96), ('Wyatt Knott', 91, 94), ('Beau Turnbull', 94, 98)]\n",
    "Sort the said list of lists by a given index ( Index = 0 ) of the inner list\n",
    "[('Beau Turnbull', 94, 98), ('Brady Kent', 97, 96), ('Greyson Fulton', 98, 99), ('Wyatt Knott', 91, 94)]\n",
    "Sort the said list of lists by a given index ( Index = 2 ) of the inner list\n",
    "[('Wyatt Knott', 91, 94), ('Brady Kent', 97, 96), ('Beau Turnbull', 94, 98), ('Greyson Fulton', 98, 99)]"
   ]
  },
  {
   "cell_type": "code",
   "execution_count": 31,
   "id": "1adf8431-6b30-48c7-a2e7-5fa78ac7d014",
   "metadata": {},
   "outputs": [
    {
     "name": "stdout",
     "output_type": "stream",
     "text": [
      "[('Beau Turnbull', 94, 98), ('Brady Kent', 97, 96), ('Greyson Fulton', 98, 99), ('Wyatt Knott', 91, 94)]\n",
      "[('Wyatt Knott', 91, 94), ('Brady Kent', 97, 96), ('Beau Turnbull', 94, 98), ('Greyson Fulton', 98, 99)]\n"
     ]
    }
   ],
   "source": [
    "l = [('Greyson Fulton', 98, 99), ('Brady Kent', 97, 96), ('Wyatt Knott', 91, 94), ('Beau Turnbull', 94, 98)]\n",
    "\n",
    "def sort_tuples_on_index(l, n):\n",
    "    return sorted(l, key = lambda x:x[n])\n",
    "\n",
    "print(sort_tuples_on_index(l, 0))\n",
    "print(sort_tuples_on_index(l, 2))"
   ]
  },
  {
   "cell_type": "markdown",
   "id": "00ab2340-8d62-478a-b7c0-2d23f38da43e",
   "metadata": {},
   "source": [
    "117. Remove Elements Present in Another List\n",
    "\n",
    "Write a Python program to remove all elements from a given list that are present in another list.\n",
    "Original lists:\n",
    "list1: [1, 2, 3, 4, 5, 6, 7, 8, 9, 10]\n",
    "list2: [2, 4, 6, 8]\n",
    "Remove all elements from 'list1' present in 'list2:\n",
    "[1, 3, 5, 7, 9, 10]"
   ]
  },
  {
   "cell_type": "code",
   "execution_count": 34,
   "id": "6c4f6091-9813-4a93-9e3a-a7c3d58d30b1",
   "metadata": {},
   "outputs": [
    {
     "name": "stdout",
     "output_type": "stream",
     "text": [
      "[1, 3, 5, 7, 9, 10]\n"
     ]
    }
   ],
   "source": [
    "l1 = [1, 2, 3, 4, 5, 6, 7, 8, 9, 10]\n",
    "l2 = [2, 4, 6, 8]\n",
    "\n",
    "def remove_l2_from_l1(l1, l2):\n",
    "    return list(set(l1) - set(l2))\n",
    "\n",
    "print(remove_l2_from_l1(l1, l2))"
   ]
  },
  {
   "cell_type": "markdown",
   "id": "71d7c17c-502e-46c2-9479-101624597712",
   "metadata": {},
   "source": [
    "118. Difference Between Elements (n+1th - nth)\n",
    "\n",
    "Write a Python program to find the difference between elements (n+1th - nth) of a given list of numeric values.\n",
    "Original list:\n",
    "[1, 2, 3, 4, 5, 6, 7, 8, 9, 10]\n",
    "Dfference between elements (n+1th - nth) of the said list :\n",
    "[1, 1, 1, 1, 1, 1, 1, 1, 1]\n",
    "Original list:\n",
    "[2, 4, 6, 8]\n",
    "Dfference between elements (n+1th - nth) of the said list :\n",
    "[2, 2, 2]"
   ]
  },
  {
   "cell_type": "code",
   "execution_count": 39,
   "id": "72bd5e61-7666-47c6-b4ac-32caa7dddc9e",
   "metadata": {},
   "outputs": [
    {
     "name": "stdout",
     "output_type": "stream",
     "text": [
      "[1, 1, 1, 1, 1, 1, 1, 1, 1]\n",
      "[2, 2, 2]\n"
     ]
    }
   ],
   "source": [
    "l1 = [1, 2, 3, 4, 5, 6, 7, 8, 9, 10]\n",
    "l2 = [2, 4, 6, 8]\n",
    "\n",
    "def diff_consec_elements(l):\n",
    "    return [l[i] - l[i - 1] for i in range(1, len(l))]\n",
    "\n",
    "print(diff_consec_elements(l1))\n",
    "print(diff_consec_elements(l2))"
   ]
  },
  {
   "cell_type": "markdown",
   "id": "ca52b045-24b5-4fcb-b088-0c2f962a5cf7",
   "metadata": {},
   "source": [
    "119. Check Substring in List of Strings\n",
    "\n",
    "Write a Python program to check if a substring appears in a given list of string values.\n",
    "Original list:\n",
    "['red', 'black', 'white', 'green', 'orange']\n",
    "Substring to search:\n",
    "ack\n",
    "Check if a substring presents in the said list of string values:\n",
    "True\n",
    "Substring to search:\n",
    "abc\n",
    "Check if a substring presents in the said list of string values:\n",
    "False"
   ]
  },
  {
   "cell_type": "code",
   "execution_count": 41,
   "id": "73c85b8e-0486-410b-b711-781078e4e11a",
   "metadata": {},
   "outputs": [
    {
     "name": "stdout",
     "output_type": "stream",
     "text": [
      "True\n",
      "False\n"
     ]
    }
   ],
   "source": [
    "l = ['red', 'black', 'white', 'green', 'orange']\n",
    "\n",
    "def check_substring(l, substring):\n",
    "    return any(word for word in l if substring in word)\n",
    "\n",
    "print(check_substring(l, 'ack'))\n",
    "print(check_substring(l, 'abc'))"
   ]
  },
  {
   "cell_type": "markdown",
   "id": "33434340-e381-4e40-98e7-f4127c1b7fa4",
   "metadata": {},
   "source": [
    "120. Create List with Alternate Elements\n",
    "\n",
    "Write a Python program to create a list taking alternate elements from a given list.\n",
    "Original list:\n",
    "['red', 'black', 'white', 'green', 'orange']\n",
    "List with alternate elements from the said list:\n",
    "['red', 'white', 'orange']\n",
    "Original list:\n",
    "[2, 0, 3, 4, 0, 2, 8, 3, 4, 2]\n",
    "List with alternate elements from the said list:\n",
    "[2, 3, 0, 8, 4]"
   ]
  },
  {
   "cell_type": "code",
   "execution_count": 43,
   "id": "30de0fda-dbd3-4f2d-b268-1e3f51cea74c",
   "metadata": {},
   "outputs": [
    {
     "name": "stdout",
     "output_type": "stream",
     "text": [
      "['red', 'white', 'orange']\n",
      "[2, 3, 0, 8, 4]\n"
     ]
    }
   ],
   "source": [
    "l1 = ['red', 'black', 'white', 'green', 'orange']\n",
    "l2 = [2, 0, 3, 4, 0, 2, 8, 3, 4, 2]\n",
    "\n",
    "def alternate_elements(l):\n",
    "    return [l[i] for i in range(0, len(l), 2)]\n",
    "\n",
    "print(alternate_elements(l1))\n",
    "print(alternate_elements(l2))"
   ]
  },
  {
   "cell_type": "markdown",
   "id": "491fcc34-b4a6-43da-a851-b9f8b3b99468",
   "metadata": {},
   "source": [
    "121. Find Nested List Elements in Another List\n",
    "\n",
    "Write a Python program to find nested list elements that are present in another list.\n",
    "Original lists:\n",
    "[1, 2, 3, 4, 5, 6, 7, 8, 9, 10, 11, 12, 13, 14]\n",
    "[[12, 18, 23, 25, 45], [7, 11, 19, 24, 28], [1, 5, 8, 18, 15, 16]]\n",
    "Intersection of said nested lists:\n",
    "[[12], [7, 11], [1, 5, 8]]"
   ]
  },
  {
   "cell_type": "code",
   "execution_count": 46,
   "id": "80434ed8-5b00-4567-9ae8-ea22538d592e",
   "metadata": {},
   "outputs": [
    {
     "name": "stdout",
     "output_type": "stream",
     "text": [
      "[[12], [7, 11], [1, 5, 8]]\n"
     ]
    }
   ],
   "source": [
    "l1 = [1, 2, 3, 4, 5, 6, 7, 8, 9, 10, 11, 12, 13, 14]\n",
    "l2 = [[12, 18, 23, 25, 45], [7, 11, 19, 24, 28], [1, 5, 8, 18, 15, 16]]\n",
    "\n",
    "def nested_ele_in_another_list(l1, l2):\n",
    "    return [[ele for ele in sublist if ele in l1] for sublist in l2]\n",
    "\n",
    "print(nested_ele_in_another_list(l1, l2))"
   ]
  },
  {
   "cell_type": "markdown",
   "id": "81a50092-8bb7-490a-94cc-bff970000c86",
   "metadata": {},
   "source": [
    "122. Find Common Elements in Nested Lists\n",
    "\n",
    "Write a  Python program to find common elements in a nested list.\n",
    "Original lists:\n",
    "[[12, 18, 23, 25, 45], [7, 12, 18, 24, 28], [1, 5, 8, 12, 15, 16, 18]]\n",
    "Common element(s) in nested lists:\n",
    "[18, 12]"
   ]
  },
  {
   "cell_type": "code",
   "execution_count": 47,
   "id": "75d111d3-bb01-4c41-bfb7-64b40d20a01b",
   "metadata": {},
   "outputs": [
    {
     "name": "stdout",
     "output_type": "stream",
     "text": [
      "[18, 12]\n"
     ]
    }
   ],
   "source": [
    "l = [[12, 18, 23, 25, 45], [7, 12, 18, 24, 28], [1, 5, 8, 12, 15, 16, 18]]\n",
    "\n",
    "def common_ele_nested_list(l):\n",
    "    result = list(set.intersection(*map(set, l)))\n",
    "    return result\n",
    "\n",
    "print(common_ele_nested_list(l))"
   ]
  },
  {
   "cell_type": "markdown",
   "id": "0e25f50f-7a10-4052-bbd8-a7914716c50f",
   "metadata": {},
   "source": [
    "123. Reverse Strings in List\n",
    "\n",
    "Write a Python program to reverse strings in a given list of string values.\n",
    "Original lists:\n",
    "['Red', 'Green', 'Blue', 'White', 'Black']\n",
    "Reverse strings of the said given list:\n",
    "['deR', 'neerG', 'eulB', 'etihW', 'kcalB']"
   ]
  },
  {
   "cell_type": "code",
   "execution_count": 48,
   "id": "a3ec6a5d-243d-4bdd-903d-8a4f30f56a3f",
   "metadata": {},
   "outputs": [
    {
     "name": "stdout",
     "output_type": "stream",
     "text": [
      "['deR', 'neerG', 'eulB', 'etihW', 'kcalB']\n"
     ]
    }
   ],
   "source": [
    "l =['Red', 'Green', 'Blue', 'White', 'Black']\n",
    "\n",
    "def reverse_string_in_list(l):\n",
    "    return [s[::-1] for s in l]\n",
    "\n",
    "print(reverse_string_in_list(l))"
   ]
  },
  {
   "cell_type": "markdown",
   "id": "cef125a1-5185-4da0-af9d-5eaa754354a2",
   "metadata": {},
   "source": [
    "124. Max and Min Product of Tuple Pairs\n",
    "\n",
    "Write a Python program to find the maximum and minimum product of pairs of tuples within a given list.\n",
    "The original list, tuple :\n",
    "[(2, 7), (2, 6), (1, 8), (4, 9)]\n",
    "Maximum and minimum product from the pairs of the said tuple of list:\n",
    "(36, 8)"
   ]
  },
  {
   "cell_type": "code",
   "execution_count": 54,
   "id": "03d52b5f-2625-46e4-bd82-775d65d468c4",
   "metadata": {},
   "outputs": [
    {
     "name": "stdout",
     "output_type": "stream",
     "text": [
      "(36, 8)\n"
     ]
    }
   ],
   "source": [
    "l =[(2, 7), (2, 6), (1, 8), (4, 9)]\n",
    "\n",
    "def max_min_product_tuple(l):\n",
    "    max_prod = l[0][0] * l[0][1]\n",
    "    min_prod = l[0][0] * l[0][1]\n",
    "    for tup in l:\n",
    "        prod = tup[0] * tup[1]\n",
    "        if prod > max_prod:\n",
    "            max_prod = prod\n",
    "        if prod < min_prod:\n",
    "            min_prod = prod\n",
    "    return (max_prod, min_prod)\n",
    "\n",
    "print(max_min_product_tuple(l))"
   ]
  },
  {
   "cell_type": "markdown",
   "id": "8c2d0380-c190-451e-a173-cee0ba531b33",
   "metadata": {},
   "source": [
    "125. Product of Unique Numbers in List\n",
    "\n",
    "Write a Python program to calculate the product of the unique numbers in a given list.\n",
    "Original List : [10, 20, 30, 40, 20, 50, 60, 40]\n",
    "Product of the unique numbers of the said list: 720000000"
   ]
  },
  {
   "cell_type": "code",
   "execution_count": 56,
   "id": "cfaf02c9-7157-4f44-bfe0-0f8c531eeecb",
   "metadata": {},
   "outputs": [
    {
     "name": "stdout",
     "output_type": "stream",
     "text": [
      "720000000\n"
     ]
    }
   ],
   "source": [
    "l = [10, 20, 30, 40, 20, 50, 60, 40]\n",
    "\n",
    "def unique_ele_prod(l):\n",
    "    prod = 1\n",
    "    unique_ele = list(set(l))\n",
    "    for i in unique_ele:\n",
    "        prod = prod * i\n",
    "    return prod\n",
    "\n",
    "print(unique_ele_prod(l))"
   ]
  },
  {
   "cell_type": "markdown",
   "id": "b4fcc8f8-1151-421e-8301-6c94ea44bc60",
   "metadata": {},
   "source": [
    "126. Interleave Multiple Lists\n",
    "\n",
    "Write a Python program to interleave multiple lists of the same length.\n",
    "Original list:\n",
    "list1: [1, 2, 3, 4, 5, 6, 7]\n",
    "list2: [10, 20, 30, 40, 50, 60, 70]\n",
    "list3: [100, 200, 300, 400, 500, 600, 700]\n",
    "Interleave multiple lists:\n",
    "[1, 10, 100, 2, 20, 200, 3, 30, 300, 4, 40, 400, 5, 50, 500, 6, 60, 600, 7, 70, 700]"
   ]
  },
  {
   "cell_type": "code",
   "execution_count": 57,
   "id": "bebd7085-d047-446d-8344-8ea0fece731a",
   "metadata": {},
   "outputs": [
    {
     "name": "stdout",
     "output_type": "stream",
     "text": [
      "[1, 10, 100, 2, 20, 200, 3, 30, 300, 4, 40, 400, 5, 50, 500, 6, 60, 600, 7, 70, 700]\n"
     ]
    }
   ],
   "source": [
    "l1 = [1, 2, 3, 4, 5, 6, 7]\n",
    "l2 = [10, 20, 30, 40, 50, 60, 70]\n",
    "l3 = [100, 200, 300, 400, 500, 600, 700]\n",
    "\n",
    "def interleave_ele(l1, l2, l3):\n",
    "    result = []\n",
    "    for i,j,k in zip(l1, l2, l3):\n",
    "        result.append(i)\n",
    "        result.append(j)\n",
    "        result.append(k)\n",
    "    return result\n",
    "\n",
    "print(interleave_ele(l1, l2, l3))"
   ]
  },
  {
   "cell_type": "code",
   "execution_count": 59,
   "id": "599a570f-a637-4d02-8993-ac6509b22827",
   "metadata": {},
   "outputs": [
    {
     "name": "stdout",
     "output_type": "stream",
     "text": [
      "[1, 10, 100, 2, 20, 200, 3, 30, 300, 4, 40, 400, 5, 50, 500, 6, 60, 600, 7, 70, 700]\n"
     ]
    }
   ],
   "source": [
    "l1 = [1, 2, 3, 4, 5, 6, 7]\n",
    "l2 = [10, 20, 30, 40, 50, 60, 70]\n",
    "l3 = [100, 200, 300, 400, 500, 600, 700]\n",
    "\n",
    "def interleave_ele_simpler(l1, l2, l3):\n",
    "    return [ele for eles in zip(l1, l2, l3) for ele in eles]\n",
    "\n",
    "print(interleave_ele_simpler(l1, l2, l3))"
   ]
  },
  {
   "cell_type": "markdown",
   "id": "72078f41-fb1b-4ab8-81f0-d4ee29f0e043",
   "metadata": {},
   "source": [
    "127. Remove Words Containing Specific Characters\n",
    "\n",
    "Write a Python program to remove words from a given list of strings containing a character or string.\n",
    "Original list:\n",
    "list1: ['Red color', 'Orange#', 'Green', 'Orange @', 'White']\n",
    "Character list:\n",
    "['#', 'color', '@']\n",
    "New list:\n",
    "['Red', '', 'Green', 'Orange', 'White']"
   ]
  },
  {
   "cell_type": "code",
   "execution_count": 62,
   "id": "568437ff-9541-4369-af41-e2c1376b07c2",
   "metadata": {},
   "outputs": [
    {
     "name": "stdout",
     "output_type": "stream",
     "text": [
      "['Red color', 'Orange', 'Green', 'Orange', 'White']\n"
     ]
    }
   ],
   "source": [
    "l = ['Red color', 'Orange#', 'Green', 'Orange @', 'White']\n",
    "char_l = ['#', 'color', '@']\n",
    "\n",
    "def remove_words_with_char(l, char_l):\n",
    "    new_list = []\n",
    "    for word in l:\n",
    "        cleaned_word = \"\"\n",
    "        for char in word:\n",
    "            if char not in char_l:\n",
    "                cleaned_word += char\n",
    "        cleaned_word = \" \".join(cleaned_word.split())\n",
    "        new_list.append(cleaned_word)\n",
    "    return new_list\n",
    "    \n",
    "print(remove_words_with_char(l, char_l))"
   ]
  },
  {
   "cell_type": "code",
   "execution_count": 65,
   "id": "f89bdba2-02cb-4a70-b754-0c87644bb5d4",
   "metadata": {},
   "outputs": [
    {
     "name": "stdout",
     "output_type": "stream",
     "text": [
      "['Red', '', 'Green', 'Orange', 'White']\n"
     ]
    }
   ],
   "source": [
    "l = ['Red color', 'Orange#', 'Green', 'Orange @', 'White']\n",
    "char_l = ['#', 'color', '@']\n",
    "\n",
    "def remove_words(in_list, char_list):\n",
    "    # Initialize an empty list to store the modified strings\n",
    "    new_list = []\n",
    "    \n",
    "    # Iterate through each line in 'in_list'\n",
    "    for line in in_list:\n",
    "        # Split the line into words and join only those words that don't contain any phrase from 'char_list'\n",
    "        new_words = ' '.join([word for word in line.split() if not any([phrase in word for phrase in char_list])])\n",
    "        \n",
    "        # Append the modified line to the 'new_list'\n",
    "        new_list.append(new_words)\n",
    "    \n",
    "    return new_list\n",
    "    \n",
    "print(remove_words(l, char_l))"
   ]
  },
  {
   "cell_type": "markdown",
   "id": "253f97a0-2dbb-4218-b06f-c4dd4a3ab447",
   "metadata": {},
   "source": [
    "128. Sum Numbers in List Within Index Range\n",
    "\n",
    "Write a Python program to calculate the sum of the numbers in a list between the indices of a specified range.\n",
    "Original list:\n",
    "[2, 1, 5, 6, 8, 3, 4, 9, 10, 11, 8, 12]\n",
    "Range: 8 , 10\n",
    "Sum of the specified range:\n",
    "29"
   ]
  },
  {
   "cell_type": "code",
   "execution_count": 8,
   "id": "2c934a01-7809-42dc-9ada-98a28e993c2d",
   "metadata": {},
   "outputs": [
    {
     "name": "stdout",
     "output_type": "stream",
     "text": [
      "29\n"
     ]
    }
   ],
   "source": [
    "l = [2, 1, 5, 6, 8, 3, 4, 9, 10, 11, 8, 12]\n",
    "range_tup = (8, 10)\n",
    "def sum_within_range(l, range_tup):\n",
    "    sum_l = 0\n",
    "    for i in range(len(l)):\n",
    "        if range_tup[0] <= i and i <= range_tup[1]:\n",
    "            sum_l += l[i]\n",
    "    return sum_l\n",
    "\n",
    "print(sum_within_range(l, range_tup))"
   ]
  },
  {
   "cell_type": "markdown",
   "id": "be69eb8f-fe83-4f36-a1c5-7b46937777d9",
   "metadata": {},
   "source": [
    "129. Reverse Each List in Nested Lists\n",
    "\n",
    "Write a Python program to reverse each list in a given list of lists.\n",
    "Original list of lists:\n",
    "[[1, 2, 3, 4], [5, 6, 7, 8], [9, 10, 11, 12], [13, 14, 15, 16]]\n",
    "Reverse each list in the said list of lists:\n",
    "[[4, 3, 2, 1], [8, 7, 6, 5], [12, 11, 10, 9], [16, 15, 14, 13]]"
   ]
  },
  {
   "cell_type": "code",
   "execution_count": 9,
   "id": "efb5a037-fa09-41df-bcaa-dab6d818db59",
   "metadata": {},
   "outputs": [
    {
     "name": "stdout",
     "output_type": "stream",
     "text": [
      "[[4, 3, 2, 1], [8, 7, 6, 5], [12, 11, 10, 9], [16, 15, 14, 13]]\n"
     ]
    }
   ],
   "source": [
    "l = [[1, 2, 3, 4], [5, 6, 7, 8], [9, 10, 11, 12], [13, 14, 15, 16]]\n",
    "\n",
    "def reverse_nested_list(l):\n",
    "    return [sublist[::-1] for sublist in l]\n",
    "\n",
    "print(reverse_nested_list(l))"
   ]
  },
  {
   "cell_type": "markdown",
   "id": "a47bab95-7e2a-4c9b-872a-552451ccd11a",
   "metadata": {},
   "source": [
    "130. Count Same Pairs in Three Lists\n",
    "\n",
    "Write a Python program to count the same pair in three given lists.\n",
    "Original lists:\n",
    "[1, 2, 3, 4, 5, 6, 7, 8]\n",
    "[2, 2, 3, 1, 2, 6, 7, 9]\n",
    "[2, 1, 3, 1, 2, 6, 7, 9]\n",
    "Number of same pair of the said three given lists:\n",
    "3"
   ]
  },
  {
   "cell_type": "code",
   "execution_count": 10,
   "id": "b4be005c-b635-4726-9fde-2cf58209e421",
   "metadata": {},
   "outputs": [
    {
     "name": "stdout",
     "output_type": "stream",
     "text": [
      "3\n"
     ]
    }
   ],
   "source": [
    "l1 = [1, 2, 3, 4, 5, 6, 7, 8]\n",
    "l2 = [2, 2, 3, 1, 2, 6, 7, 9]\n",
    "l3 = [2, 1, 3, 1, 2, 6, 7, 9]\n",
    "\n",
    "def count_same_pairs(l1, l2, l3):\n",
    "    count_pair = 0\n",
    "    for i1, i2, i3 in zip(l1, l2, l3):\n",
    "        if i1 == i2 == i3:\n",
    "            count_pair += 1\n",
    "    return count_pair\n",
    "\n",
    "print(count_same_pairs(l1, l2, l3))"
   ]
  },
  {
   "cell_type": "markdown",
   "id": "585b5ac7-5713-4091-bfb8-467a70c1a6be",
   "metadata": {},
   "source": [
    "131. Frequency of Consecutive Duplicates\n",
    "\n",
    "Write a Python program to count the frequency of consecutive duplicate elements in a given list of numbers.\n",
    "Original lists:\n",
    "[1, 2, 2, 2, 4, 4, 4, 5, 5, 5, 5]\n",
    "Consecutive duplicate elements and their frequency:\n",
    "([1, 2, 4, 5], [1, 3, 3, 4])"
   ]
  },
  {
   "cell_type": "code",
   "execution_count": 14,
   "id": "e91b589b-02b4-4c04-9233-67e1e7b0795f",
   "metadata": {},
   "outputs": [
    {
     "name": "stdout",
     "output_type": "stream",
     "text": [
      "[[1, 2, 4, 5], [1, 3, 3, 4]]\n"
     ]
    }
   ],
   "source": [
    "l = [1, 2, 2, 2, 4, 4, 4, 5, 5, 5, 5]\n",
    "\n",
    "def consec_dup_freq(l):\n",
    "    val, freq = [], []\n",
    "    current_val = l[0]\n",
    "    count = 1\n",
    "\n",
    "    for i in range(1, len(l)):\n",
    "        if l[i] == current_val:\n",
    "            count += 1\n",
    "        else:\n",
    "            val.append(current_val)\n",
    "            freq.append(count)\n",
    "            current_val = l[i]\n",
    "            count = 1\n",
    "    val.append(current_val)\n",
    "    freq.append(count)\n",
    "    return [val, freq]\n",
    "\n",
    "print(consec_dup_freq(l))"
   ]
  },
  {
   "cell_type": "code",
   "execution_count": null,
   "id": "aa6ec5ec-9d59-4b6f-9155-9ba4710f48ba",
   "metadata": {},
   "outputs": [],
   "source": []
  }
 ],
 "metadata": {
  "kernelspec": {
   "display_name": "Python 3 (ipykernel)",
   "language": "python",
   "name": "python3"
  },
  "language_info": {
   "codemirror_mode": {
    "name": "ipython",
    "version": 3
   },
   "file_extension": ".py",
   "mimetype": "text/x-python",
   "name": "python",
   "nbconvert_exporter": "python",
   "pygments_lexer": "ipython3",
   "version": "3.12.6"
  }
 },
 "nbformat": 4,
 "nbformat_minor": 5
}
