{
 "cells": [
  {
   "cell_type": "markdown",
   "id": "90d9dd10-cda3-4b63-af62-d22dc6a23e8d",
   "metadata": {},
   "source": [
    "1. Sum Items in List\n",
    "\n",
    "Write a Python program to sum all the items in a list."
   ]
  },
  {
   "cell_type": "code",
   "execution_count": 1,
   "id": "ba57ddd3-f7bf-4068-bba6-54e08b7e1c1f",
   "metadata": {},
   "outputs": [
    {
     "name": "stdout",
     "output_type": "stream",
     "text": [
      "-5\n"
     ]
    }
   ],
   "source": [
    "def list_sum(l):\n",
    "    sum = 0\n",
    "    for i in l:\n",
    "        sum += i\n",
    "    return sum\n",
    "\n",
    "print(list_sum([1, 2, -8]))"
   ]
  },
  {
   "cell_type": "markdown",
   "id": "3776722e-6b9c-4ea7-802c-adb3058ae1ec",
   "metadata": {},
   "source": [
    "2. Multiply Items in List\n",
    "\n",
    "Write a Python program to multiply all the items in a list."
   ]
  },
  {
   "cell_type": "code",
   "execution_count": 2,
   "id": "f2b0f816-e97b-4b09-affc-bc6ee95e1869",
   "metadata": {},
   "outputs": [
    {
     "name": "stdout",
     "output_type": "stream",
     "text": [
      "-16\n"
     ]
    }
   ],
   "source": [
    "def list_multiply(l):\n",
    "    prod = 1\n",
    "    for i in l:\n",
    "        prod = prod * i\n",
    "    return prod\n",
    "\n",
    "print(list_multiply([1, 2, -8]))"
   ]
  },
  {
   "cell_type": "markdown",
   "id": "ee5aaa49-6b9b-44b1-ba42-1d4d9bb5fb1a",
   "metadata": {},
   "source": [
    "3. Get Largest Number in List\n",
    "\n",
    "Write a Python program to get the largest number from a list."
   ]
  },
  {
   "cell_type": "code",
   "execution_count": 3,
   "id": "df623cf7-08ab-4604-9296-bbab1896e6a0",
   "metadata": {},
   "outputs": [
    {
     "name": "stdout",
     "output_type": "stream",
     "text": [
      "2\n"
     ]
    }
   ],
   "source": [
    "def largest_num(l):\n",
    "    largest = l[0]\n",
    "    for i in l:\n",
    "        if i > largest:\n",
    "            largest = i\n",
    "    return largest\n",
    "\n",
    "print(largest_num([1, 2, -8, 0]))"
   ]
  },
  {
   "cell_type": "markdown",
   "id": "646f8b3d-0d52-4bc0-9c81-d46a75bc8c8d",
   "metadata": {},
   "source": [
    "4. Get Smallest Number in List\n",
    "\n",
    "Write a Python program to get the smallest number from a list."
   ]
  },
  {
   "cell_type": "code",
   "execution_count": 4,
   "id": "1051691f-25e6-4f95-a903-52039c8a12a6",
   "metadata": {},
   "outputs": [
    {
     "name": "stdout",
     "output_type": "stream",
     "text": [
      "-8\n"
     ]
    }
   ],
   "source": [
    "def smallest_num(l):\n",
    "    smallest = l[0]\n",
    "    for i in l:\n",
    "        if i < smallest:\n",
    "            smallest = i\n",
    "    return smallest\n",
    "\n",
    "print(smallest_num([1, 2, -8, 0]))"
   ]
  },
  {
   "cell_type": "markdown",
   "id": "8984b259-0f6c-4461-9628-563142371a44",
   "metadata": {},
   "source": [
    "5. Count Strings with Same Start and End\n",
    "\n",
    "Write a Python program to count the number of strings from a given list of strings. The string length is 2 or more and the first and last characters are the same.\n",
    "Sample List : ['abc', 'xyz', 'aba', '1221']\n",
    "Expected Result : 2"
   ]
  },
  {
   "cell_type": "code",
   "execution_count": 5,
   "id": "f548e3d7-7c89-4404-80b1-784da1365212",
   "metadata": {},
   "outputs": [
    {
     "name": "stdout",
     "output_type": "stream",
     "text": [
      "2\n"
     ]
    }
   ],
   "source": [
    "def same_start_end(l):\n",
    "    samesies = []\n",
    "    for word in l:\n",
    "        if len(word) >=2 and word[0] == word[-1]:\n",
    "            samesies.append(word)\n",
    "    return len(samesies)\n",
    "\n",
    "print(same_start_end(['abc', 'xyz', 'aba', '1221']))"
   ]
  },
  {
   "cell_type": "markdown",
   "id": "cb3ffbc7-0a48-4550-bd27-9879ba3a394e",
   "metadata": {},
   "source": [
    "6. Sort Tuples by Last Element\n",
    "\n",
    "Write a Python program to get a list, sorted in increasing order by the last element in each tuple from a given list of non-empty tuples.\n",
    "Sample List : [(2, 5), (1, 2), (4, 4), (2, 3), (2, 1)]\n",
    "Expected Result : [(2, 1), (1, 2), (2, 3), (4, 4), (2, 5)]"
   ]
  },
  {
   "cell_type": "code",
   "execution_count": 6,
   "id": "3f4fce16-439e-48c6-b55d-92da64b885ae",
   "metadata": {},
   "outputs": [
    {
     "name": "stdout",
     "output_type": "stream",
     "text": [
      "[(2, 1), (1, 2), (2, 3), (4, 4), (2, 5)]\n"
     ]
    }
   ],
   "source": [
    "def sort_tuple_last_ele(l):\n",
    "    return sorted(l, key = lambda x:x[1])\n",
    "\n",
    "print(sort_tuple_last_ele([(2, 5), (1, 2), (4, 4), (2, 3), (2, 1)]))"
   ]
  },
  {
   "cell_type": "markdown",
   "id": "8a20d557-fa7b-4381-b3e5-1dc4fe4bd24c",
   "metadata": {},
   "source": [
    "7. Remove Duplicates from List\n",
    "\n",
    "Write a Python program to remove duplicates from a list."
   ]
  },
  {
   "cell_type": "code",
   "execution_count": 7,
   "id": "eac0a88e-972a-40f6-bb67-71b7f3aecd9a",
   "metadata": {},
   "outputs": [
    {
     "name": "stdout",
     "output_type": "stream",
     "text": [
      "[40, 10, 80, 50, 20, 60, 30]\n"
     ]
    }
   ],
   "source": [
    "def remove_dupes(l):\n",
    "    return list(set(l))\n",
    "\n",
    "print(remove_dupes([10, 20, 30, 20, 10, 50, 60, 40, 80, 50, 40]))"
   ]
  },
  {
   "cell_type": "markdown",
   "id": "030a9551-c2c5-4b1c-bca4-111c7136beb5",
   "metadata": {},
   "source": [
    "8. Check if List is Empty\n",
    "\n",
    "Write a Python program to check if a list is empty or not."
   ]
  },
  {
   "cell_type": "code",
   "execution_count": 8,
   "id": "32eca94b-b414-4d83-b6d3-e7f93d036725",
   "metadata": {},
   "outputs": [
    {
     "name": "stdout",
     "output_type": "stream",
     "text": [
      "True\n"
     ]
    }
   ],
   "source": [
    "def check_empty_list(l):\n",
    "    return len(l) == 0\n",
    "\n",
    "print(check_empty_list([]))"
   ]
  },
  {
   "cell_type": "markdown",
   "id": "14af1296-3523-449d-9041-73abe6364375",
   "metadata": {},
   "source": [
    "9. Clone or Copy a List\n",
    "\n",
    "Write a Python program to clone or copy a list."
   ]
  },
  {
   "cell_type": "code",
   "execution_count": 9,
   "id": "6e699e34-31de-43dd-afc2-4fcc0ee0ea22",
   "metadata": {},
   "outputs": [
    {
     "name": "stdout",
     "output_type": "stream",
     "text": [
      "[10, 20, 30, 20, 10, 50, 60, 40, 80, 50, 40]\n"
     ]
    }
   ],
   "source": [
    "def clone_copy_list(l):\n",
    "    new_list = list(l)\n",
    "    return new_list\n",
    "\n",
    "print(clone_copy_list([10, 20, 30, 20, 10, 50, 60, 40, 80, 50, 40]))"
   ]
  },
  {
   "cell_type": "markdown",
   "id": "2a435ac8-ac85-4774-9e25-cfc2fc405882",
   "metadata": {},
   "source": [
    "10. Find Words Longer Than n\n",
    "\n",
    "Write a Python program to find the list of words that are longer than n from a given list of words."
   ]
  },
  {
   "cell_type": "code",
   "execution_count": 10,
   "id": "4bd74c09-9865-4f05-b0b3-bbe6c508aa10",
   "metadata": {},
   "outputs": [
    {
     "name": "stdout",
     "output_type": "stream",
     "text": [
      "['quick', 'brown', 'jumps', 'over', 'lazy']\n"
     ]
    }
   ],
   "source": [
    "def longer_than_n(l,n):\n",
    "    l = l.split()\n",
    "    longer_words = []\n",
    "    for i in l:\n",
    "        if len(i) > n:\n",
    "            longer_words.append(i)\n",
    "    return longer_words\n",
    "\n",
    "print(longer_than_n(\"The quick brown fox jumps over the lazy dog\", 3))"
   ]
  },
  {
   "cell_type": "markdown",
   "id": "11799c0b-9558-4fcd-87b7-7831d7798dbd",
   "metadata": {},
   "source": [
    "11. Check Common Member Between Two Lists\n",
    "\n",
    "Write a Python function that takes two lists and returns True if they have at least one common member."
   ]
  },
  {
   "cell_type": "code",
   "execution_count": 17,
   "id": "1ac12adb-cb61-42ba-8a88-b0af95fd1e7f",
   "metadata": {},
   "outputs": [
    {
     "name": "stdout",
     "output_type": "stream",
     "text": [
      "False\n",
      "True\n"
     ]
    }
   ],
   "source": [
    "def common_ele(l1, l2):\n",
    "    result = False\n",
    "    for e1 in l1:\n",
    "        if e1 in l2:\n",
    "            result = True\n",
    "    return result\n",
    "\n",
    "print(common_ele([1, 2, 3, 4, 5], [6, 7, 8, 9]))\n",
    "print(common_ele([1, 2, 3, 4, 5], [5, 6, 7, 8, 9]))"
   ]
  },
  {
   "cell_type": "code",
   "execution_count": 16,
   "id": "df348e7b-b64d-4a27-b23b-a16775847ebe",
   "metadata": {},
   "outputs": [
    {
     "name": "stdin",
     "output_type": "stream",
     "text": [
      "Enter Names:  krishna\n"
     ]
    },
    {
     "name": "stdout",
     "output_type": "stream",
     "text": [
      "K-R-I-S-H-N-A\n"
     ]
    }
   ],
   "source": [
    "n = input('Enter Names: ')\n",
    "def name(n):\n",
    "    l = list(n)\n",
    "    result = []\n",
    "    result.append(l[0].upper())\n",
    "    for i in l[1:]:\n",
    "        result.append('-' + i.upper())\n",
    "    return ''.join(result)\n",
    "\n",
    "print(name(n))"
   ]
  },
  {
   "cell_type": "markdown",
   "id": "e9dc3157-9474-4e1c-b349-ef20b6a4b91b",
   "metadata": {},
   "source": [
    "12. Remove Specific Elements from List\n",
    "\n",
    "Write a Python program to print a specified list after removing the 0th, 4th and 5th elements.\n",
    "Sample List : ['Red', 'Green', 'White', 'Black', 'Pink', 'Yellow']\n",
    "Expected Output : ['Green', 'White', 'Black']"
   ]
  },
  {
   "cell_type": "code",
   "execution_count": 18,
   "id": "38e4493f-054a-4615-b3a4-1e1a3eb4c9b7",
   "metadata": {},
   "outputs": [
    {
     "name": "stdout",
     "output_type": "stream",
     "text": [
      "['Green', 'White', 'Black']\n"
     ]
    }
   ],
   "source": [
    "def remove_eles(l):\n",
    "    return [l[i] for i in range(len(l)) if i not in (0, 4, 5)]\n",
    "    \n",
    "l = ['Red', 'Green', 'White', 'Black', 'Pink', 'Yellow']\n",
    "print(remove_eles(l))"
   ]
  },
  {
   "cell_type": "markdown",
   "id": "c8b78b68-96d0-4a44-acfd-8a913138153b",
   "metadata": {},
   "source": [
    "13. Generate 3D Array\n",
    "\n",
    "Write a Python program to generate a 3*4*6 3D array whose each element is *."
   ]
  },
  {
   "cell_type": "code",
   "execution_count": 21,
   "id": "da2f6dbe-6d61-4247-95fd-c1d861e37cc3",
   "metadata": {},
   "outputs": [
    {
     "name": "stdout",
     "output_type": "stream",
     "text": [
      "[[['*', '*', '*', '*', '*', '*'], ['*', '*', '*', '*', '*', '*'], ['*', '*', '*', '*', '*', '*'], ['*', '*', '*', '*', '*', '*']], [['*', '*', '*', '*', '*', '*'], ['*', '*', '*', '*', '*', '*'], ['*', '*', '*', '*', '*', '*'], ['*', '*', '*', '*', '*', '*']], [['*', '*', '*', '*', '*', '*'], ['*', '*', '*', '*', '*', '*'], ['*', '*', '*', '*', '*', '*'], ['*', '*', '*', '*', '*', '*']]]\n"
     ]
    }
   ],
   "source": [
    "array = [[['*' for col in range(6)] for col in range(4)] for col in range(3)]\n",
    "print(array)"
   ]
  },
  {
   "cell_type": "markdown",
   "id": "bd36175e-9989-49fd-912a-7b7c9e0e29ae",
   "metadata": {},
   "source": [
    "14. Remove Even Numbers from List\n",
    "\n",
    "Write a Python program to print the numbers of a specified list after removing even numbers from it."
   ]
  },
  {
   "cell_type": "code",
   "execution_count": 22,
   "id": "e1c75b23-c1cb-47e4-bc3f-9354a0ed758a",
   "metadata": {},
   "outputs": [
    {
     "name": "stdout",
     "output_type": "stream",
     "text": [
      "[7, 25, 27]\n"
     ]
    }
   ],
   "source": [
    "def remove_even_n(l):\n",
    "    return [i for i in l if i % 2 != 0]\n",
    "\n",
    "print(remove_even_n([7, 8, 120, 25, 44, 20, 27]))"
   ]
  },
  {
   "cell_type": "markdown",
   "id": "13b6865f-bf2c-4d38-8cbd-a0fcb00a401f",
   "metadata": {},
   "source": [
    "15. Shuffle List\n",
    "\n",
    "Write a Python program to shuffle and print a specified list."
   ]
  },
  {
   "cell_type": "code",
   "execution_count": 24,
   "id": "eb56bbcd-b690-459f-bb57-ed355138ebf7",
   "metadata": {},
   "outputs": [
    {
     "name": "stdout",
     "output_type": "stream",
     "text": [
      "['White', 'Yellow', 'Black', 'Green', 'Pink', 'Red']\n"
     ]
    }
   ],
   "source": [
    "import random\n",
    "\n",
    "def shuffle_list(l):\n",
    "    random.shuffle(l)\n",
    "    return l\n",
    "\n",
    "print(shuffle_list(['Red', 'Green', 'White', 'Black', 'Pink', 'Yellow']))"
   ]
  },
  {
   "cell_type": "markdown",
   "id": "89c3dcad-1a29-4953-a4d5-5f8819f42c9b",
   "metadata": {},
   "source": [
    "16. Generate Square Numbers in Range\n",
    "\n",
    "Write a Python program to generate and print a list of the first and last 5 elements where the values are square numbers between 1 and 30 (both included)."
   ]
  },
  {
   "cell_type": "code",
   "execution_count": 26,
   "id": "906aa15c-5cb7-4597-875d-462ca5971186",
   "metadata": {},
   "outputs": [
    {
     "name": "stdout",
     "output_type": "stream",
     "text": [
      "[1, 4, 9, 16, 25]\n",
      "[625, 676, 729, 784, 841, 900]\n"
     ]
    }
   ],
   "source": [
    "def create_list():\n",
    "    l = []\n",
    "    for i in range(1, 31):\n",
    "        l.append(i ** 2)\n",
    "    print(l[:5])\n",
    "    print(l[-6:])\n",
    "\n",
    "create_list()"
   ]
  },
  {
   "cell_type": "markdown",
   "id": "8cc6e965-4efe-4b98-a7bd-892fc8cadd09",
   "metadata": {},
   "source": [
    "17. Check If All Numbers Are Prime\n",
    "\n",
    "Write a  Python program to check if each number is prime in a given list of numbers. Return True if all numbers are prime otherwise False.\n",
    "Sample Data:\n",
    "([0, 3, 4, 7, 9]) -> False\n",
    "([3, 5, 7, 13]) -> True\n",
    "([1, 5, 3]) -> False"
   ]
  },
  {
   "cell_type": "code",
   "execution_count": 35,
   "id": "0f86cabc-6281-4296-b41d-2edd33bcc5d5",
   "metadata": {},
   "outputs": [
    {
     "name": "stdout",
     "output_type": "stream",
     "text": [
      "False\n",
      "True\n",
      "False\n"
     ]
    }
   ],
   "source": [
    "from math import sqrt\n",
    "\n",
    "def check_prime(n):\n",
    "    if n <= 1:\n",
    "        return False\n",
    "    for i in range(2, int(sqrt(n)) + 1):\n",
    "        if n % i == 0:\n",
    "            return False\n",
    "    return True\n",
    "\n",
    "def prime_list(l):\n",
    "    for num in l:\n",
    "        if not check_prime(num):\n",
    "            return False\n",
    "    return True\n",
    "\n",
    "print(prime_list([0, 3, 4, 7, 9]))\n",
    "print(prime_list([3, 5, 7, 13]))\n",
    "print(prime_list([1, 5, 3]))"
   ]
  },
  {
   "cell_type": "markdown",
   "id": "348c8a7d-af39-4fd1-b372-0d86b379581c",
   "metadata": {},
   "source": [
    "18. Generate All List Permutations\n",
    "\n",
    "Write a Python program to generate all permutations of a list in Python."
   ]
  },
  {
   "cell_type": "code",
   "execution_count": 37,
   "id": "fbfd760c-ef59-4459-a263-40b8eafadffc",
   "metadata": {},
   "outputs": [
    {
     "name": "stdout",
     "output_type": "stream",
     "text": [
      "[(1, 2, 3), (1, 3, 2), (2, 1, 3), (2, 3, 1), (3, 1, 2), (3, 2, 1)]\n"
     ]
    }
   ],
   "source": [
    "import itertools\n",
    "print(list(itertools.permutations([1,2,3])))"
   ]
  },
  {
   "cell_type": "markdown",
   "id": "04ed7eca-cd90-46b1-ae72-a8eb012694ab",
   "metadata": {},
   "source": [
    "19. Calculate Difference Between Lists\n",
    "\n",
    "Write a Python program to calculate the difference between the two lists."
   ]
  },
  {
   "cell_type": "code",
   "execution_count": 38,
   "id": "865af685-fa99-48af-95d7-2189dfe46536",
   "metadata": {},
   "outputs": [
    {
     "name": "stdout",
     "output_type": "stream",
     "text": [
      "[9, 3, 5, 8, 2, 4, 6]\n"
     ]
    }
   ],
   "source": [
    "def list_diff(l1, l2):\n",
    "    diff_l1_l2 = list(set(l1) - set(l2))\n",
    "    diff_l2_l1 = list(set(l2) - set(l1))\n",
    "    total_diff = diff_l1_l2 + diff_l2_l1\n",
    "    return total_diff\n",
    "\n",
    "print(list_diff([1, 3, 5, 7, 9], [1, 2, 4, 6, 7, 8]))"
   ]
  },
  {
   "cell_type": "markdown",
   "id": "a54a1683-9578-42e9-9d4d-36008950fbd4",
   "metadata": {},
   "source": [
    "20. Access List Indices\n",
    "\n",
    "Write a Python program to access the index of a list."
   ]
  },
  {
   "cell_type": "code",
   "execution_count": 39,
   "id": "d9c52758-f64a-44a1-bc84-63cc78d08f0f",
   "metadata": {},
   "outputs": [
    {
     "name": "stdout",
     "output_type": "stream",
     "text": [
      "Element 5 is at index 0.\n",
      "Element 15 is at index 1.\n",
      "Element 35 is at index 2.\n",
      "Element 8 is at index 3.\n",
      "Element 98 is at index 4.\n"
     ]
    }
   ],
   "source": [
    "l = [5, 15, 35, 8, 98]\n",
    "for index, value in enumerate(l):\n",
    "    print(f'Element {value} is at index {index}.')"
   ]
  },
  {
   "cell_type": "markdown",
   "id": "0bf27e7f-af37-4d4b-b973-fbc9a8481451",
   "metadata": {},
   "source": [
    "21. Convert List to String\n",
    "\n",
    "Write a Python program to convert a list of characters into a string."
   ]
  },
  {
   "cell_type": "code",
   "execution_count": 40,
   "id": "c44086d4-a977-462f-a1c4-55945d6cc98b",
   "metadata": {},
   "outputs": [
    {
     "name": "stdout",
     "output_type": "stream",
     "text": [
      "abcd\n"
     ]
    }
   ],
   "source": [
    "def list_to_string(l):\n",
    "    return ''.join(l)\n",
    "\n",
    "s = ['a', 'b', 'c', 'd']\n",
    "print(list_to_string(s))"
   ]
  },
  {
   "cell_type": "markdown",
   "id": "2d136427-1e85-4fe9-9d32-c71e132193ba",
   "metadata": {},
   "source": [
    "22. Find Index of List Item\n",
    "\n",
    "Write a Python program to find the index of an item in a specified list."
   ]
  },
  {
   "cell_type": "code",
   "execution_count": 43,
   "id": "c0f222a1-a79c-4070-a549-d320e3ecd40f",
   "metadata": {},
   "outputs": [
    {
     "name": "stdout",
     "output_type": "stream",
     "text": [
      "1\n"
     ]
    }
   ],
   "source": [
    "def find_ele(l, v):\n",
    "    for index, value in enumerate(l):\n",
    "        if value == v:\n",
    "            return index\n",
    "    return 'Not found'\n",
    "\n",
    "print(find_ele([10, 30, 4, -6], 30))"
   ]
  },
  {
   "cell_type": "code",
   "execution_count": 44,
   "id": "41f840ec-dda7-4d81-8b80-bbd7f4ec4616",
   "metadata": {},
   "outputs": [
    {
     "name": "stdout",
     "output_type": "stream",
     "text": [
      "1\n"
     ]
    }
   ],
   "source": [
    "n = [10, 30, 4, -6]\n",
    "print(n.index(30))"
   ]
  },
  {
   "cell_type": "markdown",
   "id": "536c7332-2c92-4cc6-b1e5-5afe7edaac6b",
   "metadata": {},
   "source": [
    "23. Flatten Shallow List\n",
    "\n",
    "Write a Python program to flatten a shallow list."
   ]
  },
  {
   "cell_type": "code",
   "execution_count": 45,
   "id": "cfab504b-1281-4684-8ce5-6915121b8e39",
   "metadata": {},
   "outputs": [
    {
     "name": "stdout",
     "output_type": "stream",
     "text": [
      "[2, 4, 3, 1, 5, 6, 9, 7, 9, 0]\n"
     ]
    }
   ],
   "source": [
    "original_list = [[2, 4, 3], [1, 5, 6], [9], [7, 9, 0]]\n",
    "\n",
    "def flatten_list(l):\n",
    "    result = []\n",
    "    for i in l:\n",
    "        for j in i:\n",
    "            result.append(j)\n",
    "    return result\n",
    "\n",
    "print(flatten_list(original_list))"
   ]
  },
  {
   "cell_type": "code",
   "execution_count": 46,
   "id": "862904d5-dda4-461f-9147-3fc1dadf33b0",
   "metadata": {},
   "outputs": [
    {
     "name": "stdout",
     "output_type": "stream",
     "text": [
      "[2, 4, 3, 1, 5, 6, 9, 7, 9, 0]\n"
     ]
    }
   ],
   "source": [
    "result = [j for i in original_list for j in i]\n",
    "print(result)"
   ]
  },
  {
   "cell_type": "markdown",
   "id": "5c52b482-25c5-40ae-ac64-a6ff3042b93d",
   "metadata": {},
   "source": [
    "24. Append One List to Another\n",
    "\n",
    "Write a Python program to append a list to the second list."
   ]
  },
  {
   "cell_type": "code",
   "execution_count": 47,
   "id": "1dd534ab-100d-43e2-8879-6385b6de654d",
   "metadata": {},
   "outputs": [
    {
     "name": "stdout",
     "output_type": "stream",
     "text": [
      "[1, 2, 3, 0, 'Red', 'Green', 'Black']\n"
     ]
    }
   ],
   "source": [
    "def append_lists(l1, l2):\n",
    "    return l1 + l2\n",
    "\n",
    "print(append_lists([1, 2, 3, 0], ['Red', 'Green', 'Black']))"
   ]
  },
  {
   "cell_type": "markdown",
   "id": "73f9111d-154f-4cf2-9f45-aabec5f6ef1c",
   "metadata": {},
   "source": [
    "25. Select Random Item from List\n",
    "\n",
    "Write a Python program to select an item randomly from a list."
   ]
  },
  {
   "cell_type": "code",
   "execution_count": 48,
   "id": "8d115611-b58d-4c1e-8813-85d661c5aa2d",
   "metadata": {},
   "outputs": [
    {
     "name": "stdout",
     "output_type": "stream",
     "text": [
      "White\n"
     ]
    }
   ],
   "source": [
    "color_list = ['Red', 'Blue', 'Green', 'White', 'Black']\n",
    "\n",
    "import random\n",
    "print(random.choice(color_list))"
   ]
  },
  {
   "cell_type": "markdown",
   "id": "65a65245-7d05-4a60-9b3b-4ae846b25071",
   "metadata": {},
   "source": [
    "26. Check Circularly Identical Lists\n",
    "\n",
    "\n",
    "Write a Python program to check whether two lists are circularly identical."
   ]
  },
  {
   "cell_type": "code",
   "execution_count": 50,
   "id": "6852331e-3b1b-49cf-ba96-16b030bee78f",
   "metadata": {},
   "outputs": [
    {
     "name": "stdout",
     "output_type": "stream",
     "text": [
      "True\n",
      "False\n"
     ]
    }
   ],
   "source": [
    "def circular_identical_list(l1, l2):\n",
    "    return ''.join(map(str, l1)) in ''.join(map(str, l2 * 2))\n",
    "    \n",
    "list1 = [10, 10, 0, 0, 10]\n",
    "list2 = [10, 10, 10, 0, 0]\n",
    "list3 = [1, 10, 10, 0, 0]\n",
    "\n",
    "print(circular_identical_list(list1, list2))\n",
    "print(circular_identical_list(list1, list3))"
   ]
  },
  {
   "cell_type": "markdown",
   "id": "54c6c71e-9a96-48a5-a6ff-0d2bd0c49b96",
   "metadata": {},
   "source": [
    "27. Find Second Smallest Number in List\n",
    "\n",
    "Write a Python program to find the second smallest number in a list."
   ]
  },
  {
   "cell_type": "code",
   "execution_count": 62,
   "id": "06b21b18-c208-4d31-b710-e8d53bd5716a",
   "metadata": {},
   "outputs": [
    {
     "name": "stdout",
     "output_type": "stream",
     "text": [
      "-2\n",
      "0\n",
      "0\n",
      "None\n",
      "None\n"
     ]
    }
   ],
   "source": [
    "def second_smallest(l):\n",
    "    set_l = set(l)\n",
    "    if len(set_l) > 1:\n",
    "        sorted_l = sorted(set_l)\n",
    "        return sorted_l[1]\n",
    "    else:\n",
    "        return None\n",
    "\n",
    "print(second_smallest([1, 2, -8, -2, 0, -2]))\n",
    "print(second_smallest([1, 1, 0, 0, 2, -2, -2]))\n",
    "print(second_smallest([1, 1, 1, 0, 0, 0, 2, -2, -2]))\n",
    "print(second_smallest([2, 2]))\n",
    "print(second_smallest([2])) "
   ]
  },
  {
   "cell_type": "markdown",
   "id": "c32da9fb-c456-498a-94f0-151c12cd408b",
   "metadata": {},
   "source": [
    "28. Find Second Largest Number in List\n",
    "\n",
    "Write a Python program to find the second largest number in a list."
   ]
  },
  {
   "cell_type": "code",
   "execution_count": 63,
   "id": "6fa8a2b3-d1ec-4c46-bfb4-5560cd81d07b",
   "metadata": {},
   "outputs": [
    {
     "name": "stdout",
     "output_type": "stream",
     "text": [
      "3\n",
      "1\n",
      "None\n",
      "None\n"
     ]
    }
   ],
   "source": [
    "def second_largest(l):\n",
    "    set_l = set(l)\n",
    "    if len(set_l) > 1:\n",
    "        sorted_l = sorted(set_l)\n",
    "        return sorted_l[-2]\n",
    "    else:\n",
    "        return None\n",
    "\n",
    "print(second_largest([1, 2, 3, 4, 4]))\n",
    "print(second_largest([1, 1, 1, 0, 0, 0, 2, -2, -2]))\n",
    "print(second_largest([2, 2]))\n",
    "print(second_largest([1]))"
   ]
  },
  {
   "cell_type": "markdown",
   "id": "345c0c63-9b9f-42eb-935e-d5dcc4f7eb0d",
   "metadata": {},
   "source": [
    "29. Get Unique Values from List\n",
    "\n",
    "Write a Python program to get unique values from a list."
   ]
  },
  {
   "cell_type": "code",
   "execution_count": 64,
   "id": "60c61526-b517-449d-9e4d-ce10f3b7c824",
   "metadata": {},
   "outputs": [
    {
     "name": "stdout",
     "output_type": "stream",
     "text": [
      "[40, 10, 50, 20, 60, 30]\n"
     ]
    }
   ],
   "source": [
    "def unique_values(l):\n",
    "    return list(set(l))\n",
    "\n",
    "print(unique_values([10, 20, 30, 40, 20, 50, 60, 40]))"
   ]
  },
  {
   "cell_type": "markdown",
   "id": "4f780f3e-3971-4e3b-ad59-1ad658c5e1db",
   "metadata": {},
   "source": [
    "30. Count Frequency of List Elements\n",
    "\n",
    "Write a Python program to get the frequency of elements in a list."
   ]
  },
  {
   "cell_type": "code",
   "execution_count": 65,
   "id": "4d27cd3c-9e34-4839-9765-8fe61c6d2ca9",
   "metadata": {},
   "outputs": [
    {
     "name": "stdout",
     "output_type": "stream",
     "text": [
      "Counter({10: 4, 20: 4, 40: 2, 50: 2, 30: 1})\n"
     ]
    }
   ],
   "source": [
    "import collections\n",
    "l = [10, 10, 10, 10, 20, 20, 20, 20, 40, 40, 50, 50, 30]\n",
    "counts = collections.Counter(l)\n",
    "print(counts)"
   ]
  },
  {
   "cell_type": "code",
   "execution_count": 66,
   "id": "5f64c387-5eda-45bf-935e-7f39636a6c2a",
   "metadata": {},
   "outputs": [
    {
     "name": "stdout",
     "output_type": "stream",
     "text": [
      "{10: 4, 20: 4, 40: 2, 50: 2, 30: 1}\n"
     ]
    }
   ],
   "source": [
    "def count_elements(l):\n",
    "    counts = {}\n",
    "    for i in l:\n",
    "        if i in counts:\n",
    "            counts[i] += 1\n",
    "        else:\n",
    "            counts[i] = 1\n",
    "    return counts\n",
    "\n",
    "print(count_elements(l))"
   ]
  },
  {
   "cell_type": "markdown",
   "id": "bddd7ffa-6d71-4750-b007-712cc9db11e7",
   "metadata": {},
   "source": [
    "31. Count Elements in List Within Range\n",
    "\n",
    "Write a Python program to count the number of elements in a list within a specified range."
   ]
  },
  {
   "cell_type": "code",
   "execution_count": 4,
   "id": "7b250c94-a990-4cca-9a07-252b2e81ef0f",
   "metadata": {},
   "outputs": [
    {
     "name": "stdout",
     "output_type": "stream",
     "text": [
      "6\n",
      "5\n"
     ]
    }
   ],
   "source": [
    "def count_within_range(l, min_l, max_l):\n",
    "    count = 0\n",
    "    for i in l:\n",
    "        if min_l <= i <= max_l:\n",
    "            count += 1\n",
    "    return count\n",
    "\n",
    "print(count_within_range([10, 20, 30, 40, 40, 40, 70, 80, 99], 40, 100))\n",
    "print(count_within_range(['a', 'b', 'c', 'd', 'e', 'f'],'a','e'))"
   ]
  },
  {
   "cell_type": "markdown",
   "id": "dae77fc7-0438-4389-a9aa-29011aa34d86",
   "metadata": {},
   "source": [
    "32. Check if List Contains Sublist\n",
    "\n",
    "Write a Python program to check whether a list contains a sublist."
   ]
  },
  {
   "cell_type": "code",
   "execution_count": 13,
   "id": "46c694e8-ff4b-467a-aee9-651f2e6689b6",
   "metadata": {},
   "outputs": [
    {
     "name": "stdout",
     "output_type": "stream",
     "text": [
      "True\n",
      "False\n"
     ]
    }
   ],
   "source": [
    "def sublist_in_list(l, s):\n",
    "    sub_set = False\n",
    "    if s == []:\n",
    "        sub_set = True\n",
    "    elif s == l:\n",
    "        sub_set = True\n",
    "    elif len(s) > len(l):\n",
    "        sub_set = False\n",
    "    else:\n",
    "        for i in range(len(l)):\n",
    "            if l[i] == s[0]:\n",
    "                n = 1\n",
    "                while (n < len(s)) and l[i + n] == s[n]:\n",
    "                    n += 1\n",
    "                if n == len(s):\n",
    "                    sub_set = True\n",
    "    return sub_set\n",
    "\n",
    "print(sublist_in_list([2, 4, 3, 5, 7], [3, 5]))\n",
    "print(sublist_in_list([2, 4, 3, 5, 7], [3, 7]))"
   ]
  },
  {
   "cell_type": "markdown",
   "id": "bff72410-4840-4e5c-9bfd-55c8fe2ac1dd",
   "metadata": {},
   "source": [
    "33. Generate All Sublists\n",
    "\n",
    "Write a Python program to generate all sublists of a list."
   ]
  },
  {
   "cell_type": "code",
   "execution_count": 16,
   "id": "f2c0d2a0-5146-4c06-b626-4a92e1d84e10",
   "metadata": {},
   "outputs": [
    {
     "name": "stdout",
     "output_type": "stream",
     "text": [
      "[[], [10], [20], [30], [40], [10, 20], [10, 30], [10, 40], [20, 30], [20, 40], [30, 40], [10, 20, 30], [10, 20, 40], [10, 30, 40], [20, 30, 40], [10, 20, 30, 40]]\n",
      "[[], ['X'], ['Y'], ['Z'], ['X', 'Y'], ['X', 'Z'], ['Y', 'Z'], ['X', 'Y', 'Z']]\n"
     ]
    }
   ],
   "source": [
    "from itertools import combinations\n",
    "\n",
    "def generate_all_sublists(l):\n",
    "    sublists = []\n",
    "    for i in range(0, len(l) + 1):\n",
    "        temp = [list(x) for x in combinations(l, i)]\n",
    "        if len(temp) > 0:\n",
    "            sublists.extend(temp)\n",
    "    return sublists\n",
    "\n",
    "print(generate_all_sublists([10, 20, 30, 40]))\n",
    "print(generate_all_sublists(['X', 'Y', 'Z']))"
   ]
  },
  {
   "cell_type": "markdown",
   "id": "12bb7f00-7087-476d-9bb4-e0f822a11dab",
   "metadata": {},
   "source": [
    "34. Compute Primes Using Sieve of Eratosthenes\n",
    "\n",
    "Write a Python program that uses the Sieve of Eratosthenes method to compute prime numbers up to a specified number."
   ]
  },
  {
   "cell_type": "code",
   "execution_count": 19,
   "id": "e5bf0448-2546-4a40-9471-7e6377778570",
   "metadata": {},
   "outputs": [
    {
     "name": "stdout",
     "output_type": "stream",
     "text": [
      "2 3 5 7 11 13 17 19 23 29 31 37 41 43 47 53 59 61 67 71 73 79 83 89 97 "
     ]
    }
   ],
   "source": [
    "def prime_eratosthenes(n):\n",
    "    primes = []\n",
    "    for i in range(2, n + 1):\n",
    "        if i not in primes:\n",
    "            print(i, end = ' ')\n",
    "            for j in range(i * i, n + 1, i):\n",
    "                primes.append(j)\n",
    "\n",
    "prime_eratosthenes(100)"
   ]
  },
  {
   "cell_type": "markdown",
   "id": "a3ce2233-c0d0-49f8-8936-5f05d6415407",
   "metadata": {},
   "source": [
    "35. Create List with Range Concatenation\n",
    "\n",
    "Write a Python program to create a list by concatenating a given list with a range from 1 to n.\n",
    "Sample list : ['p', 'q']\n",
    "n =5\n",
    "Sample Output : ['p1', 'q1', 'p2', 'q2', 'p3', 'q3', 'p4', 'q4', 'p5', 'q5']"
   ]
  },
  {
   "cell_type": "code",
   "execution_count": 22,
   "id": "6c0d8958-6b41-48ec-a96c-c1d347ee5273",
   "metadata": {},
   "outputs": [
    {
     "name": "stdout",
     "output_type": "stream",
     "text": [
      "['p0', 'p1', 'p2', 'p3', 'p4', 'p5', 'q0', 'q1', 'q2', 'q3', 'q4', 'q5']\n"
     ]
    }
   ],
   "source": [
    "def range_concat(l, n):\n",
    "    result = []\n",
    "    for i in l:\n",
    "        for j in range(0, n + 1):\n",
    "            result.append(str(i) + str(j))\n",
    "    return result\n",
    "\n",
    "print(range_concat(['p', 'q'], 5))"
   ]
  },
  {
   "cell_type": "markdown",
   "id": "e2f1c1d4-b4a9-497a-9f4e-d6242ac94928",
   "metadata": {},
   "source": [
    "36. Get Variable ID or String\n",
    "\n",
    "Write a Python program to get a variable with an identification number or string."
   ]
  },
  {
   "cell_type": "code",
   "execution_count": 26,
   "id": "fb9d10a6-da85-4d4c-b71d-e4e1a7a0fd5e",
   "metadata": {},
   "outputs": [
    {
     "name": "stdout",
     "output_type": "stream",
     "text": [
      "140715294004760\n",
      "2126278375920\n"
     ]
    }
   ],
   "source": [
    "def get_variable_id(n):\n",
    "    return (format(id(n), 'n'))\n",
    "\n",
    "print(get_variable_id(100))\n",
    "print(get_variable_id('w3resource'))"
   ]
  },
  {
   "cell_type": "markdown",
   "id": "562d87a6-0820-4e0e-bb3e-3ab3f538cdf7",
   "metadata": {},
   "source": [
    "37. Find Common Items in Lists\n",
    "\n",
    "Write a Python program to find common items in two lists."
   ]
  },
  {
   "cell_type": "code",
   "execution_count": 29,
   "id": "294f72e8-6bac-4795-b81e-f3f53617f2f3",
   "metadata": {},
   "outputs": [
    {
     "name": "stdout",
     "output_type": "stream",
     "text": [
      "['Green', 'White']\n",
      "{'White', 'Green'}\n"
     ]
    }
   ],
   "source": [
    "def common_items_in_lists(l1, l2):\n",
    "    common = []\n",
    "    for i in l1:\n",
    "        if i in l2:\n",
    "            common.append(i)\n",
    "    return common\n",
    "\n",
    "print(common_items_in_lists([\"Red\", \"Green\", \"Orange\", \"White\"], [\"Black\", \"Green\", \"White\", \"Pink\"]))\n",
    "\n",
    "print(set([\"Red\", \"Green\", \"Orange\", \"White\"]) & set([\"Black\", \"Green\", \"White\", \"Pink\"]))"
   ]
  },
  {
   "cell_type": "markdown",
   "id": "f838819a-474f-4637-a90a-0296cfeaa119",
   "metadata": {},
   "source": [
    "38. Swap Every n-th and (n+1)th Values\n",
    "\n",
    "Write a Python program to change the position of every n-th value to the (n+1)th in a list.\n",
    "Sample list: [0,1,2,3,4,5]\n",
    "Expected Output: [1, 0, 3, 2, 5, 4]"
   ]
  },
  {
   "cell_type": "code",
   "execution_count": 33,
   "id": "fe8df82c-e7a8-4978-86c0-441ecd607472",
   "metadata": {},
   "outputs": [
    {
     "name": "stdout",
     "output_type": "stream",
     "text": [
      "[1, 0, 3, 2, 5, 4]\n"
     ]
    }
   ],
   "source": [
    "def swap_n_next(l):\n",
    "    for i in range(0, len(l) - 1, 2):\n",
    "        l[i], l[i + 1] = l[i + 1], l[i]\n",
    "    return l\n",
    "\n",
    "print(swap_n_next([0,1,2,3,4,5]))"
   ]
  },
  {
   "cell_type": "markdown",
   "id": "3e732655-6ffc-4473-a3f3-cf9ac34af7be",
   "metadata": {},
   "source": [
    "39. Convert Integers List to Single Integer\n",
    "\n",
    "Write a Python program to convert a list of multiple integers into a single integer.\n",
    "Sample list: [11, 33, 50]\n",
    "Expected Output: 113350"
   ]
  },
  {
   "cell_type": "code",
   "execution_count": 37,
   "id": "7f20e9d5-56a7-4194-8be8-8842459613e0",
   "metadata": {},
   "outputs": [
    {
     "name": "stdout",
     "output_type": "stream",
     "text": [
      "113350\n"
     ]
    }
   ],
   "source": [
    "def list_integers_single_integer(l):\n",
    "    n = ''\n",
    "    for i in l:\n",
    "        n = n + str(i)\n",
    "    return int(n)\n",
    "\n",
    "print(list_integers_single_integer([11, 33, 50]))"
   ]
  },
  {
   "cell_type": "markdown",
   "id": "620f87cf-64fc-4eaf-9a02-ae58950ab027",
   "metadata": {},
   "source": [
    "40. Split List by First Character\n",
    "\n",
    "Write a Python program to split a list based on the first character of a word."
   ]
  },
  {
   "cell_type": "code",
   "execution_count": 39,
   "id": "fd60fdcd-7dac-497f-a011-97411715de05",
   "metadata": {},
   "outputs": [
    {
     "name": "stdout",
     "output_type": "stream",
     "text": [
      "a ask\n",
      "b be\n",
      "c call\n",
      "come\n",
      "d do\n",
      "f feel\n",
      "find\n",
      "g get\n",
      "give\n",
      "go\n",
      "h have\n",
      "k know\n",
      "l leave\n",
      "look\n",
      "m make\n",
      "s say\n",
      "see\n",
      "seem\n",
      "t take\n",
      "tell\n",
      "think\n",
      "u use\n",
      "w want\n",
      "work\n"
     ]
    }
   ],
   "source": [
    "from itertools import groupby\n",
    "from operator import itemgetter\n",
    "\n",
    "word_list = ['be', 'have', 'do', 'say', 'get', 'make', 'go', 'know', 'take', 'see', 'come', 'think',\n",
    "             'look', 'want', 'give', 'use', 'find', 'tell', 'ask', 'work', 'seem', 'feel', 'leave', 'call']\n",
    "\n",
    "for letter, words in groupby(sorted(word_list), key = itemgetter(0)):\n",
    "    print(letter, end = ' ')\n",
    "    for word in words:\n",
    "        print(word)"
   ]
  },
  {
   "cell_type": "markdown",
   "id": "cc2cea0b-7559-4b42-a6b6-2f6e4c31c6ea",
   "metadata": {},
   "source": [
    "41. Create Multiple Lists\n",
    "\n",
    "Write a Python program to create multiple lists."
   ]
  },
  {
   "cell_type": "code",
   "execution_count": 40,
   "id": "90e43484-4986-4236-a506-b374bbeedf02",
   "metadata": {},
   "outputs": [
    {
     "name": "stdout",
     "output_type": "stream",
     "text": [
      "{'1': [], '2': [], '3': [], '4': [], '5': [], '6': [], '7': [], '8': [], '9': [], '10': [], '11': [], '12': [], '13': [], '14': [], '15': [], '16': [], '17': [], '18': [], '19': [], '20': []}\n"
     ]
    }
   ],
   "source": [
    "empty_dict = {}\n",
    "for i in range(1, 21):\n",
    "    empty_dict[str(i)] = []\n",
    "\n",
    "print(empty_dict)"
   ]
  },
  {
   "cell_type": "markdown",
   "id": "d4159215-daf9-41ca-934f-74e3505adb38",
   "metadata": {},
   "source": [
    "42. Find Missing and Additional Values in Lists\n",
    "\n",
    "Write a Python program to find missing and additional values in two lists.\n",
    "Sample data : Missing values in second list: b,a,c\n",
    "Additional values in second list: g,h"
   ]
  },
  {
   "cell_type": "code",
   "execution_count": 48,
   "id": "85e04523-9835-4492-b97b-82fd23174d22",
   "metadata": {},
   "outputs": [
    {
     "name": "stdout",
     "output_type": "stream",
     "text": [
      "({'b', 'c', 'a'}, {'g', 'h'})\n"
     ]
    }
   ],
   "source": [
    "def missing_additional_values(l1, l2):\n",
    "    set_l1 = set(l1)\n",
    "    set_l2 = set(l2)\n",
    "    missing = set_l1 - set_l2\n",
    "    additional = set_l2 - set_l1\n",
    "    return missing, additional\n",
    "\n",
    "l1 = ['a','b','c','d','e','f']\n",
    "l2 = ['d','e','f','g','h']\n",
    "\n",
    "print(missing_additional_values(l1, l2))"
   ]
  },
  {
   "cell_type": "markdown",
   "id": "b69c7b18-0c29-4c1c-8f36-a63e1b37dc47",
   "metadata": {},
   "source": [
    "43. Split List into Variables\n",
    "\n",
    "Write a Python program to split a list into different variables."
   ]
  },
  {
   "cell_type": "code",
   "execution_count": 49,
   "id": "5fd4927f-abaa-4f85-8186-75afec43d529",
   "metadata": {},
   "outputs": [
    {
     "name": "stdout",
     "output_type": "stream",
     "text": [
      "('Black', '#000000', 'rgb(0, 0, 0)')\n",
      "('Red', '#FF0000', 'rgb(255, 0, 0)')\n",
      "('Yellow', '#FFFF00', 'rgb(255, 255, 0)')\n"
     ]
    }
   ],
   "source": [
    "color = [\n",
    "    (\"Black\", \"#000000\", \"rgb(0, 0, 0)\"),\n",
    "    (\"Red\", \"#FF0000\", \"rgb(255, 0, 0)\"),\n",
    "    (\"Yellow\", \"#FFFF00\", \"rgb(255, 255, 0)\")\n",
    "]\n",
    "\n",
    "v1, v2, v3 = color\n",
    "print(v1)\n",
    "print(v2)\n",
    "print(v3)"
   ]
  },
  {
   "cell_type": "markdown",
   "id": "0bb04ffa-304f-4002-a22c-785cbb7e9472",
   "metadata": {},
   "source": [
    "44. Generate Groups of Consecutive Numbers\n",
    "\n",
    "Write a Python program to generate groups of five consecutive numbers in a list."
   ]
  },
  {
   "cell_type": "code",
   "execution_count": 50,
   "id": "d0f44467-b029-4b84-a1f8-a1c335dd92b6",
   "metadata": {},
   "outputs": [
    {
     "name": "stdout",
     "output_type": "stream",
     "text": [
      "[[1, 2, 3, 4, 5], [6, 7, 8, 9, 10], [11, 12, 13, 14, 15], [16, 17, 18, 19, 20], [21, 22, 23, 24, 25]]\n"
     ]
    }
   ],
   "source": [
    "l = [[5 * i + j for j in range(1, 6)] for i in range(5)]\n",
    "print(l)"
   ]
  },
  {
   "cell_type": "code",
   "execution_count": 54,
   "id": "78407b43-650c-4f4f-a55c-e37e07c29d63",
   "metadata": {},
   "outputs": [
    {
     "name": "stdout",
     "output_type": "stream",
     "text": [
      "[[1, 2, 3, 4, 5], [6, 7, 8, 9, 10], [11, 12, 13, 14, 15], [16, 17, 18, 19, 20]]\n"
     ]
    }
   ],
   "source": [
    "def generate_groups(numbers):\n",
    "    groups = [numbers[i : i + 5] for i in range(0, len(numbers), 5)]\n",
    "    return groups\n",
    "    \n",
    "numbers = list(range(1, 21))\n",
    "print(generate_groups(numbers))"
   ]
  },
  {
   "cell_type": "markdown",
   "id": "5b2c8325-f162-4244-af3e-784bc3d1323f",
   "metadata": {},
   "source": [
    "45. Convert Pairs to Sorted Unique Array\n",
    "\n",
    "Write a Python program to convert a pair of values into a sorted unique array."
   ]
  },
  {
   "cell_type": "code",
   "execution_count": 1,
   "id": "48388406-6bf6-471d-9812-4ef8195d2774",
   "metadata": {},
   "outputs": [
    {
     "name": "stdout",
     "output_type": "stream",
     "text": [
      "[(1, 2), (3, 4), (5, 6), (7, 8), (9, 10)]\n",
      "[1, 2, 3, 4, 5, 6, 7, 8, 9, 10]\n"
     ]
    }
   ],
   "source": [
    "L = [(1, 2), (3, 4), (1, 2), (5, 6), (7, 8), (1, 2), (3, 4), (3, 4), (7, 8), (9, 10)]\n",
    "\n",
    "print(sorted(set().union(L)))\n",
    "unique_set = sorted(set().union(*L)) #* unpacks the list\n",
    "print(unique_set)"
   ]
  },
  {
   "cell_type": "markdown",
   "id": "4aab5298-b6ef-42b7-95f9-f5e03a8ccdc4",
   "metadata": {},
   "source": [
    "46. Select Odd Items from List\n",
    "\n",
    "Write a Python program to select the odd items from a list."
   ]
  },
  {
   "cell_type": "code",
   "execution_count": 59,
   "id": "7fea9224-5450-4757-ade9-0d9b359800ce",
   "metadata": {},
   "outputs": [
    {
     "name": "stdout",
     "output_type": "stream",
     "text": [
      "[1, 3, 5, 7, 9]\n"
     ]
    }
   ],
   "source": [
    "x = [1, 2, 3, 4, 5, 6, 7, 8, 9]\n",
    "\n",
    "odd_list = [i for i in x if i % 2 != 0]\n",
    "print(odd_list)"
   ]
  },
  {
   "cell_type": "markdown",
   "id": "11eac066-bb12-4f75-8b33-98612a386d6a",
   "metadata": {},
   "source": [
    "47. Insert Element Before Each List Item\n",
    "\n",
    "Write a Python program to insert an element before each element of a list."
   ]
  },
  {
   "cell_type": "code",
   "execution_count": 60,
   "id": "6cc91bf1-ea70-44eb-8ee4-95b51867178c",
   "metadata": {},
   "outputs": [
    {
     "name": "stdout",
     "output_type": "stream",
     "text": [
      "['c', 'Red', 'c', 'Green', 'c', 'Black']\n"
     ]
    }
   ],
   "source": [
    "def insert_ele_before_each_item(l, n):\n",
    "    result = []\n",
    "    for i in l:\n",
    "        result.append(n)\n",
    "        result.append(i)\n",
    "    return result\n",
    "\n",
    "print(insert_ele_before_each_item(['Red', 'Green', 'Black'],'c'))\n"
   ]
  },
  {
   "cell_type": "code",
   "execution_count": 62,
   "id": "53ab48f5-4908-4f4f-8802-16c8963f4c16",
   "metadata": {},
   "outputs": [
    {
     "name": "stdout",
     "output_type": "stream",
     "text": [
      "['c', 'Red', 'c', 'Green', 'c', 'Black']\n"
     ]
    }
   ],
   "source": [
    "color = ['Red', 'Green', 'Black']\n",
    "color = [v for ele in color for v in ('c', ele)]\n",
    "print(color)"
   ]
  },
  {
   "cell_type": "markdown",
   "id": "1dc31da9-fd0c-422b-aa3c-3f849b307c70",
   "metadata": {},
   "source": [
    "48. Print Nested Lists\n",
    "\n",
    "Write a Python program to print nested lists (each list on a new line) using the print() function."
   ]
  },
  {
   "cell_type": "code",
   "execution_count": 65,
   "id": "84ec750f-b161-42e8-85ae-c8d4850051c2",
   "metadata": {},
   "outputs": [
    {
     "name": "stdout",
     "output_type": "stream",
     "text": [
      "[[1, 2, 3, 4, 5], [6, 7, 8, 9, 10], [11, 12, 13, 14, 15], [16, 17, 18, 19, 20], [21, 22, 23, 24, 25]]\n",
      "\n",
      "[1, 2, 3, 4, 5]\n",
      "[6, 7, 8, 9, 10]\n",
      "[11, 12, 13, 14, 15]\n",
      "[16, 17, 18, 19, 20]\n",
      "[21, 22, 23, 24, 25]\n"
     ]
    }
   ],
   "source": [
    "print(l)\n",
    "print()\n",
    "for s in l:\n",
    "    print(s)"
   ]
  },
  {
   "cell_type": "markdown",
   "id": "f7ad7e23-4f03-401c-b0b6-a4c437ef3d0c",
   "metadata": {},
   "source": [
    "49. Convert List to List of Dictionaries\n",
    "\n",
    "Write a Python program to convert a list to a list of dictionaries.\n",
    "Sample lists: [\"Black\", \"Red\", \"Maroon\", \"Yellow\"], [\"#000000\", \"#FF0000\", \"#800000\", \"#FFFF00\"]\n",
    "Expected Output: [{'color_name': 'Black', 'color_code': '#000000'}, {'color_name': 'Red', 'color_code': '#FF0000'}, {'color_name': 'Maroon', 'color_code': '#800000'}, {'color_name': 'Yellow', 'color_code': '#FFFF00'}]"
   ]
  },
  {
   "cell_type": "code",
   "execution_count": 3,
   "id": "13508f06-257b-4f6d-b21d-43411f8b0573",
   "metadata": {},
   "outputs": [
    {
     "name": "stdout",
     "output_type": "stream",
     "text": [
      "{'Black': '#000000', 'Red': '#FF0000', 'Maroon': '#800000', 'Yellow': '#FFFF00'}\n",
      "\n",
      "[{'color_name': 'Black', 'color_code': '#000000'}, {'color_name': 'Red', 'color_code': '#FF0000'}, {'color_name': 'Maroon', 'color_code': '#800000'}, {'color_name': 'Yellow', 'color_code': '#FFFF00'}]\n"
     ]
    }
   ],
   "source": [
    "l1 = [\"Black\", \"Red\", \"Maroon\", \"Yellow\"]\n",
    "l2 = [\"#000000\", \"#FF0000\", \"#800000\", \"#FFFF00\"]\n",
    "\n",
    "result = {}\n",
    "for color_name, color_code in zip(l1, l2):\n",
    "    result[color_name] = color_code\n",
    "print(result)\n",
    "print()\n",
    "\n",
    "result_2 = [{'color_name' : f, 'color_code' : c} for f, c in zip(l1, l2)]\n",
    "print(result_2)"
   ]
  },
  {
   "cell_type": "markdown",
   "id": "28aecf88-0206-48c4-b754-52d3952d23da",
   "metadata": {},
   "source": [
    "50. Sort Nested Dictionaries in List\n",
    "\n",
    "Write a Python program to sort a list of nested dictionaries."
   ]
  },
  {
   "cell_type": "code",
   "execution_count": 69,
   "id": "799c1f30-4bbe-4d60-b2f3-08df8c0767d1",
   "metadata": {},
   "outputs": [
    {
     "name": "stdout",
     "output_type": "stream",
     "text": [
      "[{'key': {'subkey': 10}}, {'key': {'subkey': 5}}, {'key': {'subkey': 1}}]\n"
     ]
    }
   ],
   "source": [
    "l = [{'key': {'subkey': 1}}, {'key': {'subkey': 10}}, {'key': {'subkey': 5}}]\n",
    "l.sort(key = lambda e : e['key']['subkey'], reverse = True)\n",
    "print(l)"
   ]
  },
  {
   "cell_type": "markdown",
   "id": "b0e1f469-ed7c-413f-b31f-fedadb9537c3",
   "metadata": {},
   "source": [
    "51. Split List Every Nth Element\n",
    "\n",
    "Write a Python program to split a list every Nth element.\n",
    "Sample list: ['a', 'b', 'c', 'd', 'e', 'f', 'g', 'h', 'i', 'j', 'k', 'l', 'm', 'n']\n",
    "Expected Output: [['a', 'd', 'g', 'j', 'm'], ['b', 'e', 'h', 'k', 'n'], ['c', 'f', 'i', 'l']]"
   ]
  },
  {
   "cell_type": "code",
   "execution_count": 5,
   "id": "91073c33-e1f5-4fa5-b499-4dba80f87fae",
   "metadata": {},
   "outputs": [
    {
     "name": "stdout",
     "output_type": "stream",
     "text": [
      "[['a', 'd', 'g', 'j', 'm'], ['b', 'e', 'h', 'k', 'n'], ['c', 'f', 'i', 'l']]\n"
     ]
    }
   ],
   "source": [
    "l = ['a', 'b', 'c', 'd', 'e', 'f', 'g', 'h', 'i', 'j', 'k', 'l', 'm', 'n']\n",
    "\n",
    "def split_list_n(l, step):\n",
    "    return [l[i :: step] for i in range(step)]\n",
    "\n",
    "print(split_list_n(l, 3))"
   ]
  },
  {
   "cell_type": "code",
   "execution_count": 8,
   "id": "33856d7a-d239-40f2-8a08-a620b762e9f1",
   "metadata": {},
   "outputs": [
    {
     "name": "stdout",
     "output_type": "stream",
     "text": [
      "a\n",
      "['a', 'd', 'g', 'j', 'm']\n",
      "b\n",
      "['b', 'e', 'h', 'k', 'n']\n",
      "c\n",
      "['c', 'f', 'i', 'l']\n"
     ]
    }
   ],
   "source": [
    "result = []\n",
    "step = 3\n",
    "for i in range(step):\n",
    "    print(l[i])\n",
    "    print(l[i :: step])\n",
    "    result.append(l[i :: step])"
   ]
  },
  {
   "cell_type": "markdown",
   "id": "5243473c-a5bf-4376-a23f-5cd39a79b11e",
   "metadata": {},
   "source": [
    "Write a Python program to compute the difference between two lists.\n",
    "Sample data: [\"red\", \"orange\", \"green\", \"blue\", \"white\"], [\"black\", \"yellow\", \"green\", \"blue\"]\n",
    "Expected Output:\n",
    "Color1-Color2: ['white', 'orange', 'red']\n",
    "Color2-Color1: ['black', 'yellow']"
   ]
  },
  {
   "cell_type": "code",
   "execution_count": 77,
   "id": "30be24cd-6d5f-4c07-a171-87709e6c7b0b",
   "metadata": {},
   "outputs": [
    {
     "name": "stdout",
     "output_type": "stream",
     "text": [
      "['white', 'red', 'orange']\n",
      "['black', 'yellow']\n"
     ]
    }
   ],
   "source": [
    "l1 = [\"red\", \"orange\", \"green\", \"blue\", \"white\"]\n",
    "l2 = [\"black\", \"yellow\", \"green\", \"blue\"]\n",
    "\n",
    "print(list(set(l1) - set(l2)))\n",
    "print(list(set(l2) - set(l1)))"
   ]
  },
  {
   "cell_type": "markdown",
   "id": "984d84e2-6d8d-4c78-a2ac-d9aa498f0f08",
   "metadata": {},
   "source": [
    "53. Create List with Infinite Elements\n",
    "\n",
    "Write a Python program to create a list with infinite elements."
   ]
  },
  {
   "cell_type": "code",
   "execution_count": 80,
   "id": "c7054247-2e37-4776-9cda-e7e38f16c66b",
   "metadata": {},
   "outputs": [
    {
     "name": "stdout",
     "output_type": "stream",
     "text": [
      "0\n",
      "1\n"
     ]
    }
   ],
   "source": [
    "import itertools\n",
    "c = itertools.count()\n",
    "print(next(c))\n",
    "print(next(c))"
   ]
  },
  {
   "cell_type": "markdown",
   "id": "a65f82bf-dd4b-4749-9ea1-8a05677ca80d",
   "metadata": {},
   "source": [
    "54. Concatenate List Elements\n",
    "\n",
    "Write a Python program to concatenate elements of a list."
   ]
  },
  {
   "cell_type": "code",
   "execution_count": 84,
   "id": "e593c34c-f85e-44dd-a5ec-904dbbf0ded8",
   "metadata": {},
   "outputs": [
    {
     "name": "stdout",
     "output_type": "stream",
     "text": [
      "red-orange-green-blue-white\n",
      "redorangegreenbluewhite\n"
     ]
    }
   ],
   "source": [
    "l1 = [\"red\", \"orange\", \"green\", \"blue\", \"white\"]\n",
    "\n",
    "print('-'.join(l1))\n",
    "print(''.join(l1))"
   ]
  },
  {
   "cell_type": "markdown",
   "id": "cbcf2d68-497b-4f0e-b12a-f17472338596",
   "metadata": {},
   "source": [
    "Write a Python program to remove key-value pairs from a list of dictionaries."
   ]
  },
  {
   "cell_type": "code",
   "execution_count": 85,
   "id": "031d3e16-392e-4372-b4c0-8f3211368f92",
   "metadata": {},
   "outputs": [
    {
     "name": "stdout",
     "output_type": "stream",
     "text": [
      "[{'key2': 'value2'}, {'key2': 'value4'}]\n"
     ]
    }
   ],
   "source": [
    "original_list = [{'key1': 'value1', 'key2': 'value2'}, {'key1': 'value3', 'key2': 'value4'}]\n",
    "\n",
    "result = [{k:v for k,v in d.items() if k != 'key1'} for d in original_list]\n",
    "print(result)"
   ]
  },
  {
   "cell_type": "markdown",
   "id": "8e8a0f39-74fa-447d-95bd-2e283991b348",
   "metadata": {},
   "source": [
    "56. Convert String to List\n",
    "\n",
    "Write a Python program to convert a string to a list."
   ]
  },
  {
   "cell_type": "code",
   "execution_count": 9,
   "id": "dce98cf7-8fb2-48bb-b82c-f6b068b0d395",
   "metadata": {},
   "outputs": [
    {
     "name": "stdout",
     "output_type": "stream",
     "text": [
      "['I', 'have', 'to', 'stay', 'positive!']\n"
     ]
    }
   ],
   "source": [
    "s = 'I have to stay positive!'\n",
    "l = s.split()\n",
    "print(l)"
   ]
  },
  {
   "cell_type": "code",
   "execution_count": 10,
   "id": "8f8812e4-b0a1-45b1-aa7a-7791e6fe99ff",
   "metadata": {},
   "outputs": [
    {
     "name": "stdout",
     "output_type": "stream",
     "text": [
      "['Red', 'Green', 'White']\n"
     ]
    }
   ],
   "source": [
    "import ast\n",
    "color = \"['Red', 'Green', 'White']\"\n",
    "print(ast.literal_eval(color))"
   ]
  },
  {
   "cell_type": "markdown",
   "id": "188b13d2-ecea-4f4b-a2e9-60f4423848c5",
   "metadata": {},
   "source": [
    "57. Check All Strings Match Given String\n",
    "\n",
    "Write a Python program to check if all items in a given list of strings are equal to a given string."
   ]
  },
  {
   "cell_type": "code",
   "execution_count": 15,
   "id": "0b57e015-27d7-419e-911a-bc32ef5deee1",
   "metadata": {},
   "outputs": [
    {
     "name": "stdout",
     "output_type": "stream",
     "text": [
      "False\n",
      "False\n",
      "True\n",
      "True\n"
     ]
    }
   ],
   "source": [
    "color1 = [\"green\", \"orange\", \"black\", \"white\"]\n",
    "color2 = [\"green\", \"green\", \"green\", \"green\"]\n",
    "\n",
    "print(all(c == 'blue' for c in color1))\n",
    "print(all(c == 'green' for c in color1))\n",
    "print(any(c == 'green' for c in color1))\n",
    "print(all(c == 'green' for c in color2))"
   ]
  },
  {
   "cell_type": "markdown",
   "id": "d1103ae0-ba7f-46d6-bea5-01436d7c1497",
   "metadata": {},
   "source": [
    "Write a Python program to replace the last element in a list with another list.\n",
    "Sample data : [1, 3, 5, 7, 9, 10], [2, 4, 6, 8]\n",
    "Expected Output: [1, 3, 5, 7, 9, 2, 4, 6, 8]"
   ]
  },
  {
   "cell_type": "code",
   "execution_count": 16,
   "id": "623d748f-598e-450f-8ba8-5334a9fb967f",
   "metadata": {},
   "outputs": [
    {
     "name": "stdout",
     "output_type": "stream",
     "text": [
      "[1, 3, 5, 7, 2, 4, 6, 8]\n"
     ]
    }
   ],
   "source": [
    "l1 = [1, 3, 5, 7, 9, 10]\n",
    "l2 = [2, 4, 6, 8]\n",
    "print(l1[:-2] + l2)"
   ]
  },
  {
   "cell_type": "markdown",
   "id": "54baeff9-d44e-4a40-8214-4dc23bb6d86b",
   "metadata": {},
   "source": [
    "59. Check if N-th Element Exists in List\n",
    "\n",
    "Write a  Python program to check whether the n-th element exists in a given list."
   ]
  },
  {
   "cell_type": "code",
   "execution_count": 18,
   "id": "eb28f038-062d-4013-96af-a349285b2f6d",
   "metadata": {},
   "outputs": [
    {
     "name": "stdout",
     "output_type": "stream",
     "text": [
      "True\n"
     ]
    }
   ],
   "source": [
    "def n_element_check(l, n):\n",
    "    if n >= 0 and n < len(l):\n",
    "        return True\n",
    "    return False\n",
    "\n",
    "print(n_element_check(['a', 'b', 'c', 'd', 'e'], 3))"
   ]
  },
  {
   "cell_type": "markdown",
   "id": "882f8476-8e7d-435d-9d35-41e1261db010",
   "metadata": {},
   "source": [
    "60. Smallest Second Index Tuple\n",
    "\n",
    "Write a Python program to find a tuple, the smallest second index value from a list of tuples."
   ]
  },
  {
   "cell_type": "code",
   "execution_count": 24,
   "id": "117e5955-5b0b-49f4-8cef-3cfed9fc4dd3",
   "metadata": {},
   "outputs": [
    {
     "name": "stdout",
     "output_type": "stream",
     "text": [
      "Without any key, min() will compare the first element of each tuple:  (1, 2)\n",
      "With key, min() will compare the second element and negate the first element so that it is not considered in comparison: \n",
      "(6, 0)\n"
     ]
    }
   ],
   "source": [
    "x = [(4, 1), (1, 2), (6, 0)]\n",
    "print('Without any key, min() will compare the first element of each tuple: ', min(x))\n",
    "print('With key, min() will compare the second element and negate the first element so that it is not considered in comparison: ')\n",
    "print(min(x, key = lambda n: (n[1], -n[0])))"
   ]
  },
  {
   "cell_type": "markdown",
   "id": "f5e90376-b5d8-4cd1-b463-9b7dbb92bfe7",
   "metadata": {},
   "source": [
    "61. Create List of Empty Dictionaries\n",
    "\n",
    "Write a Python program to create a list of empty dictionaries."
   ]
  },
  {
   "cell_type": "code",
   "execution_count": 25,
   "id": "d422290e-9f98-4538-8861-49c3d6bfff87",
   "metadata": {},
   "outputs": [
    {
     "name": "stdout",
     "output_type": "stream",
     "text": [
      "[{}, {}, {}]\n"
     ]
    }
   ],
   "source": [
    "n = 3\n",
    "l = []\n",
    "for i in range(n):\n",
    "    l.append({})\n",
    "print(l)"
   ]
  },
  {
   "cell_type": "code",
   "execution_count": 26,
   "id": "c95cfcb0-b1f4-4239-84f0-c826b47db09d",
   "metadata": {},
   "outputs": [
    {
     "name": "stdout",
     "output_type": "stream",
     "text": [
      "[{}, {}, {}]\n"
     ]
    }
   ],
   "source": [
    "n = 3\n",
    "l = [{} for _ in range(n)]\n",
    "print(l)"
   ]
  },
  {
   "cell_type": "markdown",
   "id": "21f5cbfb-9153-4980-ba04-a08264eb6267",
   "metadata": {},
   "source": [
    "62. Print Space-Separated List Elements\n",
    "\n",
    "Write a Python program to print a list of space-separated elements."
   ]
  },
  {
   "cell_type": "code",
   "execution_count": 29,
   "id": "f556b420-7749-45a0-bc41-ad60b548d8a8",
   "metadata": {},
   "outputs": [
    {
     "name": "stdout",
     "output_type": "stream",
     "text": [
      "1 2 3 4 5\n",
      "1 2 3 4 5\n"
     ]
    }
   ],
   "source": [
    "l = [1,2,3,4,5]\n",
    "s = ' '.join([str(i) for i in l])\n",
    "print(s)\n",
    "print(*l)"
   ]
  },
  {
   "cell_type": "markdown",
   "id": "549a3968-6457-4434-8871-bcf63f8b55ea",
   "metadata": {},
   "source": [
    "63. Insert String Before List Items\n",
    "\n",
    "Write a Python program to insert a given string at the beginning of all items in a list.\n",
    "Sample list : [1,2,3,4], string : emp\n",
    "Expected output : ['emp1', 'emp2', 'emp3', 'emp4']"
   ]
  },
  {
   "cell_type": "code",
   "execution_count": 32,
   "id": "e1df51f7-9875-4a01-b867-026ea572a560",
   "metadata": {},
   "outputs": [
    {
     "name": "stdout",
     "output_type": "stream",
     "text": [
      "['emp1', 'emp2', 'emp3', 'emp4']\n"
     ]
    }
   ],
   "source": [
    "l = [1,2,3,4]\n",
    "s = 'emp'\n",
    "l = [s + str(i) for i in l]\n",
    "print(l)"
   ]
  },
  {
   "cell_type": "markdown",
   "id": "c8393f38-c800-4e82-b87d-347e765cefb9",
   "metadata": {},
   "source": [
    "64. Iterate Over Two Lists Simultaneously\n",
    "\n",
    "Write a Python program to iterate over two lists simultaneously."
   ]
  },
  {
   "cell_type": "code",
   "execution_count": 33,
   "id": "54349c01-60b9-4829-ac4f-fa62805f5d1f",
   "metadata": {},
   "outputs": [
    {
     "name": "stdout",
     "output_type": "stream",
     "text": [
      "List 1: 1, List 2: 100\n",
      "List 1: 2, List 2: 200\n",
      "List 1: 3, List 2: 300\n",
      "List 1: 4, List 2: 400\n"
     ]
    }
   ],
   "source": [
    "l1 = [1,2,3,4]\n",
    "l2 = [100, 200, 300, 400]\n",
    "for i1, i2 in zip(l1, l2):\n",
    "    print(f'List 1: {i1}, List 2: {i2}')"
   ]
  },
  {
   "cell_type": "markdown",
   "id": "9486d650-dca9-48a2-909b-eb3bbc5f5baf",
   "metadata": {},
   "source": [
    "65. Move Zeros to End of List\n",
    "\n",
    "Write a Python program to move all zero digits to the end of a given list of numbers.\n",
    "Expected output:\n",
    "Original list:\n",
    "[3, 4, 0, 0, 0, 6, 2, 0, 6, 7, 6, 0, 0, 0, 9, 10, 7, 4, 4, 5, 3, 0, 0, 2, 9, 7, 1]\n",
    "Move all zero digits to end of the said list of numbers:\n",
    "[3, 4, 6, 2, 6, 7, 6, 9, 10, 7, 4, 4, 5, 3, 2, 9, 7, 1, 0, 0, 0, 0, 0, 0, 0, 0, 0]"
   ]
  },
  {
   "cell_type": "code",
   "execution_count": 38,
   "id": "13791cb4-185c-4b6a-8afd-933568cbe77e",
   "metadata": {},
   "outputs": [
    {
     "name": "stdout",
     "output_type": "stream",
     "text": [
      "[3, 4, 6, 2, 6, 7, 6, 9, 10, 7, 4, 4, 5, 3, 2, 9, 7, 1, 0, 0, 0, 0, 0, 0, 0, 0, 0]\n"
     ]
    }
   ],
   "source": [
    "l = [3, 4, 0, 0, 0, 6, 2, 0, 6, 7, 6, 0, 0, 0, 9, 10, 7, 4, 4, 5, 3, 0, 0, 2, 9, 7, 1] \n",
    "zero_count = 0\n",
    "result = []\n",
    "for i in l:\n",
    "    if i == 0:\n",
    "        zero_count += 1\n",
    "    else:\n",
    "        result.append(i)\n",
    "\n",
    "result.extend([0] * zero_count)\n",
    "print(result)"
   ]
  },
  {
   "cell_type": "code",
   "execution_count": 40,
   "id": "04415b00-7b57-4592-9d74-2a678b5172ef",
   "metadata": {},
   "outputs": [
    {
     "name": "stdout",
     "output_type": "stream",
     "text": [
      "[3, 4, 6, 2, 6, 7, 6, 9, 10, 7, 4, 4, 5, 3, 2, 9, 7, 1, 0, 0, 0, 0, 0, 0, 0, 0, 0]\n"
     ]
    }
   ],
   "source": [
    "result = [i for i in l if i != 0] + [0] * l.count(0)\n",
    "print(result)"
   ]
  },
  {
   "cell_type": "markdown",
   "id": "eb5112d4-53ad-482e-bcc0-b6a7c2cc7fbd",
   "metadata": {},
   "source": [
    "66. Find List with Highest Sum\n",
    "\n",
    "Write a Python program to find the list in a list of lists whose sum of elements is the highest.\n",
    "Sample lists: [1,2,3], [4,5,6], [10,11,12], [7,8,9]\n",
    "Expected Output: [10, 11, 12]"
   ]
  },
  {
   "cell_type": "code",
   "execution_count": 41,
   "id": "dacafd09-ecf1-4f20-826b-c889f83c9da1",
   "metadata": {},
   "outputs": [
    {
     "name": "stdout",
     "output_type": "stream",
     "text": [
      "[10, 11, 12]\n"
     ]
    }
   ],
   "source": [
    "l = [[1,2,3], [4,5,6], [10,11,12], [7,8,9]]\n",
    "print(max(l, key = sum))"
   ]
  },
  {
   "cell_type": "markdown",
   "id": "3f831436-9573-45c4-9490-0b4620896378",
   "metadata": {},
   "source": [
    "67. Find Values Greater Than Specified Number\n",
    "\n",
    "Write a Python program to find all the values in a list that are greater than a specified number."
   ]
  },
  {
   "cell_type": "code",
   "execution_count": 42,
   "id": "e752924e-0ec6-4158-8617-7f5a3e6a7a4f",
   "metadata": {},
   "outputs": [
    {
     "name": "stdout",
     "output_type": "stream",
     "text": [
      "[300, 500]\n"
     ]
    }
   ],
   "source": [
    "l = [220, 300, 500]\n",
    "n = 250\n",
    "print([i for i in l if i > n])"
   ]
  },
  {
   "cell_type": "markdown",
   "id": "3a186a50-ab3d-4930-840e-966ce642b735",
   "metadata": {},
   "source": [
    "68. Extend List Without Append\n",
    "\n",
    "Write a Python program to extend a list without appending.\n",
    "Sample data: [10, 20, 30]\n",
    "[40, 50, 60]\n",
    "Expected output : [40, 50, 60, 10, 20, 30]"
   ]
  },
  {
   "cell_type": "code",
   "execution_count": 44,
   "id": "ce83b76a-c983-4efc-8fe9-7c0a4197edc1",
   "metadata": {},
   "outputs": [
    {
     "name": "stdout",
     "output_type": "stream",
     "text": [
      "[10, 20, 30, 40, 50, 60]\n"
     ]
    }
   ],
   "source": [
    "l1 = [10, 20, 30]\n",
    "l2 = [40, 50, 60]\n",
    "l1.extend(l2)\n",
    "print(l1)"
   ]
  },
  {
   "cell_type": "markdown",
   "id": "ceccdf2a-f72d-4a7f-9415-74c26f5580df",
   "metadata": {},
   "source": [
    "69. Remove Duplicates from List of Lists\n",
    "\n",
    "Write a Python program to remove duplicates from a list of lists.\n",
    "Sample list : [[10, 20], [40], [30, 56, 25], [10, 20], [33], [40]]\n",
    "New List : [[10, 20], [30, 56, 25], [33], [40]]"
   ]
  },
  {
   "cell_type": "code",
   "execution_count": 48,
   "id": "4e22c657-2d04-4c1f-8517-85997bfa4786",
   "metadata": {},
   "outputs": [
    {
     "name": "stdout",
     "output_type": "stream",
     "text": [
      "[[10, 20], [40], [30, 56, 25], [33]]\n"
     ]
    }
   ],
   "source": [
    "l = [[10, 20], [40], [30, 56, 25], [10, 20], [33], [40]]\n",
    "result = []\n",
    "for i in l:\n",
    "    if i not in result:\n",
    "        result.append(i)\n",
    "\n",
    "print(result)"
   ]
  },
  {
   "cell_type": "code",
   "execution_count": 49,
   "id": "1d5dda50-a89a-4dc0-ba68-b3b579c8e091",
   "metadata": {},
   "outputs": [
    {
     "name": "stdout",
     "output_type": "stream",
     "text": [
      "[[40], [33], [30, 56, 25], [10, 20]]\n"
     ]
    }
   ],
   "source": [
    "result = [list(t) for t in {tuple(sublist) for sublist in l}]\n",
    "print(result)"
   ]
  },
  {
   "cell_type": "markdown",
   "id": "6e9b0ace-6a06-42ad-b1d6-e740975bc79b",
   "metadata": {},
   "source": [
    "70. Find Items Starting with Specific Character\n",
    "\n",
    "Write a Python program to find items starting with a specific character from a list.\n",
    "Expected Output:\n",
    "Original list:\n",
    "['abcd', 'abc', 'bcd', 'bkie', 'cder', 'cdsw', 'sdfsd', 'dagfa', 'acjd']\n",
    "Items start with a from the said list:\n",
    "['abcd', 'abc', 'acjd']\n",
    "Items start with d from the said list:\n",
    "['dagfa']\n",
    "Items start with w from the said list:\n",
    "[]"
   ]
  },
  {
   "cell_type": "code",
   "execution_count": 51,
   "id": "abc3b59b-a8fb-41f5-bff2-8825ff72654f",
   "metadata": {},
   "outputs": [
    {
     "name": "stdout",
     "output_type": "stream",
     "text": [
      "Item starting with a:  ['abcd', 'abc', 'acjd']\n",
      "Item starting with b:  ['bcd', 'bkie']\n",
      "Item starting with b:  ['dagfa']\n",
      "Item starting with b:  []\n"
     ]
    }
   ],
   "source": [
    "l = ['abcd', 'abc', 'bcd', 'bkie', 'cder', 'cdsw', 'sdfsd', 'dagfa', 'acjd']\n",
    "\n",
    "def item_starting_with(l, c):\n",
    "    return [word for word in l if word.startswith(c)]\n",
    "\n",
    "print('Item starting with a: ',item_starting_with(l, 'a'))\n",
    "print('Item starting with b: ',item_starting_with(l, 'b'))\n",
    "print('Item starting with b: ',item_starting_with(l, 'd'))\n",
    "print('Item starting with b: ',item_starting_with(l, 'w'))"
   ]
  },
  {
   "cell_type": "markdown",
   "id": "69ee83ab-9f5e-4b34-87af-5c813c079ea6",
   "metadata": {},
   "source": [
    "71. Check If All Dictionaries Are Empty\n",
    "\n",
    "Write a Python program to check whether all dictionaries in a list are empty or not.\n",
    "Sample list : [{},{},{}]\n",
    "Return value : True\n",
    "Sample list : [{1,2},{},{}]\n",
    "Return value : False"
   ]
  },
  {
   "cell_type": "code",
   "execution_count": 53,
   "id": "6fcb8ffa-ecc1-4203-b514-0e97efacee00",
   "metadata": {},
   "outputs": [
    {
     "name": "stdout",
     "output_type": "stream",
     "text": [
      "True\n",
      "False\n"
     ]
    }
   ],
   "source": [
    "l = [{}, {}, {}]\n",
    "print(all(not d for d in l))\n",
    "l2 = [{1,2},{},{}]\n",
    "print(all(not d for d in l2))"
   ]
  },
  {
   "cell_type": "markdown",
   "id": "fd4f4e5b-06d1-4bc5-bb7f-363545aa20cf",
   "metadata": {},
   "source": [
    "72. Flatten Nested List Structure\n",
    "\n",
    "Write a Python program to flatten a given nested list structure.\n",
    "Original list: [0, 10, [20, 30], 40, 50, [60, 70, 80], [90, 100, 110, 120]]\n",
    "Flatten list:\n",
    "[0, 10, 20, 30, 40, 50, 60, 70, 80, 90, 100, 110, 120]"
   ]
  },
  {
   "cell_type": "code",
   "execution_count": 62,
   "id": "f7ff0659-7e69-47cc-a780-9e55c85a2d78",
   "metadata": {},
   "outputs": [
    {
     "name": "stdout",
     "output_type": "stream",
     "text": [
      "[0, 10, 20, 30, 40, 50, 60, 70, 80, 90, 100, 110, 120]\n"
     ]
    }
   ],
   "source": [
    "l = [0, 10, [20, 30], 40, 50, [60, 70, 80], [90, 100, 110, 120]]\n",
    "\n",
    "def flatten_list(l):\n",
    "    result = []\n",
    "    for i in l:\n",
    "        if isinstance(i, list):\n",
    "            result.extend(i)\n",
    "        else:\n",
    "            result.append(i)\n",
    "    return result\n",
    "\n",
    "print(flatten_list(l))"
   ]
  },
  {
   "cell_type": "markdown",
   "id": "2038759f-78d7-45cc-8e2d-572c262ae8b0",
   "metadata": {},
   "source": [
    "73. Remove Consecutive Duplicates\n",
    "\n",
    "Write a  Python program to remove consecutive (following each other continuously) duplicates (elements) from a given list.\n",
    "Original list:\n",
    "[0, 0, 1, 2, 3, 4, 4, 5, 6, 6, 6, 7, 8, 9, 4, 4]\n",
    "After removing consecutive duplicates:\n",
    "[0, 1, 2, 3, 4, 5, 6, 7, 8, 9, 4]"
   ]
  },
  {
   "cell_type": "code",
   "execution_count": 70,
   "id": "bc40b9f7-0a0f-40f3-aa4a-bb07c51d0e66",
   "metadata": {},
   "outputs": [
    {
     "name": "stdout",
     "output_type": "stream",
     "text": [
      "[0, 1, 2, 3, 4, 5, 6, 7, 8, 9, 4]\n"
     ]
    }
   ],
   "source": [
    "l = [0, 0, 1, 2, 3, 4, 4, 5, 6, 6, 6, 7, 8, 9, 4, 4]\n",
    "\n",
    "result = []\n",
    "for i in range(0, len(l)):\n",
    "    if i == 0 or l[i - 1] != l[i]:\n",
    "        result.append(l[i])\n",
    "\n",
    "print(result)"
   ]
  },
  {
   "cell_type": "markdown",
   "id": "e622c14c-784d-4b94-88d7-e663787e1cca",
   "metadata": {},
   "source": [
    "74. Pack Consecutive Duplicates into Sublists\n",
    "\n",
    "Write a Python program to pack consecutive duplicates of a given list of elements into sublists.\n",
    "Original list:\n",
    "[0, 0, 1, 2, 3, 4, 4, 5, 6, 6, 6, 7, 8, 9, 4, 4]\n",
    "After packing consecutive duplicates of the said list elements into sublists:\n",
    "\n",
    "[[0, 0], [1], [2], [3], [4, 4], [5], [6, 6, 6], [7], [8], [9], [4, 4]]"
   ]
  },
  {
   "cell_type": "code",
   "execution_count": 75,
   "id": "a4e9b735-3dab-4e72-8d75-b2f733432e3c",
   "metadata": {},
   "outputs": [
    {
     "name": "stdout",
     "output_type": "stream",
     "text": [
      "[[0, 0], [1], [2], [3], [4, 4], [5], [6, 6, 6], [7], [8], [9], [4, 4]]\n"
     ]
    }
   ],
   "source": [
    "l = [0, 0, 1, 2, 3, 4, 4, 5, 6, 6, 6, 7, 8, 9, 4, 4]\n",
    "\n",
    "from itertools import groupby\n",
    "\n",
    "packed_list = [list(group) for _, group in groupby(l)]\n",
    "print(packed_list)"
   ]
  },
  {
   "cell_type": "code",
   "execution_count": 84,
   "id": "7ec18cf8-bbad-469e-86d4-846d1cc47976",
   "metadata": {},
   "outputs": [
    {
     "name": "stdout",
     "output_type": "stream",
     "text": [
      "Key: 0, Group: [0, 0], Type: <class 'itertools._grouper'>\n",
      "Key: 1, Group: [1], Type: <class 'itertools._grouper'>\n",
      "Key: 2, Group: [2], Type: <class 'itertools._grouper'>\n",
      "Key: 3, Group: [3], Type: <class 'itertools._grouper'>\n",
      "Key: 4, Group: [4, 4], Type: <class 'itertools._grouper'>\n",
      "Key: 5, Group: [5], Type: <class 'itertools._grouper'>\n",
      "Key: 6, Group: [6, 6, 6], Type: <class 'itertools._grouper'>\n",
      "Key: 7, Group: [7], Type: <class 'itertools._grouper'>\n",
      "Key: 8, Group: [8], Type: <class 'itertools._grouper'>\n",
      "Key: 9, Group: [9], Type: <class 'itertools._grouper'>\n",
      "Key: 4, Group: [4, 4], Type: <class 'itertools._grouper'>\n"
     ]
    }
   ],
   "source": [
    "# Groupby working\n",
    "grouped = groupby(l)\n",
    "for key, group in grouped:\n",
    "    print(f'Key: {key}, Group: {list(group)}, Type: {type(group)}')"
   ]
  },
  {
   "cell_type": "code",
   "execution_count": 91,
   "id": "dcfd331c-3d73-4e88-b01d-77120a8a00a6",
   "metadata": {},
   "outputs": [
    {
     "name": "stdout",
     "output_type": "stream",
     "text": [
      "[[0, 0], [1], [2], [3], [4, 4], [5], [6, 6, 6], [7], [8], [9], [4, 4]]\n"
     ]
    }
   ],
   "source": [
    "l = [0, 0, 1, 2, 3, 4, 4, 5, 6, 6, 6, 7, 8, 9, 4, 4]\n",
    "\n",
    "result = []\n",
    "temp = [l[0]]\n",
    "for i in range(1, len(l)):\n",
    "    if l[i] == l[i - 1]:\n",
    "        temp.append(l[i])\n",
    "    else:\n",
    "        result.append(temp)\n",
    "        temp = [l[i]]\n",
    "result.append(temp)\n",
    "\n",
    "print(result)"
   ]
  },
  {
   "cell_type": "markdown",
   "id": "b46b12c3-d726-499e-8d62-a48676880a15",
   "metadata": {},
   "source": [
    "75. Create Run-Length Encoded List\n",
    "\n",
    "Write a Python program to create a list reflecting the run-length encoding from a given list of integers or a given list of characters.\n",
    "Original list:\n",
    "[1, 1, 2, 3, 4, 4.3, 5, 1]\n",
    "List reflecting the run-length encoding from the said list:\n",
    "[[2, 1], [1, 2], [1, 3], [1, 4], [1, 4.3], [1, 5], [1, 1]]\n",
    "Original String:\n",
    "automatically\n",
    "List reflecting the run-length encoding from the said string:\n",
    "[[1, 'a'], [1, 'u'], [1, 't'], [1, 'o'], [1, 'm'], [1, 'a'], [1, 't'], [1, 'i'], [1, 'c'], [1, 'a'], [2, 'l'], [1, 'y']]"
   ]
  },
  {
   "cell_type": "code",
   "execution_count": 95,
   "id": "9b57fbf8-15c7-46e0-92bc-c18f1c02afa0",
   "metadata": {},
   "outputs": [
    {
     "name": "stdout",
     "output_type": "stream",
     "text": [
      "[[2, 1], [1, 2], [1, 3], [1, 4], [1, 4.3], [1, 5], [1, 1]]\n",
      "[[1, 'a'], [1, 'u'], [1, 't'], [1, 'o'], [1, 'm'], [1, 'a'], [1, 't'], [1, 'i'], [1, 'c'], [1, 'a'], [2, 'l'], [1, 'y']]\n"
     ]
    }
   ],
   "source": [
    "l = [1, 1, 2, 3, 4, 4.3, 5, 1]\n",
    "s = 'automatically'\n",
    "\n",
    "def run_length_encoded(l):\n",
    "    result = []\n",
    "    count = 1\n",
    "    for i in range(1, len(l)):\n",
    "        if l[i] == l[i - 1]:\n",
    "            count += 1\n",
    "        else:\n",
    "            result.append([count, l[i - 1]])\n",
    "            count = 1\n",
    "    result.append([count, l[-1]])\n",
    "    return result\n",
    "\n",
    "print(run_length_encoded(l))\n",
    "print(run_length_encoded(s))"
   ]
  },
  {
   "cell_type": "markdown",
   "id": "6030c5a5-a7d4-45ee-adc2-ea64ea60219e",
   "metadata": {},
   "source": [
    "76. Create Modified Run-Length Encoded List\n",
    "\n",
    "Write a Python program to create a list reflecting the modified run-length encoding from a given list of integers or a given list of characters.\n",
    "Original list:\n",
    "[1, 1, 2, 3, 4, 4, 5, 1]\n",
    "List reflecting the modified run-length encoding from the said list:\n",
    "[[2, 1], 2, 3, [2, 4], 5, 1]\n",
    "Original String:\n",
    "aabcddddadnss\n",
    "List reflecting the modified run-length encoding from the said string:\n",
    "[[2, 'a'], 'b', 'c', [4, 'd'], 'a', 'd', 'n', [2, 's']]"
   ]
  },
  {
   "cell_type": "code",
   "execution_count": 103,
   "id": "ea91115c-029d-4b23-90fb-4e2ef38ea801",
   "metadata": {},
   "outputs": [
    {
     "name": "stdout",
     "output_type": "stream",
     "text": [
      "[[2, 1], 2, 3, [2, 4], 5, 1]\n",
      "[[2, 'a'], 'b', 'c', [4, 'd'], 'a', 'd', 'n', [2, 's']]\n"
     ]
    }
   ],
   "source": [
    "l =  [1, 1, 2, 3, 4, 4, 5, 1]\n",
    "s = 'aabcddddadnss'\n",
    "def modified_run_length(l):\n",
    "    result = []\n",
    "    count = 1\n",
    "    for i in range(1, len(l)):\n",
    "        if l[i] == l[i - 1]:\n",
    "            count += 1\n",
    "        else:\n",
    "            if count > 1:\n",
    "                result.append([count, l[i-1]])\n",
    "            else:\n",
    "                result.append(l[i - 1])\n",
    "            count = 1\n",
    "    if count > 1:\n",
    "        result.append([count, l[-1]])\n",
    "    else:\n",
    "        result.append(l[-1])\n",
    "    return result\n",
    "\n",
    "print(modified_run_length(l))\n",
    "print(modified_run_length(s))"
   ]
  },
  {
   "cell_type": "markdown",
   "id": "6aa9414b-0d01-441d-b71a-b3694f44c75a",
   "metadata": {},
   "source": [
    "77. Decode Run-Length Encoded List\n",
    "\n",
    "Write a Python program to decode a run-length message.\n",
    "Original encoded list:\n",
    "[[2, 1], 2, 3, [2, 4], 5, 1]\n",
    "Decode a run-length encoded said list:\n",
    "[1, 1, 2, 3, 4, 4, 5, 1]"
   ]
  },
  {
   "cell_type": "code",
   "execution_count": 111,
   "id": "eb2fce85-d297-4b16-bad2-f667944b3c63",
   "metadata": {},
   "outputs": [
    {
     "name": "stdout",
     "output_type": "stream",
     "text": [
      "[1, 1, 2, 3, 4, 4, 5, 1]\n"
     ]
    }
   ],
   "source": [
    "l = [[2, 1], 2, 3, [2, 4], 5, 1]\n",
    "result = []\n",
    "for i in l:\n",
    "    if isinstance(i, list):\n",
    "        for j in range(i[0]):\n",
    "            result.append(i[1])\n",
    "    else:\n",
    "        result.append(i)\n",
    "print(result)"
   ]
  },
  {
   "cell_type": "markdown",
   "id": "8c427b0c-8ba9-46e9-b65e-34120bd81db5",
   "metadata": {},
   "source": [
    "78. Split List into Two Parts by Length\n",
    "\n",
    "Write a Python program to split a given list into two parts where the length of the first part of the list is given.\n",
    "Original list:\n",
    "[1, 1, 2, 3, 4, 4, 5, 1]\n",
    "Length of the first part of the list: 3\n",
    "Splited the said list into two parts:\n",
    "([1, 1, 2], [3, 4, 4, 5, 1])"
   ]
  },
  {
   "cell_type": "code",
   "execution_count": 113,
   "id": "547de048-2c3b-40f8-b622-ef5727672248",
   "metadata": {},
   "outputs": [
    {
     "name": "stdout",
     "output_type": "stream",
     "text": [
      "[[1, 1, 2], [3, 4, 4, 5, 1]]\n"
     ]
    }
   ],
   "source": [
    "l = [1, 1, 2, 3, 4, 4, 5, 1]\n",
    "n = 3\n",
    "\n",
    "result = [l[:3]] + [l[3:]]\n",
    "print(result)"
   ]
  },
  {
   "cell_type": "markdown",
   "id": "b26f3054-e40a-4392-908b-71bc7b4a9608",
   "metadata": {},
   "source": [
    "79. Remove K-th Element from List\n",
    "\n",
    "Write a Python program to remove the K'th element from a given list, and print the updated list.\n",
    "Original list:\n",
    "[1, 1, 2, 3, 4, 4, 5, 1]\n",
    "After removing an element at the kth position of the said list:\n",
    "[1, 1, 3, 4, 4, 5, 1]"
   ]
  },
  {
   "cell_type": "code",
   "execution_count": 114,
   "id": "8ae8b89d-f740-4709-8d52-86cead9675ab",
   "metadata": {},
   "outputs": [
    {
     "name": "stdout",
     "output_type": "stream",
     "text": [
      "[1, 1, 3, 4, 4, 5, 1]\n"
     ]
    }
   ],
   "source": [
    "l = [1, 1, 2, 3, 4, 4, 5, 1]\n",
    "k = 2\n",
    "l.pop(k)\n",
    "print(l)"
   ]
  },
  {
   "cell_type": "markdown",
   "id": "f9d10d7e-9737-4a80-aff8-906bf000616f",
   "metadata": {},
   "source": [
    "80. Insert Element at Specified Position\n",
    "\n",
    "Write a Python program to insert an element at a specified position into a given list.\n",
    "Original list:\n",
    "[1, 1, 2, 3, 4, 4, 5, 1]\n",
    "After inserting an element at kth position in the said list:\n",
    "[1, 1, 12, 2, 3, 4, 4, 5, 1]"
   ]
  },
  {
   "cell_type": "code",
   "execution_count": 115,
   "id": "114c33d7-b3e8-4b53-99df-c28daa0e7f41",
   "metadata": {},
   "outputs": [
    {
     "name": "stdout",
     "output_type": "stream",
     "text": [
      "[1, 1, 12, 2, 3, 4, 4, 5, 1]\n"
     ]
    }
   ],
   "source": [
    "l = [1, 1, 2, 3, 4, 4, 5, 1]\n",
    "l.insert(2, 12)\n",
    "print(l)"
   ]
  },
  {
   "cell_type": "markdown",
   "id": "bd732bd3-97c8-4520-a3fd-0e18eae3c32b",
   "metadata": {},
   "source": [
    "Write a  Python program to extract a given number of randomly selected elements from a given list.\n",
    "Original list:\n",
    "[1, 1, 2, 3, 4, 4, 5, 1]\n",
    "Selected 3 random numbers of the above list:\n",
    "[4, 4, 1]"
   ]
  },
  {
   "cell_type": "code",
   "execution_count": 118,
   "id": "b03698a6-d88c-4452-b5cb-5d4cce8e578c",
   "metadata": {},
   "outputs": [
    {
     "name": "stdout",
     "output_type": "stream",
     "text": [
      "[3, 4, 5]\n"
     ]
    }
   ],
   "source": [
    "l =  [1, 1, 2, 3, 4, 4, 5, 1]\n",
    "\n",
    "import random\n",
    "print(random.sample(l,3))"
   ]
  },
  {
   "cell_type": "markdown",
   "id": "cf41d666-5632-4baf-98a7-465876be9131",
   "metadata": {},
   "source": [
    "82. Generate Combinations from List\n",
    "\n",
    "Write a Python program to generate combinations of n distinct objects taken from the elements of a given list.\n",
    "Original list: [1, 2, 3, 4, 5, 6, 7, 8, 9] Combinations of 2 distinct objects: [1, 2] [1, 3] [1, 4] [1, 5] .... [7, 8] [7, 9] [8, 9]"
   ]
  },
  {
   "cell_type": "code",
   "execution_count": 119,
   "id": "15d70e3b-f371-4d81-a3f4-dc0da514fe0b",
   "metadata": {},
   "outputs": [
    {
     "name": "stdout",
     "output_type": "stream",
     "text": [
      "[(1, 2), (1, 3), (1, 4), (1, 5), (1, 6), (1, 7), (1, 8), (1, 9), (2, 3), (2, 4), (2, 5), (2, 6), (2, 7), (2, 8), (2, 9), (3, 4), (3, 5), (3, 6), (3, 7), (3, 8), (3, 9), (4, 5), (4, 6), (4, 7), (4, 8), (4, 9), (5, 6), (5, 7), (5, 8), (5, 9), (6, 7), (6, 8), (6, 9), (7, 8), (7, 9), (8, 9)]\n"
     ]
    }
   ],
   "source": [
    "l = [1, 2, 3, 4, 5, 6, 7, 8, 9]\n",
    "\n",
    "from itertools import combinations\n",
    "\n",
    "comb_list = list(combinations(l, 2))\n",
    "print(comb_list)"
   ]
  },
  {
   "cell_type": "markdown",
   "id": "191eeb54-2612-49a6-aad1-47e447f17671",
   "metadata": {},
   "source": [
    "83. Round Numbers and Calculate Total Sum\n",
    "\n",
    "Write a Python program to round every number in a given list of numbers and print the total sum multiplied by the length of the list.\n",
    "Original list: [22.4, 4.0, -16.22, -9.1, 11.0, -12.22, 14.2, -5.2, 17.5]\n",
    "Result:\n",
    "243"
   ]
  },
  {
   "cell_type": "code",
   "execution_count": 121,
   "id": "b10832f1-3fc2-479e-b82e-fcf20b2fc5ca",
   "metadata": {},
   "outputs": [
    {
     "name": "stdout",
     "output_type": "stream",
     "text": [
      "243\n"
     ]
    }
   ],
   "source": [
    "l = [22.4, 4.0, -16.22, -9.1, 11.0, -12.22, 14.2, -5.2, 17.5]\n",
    "result = sum([round(i) for i in l]) * len(l)\n",
    "print(result)"
   ]
  },
  {
   "cell_type": "markdown",
   "id": "f661d4e8-c5dd-4a7c-9f14-00b12a0630c6",
   "metadata": {},
   "source": [
    "84. Round Numbers, Find Min/Max, Multiply by 5\n",
    "\n",
    "Write a Python program to round the numbers in a given list, print the minimum and maximum numbers and multiply the numbers by 5. Print the unique numbers in ascending order separated by space.\n",
    "Original list: [22.4, 4.0, 16.22, 9.1, 11.0, 12.22, 14.2, 5.2, 17.5]\n",
    "Minimum value: 4\n",
    "Maximum value: 22\n",
    "Result:\n",
    "20 25 45 55 60 70 80 90 110"
   ]
  },
  {
   "cell_type": "code",
   "execution_count": 122,
   "id": "407290ce-be68-4ca3-8709-60311ac46b8a",
   "metadata": {},
   "outputs": [
    {
     "name": "stdout",
     "output_type": "stream",
     "text": [
      "Min Value:  4\n",
      "Max Value:  22\n",
      "Result:  22 4 16 9 11 12 14 5 18\n"
     ]
    }
   ],
   "source": [
    "l = [22.4, 4.0, 16.22, 9.1, 11.0, 12.22, 14.2, 5.2, 17.5]\n",
    "rounded_l = [round(i) for i in l]\n",
    "print('Min Value: ', min(rounded_l))\n",
    "print('Max Value: ', max(rounded_l))\n",
    "print('Result: ', *rounded_l)"
   ]
  },
  {
   "cell_type": "markdown",
   "id": "cff5f568-c2c4-49af-95dc-d4180fec23c1",
   "metadata": {},
   "source": [
    "85. Create Multidimensional List with Zeros\n",
    "\n",
    "Write a Python program to create a multidimensional list (lists of lists) with zeros.\n",
    "Multidimensional list: [[0, 0], [0, 0], [0, 0]]"
   ]
  },
  {
   "cell_type": "code",
   "execution_count": 124,
   "id": "9e044497-975d-4829-a8ac-d3ef26d3a9c3",
   "metadata": {},
   "outputs": [
    {
     "name": "stdout",
     "output_type": "stream",
     "text": [
      "[[0, 0], [0, 0], [0, 0]]\n"
     ]
    }
   ],
   "source": [
    "multid_array = [[0 for _ in range(2)] for _ in range(3)]\n",
    "print(multid_array)"
   ]
  },
  {
   "cell_type": "markdown",
   "id": "fdb1fe59-6b1c-472e-8782-e442fd9d44ac",
   "metadata": {},
   "source": [
    "86. Create 3x3 Grid with Numbers\n",
    "\n",
    "Write a Python program to create a 3X3 grid with numbers.\n",
    "3X3 grid with numbers:\n",
    "[[1, 2, 3], [1, 2, 3], [1, 2, 3]]"
   ]
  },
  {
   "cell_type": "code",
   "execution_count": 126,
   "id": "d9ab7bbb-4624-4685-9434-872377c39673",
   "metadata": {},
   "outputs": [
    {
     "name": "stdout",
     "output_type": "stream",
     "text": [
      "[[1, 2, 3], [1, 2, 3], [1, 2, 3]]\n"
     ]
    }
   ],
   "source": [
    "three_by_three_grid = [[i for i in range(1, 4)] for _ in range(3)]\n",
    "print(three_by_three_grid)"
   ]
  },
  {
   "cell_type": "markdown",
   "id": "4f280716-7b47-4d13-97fb-3b4c43c4faa2",
   "metadata": {},
   "source": [
    "87. Sum Matrix Columns from Console Input\n",
    "\n",
    "Write a Python program to read a matrix from the console and print the sum for each column. As input from the user, accept matrix rows, columns, and elements separated by a space (each row).\n",
    "Input rows: 2\n",
    "Input columns: 2\n",
    "Input number of elements in a row (1, 2, 3):\n",
    "1 2\n",
    "3 4\n",
    "sum for each column:\n",
    "4 6"
   ]
  },
  {
   "cell_type": "code",
   "execution_count": 135,
   "id": "a7eb4635-1121-42e3-b1ab-58388ca61de0",
   "metadata": {},
   "outputs": [
    {
     "name": "stdin",
     "output_type": "stream",
     "text": [
      "Input rows:  2\n",
      "Input columns:  2\n",
      "Row 1 2 3\n",
      "Row 2 2 5\n"
     ]
    },
    {
     "name": "stdout",
     "output_type": "stream",
     "text": [
      "[4, 8]\n"
     ]
    }
   ],
   "source": [
    "r = int(input('Input rows: '))\n",
    "c = int(input('Input columns: '))\n",
    "\n",
    "matrix = []\n",
    "\n",
    "for i in range(r):\n",
    "    row = list(map(int, input(f'Row {i + 1}').split()))\n",
    "    matrix.append(row)\n",
    "\n",
    "sum_col = [0] * c\n",
    "for i in range(r):\n",
    "    for j in range(c):\n",
    "        sum_col[j] += matrix[i][j]\n",
    "        \n",
    "print(sum_col)"
   ]
  },
  {
   "cell_type": "markdown",
   "id": "3ed498d2-df96-4bbb-a9bd-99c9d00b444c",
   "metadata": {},
   "source": [
    "88. Sum Primary Diagonal of Square Matrix\n",
    "\n",
    "Write a Python program to read a square matrix from the console and print the sum of the matrix's primary diagonal. Accept the size of the square matrix and elements for each column separated with a space (for every row) as input from the user.\n",
    "Input the size of the matrix: 3\n",
    "2 3 4\n",
    "4 5 6\n",
    "3 4 7\n",
    "Sum of matrix primary diagonal:\n",
    "14"
   ]
  },
  {
   "cell_type": "code",
   "execution_count": 136,
   "id": "e1ed2152-a61d-48b3-8e09-ff688bacd2f0",
   "metadata": {},
   "outputs": [
    {
     "name": "stdin",
     "output_type": "stream",
     "text": [
      "Input the size of matrix:  3\n",
      "Row 1:  2 3 4\n",
      "Row 2:  4 5 6\n",
      "Row 3:  3 4 7\n"
     ]
    },
    {
     "name": "stdout",
     "output_type": "stream",
     "text": [
      "Sum of primary diagnol:  14\n"
     ]
    }
   ],
   "source": [
    "n = int(input('Input the size of matrix: '))\n",
    "matrix = []\n",
    "for i in range(n):\n",
    "    row = list(map(int, input(f'Row {i + 1}: ').split()))\n",
    "    matrix.append(row)\n",
    "\n",
    "sum_diag = 0\n",
    "for i in range(n):\n",
    "    for j in range(n):\n",
    "        if i == j:\n",
    "            sum_diag += matrix[i][j]\n",
    "\n",
    "print('Sum of primary diagnol: ', sum_diag)"
   ]
  },
  {
   "cell_type": "markdown",
   "id": "a9fe43fb-ada6-4ed0-a5fb-4802a43cd3d1",
   "metadata": {},
   "source": [
    "89. Zip Two Lists of Lists\n",
    "\n",
    "Write a Python program to Zip two given lists of lists.\n",
    "Original lists:\n",
    "[[1, 3], [5, 7], [9, 11]]\n",
    "[[2, 4], [6, 8], [10, 12, 14]]\n",
    "Zipped list:\n",
    "[[1, 3, 2, 4], [5, 7, 6, 8], [9, 11, 10, 12, 14]]"
   ]
  },
  {
   "cell_type": "code",
   "execution_count": 140,
   "id": "1812eca0-ee6d-4b51-b1c7-48ea25d47f20",
   "metadata": {},
   "outputs": [
    {
     "name": "stdout",
     "output_type": "stream",
     "text": [
      "[[1, 3, 2, 4], [5, 7, 6, 8], [9, 11, 10, 12, 14]]\n"
     ]
    }
   ],
   "source": [
    "l1 = [[1, 3], [5, 7], [9, 11]]\n",
    "l2 = [[2, 4], [6, 8], [10, 12, 14]]\n",
    "\n",
    "zipped_list = []\n",
    "for i1, i2 in zip(l1, l2):\n",
    "    temp = []\n",
    "    temp.extend(i1 + i2)\n",
    "    zipped_list.append(temp)\n",
    "    \n",
    "print(zipped_list)"
   ]
  },
  {
   "cell_type": "markdown",
   "id": "7931f356-c44f-4fef-8308-34cf7e36d920",
   "metadata": {},
   "source": [
    "90. Count Lists in Nested List\n",
    "\n",
    "Write a Python program to count the number of lists in a given list of lists.\n",
    "Original list:\n",
    "[[1, 3], [5, 7], [9, 11], [13, 15, 17]]\n",
    "Number of lists in said list of lists:\n",
    "4\n",
    "Original list:\n",
    "[[2, 4], [[6, 8], [4, 5, 8]], [10, 12, 14]]\n",
    "Number of lists in said list of lists:\n",
    "3"
   ]
  },
  {
   "cell_type": "code",
   "execution_count": 141,
   "id": "aaad3c30-9735-4c9f-b381-2cc2dafa7767",
   "metadata": {},
   "outputs": [
    {
     "name": "stdout",
     "output_type": "stream",
     "text": [
      "4\n",
      "3\n"
     ]
    }
   ],
   "source": [
    "l1 = [[1, 3], [5, 7], [9, 11], [13, 15, 17]]\n",
    "l2 = [[2, 4], [[6, 8], [4, 5, 8]], [10, 12, 14]]\n",
    "\n",
    "def sublist_count(l):\n",
    "    count = 0\n",
    "    for i in l:\n",
    "        if isinstance(i, list):\n",
    "            count += 1\n",
    "    return count\n",
    "\n",
    "print(sublist_count(l1))\n",
    "print(sublist_count(l2))"
   ]
  },
  {
   "cell_type": "markdown",
   "id": "4ff7148c-6086-4006-96f0-fcc5b01aab2c",
   "metadata": {},
   "source": [
    "91. Find List with Max and Min Lengths\n",
    "\n",
    "Write a  Python program to find a list with maximum and minimum lengths."
   ]
  },
  {
   "cell_type": "code",
   "execution_count": 151,
   "id": "bed090a5-d201-4f0d-9019-4fa7b8be5c82",
   "metadata": {},
   "outputs": [
    {
     "name": "stdout",
     "output_type": "stream",
     "text": [
      "((3, [13, 15, 17]), (1, [0]))\n",
      "((3, [3, 5, 7]), (1, [0]))\n",
      "((4, [1, 34, 5, 7]), (1, [12]))\n"
     ]
    }
   ],
   "source": [
    "l1 = [[0], [1, 3], [5, 7], [9, 11], [13, 15, 17]]\n",
    "l2 = [[0], [1, 3], [5, 7], [9, 11], [3, 5, 7]]\n",
    "l3 = [[12], [1, 3], [1, 34, 5, 7], [9, 11], [3, 5, 7]]\n",
    "\n",
    "def max_min_length_sublists(l):\n",
    "    max_l = min_l = len(l[0])\n",
    "    max_sub = min_sub = l[0]\n",
    "\n",
    "    for i in l:\n",
    "        if len(i) > max_l:\n",
    "            max_l = len(i)\n",
    "            max_sub = i\n",
    "        if len(i) < min_l:\n",
    "            min_l = len(i)\n",
    "            min_sub = i\n",
    "            \n",
    "    return (max_l, max_sub), (min_l, min_sub)\n",
    "    \n",
    "print(max_min_length_sublists(l1))\n",
    "print(max_min_length_sublists(l2))\n",
    "print(max_min_length_sublists(l3))"
   ]
  },
  {
   "cell_type": "markdown",
   "id": "cc6732af-a506-4afc-ae1e-e5be3905bcc8",
   "metadata": {},
   "source": [
    "92. Check if Nested List Is Subset\n",
    "\n",
    "Write a Python program to check if a nested list is a subset of another nested list."
   ]
  },
  {
   "cell_type": "code",
   "execution_count": 157,
   "id": "733388e2-e883-41f4-b695-5461dec72380",
   "metadata": {},
   "outputs": [
    {
     "name": "stdout",
     "output_type": "stream",
     "text": [
      "True\n",
      "True\n",
      "False\n"
     ]
    }
   ],
   "source": [
    "a1 = [[1, 3], [5, 7], [9, 11], [13, 15, 17]]\n",
    "a2 = [[1, 3], [13, 15, 17]]\n",
    "\n",
    "b1 = [[[1, 2], [2, 3]], [[3, 4], [5, 6]]]\n",
    "b2 = [[[3, 4], [5, 6]]]\n",
    "\n",
    "c1 = [[[1, 2], [2, 3]], [[3, 4], [5, 7]]]\n",
    "c2 = [[[3, 4], [5, 6]]]\n",
    "\n",
    "def nested_list_sublist(l1, l2):\n",
    "    smaller_list = l1 if len(l1) < len(l2) else l2\n",
    "    other_list = l1 if len(l1) > len(l2) else l1\n",
    "\n",
    "    return all(sublist in other_list for sublist in smaller_list)\n",
    "\n",
    "print(nested_list_sublist(a1, a2))\n",
    "print(nested_list_sublist(b1, b2))\n",
    "print(nested_list_sublist(c1, c2))"
   ]
  },
  {
   "cell_type": "markdown",
   "id": "fbeebc15-9137-4906-8a6e-a7e172c25c90",
   "metadata": {},
   "source": [
    "93. Count Sublists Containing Element\n",
    "\n",
    "Write a Python program to count the number of sublists that contain a particular element.\n"
   ]
  },
  {
   "cell_type": "code",
   "execution_count": 164,
   "id": "fe569162-fee0-4ce2-9671-6c72ad2a0695",
   "metadata": {},
   "outputs": [
    {
     "name": "stdout",
     "output_type": "stream",
     "text": [
      "3\n",
      "2\n",
      "3\n",
      "1\n"
     ]
    }
   ],
   "source": [
    "l1 = [[1, 3], [5, 7], [1, 11], [1, 15, 7]]\n",
    "l2 = [['A', 'B'], ['A', 'C'], ['A', 'D', 'E'], ['B', 'C', 'D']]\n",
    "\n",
    "def count_sublist_containing_element(l, n):\n",
    "    count = 0\n",
    "    for i in l:\n",
    "        for j in i:\n",
    "            if j == n:\n",
    "                count += 1\n",
    "    return count\n",
    "\n",
    "print(count_sublist_containing_element(l1, 1))\n",
    "print(count_sublist_containing_element(l1, 7))\n",
    "print(count_sublist_containing_element(l2, 'A'))\n",
    "print(count_sublist_containing_element(l2, 'E'))"
   ]
  },
  {
   "cell_type": "markdown",
   "id": "7ee5e052-83c3-46d0-aa54-088a766adc7e",
   "metadata": {},
   "source": [
    "94. Count Unique Sublists in List\n",
    "\n",
    "Write a Python program to count the number of unique sublists within a given list."
   ]
  },
  {
   "cell_type": "code",
   "execution_count": 168,
   "id": "6a170acf-7e42-48cd-bef7-dd3896397c39",
   "metadata": {},
   "outputs": [
    {
     "name": "stdout",
     "output_type": "stream",
     "text": [
      "{(1, 3): 2, (5, 7): 2, (13, 15, 17): 1, (9, 11): 1}\n",
      "{('green', 'orange'): 2, ('black',): 1, ('white',): 1}\n"
     ]
    }
   ],
   "source": [
    "l1 = [[1, 3], [5, 7], [1, 3], [13, 15, 17], [5, 7], [9, 11]]\n",
    "l2 = [['green', 'orange'], ['black'], ['green', 'orange'], ['white']]\n",
    "\n",
    "def sublist_count(l):\n",
    "    count = {}\n",
    "    for i in l:\n",
    "        key = tuple(i)\n",
    "        if key in count:\n",
    "            count[key] += 1\n",
    "        else:\n",
    "            count[key] = 1\n",
    "    return count\n",
    "\n",
    "print(sublist_count(l1))\n",
    "print(sublist_count(l2))"
   ]
  },
  {
   "cell_type": "markdown",
   "id": "c358dcd3-1688-4d60-aee6-651a6ae8ca3b",
   "metadata": {},
   "source": [
    "95. Sort Strings in Sublists\n",
    "\n",
    "Write a Python program to sort each sublist of strings in a given list of lists.\n",
    "Original list:\n",
    "[[2], [0], [1, 3], [0, 7], [9, 11], [13, 15, 17]]\n",
    "Sort the list of lists by length and value:\n",
    "[[0], [2], [0, 7], [1, 3], [9, 11], [13, 15, 17]]"
   ]
  },
  {
   "cell_type": "code",
   "execution_count": 171,
   "id": "5c507315-835b-43b1-8d8a-0fba67919b32",
   "metadata": {},
   "outputs": [
    {
     "name": "stdout",
     "output_type": "stream",
     "text": [
      "[[0], [2], [0, 7], [1, 3], [9, 11], [13, 15, 17]]\n"
     ]
    }
   ],
   "source": [
    "l = [[2], [0], [1, 3], [0, 7], [9, 11], [13, 15, 17]]\n",
    "\n",
    "l.sort(key = lambda x: (len(x), x))\n",
    "print(l)"
   ]
  },
  {
   "cell_type": "markdown",
   "id": "163083f1-8e97-4bfa-9ba1-1dc73051eb05",
   "metadata": {},
   "source": [
    "97. Remove Sublists Outside Range\n",
    "\n",
    "Write a Python program to remove sublists from a given list of lists that contain an element outside a given range.\n",
    "Original list:\n",
    "[[2], [0], [1, 2, 3], [0, 1, 2, 3, 6, 7], [9, 11], [13, 14, 15, 17]]\n",
    "After removing sublists from a given list of lists, which contains an element outside the given range:\n",
    "[[13, 14, 15, 17]]"
   ]
  },
  {
   "cell_type": "code",
   "execution_count": 174,
   "id": "908bbfb1-d8d0-4b6f-b66b-99ae3a1bbbae",
   "metadata": {},
   "outputs": [
    {
     "name": "stdout",
     "output_type": "stream",
     "text": [
      "[[13, 14, 15, 17]]\n"
     ]
    }
   ],
   "source": [
    "l = [[2], [0], [1, 2, 3], [0, 1, 2, 3, 6, 7], [9, 11], [13, 14, 15, 17]]\n",
    "\n",
    "def remove_sublists_outside_range(l, min_v, max_v):\n",
    "    return [sublist for sublist in l if all(min_v <= element <= max_v for element in sublist)]\n",
    "\n",
    "print(remove_sublists_outside_range(l, 12, 20))"
   ]
  },
  {
   "cell_type": "markdown",
   "id": "2631e7a9-76d6-4837-910e-2907aea468c3",
   "metadata": {},
   "source": [
    "98. Scramble Letters in List Strings\n",
    "\n",
    "Write a  Python program to scramble the letters of a string in a given list.\n",
    "Original list:\n",
    "['Python', 'list', 'exercises', 'practice', 'solution']\n",
    "After scrambling the letters of the strings of the said list:\n",
    "['tnPhyo', 'tlis', 'ecrsseiex', 'ccpitear', 'noiltuos']"
   ]
  },
  {
   "cell_type": "code",
   "execution_count": 175,
   "id": "f4d74b59-0cf0-41c2-9507-8dc3f4f2f202",
   "metadata": {},
   "outputs": [
    {
     "name": "stdout",
     "output_type": "stream",
     "text": [
      "['htyPon', 'islt', 'sxreesiec', 'prietcca', 'otlsuoin']\n"
     ]
    }
   ],
   "source": [
    "l = ['Python', 'list', 'exercises', 'practice', 'solution']\n",
    "\n",
    "from random import shuffle\n",
    "\n",
    "def shuffle_word(l):\n",
    "    l = list(l)\n",
    "    shuffle(l)\n",
    "    return ''.join(l)\n",
    "\n",
    "result = [shuffle_word(w) for w in l]\n",
    "print(result)"
   ]
  },
  {
   "cell_type": "markdown",
   "id": "477dd095-273d-4e32-9881-11028ef2335c",
   "metadata": {},
   "source": [
    "99. Find Max and Min in Heterogeneous List\n",
    "\n",
    "Write a Python program to find the maximum and minimum values in a given heterogeneous list.\n",
    "Original list:\n",
    "['Python', 3, 2, 4, 5, 'version']\n",
    "Maximum and Minimum values in the said list:\n",
    "(5, 2)"
   ]
  },
  {
   "cell_type": "code",
   "execution_count": 180,
   "id": "59abfdf8-d7fd-4f72-8432-7be1272840af",
   "metadata": {},
   "outputs": [
    {
     "name": "stdout",
     "output_type": "stream",
     "text": [
      "(5, 2)\n"
     ]
    }
   ],
   "source": [
    "l = ['Python', 3, 2, 4, 5, 'version']\n",
    "\n",
    "def max_min_heterogenous(l):\n",
    "    int_l = [i for i in l if isinstance(i, int)]\n",
    "    return max(int_l), min(int_l)\n",
    "\n",
    "print(max_min_heterogenous(l))"
   ]
  },
  {
   "cell_type": "markdown",
   "id": "bccfa62b-4193-42bd-ad3c-07fd6979a0fb",
   "metadata": {},
   "source": [
    "100. Extract Common Index Elements from Lists\n",
    "\n",
    "Write a Python program to extract common index elements from more than one given list.\n",
    "Original lists:\n",
    "[1, 1, 3, 4, 5, 6, 7]\n",
    "[0, 1, 2, 3, 4, 5, 7]\n",
    "[0, 1, 2, 3, 4, 5, 7]\n",
    "Common index elements of the said lists:\n",
    "[1, 7]"
   ]
  },
  {
   "cell_type": "code",
   "execution_count": 182,
   "id": "9b4c7303-9774-4782-819b-356cf2933b3b",
   "metadata": {},
   "outputs": [
    {
     "name": "stdout",
     "output_type": "stream",
     "text": [
      "[1, 7]\n"
     ]
    }
   ],
   "source": [
    "l1 = [1, 1, 3, 4, 5, 6, 7]\n",
    "l2 = [0, 1, 2, 3, 4, 5, 7]\n",
    "l3 = [0, 1, 2, 3, 4, 5, 7]\n",
    "\n",
    "def common_index_ele(l1, l2, l3):\n",
    "    c = []\n",
    "    for i, j, k in zip(l1, l2, l3):\n",
    "        if i == j == k:\n",
    "            c.append(i)\n",
    "    return c\n",
    "\n",
    "print(common_index_ele(l1, l2, l3))"
   ]
  },
  {
   "cell_type": "markdown",
   "id": "ce7f7435-3102-4c08-86e6-e4f7a54e20c6",
   "metadata": {},
   "source": [
    "101. Sort Matrix by Row Sum\n",
    "\n",
    "Write a Python program to sort a given matrix in ascending order according to the sum of its rows."
   ]
  },
  {
   "cell_type": "code",
   "execution_count": 186,
   "id": "3a255d58-9463-4dfc-a969-c89faf10bb75",
   "metadata": {},
   "outputs": [
    {
     "name": "stdout",
     "output_type": "stream",
     "text": [
      "[[1, 1, 1], [1, 2, 3], [2, 4, 5]]\n",
      "[[-2, 4, -5], [1, -1, 1], [1, 2, 3]]\n"
     ]
    }
   ],
   "source": [
    "m1 = [[1, 2, 3], [2, 4, 5], [1, 1, 1]]\n",
    "m2 = [[1, 2, 3], [-2, 4, -5], [1, -1, 1]]\n",
    "\n",
    "def sort_matrix_by_row_sum(m):\n",
    "    m.sort(key = lambda x: sum(x))\n",
    "    return m\n",
    "\n",
    "print(sort_matrix_by_row_sum(m1))\n",
    "print(sort_matrix_by_row_sum(m2))"
   ]
  },
  {
   "cell_type": "markdown",
   "id": "46728474-b8b0-457d-8a70-789ecb04a8fc",
   "metadata": {},
   "source": [
    "102. Extract Strings by Length\n",
    "\n",
    "Write a Python program to extract specified size of strings from a give list of string values."
   ]
  },
  {
   "cell_type": "code",
   "execution_count": 187,
   "id": "43a13f29-da98-4039-b54f-143591c565c1",
   "metadata": {},
   "outputs": [
    {
     "name": "stdout",
     "output_type": "stream",
     "text": [
      "['practice', 'solution']\n"
     ]
    }
   ],
   "source": [
    "l = ['Python', 'list', 'exercises', 'practice', 'solution']\n",
    "\n",
    "def extract_string_length(l, n):\n",
    "    return [word for word in l if len(word) == n]\n",
    "\n",
    "print(extract_string_length(l, 8))"
   ]
  },
  {
   "cell_type": "markdown",
   "id": "d9c27725-9fe7-481b-8401-a1cf646902ed",
   "metadata": {},
   "source": [
    "103. Extract Continuous Elements from List\n",
    "\n",
    "Write a Python program to extract specified number of elements from a given list, which follows each other continuously."
   ]
  },
  {
   "cell_type": "code",
   "execution_count": 194,
   "id": "4dd4b79f-9641-48df-bcd9-171fffad1289",
   "metadata": {},
   "outputs": [
    {
     "name": "stdout",
     "output_type": "stream",
     "text": [
      "[1, 4]\n"
     ]
    }
   ],
   "source": [
    "l = [1, 1, 3, 4, 4, 5, 6, 7]\n",
    "l2 = [1, 1, 2, 3, 4]\n",
    "\n",
    "result = [l[i] for i in range(len(l)) if l[i - 1] == l[i]]\n",
    "print(result)"
   ]
  },
  {
   "cell_type": "markdown",
   "id": "f7bc2463-10b0-4f6b-81a3-ee503bd36475",
   "metadata": {},
   "source": [
    "104. Difference Between Consecutive Numbers\n",
    "\n",
    "Write a Python program to find the difference between consecutive numbers in a given list."
   ]
  },
  {
   "cell_type": "code",
   "execution_count": 198,
   "id": "e3f3e09f-4904-4952-baf6-ca70f3fa61d6",
   "metadata": {},
   "outputs": [
    {
     "name": "stdout",
     "output_type": "stream",
     "text": [
      "[0, 2, 1, 0, 1, 1, 1]\n",
      "[1, 3, 1, -3, 4]\n"
     ]
    }
   ],
   "source": [
    "l1 = [1, 1, 3, 4, 4, 5, 6, 7]\n",
    "l2 = [4, 5, 8, 9, 6, 10]\n",
    "\n",
    "def diff_consecutive_num(l):\n",
    "    diff = []\n",
    "    for i in range(1, len(l)):\n",
    "        diff.append(l[i] - l[i - 1])\n",
    "    return diff\n",
    "\n",
    "print(diff_consecutive_num(l1)) #[0, 2, 1, 0, 1, 1, 1]\n",
    "print(diff_consecutive_num(l2)) #[1, 3, 1, -3, 4]"
   ]
  },
  {
   "cell_type": "code",
   "execution_count": null,
   "id": "d5258124-8260-47a3-9561-f4e5d3e78db4",
   "metadata": {},
   "outputs": [],
   "source": []
  }
 ],
 "metadata": {
  "kernelspec": {
   "display_name": "Python 3 (ipykernel)",
   "language": "python",
   "name": "python3"
  },
  "language_info": {
   "codemirror_mode": {
    "name": "ipython",
    "version": 3
   },
   "file_extension": ".py",
   "mimetype": "text/x-python",
   "name": "python",
   "nbconvert_exporter": "python",
   "pygments_lexer": "ipython3",
   "version": "3.12.6"
  }
 },
 "nbformat": 4,
 "nbformat_minor": 5
}
