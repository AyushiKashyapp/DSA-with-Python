{
 "cells": [
  {
   "cell_type": "markdown",
   "metadata": {},
   "source": [
    "#### Count Word Frequency\n",
    "Define a function to count the frequency of words in a given list of words.\n",
    "\n",
    "Time complexity:\n",
    "\n",
    "The time complexity of this exercise is O(n), where n is the number of words in the input list. The loop iterates through each word in the list once, and the dictionary operations (get and update) take constant time, O(1), on average.\n",
    "\n",
    "Space complexity:\n",
    "\n",
    "The space complexity of this exercise is also O(n), where n is the number of unique words in the input list. In the worst case, all words are unique, and the word_count dictionary will have n entries."
   ]
  },
  {
   "cell_type": "code",
   "execution_count": 1,
   "metadata": {},
   "outputs": [
    {
     "name": "stdout",
     "output_type": "stream",
     "text": [
      "{'apple': 3, 'orange': 2, 'banana': 1}\n"
     ]
    }
   ],
   "source": [
    "words = ['apple', 'orange', 'banana', 'apple', 'orange', 'apple']\n",
    "\n",
    "def count_word_frequency(words):\n",
    "    counts = {}\n",
    "    for i in words:\n",
    "        if i in counts:\n",
    "            counts[i] += 1\n",
    "        else:\n",
    "            counts[i] = 1\n",
    "    return counts\n",
    "\n",
    "print(count_word_frequency(words))"
   ]
  },
  {
   "cell_type": "markdown",
   "metadata": {},
   "source": [
    "#### Common Keys\n",
    "Define a function with takes two dictionaries as parameters and merge them and sum the values of common keys.\n",
    "\n",
    "Explanation:\n",
    "\n",
    "Create a copy of dict1 named result. This ensures that the original dict1 is not modified during the process. The copy() method takes O(n) time complexity, where n is the number of elements in dict1. The space complexity is also O(n) as a new dictionary is created with the same number of elements as dict1.\n",
    "\n",
    "Iterate through the key-value pairs of dict2 using a for loop. This loop runs for m iterations, where m is the number of elements in dict2. For each key-value pair:\n",
    "\n",
    "a. Use the get() method to retrieve the current value associated with the key in the result dictionary. If the key is not present in result, get() returns the default value (0).\n",
    "\n",
    "b. Add the value from dict2 to the current value (or 0, if the key is not in result) and update the result dictionary with the new value for the key. The get() and update operations take O(1) average time complexity.\n",
    "\n",
    "Return the merged dictionary result.\n",
    "\n",
    "Time complexity:\n",
    "\n",
    "The overall time complexity of this function is O(n + m), where n is the number of elements in dict1 and m is the number of elements in dict2. The copy() method takes O(n) time, and the loop iterates m times with O(1) operations inside the loop.\n",
    "\n",
    "Space complexity:\n",
    "\n",
    "The space complexity of this function is O(n + m) in the worst case, where all keys in dict1 and dict2 are distinct, and the merged dictionary has n + m elements. In the best case, where dict1 and dict2 have the same keys, the space complexity is O(n) (or O(m), whichever is larger), as the merged dictionary has the same number of elements as the input dictionaries.\n"
   ]
  },
  {
   "cell_type": "code",
   "execution_count": 10,
   "metadata": {},
   "outputs": [
    {
     "name": "stdout",
     "output_type": "stream",
     "text": [
      "{'a': 1, 'b': 5, 'c': 7, 'd': 5}\n"
     ]
    }
   ],
   "source": [
    "dict1 = {'a': 1, 'b': 2, 'c': 3}\n",
    "dict2 = {'b': 3, 'c': 4, 'd': 5}\n",
    "\n",
    "def merge_dicts(dict1, dict2):\n",
    "    common = dict1.copy()\n",
    "    for key, value in dict2.items():\n",
    "        common[key] = common.get(key, 0) + value\n",
    "    return common\n",
    "\n",
    "print(merge_dicts(dict1, dict2))\n"
   ]
  },
  {
   "cell_type": "markdown",
   "metadata": {},
   "source": [
    "#### Key with the Highest Value\n",
    "Define a function which takes a dictionary as a parameter and returns the key with the highest value in a dictionary.\n",
    "\n",
    "Call the built-in max() function with the dictionary my_dict as its first argument and key=my_dict.get as its second argument.\n",
    "\n",
    "The max() function iterates through the keys in the dictionary and compares the values associated with each key using the get() method. The key parameter specifies a custom function to extract a comparison key from each dictionary key. In this case, the get() method returns the value associated with each key, so the max() function compares the values of the dictionary.\n",
    "\n",
    "The time complexity of the max() function is O(n), where n is the number of elements in the dictionary my_dict. The max() function iterates through all the keys in the dictionary once, and the get() method has an average time complexity of O(1).\n",
    "\n",
    "Return the key with the highest value found by the max() function.\n",
    "\n",
    "Time complexity:\n",
    "\n",
    "The overall time complexity of this function is O(n), where n is the number of elements in the dictionary my_dict. This is determined by the max() function, which iterates through all the keys in the dictionary.\n",
    "\n",
    "Space complexity:\n",
    "\n",
    "The space complexity of this function is O(1), as it does not create any additional data structures or store any intermediate values. The max() function only keeps track of the current maximum value and its corresponding key, which requires constant space."
   ]
  },
  {
   "cell_type": "code",
   "execution_count": 16,
   "metadata": {},
   "outputs": [
    {
     "name": "stdout",
     "output_type": "stream",
     "text": [
      "b\n"
     ]
    }
   ],
   "source": [
    "my_dict = {'a': 5, 'b': 9, 'c': 2}\n",
    "\n",
    "def max_value_key(my_dict):\n",
    "    return max(my_dict,key = my_dict.get)\n",
    "\n",
    "print(max_value_key(my_dict))"
   ]
  },
  {
   "cell_type": "markdown",
   "metadata": {},
   "source": [
    "#### Reverse Key-Value Pairs\n",
    "Define a function which takes as a parameter dictionary and returns a dictionary in which everse the key-value pairs are reversed."
   ]
  },
  {
   "cell_type": "code",
   "execution_count": 18,
   "metadata": {},
   "outputs": [
    {
     "name": "stdout",
     "output_type": "stream",
     "text": [
      "{1: 'a', 2: 'b', 3: 'c'}\n",
      "{1: 'a', 2: 'b', 3: 'c'}\n"
     ]
    }
   ],
   "source": [
    "my_dict = {'a': 1, 'b': 2, 'c': 3}\n",
    "\n",
    "def reverse_dict(my_dict):\n",
    "    new_dict = {}\n",
    "    for key, val in my_dict.items():\n",
    "        new_dict[val] = key\n",
    "    return new_dict\n",
    "\n",
    "print(reverse_dict(my_dict))\n",
    "\n",
    "def reverse_dict_2(my_dict):\n",
    "    return {v:k for k,v in my_dict.items()}\n",
    "\n",
    "print(reverse_dict_2(my_dict))"
   ]
  },
  {
   "cell_type": "markdown",
   "metadata": {},
   "source": [
    "#### Conditional Filter\n",
    "Define a function that takes a dictionary as a parameter and returns a dictionary with elements based on a condition.\n",
    "\n",
    "Use dictionary comprehension to create a new dictionary by iterating through the key-value pairs in the input dictionary my_dict using the items() method. The items() method returns an iterable that produces key-value pairs as tuples.\n",
    "\n",
    "For each key-value pair (k, v) from the input dictionary, the dictionary comprehension checks if the condition is met by calling the condition(k, v) function. The condition function takes a key and a value as arguments and returns a boolean value.\n",
    "\n",
    "If the condition is met, the dictionary comprehension creates a new entry in the filtered dictionary with the same key-value pair. The syntax is {k: v for k, v in my_dict.items() if condition(k, v)}.\n",
    "\n",
    "The time complexity of this operation is O(n), where n is the number of elements in the dictionary my_dict. The dictionary comprehension iterates through all the key-value pairs in the input dictionary once.\n",
    "\n",
    "Return the new dictionary containing the filtered key-value pairs.\n",
    "\n",
    "Time complexity:\n",
    "\n",
    "The overall time complexity of this function is O(n), where n is the number of elements in the dictionary my_dict. This is determined by the dictionary comprehension, which iterates through all the key-value pairs in the input dictionary.\n",
    "\n",
    "Space complexity:\n",
    "\n",
    "The space complexity of this function depends on the number of elements in the filtered dictionary, which in turn depends on the condition function. In the worst case, when all key-value pairs meet the condition, the space complexity is O(n), where n is the number of elements in the dictionary my_dict. In the best case, when no key-value pairs meet the condition, the space complexity is O(1) as the function creates an empty dictionary."
   ]
  },
  {
   "cell_type": "code",
   "execution_count": 20,
   "metadata": {},
   "outputs": [
    {
     "name": "stdout",
     "output_type": "stream",
     "text": [
      "{'b': 2, 'd': 4}\n"
     ]
    }
   ],
   "source": [
    "my_dict = {'a': 1, 'b': 2, 'c': 3, 'd': 4} \n",
    "\n",
    "def filter_dict(my_dict, condition):\n",
    "    return {k:v for k,v in my_dict.items() if condition(k, v)}\n",
    "\n",
    "filtered_dict = filter_dict(my_dict, lambda k, v: v % 2 == 0)\n",
    "print(filtered_dict)"
   ]
  },
  {
   "cell_type": "markdown",
   "metadata": {},
   "source": [
    "#### Same Frequency\n",
    "Define a function which takes two lists as parameters and check if two given lists have the same frequency of elements.\n",
    "\n",
    "check_same_frequency(list1, list2)  checks if two given lists have the same frequency of elements.\n",
    "\n",
    "\n",
    "\n",
    "Define an inner function count_elements(lst) that counts the frequency of elements in a list lst. The function creates an empty dictionary counter, iterates through the list, and increments the count for each element using the get() method. The get() method takes O(1) average time complexity. The function returns the counter dictionary. The time complexity of count_elements() is O(n), where n is the number of elements in the input list lst. The space complexity is also O(n), as the dictionary counter has as many keys as there are distinct elements in the list.\n",
    "\n",
    "Call the count_elements() function on both input lists list1 and list2. This operation has a time complexity of O(n1 + n2), where n1 and n2 are the lengths of list1 and list2, respectively. The space complexity is O(m1 + m2), where m1 and m2 are the numbers of distinct elements in list1 and list2, respectively.\n",
    "\n",
    "Compare the resulting dictionaries using the == operator. This operation has a time complexity of O(min(m1, m2)), as it compares the keys and values of both dictionaries.\n",
    "\n",
    "Return the result of the comparison (True if the dictionaries are equal, False otherwise).\n",
    "\n",
    "Time complexity:\n",
    "\n",
    "The overall time complexity of this function is O(n1 + n2 + min(m1, m2)), where n1 and n2 are the lengths of list1 and list2, and m1 and m2 are the numbers of distinct elements in list1 and list2, respectively. This is determined by the time complexity of the count_elements() function and the dictionary comparison.\n",
    "\n",
    "Space complexity:\n",
    "\n",
    "The space complexity of this function is O(m1 + m2), where m1 and m2 are the numbers of distinct elements in list1 and list2, respectively. This is because the function creates two dictionaries with as many keys as there are distinct elements in the input lists."
   ]
  },
  {
   "cell_type": "code",
   "execution_count": 21,
   "metadata": {},
   "outputs": [
    {
     "name": "stdout",
     "output_type": "stream",
     "text": [
      "False\n"
     ]
    }
   ],
   "source": [
    "list1 = [1, 2, 3, 2, 1]\n",
    "list2 = [3, 1, 2, 1, 3]\n",
    "\n",
    "def check_same_frequency(list1, list2):\n",
    "    def count_elements(lst):\n",
    "        counter = {}\n",
    "        for element in lst:\n",
    "            counter[element] = counter.get(element, 0) + 1\n",
    "        return counter\n",
    "    return count_elements(list1) == count_elements(list2)\n",
    "\n",
    "print(check_same_frequency(list1, list2))"
   ]
  },
  {
   "cell_type": "code",
   "execution_count": null,
   "metadata": {},
   "outputs": [],
   "source": []
  }
 ],
 "metadata": {
  "kernelspec": {
   "display_name": "Python 3",
   "language": "python",
   "name": "python3"
  },
  "language_info": {
   "codemirror_mode": {
    "name": "ipython",
    "version": 3
   },
   "file_extension": ".py",
   "mimetype": "text/x-python",
   "name": "python",
   "nbconvert_exporter": "python",
   "pygments_lexer": "ipython3",
   "version": "3.12.6"
  }
 },
 "nbformat": 4,
 "nbformat_minor": 2
}
