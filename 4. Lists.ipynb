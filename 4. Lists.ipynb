{
 "cells": [
  {
   "cell_type": "markdown",
   "metadata": {},
   "source": [
    "# List\n",
    "\n",
    "- A list is a built-in data structure in Python, used to store an ordered collection of items.\n",
    "- Lists preserve the order in which elements are added, meaning the position of elements remains unchanged unless explicitly modified.\n",
    "\n",
    "### Key Features\n",
    "\n",
    "1. Ordered Collection: Items are stored in the order they are added.\n",
    "2. Flexible Data Types: Lists can contain elements of different data types.\n",
    "3. Nested Lists: A list can contain other lists as elements.\n",
    "4. Dynamic Size: Unlike arrays, Python lists can grow or shrink dynamically as items are added or removed.\n",
    "5. Mutable: Lists can be modified after creation (e.g., adding, removing, or changing elements)."
   ]
  },
  {
   "cell_type": "code",
   "execution_count": 54,
   "metadata": {},
   "outputs": [
    {
     "name": "stdout",
     "output_type": "stream",
     "text": [
      "[1, 2, 3, 4]\n",
      "['Milk', 'Wine', 1, 10, 3.5, 8.99]\n",
      "[1, 2, 3, 4, [1.5, 1.5, 1.6], ['test']]\n",
      "[]\n"
     ]
    }
   ],
   "source": [
    "int_list = [1,2,3,4]\n",
    "print(int_list)\n",
    "shoppingList = ['Milk', 'Wine', 1, 10, 3.5, 8.99]\n",
    "print(shoppingList)\n",
    "\n",
    "# Nested List\n",
    "nestedList = [1,2,3,4,[1.5,1.5,1.6],['test']]\n",
    "print(nestedList)\n",
    "\n",
    "#Empty List\n",
    "emptyList = []\n",
    "print(emptyList)"
   ]
  },
  {
   "cell_type": "markdown",
   "metadata": {},
   "source": [
    "### Accessing / Traverse List\n",
    "\n",
    "The memory allocation happens same as that of Arrays."
   ]
  },
  {
   "cell_type": "code",
   "execution_count": 55,
   "metadata": {},
   "outputs": [
    {
     "name": "stdout",
     "output_type": "stream",
     "text": [
      "First Element:  milk\n",
      "True\n",
      "False\n",
      "Last Element: butter\n",
      "milk cheese butter \n",
      "milk+ cheese+ butter+ \n"
     ]
    }
   ],
   "source": [
    "shoppingList = ['milk','cheese','butter']\n",
    "print('First Element: ',shoppingList[0])\n",
    "\n",
    "# Check if element exists.\n",
    "print('milk' in shoppingList)\n",
    "print('wine' in shoppingList)\n",
    "\n",
    "# Access from end, backwards\n",
    "print('Last Element:',shoppingList[-1])\n",
    "\n",
    "# Traverse the List\n",
    "for i in shoppingList:\n",
    "    print(i, end = ' ')\n",
    "print()\n",
    "\n",
    "for i in range(len(shoppingList)):  # len() returns the value of numbers of items in a container, and range() works from 0 to len() - 1.\n",
    "    shoppingList[i] = shoppingList[i] + \"+\"\n",
    "    print(shoppingList[i], end = ' ')\n",
    "print()\n",
    "\n",
    "# Traversing an empty list\n",
    "for i in emptyList:\n",
    "    print('Empty List') # Will not print out"
   ]
  },
  {
   "cell_type": "markdown",
   "metadata": {},
   "source": [
    "### Update / Insert in List\n",
    "\n",
    "- List are mutable data structures, so we can change the order of elements in a list or reassign an item in a list.\n",
    "\n",
    "#### Updating element by Index\n",
    "\n",
    "- Time Complexity of updating by index\n",
    "0(1): We know that accessign an element of a list is 0(1), provides us very efficient way of accessign element using their index and index identifies their location in the memory. So o(1), because only accessing the element and assiging a value.\n",
    "\n",
    "- Space Complexity of updating by index\n",
    "o(1), we do not need extra memory, and we are changing the element in the reserved memory.\n",
    "\n",
    "#### Inserting elements in list\n",
    "\n",
    "1. insert() Method: Used to insert an element at a specific index in the list.\n",
    "\n",
    "Time Complexity: O(N); Inserting at the beginning or middle shifts all subsequent elements one position to the right.\n",
    "\n",
    "Space Complexity:  O(1); No additional memory is required except for the new element.\n",
    "\n",
    "2. append() Method: Adds an element at the end of the list.\n",
    "\n",
    "Time Complexity: O(1); Adding to the end does not require shifting any elements.\n",
    "\n",
    "Space Complexity: O(1); Requires space for the new element.\n",
    "\n",
    "3. extend() Method: Combines another list into the current list by appending all its elements.\n",
    "\n",
    "Time Complexity: O(N); N is the number of elements in the new list being added.\n",
    "\n",
    "Space Complexity: O(N), Space is required for the new elements being added.\n",
    "\n",
    "4. Concatenation Using +: Combines two lists to create a new list.\n",
    "\n",
    "Time Complexity: O(N+M); N: Size of list1, M: Size of list2.\n",
    "\n",
    "Space Complexity: O(N+M); Requires space for all elements in the new list."
   ]
  },
  {
   "cell_type": "code",
   "execution_count": 56,
   "metadata": {},
   "outputs": [
    {
     "name": "stdout",
     "output_type": "stream",
     "text": [
      "[1, 2, 33, 4]\n"
     ]
    }
   ],
   "source": [
    "# Update third element \n",
    "int_list[2] = 33 # O(1)\n",
    "print(int_list)"
   ]
  },
  {
   "cell_type": "code",
   "execution_count": 57,
   "metadata": {},
   "outputs": [
    {
     "name": "stdout",
     "output_type": "stream",
     "text": [
      "[1, 2, 33, 4]\n",
      "insert() at 1st index:  [11, 1, 2, 33, 4]\n",
      "append() to add at end:  [11, 1, 2, 33, 4, 66]\n",
      "xtend() to Extended list:  [11, 1, 2, 33, 4, 66, 'milk+', 'cheese+', 'butter+']\n",
      "Lists concatenated using +:  [11, 1, 2, 33, 4, 66, 'milk+', 'cheese+', 'butter+', 1, 2, 3, 4, [1.5, 1.5, 1.6], ['test']]\n"
     ]
    }
   ],
   "source": [
    "print(int_list)\n",
    "\n",
    "# Using insert(): Insert at any index of the list\n",
    "int_list.insert(0, 11)  #Time: o(n), Space: o(1)\n",
    "print('insert() at 1st index: ', int_list)\n",
    "\n",
    "# Using append(): Add element at the end of list\n",
    "int_list.append(66) #Time: o(1), Space: o(1)\n",
    "print('append() to add at end: ', int_list)\n",
    "\n",
    "# Using extend(): To add all elements of a list to end of another list\n",
    "int_list.extend(shoppingList) #Time: o(n), Space: o(n)\n",
    "print('xtend() to Extended list: ', int_list)\n",
    "\n",
    "# Using + to concatenate list\n",
    "newList = int_list + nestedList\n",
    "print('Lists concatenated using +: ', newList)"
   ]
  },
  {
   "attachments": {
    "image.png": {
     "image/png": "[encoded data removed]"
    }
   },
   "cell_type": "markdown",
   "metadata": {},
   "source": [
    "### Deleting Elements\n",
    "\n",
    "#### Slicing in Lists\n",
    "Slicing allows selecting specific parts of a list. Syntax: list[start:end]\n",
    "\n",
    "start: Beginning index (inclusive).\n",
    "\n",
    "end: Ending index (exclusive).\n",
    "\n",
    "#### Deleting in Lists\n",
    "\n",
    "1. pop() Method: Removes an element by index. Returns the deleted element. If no index is provided, deletes the last element.\n",
    "\n",
    "Time Complexity:\n",
    "\n",
    "- Deleting the last element: O(1).\n",
    "- Deleting an element from the beginning or middle: O(N) (due to element shifting).\n",
    "\n",
    "2. del Statement: Deletes an element or slice from the list. Does not return the deleted value.\n",
    "\n",
    "Time Complexity:\n",
    "\n",
    "- O(1) for deleting the last element.\n",
    "- O(N) for deleting elements that cause shifting.\n",
    "\n",
    "3. remove() Method: Removes the first occurrence of a specified value. Requires the value, not the index.\n",
    "\n",
    "Time Complexity:\n",
    "\n",
    "- O(N) (requires searching for the element).\n",
    "\n",
    "![image.png](attachment:image.png)"
   ]
  },
  {
   "cell_type": "code",
   "execution_count": 58,
   "metadata": {},
   "outputs": [
    {
     "name": "stdout",
     "output_type": "stream",
     "text": [
      "[11, 1]\n",
      "[33, 4, 66, 'milk+', 'cheese+', 'butter+', 1, 2, 3, 4, [1.5, 1.5, 1.6], ['test']]\n",
      "[11, 1, 2, 33, 4, 66, 'milk+', 'cheese+', 'butter+', 1, 2, 3, 4, [1.5, 1.5, 1.6], ['test']]\n",
      "['x', 'y', 2, 33, 4, 66, 'milk+', 'cheese+', 'butter+', 1, 2, 3, 4, [1.5, 1.5, 1.6], ['test']]\n",
      "['x', 'y', 2, 4, 66, 'milk+', 'cheese+', 'butter+', 1, 2, 3, 4, [1.5, 1.5, 1.6], ['test']]\n",
      "['x', 'y', 2, 4, 66, 'milk+', 'cheese+', 'butter+', 1, 2, 3, 4, [1.5, 1.5, 1.6]]\n",
      "[2, 4, 'cheese+', 'butter+', 3, 4, [1.5, 1.5, 1.6]]\n"
     ]
    }
   ],
   "source": [
    "print(newList[0:2]) # Excluding the ending index, including the starting index.\n",
    "print(newList[3:]) # Start at 3rd index and rest of the elements of list.\n",
    "print(newList[:]) #Starting at 1st index and ending at last index.\n",
    "\n",
    "# Updating multiple elements\n",
    "newList[0:2] = ['x','y']\n",
    "print(newList)\n",
    "\n",
    "# Deleting using pop(): Deletes at index\n",
    "newList.pop(3) # Deletes at 3rd index----> o(n)\n",
    "print(newList)\n",
    "\n",
    "newList.pop() # Deletes at last index------>o(1)\n",
    "print(newList)\n",
    "\n",
    "# Deleting using delete(): Deletes at index------>o(n)\n",
    "del newList[5]\n",
    "\n",
    "del newList[0:2] # Delete multiple elements using slicing------->o(n)\n",
    "del newList[5:7]\n",
    "\n",
    "# Deleting using remove(): Deletes the element passed--->o(n)\n",
    "newList.remove(66) \n",
    "print(newList)"
   ]
  },
  {
   "attachments": {
    "image.png": {
     "image/png": "[encoded data removed]"
    }
   },
   "cell_type": "markdown",
   "metadata": {},
   "source": [
    "### Searching Element in \n",
    "\n",
    "1. Using the in operator:\n",
    "\n",
    "The in operator checks for the presence of a value in a list and returns a boolean result (True or False).\n",
    "\n",
    "How It Works:\n",
    "- Python iterates over the list elements one by one.\n",
    "- Compares each element to the target.\n",
    "- Stops when a match is found or the list ends.\n",
    "\n",
    "Time Complexity: O(N) in the worst case (when the target is at the end or not present). The complexity is linear because each element is checked sequentially.\n",
    "\n",
    "Space Complexity: O(1) since no additional memory is used.\n",
    "\n",
    "2. Implementing linear search:\n",
    "\n",
    "A linear search involves iterating through the list and comparing each element to the target.\n",
    "\n",
    "How It Works:\n",
    "\n",
    "- Starts at the first element of the list.\n",
    "- Compares the target to each element.\n",
    "- Returns the index of the target if found.\n",
    "- If the end of the list is reached without finding the target, it returns -1.\n",
    "\n",
    "Time Complexity: O(N) in the worst case (when the target is at the end or not present). The loop runs through all N elements in the list.\n",
    "\n",
    "Space Complexity: O(1) since no additional memory is used.\n",
    "\n",
    "![image.png](attachment:image.png)"
   ]
  },
  {
   "cell_type": "code",
   "execution_count": 60,
   "metadata": {},
   "outputs": [
    {
     "name": "stdout",
     "output_type": "stream",
     "text": [
      "4 is in the list using in operator.\n",
      "Find 4 element: 1\n"
     ]
    }
   ],
   "source": [
    "# in operator ---> o(n), internally python performs a linear search and search element by element.\n",
    "\n",
    "target = 4\n",
    "if target in newList:\n",
    "    print(f\"{target} is in the list using in operator.\")\n",
    "else:\n",
    "    print(f\"{target} is not in the list using in operator.\")\n",
    "\n",
    "\n",
    "# Linear Search ----> o(n)\n",
    "\n",
    "def linearSearch(l, target):\n",
    "    for i, value in enumerate(l): # o(n); To get the index, element pari, enumerate() iterates over the list and keeps a track of the index\n",
    "        if value == target: #o(1)\n",
    "            return i #o(1)\n",
    "    return -1 #o(1)\n",
    "\n",
    "print(f'Find {target} element: {linearSearch(newList, target)}')"
   ]
  },
  {
   "cell_type": "markdown",
   "metadata": {},
   "source": [
    "### List Operators\n",
    "\n",
    "1. (+ Operator Concatenation): Combines two or more lists into a single list.\n",
    "2. (* Operator Repetition): Repeats the elements of a list a specified number of times.\n",
    "3. len(): Returns the number of elements in a list.\n",
    "4. max(): Returns the largest element in the list.\n",
    "5. min(): Returns the smallest element in the list.\n",
    "6. sum(): Returns the sum of all elements in the list."
   ]
  },
  {
   "cell_type": "code",
   "execution_count": 68,
   "metadata": {},
   "outputs": [
    {
     "name": "stdout",
     "output_type": "stream",
     "text": [
      "[1, 2, 3, 5, 6, 7]\n",
      "[0, 0, 0, 0]\n",
      "[0, 0, 0, 0, 0, 0, 0, 0, 0, 0, 0, 0, 0, 0, 0, 0]\n",
      "16\n",
      "0\n",
      "0\n",
      "0\n",
      "0.0\n"
     ]
    }
   ],
   "source": [
    "# Concatenate lists (+ operator)\n",
    "a = [1,2,3]\n",
    "b = [5,6,7]\n",
    "c = a + b\n",
    "print(c)\n",
    "\n",
    "# Repeat elements (* operator)\n",
    "a = [0] * 4\n",
    "b = a * 4\n",
    "print(a)\n",
    "print(b)\n",
    "\n",
    "# Count of elements (len())\n",
    "print(len(b))\n",
    "\n",
    "# Maximum element (max())\n",
    "print(max(a))\n",
    "\n",
    "# Minimum element (min())\n",
    "print(min(a))\n",
    "\n",
    "# Sum of element (sum())\n",
    "print(sum(a))\n",
    "\n",
    "# Average using len() and sum()\n",
    "print(sum(a) / len(a))"
   ]
  },
  {
   "cell_type": "code",
   "execution_count": 69,
   "metadata": {},
   "outputs": [
    {
     "name": "stdout",
     "output_type": "stream",
     "text": [
      "Average:  5.666666666666667\n"
     ]
    }
   ],
   "source": [
    "total = 0\n",
    "count = 0\n",
    "while (True):\n",
    "    inp = input('Enter a number: ')\n",
    "    if inp == 'done' : break\n",
    "    value = float(inp)\n",
    "    total = total + value\n",
    "    count = count + 1\n",
    "    average = total / count\n",
    "\n",
    "print('Average: ', average)"
   ]
  },
  {
   "cell_type": "code",
   "execution_count": 70,
   "metadata": {},
   "outputs": [
    {
     "name": "stdout",
     "output_type": "stream",
     "text": [
      "Average:  4.666666666666667\n"
     ]
    }
   ],
   "source": [
    "inpList = []\n",
    "while (True):\n",
    "    inp = input('Enter a number: ')\n",
    "    if inp == 'done' : break\n",
    "    inpList.append(float(inp))\n",
    "\n",
    "print('Average: ', sum(inpList) / len(inpList))"
   ]
  },
  {
   "cell_type": "markdown",
   "metadata": {},
   "source": [
    "### Lists and Strings\n",
    "1. Using list() Function: Converts a string into a list of individual characters.\n",
    "2. Using split() Function: Splits a string into a list of words based on a delimiter. Default Delimiter: Space (\" \").\n",
    "3. Using Custom Delimiters in split(): Specify a custom character as the delimiter.\n",
    "4. Using join() Function: Combines a list of strings into a single string with a specified delimiter.\n",
    "5. Reverting a Split String: Combine elements back into the original format.\n"
   ]
  },
  {
   "cell_type": "code",
   "execution_count": 78,
   "metadata": {},
   "outputs": [
    {
     "name": "stdout",
     "output_type": "stream",
     "text": [
      "Using list():  ['s', 'p', 'a', 'm']\n",
      "Using list():  ['s', 'p', 'a', 'm', ' ', 's', 'p', 'a', 'm', ' ', 's', 'p', 'a', 'm']\n",
      "Using split():  ['spam', 'spam', 'spam']\n",
      "Using demiliter:  ['spam', 'spam1', 'spam2']\n",
      "Joining back using join():  spam-spam1-spam2\n"
     ]
    }
   ],
   "source": [
    "a = 'spam'\n",
    "b = list(a) # Convert string to list\n",
    "print('Using list(): ',b)\n",
    "\n",
    "a = 'spam spam spam'\n",
    "print('Using list(): ',list(a))\n",
    "print('Using split(): ', a.split()) # Separate words\n",
    "\n",
    "a = 'spam-spam1-spam2'\n",
    "delimiter = '-'\n",
    "b = a.split(delimiter)\n",
    "print('Using demiliter: ',b)\n",
    "\n",
    "print('Joining back using join(): ',delimiter.join(b))"
   ]
  },
  {
   "cell_type": "markdown",
   "metadata": {},
   "source": [
    "### Common Pitfalls in List\n",
    "\n",
    "1. List Methods Modify the Original List: Most list methods (e.g., sort, append, remove) modify the list in place and return None. Unlike strings (which are immutable), lists are mutable, and their methods often modify the original object.\n",
    "\n",
    "2. Multiple Ways to Perform the Same Operation: Lists offer many methods/operators for the same task, which can lead to confusion.\n",
    "\n",
    "3. Lists Are Modified Directly: Many list methods directly modify the original list, which can lead to unintended consequences."
   ]
  },
  {
   "cell_type": "code",
   "execution_count": 86,
   "metadata": {},
   "outputs": [
    {
     "name": "stdout",
     "output_type": "stream",
     "text": [
      "None\n",
      "[5, 9, 8, 7, 3, [10], 10]\n"
     ]
    }
   ],
   "source": [
    "intList = [5,9,8,7,3]\n",
    "intList = intList.sort() # sort() doesn't return anything.\n",
    "print(intList)\n",
    "\n",
    "intList = [5,9,8,7,3]\n",
    "intList.append([10])\n",
    "intList.append(10)\n",
    "print(intList)"
   ]
  },
  {
   "cell_type": "markdown",
   "metadata": {},
   "source": [
    "### List VS Array\n",
    "\n",
    "#### Similarities\n",
    "\n",
    "1. Mutability: Both arrays and lists are mutable, meaning their elements can be updated by using their index.\n",
    "2. Indexing and Iteration: Elements of both data structures can be accessed using indices and iterated through.\n",
    "3. Slicing: Both arrays and lists support slicing to extract sub-sequences.\n",
    "\n",
    "#### Differences Between Arrays and Lists\n",
    "\n",
    "1. Optimized Operations: Arrays are optimized for arithmetic computations, while lists are not.\n",
    "2. Data Type Consistency: Lists can store elements of mixed data types (e.g., integers, strings, floats).\n",
    "Arrays require all elements to have the same data type. If an element with a different type is added, it will be converted to maintain consistency.\n",
    "3. Purpose: Arrays are designed for numerical and scientific computing (e.g., element-wise arithmetic operations).\n",
    "Lists are general-purpose data structures for storing collections of items.\n",
    "4. Libraries: Arrays are implemented using libraries such as numpy in Python. They are not part of Python's core data structures, unlike lists.\n",
    "\n",
    "#### When to Use Arrays vs. Lists\n",
    "Use arrays: When performing mathematical or numerical operations.\n",
    "When all elements have the same data type and consistency is required.\n",
    "\n",
    "Use lists: For general-purpose programming where data types can vary.\n",
    "When no complex arithmetic operations are needed.\n"
   ]
  },
  {
   "cell_type": "code",
   "execution_count": 90,
   "metadata": {},
   "outputs": [
    {
     "name": "stdout",
     "output_type": "stream",
     "text": [
      "Array division:  [0.5 1.  1.5 2.  2.5 3. ]\n",
      "Array homogenous datatype:  [1, 2, 3, 4, 5, 6, 'a']\n",
      "Array heterogenous dataype:  [1, 2, 3, 4, 5, 6, 'a']\n"
     ]
    }
   ],
   "source": [
    "import numpy as np\n",
    "\n",
    "#------------Similarities\n",
    "\n",
    "# Mutability\n",
    "myArray = np.array([1,2,3,4,5,6])\n",
    "myList = [1,2,3,4,5,6]\n",
    "myArray[1] = 10\n",
    "myList[1] = 10\n",
    "\n",
    "# Indexing and Iteration\n",
    "for i in myArray:\n",
    "    print(i)\n",
    "\n",
    "for i in myList:\n",
    "    print(i)\n",
    "\n",
    "#------------Differences\n",
    "\n",
    "# Arithmetic Operations are supported in array\n",
    "myArray = np.array([1,2,3,4,5,6])\n",
    "myList = [1,2,3,4,5,6]\n",
    "print('Array division: ', (myArray / 2))\n",
    "#print('List division: ', (myList / 2)) # Not Supported\n",
    "\n",
    "# Homogenous dataype\n",
    "myArray = [1,2,3,4,5,6,'a']\n",
    "print('Array homogenous datatype: ',myArray)\n",
    "myList = [1,2,3,4,5,6,'a']\n",
    "print('Array heterogenous dataype: ',myList)"
   ]
  },
  {
   "attachments": {
    "image.png": {
     "image/png": "[encoded data removed]"
    }
   },
   "cell_type": "markdown",
   "metadata": {},
   "source": [
    "### Time and Space Complexities Lists\n",
    "\n",
    "![image.png](attachment:image.png)"
   ]
  },
  {
   "cell_type": "markdown",
   "metadata": {},
   "source": [
    "### List Comprehension\n",
    "\n",
    "Creating a list from a previous list.\n",
    "\n",
    "**newList = [new_item for item in list]**\n",
    "\n",
    "Works also with strings (Other sequence data structures also like List, Range, String, Tuple)\n",
    "\n",
    "#### Conditions with List Comprehension\n",
    "\n",
    "**newList = [new_item for item in list if condition]**\n",
    "\n",
    "**newList = [new_item if condition for item in list]**"
   ]
  },
  {
   "cell_type": "code",
   "execution_count": 95,
   "metadata": {},
   "outputs": [
    {
     "name": "stdout",
     "output_type": "stream",
     "text": [
      "Previous List [1, 2, 3, 4, 5, 6] multiplied using loop by 2 [2, 4, 6, 8, 10, 12].\n",
      "Previous List [1, 2, 3, 4, 5, 6] multiplied using list comprehension by 2 [2, 4, 6, 8, 10, 12].\n",
      "String Python split using list comprehension ['P', 'y', 't', 'h', 'o', 'n'].\n"
     ]
    }
   ],
   "source": [
    "intList = [1,2,3,4,5,6]\n",
    "newList = []\n",
    "\n",
    "for i in intList:\n",
    "    multiply_2 = i * 2\n",
    "    newList.append(multiply_2)\n",
    "print(f\"Previous List {intList} multiplied using loop by 2 {newList}.\")\n",
    "\n",
    "newList = [i * 2 for i in intList]\n",
    "print(f\"Previous List {intList} multiplied using list comprehension by 2 {newList}.\")\n",
    "\n",
    "# String\n",
    "lang = \"Python\"\n",
    "newList = [ch for ch in lang]\n",
    "print(f\"String {lang} split using list comprehension {newList}.\")"
   ]
  },
  {
   "cell_type": "code",
   "execution_count": 107,
   "metadata": {},
   "outputs": [
    {
     "name": "stdout",
     "output_type": "stream",
     "text": [
      "Previous List [-5, 6, -9, 8, 7, -3] with only positive numbers [6, 8, 7].\n",
      "Previous List [-5, 6, -9, 8, 7, -3] with square of negative numbers [25, 81, 9].\n",
      "Is the letter consonent? True\n",
      "Consonenet check for sentence: ['M', 'y', 'n', 'm', 's', 'y', 's', 'h', 'n']\n",
      "If Else in the list comprehension: [0, 6, 0, 8, 7, 0]\n",
      "If Else in the list comprehension: ['negative number', 6, 'negative number', 8, 7, 'negative number']\n",
      "Passing function in List Comprehension:  ['negative number', 6, 'negative number', 8, 7, 'negative number']\n"
     ]
    }
   ],
   "source": [
    "intList = [-5,6,-9,8,7,-3]\n",
    "\n",
    "newList = [n for n in intList if n > 0]\n",
    "print(f\"Previous List {intList} with only positive numbers {newList}.\")\n",
    "\n",
    "newList = [n*n for n in intList if n < 0]\n",
    "print(f\"Previous List {intList} with square of negative numbers {newList}.\")\n",
    "\n",
    "# Check for consonents\n",
    "sent = 'My name is Ayushna.'\n",
    "\n",
    "def is_consonent(letter):\n",
    "    vowels = 'aeiou'\n",
    "    return letter.isalpha() and letter.lower() not in vowels\n",
    "\n",
    "print(f\"Is the letter consonent? {is_consonent('h')}\")\n",
    "\n",
    "consonents = [i for i in sent if is_consonent(i)]\n",
    "print(f\"Consonenet check for sentence: {consonents}\")\n",
    "\n",
    "# If Else in List Comprehension\n",
    "newList = [n if n > 0 else 0 for n in intList]\n",
    "print(f\"If Else in the list comprehension: {newList}\")\n",
    "\n",
    "newList = [n if n > 0 else 'negative number' for n in intList]\n",
    "print(f\"If Else in the list comprehension: {newList}\")\n",
    "\n",
    "# Passing function in list comprehension\n",
    "def get_num(num):\n",
    "    return num if num > 0 else 'negative number'\n",
    "\n",
    "newList = [get_num(n) for n in intList]\n",
    "print(f\"Passing function in List Comprehension: \",newList)"
   ]
  },
  {
   "cell_type": "code",
   "execution_count": null,
   "metadata": {},
   "outputs": [],
   "source": []
  }
 ],
 "metadata": {
  "kernelspec": {
   "display_name": "Python 3",
   "language": "python",
   "name": "python3"
  },
  "language_info": {
   "codemirror_mode": {
    "name": "ipython",
    "version": 3
   },
   "file_extension": ".py",
   "mimetype": "text/x-python",
   "name": "python",
   "nbconvert_exporter": "python",
   "pygments_lexer": "ipython3",
   "version": "3.12.6"
  }
 },
 "nbformat": 4,
 "nbformat_minor": 2
}
