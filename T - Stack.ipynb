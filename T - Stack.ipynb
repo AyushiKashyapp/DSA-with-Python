{
 "cells": [
  {
   "cell_type": "markdown",
   "id": "1525b23f-9e23-4a5d-b661-0d757cebe1af",
   "metadata": {},
   "source": [
    "# Stack using Python List without size limit"
   ]
  },
  {
   "cell_type": "code",
   "execution_count": 16,
   "id": "3e1ef78f-c4ab-43be-a777-19141e0aeb30",
   "metadata": {},
   "outputs": [],
   "source": [
    "class StackwithoutSize:\n",
    "    \n",
    "    def __init__(self):\n",
    "        self.list = []\n",
    "        \n",
    "    def __str__(self):\n",
    "        values = [str(x) for x in reversed(self.list)]\n",
    "        return '\\n'.join(values)\n",
    "\n",
    "    def isempty(self):\n",
    "        if self.list == []:\n",
    "            return True\n",
    "        else:\n",
    "            return False\n",
    "\n",
    "    def push(self, value):\n",
    "        self.list.append(value)\n",
    "        return \"Element inserted.\"\n",
    "\n",
    "    def pop(self):\n",
    "        if self.isempty():\n",
    "            return \"No elements in stack.\"\n",
    "        else:\n",
    "            self.list.pop()\n",
    "\n",
    "    def peek(self):\n",
    "        if self.isempty():\n",
    "            return \"No elements in stack\"\n",
    "        else:\n",
    "            return self.list[len(self.list) - 1]\n",
    "\n",
    "    def delete(self):\n",
    "        self.list = None"
   ]
  },
  {
   "cell_type": "code",
   "execution_count": 17,
   "id": "e303964b-de15-43f6-8819-d5ce921a799f",
   "metadata": {},
   "outputs": [
    {
     "name": "stdout",
     "output_type": "stream",
     "text": [
      "Is stack empty?  True\n",
      "Current Stack \n",
      "3\n",
      "2\n",
      "1\n",
      "After Pop \n",
      "2\n",
      "1\n",
      "Last Element  2\n",
      "After Deleting \n"
     ]
    }
   ],
   "source": [
    "s = StackwithoutSize()\n",
    "print(\"Is stack empty? \", s.isempty())\n",
    "s.push(1)\n",
    "s.push(2)\n",
    "s.push(3)\n",
    "print(\"Current Stack \")\n",
    "print(s)\n",
    "print(\"After Pop \")\n",
    "s.pop()\n",
    "print(s)\n",
    "print(\"Last Element \", s.peek())\n",
    "s.delete()\n",
    "print(\"After Deleting \")"
   ]
  },
  {
   "cell_type": "markdown",
   "id": "0c3f45b0-cfa4-4d0d-98d7-05740b47886d",
   "metadata": {},
   "source": [
    "# Stack using Python List with size limit"
   ]
  },
  {
   "cell_type": "code",
   "execution_count": 29,
   "id": "0fa51765-8c60-413d-9a46-b1d9cc6fbccf",
   "metadata": {},
   "outputs": [],
   "source": [
    "class StackwithSize:\n",
    "\n",
    "    def __init__(self, maxsize):\n",
    "        self.maxsize = maxsize\n",
    "        self.list = []\n",
    "\n",
    "    def __str__(self):\n",
    "        values = [str(x) for x in reversed(self.list)]\n",
    "        return '\\n'.join(values)\n",
    "\n",
    "    def isempty(self):\n",
    "        if self.list == []:\n",
    "            return True\n",
    "        else:\n",
    "            return False\n",
    "\n",
    "    def isfull(self):\n",
    "        if len(self.list) == self.maxsize:\n",
    "            return True\n",
    "        else:\n",
    "            return False\n",
    "\n",
    "    def push(self, value):\n",
    "        if self.isfull():\n",
    "            return \"Stack is full\"\n",
    "        else:\n",
    "            self.list.append(value)\n",
    "            return \"Element Inserted\"\n",
    "\n",
    "    def pop(self):\n",
    "        if self.isempty():\n",
    "            return \"No elements in stack\"\n",
    "        else:\n",
    "            return self.list.pop()\n",
    "\n",
    "    def peek(self):\n",
    "        if self.isempty():\n",
    "            return \"No element in stack\"\n",
    "        else:\n",
    "            return self.list[len(self.list) - 1]\n",
    "\n",
    "    def delete(self):\n",
    "        self.list == None\n",
    "    "
   ]
  },
  {
   "cell_type": "code",
   "execution_count": 31,
   "id": "a60d31b6-29bb-44c7-ad06-9619cf09e3ae",
   "metadata": {},
   "outputs": [
    {
     "name": "stdout",
     "output_type": "stream",
     "text": [
      "Is stack empty?  True\n",
      "Is stack full?  False\n",
      "Current Stack \n",
      "3\n",
      "2\n",
      "1\n",
      "After Pop \n",
      "2\n",
      "1\n",
      "Last Element  2\n",
      "After Deleting \n"
     ]
    }
   ],
   "source": [
    "ss = StackwithSize(4)\n",
    "print(\"Is stack empty? \", ss.isempty())\n",
    "print(\"Is stack full? \", ss.isfull())\n",
    "ss.push(1)\n",
    "ss.push(2)\n",
    "ss.push(3)\n",
    "print(\"Current Stack \")\n",
    "print(ss)\n",
    "print(\"After Pop \")\n",
    "ss.pop()\n",
    "print(ss)\n",
    "print(\"Last Element \", ss.peek())\n",
    "ss.delete()\n",
    "print(\"After Deleting \")"
   ]
  },
  {
   "cell_type": "markdown",
   "id": "68cc49f5-064d-46cb-bc35-c7896f2cb3d9",
   "metadata": {},
   "source": [
    "# Stack using Python List with size limit"
   ]
  },
  {
   "cell_type": "code",
   "execution_count": 32,
   "id": "e9293932-67b8-4d08-a5e5-cd8c168b2ee3",
   "metadata": {},
   "outputs": [],
   "source": [
    "class Node:\n",
    "\n",
    "    def __init__(self, value = None):\n",
    "        self.value = value\n",
    "        self.next = None\n",
    "\n",
    "class LinkedList:\n",
    "\n",
    "    def __init__(self):\n",
    "        self.head = None\n",
    "\n",
    "    def __iter__(self):\n",
    "        current = self.head\n",
    "        while current:\n",
    "            yield current\n",
    "            current = current.next"
   ]
  },
  {
   "cell_type": "code",
   "execution_count": 52,
   "id": "cfe85644-17c4-4b53-8fca-945063c6d3ac",
   "metadata": {},
   "outputs": [],
   "source": [
    "class StackwithLinkedList:\n",
    "\n",
    "    def __init__(self):\n",
    "        self.LinkedList = LinkedList()\n",
    "\n",
    "    def __str__(self):\n",
    "        values = [str(x.value) for x in self.LinkedList]\n",
    "        return '\\n'.join(values)\n",
    "            \n",
    "    def isempty(self):\n",
    "        if self.LinkedList.head == None:\n",
    "            return True\n",
    "        else:\n",
    "            return False\n",
    "\n",
    "    def push(self, value):\n",
    "        newnode = Node(value)\n",
    "        newnode.next = self.LinkedList.head\n",
    "        self.LinkedList.head = newnode\n",
    "\n",
    "    def pop(self):\n",
    "        if self.isempty():\n",
    "            return \"No elements\"\n",
    "        else:\n",
    "            popvalue = self.LinkedList.head.value\n",
    "            self.LinkedList.head = self.LinkedList.head.next\n",
    "            return popvalue\n",
    "\n",
    "    def peek(self):\n",
    "        if self.isempty():\n",
    "            return \"No elements\"\n",
    "        else:\n",
    "            return self.LinkedList.head.value\n",
    "\n",
    "    def delete(self):\n",
    "        self.LinkedList.head = None"
   ]
  },
  {
   "cell_type": "code",
   "execution_count": 53,
   "id": "8c817165-1adf-4651-9cfb-833cd74c3896",
   "metadata": {},
   "outputs": [
    {
     "name": "stdout",
     "output_type": "stream",
     "text": [
      "Is stack empty?  True\n",
      "Current Stack \n",
      "3\n",
      "2\n",
      "1\n",
      "After Pop \n",
      "2\n",
      "1\n",
      "Last Element  2\n",
      "After Deleting \n"
     ]
    }
   ],
   "source": [
    "sl = StackwithLinkedList()\n",
    "print(\"Is stack empty? \", sl.isempty())\n",
    "sl.push(1)\n",
    "sl.push(2)\n",
    "sl.push(3)\n",
    "print(\"Current Stack \")\n",
    "print(sl)\n",
    "print(\"After Pop \")\n",
    "sl.pop()\n",
    "print(sl)\n",
    "print(\"Last Element \", sl.peek())\n",
    "ss.delete()\n",
    "print(\"After Deleting \")"
   ]
  },
  {
   "cell_type": "code",
   "execution_count": null,
   "id": "f7facd61-2be4-48fe-be74-a80da3176c6f",
   "metadata": {},
   "outputs": [],
   "source": []
  }
 ],
 "metadata": {
  "kernelspec": {
   "display_name": "Python 3 (ipykernel)",
   "language": "python",
   "name": "python3"
  },
  "language_info": {
   "codemirror_mode": {
    "name": "ipython",
    "version": 3
   },
   "file_extension": ".py",
   "mimetype": "text/x-python",
   "name": "python",
   "nbconvert_exporter": "python",
   "pygments_lexer": "ipython3",
   "version": "3.12.6"
  }
 },
 "nbformat": 4,
 "nbformat_minor": 5
}
