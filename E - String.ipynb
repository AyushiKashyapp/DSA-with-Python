{
 "cells": [
  {
   "cell_type": "markdown",
   "id": "40fcf3a6-cf94-4ff9-9dc3-836ab87afa87",
   "metadata": {},
   "source": [
    "Write a Python program to calculate the length of a string."
   ]
  },
  {
   "cell_type": "code",
   "execution_count": 2,
   "id": "a84e7fa6-056d-4439-83e2-d06ac19407f8",
   "metadata": {},
   "outputs": [
    {
     "name": "stdout",
     "output_type": "stream",
     "text": [
      "Length of abc:  3\n",
      "Length of ayushi:  6\n"
     ]
    }
   ],
   "source": [
    "def str_length(s):\n",
    "    length = 0\n",
    "    for i in s:\n",
    "        length += 1\n",
    "    return length\n",
    "\n",
    "print('Length of abc: ',str_length('abc'))\n",
    "print('Length of ayushi: ', str_length('ayushi'))"
   ]
  },
  {
   "cell_type": "markdown",
   "id": "9b2e03b9-f087-49d7-abcd-1c1112859091",
   "metadata": {},
   "source": [
    "Write a Python program to count the number of characters (character frequency) in a string.\n",
    "Sample String : google.com'\n",
    "Expected Result : {'g': 2, 'o': 3, 'l': 1, 'e': 1, '.': 1, 'c': 1, 'm': 1}"
   ]
  },
  {
   "cell_type": "code",
   "execution_count": 4,
   "id": "874e9d54-c958-47bb-9674-23799ec29f80",
   "metadata": {},
   "outputs": [
    {
     "name": "stdout",
     "output_type": "stream",
     "text": [
      "{'g': 2, 'o': 3, 'l': 1, 'e': 1, '.': 1, 'c': 1, 'm': 1}\n"
     ]
    }
   ],
   "source": [
    "def num_characters(s):\n",
    "    count_dic = {}\n",
    "    for i in s:\n",
    "        if i in count_dic:\n",
    "            count_dic[i] += 1 # If character is already in the dict, then increment its count by 1.\n",
    "        else:\n",
    "            count_dic[i] = 1 # If the character is not there, then it is added as a new key and its count is initialized as 1.\n",
    "    return count_dic\n",
    "\n",
    "print(num_characters('google.com'))"
   ]
  },
  {
   "cell_type": "markdown",
   "id": "ce55a817-5500-4c11-954c-c35aa455d9c9",
   "metadata": {},
   "source": [
    "Write a Python program to get a string made of the first 2 and last 2 characters of a given string. If the string length is less than 2, return the empty string instead.\n",
    "\n",
    "Sample String : 'w3resource'\n",
    "Expected Result : 'w3ce'\n",
    "Sample String : 'w3'\n",
    "Expected Result : 'w3w3'\n",
    "Sample String : ' w'\n",
    "Expected Result : Empty String"
   ]
  },
  {
   "cell_type": "code",
   "execution_count": 8,
   "id": "7b67f55a-c6e9-42dc-9146-970883d8a993",
   "metadata": {},
   "outputs": [
    {
     "data": {
      "text/plain": [
       "'w3ce'"
      ]
     },
     "execution_count": 8,
     "metadata": {},
     "output_type": "execute_result"
    }
   ],
   "source": [
    "def first_last_two(s):\n",
    "    return s[0:2] + s[len(s) - 2:len(s) + 1]\n",
    "\n",
    "first_last_two('w3resource')"
   ]
  },
  {
   "cell_type": "markdown",
   "id": "0b94e2d8-a9cd-436d-b4c3-2d9a47dd2076",
   "metadata": {},
   "source": [
    "Write a Python program to get a string from a given string where all occurrences of its first char have been changed to '$', except the first char itself.\n",
    "\n",
    "Sample String : 'restart'\n",
    "Expected Result : 'resta$t'"
   ]
  },
  {
   "cell_type": "code",
   "execution_count": 12,
   "id": "bc519e8a-bcc8-46d0-ab5a-e83243a4aa35",
   "metadata": {},
   "outputs": [
    {
     "name": "stdout",
     "output_type": "stream",
     "text": [
      "resta$t\n"
     ]
    }
   ],
   "source": [
    "def change_first_char(s):\n",
    "    s = list(s)\n",
    "    first_char = s[0]\n",
    "    for i in range(1, len(s)):\n",
    "        if s[i] == first_char:\n",
    "            s[i] = '$'\n",
    "    return ''.join(s)\n",
    "\n",
    "print(change_first_char('restart'))"
   ]
  },
  {
   "cell_type": "code",
   "execution_count": 3,
   "id": "ae3b113e-e29b-4be9-a726-2415678aaa88",
   "metadata": {},
   "outputs": [
    {
     "name": "stdout",
     "output_type": "stream",
     "text": [
      "r, estart\n",
      "resta$t\n"
     ]
    }
   ],
   "source": [
    "def change_first_char_replace(s):\n",
    "    first_char = s[0]\n",
    "    rest_string = s[1:]\n",
    "    print(f'{first_char}, {rest_string}')\n",
    "    new_string = rest_string.replace(first_char, '$')\n",
    "    return first_char + new_string\n",
    "\n",
    "print(change_first_char_replace('restart'))"
   ]
  },
  {
   "cell_type": "markdown",
   "id": "bbc941f4-5262-453b-beb3-5fea237df6d9",
   "metadata": {},
   "source": [
    "Write a Python program to get a single string from two given strings, separated by a space and swap the first two characters of each string.\n",
    "\n",
    "Sample String : 'abc', 'xyz'\n",
    "Expected Result : 'xyc abz'"
   ]
  },
  {
   "cell_type": "code",
   "execution_count": 17,
   "id": "064daf09-8e90-4682-bc5b-8cd918cb082f",
   "metadata": {},
   "outputs": [
    {
     "name": "stdout",
     "output_type": "stream",
     "text": [
      "xyc abz\n"
     ]
    }
   ],
   "source": [
    "def join_swap(s1, s2):\n",
    "    new_s1 = s2[0:2] + s1[2:]\n",
    "    new_s2 = s1[0:2] + s2[2:]\n",
    "    return new_s1 + ' ' + new_s2\n",
    "\n",
    "print(join_swap('abc', 'xyz'))"
   ]
  },
  {
   "cell_type": "markdown",
   "id": "86968acb-83f5-4c81-93c0-b13c86ba2db1",
   "metadata": {},
   "source": [
    "Write a Python program to add 'ing' at the end of a given string (length should be at least 3). If the given string already ends with 'ing', add 'ly' instead. If the string length of the given string is less than 3, leave it unchanged.\n",
    "\n",
    "Sample String : 'abc'\n",
    "Expected Result : 'abcing'\n",
    "Sample String : 'string'\n",
    "Expected Result : 'stringly'"
   ]
  },
  {
   "cell_type": "code",
   "execution_count": 21,
   "id": "5acb8cee-c507-4ad3-92c5-135d86d4c758",
   "metadata": {},
   "outputs": [
    {
     "name": "stdout",
     "output_type": "stream",
     "text": [
      "abcing\n",
      "stringly\n"
     ]
    }
   ],
   "source": [
    "def add_ing_ly(s):\n",
    "    if len(s) >= 3:\n",
    "        if s[3:] == 'ing':\n",
    "            return s + 'ly'\n",
    "        else:\n",
    "            return s + 'ing'\n",
    "\n",
    "    else:\n",
    "        return s\n",
    "\n",
    "print(add_ing_ly('abc'))\n",
    "print(add_ing_ly('string'))"
   ]
  },
  {
   "cell_type": "markdown",
   "id": "7a39a3bf-0497-494b-b3f7-fa6eaaca4d05",
   "metadata": {},
   "source": [
    "Write a Python program to find the first appearance of the substrings 'not' and 'poor' in a given string. If 'not' follows 'poor', replace the whole 'not'...'poor' substring with 'good'. Return the resulting string.\n",
    "\n",
    "Sample String : 'The lyrics is not that poor!'\n",
    "'The lyrics is poor!'\n",
    "Expected Result : 'The lyrics is good!'\n",
    "'The lyrics is poor!'"
   ]
  },
  {
   "cell_type": "code",
   "execution_count": 34,
   "id": "54e6fa68-0c40-4588-be0f-d9908deb82e7",
   "metadata": {},
   "outputs": [
    {
     "name": "stdout",
     "output_type": "stream",
     "text": [
      "Indices:  14, 23\n",
      "The lyrics is good!\n",
      "Indices:  -1, 14\n",
      "The lyrics is poor!\n"
     ]
    }
   ],
   "source": [
    "def not_poor(s):\n",
    "    not_ind = s.find('not')\n",
    "    poor_ind = s.find('poor')\n",
    "    print(f'Indices:  {not_ind}, {poor_ind}')\n",
    "    if not_ind != -1 and poor_ind != -1 and not_ind < poor_ind:\n",
    "        return s[:not_ind] + 'good' + s[poor_ind + 4:]\n",
    "    return s\n",
    "\n",
    "print(not_poor('The lyrics is not that poor!'))\n",
    "print(not_poor('The lyrics is poor!'))"
   ]
  },
  {
   "cell_type": "markdown",
   "id": "e6da18e8-c3c5-4e6f-ac9c-750b79aa1777",
   "metadata": {},
   "source": [
    "Write a Python function that takes a list of words and return the longest word and the length of the longest one.\n",
    "\n",
    "Sample Output:\n",
    "Longest word: Exercises\n",
    "Length of the longest word: 9"
   ]
  },
  {
   "cell_type": "code",
   "execution_count": 42,
   "id": "2004b944-f462-45e2-bca6-91de60f5b127",
   "metadata": {},
   "outputs": [
    {
     "name": "stdout",
     "output_type": "stream",
     "text": [
      "Longest Word: Gabagooll, Length of longest word: 9\n"
     ]
    }
   ],
   "source": [
    "def longest_word(s):\n",
    "    len_dict = {}\n",
    "    max_len = 0\n",
    "    max_word = ''\n",
    "    for i in s:\n",
    "        if i not in len_dict:\n",
    "            len_dict[i] = len(i)\n",
    "    for word, length in len_dict.items():\n",
    "        if length > max_len:\n",
    "            max_len = length\n",
    "            max_word = word\n",
    "    return max_word, max_len\n",
    "\n",
    "max_word, max_length = longest_word(['Exercise', 'abc','ghsd','Gabagooll'])\n",
    "print(f'Longest Word: {max_word}, Length of longest word: {max_length}')"
   ]
  },
  {
   "cell_type": "markdown",
   "id": "7ac6818d-489c-46a5-b410-d21d4f8b68c1",
   "metadata": {},
   "source": [
    "Write a  Python program to remove the nth index character from a nonempty string."
   ]
  },
  {
   "cell_type": "code",
   "execution_count": 43,
   "id": "475d58bd-0ee8-461c-a346-0f97a698af05",
   "metadata": {},
   "outputs": [
    {
     "name": "stdout",
     "output_type": "stream",
     "text": [
      "String before removing 5th character : Greatness, String after removing 5th character : Greatess\n"
     ]
    }
   ],
   "source": [
    "def remove_char(s, n):\n",
    "    if len(s) > 0:\n",
    "        s_list = list(s)\n",
    "        s_list.pop(n)\n",
    "        return ''.join(s_list)\n",
    "\n",
    "print(f'String before removing 5th character : Greatness, String after removing 5th character : {remove_char('Greatness', 5)}')"
   ]
  },
  {
   "cell_type": "markdown",
   "id": "9f224136-8d18-471a-9605-c365a6781033",
   "metadata": {},
   "source": [
    "Write a Python program to change a given string to a newly string where the first and last chars have been exchanged."
   ]
  },
  {
   "cell_type": "code",
   "execution_count": 44,
   "id": "23ca6f75-00e0-4952-9f2e-1f7692f459e6",
   "metadata": {},
   "outputs": [
    {
     "name": "stdout",
     "output_type": "stream",
     "text": [
      "iyusha\n"
     ]
    }
   ],
   "source": [
    "def swap_first_last(s):\n",
    "    s_list = list(s)\n",
    "    s_list[0], s_list[-1] = s_list[-1], s_list[0]\n",
    "    return ''.join(s_list)\n",
    "\n",
    "print(swap_first_last('ayushi'))"
   ]
  },
  {
   "cell_type": "markdown",
   "id": "2c57c02f-5364-473c-9bfa-b598342e5cad",
   "metadata": {},
   "source": [
    "11. Remove odd index chars from a string.\n",
    "\n",
    "Write a Python program to remove characters that have odd index values in a given string."
   ]
  },
  {
   "cell_type": "code",
   "execution_count": 7,
   "id": "cb6bc974-c5a8-467b-9f1a-c42b09288cb4",
   "metadata": {},
   "outputs": [
    {
     "name": "stdout",
     "output_type": "stream",
     "text": [
      "Gnebed\n"
     ]
    }
   ],
   "source": [
    "def odd_ind_remove(s):\n",
    "    return ''.join([s[i] for i in range(len(s)) if i % 2 == 0])\n",
    "\n",
    "print(odd_ind_remove('Gingerbread'))"
   ]
  },
  {
   "cell_type": "markdown",
   "id": "a4bd720b-5e00-4863-883a-bf30544bdb0d",
   "metadata": {},
   "source": [
    "12. Count word occurrences in a sentence.\n",
    "\n",
    "Write a Python program to count the occurrences of each word in a given sentence."
   ]
  },
  {
   "cell_type": "code",
   "execution_count": 15,
   "id": "2c5f3389-ef62-4719-859b-eaba09874e3e",
   "metadata": {},
   "outputs": [
    {
     "name": "stdout",
     "output_type": "stream",
     "text": [
      "{'I': 2, 'want': 1, 'to': 2, 'go': 1, 'home': 1, 'so': 1, 'badly!': 1, 'cannot': 1, 'wait': 1, 'get': 1, 'out': 1, 'of': 1, 'here.': 1}\n"
     ]
    }
   ],
   "source": [
    "def word_count(s):\n",
    "    sent = s.split(' ')\n",
    "    count_dict = {}\n",
    "    for word in sent:\n",
    "        if word in count_dict:\n",
    "            count_dict[word] += 1\n",
    "        else:\n",
    "            count_dict[word] = 1\n",
    "    return count_dict\n",
    "\n",
    "print(word_count('I want to go home so badly! I cannot wait to get out of here.'))"
   ]
  },
  {
   "cell_type": "markdown",
   "id": "600ff3c3-e0d5-48bc-9f90-0c0a7f00e290",
   "metadata": {},
   "source": [
    "13. Display input in upper and lower case.\n",
    "\n",
    "Write a Python  script that takes input from the user and displays that input back in upper and lower cases."
   ]
  },
  {
   "cell_type": "code",
   "execution_count": 16,
   "id": "5eaebce7-3976-4592-a990-651f5a52d11f",
   "metadata": {},
   "outputs": [
    {
     "name": "stdin",
     "output_type": "stream",
     "text": [
      "Enter your string input:  Can I abandon everything and go back?\n"
     ]
    },
    {
     "name": "stdout",
     "output_type": "stream",
     "text": [
      "Lower case:  can i abandon everything and go back?\n",
      "Upper case:  CAN I ABANDON EVERYTHING AND GO BACK?\n"
     ]
    }
   ],
   "source": [
    "s = input('Enter your string input: ')\n",
    "print('Lower case: ', s.lower())\n",
    "print('Upper case: ', s.upper())"
   ]
  },
  {
   "cell_type": "markdown",
   "id": "9e6fba16-3bea-4514-9a04-264bbcd4906a",
   "metadata": {},
   "source": [
    "14. Sort distinct words in comma-separated input.\n",
    "\n",
    "Write a Python program that accepts a comma-separated sequence of words as input and prints the distinct words in sorted form (alphanumerically).\n",
    "Sample Words : red, white, black, red, green, black\n",
    "Expected Result : black, green, red, white,red"
   ]
  },
  {
   "cell_type": "code",
   "execution_count": 23,
   "id": "d0ca5b89-c946-41a5-90f1-8a062924e8dc",
   "metadata": {},
   "outputs": [
    {
     "name": "stdin",
     "output_type": "stream",
     "text": [
      "Enter comma-separated sequence of words:  red, white, black, red, green, black\n"
     ]
    },
    {
     "name": "stdout",
     "output_type": "stream",
     "text": [
      "black,green,red,white\n"
     ]
    }
   ],
   "source": [
    "s = input('Enter comma-separated sequence of words: ')\n",
    "def sort_words(s):\n",
    "    lst = s.split(',')\n",
    "    lst = [word.strip() for word in lst]\n",
    "    lst = sorted(set(lst))\n",
    "    return ','.join(lst)\n",
    "\n",
    "print(sort_words(s))"
   ]
  },
  {
   "cell_type": "markdown",
   "id": "a9324a46-5d17-4b2f-9f25-8724ae406004",
   "metadata": {},
   "source": [
    "Write a Python function to create an HTML string with tags around the word(s).\n",
    "\n",
    "Sample function and result :\n",
    "add_tags('i', 'Python') -> '<i>Python</i>'\n",
    "add_tags('b', 'Python Tutorial') -> '<b>Python Tutorial </b>'"
   ]
  },
  {
   "cell_type": "code",
   "execution_count": 25,
   "id": "72d73295-3337-4d16-a4bb-7a97cf66ffa1",
   "metadata": {},
   "outputs": [
    {
     "name": "stdout",
     "output_type": "stream",
     "text": [
      "<i>Python</i>\n",
      "<b>Python Tutorial</b>\n"
     ]
    }
   ],
   "source": [
    "def add_tags(tag, word):\n",
    "    return \"<%s>%s</%s>\" % (tag, word, tag)\n",
    "\n",
    "print(add_tags('i','Python'))\n",
    "print(add_tags('b','Python Tutorial'))"
   ]
  },
  {
   "cell_type": "markdown",
   "id": "87450582-dad2-4978-9578-53367aee3eba",
   "metadata": {},
   "source": [
    "Write a Python function to insert a string in the middle of a string.\n",
    "\n",
    "Sample function and result :\n",
    "insert_sting_middle('[[]]<<>>', 'Python') -> [[Python]]\n",
    "insert_sting_middle('{{}}', 'PHP') -> {{PHP}}"
   ]
  },
  {
   "cell_type": "code",
   "execution_count": 29,
   "id": "847615a4-2e0f-4542-aa12-8b93c6a79da6",
   "metadata": {},
   "outputs": [
    {
     "name": "stdout",
     "output_type": "stream",
     "text": [
      "[[Python]]\n",
      "{{PHP}}\n",
      "<<HTML>>\n"
     ]
    }
   ],
   "source": [
    "def insert_middle(s, word):\n",
    "    return s[:2] + word + s[2:]\n",
    "\n",
    "print(insert_middle('[[]]', 'Python'))\n",
    "print(insert_middle('{{}}','PHP'))\n",
    "print(insert_middle('<<>>', 'HTML'))"
   ]
  },
  {
   "cell_type": "markdown",
   "id": "6a1b6ac3-5b82-4730-a176-eec7724e41f5",
   "metadata": {},
   "source": [
    "Write a Python function to get a string made of 4 copies of the last two characters of a specified string (length must be at least 2)\n",
    "\n",
    "Sample function and result :\n",
    "insert_end('Python') -> onononon\n",
    "insert_end('Exercises') -> eseseses"
   ]
  },
  {
   "cell_type": "code",
   "execution_count": 33,
   "id": "339bb019-b380-4302-9a0d-a5a870f61e97",
   "metadata": {},
   "outputs": [
    {
     "name": "stdout",
     "output_type": "stream",
     "text": [
      "onononon\n",
      "eseseses\n"
     ]
    }
   ],
   "source": [
    "def repeat_four(s):\n",
    "    return s[-2:] * 4\n",
    "print(repeat_four('Python'))\n",
    "print(repeat_four('Exercises'))"
   ]
  },
  {
   "cell_type": "markdown",
   "id": "714c49df-e36a-412a-8e66-6b3677b917c0",
   "metadata": {},
   "source": [
    "18. Get first 3 chars of a string.\n",
    "\n",
    "Write a Python function to get a string made of the first three characters of a specified string. If the length of the string is less than 3, return the original string.\n",
    "Sample function and result :\n",
    "first_three('ipy') -> ipy\n",
    "first_three('python') -> pyt"
   ]
  },
  {
   "cell_type": "code",
   "execution_count": 35,
   "id": "b1846267-66a6-4d7b-9f46-20da3053b43f",
   "metadata": {},
   "outputs": [
    {
     "name": "stdout",
     "output_type": "stream",
     "text": [
      "ipy\n",
      "pyt\n"
     ]
    }
   ],
   "source": [
    "def first_three(s):\n",
    "    return s[:3]\n",
    "\n",
    "print(first_three('ipy'))\n",
    "print(first_three('python'))"
   ]
  },
  {
   "cell_type": "markdown",
   "id": "8dc66d91-7730-4a99-a762-73771b7e3a44",
   "metadata": {},
   "source": [
    "19. Get substring before a specific character.\n",
    "\n",
    "Write a Python program to get the last part of a string before a specified character.\n",
    "https://www.w3resource.com/python-exercises\n",
    "https://www.w3resource.com/python"
   ]
  },
  {
   "cell_type": "code",
   "execution_count": 40,
   "id": "5ffcfd52-faa6-438d-99ed-64191b7f6089",
   "metadata": {},
   "outputs": [
    {
     "name": "stdout",
     "output_type": "stream",
     "text": [
      "https://www.w3resource.com/python-exercises\n",
      "https://www.w3resource.com/python\n"
     ]
    }
   ],
   "source": [
    "s = 'https://www.w3resource.com/python-exercises/string'\n",
    "\n",
    "print(s.rsplit('/', 1)[0])\n",
    "print(s.rsplit('-',1)[0])"
   ]
  },
  {
   "cell_type": "markdown",
   "id": "d2b606fb-84be-456c-9ba6-6bb5edc65911",
   "metadata": {},
   "source": [
    "20. Reverse string if length is a multiple of 4.\n",
    "\n",
    "Write a Python function to reverse a string if its length is a multiple of 4."
   ]
  },
  {
   "cell_type": "code",
   "execution_count": 41,
   "id": "00735f58-89c6-4ccd-aeca-24e280e03ef8",
   "metadata": {},
   "outputs": [
    {
     "name": "stdout",
     "output_type": "stream",
     "text": [
      "ruof\n",
      "fourty\n",
      "three\n"
     ]
    }
   ],
   "source": [
    "def reverse_four(s):\n",
    "    if len(s) % 4 == 0:\n",
    "        return s[::-1]\n",
    "    return s\n",
    "\n",
    "print(reverse_four('four'))\n",
    "print(reverse_four('fourty'))\n",
    "print(reverse_four('three'))"
   ]
  },
  {
   "cell_type": "markdown",
   "id": "d3cb992a-2c32-4be3-83a6-3ecf3ba32cfc",
   "metadata": {},
   "source": [
    "Write a Python function to convert a given string to all uppercase if it contains at least 2 uppercase characters in the first 4 characters."
   ]
  },
  {
   "cell_type": "code",
   "execution_count": 46,
   "id": "73343fde-dfae-4920-ab84-a41c410d921a",
   "metadata": {},
   "outputs": [
    {
     "name": "stdout",
     "output_type": "stream",
     "text": [
      "GAUGE\n",
      "GaugE\n",
      "GA\n",
      "GAUGE\n"
     ]
    }
   ],
   "source": [
    "def upper_case_two(s):\n",
    "    if len(s) < 4:\n",
    "        return s\n",
    "    else:\n",
    "        first_four = s[:4]\n",
    "        upper_count = 0\n",
    "        for c in first_four:\n",
    "            if c.isalpha() and c.upper() == c:\n",
    "                upper_count += 1\n",
    "        if upper_count >= 2:\n",
    "            return s.upper()\n",
    "        return s\n",
    "        \n",
    "print(upper_case_two('GaUge'))\n",
    "print(upper_case_two('GaugE'))\n",
    "print(upper_case_two('GA'))\n",
    "print(upper_case_two('GAUgE'))"
   ]
  },
  {
   "cell_type": "markdown",
   "id": "469e4f39-d71e-493e-bf29-c5af7a34831f",
   "metadata": {},
   "source": [
    "22. Sort string lexicographically.\n",
    "\n",
    "Write a Python program to sort a string lexicographically."
   ]
  },
  {
   "cell_type": "code",
   "execution_count": 49,
   "id": "a91e06ea-f70e-44fa-9ec8-fccaad94bd7a",
   "metadata": {},
   "outputs": [
    {
     "name": "stdout",
     "output_type": "stream",
     "text": [
      "3ceeorrsuw\n",
      "bciknoqruw\n"
     ]
    }
   ],
   "source": [
    "def lexicographic(s):\n",
    "    return ''.join(sorted(sorted(s), key = str.upper))\n",
    "\n",
    "print(lexicographic('w3resource'))\n",
    "print(lexicographic('quickbrown'))"
   ]
  },
  {
   "cell_type": "markdown",
   "id": "ecfe39e7-af99-4dc2-950a-99453239b5fc",
   "metadata": {},
   "source": [
    "23. Remove newline from a string.\n",
    "\n",
    "Write a Python program to remove a newline in Python."
   ]
  },
  {
   "cell_type": "code",
   "execution_count": 53,
   "id": "61ed751f-d81d-412b-9a6d-a5a588e0b7a1",
   "metadata": {},
   "outputs": [
    {
     "name": "stdout",
     "output_type": "stream",
     "text": [
      "Hello World\n"
     ]
    }
   ],
   "source": [
    "def remove_new_line(s):\n",
    "    return s.replace('\\n',' ')\n",
    "\n",
    "string_with_newline = \"Hello\\nWorld\"\n",
    "print(remove_new_line(string_with_newline))"
   ]
  },
  {
   "cell_type": "markdown",
   "id": "0d15a7db-d8d7-47b4-af79-e735c096b707",
   "metadata": {},
   "source": [
    "24. Check if string starts with specified chars.\n",
    "\n",
    "Write a Python program to check whether a string starts with specified characters."
   ]
  },
  {
   "cell_type": "code",
   "execution_count": 54,
   "id": "607fddfc-fce5-49b5-b1bb-db0c35f8c537",
   "metadata": {},
   "outputs": [
    {
     "name": "stdout",
     "output_type": "stream",
     "text": [
      "True\n"
     ]
    }
   ],
   "source": [
    "s = 'Ayushi Krishu'\n",
    "print(s.startswith('Ayushi'))"
   ]
  },
  {
   "cell_type": "markdown",
   "id": "edca8b86-95fd-4eb1-b9d1-0f152a2c367a",
   "metadata": {},
   "source": [
    "26. Display formatted text (width=50).\n",
    "\n",
    "Write a  Python program to display formatted text (width=50) as output."
   ]
  },
  {
   "cell_type": "code",
   "execution_count": 55,
   "id": "f31f9595-c0b4-4747-af59-57be23dd6dd8",
   "metadata": {},
   "outputs": [
    {
     "name": "stdout",
     "output_type": "stream",
     "text": [
      "   Python is a widely used high-level, general-\n",
      "purpose, interpreted,   dynamic programming\n",
      "language. Its design philosophy emphasizes   code\n",
      "readability, and its syntax allows programmers to\n",
      "express   concepts in fewer lines of code than\n",
      "possible in languages such   as C++ or Java.\n"
     ]
    }
   ],
   "source": [
    "import textwrap\n",
    "\n",
    "sample_text = '''\n",
    "  Python is a widely used high-level, general-purpose, interpreted,\n",
    "  dynamic programming language. Its design philosophy emphasizes\n",
    "  code readability, and its syntax allows programmers to express\n",
    "  concepts in fewer lines of code than possible in languages such\n",
    "  as C++ or Java.\n",
    "  '''\n",
    "\n",
    "print(textwrap.fill(sample_text, width = 50))"
   ]
  },
  {
   "cell_type": "markdown",
   "id": "bb2fa603-9922-4b83-80fe-af3d0672202e",
   "metadata": {},
   "source": [
    "27. Remove indentation from text.\n",
    "\n",
    "Write a Python program to remove existing indentation from all of the lines in a given text."
   ]
  },
  {
   "cell_type": "code",
   "execution_count": 56,
   "id": "00975654-cecd-422e-951c-6211ef78420d",
   "metadata": {},
   "outputs": [
    {
     "name": "stdout",
     "output_type": "stream",
     "text": [
      "\n",
      "Python is a widely used high-level, general-purpose, interpreted,\n",
      "dynamic programming language. Its design philosophy emphasizes\n",
      "code readability, and its syntax allows programmers to express\n",
      "concepts in fewer lines of code than possible in languages such\n",
      "as C++ or Java.\n",
      "\n"
     ]
    }
   ],
   "source": [
    "import textwrap\n",
    "sample_text = '''\n",
    "    Python is a widely used high-level, general-purpose, interpreted,\n",
    "    dynamic programming language. Its design philosophy emphasizes\n",
    "    code readability, and its syntax allows programmers to express\n",
    "    concepts in fewer lines of code than possible in languages such\n",
    "    as C++ or Java.\n",
    "    '''\n",
    "\n",
    "text_without_indentation = textwrap.dedent(sample_text)\n",
    "print(text_without_indentation)"
   ]
  },
  {
   "cell_type": "markdown",
   "id": "36b1bc4d-f5e4-49c1-9c4b-51c990bfe60c",
   "metadata": {},
   "source": [
    "28. Add prefix to each line of text.\n",
    "\n",
    "Write a Python program to add prefix text to all of the lines in a string."
   ]
  },
  {
   "cell_type": "code",
   "execution_count": 60,
   "id": "6587a991-66f5-485a-83ef-89719511470e",
   "metadata": {},
   "outputs": [
    {
     "name": "stdout",
     "output_type": "stream",
     "text": [
      "['This is the first line.', 'This is the second line.', 'And this is the third line.']\n",
      "<<>>This is the first line.\n",
      "<<>>This is the second line.\n",
      "<<>>And this is the third line.\n"
     ]
    }
   ],
   "source": [
    "def add_prefix(s, prefix):\n",
    "    lines = s.splitlines()\n",
    "    print(lines)\n",
    "    modified_lines = [ prefix + line for line in lines]\n",
    "    return '\\n'.join(modified_lines)\n",
    "\n",
    "sample_text = \"\"\"This is the first line.\n",
    "This is the second line.\n",
    "And this is the third line.\"\"\"\n",
    "\n",
    "prefix = '<<>>'\n",
    "print(add_prefix(sample_text, prefix))"
   ]
  },
  {
   "cell_type": "markdown",
   "id": "5a00e426-f2d1-42cc-9df3-85faa52ea72b",
   "metadata": {},
   "source": [
    "29. Set first line indentation.\n",
    "\n",
    "Write a Python program to set the indentation of the first line."
   ]
  },
  {
   "cell_type": "code",
   "execution_count": 62,
   "id": "58dedcdf-e6c1-4f22-8152-15545617bb5a",
   "metadata": {},
   "outputs": [
    {
     "name": "stdout",
     "output_type": "stream",
     "text": [
      "Python is a widely used high-level, general-purpose, interpreted, dynamic\n",
      "    programming language. Its design philosophy emphasizes code readability, and\n",
      "    its syntax allows programmers to express concepts in fewer lines of code\n",
      "    than possible in languages such as C++ or Java.\n"
     ]
    }
   ],
   "source": [
    "import textwrap\n",
    "\n",
    "sample_text ='''\n",
    "Python is a widely used high-level, general-purpose, interpreted, dynamic\n",
    "programming language. Its design philosophy emphasizes code readability,\n",
    "and its syntax allows programmers to express concepts in fewer lines of\n",
    "code than possible in languages such as C++ or Java.\n",
    "'''\n",
    "\n",
    "text1 = textwrap.dedent(sample_text).strip()\n",
    "\n",
    "print(textwrap.fill(text1,\n",
    "                   initial_indent = '',\n",
    "                   subsequent_indent = ' ' * 4,\n",
    "                   width = 80))"
   ]
  },
  {
   "cell_type": "markdown",
   "id": "ddbb381e-6a71-414c-961b-060184c802e0",
   "metadata": {},
   "source": [
    "30. Print numbers with 2 decimal places.\n",
    "\n",
    "Write a Python program to print the following numbers up to 2 decimal places."
   ]
  },
  {
   "cell_type": "code",
   "execution_count": 66,
   "id": "84dba965-9529-4664-9a3a-eaf07cf3bcf5",
   "metadata": {},
   "outputs": [
    {
     "name": "stdout",
     "output_type": "stream",
     "text": [
      "234.46\n"
     ]
    }
   ],
   "source": [
    "n = '234.464424'\n",
    "\n",
    "if '.' in n:\n",
    "    decimal_place = n.find('.')\n",
    "    result = n[:decimal_place + 3]\n",
    "    print(result)\n",
    "else:\n",
    "    print(\"Invalid input: no decimal point.\")"
   ]
  },
  {
   "cell_type": "code",
   "execution_count": 68,
   "id": "6ac7db2d-1129-4504-a0cc-4cea36df3a11",
   "metadata": {},
   "outputs": [
    {
     "name": "stdout",
     "output_type": "stream",
     "text": [
      "234.46\n"
     ]
    }
   ],
   "source": [
    "n = 234.464424\n",
    "print(\"{:.2f}\".format(n))"
   ]
  },
  {
   "cell_type": "code",
   "execution_count": 69,
   "id": "f303e007-1205-489f-8901-fcde1435a9cf",
   "metadata": {},
   "outputs": [
    {
     "name": "stdout",
     "output_type": "stream",
     "text": [
      "234.46\n"
     ]
    }
   ],
   "source": [
    "n = 234.464424\n",
    "print(f\"{n:.2f}\")"
   ]
  },
  {
   "cell_type": "markdown",
   "id": "4af95df0-911b-4e52-ab55-cdd28264041a",
   "metadata": {},
   "source": [
    "31. Print numbers with sign (2 decimals).\n",
    "\n",
    "Write a Python program to print the following numbers up to 2 decimal places with a sign."
   ]
  },
  {
   "cell_type": "code",
   "execution_count": 70,
   "id": "92678bf8-ae56-48f2-8d50-17c23671e84c",
   "metadata": {},
   "outputs": [
    {
     "name": "stdout",
     "output_type": "stream",
     "text": [
      "+123.46\n",
      "-123.46\n"
     ]
    }
   ],
   "source": [
    "n = 123.456\n",
    "print(\"{:+.2f}\".format(n))\n",
    "\n",
    "n = -123.456\n",
    "print(\"{:+.2f}\".format(n)) "
   ]
  },
  {
   "cell_type": "code",
   "execution_count": 71,
   "id": "35db0641-f11f-4838-94ab-fc1308505786",
   "metadata": {},
   "outputs": [
    {
     "name": "stdout",
     "output_type": "stream",
     "text": [
      "+123.46\n",
      "-123.46\n"
     ]
    }
   ],
   "source": [
    "n = 123.456\n",
    "print(f\"{n:+.2f}\")\n",
    "\n",
    "n = -123.456\n",
    "print(f\"{n:+.2f}\") "
   ]
  },
  {
   "cell_type": "markdown",
   "id": "69a78d4f-17d6-4959-a599-94de74a7e29e",
   "metadata": {},
   "source": [
    "32. Print numbers without decimal places.\n",
    "\n",
    "Write a Python program to print the following positive and negative numbers with no decimal places."
   ]
  },
  {
   "cell_type": "code",
   "execution_count": 74,
   "id": "0a4a8e4f-6476-4820-9d15-ab3ceb0d1cd8",
   "metadata": {},
   "outputs": [
    {
     "name": "stdout",
     "output_type": "stream",
     "text": [
      "Formatted Number with no decimal places: 3\n",
      "Formatted Number with no decimal places: -13\n"
     ]
    }
   ],
   "source": [
    "x = 3.1415926\n",
    "y = -12.9999\n",
    "\n",
    "print(\"Formatted Number with no decimal places: \"+\"{:.0f}\".format(x))\n",
    "print(\"Formatted Number with no decimal places: \"+\"{:.0f}\".format(y))"
   ]
  },
  {
   "cell_type": "markdown",
   "id": "f0a3aea3-5b77-4796-af14-43096ab42ba6",
   "metadata": {},
   "source": [
    "33. Print integers with left-padded zeros.\n",
    "\n",
    "Write a Python program to print the following integers with zeros to the left of the specified width."
   ]
  },
  {
   "cell_type": "code",
   "execution_count": 78,
   "id": "9d86fd20-e8d1-4b19-9578-69f16abec27d",
   "metadata": {},
   "outputs": [
    {
     "name": "stdout",
     "output_type": "stream",
     "text": [
      "0000458\n"
     ]
    }
   ],
   "source": [
    "n = 458\n",
    "padded_num = \"{:0>7d}\".format(n)\n",
    "print(padded_num)"
   ]
  },
  {
   "cell_type": "markdown",
   "id": "9cd001a9-1648-412e-b7a8-a2a6832a9df2",
   "metadata": {},
   "source": [
    "34. Print integers with * right-padded.\n",
    "\n",
    "Write a Python program to print the following integers with '*' to the right of the specified width."
   ]
  },
  {
   "cell_type": "code",
   "execution_count": 80,
   "id": "7dbc79a3-93a0-4e4f-8f9c-f076ffe35b4f",
   "metadata": {},
   "outputs": [
    {
     "name": "stdout",
     "output_type": "stream",
     "text": [
      "895****\n"
     ]
    }
   ],
   "source": [
    "n = 895\n",
    "num_with_stars = \"{:*<7d}\".format(n)\n",
    "print(num_with_stars)"
   ]
  },
  {
   "cell_type": "markdown",
   "id": "b199cb5f-49c6-451d-8275-84f46cb29f6c",
   "metadata": {},
   "source": [
    "35. Display number with comma separator.\n",
    "\n",
    "Write a Python program to display a number with a comma separator."
   ]
  },
  {
   "cell_type": "code",
   "execution_count": 81,
   "id": "73cb7b29-c8f0-444e-a1de-611f70f662c8",
   "metadata": {},
   "outputs": [
    {
     "name": "stdout",
     "output_type": "stream",
     "text": [
      "546,873\n"
     ]
    }
   ],
   "source": [
    "n = 546873\n",
    "num_comma_separators = \"{:,}\".format(n)\n",
    "print(num_comma_separators)"
   ]
  },
  {
   "cell_type": "markdown",
   "id": "a3adf621-aa3c-4efd-bc8f-5268e16a34d1",
   "metadata": {},
   "source": [
    "36. Format number as percentage.\n",
    "\n",
    "Write a Python program to format a number with a percentage."
   ]
  },
  {
   "cell_type": "code",
   "execution_count": 84,
   "id": "d78674de-00ab-4db6-9759-3fd36b93993b",
   "metadata": {},
   "outputs": [
    {
     "name": "stdout",
     "output_type": "stream",
     "text": [
      "56.00%\n"
     ]
    }
   ],
   "source": [
    "n = 0.56\n",
    "num_percentage = \"{:.2%}\".format(n)\n",
    "print(num_percentage)"
   ]
  },
  {
   "cell_type": "markdown",
   "id": "bc3097a8-3a41-4070-a47b-ea0d94c3781b",
   "metadata": {},
   "source": [
    "37. Align number left, right, center (width=10).\n",
    "\n",
    "Write a Python program to display a number in left, right, and center aligned with a width of 10."
   ]
  },
  {
   "cell_type": "code",
   "execution_count": 85,
   "id": "e3bdc12c-18bd-4723-889a-2a16d53696af",
   "metadata": {},
   "outputs": [
    {
     "name": "stdout",
     "output_type": "stream",
     "text": [
      "45468     \n",
      "     45468\n",
      "  45468   \n"
     ]
    }
   ],
   "source": [
    "n = 45468\n",
    "\n",
    "left_aligned = '{:<10}'.format(n)\n",
    "right_aligned = '{:>10}'.format(n)\n",
    "centre_aligned = '{:^10}'.format(n)\n",
    "\n",
    "print(left_aligned)\n",
    "print(right_aligned)\n",
    "print(centre_aligned)"
   ]
  },
  {
   "cell_type": "markdown",
   "id": "5dd0a73d-871d-4eb0-8e54-8ad28c2a9d1e",
   "metadata": {},
   "source": [
    "38. Count substring occurrences in string.\n",
    "\n",
    "Write a Python program to count occurrences of a substring in a string."
   ]
  },
  {
   "cell_type": "code",
   "execution_count": 86,
   "id": "4a5c0504-ee25-4663-be50-67558386584a",
   "metadata": {},
   "outputs": [
    {
     "name": "stdout",
     "output_type": "stream",
     "text": [
      "1\n"
     ]
    }
   ],
   "source": [
    "def substring_count(s, sub):\n",
    "    return s.count(sub)\n",
    "\n",
    "print(substring_count('The quick brown fox jumps over the lazy dog.','fox'))"
   ]
  },
  {
   "cell_type": "markdown",
   "id": "2faee83a-1b3e-4768-b371-bae7a70d151e",
   "metadata": {},
   "source": [
    "39. Reverse a string.\n",
    "\n",
    "Write a Python program to reverse a string."
   ]
  },
  {
   "cell_type": "code",
   "execution_count": 88,
   "id": "2325f70f-aeff-4da0-9ff8-e34011711f3e",
   "metadata": {},
   "outputs": [
    {
     "name": "stdout",
     "output_type": "stream",
     "text": [
      "The reverse of string Reverse is esreveR\n"
     ]
    }
   ],
   "source": [
    "s = 'Reverse'\n",
    "print(f'The reverse of string {s} is {s[::-1]}')"
   ]
  },
  {
   "cell_type": "markdown",
   "id": "d411ac62-e24a-4389-9e94-9069c8b6b3d6",
   "metadata": {},
   "source": [
    "40. Reverse words in a string.\n",
    "\n",
    "Write a Python program to reverse words in a string."
   ]
  },
  {
   "cell_type": "code",
   "execution_count": 90,
   "id": "2a602e25-1e54-4553-8334-3d433b9b0930",
   "metadata": {},
   "outputs": [
    {
     "data": {
      "text/plain": [
       "'ehT kciuq nworb xof spmuj revo eht yzal .god'"
      ]
     },
     "execution_count": 90,
     "metadata": {},
     "output_type": "execute_result"
    }
   ],
   "source": [
    "def reverse_words(s):\n",
    "    return ' '.join([word[::-1] for word in s.split()])\n",
    "\n",
    "reverse_words('The quick brown fox jumps over the lazy dog.')"
   ]
  },
  {
   "cell_type": "markdown",
   "id": "c7f6e364-0036-43cc-8939-0fccb1476367",
   "metadata": {},
   "source": [
    "41. Strip specific characters from string.\n",
    "\n",
    "Write a Python program to strip a set of characters from a string."
   ]
  },
  {
   "cell_type": "code",
   "execution_count": 96,
   "id": "83652a9e-67a3-46a7-be52-f1e1187f8264",
   "metadata": {},
   "outputs": [
    {
     "name": "stdout",
     "output_type": "stream",
     "text": [
      "Th qck brwn fx jmps vr th lzy dg.\n"
     ]
    }
   ],
   "source": [
    "def strip_char(sent, char):\n",
    "    return ''.join(c for c in sent if c not in char)\n",
    "\n",
    "print(strip_char('The quick brown fox jumps over the lazy dog.', 'aeiou'))"
   ]
  },
  {
   "cell_type": "markdown",
   "id": "d8d040a1-4c78-47cb-82e7-36846c8342ce",
   "metadata": {},
   "source": [
    "42. Count repeated characters in string.\n",
    "\n",
    "Write a Python program to count repeated characters in a string.\n",
    "Sample string: 'thequickbrownfoxjumpsoverthelazydog'\n",
    "Expected output :\n",
    "o 4\n",
    "e 3\n",
    "u 2\n",
    "h 2\n",
    "r 2\n",
    "t 2"
   ]
  },
  {
   "cell_type": "code",
   "execution_count": 105,
   "id": "1c9c6d25-40c9-46f7-a7b4-9b5209576d6e",
   "metadata": {},
   "outputs": [
    {
     "name": "stdout",
     "output_type": "stream",
     "text": [
      "t 2  h 2  e 3  u 2  r 2  o 4  "
     ]
    }
   ],
   "source": [
    "def count_repeated_char(s):\n",
    "    char_count = {}\n",
    "    for c in s:\n",
    "        if c not in char_count:\n",
    "            char_count[c] = 1\n",
    "        else:\n",
    "            char_count[c] += 1\n",
    "    for char, count in char_count.items():\n",
    "        if count > 1:\n",
    "            print(f'{char} {count}', end = '  ')\n",
    "    \n",
    "count_repeated_char('thequickbrownfoxjumpsoverthelazydog')"
   ]
  },
  {
   "cell_type": "markdown",
   "id": "9e6b8091-0b40-4fa9-ace0-905f2188ebd6",
   "metadata": {},
   "source": [
    "43. Print area (rectangle) and volume (cylinder).\n",
    "\n",
    "Write a Python program to print the square and cube symbols in the area of a rectangle and the volume of a cylinder.\n",
    "Sample output:\n",
    "The area of the rectangle is 1256.66cm2\n",
    "The volume of the cylinder is 1254.725cm3"
   ]
  },
  {
   "cell_type": "code",
   "execution_count": 107,
   "id": "85bc8d9f-2ecf-4a0b-9dcd-b74d75e9933e",
   "metadata": {},
   "outputs": [
    {
     "name": "stdout",
     "output_type": "stream",
     "text": [
      "The area of the rectangle is 1256.66cm²\n",
      "The volume of the cylinder is 1254.725cm³\n"
     ]
    }
   ],
   "source": [
    "area = 1256.66\n",
    "volume = 1254.725\n",
    "decimals = 2\n",
    "print(\"The area of the rectangle is {0:.{1}f}cm\\u00b2\".format(area, decimals))\n",
    "decimals = 3\n",
    "print(\"The volume of the cylinder is {0:.{1}f}cm\\u00b3\".format(volume, decimals))"
   ]
  },
  {
   "cell_type": "markdown",
   "id": "b483a03b-1a4c-439b-8e54-ec70d126d29e",
   "metadata": {},
   "source": [
    "44. Find character indices in string.\n",
    "\n",
    "Write a Python program to print the index of a character in a string.\n",
    "Sample string: w3resource\n",
    "Expected output:\n",
    "Current character w position at 0\n",
    "Current character 3 position at 1\n",
    "Current character r position at 2\n",
    "- - - - - - - - - - - - - - - - - - - - - - - - -\n",
    "Current character c position at 8\n",
    "Current character e position at 9"
   ]
  },
  {
   "cell_type": "code",
   "execution_count": 110,
   "id": "5b0e6fbd-17aa-4010-a679-1a7d2a2af15b",
   "metadata": {},
   "outputs": [
    {
     "name": "stdout",
     "output_type": "stream",
     "text": [
      "Current character w position at 0\n",
      "Current character 3 position at 1\n",
      "Current character r position at 2\n",
      "Current character e position at 3\n",
      "Current character s position at 4\n",
      "Current character o position at 5\n",
      "Current character u position at 6\n",
      "Current character r position at 7\n",
      "Current character c position at 8\n",
      "Current character e position at 9\n"
     ]
    }
   ],
   "source": [
    "def char_ind(s):\n",
    "    for index, char in enumerate(s):\n",
    "        print(f'Current character {char} position at {index}')\n",
    "\n",
    "char_ind('w3resource')"
   ]
  },
  {
   "cell_type": "markdown",
   "id": "ec8aca93-7b18-4271-b2cf-77b4db7009ed",
   "metadata": {},
   "source": [
    "45. Check if string has all alphabet letters.\n",
    "\n",
    "Write a Python program to check whether a string contains all letters of the alphabet."
   ]
  },
  {
   "cell_type": "code",
   "execution_count": 116,
   "id": "3e987aa4-f235-4b9a-ba22-40a7858e4e99",
   "metadata": {},
   "outputs": [
    {
     "name": "stdout",
     "output_type": "stream",
     "text": [
      "False\n",
      "True\n"
     ]
    }
   ],
   "source": [
    "def check_alpha(s):\n",
    "    alphabet = set('abcdefghijklmnopqrstuvwxyz')\n",
    "    return alphabet.issubset(set(s.lower()))\n",
    "\n",
    "print(check_alpha('ayushikrishu'))\n",
    "print(check_alpha('The quick brown fox jumps over the lazy dog'))"
   ]
  },
  {
   "cell_type": "markdown",
   "id": "98be5d9a-0960-4fd7-924b-bbe1a5711403",
   "metadata": {},
   "source": [
    "46. Convert string to list of words.\n",
    "\n",
    "Write a  Python program to convert a given string into a list of words.\n",
    "Sample Output:\n",
    "['The', 'quick', 'brown', 'fox', 'jumps', 'over', 'the', 'lazy', 'dog.']\n",
    "['The', 'quick', 'brown', 'fox', 'jumps', 'over', 'the', 'lazy', 'dog.']"
   ]
  },
  {
   "cell_type": "code",
   "execution_count": 117,
   "id": "7e525b4b-9dc1-4f57-85f7-a3e3fa842554",
   "metadata": {},
   "outputs": [
    {
     "name": "stdout",
     "output_type": "stream",
     "text": [
      "['The', 'quick', 'brown', 'fox', 'jumps', 'over', 'the', 'lazy', 'dog.']\n"
     ]
    }
   ],
   "source": [
    "sent = 'The quick brown fox jumps over the lazy dog.'\n",
    "\n",
    "lst = sent.split()\n",
    "print(lst)"
   ]
  },
  {
   "cell_type": "markdown",
   "id": "68df0a78-3d45-4fb1-8249-1f30a0ca05a0",
   "metadata": {},
   "source": [
    "47. Lowercase first n characters of string.\n",
    "\n",
    "Write a Python program to lowercase the first n characters in a string."
   ]
  },
  {
   "cell_type": "code",
   "execution_count": 121,
   "id": "1b38048b-d844-4a29-8ecb-06e33126e909",
   "metadata": {},
   "outputs": [
    {
     "name": "stdout",
     "output_type": "stream",
     "text": [
      "krisHNA, KYA KR RHI HU YAHA MEIN?\n"
     ]
    }
   ],
   "source": [
    "def lower_n_char(s, n):\n",
    "    return s[:n].lower() + s[n:]\n",
    "\n",
    "print(lower_n_char('KRISHNA, KYA KR RHI HU YAHA MEIN?', 4))"
   ]
  },
  {
   "cell_type": "markdown",
   "id": "4a3b4eb9-2b5c-4073-b122-97336b02685e",
   "metadata": {},
   "source": [
    "48. Swap commas and dots in a string.\n",
    "\n",
    "Write a Python program to swap commas and dots in a string.\n",
    "Sample string: \"32.054,23\"\n",
    "Expected Output: \"32,054.23\""
   ]
  },
  {
   "cell_type": "code",
   "execution_count": 124,
   "id": "d8a415f4-439c-477b-a3db-501d7acfaacd",
   "metadata": {},
   "outputs": [
    {
     "name": "stdout",
     "output_type": "stream",
     "text": [
      "32,054.23\n"
     ]
    }
   ],
   "source": [
    "def swap_dot_comma(num):\n",
    "    lst = list(num)\n",
    "    for i in range(len(lst)):\n",
    "        if lst[i] == '.':\n",
    "            lst[i] = ','\n",
    "            continue\n",
    "        elif lst[i] == ',':\n",
    "            lst[i] = '.'\n",
    "            continue\n",
    "    return ''.join(lst)\n",
    "\n",
    "print(swap_dot_comma('32.054,23'))"
   ]
  },
  {
   "cell_type": "code",
   "execution_count": 125,
   "id": "62c457c3-fc98-4929-a15c-9dddad50da2e",
   "metadata": {},
   "outputs": [
    {
     "name": "stdout",
     "output_type": "stream",
     "text": [
      "32,054.23\n"
     ]
    }
   ],
   "source": [
    "def swap_dot_com(num):\n",
    "    num = num.replace('.','#') # replace with a temparory # to avoid confusion\n",
    "    num = num.replace(',','.').replace('#',',')\n",
    "    return num\n",
    "\n",
    "print(swap_dot_com('32.054,23'))"
   ]
  },
  {
   "cell_type": "markdown",
   "id": "63b5feb3-2295-49a4-bbc0-080ec7fb0439",
   "metadata": {},
   "source": [
    "49. Count and display vowels in text.\n",
    "\n",
    "Write a Python program to count and display vowels in text."
   ]
  },
  {
   "cell_type": "code",
   "execution_count": 126,
   "id": "cc1a5c8d-2935-4f01-b33e-c5d48fb83dbc",
   "metadata": {},
   "outputs": [
    {
     "name": "stdout",
     "output_type": "stream",
     "text": [
      "{'e': 2, 'o': 1, 'u': 1}\n"
     ]
    }
   ],
   "source": [
    "def vowel_count(s):\n",
    "    vowels = ['a','e','i','o','u']\n",
    "    vowel_count = {}\n",
    "    for word in s:\n",
    "        for char in word:\n",
    "            if char in vowels and char not in vowel_count:\n",
    "                vowel_count[char] = 1\n",
    "            elif char in vowels and char in vowel_count:\n",
    "                vowel_count[char] += 1\n",
    "    return vowel_count\n",
    "\n",
    "print(vowel_count('w3resource'))"
   ]
  },
  {
   "cell_type": "markdown",
   "id": "7d88db7c-2122-4a7c-a08e-6116dc697d85",
   "metadata": {},
   "source": [
    "50. Split string on last delimiter occurrence.\n",
    "\n",
    "Write a Python program to split a string on the last occurrence of the delimiter."
   ]
  },
  {
   "cell_type": "code",
   "execution_count": 129,
   "id": "fd327d13-c5fc-4fdb-a284-dec8716f4ba4",
   "metadata": {},
   "outputs": [
    {
     "name": "stdout",
     "output_type": "stream",
     "text": [
      "['www.example.com', 'resource']\n"
     ]
    }
   ],
   "source": [
    "def split_on_last_demiliter(test_string, demiliter):\n",
    "    parts = test_string.rsplit(demiliter, 1)\n",
    "    return parts\n",
    "\n",
    "print(split_on_last_demiliter(\"www.example.com/resource\", \"/\"))"
   ]
  },
  {
   "cell_type": "markdown",
   "id": "79e94e27-4103-4a3a-bfdd-0debbf04fa37",
   "metadata": {},
   "source": [
    "51. Find first non-repeating character.\n",
    "\n",
    "Write a Python program to find the first non-repeating character in a given string."
   ]
  },
  {
   "cell_type": "code",
   "execution_count": 5,
   "id": "b60cb4bc-1303-47dc-934b-199cae16da8a",
   "metadata": {},
   "outputs": [
    {
     "name": "stdout",
     "output_type": "stream",
     "text": [
      "a\n",
      "d\n",
      "None\n"
     ]
    }
   ],
   "source": [
    "def first_non_rep(s):\n",
    "    char_count = {}\n",
    "    for c in s:\n",
    "        if c in char_count:\n",
    "            char_count[c] += 1\n",
    "        else:\n",
    "            char_count[c] = 1\n",
    "    for char, count in char_count.items(): # Doesn't ensure that the characters are returned by .items() in the exact order as in s.\n",
    "        if count == 1:\n",
    "            return char\n",
    "\n",
    "print(first_non_rep('abcdef'))\n",
    "print(first_non_rep('abcabcdef'))\n",
    "print(first_non_rep('aabbcc'))"
   ]
  },
  {
   "cell_type": "code",
   "execution_count": 6,
   "id": "02fe82fe-7ea2-4c89-995a-c521dcb7be3c",
   "metadata": {},
   "outputs": [
    {
     "name": "stdout",
     "output_type": "stream",
     "text": [
      "a\n",
      "d\n",
      "None\n"
     ]
    }
   ],
   "source": [
    "def first_non_rep(s):\n",
    "    char_count = {}\n",
    "    for c in s:\n",
    "        if c in char_count:\n",
    "            char_count[c] += 1\n",
    "        else:\n",
    "            char_count[c] = 1\n",
    "    for c in s:\n",
    "        if char_count[c] == 1: # Check count of c in s using char_Count dictionary\n",
    "            return c\n",
    "    return None\n",
    "\n",
    "print(first_non_rep('abcdef'))\n",
    "print(first_non_rep('abcabcdef'))\n",
    "print(first_non_rep('aabbcc'))"
   ]
  },
  {
   "cell_type": "markdown",
   "id": "cae2b2f4-65a0-4587-a357-fbc2f1190744",
   "metadata": {},
   "source": [
    "52. Permutations with repetition in string.\n",
    "\n",
    "Write a Python program to print all permutations with a given repetition number of characters of a given string."
   ]
  },
  {
   "cell_type": "code",
   "execution_count": 8,
   "id": "9068c263-d47b-44c4-bca1-5db179515848",
   "metadata": {},
   "outputs": [
    {
     "name": "stdout",
     "output_type": "stream",
     "text": [
      "['aa', 'ab', 'ac', 'ba', 'bb', 'bc', 'ca', 'cb', 'cc']\n"
     ]
    }
   ],
   "source": [
    "from itertools import product\n",
    "\n",
    "def perm_with_repeatitions(s, repeat):\n",
    "    perm = product(s, repeat = repeat)\n",
    "    return [''.join(p) for p in perm]\n",
    "\n",
    "print(perm_with_repeatitions('abc', 2))"
   ]
  },
  {
   "cell_type": "markdown",
   "id": "f9f43ff1-7e34-43d7-833d-b749093a6f1d",
   "metadata": {},
   "source": [
    "53. Find first repeated character.\n",
    "\n",
    "Write a Python program to find the first repeated character in a given string."
   ]
  },
  {
   "cell_type": "code",
   "execution_count": 11,
   "id": "e55b9a35-cfaa-4e6c-83fe-c0f41b4580d8",
   "metadata": {},
   "outputs": [
    {
     "name": "stdout",
     "output_type": "stream",
     "text": [
      "a\n",
      "None\n"
     ]
    }
   ],
   "source": [
    "def first_rep(s):\n",
    "    char_dict = {}\n",
    "    for c in s:\n",
    "        if c in char_dict:\n",
    "            char_dict[c] += 1\n",
    "        else:\n",
    "            char_dict[c] = 1\n",
    "    for c in s:\n",
    "        if char_dict[c] > 1:\n",
    "            return c\n",
    "    return None\n",
    "\n",
    "print(first_rep('abcdabcd'))\n",
    "print(first_rep('abcd'))"
   ]
  },
  {
   "cell_type": "markdown",
   "id": "f6214868-6253-4d7e-9230-5a7bf5c59247",
   "metadata": {},
   "source": [
    "54. Find repeated character with smallest index.\n",
    "\n",
    "Write a Python program to find the first repeated character in a given string where the index of the first occurrence is smallest."
   ]
  },
  {
   "cell_type": "code",
   "execution_count": 13,
   "id": "5b1b4240-1662-45ad-bae5-b317d2bc867e",
   "metadata": {},
   "outputs": [
    {
     "name": "stdout",
     "output_type": "stream",
     "text": [
      "a\n",
      "None\n",
      "a\n"
     ]
    }
   ],
   "source": [
    "def first_occ(s):\n",
    "    char_ind = {}\n",
    "    for index, char in enumerate(s):\n",
    "        if char in char_ind:\n",
    "            return char\n",
    "        else:\n",
    "            char_ind[char] = index\n",
    "    return None\n",
    "\n",
    "print(first_occ(\"abcdabcd\"))\n",
    "print(first_occ(\"abcde\"))\n",
    "print(first_occ(\"aabbcc\")) "
   ]
  },
  {
   "cell_type": "markdown",
   "id": "d7b731a9-7de3-4fc8-b9ea-e1cf40bd83c7",
   "metadata": {},
   "source": [
    "55. Find first repeated word in string.\n",
    "\n",
    "Write a Python program to find the first repeated word in a given string."
   ]
  },
  {
   "cell_type": "code",
   "execution_count": 24,
   "id": "b66a68f7-853c-4d85-aa33-733da0583d25",
   "metadata": {},
   "outputs": [
    {
     "name": "stdout",
     "output_type": "stream",
     "text": [
      "{'ab': 2, 'ca': 1, 'bc': 1}\n",
      "ab\n",
      "{'ab': 3, 'ca': 2, 'bc': 2}\n",
      "ab\n",
      "{'ab': 1, 'ca': 2, 'bc': 2}\n",
      "ca\n",
      "{'ab': 1, 'ca': 1, 'bc': 1}\n",
      "None\n"
     ]
    }
   ],
   "source": [
    "def first_repeated_word(s):\n",
    "    word_count = {}\n",
    "    for word in s.split(' '):\n",
    "        if word in word_count:\n",
    "            word_count[word] += 1\n",
    "        else:\n",
    "            word_count[word] = 1\n",
    "    print(word_count)\n",
    "    for word in s.split():\n",
    "        if word_count[word] > 1:\n",
    "            return word\n",
    "    return None\n",
    "\n",
    "print(first_repeated_word(\"ab ca bc ab\"))\n",
    "print(first_repeated_word(\"ab ca bc ab ca ab bc\"))\n",
    "print(first_repeated_word(\"ab ca bc ca bc\"))\n",
    "print(first_repeated_word(\"ab ca bc\")) "
   ]
  },
  {
   "cell_type": "markdown",
   "id": "40f375ab-1a95-4157-8e6d-3124bbc4bf1a",
   "metadata": {},
   "source": [
    "56. Find second most repeated word.\n",
    "\n",
    "Write a Python program to find the second most repeated word in a given string."
   ]
  },
  {
   "cell_type": "code",
   "execution_count": 28,
   "id": "d3284db3-bedd-4fc7-90d3-79ff6853399a",
   "metadata": {},
   "outputs": [
    {
     "name": "stdout",
     "output_type": "stream",
     "text": [
      "of\n"
     ]
    }
   ],
   "source": [
    "def second_most_rep(s):\n",
    "    word_count = {}\n",
    "    for word in s.split(' '):\n",
    "        if word in word_count:\n",
    "            word_count[word] += 1\n",
    "        else:\n",
    "            word_count[word] = 1\n",
    "    word_count = sorted(word_count.items(), key = lambda x:x[1], reverse = True) #sort via count. The tuple are as ('word', count), [0],[1] --> word, count\n",
    "    if len(word_count) < 2:\n",
    "        return None\n",
    "    return word_count[1][0] #return word [0] of the second record [1]\n",
    "\n",
    "print(second_most_rep(\"Both of these issues are fixed by postponing the evaluation of annotations. Instead of compiling code which executes expressions in annotations at their definition time, the compiler stores the annotation in a string form equivalent to the AST of the expression in question. If needed, annotations can be resolved at runtime using typing.get_type_hints(). In the common case where this is not required, the annotations are cheaper to store (since short strings are interned by the interpreter) and make startup time faster.\")) \n",
    "    "
   ]
  },
  {
   "cell_type": "markdown",
   "id": "7037a305-100a-4c80-9679-50149b10261b",
   "metadata": {},
   "source": [
    "57. Remove spaces from string.\n",
    "\n",
    "Write a Python program to remove spaces from a given string."
   ]
  },
  {
   "cell_type": "code",
   "execution_count": 29,
   "id": "071a154a-ee99-412d-a9ce-80ddfddacbc9",
   "metadata": {},
   "outputs": [
    {
     "name": "stdout",
     "output_type": "stream",
     "text": [
      "w3resource\n",
      "abc\n"
     ]
    }
   ],
   "source": [
    "def remove_spaces(s):\n",
    "    return s.replace(' ','')\n",
    "\n",
    "print(remove_spaces(\"w 3 res ou r ce\"))\n",
    "print(remove_spaces(\"a b c\"))"
   ]
  },
  {
   "cell_type": "markdown",
   "id": "296bad9d-1a90-4d02-a696-35d542e37963",
   "metadata": {},
   "source": [
    "58. Move spaces to front of string.\n",
    "\n",
    "Write a Python program to move spaces to the front of a given string."
   ]
  },
  {
   "cell_type": "code",
   "execution_count": 30,
   "id": "6e53ce29-bfd7-4a43-bd62-02fff1ed8e94",
   "metadata": {},
   "outputs": [
    {
     "name": "stdout",
     "output_type": "stream",
     "text": [
      "     w3resource.com\n",
      "     w3resource.com\n"
     ]
    }
   ],
   "source": [
    "def move_Spaces_front(s):\n",
    "    space_count = s.count(' ')\n",
    "    s_without_space = s.replace(' ','')\n",
    "    return ' ' * space_count + s_without_space\n",
    "\n",
    "print(move_Spaces_front(\"w3resource .  com  \"))\n",
    "print(move_Spaces_front(\"   w3resource.com  \")) "
   ]
  },
  {
   "cell_type": "markdown",
   "id": "07cd864e-d86a-456e-b708-cca52bdcad0f",
   "metadata": {},
   "source": [
    "59. Find maximum occurring character.\n",
    "\n",
    "Write a Python program to find the maximum number of characters in a given string."
   ]
  },
  {
   "cell_type": "code",
   "execution_count": 34,
   "id": "dcbc4697-cd3c-4e8e-95b7-c24d993b6eb2",
   "metadata": {},
   "outputs": [
    {
     "name": "stdout",
     "output_type": "stream",
     "text": [
      "('t', 6)\n",
      "('b', 2)\n"
     ]
    }
   ],
   "source": [
    "def get_max_occuring_char(s):\n",
    "    count_dict = {}\n",
    "    for c in s:\n",
    "        if c in count_dict:\n",
    "            count_dict[c] += 1\n",
    "        else:\n",
    "            count_dict[c] = 1\n",
    "    max_count = 0\n",
    "    max_word = ''\n",
    "    for c, count in count_dict.items():\n",
    "        if count > max_count:\n",
    "            max_count = count\n",
    "            max_word = c\n",
    "    return max_word, max_count\n",
    "\n",
    "print(get_max_occuring_char(\"Python: Get file creation and modification date/times\"))\n",
    "print(get_max_occuring_char(\"abcdefghijkb\")) "
   ]
  },
  {
   "cell_type": "markdown",
   "id": "04437c4d-b74d-4332-a3c6-4ba3704d1ce2",
   "metadata": {},
   "source": [
    "60. Capitalize first and last letters of words.\n",
    "\n",
    "Write a Python program to capitalize the first and last letters of each word in a given string."
   ]
  },
  {
   "cell_type": "code",
   "execution_count": 36,
   "id": "820b06b7-d4d1-4b9a-98f3-2868174b7ce5",
   "metadata": {},
   "outputs": [
    {
     "name": "stdout",
     "output_type": "stream",
     "text": [
      "Python exercises practice solutioN\n",
      "W3resourcE\n"
     ]
    }
   ],
   "source": [
    "def capitalize_first_last_letters(s):\n",
    "    s_middle = s[1:len(s) - 1]\n",
    "    return s[0].upper() + s_middle + s[-1].upper()\n",
    "\n",
    "print(capitalize_first_last_letters(\"python exercises practice solution\"))\n",
    "print(capitalize_first_last_letters(\"w3resource\")) "
   ]
  },
  {
   "cell_type": "markdown",
   "id": "86e9fda5-27a8-4e79-96d2-c59935d29a25",
   "metadata": {},
   "source": [
    "61. Remove duplicate characters in string.\n",
    "\n",
    "Write a Python program to remove duplicate characters from a given string."
   ]
  },
  {
   "cell_type": "code",
   "execution_count": 38,
   "id": "42eaaf30-0c85-4e89-ab27-cb3a7051c100",
   "metadata": {},
   "outputs": [
    {
     "name": "stdout",
     "output_type": "stream",
     "text": [
      "python exrcisalu\n",
      "w3resouc\n"
     ]
    }
   ],
   "source": [
    "def remove_duplicate(s):\n",
    "    lst = []\n",
    "    for c in s:\n",
    "        if c not in lst:\n",
    "            lst.append(c)\n",
    "    return ''.join(lst)\n",
    "\n",
    "print(remove_duplicate(\"python exercises practice solution\"))\n",
    "print(remove_duplicate(\"w3resource\"))\n"
   ]
  },
  {
   "cell_type": "markdown",
   "id": "09a2e00f-fce6-4e00-9b32-ee45e79431e2",
   "metadata": {},
   "source": [
    "62. Sum digits in string.\n",
    "\n",
    "Write a Python program to compute the sum of the digits in a given string."
   ]
  },
  {
   "cell_type": "code",
   "execution_count": 40,
   "id": "c0f20e55-a5f2-416a-9f18-f1020cc8fdd7",
   "metadata": {},
   "outputs": [
    {
     "name": "stdout",
     "output_type": "stream",
     "text": [
      "15\n",
      "10\n"
     ]
    }
   ],
   "source": [
    "def sum_digit_str(s):\n",
    "    sum = 0\n",
    "    for c in s:\n",
    "        if c.isdigit():\n",
    "            sum += int(c)\n",
    "    return sum\n",
    "\n",
    "print(sum_digit_str(\"123abcd45\"))\n",
    "print(sum_digit_str(\"abcd1234\"))"
   ]
  },
  {
   "cell_type": "markdown",
   "id": "2a47c6e6-e344-4ac0-baf3-e431671b4807",
   "metadata": {},
   "source": [
    "63. Remove leading zeros in IP address.\n",
    "\n",
    "Write a Python program to remove leading zeros from an IP address."
   ]
  },
  {
   "cell_type": "code",
   "execution_count": 42,
   "id": "5d725e21-4263-40c9-8f7e-e74ae27fc0a2",
   "metadata": {},
   "outputs": [
    {
     "name": "stdout",
     "output_type": "stream",
     "text": [
      "255.24.1.1\n",
      "127.0.0.1\n"
     ]
    }
   ],
   "source": [
    "def remove_zeros_from_ip(s):\n",
    "    return '.'.join(str(int(segment)) for segment in s.split('.'))\n",
    "\n",
    "print(remove_zeros_from_ip(\"255.024.01.01\"))\n",
    "print(remove_zeros_from_ip(\"127.0.0.01 \")) "
   ]
  },
  {
   "cell_type": "markdown",
   "id": "178a5454-bb08-4c73-ab11-04f4fe8adbc1",
   "metadata": {},
   "source": [
    "64. Find max length of consecutive zeros (binary).\n",
    "\n",
    "Write a Python program to find the maximum length of consecutive 0's in a given binary string."
   ]
  },
  {
   "cell_type": "code",
   "execution_count": 44,
   "id": "42527cb0-dcde-4b54-ad61-4a8368c80e50",
   "metadata": {},
   "outputs": [
    {
     "name": "stdout",
     "output_type": "stream",
     "text": [
      "4\n",
      "3\n"
     ]
    }
   ],
   "source": [
    "def max_consecutive_zeroes(s):\n",
    "    zero_segments = s.split('1')\n",
    "    max_zero = max(len(segment) for segment in zero_segments)\n",
    "    return max_zero\n",
    "\n",
    "print(max_consecutive_zeroes('111000010000110'))\n",
    "print(max_consecutive_zeroes('111000111' ))"
   ]
  },
  {
   "cell_type": "markdown",
   "id": "d43b4fd7-ab9c-4207-954d-e8d2983b205d",
   "metadata": {},
   "source": [
    "65. Common characters between two strings.\n",
    "\n",
    "Write a Python program to find all the common characters in lexicographical order from two given lower case strings. If there are no similar letters print \"No common characters\"."
   ]
  },
  {
   "cell_type": "code",
   "execution_count": 46,
   "id": "ef0c8ce6-d47f-40bf-a07e-336249b76f14",
   "metadata": {},
   "outputs": [
    {
     "name": "stdout",
     "output_type": "stream",
     "text": [
      "P\n",
      "No commno characters\n"
     ]
    }
   ],
   "source": [
    "def common_string(s1, s2):\n",
    "    common = sorted(set(s1) & set(s2))\n",
    "    if common:\n",
    "        return ''.join(common)\n",
    "    else:\n",
    "        return 'No commno characters'\n",
    "\n",
    "print(common_string('PHP','Python'))\n",
    "print(common_string('PHP','Java'))"
   ]
  },
  {
   "cell_type": "markdown",
   "id": "8c1746a5-c9c9-4f53-a3a1-b0f58feb8f23",
   "metadata": {},
   "source": [
    "66. Make strings anagrams (retain characters).\n",
    "\n",
    "Write a Python program to make two given strings (lower case, may or may not be of the same length) anagrams without removing any characters from any of the strings."
   ]
  },
  {
   "cell_type": "code",
   "execution_count": 49,
   "id": "01e54a91-97df-4c9b-87f0-1949040bad6e",
   "metadata": {},
   "outputs": [
    {
     "name": "stdout",
     "output_type": "stream",
     "text": [
      "   ehooru\n"
     ]
    }
   ],
   "source": [
    "from collections import Counter\n",
    "\n",
    "def make_anagrams(s1, s2):\n",
    "    count1 = Counter(s1)\n",
    "    count2 = Counter(s2)\n",
    "    common_char = count1 & count2\n",
    "    return ''.join(char * common_char[char] for char in sorted(common_char))\n",
    "\n",
    "print(make_anagrams('The quick brown fox','jumps over the lazy dog'))"
   ]
  },
  {
   "cell_type": "markdown",
   "id": "a9d6d8a2-c6b6-4e0e-b712-79cf9d395208",
   "metadata": {},
   "source": [
    "67. Remove consecutive duplicates in string.\n",
    "\n",
    "Write a Python program to remove all consecutive duplicates of a given string."
   ]
  },
  {
   "cell_type": "code",
   "execution_count": 50,
   "id": "7d0492df-39bc-42b0-be57-3325fec7a489",
   "metadata": {},
   "outputs": [
    {
     "name": "stdout",
     "output_type": "stream",
     "text": [
      "xy\n"
     ]
    }
   ],
   "source": [
    "def remove_consec_dups(s):\n",
    "    lst = []\n",
    "    for i in s:\n",
    "        if not lst or lst[-1] != i:\n",
    "            lst.append(i)\n",
    "    return ''.join(lst)\n",
    "\n",
    "print(remove_consec_dups('xxxxxyyyyy'))"
   ]
  },
  {
   "cell_type": "markdown",
   "id": "e926c81e-f239-4ed0-b667-1856abbe51f5",
   "metadata": {},
   "source": [
    "68. Separate single and multiple occurrence chars.\n",
    "\n",
    "Write a Python program to generate two strings from a given string. For the first string, use the characters that occur only once, and for the second, use the characters that occur multiple times in the said string."
   ]
  },
  {
   "cell_type": "code",
   "execution_count": 52,
   "id": "539132cd-2871-4e15-8a23-2e04889feaab",
   "metadata": {},
   "outputs": [
    {
     "name": "stdout",
     "output_type": "stream",
     "text": [
      "egh\n",
      "abcf\n"
     ]
    }
   ],
   "source": [
    "def separate_occ(s):\n",
    "    single_occ = []\n",
    "    multiple_occ = []\n",
    "    word_count = {}\n",
    "    for c in s:\n",
    "        if c in word_count:\n",
    "            word_count[c] += 1\n",
    "        else:\n",
    "            word_count[c] = 1\n",
    "    for word, count in word_count.items():\n",
    "        if count > 1:\n",
    "            multiple_occ.append(word)\n",
    "        elif count == 1:\n",
    "            single_occ.append(word)\n",
    "    return ''.join(single_occ), ''.join(multiple_occ)\n",
    "\n",
    "single_occ, multiple_occ = separate_occ('aabbcceffgh')\n",
    "print(single_occ)\n",
    "print(multiple_occ)"
   ]
  },
  {
   "cell_type": "markdown",
   "id": "95394079-3af2-4b76-831a-16a9a5d0a2c9",
   "metadata": {},
   "source": [
    "69. Find longest common substring.\n",
    "\n",
    "Write a Python program to find the longest common sub-string from two given strings."
   ]
  },
  {
   "cell_type": "code",
   "execution_count": 56,
   "id": "d5f5702c-ef54-42cf-948e-11810a186179",
   "metadata": {},
   "outputs": [
    {
     "name": "stdout",
     "output_type": "stream",
     "text": [
      " 0, 1 ,a\n",
      " 0, 2 ,ab\n",
      " 0, 3 ,abc\n",
      " 0, 4 ,abcd\n",
      " 0, 5 ,abcde\n",
      " 0, 6 ,abcdef\n",
      " 0, 7 ,abcdefg\n",
      " 0, 8 ,abcdefgh\n",
      " 1, 2 ,b\n",
      " 1, 3 ,bc\n",
      " 1, 4 ,bcd\n",
      " 1, 5 ,bcde\n",
      " 1, 6 ,bcdef\n",
      " 1, 7 ,bcdefg\n",
      " 1, 8 ,bcdefgh\n",
      " 2, 3 ,c\n",
      " 2, 4 ,cd\n",
      " 2, 5 ,cde\n",
      " 2, 6 ,cdef\n",
      " 2, 7 ,cdefg\n",
      " 2, 8 ,cdefgh\n",
      " 3, 4 ,d\n",
      " 3, 5 ,de\n",
      " 3, 6 ,def\n",
      " 3, 7 ,defg\n",
      " 3, 8 ,defgh\n",
      " 4, 5 ,e\n",
      " 4, 6 ,ef\n",
      " 4, 7 ,efg\n",
      " 4, 8 ,efgh\n",
      " 5, 6 ,f\n",
      " 5, 7 ,fg\n",
      " 5, 8 ,fgh\n",
      " 6, 7 ,g\n",
      " 6, 8 ,gh\n",
      " 7, 8 ,h\n",
      "abcd\n"
     ]
    }
   ],
   "source": [
    "def longest_common(s1, s2):\n",
    "    longest_common_substring = ''\n",
    "    for i in range(len(s1)):\n",
    "        for j in range(i + 1, len(s1) + 1):\n",
    "            substring = s1[i:j]\n",
    "            print(f' {i}, {j} ,{substring}')\n",
    "            if substring in s2 and len(substring) > len(longest_common_substring):\n",
    "                longest_common_substring = substring\n",
    "    return longest_common_substring\n",
    "\n",
    "print(longest_common('abcdefgh','xswerabcdwd'))"
   ]
  },
  {
   "cell_type": "markdown",
   "id": "7d96edfd-a600-4674-88a2-9888a4061cd4",
   "metadata": {},
   "source": [
    "70. Concatenate uncommon characters in strings.\n",
    "1\n",
    "Write a Python program that concatenates uncommon characters from two strings."
   ]
  },
  {
   "cell_type": "code",
   "execution_count": 58,
   "id": "62aff295-786d-4731-8349-e802037027e6",
   "metadata": {},
   "outputs": [
    {
     "name": "stdout",
     "output_type": "stream",
     "text": [
      "pqryzx\n"
     ]
    }
   ],
   "source": [
    "def concat_uncommon_strings(s1, s2):\n",
    "    s1_set = set(s1)\n",
    "    s2_set = set(s2)\n",
    "    uncommon = []\n",
    "    for c in s1_set:\n",
    "        if c not in s2_set:\n",
    "            uncommon.append(c)\n",
    "    for c in s2_set:\n",
    "        if c not in s1_set:\n",
    "            uncommon.append(c)\n",
    "    return ''.join(uncommon)\n",
    "\n",
    "s1 = 'abcdpqr' \n",
    "s2 = 'xyzabcd'\n",
    "print(concat_uncommon_strings(s1, s2))"
   ]
  },
  {
   "cell_type": "code",
   "execution_count": 60,
   "id": "90e0694f-2230-49cf-9af0-32923787593b",
   "metadata": {},
   "outputs": [
    {
     "name": "stdout",
     "output_type": "stream",
     "text": [
      "qpryzx\n"
     ]
    }
   ],
   "source": [
    "def concat_uncommon_strings_2(s1, s2):\n",
    "    uncommon = set(s1) ^ set(s2)\n",
    "    return ''.join(uncommon)\n",
    "\n",
    "s1 = 'abcdpqr' \n",
    "s2 = 'xyzabcd'\n",
    "print(concat_uncommon_strings_2(s1, s2))"
   ]
  },
  {
   "cell_type": "markdown",
   "id": "c6dbdeeb-e8dc-45e8-ad6c-09b008d28cc3",
   "metadata": {},
   "source": [
    "71. Move spaces to front in single traversal.\n",
    "\n",
    "Write a Python program to move all spaces to the front of a given string in a single traversal."
   ]
  },
  {
   "cell_type": "code",
   "execution_count": 62,
   "id": "00780735-a28e-46fd-a593-e20e5fddd7bf",
   "metadata": {},
   "outputs": [
    {
     "name": "stdout",
     "output_type": "stream",
     "text": [
      " PythonExercises\n"
     ]
    }
   ],
   "source": [
    "def move_spaces_front(s):\n",
    "    insert_at = 0\n",
    "    result = []\n",
    "    for c in s:\n",
    "        if c == ' ':\n",
    "            result.insert(insert_at, ' ')\n",
    "        else:\n",
    "            result.append(c)\n",
    "    return ''.join(result)\n",
    "\n",
    "print(move_spaces_front('Python Exercises'))"
   ]
  },
  {
   "cell_type": "markdown",
   "id": "3ca4d0be-d587-4007-b5d9-498af1f9323b",
   "metadata": {},
   "source": [
    "72. Remove all except specified character.\n",
    "\n",
    "Write a Python program to remove all characters except a specified character from a given string.\n",
    "Original string\n",
    "Python Exercises\n",
    "Remove all characters except P in the said string:\n",
    "P\n",
    "Original string\n",
    "google\n",
    "Remove all characters except g in the said string:\n",
    "gg\n",
    "Original string\n",
    "exercises\n",
    "Remove all characters except e in the said string:\n",
    "eee"
   ]
  },
  {
   "cell_type": "code",
   "execution_count": 69,
   "id": "6f922e09-0e25-4ef7-8f26-3e4d22d44395",
   "metadata": {},
   "outputs": [
    {
     "name": "stdout",
     "output_type": "stream",
     "text": [
      "P\n",
      "gg\n",
      "eee\n"
     ]
    }
   ],
   "source": [
    "def remove_all_except_c(s, c):\n",
    "    lst = list(s)\n",
    "    result = []\n",
    "    for i in range(len(lst)):\n",
    "        if lst[i] == c:\n",
    "            result.append(lst[i])\n",
    "    return ''.join(result)\n",
    "\n",
    "print(remove_all_except_c('Python', 'P'))\n",
    "print(remove_all_except_c('google', 'g'))\n",
    "print(remove_all_except_c('exercises', 'e'))"
   ]
  },
  {
   "cell_type": "markdown",
   "id": "3c937bb2-0e82-4923-b23d-e72f2a82c79a",
   "metadata": {},
   "source": [
    "73. Count uppercase, lowercase, special, numeric.\n",
    "\n",
    "Write a Python program to count Uppercase, Lowercase, special characters and numeric values in a given string."
   ]
  },
  {
   "cell_type": "code",
   "execution_count": 71,
   "id": "b1ed0e17-d82b-43d7-9fb7-5f2c1d4d9dff",
   "metadata": {},
   "outputs": [
    {
     "name": "stdout",
     "output_type": "stream",
     "text": [
      "Character count: Upper 3, Lower 9, Special 2, Numeric 1\n"
     ]
    }
   ],
   "source": [
    "def count_characters(s):\n",
    "    upper_count = 0\n",
    "    lower_count = 0\n",
    "    special_count = 0\n",
    "    numeric_count = 0\n",
    "    for c in s:\n",
    "        if c.isalpha() and c.upper() == c:\n",
    "            upper_count += 1\n",
    "        elif c.isalpha() and c.lower() == c:\n",
    "            lower_count += 1\n",
    "        elif c.isdigit():\n",
    "            numeric_count += 1\n",
    "        else:\n",
    "            special_count += 1\n",
    "\n",
    "    return upper_count, lower_count, special_count, numeric_count\n",
    "\n",
    "u, l, s, n = count_characters(\"@W3Resource.Com\")\n",
    "print(f'Character count: Upper {u}, Lower {l}, Special {s}, Numeric {n}')"
   ]
  },
  {
   "cell_type": "markdown",
   "id": "1c478586-35f7-4b11-8777-a192dbacab58",
   "metadata": {},
   "source": [
    "Write a Python program to find the minimum window in a given string that will contain all the characters of another given string.\n",
    "Example 1\n",
    "Input : str1 = \" PRWSOERIUSFK \"\n",
    "str2 = \" OSU \"\n",
    "Output: Minimum window is \"OERIUS\""
   ]
  },
  {
   "cell_type": "code",
   "execution_count": 73,
   "id": "5f2b036b-3be6-4e04-9e18-30512cc89baa",
   "metadata": {},
   "outputs": [
    {
     "name": "stdout",
     "output_type": "stream",
     "text": [
      "SOERIU\n",
      "BANC\n"
     ]
    }
   ],
   "source": [
    "from collections import Counter\n",
    "\n",
    "def min_window(s1, s2):\n",
    "    if not s1 or not s2:\n",
    "        return \"\"\n",
    "\n",
    "    # Count the frequency of characters in s2\n",
    "    char_count = Counter(s2)\n",
    "    required = len(char_count)\n",
    "\n",
    "    # Sliding window pointers\n",
    "    left, right = 0, 0\n",
    "    # Formed is the number of unique characters in the current window matching the target\n",
    "    formed = 0\n",
    "\n",
    "    # Dictionary to keep the count of characters in the current window\n",
    "    window_counts = {}\n",
    "\n",
    "    # Result: (window length, left, right)\n",
    "    result = float(\"inf\"), None, None\n",
    "\n",
    "    while right < len(s1):\n",
    "        char = s1[right]\n",
    "        window_counts[char] = window_counts.get(char, 0) + 1\n",
    "\n",
    "        if char in char_count and window_counts[char] == char_count[char]:\n",
    "            formed += 1\n",
    "\n",
    "        # Try to contract the window until it's no longer valid\n",
    "        while left <= right and formed == required:\n",
    "            char = s1[left]\n",
    "\n",
    "            # Update the result if this window is smaller than the previous best\n",
    "            if right - left + 1 < result[0]:\n",
    "                result = (right - left + 1, left, right)\n",
    "\n",
    "            # Remove the character at the left from the window\n",
    "            window_counts[char] -= 1\n",
    "            if char in char_count and window_counts[char] < char_count[char]:\n",
    "                formed -= 1\n",
    "\n",
    "            left += 1\n",
    "\n",
    "        right += 1\n",
    "\n",
    "    return \"\" if result[0] == float(\"inf\") else s1[result[1]:result[2] + 1]\n",
    "\n",
    "# Test cases\n",
    "print(min_window(\"PRWSOERIUSFK\", \"OSU\"))  # Output: \"OERIUS\"\n",
    "print(min_window(\"ADOBECODEBANC\", \"ABC\"))  # Output: \"BANC\"\n"
   ]
  },
  {
   "cell_type": "markdown",
   "id": "c9f86388-ac0d-4677-9c13-5b196bc16c60",
   "metadata": {},
   "source": [
    "76. Substrings with k distinct characters.\n",
    "\n",
    "Write a Python program to count the number of substrings from a given string of lowercase alphabets with exactly k distinct (given) characters."
   ]
  },
  {
   "cell_type": "code",
   "execution_count": 75,
   "id": "c2584707-9a7a-473f-9d2e-67ab185a1f57",
   "metadata": {},
   "outputs": [
    {
     "name": "stdout",
     "output_type": "stream",
     "text": [
      "5\n",
      "10\n"
     ]
    }
   ],
   "source": [
    "def count_k_distinct_substrings(s, k):\n",
    "    def at_most_k_distinct(s, k):\n",
    "        char_count = {}\n",
    "        left = 0\n",
    "        count = 0\n",
    "        for right in range(len(s)):\n",
    "            char_count[s[right]] = char_count.get(s[right], 0) + 1\n",
    "            while len(char_count) > k:\n",
    "                char_count[s[left]] -= 1\n",
    "                if char_count[s[left]] == 0:\n",
    "                    del char_count[s[left]]\n",
    "                left += 1\n",
    "            count += right - left + 1\n",
    "\n",
    "        return count\n",
    "    return at_most_k_distinct(s, k) - at_most_k_distinct(s, k - 1)\n",
    "\n",
    "print(count_k_distinct_substrings(\"abcba\", 2))  # Output: 7\n",
    "print(count_k_distinct_substrings(\"aaaa\", 1))   # Output: 10"
   ]
  },
  {
   "cell_type": "markdown",
   "id": "4a3193f4-cea8-408c-95cf-92342070038e",
   "metadata": {},
   "source": [
    "77. Count non-empty substrings.\n",
    "\n",
    "Write a Python program to count the number of non-empty substrings of a given string."
   ]
  },
  {
   "cell_type": "code",
   "execution_count": 78,
   "id": "a2d75b8f-558c-4728-b1c7-11602d37ac7a",
   "metadata": {},
   "outputs": [
    {
     "name": "stdin",
     "output_type": "stream",
     "text": [
      "Input a string:  w3resource\n"
     ]
    },
    {
     "name": "stdout",
     "output_type": "stream",
     "text": [
      "Number of substrings:\n",
      "55\n"
     ]
    }
   ],
   "source": [
    "def count_non_empty(s):\n",
    "    str_len = len(s)\n",
    "    return int(str_len * (str_len + 1) / 2)\n",
    "\n",
    "str1 = input(\"Input a string: \")\n",
    "print(\"Number of substrings:\")\n",
    "print(count_non_empty(str1))"
   ]
  },
  {
   "cell_type": "markdown",
   "id": "d6a056e7-c405-4897-a835-7317e8f4d874",
   "metadata": {},
   "source": [
    "78. Count chars matching English alphabet position.\n",
    "\n",
    "Write a Python program to count characters at the same position in a given string (lower and uppercase characters) as in the English alphabet."
   ]
  },
  {
   "cell_type": "code",
   "execution_count": 80,
   "id": "b6998903-2be3-4d61-a601-f562f20b4fda",
   "metadata": {},
   "outputs": [
    {
     "name": "stdout",
     "output_type": "stream",
     "text": [
      "2\n"
     ]
    }
   ],
   "source": [
    "def count_match_alpha(s):\n",
    "    count = 0\n",
    "    for i, char in enumerate(s, start = 1):\n",
    "        if char.isalpha() and ord(char.lower()) - ord('a') + 1 == i: \n",
    "        #ord() -> returns ASCII Code Print ord('a') = 97, ord('b') = 98\n",
    "        #ord(char.lower())-ord('a') -> subtract ASCII of 'a' (97) to make ord('a') -> 0, 'b' -> 1\n",
    "        # + 1 -> adjust the position to be 1 instead of 0 'a' -> 1, 'b' -> 2,....\n",
    "            count += 1\n",
    "    return count\n",
    "\n",
    "print(count_match_alpha('xbcefg'))"
   ]
  },
  {
   "cell_type": "markdown",
   "id": "dcc5aa22-727e-4100-a15f-4a8c5ac57279",
   "metadata": {},
   "source": [
    "79. Find smallest and largest words.\n",
    "\n",
    "Write a Python program to find the smallest and largest words in a given string."
   ]
  },
  {
   "cell_type": "code",
   "execution_count": 82,
   "id": "873e4827-20c2-463f-97b4-1dc9f9f464b8",
   "metadata": {},
   "outputs": [
    {
     "name": "stdout",
     "output_type": "stream",
     "text": [
      "Smallest Word: a, Largest Word: Algorithm.\n"
     ]
    }
   ],
   "source": [
    "def smallest_largest_word(s):\n",
    "    words = s.split()\n",
    "    smallest_len, largest_len = len(words[0]), len(words[0])\n",
    "    smallest_word, largest_word = '', ''\n",
    "    for word in words:\n",
    "        if len(word) < smallest_len:\n",
    "            smallest_len = len(word)\n",
    "            smallest_word = word\n",
    "        if len(word) > largest_len:\n",
    "            largest_len = len(word)\n",
    "            largest_word = word\n",
    "    return smallest_word, largest_word\n",
    "\n",
    "smallest_word, largest_word = smallest_largest_word('Write a Java program to sort an array of given integers using Quick sort Algorithm.')\n",
    "print(f'Smallest Word: {smallest_word}, Largest Word: {largest_word}')"
   ]
  },
  {
   "cell_type": "markdown",
   "id": "47643d79-d244-45af-8e77-ec0e8407751c",
   "metadata": {},
   "source": [
    "80. Substrings with same first and last char.\n",
    "\n",
    "Write a Python program to count the number of substrings with the same first and last characters in a given string."
   ]
  },
  {
   "cell_type": "code",
   "execution_count": 84,
   "id": "ccf09fde-1c55-4ac5-900b-89bdf606df6a",
   "metadata": {},
   "outputs": [
    {
     "name": "stdout",
     "output_type": "stream",
     "text": [
      "3\n"
     ]
    }
   ],
   "source": [
    "def substring_with_equal_ends(s):\n",
    "    result = 0\n",
    "    n = len(s)\n",
    "    # Generate all substrings\n",
    "    for i in range(n):\n",
    "        for j in range(i, n):\n",
    "            #Check if ends are equal\n",
    "            if(s[i] == s[j]):\n",
    "                result += 1\n",
    "    return result\n",
    "\n",
    "print(substring_with_equal_ends('abc'))"
   ]
  },
  {
   "cell_type": "markdown",
   "id": "7308fdbb-ff2f-46bc-978a-abb0e20e279e",
   "metadata": {},
   "source": [
    "81. Index of substring or \"Not found\".\n",
    "\n",
    "Write a Python program to determine the index of a given string at which a certain substring starts. If the substring is not found in the given string return 'Not found'."
   ]
  },
  {
   "cell_type": "code",
   "execution_count": 1,
   "id": "b9559a73-1a92-4cf2-9998-a9a0396ac4a5",
   "metadata": {},
   "outputs": [
    {
     "name": "stdout",
     "output_type": "stream",
     "text": [
      "7\n",
      "1\n",
      "Not Found\n"
     ]
    }
   ],
   "source": [
    "def substring_ind(s, substring):\n",
    "    if substring in s:\n",
    "        return s.find(substring)\n",
    "    else:\n",
    "        return 'Not Found'\n",
    "\n",
    "print(substring_ind(\"Python Exercises\", \"Ex\"))\n",
    "print(substring_ind(\"Python Exercises\", \"yt\"))\n",
    "print(substring_ind(\"Python Exercises\", \"PY\"))"
   ]
  },
  {
   "cell_type": "markdown",
   "id": "956933aa-c9f3-48fd-b41d-9b2c821e9652",
   "metadata": {},
   "source": [
    "82. Wrap string into paragraph with width.\n",
    "\n",
    "Write a Python program to wrap a given string into a paragraph with a given width.\n",
    "Sample Output:\n",
    "Input a string: The quick brown fox.\n",
    "Input the width of the paragraph: 10\n",
    "Result:\n",
    "The quick\n",
    "brown fox."
   ]
  },
  {
   "cell_type": "code",
   "execution_count": 2,
   "id": "a1c2a565-b17d-4e4a-88dd-3cfbed41e5d2",
   "metadata": {},
   "outputs": [
    {
     "name": "stdout",
     "output_type": "stream",
     "text": [
      "The quick\n",
      "brown fox.\n"
     ]
    }
   ],
   "source": [
    "import textwrap\n",
    "\n",
    "def wrap_to_width(text, width):\n",
    "    return textwrap.fill(text, width)\n",
    "\n",
    "print(wrap_to_width('The quick brown fox.',10))"
   ]
  },
  {
   "cell_type": "markdown",
   "id": "b1210a27-d8df-4649-86d7-257eff16140b",
   "metadata": {},
   "source": [
    "83. Print number in decimal, octal, hex, binary.\n",
    "\n",
    "Write a Python program to print four integer values - decimal, octal, hexadecimal (capitalized), binary - in a single line.\n",
    "Sample Output:\n",
    "Input an integer: 25\n",
    "Decimal Octal Hexadecimal (capitalized), Binary\n",
    "25 31 19 11001"
   ]
  },
  {
   "cell_type": "code",
   "execution_count": 4,
   "id": "5001af47-6795-47ef-833b-947d363c7d86",
   "metadata": {},
   "outputs": [
    {
     "name": "stdin",
     "output_type": "stream",
     "text": [
      "Input an integer:  25\n"
     ]
    },
    {
     "name": "stdout",
     "output_type": "stream",
     "text": [
      "Decimal 25 Octal 31 Hexadecimal 19 Binary 11001\n"
     ]
    }
   ],
   "source": [
    "n = int(input('Input an integer: '))\n",
    "def change_num(n):\n",
    "    hexadecimaln = hex(n).replace('0x','')\n",
    "    octaln = oct(n).replace('0o','')\n",
    "    binaryn = bin(n).replace('0b','')\n",
    "    print(f'Decimal {n} Octal {octaln} Hexadecimal {hexadecimaln} Binary {binaryn}')\n",
    "\n",
    "change_num(n)"
   ]
  },
  {
   "cell_type": "markdown",
   "id": "a9a03551-3981-4f3d-b372-808b80590ebb",
   "metadata": {},
   "source": [
    "Write a  Python program to swap cases in a given string.\n",
    "Sample Output:\n",
    " pYTHON eXERCISES\n",
    "jAVA\n",
    "nUMpY"
   ]
  },
  {
   "cell_type": "code",
   "execution_count": 8,
   "id": "ba5ac116-8628-4ff7-a125-9ed1ad580039",
   "metadata": {},
   "outputs": [
    {
     "name": "stdout",
     "output_type": "stream",
     "text": [
      "pYTHON eXERCISES\n",
      "jAVA\n",
      "nUMPY\n"
     ]
    }
   ],
   "source": [
    "def swap_cases(s):\n",
    "    result = []\n",
    "    for i in s:\n",
    "        if i == i.upper():\n",
    "            result.append(i.lower())\n",
    "        else:\n",
    "            result.append(i.upper())\n",
    "    return ''.join(result)\n",
    "    \n",
    "print(swap_cases('Python Exercises'))\n",
    "print(swap_cases('Java'))\n",
    "print(swap_cases('Numpy'))"
   ]
  },
  {
   "cell_type": "markdown",
   "id": "fc2ce033-122e-4db2-8929-caea150d9d02",
   "metadata": {},
   "source": [
    "85. Bytearray to hexadecimal string.\n",
    "\n",
    "Write a Python program to convert a given Bytearray to a Hexadecimal string.\n",
    "Sample Output:\n",
    "Original Bytearray :\n",
    "[111, 12, 45, 67, 109]\n",
    "Hexadecimal string:\n",
    "6f0c2d436d"
   ]
  },
  {
   "cell_type": "code",
   "execution_count": 9,
   "id": "721e504e-6ce7-413e-8718-999c28a4b2a8",
   "metadata": {},
   "outputs": [
    {
     "name": "stdout",
     "output_type": "stream",
     "text": [
      "6f0c2d436d\n"
     ]
    }
   ],
   "source": [
    "def byte_to_hex(byte_arr):\n",
    "    result = ''.join('{:02x}'.format(x) for x in byte_arr)\n",
    "    return result\n",
    "\n",
    "list_val = [111, 12, 45, 67, 109]\n",
    "print(byte_to_hex(list_val))"
   ]
  },
  {
   "cell_type": "markdown",
   "id": "2adda85c-9e1d-499c-9fd7-b5df196cb8dc",
   "metadata": {},
   "source": [
    "Write a Python program to delete all occurrences of a specified character in a given string.\n",
    "Sample Output:\n",
    "Original string:\n",
    "Delete all occurrences of a specified character in a given string\n",
    "Modified string:\n",
    "Delete ll occurrences of specified chrcter in given string"
   ]
  },
  {
   "cell_type": "code",
   "execution_count": 10,
   "id": "5ad7be31-89e9-48c3-ac6c-048d0f5dce35",
   "metadata": {},
   "outputs": [
    {
     "name": "stdout",
     "output_type": "stream",
     "text": [
      "Delete ll occurrences of  specified chrcter in  given string\n"
     ]
    }
   ],
   "source": [
    "def delete_char(s, c):\n",
    "    return ''.join(char for char in s if char != c)\n",
    "\n",
    "print(delete_char('Delete all occurrences of a specified character in a given string', 'a'))"
   ]
  },
  {
   "cell_type": "markdown",
   "id": "ba0a8959-c574-4ecd-8c5d-25821a1554e7",
   "metadata": {},
   "source": [
    "87. Find common values in two strings.\n",
    "\n",
    "Write a Python program to find the common values that appear in two given strings.\n",
    "Sample Output:\n",
    "Original strings:\n",
    "Python3\n",
    "Python2.7\n",
    "Intersection of two said String:\n",
    "Python"
   ]
  },
  {
   "cell_type": "code",
   "execution_count": 12,
   "id": "4f922f84-e87b-405d-bc73-e139b6924884",
   "metadata": {},
   "outputs": [
    {
     "name": "stdout",
     "output_type": "stream",
     "text": [
      "Python\n"
     ]
    }
   ],
   "source": [
    "def common_strings(s1, s2):\n",
    "    result = []\n",
    "    for c1 in s1:\n",
    "        if c1 in s2:\n",
    "            \tresult.append(c1)\n",
    "    return ''.join(result)\n",
    "\n",
    "print(common_strings('Python3','Python2.7'))"
   ]
  },
  {
   "cell_type": "markdown",
   "id": "2cd8e036-65f5-4722-b901-bfe83db61046",
   "metadata": {},
   "source": [
    "Write a Python program to check whether a given string contains a capital letter, a lower case letter, a number and a minimum length.\n",
    "Sample Output:\n",
    "Input the string: W3resource\n",
    "['Valid string.']"
   ]
  },
  {
   "cell_type": "code",
   "execution_count": 13,
   "id": "3853796a-de52-4c8e-b55f-2a8f7dcacecd",
   "metadata": {},
   "outputs": [
    {
     "name": "stdout",
     "output_type": "stream",
     "text": [
      "Valid String\n"
     ]
    }
   ],
   "source": [
    "def validate_string(s):\n",
    "    if not any(c.upper() for c in s):\n",
    "        return 'Must have an upper case character.'\n",
    "    if not any(c.lower() for c in s):\n",
    "        return 'Must have a lower case character.'\n",
    "    if not any(c.isdigit() for c in s):\n",
    "        return 'Must have a digit.'\n",
    "    if len(s) < 8:\n",
    "        return 'Must be longer than 8 characters.'\n",
    "    else:\n",
    "        return 'Valid String'\n",
    "\n",
    "print(validate_string('W3resource'))"
   ]
  },
  {
   "cell_type": "markdown",
   "id": "e495087a-95de-47db-9491-8987ebf7fa6a",
   "metadata": {},
   "source": [
    "89. Remove unwanted characters in string.\n",
    "\n",
    "Write a Python program to remove unwanted characters from a given string.\n",
    "Sample Output:\n",
    "Original String : Pyth*^on Exercis^es\n",
    "After removing unwanted characters:\n",
    "Python Exercises\n",
    "Original String : A%^!B#*CD\n",
    "After removing unwanted characters:\n",
    "ABCD"
   ]
  },
  {
   "cell_type": "code",
   "execution_count": 16,
   "id": "bb3b2e13-7e51-4fbb-bebe-ec52069e225a",
   "metadata": {},
   "outputs": [
    {
     "name": "stdout",
     "output_type": "stream",
     "text": [
      "Python Exercises\n",
      "ABCD\n"
     ]
    }
   ],
   "source": [
    "def remove_unwanted(s, unwanted_char):\n",
    "    for i in unwanted_char:\n",
    "        s = s.replace(i, '')\n",
    "    return s\n",
    "\n",
    "unwanted_chars = [\"#\", \"*\", \"!\", \"^\", \"%\"]\n",
    "print(remove_unwanted(\"Pyth*^on Exercis^es\",unwanted_chars))\n",
    "print(remove_unwanted(\"A%^!B#*CD\",unwanted_chars))"
   ]
  },
  {
   "cell_type": "markdown",
   "id": "56967e7b-3d21-4065-91a2-a465c9ac04bb",
   "metadata": {},
   "source": [
    "90. Remove duplicate words in string.\n",
    "\n",
    "Write a Python program to remove duplicate words from a given string.\n",
    "Sample Output:\n",
    "Original String:\n",
    "Python Exercises Practice Solution Exercises\n",
    "After removing duplicate words from the said string:\n",
    "Python Exercises Practice Solution"
   ]
  },
  {
   "cell_type": "code",
   "execution_count": 18,
   "id": "605a9bd5-98a8-4cab-a8e5-a86d752db0a3",
   "metadata": {},
   "outputs": [
    {
     "name": "stdout",
     "output_type": "stream",
     "text": [
      "Python Exercises Practice Solution\n"
     ]
    }
   ],
   "source": [
    "def remove_dupes(s):\n",
    "    lst = s.split()\n",
    "    result = []\n",
    "    for word in lst:\n",
    "        if word not in result:\n",
    "            result.append(word)\n",
    "    return ' '.join(result)\n",
    "\n",
    "print(remove_dupes('Python Exercises Practice Solution Exercises'))"
   ]
  },
  {
   "cell_type": "markdown",
   "id": "c567c0ef-3720-472d-835f-4d2d6dbef7d1",
   "metadata": {},
   "source": [
    "91. Convert heterogeneous list to string.\n",
    "\n",
    "Write a Python program to convert a given heterogeneous list of scalars into a string.\n",
    "Sample Output:\n",
    "Original list:\n",
    "['Red', 100, -50, 'green', 'w,3,r', 12.12, False]\n",
    "Convert the heterogeneous list of scalars into a string:\n",
    "Red,100,-50,green,w,3,r,12.12,False"
   ]
  },
  {
   "cell_type": "code",
   "execution_count": 21,
   "id": "c85c854c-28e1-44cc-b88e-11e93782e6b7",
   "metadata": {},
   "outputs": [
    {
     "name": "stdout",
     "output_type": "stream",
     "text": [
      "Red,100,-50,green,w,3,r,12.12,False\n"
     ]
    }
   ],
   "source": [
    "def list_to_string(lst):\n",
    "    result = []\n",
    "    for ele in lst:\n",
    "        result.append(str(ele))\n",
    "    return ','.join(result)\n",
    "\n",
    "ilst = ['Red', 100, -50, 'green', 'w,3,r', 12.12, False]\n",
    "\n",
    "print(list_to_string(ilst))"
   ]
  },
  {
   "cell_type": "markdown",
   "id": "7d67e459-f40b-4221-a314-0126735e6485",
   "metadata": {},
   "source": [
    "Write a Python program to find string similarity between two given strings.\n",
    "\n",
    "Sample Output:\n",
    "Original string:\n",
    "Python Exercises\n",
    "Python Exercises\n",
    "Similarity between two said strings:\n",
    "1.0\n",
    "Original string:\n",
    "Python Exercises\n",
    "Python Exercise\n",
    "Similarity between two said strings:\n",
    "0.967741935483871\n",
    "Original string:\n",
    "Python Exercises\n",
    "Python Ex.\n",
    "Similarity between two said strings:\n",
    "0.6923076923076923\n",
    "Original string:\n",
    "Python Exercises\n",
    "Python\n",
    "Similarity between two said strings:\n",
    "0.5454545454545454\n",
    "Original string:\n",
    "Java Exercises\n",
    "Python\n",
    "Similarity between two said strings:\n",
    "0.0"
   ]
  },
  {
   "cell_type": "code",
   "execution_count": 2,
   "id": "37283bb1-43cb-468a-9699-5e6b2dfcc47d",
   "metadata": {},
   "outputs": [
    {
     "name": "stdout",
     "output_type": "stream",
     "text": [
      "1.0\n",
      "0.967741935483871\n",
      "0.6923076923076923\n",
      "0.5454545454545454\n"
     ]
    }
   ],
   "source": [
    "import difflib\n",
    "\n",
    "def string_similarity(s1, s2):\n",
    "    result = difflib.SequenceMatcher(a = s1.lower(), b = s2.lower())\n",
    "    return result.ratio()\n",
    "\n",
    "print(string_similarity('Python Exercises','Python Exercises'))\n",
    "print(string_similarity('Python Exercises','Python Exercise'))\n",
    "print(string_similarity('Python Exercises','Python Ex.'))\n",
    "print(string_similarity('Python Exercises','Python'))"
   ]
  },
  {
   "cell_type": "markdown",
   "id": "1ae0600b-f36d-449e-a305-e82c54840ec0",
   "metadata": {},
   "source": [
    "Write a Python program to extract numbers from a given string.\n",
    "Sample Output:\n",
    "Original string: red 12 black 45 green\n",
    "Extract numbers from the said string: [12, 45]"
   ]
  },
  {
   "cell_type": "code",
   "execution_count": 25,
   "id": "45ec4c47-6100-48e7-ba45-9aac39a11d82",
   "metadata": {},
   "outputs": [
    {
     "name": "stdout",
     "output_type": "stream",
     "text": [
      "[12, 45]\n"
     ]
    }
   ],
   "source": [
    "def numbers_from_strings(s):\n",
    "    lst = s.split()\n",
    "    nums = []\n",
    "    for word in lst:\n",
    "        if word.isdigit():\n",
    "            nums.append(int(word))\n",
    "    return nums\n",
    "\n",
    "print(numbers_from_strings('red 12 black 45 green'))"
   ]
  },
  {
   "cell_type": "markdown",
   "id": "ab23d2e9-0ab0-472e-a344-3282a2c5dfd0",
   "metadata": {},
   "source": [
    "Write a Python program to convert a hexadecimal color code to a tuple of integers corresponding to its RGB components.\n",
    "\n",
    "Sample Output:\n",
    "(255, 165, 1)\n",
    "(255, 255, 255)\n",
    "(0, 0, 0)\n",
    "(255, 0, 0)\n",
    "(0, 0, 128)\n",
    "(192, 192, 192)"
   ]
  },
  {
   "cell_type": "code",
   "execution_count": 26,
   "id": "5ce8de42-ae35-49fc-8d0d-02785d71463a",
   "metadata": {},
   "outputs": [
    {
     "name": "stdout",
     "output_type": "stream",
     "text": [
      "(255, 165, 1)\n",
      "(255, 255, 255)\n",
      "(0, 0, 0)\n",
      "(255, 0, 0)\n",
      "(0, 0, 128)\n",
      "(192, 192, 192)\n"
     ]
    }
   ],
   "source": [
    "def hex_to_rgb(hex):\n",
    "    return tuple(int(hex[i:i+2], 16) for i in (0, 2, 4))\n",
    "\n",
    "print(hex_to_rgb('FFA501'))\n",
    "print(hex_to_rgb('FFFFFF'))\n",
    "print(hex_to_rgb('000000'))\n",
    "print(hex_to_rgb('FF0000'))\n",
    "print(hex_to_rgb('000080'))\n",
    "print(hex_to_rgb('C0C0C0')) "
   ]
  },
  {
   "cell_type": "markdown",
   "id": "ecce2a55-5fa2-4483-88bb-a1d2c8c7edf3",
   "metadata": {},
   "source": [
    "Write a Python program to convert the values of RGB components to a hexadecimal color code.\n",
    "Sample Output:\n",
    "FFA501\n",
    "FFFFFF\n",
    "000000\n",
    "000080\n",
    "C0C0C0"
   ]
  },
  {
   "cell_type": "code",
   "execution_count": 27,
   "id": "90d0f28c-aa91-4bf7-b01e-4fdf6dc0011b",
   "metadata": {},
   "outputs": [
    {
     "name": "stdout",
     "output_type": "stream",
     "text": [
      "FFA501\n",
      "FFFFFF\n",
      "000000\n",
      "000080\n",
      "C0C0C0\n"
     ]
    }
   ],
   "source": [
    "def rgb_to_hex(r, g, b):\n",
    "    return ('{:02X}' * 3).format(r, g, b)\n",
    "\t\n",
    "print(rgb_to_hex(255, 165, 1))\n",
    "print(rgb_to_hex(255, 255, 255))\n",
    "print(rgb_to_hex(0, 0, 0))\n",
    "print(rgb_to_hex(0, 0, 128))\n",
    "print(rgb_to_hex(192, 192, 192)) "
   ]
  },
  {
   "cell_type": "markdown",
   "id": "d92ef3de-ebc5-4545-a847-9073ea12e848",
   "metadata": {},
   "source": [
    "Write a Python program to convert a given string to Camelcase.\n",
    "Sample Output:\n",
    "javascript\n",
    "fooBar\n",
    "fooBar\n",
    "foo.Bar\n",
    "fooBar\n",
    "foobar\n",
    "fooBar"
   ]
  },
  {
   "cell_type": "code",
   "execution_count": 31,
   "id": "982fd913-64e5-445a-92dd-ac06c7a5e61e",
   "metadata": {},
   "outputs": [
    {
     "name": "stdout",
     "output_type": "stream",
     "text": [
      "s : JavaScript\n",
      "s : Javascript\n",
      "javascript\n",
      "s : Foo-Bar\n",
      "s : FooBar\n",
      "fooBar\n",
      "s : foo_bar\n",
      "s : FooBar\n",
      "fooBar\n",
      "s : --foo.bar\n",
      "s : Foo.Bar\n",
      "foo.Bar\n",
      "s : Foo-BAR\n",
      "s : FooBar\n",
      "fooBar\n",
      "s : fooBAR\n",
      "s : Foobar\n",
      "foobar\n",
      "s : foo bar\n",
      "s : FooBar\n",
      "fooBar\n"
     ]
    }
   ],
   "source": [
    "from re import sub\n",
    "def camel_case(s):\n",
    "    print('s :',s)\n",
    "    s = sub(r\"(_|-)+\", \" \", s).title().replace(\" \", \"\")\n",
    "    print('s :',s)\n",
    "    return ''.join([s[0].lower(), s[1:]])\n",
    "\n",
    "print(camel_case('JavaScript'))\n",
    "print(camel_case('Foo-Bar'))\n",
    "print(camel_case('foo_bar'))\n",
    "print(camel_case('--foo.bar'))\n",
    "print(camel_case('Foo-BAR'))\n",
    "print(camel_case('fooBAR'))\n",
    "print(camel_case('foo bar')) "
   ]
  },
  {
   "cell_type": "markdown",
   "id": "8cb768bb-8c78-4689-8989-09f92864b5bb",
   "metadata": {},
   "source": [
    "Write a  Python program to convert a given string to Snake case.\n",
    "Sample Output:\n",
    "java_script\n",
    "foo_bar\n",
    "foo_bar\n",
    "foo.bar\n",
    "foo_bar\n",
    "foo_bar\n",
    "foo_bar"
   ]
  },
  {
   "cell_type": "code",
   "execution_count": 32,
   "id": "b7b002e8-ca3f-4989-bf38-5d08b97e2b9b",
   "metadata": {},
   "outputs": [
    {
     "name": "stdout",
     "output_type": "stream",
     "text": [
      "java_script\n",
      "foo_bar\n",
      "foo_bar\n",
      "foo.bar\n",
      "foo_bar\n",
      "foo_bar\n",
      "foo_bar\n"
     ]
    }
   ],
   "source": [
    "from re import sub\n",
    "def snake_case(s):\n",
    "    return '_'.join(\n",
    "        sub('([A-Z][a-z]+)', r' \\1',\n",
    "        sub('([A-Z]+)', r' \\1',\n",
    "        s.replace('-', ' '))).split()).lower()\n",
    "\n",
    "print(snake_case('JavaScript'))\n",
    "print(snake_case('Foo-Bar'))\n",
    "print(snake_case('foo_bar'))\n",
    "print(snake_case('--foo.bar'))\n",
    "print(snake_case('Foo-BAR'))\n",
    "print(snake_case('fooBAR'))\n",
    "print(snake_case('foo bar')) "
   ]
  },
  {
   "cell_type": "markdown",
   "id": "819c9507-a69a-4caa-bbae-ddf557233f91",
   "metadata": {},
   "source": [
    "Write a Python program to decapitalize the first letter of a given string.\n",
    "\n",
    "Sample Output:\n",
    "java  Script\n",
    "python"
   ]
  },
  {
   "cell_type": "code",
   "execution_count": 33,
   "id": "ef4e6e07-4b88-4fe0-b4bf-71f4d3dc7943",
   "metadata": {},
   "outputs": [
    {
     "name": "stdout",
     "output_type": "stream",
     "text": [
      "java Script\n",
      "python\n"
     ]
    }
   ],
   "source": [
    "def decapitalize_first_letter(s):\n",
    "    return s[0].lower() + s[1:]\n",
    "\n",
    "print(decapitalize_first_letter('Java Script'))\n",
    "print(decapitalize_first_letter('Python'))"
   ]
  },
  {
   "cell_type": "markdown",
   "id": "5e2ab222-bb3a-4037-8595-556fab410a19",
   "metadata": {},
   "source": [
    "Write a Python program to split a multi-line string into a list of lines.\n",
    "\n",
    "Sample Output:\n",
    "Original string: This\n",
    "is a\n",
    "multiline\n",
    "string.\n",
    "Split the said multiline string into a list of lines:\n",
    "['This', 'is a', 'multiline', 'string.', '']"
   ]
  },
  {
   "cell_type": "code",
   "execution_count": 34,
   "id": "1626546e-108e-4873-b984-a69c5127426b",
   "metadata": {},
   "outputs": [
    {
     "name": "stdout",
     "output_type": "stream",
     "text": [
      "['This', 'is a', 'multiline', 'string.', '']\n"
     ]
    }
   ],
   "source": [
    "def multiline_to_lines(s):\n",
    "    lst = s.split('\\n')\n",
    "    return lst\n",
    "\n",
    "text = '''This\n",
    "is a\n",
    "multiline\n",
    "string.\n",
    "'''\n",
    "print(multiline_to_lines(text))"
   ]
  },
  {
   "cell_type": "markdown",
   "id": "440be18f-b406-42bb-9b8e-5ac905e90567",
   "metadata": {},
   "source": [
    "100. Check words for duplicate characters.\n",
    "\n",
    "Write a Python program to check whether any word in a given string contains duplicate characters or not. Return True or False."
   ]
  },
  {
   "cell_type": "code",
   "execution_count": 37,
   "id": "b30acbfd-ca81-42de-a573-d53e03eac92e",
   "metadata": {},
   "outputs": [
    {
     "name": "stdout",
     "output_type": "stream",
     "text": [
      "False\n",
      "False\n",
      "True\n"
     ]
    }
   ],
   "source": [
    "def duplicate_char(s):\n",
    "    lst = s.split()\n",
    "    for word in lst:\n",
    "        if len(word) > len(set(word)):\n",
    "            return False\n",
    "    return True\n",
    "\n",
    "print(duplicate_char('Filter out the factorials of the said list.'))\n",
    "print(duplicate_char('Python Exercise.'))\n",
    "print(duplicate_char('The wait is over.'))"
   ]
  },
  {
   "cell_type": "markdown",
   "id": "e78dc36e-7cbb-4924-99c5-7a08791a7c75",
   "metadata": {},
   "source": [
    "Write a Python program to add two strings as if they were numbers (positive integer values). Return a message if the numbers are strings.\n",
    "Sample Output:\n",
    "42\n",
    "Error in input!\n",
    "Error in input!"
   ]
  },
  {
   "cell_type": "code",
   "execution_count": 38,
   "id": "dc6ff793-82cc-43e0-884f-1854f0c3b26f",
   "metadata": {},
   "outputs": [
    {
     "name": "stdout",
     "output_type": "stream",
     "text": [
      "42\n",
      "Error in input!\n",
      "Error in input!\n"
     ]
    }
   ],
   "source": [
    "def add_two_strings(s1, s2):\n",
    "    if s1.isdigit() and s2.isdigit():\n",
    "        return int(s1) + int(s2)\n",
    "    else:\n",
    "        return 'Error in input!'\n",
    "\n",
    "print(add_two_strings(\"10\", \"32\"))\n",
    "print(add_two_strings(\"10\", \"22.6\"))\n",
    "print(add_two_strings(\"100\", \"-200\")) "
   ]
  },
  {
   "cell_type": "markdown",
   "id": "fead4e97-d635-46a5-8657-f65d10c8738b",
   "metadata": {},
   "source": [
    "Write a Python program to remove punctuation from a given string.\n",
    "\n",
    "Sample Output:\n",
    "Original text:\n",
    "String! With. Punctuation?\n",
    "After removing Punctuations from the said string:\n",
    "String With Punctuation"
   ]
  },
  {
   "cell_type": "code",
   "execution_count": 39,
   "id": "89957e36-6dd1-43ec-aa19-dcd47d253f14",
   "metadata": {},
   "outputs": [
    {
     "name": "stdout",
     "output_type": "stream",
     "text": [
      "String With Punctuation\n"
     ]
    }
   ],
   "source": [
    "import string\n",
    "\n",
    "def remove_punctuations(s):\n",
    "    return ''.join([c for c in s if c not in string.punctuation])\n",
    "\n",
    "print(remove_punctuations('String! With. Punctuation?'))"
   ]
  },
  {
   "cell_type": "markdown",
   "id": "3de1d2f1-8333-4ee8-8731-6286141d5626",
   "metadata": {},
   "source": [
    "Write a Python program to replace each character of a word of length five and more with a hash character (#).\n",
    "\n",
    "Sample Output:\n",
    "Original string: Count the lowercase letters in the said list of words:\n",
    "Replace words (length five or more) with hash characters in the said string:\n",
    "##### the ######### ####### in the said list of ######\n",
    "Original string: Python - Remove punctuations from a string:\n",
    "Replace words (length five or more) with hash characters in the said string:\n",
    "###### - ###### ############ from a #######"
   ]
  },
  {
   "cell_type": "code",
   "execution_count": 49,
   "id": "4a738ca4-a61f-45d7-a9ac-37b2ecb9d375",
   "metadata": {},
   "outputs": [
    {
     "name": "stdout",
     "output_type": "stream",
     "text": [
      "##### the ######### ####### in the said list of ######\n",
      "###### ############ from a #######\n"
     ]
    }
   ],
   "source": [
    "def replace_with_hash(s):\n",
    "    lst = s.split()\n",
    "    result = []\n",
    "    for word in lst:\n",
    "        stripped_word = word.strip(string.punctuation)\n",
    "        if len(word) >= 5:\n",
    "            result.append('#' * len(word))\n",
    "        else:\n",
    "            result.append(word)\n",
    "    return ' '.join(result)\n",
    "\n",
    "print(replace_with_hash('Count the lowercase letters in the said list of words.'))\n",
    "print(replace_with_hash('Remove punctuations from a string:'))"
   ]
  },
  {
   "cell_type": "markdown",
   "id": "f12e7213-b91a-46a2-8116-1b28c2c4250b",
   "metadata": {},
   "source": [
    "Write a Python program that capitalizes the first letter and lowercases the remaining letters in a given string.\n",
    "\n",
    "Sample Data:\n",
    "(\"Red Green WHITE\") -> \"Red Green White\"\n",
    "(\"w3resource\") -> \"W3resource\"\n",
    "(\"dow jones industrial average\") -> \"Dow Jones Industrial Average\""
   ]
  },
  {
   "cell_type": "code",
   "execution_count": 54,
   "id": "d5c51916-1d19-43b2-8a33-1f58c8e42b87",
   "metadata": {},
   "outputs": [
    {
     "name": "stdout",
     "output_type": "stream",
     "text": [
      "Red Green White\n",
      "W3resource\n",
      "Dow Jones Industrial Average\n"
     ]
    }
   ],
   "source": [
    "def capitalize_first_all_words(s):\n",
    "    result = []\n",
    "    lst = s.split()\n",
    "    for word in lst:\n",
    "        new_word = word[0].upper() + word[1:].lower()\n",
    "        result.append(new_word)\n",
    "    return ' '.join(result)\n",
    "\n",
    "print(capitalize_first_all_words('Red Green WHITE'))\n",
    "print(capitalize_first_all_words('w3resource'))\n",
    "print(capitalize_first_all_words('dow jones industrial average'))"
   ]
  },
  {
   "cell_type": "markdown",
   "id": "61331f09-7218-4ea0-b84d-4e39c6f5053f",
   "metadata": {},
   "source": [
    "Write a Python program to extract and display the name from a given Email address.\n",
    "Sample Data:\n",
    "(\"john@example.com\") -> (\"john\")\n",
    "(\"john.smith@example.com\") -> (\"johnsmith\")\n",
    "(\"fully-qualified-domain@example.com\") -> (\"fullyqualifieddomain\")"
   ]
  },
  {
   "cell_type": "code",
   "execution_count": 57,
   "id": "ac763fa8-5dc2-49e1-b529-9e6c914abb84",
   "metadata": {},
   "outputs": [
    {
     "name": "stdout",
     "output_type": "stream",
     "text": [
      "john\n",
      "johnsmith\n",
      "fullyqualifieddomain\n"
     ]
    }
   ],
   "source": [
    "import string\n",
    "\n",
    "def names_from_emails(s):\n",
    "    lst = s.split('@')\n",
    "    return ''.join(c for c in lst[0] if c not in string.punctuation)\n",
    "\n",
    "print(names_from_emails('john@example.com'))\n",
    "print(names_from_emails('john.smith@example.com'))\n",
    "print(names_from_emails('fully-qualified-domain@example.com'))"
   ]
  },
  {
   "cell_type": "markdown",
   "id": "4385e7b9-5d26-4bb2-829a-06576ed02867",
   "metadata": {},
   "source": [
    "Write a Python program to remove repeated consecutive characters and replace them with single letters and print a updated string.\n",
    "Sample Data:\n",
    "(\"Red Green White\") -> \"Red Gren White\"\n",
    "(\"aabbbcdeffff\") -> \"abcdef\"\n",
    "(\"Yellowwooddoor\") -> \"Yelowodor\""
   ]
  },
  {
   "cell_type": "code",
   "execution_count": 65,
   "id": "08401211-3500-44a1-b761-877cfce18162",
   "metadata": {},
   "outputs": [
    {
     "name": "stdout",
     "output_type": "stream",
     "text": [
      "Red Gren White\n",
      "abcdef\n",
      "Yelowdr\n"
     ]
    }
   ],
   "source": [
    "def remove_rep_char(s):\n",
    "    lst = s.split()\n",
    "    result = []\n",
    "    for word in lst:\n",
    "        result_str = ''\n",
    "        for c in word:\n",
    "            if c not in result_str:\n",
    "                result_str += c\n",
    "        result.append(result_str)\n",
    "    return ' '.join(result)\n",
    "\n",
    "print(remove_rep_char('Red Green White'))\n",
    "print(remove_rep_char('aabbbcdeffff'))\n",
    "print(remove_rep_char('Yellowwooddoor'))"
   ]
  },
  {
   "cell_type": "markdown",
   "id": "03e34a97-4ad8-4cdd-abdd-071d97746f8f",
   "metadata": {},
   "source": [
    "107. Count matches of three letters at same index.\n",
    "\n",
    "Write a Python program that takes two strings. Count the number of times each string contains the same three letters at the same index.\n",
    "Sample Data:\n",
    "(\"Red RedGreen\") -> 1\n",
    "(\"Red White Red White) -> 7\n",
    "(\"Red White White Red\") -> 0"
   ]
  },
  {
   "cell_type": "code",
   "execution_count": 68,
   "id": "511f23a7-1b63-4857-931a-9573b4d54bfd",
   "metadata": {},
   "outputs": [
    {
     "name": "stdout",
     "output_type": "stream",
     "text": [
      "1\n",
      "7\n",
      "0\n"
     ]
    }
   ],
   "source": [
    "def three_letter_match(s1, s2):\n",
    "    counter = 0\n",
    "    for i in range(len(s1) - 2):\n",
    "        if s1[i:i+3] == s2[i:i+3]:\n",
    "            counter += 1\n",
    "    return counter\n",
    "\n",
    "print(three_letter_match('Red','RedGreen'))\n",
    "print(three_letter_match('Red White','Red White'))\n",
    "print(three_letter_match('Red White','White Red'))"
   ]
  },
  {
   "cell_type": "markdown",
   "id": "e255242a-7242-4d03-98f1-b6b2512ada02",
   "metadata": {},
   "source": [
    "108. Add hashes around non-vowels.\n",
    "\n",
    "Write a  Python program that takes a string and returns # on both sides of each element, which are not vowels.\n",
    "Sample Data:\n",
    "(\"Green\" -> \"-G--r-ee-n-\"\n",
    "(\"White\") -> \"-W--h-i-t-e\"\n",
    "(\"aeiou\") -> \"aeiou\""
   ]
  },
  {
   "cell_type": "code",
   "execution_count": 71,
   "id": "068c63a8-fd75-4bbf-911e-d0d501fa0f66",
   "metadata": {},
   "outputs": [
    {
     "name": "stdout",
     "output_type": "stream",
     "text": [
      "#G##r#ee#n#\n",
      "#W##h#i#t#e\n",
      "aeiou\n"
     ]
    }
   ],
   "source": [
    "def vowel_hash(s):\n",
    "    vowels = ['a','e','i','o','u']\n",
    "    result = []\n",
    "    for c in s:\n",
    "        if c not in vowels:\n",
    "            result.append('#' + c + '#')\n",
    "        else:\n",
    "            result.append(c)\n",
    "    return ''.join(result)\n",
    "\n",
    "print(vowel_hash('Green'))\n",
    "print(vowel_hash('White'))\n",
    "print(vowel_hash('aeiou'))"
   ]
  },
  {
   "cell_type": "markdown",
   "id": "c7e452a3-6d03-47a2-8922-5acf82f11e47",
   "metadata": {},
   "source": [
    "109. Count leap years in a year range.\n",
    "\n",
    "Write a Python program that counts the number of leap years within the range of years. Ranges of years should be accepted as strings.\n",
    "Sample Data:\n",
    "(\"1981-1991\") -> 2\n",
    "(\"2000-2020\") -> 6"
   ]
  },
  {
   "cell_type": "code",
   "execution_count": 73,
   "id": "c91c9a9c-5c96-4e78-9119-2e8036a1e04f",
   "metadata": {},
   "outputs": [
    {
     "name": "stdout",
     "output_type": "stream",
     "text": [
      "2\n",
      "5\n"
     ]
    }
   ],
   "source": [
    "def leap_year(s):\n",
    "    start_year, end_year = map(int, s.split('-'))\n",
    "    return sum(is_leap_year(year) for year in range(start_year, end_year))\n",
    "\n",
    "def is_leap_year(y):\n",
    "    if y % 400 == 0:\n",
    "        return True\n",
    "    if y % 100 == 0:\n",
    "        return True\n",
    "    if y % 4 == 0:\n",
    "        return True\n",
    "    else:\n",
    "        return False\n",
    "\n",
    "print(leap_year('1981-1991'))\n",
    "print(leap_year('2000-2020'))"
   ]
  },
  {
   "cell_type": "markdown",
   "id": "a3ec9894-698e-417c-b7d2-16dab43025c3",
   "metadata": {},
   "source": [
    "110. Insert space before capital letters.\n",
    "\n",
    "Write a Python program to insert space before every capital letter appears in a given word.\n",
    "Sample Data:\n",
    "(\"PythonExercises\") -> \"Python Exercises\"\n",
    "(\"Python\") -> \"Python\"\n",
    "(\"PythonExercisesPracticeSolution\") -> \"Python Exercises Practice Solution\""
   ]
  },
  {
   "cell_type": "code",
   "execution_count": 76,
   "id": "935f3f5b-369b-4113-8b91-8373f2f5229e",
   "metadata": {},
   "outputs": [
    {
     "name": "stdout",
     "output_type": "stream",
     "text": [
      "Python Exercises\n",
      "Python\n",
      "Python Exercises Practice Solution\n"
     ]
    }
   ],
   "source": [
    "def insert_spaces(s):\n",
    "    lst = list(s)\n",
    "    result = []\n",
    "    result.append(lst[0])\n",
    "    for c in lst[1:]:\n",
    "        if c.upper() == c:\n",
    "            result.append(' ' + c)\n",
    "        else:\n",
    "            result.append(c)\n",
    "    return ''.join(result)\n",
    "\n",
    "print(insert_spaces('PythonExercises'))\n",
    "print(insert_spaces('Python'))\n",
    "print(insert_spaces('PythonExercisesPracticeSolution'))          "
   ]
  },
  {
   "cell_type": "markdown",
   "id": "b74f7ebd-526c-4f37-be0b-71030bbebcb3",
   "metadata": {},
   "source": [
    "Write a Python program that takes a string and replaces all the characters with their respective numbers.\n",
    "Sample Data:\n",
    "(\"Python\") -> \"16 25 20 8 15 14\"\n",
    "(\"Java\") -> \"10 1 22 1\"\n",
    "(\"Python Tutorial\") -> \"16 25 20 8 15 14 20 21 20 15 18 9 1 12\""
   ]
  },
  {
   "cell_type": "code",
   "execution_count": 79,
   "id": "241e6fc3-66ed-4b86-b353-3d35850e2d47",
   "metadata": {},
   "outputs": [
    {
     "name": "stdout",
     "output_type": "stream",
     "text": [
      "16 25 20 8 15 14\n",
      "10 1 22 1\n",
      "16 25 20 8 15 14 20 21 20 15 18 9 1 12\n"
     ]
    }
   ],
   "source": [
    "def string_to_num(s):\n",
    "    return ' '.join(str(ord(c) - 96) for c in s.lower() if c.isalpha())\n",
    "\n",
    "print(string_to_num('Python'))\n",
    "print(string_to_num('Java'))\n",
    "print(string_to_num('Python Tutorial'))"
   ]
  },
  {
   "cell_type": "markdown",
   "id": "920df169-372a-445c-896d-9e75db3eff41",
   "metadata": {},
   "source": [
    "Write a Python program to calculate the sum of two numbers given as strings. Return the result in the same string representation.\n",
    "Sample Data:\n",
    "( \"234242342341\", \"2432342342\") -> \"236674684683\"\n",
    "( \"\", \"2432342342\") -> False ( \"1000\", \"0\") -> \"1000\"\n",
    "( \"1000\", \"10\") -> \"1010\""
   ]
  },
  {
   "cell_type": "code",
   "execution_count": 81,
   "id": "e066f491-8449-4178-8b14-954d4f0eeeeb",
   "metadata": {},
   "outputs": [
    {
     "name": "stdout",
     "output_type": "stream",
     "text": [
      "236674684683\n",
      "Invalid\n",
      "1000\n",
      "1010\n"
     ]
    }
   ],
   "source": [
    "def sum_num(s1, s2):\n",
    "    if s1.isdigit() and s2.isdigit():\n",
    "        return str(int(s1) + int(s2))\n",
    "    else:\n",
    "        return 'Invalid'\n",
    "\n",
    "print(sum_num('234242342341','2432342342'))\n",
    "print(sum_num('','2432342342'))\n",
    "print(sum_num('1000','0'))\n",
    "print(sum_num('1000','10'))                "
   ]
  },
  {
   "cell_type": "markdown",
   "id": "1b2111ab-2998-4c4a-994c-aae3204203c3",
   "metadata": {},
   "source": [
    "113. Sort words alphabetically by first character.\n",
    "\n",
    "Write a Python program that returns a string sorted alphabetically by the first character of a given string of words.\n",
    "Sample Data:\n",
    "(\"Red Green Black White Pink\") -> \"Black Green Pink Red White\"\n",
    "(\"Calculate the sum of two said numbers given as strings.\") -> (\"Calculate as given numbers of sum said strings. the two\")\n",
    "(\"The quick brown fox jumps over the lazy dog.\") -> (\"The brown dog. fox jumps lazy over quick the\")"
   ]
  },
  {
   "cell_type": "code",
   "execution_count": 85,
   "id": "694f5fd8-d3ae-40fa-b613-5671498e58c9",
   "metadata": {},
   "outputs": [
    {
     "name": "stdout",
     "output_type": "stream",
     "text": [
      "Black Green Pink Red White\n",
      "Calculate as given numbers of sum said strings. the two\n",
      "The brown dog. fox jumps lazy over quick the\n"
     ]
    }
   ],
   "source": [
    "def sort_first_letter(s):\n",
    "    lst = s.split()\n",
    "    return ' '.join(sorted(lst, key = lambda x: x[0]))\n",
    "\n",
    "print(sort_first_letter(\"Red Green Black White Pink\"))\n",
    "print(sort_first_letter(\"Calculate the sum of two said numbers given as strings.\"))\n",
    "print(sort_first_letter(\"The quick brown fox jumps over the lazy dog.\"))"
   ]
  },
  {
   "cell_type": "code",
   "execution_count": null,
   "id": "235728ef-b1ee-4c11-a71c-b8b9cf59029d",
   "metadata": {},
   "outputs": [],
   "source": []
  }
 ],
 "metadata": {
  "kernelspec": {
   "display_name": "Python 3 (ipykernel)",
   "language": "python",
   "name": "python3"
  },
  "language_info": {
   "codemirror_mode": {
    "name": "ipython",
    "version": 3
   },
   "file_extension": ".py",
   "mimetype": "text/x-python",
   "name": "python",
   "nbconvert_exporter": "python",
   "pygments_lexer": "ipython3",
   "version": "3.12.6"
  }
 },
 "nbformat": 4,
 "nbformat_minor": 5
}
