{
 "cells": [
  {
   "cell_type": "markdown",
   "id": "c05c2f9e-075c-4bd2-a517-d68185e35091",
   "metadata": {},
   "source": [
    "# Binary Search Tree"
   ]
  },
  {
   "cell_type": "markdown",
   "id": "aa42dcd6-76c6-452b-9109-809a055c4668",
   "metadata": {},
   "source": [
    "## Create Node"
   ]
  },
  {
   "cell_type": "code",
   "execution_count": 5,
   "id": "a77e1870-75de-4821-8308-a19ed808c074",
   "metadata": {},
   "outputs": [],
   "source": [
    "class BinarySearchTreeNode:\n",
    "    def __init__(self, data):\n",
    "        self.data = data\n",
    "        self.leftchild = None\n",
    "        self.rightchild = None"
   ]
  },
  {
   "cell_type": "markdown",
   "id": "7a9cb633-e5e2-4bde-8602-e6e2c7445b7a",
   "metadata": {},
   "source": [
    "## Insert Node"
   ]
  },
  {
   "cell_type": "code",
   "execution_count": 13,
   "id": "da1f84da-2f98-45a3-8e72-404b4fa2a788",
   "metadata": {},
   "outputs": [],
   "source": [
    "def insertNode(rootnode, nodevalue):\n",
    "    if rootnode.data == None:\n",
    "        rootnode.data = nodevalue\n",
    "    elif nodevalue <= rootnode.data:\n",
    "        if rootnode.leftchild is None:\n",
    "            rootnode.leftchild = BinarySearchTreeNode(nodevalue)\n",
    "        else:\n",
    "            insertNode(rootnode.leftchild, nodevalue)\n",
    "    else:\n",
    "        if rootnode.rightchild is None:\n",
    "            rootnode.rightchild = BinarySearchTreeNode(nodevalue)\n",
    "        else:\n",
    "            insertNode(rootnode.rightchild, nodevalue)\n",
    "    return \"Node Inserted\""
   ]
  },
  {
   "cell_type": "markdown",
   "id": "c3c0988d-fbd5-4fe3-a975-8c5ce377a419",
   "metadata": {},
   "source": [
    "## Traversal\n",
    "\n",
    "## DFS"
   ]
  },
  {
   "cell_type": "code",
   "execution_count": 16,
   "id": "3af7717b-0ca5-4452-85a0-b6bece4d0d17",
   "metadata": {},
   "outputs": [],
   "source": [
    "def preordertraversal(rootnode):\n",
    "    if not rootnode:\n",
    "        return\n",
    "    print(rootnode.data)\n",
    "    preordertraversal(rootnode.leftchild)\n",
    "    preordertraversal(rootnode.rightchild)"
   ]
  },
  {
   "cell_type": "code",
   "execution_count": 19,
   "id": "9be8800e-0a63-489d-b1c1-880012ab6049",
   "metadata": {},
   "outputs": [],
   "source": [
    "def inordertraversal(rootnode):\n",
    "    if not rootnode:\n",
    "        return\n",
    "    inordertraversal(rootnode.leftchild)\n",
    "    print(rootnode.data)\n",
    "    inordertraversal(rootnode.rightchild)"
   ]
  },
  {
   "cell_type": "code",
   "execution_count": 21,
   "id": "e4236073-796d-47ca-ba2e-1732bdb5b422",
   "metadata": {},
   "outputs": [],
   "source": [
    "def postordertraversal(rootnode):\n",
    "    if not rootnode:\n",
    "        return\n",
    "    postordertraversal(rootnode.leftchild)\n",
    "    postordertraversal(rootnode.rightchild)\n",
    "    print(rootnode.data)"
   ]
  },
  {
   "cell_type": "markdown",
   "id": "3522c0d2-c692-44cd-92b6-d3b837bddcd6",
   "metadata": {},
   "source": [
    "## BFS"
   ]
  },
  {
   "cell_type": "code",
   "execution_count": 29,
   "id": "6cfe1d25-b186-45cb-b1fa-4d14b3ff1e26",
   "metadata": {},
   "outputs": [],
   "source": [
    "class Node:\n",
    "    def __init__(self, value):\n",
    "        self.value = value\n",
    "        self.next = None\n",
    "\n",
    "    def __str__(self):\n",
    "        return str(self.value)\n",
    "\n",
    "class LinkedList:\n",
    "    def __init__(self):\n",
    "        self.head = None\n",
    "        self.tail = None\n",
    "        \n",
    "    def __iter__(self):\n",
    "        current = self.head\n",
    "        while current:\n",
    "            yield current\n",
    "            current = current.next\n",
    "        \n",
    "class Queue:\n",
    "    def __init__(self):\n",
    "        self.linkedlist = LinkedList()\n",
    "\n",
    "    def __str__(self):\n",
    "        values = [str(x) for x in self.items]\n",
    "        return ' '.join(values)\n",
    "\n",
    "    def isempty(self):\n",
    "        if self.linkedlist.head is None:\n",
    "            return True\n",
    "        return False\n",
    "\n",
    "    def enqueue(self, value):\n",
    "        newnode = Node(value)\n",
    "        if self.linkedlist.head is None:\n",
    "            self.linkedlist.head = newnode\n",
    "            self.linkedlist.tail = newnode\n",
    "        else:\n",
    "            self.linkedlist.tail.next = newnode\n",
    "            self.linkedlist.tail = newnode\n",
    "\n",
    "    def dequeue(self):\n",
    "        if self.linkedlist.head is None:\n",
    "            return \"No nodes\"\n",
    "        else:\n",
    "            current = self.linkedlist.head\n",
    "            if self.linkedlist.head == self.linkedlist.tail:\n",
    "                self.linkedlist.head = None\n",
    "                self.linkedlist.tail = None\n",
    "            else:\n",
    "                self.linkedlist.head = self.linkedlist.head.next\n",
    "            return current\n",
    "\n",
    "    def peek(self):\n",
    "        if self.isempty():\n",
    "            return \"No elements\"\n",
    "        else:\n",
    "            return self.linkedlist.head"
   ]
  },
  {
   "cell_type": "code",
   "execution_count": 30,
   "id": "f2db795d-87be-4b7e-8f56-38a1ad58ff5f",
   "metadata": {},
   "outputs": [],
   "source": [
    "def levelordertraversal(rootnode):\n",
    "    if not rootnode:\n",
    "        return\n",
    "    else:\n",
    "        customqueue = Queue()\n",
    "        customqueue.enqueue(rootnode)\n",
    "        while not (customqueue.isempty()):\n",
    "            root = customqueue.dequeue()\n",
    "            print(root.value.data)\n",
    "            if root.value.leftchild is not None:\n",
    "                customqueue.enqueue(root.value.leftchild)\n",
    "            if root.value.rightchild is not None:\n",
    "                customqueue.enqueue(root.value.rightchild)"
   ]
  },
  {
   "cell_type": "markdown",
   "id": "a018cce7-7143-4c95-be3d-17ad02a2770e",
   "metadata": {},
   "source": [
    "## Search"
   ]
  },
  {
   "cell_type": "code",
   "execution_count": 36,
   "id": "1eba5704-d422-4f58-bf18-ee694be44514",
   "metadata": {},
   "outputs": [],
   "source": [
    "def searchnode(rootnode, nodevalue):\n",
    "    if rootnode.data == nodevalue:\n",
    "        print(\"Found\")\n",
    "    elif nodevalue < rootnode.data:\n",
    "        if rootnode.leftchild.data == nodevalue:\n",
    "            print(\"Found\")\n",
    "        else:\n",
    "            searchnode(rootnode.leftchild, nodevalue)\n",
    "    else:\n",
    "        if rootnode.rightchild.data == nodevalue:\n",
    "            print(\"Found\")\n",
    "        else:\n",
    "            searchnode(rootnode.rightchild, nodevalue)"
   ]
  },
  {
   "cell_type": "markdown",
   "id": "098c7bb7-fc50-4861-b8d1-92d399b56784",
   "metadata": {},
   "source": [
    "## Delete a node"
   ]
  },
  {
   "cell_type": "code",
   "execution_count": 38,
   "id": "c09fb272-a0b3-4b89-95cb-97105ae9cbc5",
   "metadata": {},
   "outputs": [],
   "source": [
    "def minnode(bstnode):\n",
    "    current = bstnode\n",
    "    while current.leftchild is not None:\n",
    "        current = current.leftchild\n",
    "    return current\n",
    "    \n",
    "def deletenode(rootnode, nodevalue):\n",
    "    if rootnode is None:\n",
    "        return rootnode\n",
    "        \n",
    "    if nodevalue < rootnode.data:\n",
    "        rootnode.leftchild = deletenode(rootnode.leftchild, nodevalue)\n",
    "    elif nodevalue > rootnode.data:\n",
    "        rootnode.rightchild = deletenode(rootnode.rightchild, nodevalue)\n",
    "\n",
    "    else:\n",
    "        if rootnode.leftchild is None:\n",
    "            temp = rootnode.rightchild\n",
    "            rootnode = None\n",
    "            return temp\n",
    "        if rootnode.rightchild is None:\n",
    "            temp = rootnode.leftchild\n",
    "            rootnode = None\n",
    "            return temp\n",
    "        temp = minnode(rootnode.rightchild)\n",
    "        rootnode.data = temp.data\n",
    "        rootnode.rightchild = deletenode(rootnode.rightchild, temp.data)\n",
    "    return rootnode"
   ]
  },
  {
   "cell_type": "markdown",
   "id": "98a29ce1-b6c0-467f-92e3-8441d4c965c3",
   "metadata": {},
   "source": [
    "## Delete entire tree"
   ]
  },
  {
   "cell_type": "code",
   "execution_count": 41,
   "id": "1eb5fd80-0b9c-4db3-b3ba-ca1c09ea029c",
   "metadata": {},
   "outputs": [],
   "source": [
    "def deletetree(rootnode):\n",
    "    rootnode = None\n",
    "    rootnode.leftchild = None\n",
    "    rootnode.rightchild = None"
   ]
  },
  {
   "cell_type": "code",
   "execution_count": 40,
   "id": "18bd514b-bc0e-443e-84aa-2a8d41bdd525",
   "metadata": {},
   "outputs": [
    {
     "name": "stdout",
     "output_type": "stream",
     "text": [
      "Node Inserted\n",
      "Pre Order Traversal\n",
      "70\n",
      "50\n",
      "30\n",
      "20\n",
      "40\n",
      "60\n",
      "90\n",
      "80\n",
      "100\n",
      "In Order Traversal\n",
      "20\n",
      "30\n",
      "40\n",
      "50\n",
      "60\n",
      "70\n",
      "80\n",
      "90\n",
      "100\n",
      "Post Order Traversal\n",
      "20\n",
      "40\n",
      "30\n",
      "60\n",
      "50\n",
      "80\n",
      "100\n",
      "90\n",
      "70\n",
      "Level Order Traversal\n",
      "70\n",
      "50\n",
      "90\n",
      "30\n",
      "60\n",
      "80\n",
      "100\n",
      "20\n",
      "40\n",
      "Search for 30\n",
      "Found\n",
      "Delete 30\n",
      "70\n",
      "50\n",
      "90\n",
      "40\n",
      "60\n",
      "80\n",
      "100\n",
      "20\n"
     ]
    }
   ],
   "source": [
    "newbst = BinarySearchTreeNode(None)\n",
    "print(insertNode(newbst, 70))\n",
    "insertNode(newbst, 50)\n",
    "insertNode(newbst, 90)\n",
    "insertNode(newbst, 30)\n",
    "insertNode(newbst, 60)\n",
    "insertNode(newbst, 80)\n",
    "insertNode(newbst, 100)\n",
    "insertNode(newbst, 20)\n",
    "insertNode(newbst, 40)\n",
    "\n",
    "print(\"Pre Order Traversal\")\n",
    "preordertraversal(newbst)\n",
    "\n",
    "print(\"In Order Traversal\")\n",
    "inordertraversal(newbst)\n",
    "\n",
    "print(\"Post Order Traversal\")\n",
    "postordertraversal(newbst)\n",
    "\n",
    "print(\"Level Order Traversal\")\n",
    "levelordertraversal(newbst)\n",
    "\n",
    "print(\"Search for 30\")\n",
    "searchnode(newbst, 30)\n",
    "\n",
    "print(\"Delete 30\")\n",
    "deletenode(newbst, 30)\n",
    "levelordertraversal(newbst)"
   ]
  },
  {
   "cell_type": "code",
   "execution_count": null,
   "id": "a4a7fd72-09ab-4bbb-ab05-fb55147abe29",
   "metadata": {},
   "outputs": [],
   "source": []
  },
  {
   "cell_type": "code",
   "execution_count": null,
   "id": "cb40179b-2c97-44c9-ba6e-52ac308025a9",
   "metadata": {},
   "outputs": [],
   "source": []
  }
 ],
 "metadata": {
  "kernelspec": {
   "display_name": "Python 3 (ipykernel)",
   "language": "python",
   "name": "python3"
  },
  "language_info": {
   "codemirror_mode": {
    "name": "ipython",
    "version": 3
   },
   "file_extension": ".py",
   "mimetype": "text/x-python",
   "name": "python",
   "nbconvert_exporter": "python",
   "pygments_lexer": "ipython3",
   "version": "3.12.6"
  }
 },
 "nbformat": 4,
 "nbformat_minor": 5
}
