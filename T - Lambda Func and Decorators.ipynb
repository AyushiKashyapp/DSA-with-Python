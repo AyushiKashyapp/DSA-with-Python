{
 "cells": [
  {
   "cell_type": "markdown",
   "id": "745ee828-3c62-41ce-bf0b-b966dd7afb33",
   "metadata": {},
   "source": [
    "# Lambda Function"
   ]
  },
  {
   "cell_type": "code",
   "execution_count": 4,
   "id": "cc65da86-b9e6-40af-a333-3b13c345269d",
   "metadata": {},
   "outputs": [
    {
     "name": "stdout",
     "output_type": "stream",
     "text": [
      "25\n",
      "25\n"
     ]
    }
   ],
   "source": [
    "# Without Lambda - need to define a function for a small task\n",
    "def square(n):\n",
    "    return n * n\n",
    "\n",
    "result = square(5)\n",
    "print(result)\n",
    "\n",
    "# With Lambda - same function defined in one line code\n",
    "f = lambda a : a * a\n",
    "result_lambda = f(5)\n",
    "print(result_lambda)"
   ]
  },
  {
   "cell_type": "code",
   "execution_count": 9,
   "id": "f59f1a4f-72df-4a31-96d5-ee43940edc27",
   "metadata": {},
   "outputs": [
    {
     "name": "stdout",
     "output_type": "stream",
     "text": [
      "With 2 arguments  14\n",
      "With 3 arguments  21\n"
     ]
    }
   ],
   "source": [
    "# We can pass any number of argument variables, but they should be used in one expression\n",
    "f = lambda a,b : a + b\n",
    "print('With 2 arguments ',f(5,9))\n",
    "\n",
    "f = lambda x,y,z : x + y + z\n",
    "print('With 3 arguments ',f(8,6,7))"
   ]
  },
  {
   "cell_type": "markdown",
   "id": "c6cf0c28-faf9-454d-aaf6-e5f7cfda2539",
   "metadata": {},
   "source": [
    "## As a argument to Filter"
   ]
  },
  {
   "cell_type": "code",
   "execution_count": 12,
   "id": "add8cb34-4236-410d-9044-878571371786",
   "metadata": {},
   "outputs": [
    {
     "name": "stdout",
     "output_type": "stream",
     "text": [
      "Without Lambda\n",
      "[8, 4, 2, 8]\n",
      "With Lambda\n",
      "[8, 4, 2, 8]\n"
     ]
    }
   ],
   "source": [
    "def is_even(n):\n",
    "    return n%2 == 0\n",
    "\n",
    "n = [5,8,7,4,3,2,9,8]\n",
    "\n",
    "print('Without Lambda')\n",
    "result_even = list(filter(is_even, n))\n",
    "print(result_even)\n",
    "\n",
    "print('With Lambda')\n",
    "result_lambda_even = list(filter(lambda n : n % 2 == 0, n))\n",
    "print(result_lambda_even)"
   ]
  },
  {
   "cell_type": "markdown",
   "id": "c3b7f9d7-237b-4305-9da8-112c838b034b",
   "metadata": {},
   "source": [
    "## As a argument to Map"
   ]
  },
  {
   "cell_type": "code",
   "execution_count": 16,
   "id": "b8e8c70b-056f-4f15-89af-281530454621",
   "metadata": {},
   "outputs": [
    {
     "name": "stdout",
     "output_type": "stream",
     "text": [
      "Without Lambda\n",
      "[10, 16, 14, 8, 6, 4, 18, 16]\n",
      "With Lambda\n",
      "[10, 16, 14, 8, 6, 4, 18, 16]\n"
     ]
    }
   ],
   "source": [
    "def doubles(n):\n",
    "    return n * 2\n",
    "\n",
    "n = [5,8,7,4,3,2,9,8]\n",
    "\n",
    "print('Without Lambda')\n",
    "result_double = list(map(doubles, n))\n",
    "print(result_double)\n",
    "\n",
    "print('With Lambda')\n",
    "result_double_lambda = list(map(lambda n : n * 2, n))\n",
    "print(result_double_lambda)"
   ]
  },
  {
   "cell_type": "markdown",
   "id": "74a22a02-c38f-4b45-8ab5-21794308af30",
   "metadata": {},
   "source": [
    "## As a argument to Reduce"
   ]
  },
  {
   "cell_type": "code",
   "execution_count": 20,
   "id": "4a359773-e32b-492c-bfc6-4e88b47ccd80",
   "metadata": {},
   "outputs": [
    {
     "name": "stdout",
     "output_type": "stream",
     "text": [
      "Without Lamnda\n",
      "46\n",
      "With Lambda\n",
      "46\n"
     ]
    }
   ],
   "source": [
    "from functools import reduce\n",
    "\n",
    "def add_all(x, y):\n",
    "    return x + y\n",
    "\n",
    "n = [5,8,7,4,3,2,9,8]\n",
    "\n",
    "print('Without Lamnda')\n",
    "total = reduce(add_all, n)\n",
    "print(total)\n",
    "\n",
    "print('With Lambda')\n",
    "total_lambda = reduce(lambda x,y : x + y, n)\n",
    "print(total_lambda)"
   ]
  },
  {
   "cell_type": "markdown",
   "id": "e53a80a4-c8bf-4903-9af9-6ad1df3e33a1",
   "metadata": {},
   "source": [
    "# Decorators"
   ]
  },
  {
   "cell_type": "code",
   "execution_count": 21,
   "id": "d9111d9e-f7c8-4c04-8a20-6b10426e07a5",
   "metadata": {},
   "outputs": [
    {
     "name": "stdout",
     "output_type": "stream",
     "text": [
      "Before using Decorator:  0.5\n",
      "After using Decorator : 2.0\n"
     ]
    }
   ],
   "source": [
    "def div(a, b):\n",
    "    return (a / b)\n",
    "\n",
    "print('Before using Decorator: ',div(2, 4))\n",
    "def smart_div(func):\n",
    "    def inner(a,b):\n",
    "        a, b = b, a\n",
    "        return func(a, b)\n",
    "    return inner\n",
    "\n",
    "div = smart_div(div)\n",
    "print('After using Decorator :',div(2,4))"
   ]
  },
  {
   "cell_type": "code",
   "execution_count": null,
   "id": "69faa6f7-4ce1-4047-83ea-78d77daae35b",
   "metadata": {},
   "outputs": [],
   "source": []
  }
 ],
 "metadata": {
  "kernelspec": {
   "display_name": "Python 3 (ipykernel)",
   "language": "python",
   "name": "python3"
  },
  "language_info": {
   "codemirror_mode": {
    "name": "ipython",
    "version": 3
   },
   "file_extension": ".py",
   "mimetype": "text/x-python",
   "name": "python",
   "nbconvert_exporter": "python",
   "pygments_lexer": "ipython3",
   "version": "3.12.6"
  }
 },
 "nbformat": 4,
 "nbformat_minor": 5
}
