{
 "cells": [
  {
   "cell_type": "markdown",
   "id": "06f5e50c-a6fd-426f-9a58-5b58de2d4b03",
   "metadata": {},
   "source": [
    "1. Write a Python program to find those numbers which are divisible by 7 and multiples of 5, between 1500 and 2700 (both included)."
   ]
  },
  {
   "cell_type": "code",
   "execution_count": 4,
   "id": "e3593791-9be1-44e7-929b-fdf25dbb55fe",
   "metadata": {},
   "outputs": [
    {
     "name": "stdout",
     "output_type": "stream",
     "text": [
      "[1505, 1540, 1575, 1610, 1645, 1680, 1715, 1750, 1785, 1820, 1855, 1890, 1925, 1960, 1995, 2030, 2065, 2100, 2135, 2170, 2205, 2240, 2275, 2310, 2345, 2380, 2415, 2450, 2485, 2520, 2555, 2590, 2625, 2660, 2695]\n"
     ]
    }
   ],
   "source": [
    "nums = []\n",
    "for i in range(1500, 2701):\n",
    "    if i % 7 == 0 and i % 5 == 0:\n",
    "        nums.append(i)\n",
    "\n",
    "print(nums)"
   ]
  },
  {
   "cell_type": "markdown",
   "id": "a86dae8a-58bd-470b-a0fc-faeac39ad656",
   "metadata": {},
   "source": [
    "2. Write a Python program to convert temperatures to and from Celsius and Fahrenheit.\n",
    "[ Formula : c/5 = f-32/9 [ where c = temperature in celsius and f = temperature in fahrenheit ]\n",
    "\n",
    "Expected Output :\n",
    "60°C is 140 in Fahrenheit\n",
    "45°F is 7 in Celsius"
   ]
  },
  {
   "cell_type": "code",
   "execution_count": 13,
   "id": "3a78f968-54aa-4aba-917a-e316e4b3ecd8",
   "metadata": {},
   "outputs": [
    {
     "name": "stdout",
     "output_type": "stream",
     "text": [
      "3\n",
      "60°C is 140 in Fahrenheit\n",
      "3\n",
      "45°F is 7 in Celsius\n"
     ]
    }
   ],
   "source": [
    "def temprature_in_c_and_f(temp):\n",
    "    converted_temp = 0\n",
    "    if '°C' in temp:\n",
    "        temp = int(temp.replace('°C',''))\n",
    "        converted_temp = int(temp * (9 / 5)) + 32\n",
    "        print(f'{temp}°C is {converted_temp} in Fahrenheit')\n",
    "    elif '°F' in temp:\n",
    "        temp = int(temp.replace('°F',''))\n",
    "        converted_temp = int((5 / 9) * (temp - 32))\n",
    "        print(f'{temp}°F is {converted_temp} in Celsius')\n",
    "\n",
    "temprature_in_c_and_f('60°C')\n",
    "temprature_in_c_and_f('45°F')"
   ]
  },
  {
   "cell_type": "markdown",
   "id": "f1a41904-35d0-4c3e-8e90-7f5b7516c52f",
   "metadata": {},
   "source": [
    "3. Write a Python program to guess a number between 1 and 9.\n",
    "\n",
    "Note : User is prompted to enter a guess. If the user guesses wrong then the prompt appears again until the guess is correct, on successful guess, user will get a \"Well guessed!\" message, and the program will exit."
   ]
  },
  {
   "cell_type": "code",
   "execution_count": 16,
   "id": "042b84b6-c05f-467f-bb0d-d4fe0a2b1f44",
   "metadata": {},
   "outputs": [
    {
     "name": "stdin",
     "output_type": "stream",
     "text": [
      "Guess the number:  4\n",
      "Guess the number:  6\n",
      "Guess the number:  2\n",
      "Guess the number:  56\n",
      "Guess the number:  2\n",
      "Guess the number:  7\n",
      "Guess the number:  7\n"
     ]
    },
    {
     "name": "stdout",
     "output_type": "stream",
     "text": [
      "Well guessed!\n"
     ]
    }
   ],
   "source": [
    "for i in range(1, 10):\n",
    "    guess = int(input('Guess the number: '))\n",
    "    if i == guess:\n",
    "        print('Well guessed!')\n",
    "        break"
   ]
  },
  {
   "cell_type": "markdown",
   "id": "39486946-4948-411c-8eb4-0cb4fd4398ae",
   "metadata": {},
   "source": [
    "4. Write a Python program to construct the following pattern, using a nested for loop."
   ]
  },
  {
   "cell_type": "code",
   "execution_count": 6,
   "id": "90729272-1ac4-4c57-b4ea-7d11b34a6c9a",
   "metadata": {},
   "outputs": [
    {
     "name": "stdout",
     "output_type": "stream",
     "text": [
      "* \n",
      "* * \n",
      "* * * \n",
      "* * * * \n",
      "* * * * * \n",
      "* * * * \n",
      "* * * \n",
      "* * \n",
      "* \n"
     ]
    }
   ],
   "source": [
    "n = 5\n",
    "for i in range(n - 1):\n",
    "    for j in range(i + 1):\n",
    "        print('*', end = ' ')\n",
    "    print()\n",
    "for i in range(n):\n",
    "    for j in range(i, n):\n",
    "        print('*', end = ' ')\n",
    "    print()"
   ]
  },
  {
   "cell_type": "markdown",
   "id": "9fd4dad3-4029-405d-bcc9-0a5b2eb944fa",
   "metadata": {},
   "source": [
    "5. Write a Python program that accepts a word from the user and reverses it."
   ]
  },
  {
   "cell_type": "code",
   "execution_count": 9,
   "id": "d398da97-7e0d-4099-8c82-a9cdb06df2de",
   "metadata": {},
   "outputs": [
    {
     "name": "stdin",
     "output_type": "stream",
     "text": [
      "Enter Word:  ride\n"
     ]
    },
    {
     "name": "stdout",
     "output_type": "stream",
     "text": [
      "Reversed Word: edir\n"
     ]
    }
   ],
   "source": [
    "word = input('Enter Word: ')\n",
    "r_word = word[::-1]\n",
    "print(f'Reversed Word: {r_word}')"
   ]
  },
  {
   "cell_type": "markdown",
   "id": "472d1ba7-bef4-4e12-aade-efa2cc258902",
   "metadata": {},
   "source": [
    "6. Write a Python program to count the number of even and odd numbers in a series of numbers"
   ]
  },
  {
   "cell_type": "code",
   "execution_count": 10,
   "id": "063302bc-aad3-431e-96cf-c7168cd391a3",
   "metadata": {},
   "outputs": [
    {
     "name": "stdout",
     "output_type": "stream",
     "text": [
      "Number of even numbers:  4\n",
      "Number of odd numbers:  5\n"
     ]
    }
   ],
   "source": [
    "def count_even_odd(l1):\n",
    "    even_count, odd_count = 0, 0\n",
    "    for i in l1:\n",
    "        if i % 2 == 0:\n",
    "            even_count += 1\n",
    "        else:\n",
    "            odd_count += 1\n",
    "    print('Number of even numbers: ', even_count)\n",
    "    print('Number of odd numbers: ', odd_count)\n",
    "\n",
    "count_even_odd([1,2,3,4,5,6,7,8,9])\n",
    "    "
   ]
  },
  {
   "cell_type": "markdown",
   "id": "8de16b30-8281-4b90-b5d4-6dad0321045e",
   "metadata": {},
   "source": [
    "7. Write a Python program that prints each item and its corresponding type from the following list."
   ]
  },
  {
   "cell_type": "code",
   "execution_count": 15,
   "id": "0909791d-b8f3-4f5f-a39d-91f2753818c0",
   "metadata": {},
   "outputs": [
    {
     "name": "stdout",
     "output_type": "stream",
     "text": [
      "Element : 1452, Type: <class 'int'>\n",
      "Element : 11.23, Type: <class 'float'>\n",
      "Element : (1+2j), Type: <class 'complex'>\n",
      "Element : True, Type: <class 'bool'>\n",
      "Element : w3resource, Type: <class 'str'>\n",
      "Element : (0, -1), Type: <class 'tuple'>\n",
      "Element : [5, 12], Type: <class 'list'>\n",
      "Element : {'class': 'V', 'section': 'A'}, Type: <class 'dict'>\n"
     ]
    }
   ],
   "source": [
    "datalist = [1452, 11.23, 1+2j, True, 'w3resource', (0, -1), [5, 12], {\"class\":'V', \"section\":'A'}]\n",
    "\n",
    "def list_type(l1):\n",
    "    for i in l1:\n",
    "        print(f'Element : {i}, Type: {type(i)}')\n",
    "\n",
    "list_type(datalist)"
   ]
  },
  {
   "cell_type": "markdown",
   "id": "b339c7b8-2160-4c04-bd68-588ee1564086",
   "metadata": {},
   "source": [
    "8. Write a Python program that prints all the numbers from 0 to 6 except 3 and 6."
   ]
  },
  {
   "cell_type": "code",
   "execution_count": 16,
   "id": "55298ffb-9e75-4029-a921-ab4622c7e922",
   "metadata": {},
   "outputs": [
    {
     "name": "stdout",
     "output_type": "stream",
     "text": [
      "0\n",
      "1\n",
      "2\n",
      "4\n",
      "5\n"
     ]
    }
   ],
   "source": [
    "for i in range(6):\n",
    "    if i == 3 or i == 6:\n",
    "        continue\n",
    "    else:\n",
    "        print(i)"
   ]
  },
  {
   "cell_type": "markdown",
   "id": "28436665-7e35-4b87-9db7-ad1774e98f04",
   "metadata": {},
   "source": [
    "9. Write a Python program to get the Fibonacci series between 0 and 50."
   ]
  },
  {
   "cell_type": "code",
   "execution_count": 2,
   "id": "575df600-b9d6-491d-baf5-c24fe6bf213f",
   "metadata": {},
   "outputs": [
    {
     "name": "stdout",
     "output_type": "stream",
     "text": [
      "0 1 1 2 3 5 8 13 21 34 "
     ]
    }
   ],
   "source": [
    "a,b = 0,1\n",
    "for i in range(51):\n",
    "    while a < 51:\n",
    "        print(a, end = ' ')\n",
    "        a, b = b, a + b"
   ]
  },
  {
   "cell_type": "markdown",
   "id": "54c0fe9c-2934-4bd2-8962-f77f489a7da8",
   "metadata": {},
   "source": [
    "10. Write a Python program that iterates the integers from 1 to 50. For multiples of three print \"Fizz\" instead of the number and for multiples of five print \"Buzz\". For numbers that are multiples of three and five, print \"FizzBuzz\".\n",
    "\n",
    "Sample Output :\n",
    "fizzbuzz\n",
    "1\n",
    "2\n",
    "fizz\n",
    "4\n",
    "buzz"
   ]
  },
  {
   "cell_type": "code",
   "execution_count": 5,
   "id": "6455a238-0942-4cdf-965a-3bae56f81f4e",
   "metadata": {},
   "outputs": [
    {
     "name": "stdout",
     "output_type": "stream",
     "text": [
      "1 2 Fizz 4 Buzz Fizz 7 8 Fizz Buzz 11 Fizz 13 14 FizzBuzz 16 17 Fizz 19 Buzz Fizz 22 23 Fizz Buzz 26 Fizz 28 29 FizzBuzz 31 32 Fizz 34 Buzz Fizz 37 38 Fizz Buzz 41 Fizz 43 44 FizzBuzz 46 47 Fizz 49 Buzz "
     ]
    }
   ],
   "source": [
    "for i in range(1, 51):\n",
    "    if i % 3 == 0 and i % 5 != 0:\n",
    "        print('Fizz', end = ' ')\n",
    "    elif i % 5 == 0 and i % 3 != 0:\n",
    "        print('Buzz', end = ' ')\n",
    "    elif i % 3 == 0 and i % 5 == 0:\n",
    "        print('FizzBuzz', end = ' ')\n",
    "    else:\n",
    "        print(i, end = ' ')"
   ]
  },
  {
   "cell_type": "markdown",
   "id": "4a913dd5-8abe-4ca4-9d75-8cb0a9eadf2e",
   "metadata": {},
   "source": [
    "11. Write a Python program that takes two digits m (row) and n (column) as input and generates a two-dimensional array. The element value in the i-th row and j-th column of the array should be i*j.\n",
    "\n",
    "Note :\n",
    "i = 0,1.., m-1\n",
    "j = 0,1, n-1.\n",
    "\n",
    "Test Data : Rows = 3, Columns = 4\n",
    "Expected Result : [[0, 0, 0, 0], [0, 1, 2, 3], [0, 2, 4, 6]]"
   ]
  },
  {
   "cell_type": "code",
   "execution_count": 9,
   "id": "d3faeb30-25cb-49a9-8aba-da93e57337b3",
   "metadata": {},
   "outputs": [
    {
     "name": "stdin",
     "output_type": "stream",
     "text": [
      "Rows (m) :  3\n",
      "Columns (n) :  4\n"
     ]
    },
    {
     "name": "stdout",
     "output_type": "stream",
     "text": [
      "[[0, 0, 0, 0], [0, 1, 2, 3], [0, 2, 4, 6]]\n"
     ]
    }
   ],
   "source": [
    "m = int(input('Rows (m) : '))\n",
    "n = int(input('Columns (n) : '))\n",
    "matrix = []\n",
    "for i in range(m):\n",
    "    row = []\n",
    "    for j in range(n):\n",
    "        row.append(i * j)\n",
    "    matrix.append(row)\n",
    "    \n",
    "\n",
    "print(matrix)"
   ]
  },
  {
   "cell_type": "markdown",
   "id": "4cdc4bdb-7522-4066-aa0a-bb265056a76b",
   "metadata": {},
   "source": [
    "12. Write a  Python program that accepts a sequence of lines (blank line to terminate) as input and prints the lines as output (all characters in lower case)"
   ]
  },
  {
   "cell_type": "code",
   "execution_count": 13,
   "id": "2a1f08e8-4b97-43e6-94c0-5658cb93ff96",
   "metadata": {},
   "outputs": [
    {
     "name": "stdin",
     "output_type": "stream",
     "text": [
      "How many lines:  2\n",
      "Enter Line :  Machine L\n",
      "Enter Line :  K Graph\n"
     ]
    },
    {
     "name": "stdout",
     "output_type": "stream",
     "text": [
      "machine l k graph\n"
     ]
    }
   ],
   "source": [
    "lines = []\n",
    "n = int(input('How many lines: '))\n",
    "for i in range(n):\n",
    "    line = str(input('Enter Line : '))\n",
    "    lines.append(line)\n",
    "\n",
    "output = ' '.join(lines)\n",
    "print(output.lower())"
   ]
  },
  {
   "cell_type": "code",
   "execution_count": 14,
   "id": "9c46d1fc-814f-4703-8dfa-a258c2d14331",
   "metadata": {},
   "outputs": [
    {
     "name": "stdin",
     "output_type": "stream",
     "text": [
      " Machine L\n",
      " K Graph\n",
      " \n"
     ]
    },
    {
     "name": "stdout",
     "output_type": "stream",
     "text": [
      "MACHINE L\n",
      "K GRAPH\n"
     ]
    }
   ],
   "source": [
    "# Correct Code\n",
    "\n",
    "lines = []\n",
    "while True: # Continue to prompt for user input until a blank line is entered\n",
    "    l = input()\n",
    "    if l: # Check if the line is not empty\n",
    "        lines.append(l.upper())\n",
    "    else:\n",
    "        break;\n",
    "\n",
    "for l in lines:\n",
    "    print(l)"
   ]
  },
  {
   "cell_type": "markdown",
   "id": "e8ca4470-04cb-41d6-ad00-931e730f46b8",
   "metadata": {},
   "source": [
    "13. Write a Python program that accepts a sequence of comma separated 4 digit binary numbers as its input. The program will print the numbers that are divisible by 5 in a comma separated sequence.\n",
    "Sample Data : 0100,0011,1010,1001,1100,1001\n",
    "Expected Output : 1010"
   ]
  },
  {
   "cell_type": "code",
   "execution_count": 21,
   "id": "607f6b6a-2f71-4c16-a3f4-aa27d01e1298",
   "metadata": {},
   "outputs": [
    {
     "name": "stdin",
     "output_type": "stream",
     "text": [
      "Enter a comma separated list of binaries:  0100,0011,1010,1001,1100,1001\n"
     ]
    },
    {
     "name": "stdout",
     "output_type": "stream",
     "text": [
      "1010\n"
     ]
    }
   ],
   "source": [
    "binaries = input('Enter a comma separated list of binaries: ').split(',')\n",
    "\n",
    "result = []\n",
    "\n",
    "for binary in binaries:\n",
    "    binary = binary.strip() # Remove trailing spaces\n",
    "    if len(binary) == 4 and all(ch in '01' for ch in binary): # check the length and whether all the character are either 0 or 1\n",
    "        if int(binary, 2) % 5 == 0:\n",
    "            result.append(binary)\n",
    "\n",
    "print(','.join(result))"
   ]
  },
  {
   "cell_type": "markdown",
   "id": "e2885202-908e-42de-9c04-f8e6216e18bb",
   "metadata": {},
   "source": [
    "14. Write a Python program that accepts a string and calculates the number of digits and letters.\n",
    "\n",
    "Sample Data : Python 3.2\n",
    "\n",
    "Expected Output :\n",
    "Letters 6\n",
    "Digits 2"
   ]
  },
  {
   "cell_type": "code",
   "execution_count": 23,
   "id": "0f339a7d-db0c-47b9-af32-52726bb81ce9",
   "metadata": {},
   "outputs": [
    {
     "name": "stdin",
     "output_type": "stream",
     "text": [
      "Enter the string :  Python 3.2\n"
     ]
    },
    {
     "name": "stdout",
     "output_type": "stream",
     "text": [
      "Letters 6 Digit 2\n"
     ]
    }
   ],
   "source": [
    "input_string = input('Enter the string : ')\n",
    "letter, digit = 0, 0\n",
    "for i in input_string:\n",
    "    if i.isalpha():\n",
    "        letter += 1\n",
    "    elif i.isdigit():\n",
    "        digit += 1\n",
    "        \n",
    "print(f'Letters {letter} Digit {digit}')"
   ]
  },
  {
   "cell_type": "markdown",
   "id": "7027d3a3-64a8-4ba5-9cfa-1dc5e41da135",
   "metadata": {},
   "source": [
    "15. Write a Python program to check the validity of passwords input by users.\n",
    "Validation :\n",
    "\n",
    "At least 1 letter between [a-z] and 1 letter between [A-Z].\n",
    "At least 1 number between [0-9].\n",
    "At least 1 character from [$#@].\n",
    "Minimum length 6 characters.\n",
    "Maximum length 16 characters."
   ]
  },
  {
   "cell_type": "code",
   "execution_count": 28,
   "id": "4136ed6d-e255-4a23-b775-b2aafc07c0a6",
   "metadata": {},
   "outputs": [
    {
     "name": "stderr",
     "output_type": "stream",
     "text": [
      "<>:29: SyntaxWarning: invalid escape sequence '\\s'\n",
      "<>:29: SyntaxWarning: invalid escape sequence '\\s'\n",
      "C:\\Users\\0132499s\\AppData\\Local\\Temp\\ipykernel_1156\\1151390152.py:29: SyntaxWarning: invalid escape sequence '\\s'\n",
      "  elif re.search(\"\\s\", p):\n"
     ]
    },
    {
     "name": "stdin",
     "output_type": "stream",
     "text": [
      "Input your password passwordW3r@100a\n"
     ]
    },
    {
     "name": "stdout",
     "output_type": "stream",
     "text": [
      "Not a Valid Password\n"
     ]
    }
   ],
   "source": [
    "# Import the 're' module for regular expressions\n",
    "import re\n",
    "\n",
    "# Prompt the user to input a password and store it in the variable 'p'\n",
    "p = input(\"Input your password\")\n",
    "\n",
    "# Set 'x' to True to enter the while loop\n",
    "x = True\n",
    "\n",
    "# Start a while loop that continues until 'x' is True\n",
    "while x:  \n",
    "    # Check conditions for a valid password:\n",
    "    # Password length should be between 6 and 12 characters\n",
    "    if (len(p) < 6 or len(p) > 12):\n",
    "        break\n",
    "    # Password should contain at least one lowercase letter\n",
    "    elif not re.search(\"[a-z]\", p):\n",
    "        break\n",
    "    # Password should contain at least one digit\n",
    "    elif not re.search(\"[0-9]\", p):\n",
    "        break\n",
    "    # Password should contain at least one uppercase letter\n",
    "    elif not re.search(\"[A-Z]\", p):\n",
    "        break\n",
    "    # Password should contain at least one special character among '$', '#', '@'\n",
    "    elif not re.search(\"[$#@]\", p):\n",
    "        break\n",
    "    # Password should not contain any whitespace character\n",
    "    elif re.search(\"\\s\", p):\n",
    "        break\n",
    "    else:\n",
    "        # If all conditions are met, print \"Valid Password\" and set 'x' to False to exit the loop\n",
    "        print(\"Valid Password\")\n",
    "        x = False\n",
    "        break\n",
    "\n",
    "# If 'x' remains True, print \"Not a Valid Password\"\n",
    "if x:\n",
    "    print(\"Not a Valid Password\")"
   ]
  },
  {
   "cell_type": "markdown",
   "id": "6533f496-3bae-4b33-82cf-89a9f47e0807",
   "metadata": {},
   "source": [
    "16. Write a Python program to find numbers between 100 and 400 (both included) where each digit of a number is an even number. The numbers obtained should be printed in a comma-separated sequence."
   ]
  },
  {
   "cell_type": "code",
   "execution_count": 31,
   "id": "43129a94-394b-419e-b9bf-365d46e1295f",
   "metadata": {},
   "outputs": [
    {
     "name": "stdout",
     "output_type": "stream",
     "text": [
      "100,102,104,106,108,110,112,114,116,118,120,122,124,126,128,130,132,134,136,138,140,142,144,146,148,150,152,154,156,158,160,162,164,166,168,170,172,174,176,178,180,182,184,186,188,190,192,194,196,198,200,202,204,206,208,210,212,214,216,218,220,222,224,226,228,230,232,234,236,238,240,242,244,246,248,250,252,254,256,258,260,262,264,266,268,270,272,274,276,278,280,282,284,286,288,290,292,294,296,298,300,302,304,306,308,310,312,314,316,318,320,322,324,326,328,330,332,334,336,338,340,342,344,346,348,350,352,354,356,358,360,362,364,366,368,370,372,374,376,378,380,382,384,386,388,390,392,394,396,398,400\n"
     ]
    }
   ],
   "source": [
    "result = []\n",
    "for i in range(100, 401):\n",
    "    if i % 2 == 0:\n",
    "        result.append(str(i))\n",
    "\n",
    "print(','.join(result))"
   ]
  },
  {
   "cell_type": "markdown",
   "id": "96ea5b6b-84f3-4d4f-8278-b03b36c6e1e6",
   "metadata": {},
   "source": [
    "1. Write a Python program to calculate a dog's age in dog years.\n",
    "Note: For the first two years, a dog year is equal to 10.5 human years. After that, each dog year equals 4 human years.\n",
    "\n",
    "Expected Output:\n",
    "\n",
    "Input a dog's age in human years: 15                                    \n",
    "The dog's age in dog's years is 73"
   ]
  },
  {
   "cell_type": "code",
   "execution_count": 32,
   "id": "aa728587-51d4-4b3e-b1a4-d140fe0c07ac",
   "metadata": {},
   "outputs": [
    {
     "name": "stdin",
     "output_type": "stream",
     "text": [
      "Input a dog's age in human years :  15\n"
     ]
    },
    {
     "name": "stdout",
     "output_type": "stream",
     "text": [
      "The dog's age in dog years is  73.0\n"
     ]
    }
   ],
   "source": [
    "humanYears = int(input(\"Input a dog's age in human years : \"))\n",
    "dogYears = 0\n",
    "\n",
    "if humanYears <= 0:\n",
    "    print('Invalid Age')\n",
    "elif humanYears <= 2:\n",
    "    dogYears = humanYears * 10.5\n",
    "else:\n",
    "    dogYears = (2 * 10.5) + ((humanYears - 2) * 4)\n",
    "\n",
    "print(\"The dog's age in dog years is \", dogYears)"
   ]
  },
  {
   "cell_type": "markdown",
   "id": "e4197531-5f94-4e13-a60e-b09fadbf42ea",
   "metadata": {},
   "source": [
    "32. Write a Python program to check whether an alphabet is a vowel or consonant."
   ]
  },
  {
   "cell_type": "code",
   "execution_count": 33,
   "id": "4f492d93-fc7c-4159-a972-c06ac02158c7",
   "metadata": {},
   "outputs": [
    {
     "name": "stdin",
     "output_type": "stream",
     "text": [
      "Input a letter of the alphabet:  k\n"
     ]
    },
    {
     "name": "stdout",
     "output_type": "stream",
     "text": [
      "k is a constant.\n"
     ]
    }
   ],
   "source": [
    "vowels = ['a','e','i','o','u','A','E','I','O','U']\n",
    "\n",
    "alph = input('Input a letter of the alphabet: ')\n",
    "if alph in vowels:\n",
    "    print(f'{alph} is a vowel.')\n",
    "else:\n",
    "    print(f'{alph} is a constant.')"
   ]
  },
  {
   "cell_type": "markdown",
   "id": "4cc7988a-88e4-4cfb-bda5-1f9e65351c02",
   "metadata": {},
   "source": [
    "33. Write a Python program to convert a month name to a number of days."
   ]
  },
  {
   "cell_type": "code",
   "execution_count": 34,
   "id": "2f36d9df-dbe1-456b-af96-00bbdb3494df",
   "metadata": {},
   "outputs": [
    {
     "name": "stdout",
     "output_type": "stream",
     "text": [
      "List of months: January, February, March, April, May, June, July, August, September, October, November, December\n"
     ]
    },
    {
     "name": "stdin",
     "output_type": "stream",
     "text": [
      "Input the name of Month:  December\n"
     ]
    },
    {
     "name": "stdout",
     "output_type": "stream",
     "text": [
      "No. of days: 30 days\n"
     ]
    }
   ],
   "source": [
    "print('List of months: January, February, March, April, May, June, July, August, September, October, November, December')\n",
    "month = input('Input the name of Month: ')\n",
    "\n",
    "if month == 'February':\n",
    "    print('No. of days: 28/29 days')\n",
    "elif month in ('January','March','May','July','September','November'):\n",
    "    print('No. of days: 31 days')\n",
    "elif month in ('April','June','August','October','December'):\n",
    "    print('No. of days: 30 days')\n",
    "else:\n",
    "    print('Invalid month')\n"
   ]
  },
  {
   "cell_type": "markdown",
   "id": "6fba7487-4915-4660-8af5-21ad9b2d0b32",
   "metadata": {},
   "source": [
    "34. Write a Python program to sum two integers. However, if the sum is between 15 and 20 it will return 20."
   ]
  },
  {
   "cell_type": "code",
   "execution_count": 35,
   "id": "a277e13b-b053-410b-bb98-363b80a9a842",
   "metadata": {},
   "outputs": [
    {
     "name": "stdout",
     "output_type": "stream",
     "text": [
      "9\n",
      "20\n"
     ]
    }
   ],
   "source": [
    "def sum_20(x, y):\n",
    "    sum = x + y\n",
    "    if sum > 15 and sum < 20:\n",
    "        sum = 20\n",
    "    return sum\n",
    "\n",
    "print(sum_20(5,4))\n",
    "print(sum_20(10,7))"
   ]
  },
  {
   "cell_type": "markdown",
   "id": "c6b18b7b-f29a-418e-ae6b-89fe9b1c37d2",
   "metadata": {},
   "source": [
    "35. Write a Python program that checks whether a string represents an integer or not.\n",
    "\n",
    "Expected Output:\n",
    "\n",
    "Input a string: Python                                                  \n",
    "The string is not an integer."
   ]
  },
  {
   "cell_type": "code",
   "execution_count": 41,
   "id": "d7b4c945-7245-4841-a652-42242ae01086",
   "metadata": {},
   "outputs": [
    {
     "name": "stdin",
     "output_type": "stream",
     "text": [
      "Input a string :  -56\n"
     ]
    },
    {
     "name": "stdout",
     "output_type": "stream",
     "text": [
      "The string is an integer.\n"
     ]
    }
   ],
   "source": [
    "input_string = input('Input a string : ')\n",
    "if input_string.strip().lstrip('-').isdigit():\n",
    "    print('The string is an integer.')\n",
    "else:\n",
    "    print('The string is not an integer.')"
   ]
  },
  {
   "cell_type": "markdown",
   "id": "6ad7feaa-462e-40dc-92b9-5f369999ff15",
   "metadata": {},
   "source": [
    "36. Write a Python program to check if a triangle is equilateral, isosceles or scalene.\n",
    "Note :\n",
    "An equilateral triangle is a triangle in which all three sides are equal.\n",
    "A scalene triangle is a triangle that has three unequal sides.\n",
    "An isosceles triangle is a triangle with (at least) two equal sides.\n",
    "\n",
    "Expected Output:\n",
    "\n",
    "Input lengths of the triangle sides:                                    \n",
    "x: 6                                                                    \n",
    "y: 8                                                                    \n",
    "z: 12                                                                   \n",
    "Scalene triangle "
   ]
  },
  {
   "cell_type": "code",
   "execution_count": 45,
   "id": "00d258d6-7b1a-4bca-9f28-5f109862571c",
   "metadata": {},
   "outputs": [
    {
     "name": "stdout",
     "output_type": "stream",
     "text": [
      "Input lengths of the triangle sides: \n"
     ]
    },
    {
     "name": "stdin",
     "output_type": "stream",
     "text": [
      "x :  6\n",
      "y :  8\n",
      "z :  6\n"
     ]
    },
    {
     "name": "stdout",
     "output_type": "stream",
     "text": [
      "Isosceles Triangle\n"
     ]
    }
   ],
   "source": [
    "print('Input lengths of the triangle sides: ')\n",
    "x = int(input('x : '))\n",
    "y = int(input('y : '))\n",
    "z = int(input('z : '))\n",
    "\n",
    "if x + y > z and y + z > x and x + z > y:\n",
    "    if x == y == z:\n",
    "        print('Equilateral Triangle')\n",
    "    elif x == y or y == z or x == z:\n",
    "        print('Isosceles Triangle')\n",
    "    else:\n",
    "        print('Scalene Triangle')"
   ]
  },
  {
   "cell_type": "markdown",
   "id": "81ebd058-709c-4651-8946-b87b52b5d8ba",
   "metadata": {},
   "source": [
    "37. Write a  Python program that reads two integers representing a month and day and prints the season for that month and day.\n",
    "Expected Output:\n",
    "\n",
    "Input the month (e.g. January, February etc.): july                     \n",
    "Input the day: 31                                                       \n",
    "Season is autumn "
   ]
  },
  {
   "cell_type": "code",
   "execution_count": 46,
   "id": "2ff999cd-8971-4f29-8891-a48811609bcc",
   "metadata": {},
   "outputs": [
    {
     "name": "stdin",
     "output_type": "stream",
     "text": [
      "Input the month :  July\n",
      "Input the day :  12\n"
     ]
    },
    {
     "name": "stdout",
     "output_type": "stream",
     "text": [
      "Season is  summer\n"
     ]
    }
   ],
   "source": [
    "month = input('Input the month : ')\n",
    "day = int(input('Input the day : '))\n",
    "\n",
    "if month in ('January', 'February', 'March'):\n",
    "    season = 'Winter'\n",
    "elif month in ('April', 'May', 'June'):\n",
    "    season = 'spring'\n",
    "elif month in ('July', 'August', 'September'):\n",
    "    season = 'summer'\n",
    "else:\n",
    "    season = 'autumn'\n",
    "\n",
    "if (month == 'March') and (day > 19):\n",
    "    season = 'spring'\n",
    "elif (month == 'June') and (day > 20):\n",
    "    season = 'summer'\n",
    "elif (month == 'September') and (day > 21):\n",
    "    season = 'autumn'\n",
    "elif (month == 'December') and (day > 20):\n",
    "    season = 'winter'\n",
    "\n",
    "print('Season is ',season)"
   ]
  },
  {
   "cell_type": "markdown",
   "id": "312e14da-71de-4a35-8c88-dc22dc0d8ae3",
   "metadata": {},
   "source": [
    "40. Write a Python program to find the median of three values.\n",
    "Expected Output:\n",
    "\n",
    "Input first number: 15                                                  \n",
    "Input second number: 26                                                 \n",
    "Input third number: 29                                                  \n",
    "The median is 26.0  "
   ]
  },
  {
   "cell_type": "code",
   "execution_count": 47,
   "id": "501d96bc-c36c-4b21-9916-19a4e4e0d4e8",
   "metadata": {},
   "outputs": [
    {
     "name": "stdin",
     "output_type": "stream",
     "text": [
      "Enter Values :  15\n",
      "Enter Values :  26\n",
      "Enter Values :  29\n"
     ]
    },
    {
     "name": "stdout",
     "output_type": "stream",
     "text": [
      "The median is  26\n"
     ]
    }
   ],
   "source": [
    "numbers = []\n",
    "for n in range(3):\n",
    "    n = int(input('Enter Values : '))\n",
    "    numbers.append(n)\n",
    "numbers.sort()\n",
    "print('The median is ',numbers[1])"
   ]
  },
  {
   "cell_type": "markdown",
   "id": "dea506da-3ddd-4f7a-b10f-2fb449273ebe",
   "metadata": {},
   "source": [
    "42. Write a Python program to calculate the sum and average of n integer numbers (input from the user). Input 0 to finish."
   ]
  },
  {
   "cell_type": "code",
   "execution_count": 53,
   "id": "73c5b23d-52f3-4cbd-9b73-d53620994270",
   "metadata": {},
   "outputs": [
    {
     "name": "stdin",
     "output_type": "stream",
     "text": [
      "Enter number of integers :  9\n",
      "Enter the value :  2\n",
      "Enter the value :  4\n",
      "Enter the value :  8\n",
      "Enter the value :  0\n"
     ]
    },
    {
     "name": "stdout",
     "output_type": "stream",
     "text": [
      "The sum is 14 and the average is 4.666666666666667\n"
     ]
    }
   ],
   "source": [
    "n = int(input('Enter number of integers : '))\n",
    "integer_values = []\n",
    "for i in range(n):\n",
    "    integer_val = int(input('Enter the value : '))\n",
    "    if integer_val == 0:\n",
    "        break\n",
    "    else:\n",
    "        integer_values.append(integer_val)\n",
    "    \n",
    "average_integers = sum(integer_values) / len(integer_values)    \n",
    "sum_integers = sum(integer_values)\n",
    "\n",
    "print(f'The sum is {sum_integers} and the average is {average_integers}')"
   ]
  },
  {
   "cell_type": "markdown",
   "id": "9db94122-e0e2-429c-8822-701436b6045b",
   "metadata": {},
   "source": [
    "43. Write a Python program to create the multiplication table (from 1 to 10) of a number."
   ]
  },
  {
   "cell_type": "code",
   "execution_count": 54,
   "id": "02144943-a765-48d5-972d-2e060e8a7d85",
   "metadata": {},
   "outputs": [
    {
     "name": "stdin",
     "output_type": "stream",
     "text": [
      "Input a number for multiplication :  6\n"
     ]
    },
    {
     "name": "stdout",
     "output_type": "stream",
     "text": [
      "6 x 1 = 6\n",
      "6 x 2 = 12\n",
      "6 x 3 = 18\n",
      "6 x 4 = 24\n",
      "6 x 5 = 30\n",
      "6 x 6 = 36\n",
      "6 x 7 = 42\n",
      "6 x 8 = 48\n",
      "6 x 9 = 54\n",
      "6 x 10 = 60\n"
     ]
    }
   ],
   "source": [
    "n = int(input('Input a number for multiplication : '))\n",
    "for i in range(1, 11):\n",
    "    print(f'{n} x {i} = {i * n}')"
   ]
  },
  {
   "cell_type": "markdown",
   "id": "cf2b6ca9-b675-4096-a4de-d0a702f4c3aa",
   "metadata": {},
   "source": [
    "44. Write a Python program to construct the following pattern, using a nested loop number."
   ]
  },
  {
   "cell_type": "code",
   "execution_count": 57,
   "id": "1d0e7303-dc4f-451a-9734-c44a9ecc1e38",
   "metadata": {},
   "outputs": [
    {
     "name": "stdout",
     "output_type": "stream",
     "text": [
      "1 \n",
      "2 2 \n",
      "3 3 3 \n",
      "4 4 4 4 \n",
      "5 5 5 5 5 \n",
      "6 6 6 6 6 6 \n",
      "7 7 7 7 7 7 7 \n",
      "8 8 8 8 8 8 8 8 \n",
      "9 9 9 9 9 9 9 9 9 \n"
     ]
    }
   ],
   "source": [
    "n = 9\n",
    "for i in range(1, n + 1):\n",
    "    for j in range(i):\n",
    "        print(i, end = ' ')\n",
    "    print()"
   ]
  },
  {
   "cell_type": "code",
   "execution_count": null,
   "id": "b7d9c731-f2bb-4452-a33b-55f2d53af644",
   "metadata": {},
   "outputs": [],
   "source": []
  },
  {
   "cell_type": "code",
   "execution_count": null,
   "id": "8357f388-da60-4b1f-8230-3dc883526d5a",
   "metadata": {},
   "outputs": [],
   "source": []
  },
  {
   "cell_type": "code",
   "execution_count": null,
   "id": "9164f35d-abfa-458a-886d-c22c6272d783",
   "metadata": {},
   "outputs": [],
   "source": []
  },
  {
   "cell_type": "code",
   "execution_count": null,
   "id": "46c3b529-9050-4258-97e7-e555a5c6d69f",
   "metadata": {},
   "outputs": [],
   "source": []
  },
  {
   "cell_type": "code",
   "execution_count": null,
   "id": "1575cf80-9d91-4c9e-aeba-faa0fedaa4a5",
   "metadata": {},
   "outputs": [],
   "source": []
  },
  {
   "cell_type": "code",
   "execution_count": null,
   "id": "2eaf1365-e168-48ad-b328-6f7c0ec8d1d0",
   "metadata": {},
   "outputs": [],
   "source": []
  },
  {
   "cell_type": "code",
   "execution_count": null,
   "id": "f8520a9d-02c5-4de6-a4c5-e8307ec5f069",
   "metadata": {},
   "outputs": [],
   "source": []
  },
  {
   "cell_type": "code",
   "execution_count": null,
   "id": "92f53aba-39ea-4410-b849-9083a2a2cc4c",
   "metadata": {},
   "outputs": [],
   "source": []
  },
  {
   "cell_type": "code",
   "execution_count": null,
   "id": "6e04588b-cdbd-44c5-bb64-3c5556a2e18d",
   "metadata": {},
   "outputs": [],
   "source": []
  },
  {
   "cell_type": "code",
   "execution_count": null,
   "id": "97903ea6-5fce-4578-9c22-12f37a4628a5",
   "metadata": {},
   "outputs": [],
   "source": []
  }
 ],
 "metadata": {
  "kernelspec": {
   "display_name": "Python 3 (ipykernel)",
   "language": "python",
   "name": "python3"
  },
  "language_info": {
   "codemirror_mode": {
    "name": "ipython",
    "version": 3
   },
   "file_extension": ".py",
   "mimetype": "text/x-python",
   "name": "python",
   "nbconvert_exporter": "python",
   "pygments_lexer": "ipython3",
   "version": "3.12.6"
  }
 },
 "nbformat": 4,
 "nbformat_minor": 5
}
